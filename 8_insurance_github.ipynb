{
 "cells": [
  {
   "cell_type": "markdown",
   "metadata": {},
   "source": [
    "# Защита персональных данных клиентов"
   ]
  },
  {
   "cell_type": "markdown",
   "metadata": {},
   "source": [
    "Вам нужно защитить данные клиентов страховой компании «Хоть потоп». Разработайте такой метод преобразования данных, чтобы по ним было сложно восстановить персональную информацию. Обоснуйте корректность его работы.\n",
    "\n",
    "Нужно защитить данные, чтобы при преобразовании качество моделей машинного обучения не ухудшилось. Подбирать наилучшую модель не требуется."
   ]
  },
  {
   "cell_type": "markdown",
   "metadata": {},
   "source": [
    "## Загрузка данных"
   ]
  },
  {
   "cell_type": "code",
   "execution_count": 1,
   "metadata": {},
   "outputs": [],
   "source": [
    "# импорт библиотек\n",
    "import pandas as pd\n",
    "import numpy as np\n",
    "\n",
    "from sklearn.linear_model import LinearRegression\n",
    "\n",
    "from sklearn.metrics import r2_score\n",
    "\n",
    "pd.options.mode.chained_assignment = None\n",
    "\n",
    "import seaborn as sns\n",
    "import os\n"
   ]
  },
  {
   "cell_type": "code",
   "execution_count": 2,
   "metadata": {},
   "outputs": [],
   "source": [
    "# загрузка данных\n",
    "if os.path.exists('/datasets/insurance.csv'):\n",
    "    df = pd.read_csv('/datasets/insurance.csv')\n",
    "\n",
    "else:\n",
    "    df = pd.read_csv('/Users/olesya/datasets/insurance.csv')\n"
   ]
  },
  {
   "cell_type": "code",
   "execution_count": 3,
   "metadata": {},
   "outputs": [
    {
     "data": {
      "text/html": [
       "<div>\n",
       "<style scoped>\n",
       "    .dataframe tbody tr th:only-of-type {\n",
       "        vertical-align: middle;\n",
       "    }\n",
       "\n",
       "    .dataframe tbody tr th {\n",
       "        vertical-align: top;\n",
       "    }\n",
       "\n",
       "    .dataframe thead th {\n",
       "        text-align: right;\n",
       "    }\n",
       "</style>\n",
       "<table border=\"1\" class=\"dataframe\">\n",
       "  <thead>\n",
       "    <tr style=\"text-align: right;\">\n",
       "      <th></th>\n",
       "      <th>Пол</th>\n",
       "      <th>Возраст</th>\n",
       "      <th>Зарплата</th>\n",
       "      <th>Члены семьи</th>\n",
       "      <th>Страховые выплаты</th>\n",
       "    </tr>\n",
       "  </thead>\n",
       "  <tbody>\n",
       "    <tr>\n",
       "      <th>0</th>\n",
       "      <td>1</td>\n",
       "      <td>41.0</td>\n",
       "      <td>49600.0</td>\n",
       "      <td>1</td>\n",
       "      <td>0</td>\n",
       "    </tr>\n",
       "    <tr>\n",
       "      <th>1</th>\n",
       "      <td>0</td>\n",
       "      <td>46.0</td>\n",
       "      <td>38000.0</td>\n",
       "      <td>1</td>\n",
       "      <td>1</td>\n",
       "    </tr>\n",
       "    <tr>\n",
       "      <th>2</th>\n",
       "      <td>0</td>\n",
       "      <td>29.0</td>\n",
       "      <td>21000.0</td>\n",
       "      <td>0</td>\n",
       "      <td>0</td>\n",
       "    </tr>\n",
       "    <tr>\n",
       "      <th>3</th>\n",
       "      <td>0</td>\n",
       "      <td>21.0</td>\n",
       "      <td>41700.0</td>\n",
       "      <td>2</td>\n",
       "      <td>0</td>\n",
       "    </tr>\n",
       "    <tr>\n",
       "      <th>4</th>\n",
       "      <td>1</td>\n",
       "      <td>28.0</td>\n",
       "      <td>26100.0</td>\n",
       "      <td>0</td>\n",
       "      <td>0</td>\n",
       "    </tr>\n",
       "  </tbody>\n",
       "</table>\n",
       "</div>"
      ],
      "text/plain": [
       "   Пол  Возраст  Зарплата  Члены семьи  Страховые выплаты\n",
       "0    1     41.0   49600.0            1                  0\n",
       "1    0     46.0   38000.0            1                  1\n",
       "2    0     29.0   21000.0            0                  0\n",
       "3    0     21.0   41700.0            2                  0\n",
       "4    1     28.0   26100.0            0                  0"
      ]
     },
     "execution_count": 3,
     "metadata": {},
     "output_type": "execute_result"
    }
   ],
   "source": [
    "df.head()"
   ]
  },
  {
   "cell_type": "code",
   "execution_count": 4,
   "metadata": {},
   "outputs": [
    {
     "name": "stdout",
     "output_type": "stream",
     "text": [
      "<class 'pandas.core.frame.DataFrame'>\n",
      "RangeIndex: 5000 entries, 0 to 4999\n",
      "Data columns (total 5 columns):\n",
      " #   Column             Non-Null Count  Dtype  \n",
      "---  ------             --------------  -----  \n",
      " 0   Пол                5000 non-null   int64  \n",
      " 1   Возраст            5000 non-null   float64\n",
      " 2   Зарплата           5000 non-null   float64\n",
      " 3   Члены семьи        5000 non-null   int64  \n",
      " 4   Страховые выплаты  5000 non-null   int64  \n",
      "dtypes: float64(2), int64(3)\n",
      "memory usage: 195.4 KB\n"
     ]
    }
   ],
   "source": [
    "df.info()"
   ]
  },
  {
   "cell_type": "markdown",
   "metadata": {},
   "source": [
    "Проверим данные на дубликаты."
   ]
  },
  {
   "cell_type": "code",
   "execution_count": 5,
   "metadata": {},
   "outputs": [
    {
     "data": {
      "text/plain": [
       "153"
      ]
     },
     "execution_count": 5,
     "metadata": {},
     "output_type": "execute_result"
    }
   ],
   "source": [
    "df.duplicated().sum()"
   ]
  },
  {
   "cell_type": "markdown",
   "metadata": {},
   "source": [
    "Итак: данные состоят из 5 колонок и 5000 строк, пропусков нет, но имеется 153 дубликата.\n",
    "Избавимся от дубликатов, так как совпадение по всем признакам крайне маловероятно."
   ]
  },
  {
   "cell_type": "code",
   "execution_count": 6,
   "metadata": {},
   "outputs": [
    {
     "data": {
      "text/plain": [
       "0"
      ]
     },
     "execution_count": 6,
     "metadata": {},
     "output_type": "execute_result"
    }
   ],
   "source": [
    "df.drop_duplicates(inplace=True)\n",
    "df.duplicated().sum()"
   ]
  },
  {
   "cell_type": "markdown",
   "metadata": {},
   "source": [
    "## Умножение матриц"
   ]
  },
  {
   "cell_type": "markdown",
   "metadata": {},
   "source": [
    "Обозначения:\n",
    "\n",
    "- $X$ — матрица признаков (нулевой столбец состоит из единиц)\n",
    "\n",
    "- $y$ — вектор целевого признака\n",
    "\n",
    "- $P$ — матрица, на которую умножаются признаки\n",
    "\n",
    "- $w$ — вектор весов линейной регрессии (нулевой элемент равен сдвигу)"
   ]
  },
  {
   "cell_type": "markdown",
   "metadata": {},
   "source": [
    "Предсказания:\n",
    "\n",
    "$$\n",
    "a = Xw\n",
    "$$\n",
    "\n",
    "Задача обучения:\n",
    "\n",
    "$$\n",
    "w = \\arg\\min_w MSE(Xw, y)\n",
    "$$\n",
    "\n",
    "Формула обучения:\n",
    "\n",
    "$$\n",
    "w = (X^T X)^{-1} X^T y\n",
    "$$"
   ]
  },
  {
   "cell_type": "markdown",
   "metadata": {},
   "source": [
    "**Постараемся ответить на вопрос:**\n",
    "\n",
    "**Признаки умножают на обратимую матрицу. Изменится ли качество линейной регрессии?**"
   ]
  },
  {
   "cell_type": "markdown",
   "metadata": {},
   "source": [
    "Чтобы доказать изменится ли качество линейной регрессии, нужно сравнить равенства \n",
    "$\n",
    "a = Xw\n",
    "$\n",
    "и \n",
    "$\n",
    "a_z = Zw_z\n",
    "$. Если равенства равны, то качество не изменится.\n",
    "\n",
    "Представим нашу новую матрицу признаков (Z) как результат умножения исходной матрицы признаков (Х) на некую обратимую матрицу (Р):\n",
    "\n",
    "$$\n",
    "Z = XP\n",
    "$$\n",
    "\n",
    "Тогда формула обучения примет вид:\n",
    "\n",
    "$$\n",
    "w_z = (Z^T Z)^{-1} Z^T y\n",
    "$$\n",
    "\n",
    "Теперь подставим в выражение значение Z:\n",
    "\n",
    "$$\n",
    "w_z = ((XP)^T (XP))^{-1} (XP)^T y\n",
    "$$\n",
    "\n",
    "Раскроем скобки:\n",
    "\n",
    "$$\n",
    "w_z = P^{-1} (X^T X)^{-1} (P^T)^{-1} P^T X^T y\n",
    "$$\n",
    "\n",
    "Воспользуемся следующими свойствами матриц:\n",
    "\n",
    "$$\n",
    "A A^{-1} = A^{-1} A = E =>   (P^T)^{-1} P^T = E\n",
    "$$\n",
    "\n",
    "$$\n",
    "AE = EA = A => E X^T = X^T\n",
    "$$\n",
    "\n",
    "Получим:\n",
    "\n",
    "$$\n",
    "w_z = P^{-1} w\n",
    "$$"
   ]
  },
  {
   "cell_type": "markdown",
   "metadata": {},
   "source": [
    "Подставим получившиеся значения в формулу предсказания: $𝑎_z = 𝑍 𝑤_𝑧$, где $Z = XP$,  $w_z = P^{-1} w$, получим:\n",
    "\n",
    "$$\n",
    "𝑎_z = XP P^{-1} w = Xw\n",
    "$$\n",
    "\n",
    "Тем самым доказали, что $a_z = a$"
   ]
  },
  {
   "cell_type": "markdown",
   "metadata": {},
   "source": [
    "**Ответ:** Следовательно качество линенйной регрессии не изменится."
   ]
  },
  {
   "cell_type": "markdown",
   "metadata": {},
   "source": [
    "## Алгоритм преобразования"
   ]
  },
  {
   "cell_type": "markdown",
   "metadata": {},
   "source": [
    "**Алгоритм**\n",
    "\n",
    "- Создадим случайную обратимую матрицу P, размерностью соответствующую количеству столбцов признаков (4х4). \n",
    "- Затем умножим матрицу с признаками X на матрицу P. \n",
    "- Посчитаем качество модели на полученной матрице и сравним с качеством модели на матрице исходных данных.\n"
   ]
  },
  {
   "cell_type": "markdown",
   "metadata": {},
   "source": [
    "**Обоснование**\n",
    "\n",
    "Как было доказано в пункте выше, качество линейной регрессии не изменится при умножении матрицы признаков на любую обратимую матрицу P. Поэтому можно следовать описанному выше алгоритму без опасения получить другой результат линейной регрессии."
   ]
  },
  {
   "cell_type": "markdown",
   "metadata": {},
   "source": [
    "## Проверка алгоритма"
   ]
  },
  {
   "cell_type": "markdown",
   "metadata": {},
   "source": [
    "Разделим данные на набор признаков и на целевой признакё"
   ]
  },
  {
   "cell_type": "code",
   "execution_count": 7,
   "metadata": {},
   "outputs": [],
   "source": [
    "# создание переменных для признаков и целевого признака\n",
    "features = df.drop('Страховые выплаты', axis=1)\n",
    "target = df['Страховые выплаты']"
   ]
  },
  {
   "cell_type": "markdown",
   "metadata": {},
   "source": [
    "Сгенерируем случайную матрицу размером 4х4 функцией numpy.random.normal(), в этом случае вероятность получить необратимую матрицу близка к нулю."
   ]
  },
  {
   "cell_type": "code",
   "execution_count": 8,
   "metadata": {},
   "outputs": [
    {
     "name": "stdout",
     "output_type": "stream",
     "text": [
      "[[ 0.49671415 -0.1382643   0.64768854  1.52302986]\n",
      " [-0.23415337 -0.23413696  1.57921282  0.76743473]\n",
      " [-0.46947439  0.54256004 -0.46341769 -0.46572975]\n",
      " [ 0.24196227 -1.91328024 -1.72491783 -0.56228753]]\n"
     ]
    }
   ],
   "source": [
    "np.random.seed(42)\n",
    "random_matrix = np.random.normal(size=(4, 4))\n",
    "\n",
    "print(random_matrix)"
   ]
  },
  {
   "cell_type": "markdown",
   "metadata": {},
   "source": [
    "Проверим матрицу на обратимость методом linalg.inv(). При использовании необратимой матрицы дальнейшая работа по описанному алгоритму невозможна. Если появится ошибка, то наша случайная матрица необратима."
   ]
  },
  {
   "cell_type": "code",
   "execution_count": 9,
   "metadata": {},
   "outputs": [
    {
     "data": {
      "text/plain": [
       "array([[-0.33124857, -1.0333483 , -2.21070923, -0.47651024],\n",
       "       [ 0.12864778, -0.47781825,  0.15271687, -0.43017975],\n",
       "       [-0.51338817,  0.33588835, -0.8347692 , -0.24072429],\n",
       "       [ 0.99462192,  0.15079316,  1.08985145,  0.21872535]])"
      ]
     },
     "execution_count": 9,
     "metadata": {},
     "output_type": "execute_result"
    }
   ],
   "source": [
    "np.linalg.inv(random_matrix)"
   ]
  },
  {
   "cell_type": "markdown",
   "metadata": {},
   "source": [
    "Отлично, созданная случайная матрица - обратима, значит идем дальше."
   ]
  },
  {
   "cell_type": "markdown",
   "metadata": {},
   "source": [
    "Создадим матрицу из исходных признаков"
   ]
  },
  {
   "cell_type": "code",
   "execution_count": 10,
   "metadata": {},
   "outputs": [
    {
     "name": "stdout",
     "output_type": "stream",
     "text": [
      "[[1.00e+00 4.10e+01 4.96e+04 1.00e+00]\n",
      " [0.00e+00 4.60e+01 3.80e+04 1.00e+00]\n",
      " [0.00e+00 2.90e+01 2.10e+04 0.00e+00]\n",
      " ...\n",
      " [0.00e+00 2.00e+01 3.39e+04 2.00e+00]\n",
      " [1.00e+00 2.20e+01 3.27e+04 3.00e+00]\n",
      " [1.00e+00 2.80e+01 4.06e+04 1.00e+00]]\n"
     ]
    }
   ],
   "source": [
    "matrix = features.values\n",
    "print(matrix)"
   ]
  },
  {
   "cell_type": "markdown",
   "metadata": {},
   "source": [
    "Перемножим исходную матрицу на сгенерированную matrix * random_matrix"
   ]
  },
  {
   "cell_type": "code",
   "execution_count": 11,
   "metadata": {},
   "outputs": [
    {
     "data": {
      "text/html": [
       "<div>\n",
       "<style scoped>\n",
       "    .dataframe tbody tr th:only-of-type {\n",
       "        vertical-align: middle;\n",
       "    }\n",
       "\n",
       "    .dataframe tbody tr th {\n",
       "        vertical-align: top;\n",
       "    }\n",
       "\n",
       "    .dataframe thead th {\n",
       "        text-align: right;\n",
       "    }\n",
       "</style>\n",
       "<table border=\"1\" class=\"dataframe\">\n",
       "  <thead>\n",
       "    <tr style=\"text-align: right;\">\n",
       "      <th></th>\n",
       "      <th>Пол</th>\n",
       "      <th>Возраст</th>\n",
       "      <th>Зарплата</th>\n",
       "      <th>Члены семьи</th>\n",
       "    </tr>\n",
       "  </thead>\n",
       "  <tbody>\n",
       "    <tr>\n",
       "      <th>0</th>\n",
       "      <td>-23294.791154</td>\n",
       "      <td>26899.327002</td>\n",
       "      <td>-22921.847067</td>\n",
       "      <td>-23067.770211</td>\n",
       "    </tr>\n",
       "    <tr>\n",
       "      <th>1</th>\n",
       "      <td>-17850.555758</td>\n",
       "      <td>20604.598076</td>\n",
       "      <td>-17538.953455</td>\n",
       "      <td>-17662.990926</td>\n",
       "    </tr>\n",
       "    <tr>\n",
       "      <th>2</th>\n",
       "      <td>-9865.752553</td>\n",
       "      <td>11386.970944</td>\n",
       "      <td>-9685.974377</td>\n",
       "      <td>-9758.069218</td>\n",
       "    </tr>\n",
       "    <tr>\n",
       "      <th>3</th>\n",
       "      <td>-19581.515190</td>\n",
       "      <td>22616.010381</td>\n",
       "      <td>-19294.804157</td>\n",
       "      <td>-19405.939170</td>\n",
       "    </tr>\n",
       "    <tr>\n",
       "      <th>4</th>\n",
       "      <td>-12259.341053</td>\n",
       "      <td>14154.123038</td>\n",
       "      <td>-12050.336135</td>\n",
       "      <td>-12132.535366</td>\n",
       "    </tr>\n",
       "    <tr>\n",
       "      <th>...</th>\n",
       "      <td>...</td>\n",
       "      <td>...</td>\n",
       "      <td>...</td>\n",
       "      <td>...</td>\n",
       "    </tr>\n",
       "    <tr>\n",
       "      <th>4842</th>\n",
       "      <td>-16766.307948</td>\n",
       "      <td>19359.011161</td>\n",
       "      <td>-16503.243510</td>\n",
       "      <td>-16606.188605</td>\n",
       "    </tr>\n",
       "    <tr>\n",
       "      <th>4843</th>\n",
       "      <td>-24608.177075</td>\n",
       "      <td>28420.272347</td>\n",
       "      <td>-24231.118785</td>\n",
       "      <td>-24378.708594</td>\n",
       "    </tr>\n",
       "    <tr>\n",
       "      <th>4844</th>\n",
       "      <td>-15919.380826</td>\n",
       "      <td>18384.276178</td>\n",
       "      <td>-15681.725366</td>\n",
       "      <td>-15774.014527</td>\n",
       "    </tr>\n",
       "    <tr>\n",
       "      <th>4845</th>\n",
       "      <td>-15355.741193</td>\n",
       "      <td>17730.684307</td>\n",
       "      <td>-15123.542938</td>\n",
       "      <td>-15212.643210</td>\n",
       "    </tr>\n",
       "    <tr>\n",
       "      <th>4846</th>\n",
       "      <td>-19066.477687</td>\n",
       "      <td>22019.330390</td>\n",
       "      <td>-18771.617599</td>\n",
       "      <td>-18886.179080</td>\n",
       "    </tr>\n",
       "  </tbody>\n",
       "</table>\n",
       "<p>4847 rows × 4 columns</p>\n",
       "</div>"
      ],
      "text/plain": [
       "               Пол       Возраст      Зарплата   Члены семьи\n",
       "0    -23294.791154  26899.327002 -22921.847067 -23067.770211\n",
       "1    -17850.555758  20604.598076 -17538.953455 -17662.990926\n",
       "2     -9865.752553  11386.970944  -9685.974377  -9758.069218\n",
       "3    -19581.515190  22616.010381 -19294.804157 -19405.939170\n",
       "4    -12259.341053  14154.123038 -12050.336135 -12132.535366\n",
       "...            ...           ...           ...           ...\n",
       "4842 -16766.307948  19359.011161 -16503.243510 -16606.188605\n",
       "4843 -24608.177075  28420.272347 -24231.118785 -24378.708594\n",
       "4844 -15919.380826  18384.276178 -15681.725366 -15774.014527\n",
       "4845 -15355.741193  17730.684307 -15123.542938 -15212.643210\n",
       "4846 -19066.477687  22019.330390 -18771.617599 -18886.179080\n",
       "\n",
       "[4847 rows x 4 columns]"
      ]
     },
     "metadata": {},
     "output_type": "display_data"
    }
   ],
   "source": [
    "# перемножение исходной матриы на новую сгенерированную матрицу\n",
    "matrix_new = matrix @ random_matrix\n",
    "# перевод матрицы в датафрейм и вывод на экран\n",
    "features_new = pd.DataFrame(matrix_new, columns=features.columns)\n",
    "display(features_new)"
   ]
  },
  {
   "cell_type": "markdown",
   "metadata": {},
   "source": [
    "Создадим класс LinearRegression для последующего обучения наших моделей"
   ]
  },
  {
   "cell_type": "code",
   "execution_count": 12,
   "metadata": {},
   "outputs": [],
   "source": [
    "# создание класса LinearRegression для обучения модели\n",
    "class LinearRegression:\n",
    "    def fit(self, train_features, train_target):\n",
    "        X = np.concatenate((np.ones((train_features.shape[0], 1)), train_features), axis=1)\n",
    "        y = train_target\n",
    "        w = np.linalg.inv(X.T@ X)@ X.T @ y\n",
    "        self.w = w[1:]\n",
    "        self.w0 = w[0]\n",
    "\n",
    "    def predict(self, test_features):\n",
    "        return test_features.dot(self.w) + self.w0  "
   ]
  },
  {
   "cell_type": "markdown",
   "metadata": {},
   "source": [
    "Обучим модель и проверим качество модели на исходных данных"
   ]
  },
  {
   "cell_type": "code",
   "execution_count": 13,
   "metadata": {},
   "outputs": [
    {
     "name": "stdout",
     "output_type": "stream",
     "text": [
      "0.4302010044852067\n"
     ]
    }
   ],
   "source": [
    "model = LinearRegression()\n",
    "model.fit(features, target)\n",
    "predictions = model.predict(features)\n",
    "\n",
    "print(r2_score(target, predictions))"
   ]
  },
  {
   "cell_type": "markdown",
   "metadata": {},
   "source": [
    "Обучим модель и проверим качество модели на закодированных данных"
   ]
  },
  {
   "cell_type": "code",
   "execution_count": 14,
   "metadata": {},
   "outputs": [
    {
     "name": "stdout",
     "output_type": "stream",
     "text": [
      "0.43020100448520104\n"
     ]
    }
   ],
   "source": [
    "model = LinearRegression()\n",
    "model.fit(features_new, target)\n",
    "predictions = model.predict(features_new)\n",
    "\n",
    "print(r2_score(target, predictions))"
   ]
  },
  {
   "cell_type": "markdown",
   "metadata": {},
   "source": [
    "<b>Вывод</b>\n",
    "\n",
    "Проверили качество модели на исходной матрице и закодированной. Таким образом доказали, что качество линейной регрессии не меняется при умножении матрицы признаков на любую обратимую матрицу P."
   ]
  },
  {
   "cell_type": "code",
   "execution_count": null,
   "metadata": {},
   "outputs": [],
   "source": []
  }
 ],
 "metadata": {
  "ExecuteTimeLog": [
   {
    "duration": 80,
    "start_time": "2022-07-15T11:41:06.152Z"
   },
   {
    "duration": 2563,
    "start_time": "2022-07-15T11:41:13.361Z"
   },
   {
    "duration": 97,
    "start_time": "2022-07-15T11:41:15.926Z"
   },
   {
    "duration": 13,
    "start_time": "2022-07-15T11:41:16.025Z"
   },
   {
    "duration": 12,
    "start_time": "2022-07-15T11:41:16.040Z"
   },
   {
    "duration": 28,
    "start_time": "2022-07-15T11:41:16.053Z"
   },
   {
    "duration": 18,
    "start_time": "2022-07-15T11:41:16.083Z"
   },
   {
    "duration": 5,
    "start_time": "2022-07-15T11:41:21.554Z"
   },
   {
    "duration": 5,
    "start_time": "2022-07-15T11:41:23.892Z"
   },
   {
    "duration": 29,
    "start_time": "2022-07-15T11:41:39.557Z"
   },
   {
    "duration": 5,
    "start_time": "2022-07-15T11:41:42.418Z"
   },
   {
    "duration": 16,
    "start_time": "2022-07-15T11:41:44.373Z"
   },
   {
    "duration": 5,
    "start_time": "2022-07-15T11:41:48.383Z"
   },
   {
    "duration": 27,
    "start_time": "2022-07-15T11:41:50.641Z"
   },
   {
    "duration": 9,
    "start_time": "2022-07-15T11:41:53.781Z"
   }
  ],
  "kernelspec": {
   "display_name": "Python 3 (ipykernel)",
   "language": "python",
   "name": "python3"
  },
  "language_info": {
   "codemirror_mode": {
    "name": "ipython",
    "version": 3
   },
   "file_extension": ".py",
   "mimetype": "text/x-python",
   "name": "python",
   "nbconvert_exporter": "python",
   "pygments_lexer": "ipython3",
   "version": "3.9.7"
  },
  "toc": {
   "base_numbering": 1,
   "nav_menu": {},
   "number_sections": true,
   "sideBar": true,
   "skip_h1_title": true,
   "title_cell": "Содержание",
   "title_sidebar": "Contents",
   "toc_cell": true,
   "toc_position": {},
   "toc_section_display": true,
   "toc_window_display": true
  }
 },
 "nbformat": 4,
 "nbformat_minor": 2
}
