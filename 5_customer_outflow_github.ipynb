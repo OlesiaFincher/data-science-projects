{
 "cells": [
  {
   "cell_type": "markdown",
   "metadata": {},
   "source": [
    "# Прогнозирование оттока клиентов из банка"
   ]
  },
  {
   "cell_type": "markdown",
   "metadata": {},
   "source": [
    "Из «Бета-Банка» стали уходить клиенты. Каждый месяц. Немного, но заметно. Банковские маркетологи посчитали: сохранять текущих клиентов дешевле, чем привлекать новых.\n",
    "\n",
    "Нужно спрогнозировать, уйдёт клиент из банка в ближайшее время или нет. Вам предоставлены исторические данные о поведении клиентов и расторжении договоров с банком. \n",
    "\n",
    "Постройте модель с предельно большим значением *F1*-меры. Чтобы сдать проект успешно, нужно довести метрику до 0.59. Проверьте *F1*-меру на тестовой выборке самостоятельно.\n",
    "\n",
    "Дополнительно измеряйте *AUC-ROC*, сравнивайте её значение с *F1*-мерой.\n",
    "\n",
    "Источник данных: [https://www.kaggle.com/barelydedicated/bank-customer-churn-modeling](https://www.kaggle.com/barelydedicated/bank-customer-churn-modeling)"
   ]
  },
  {
   "cell_type": "markdown",
   "metadata": {},
   "source": [
    "## Подготовка данных"
   ]
  },
  {
   "cell_type": "code",
   "execution_count": 54,
   "metadata": {},
   "outputs": [],
   "source": [
    "# импорт библиотек\n",
    "import pandas as pd\n",
    "import numpy as np\n",
    "\n",
    "from sklearn.tree import DecisionTreeClassifier\n",
    "from sklearn.ensemble import RandomForestClassifier\n",
    "from sklearn.linear_model import LogisticRegression\n",
    "\n",
    "from sklearn.model_selection import train_test_split\n",
    "from sklearn.metrics import accuracy_score, recall_score, precision_score, f1_score, roc_curve, roc_auc_score\n",
    "\n",
    "from sklearn.preprocessing import StandardScaler\n",
    "from sklearn.utils import shuffle\n",
    "import matplotlib.pyplot as plt\n",
    "\n",
    "\n",
    "pd.options.mode.chained_assignment = None\n",
    "\n",
    "import seaborn as sns\n",
    "import os"
   ]
  },
  {
   "cell_type": "code",
   "execution_count": 55,
   "metadata": {},
   "outputs": [],
   "source": [
    "# загрузка данных\n",
    "if os.path.exists('/datasets/Churn.csv'):\n",
    "    df = pd.read_csv('/datasets/Churn.csv')\n",
    "\n",
    "else:\n",
    "    df = pd.read_csv('/Users/olesya/datasets/Churn.csv')\n"
   ]
  },
  {
   "cell_type": "code",
   "execution_count": 56,
   "metadata": {
    "scrolled": false
   },
   "outputs": [
    {
     "name": "stdout",
     "output_type": "stream",
     "text": [
      "<class 'pandas.core.frame.DataFrame'>\n",
      "RangeIndex: 10000 entries, 0 to 9999\n",
      "Data columns (total 14 columns):\n",
      " #   Column           Non-Null Count  Dtype  \n",
      "---  ------           --------------  -----  \n",
      " 0   RowNumber        10000 non-null  int64  \n",
      " 1   CustomerId       10000 non-null  int64  \n",
      " 2   Surname          10000 non-null  object \n",
      " 3   CreditScore      10000 non-null  int64  \n",
      " 4   Geography        10000 non-null  object \n",
      " 5   Gender           10000 non-null  object \n",
      " 6   Age              10000 non-null  int64  \n",
      " 7   Tenure           9091 non-null   float64\n",
      " 8   Balance          10000 non-null  float64\n",
      " 9   NumOfProducts    10000 non-null  int64  \n",
      " 10  HasCrCard        10000 non-null  int64  \n",
      " 11  IsActiveMember   10000 non-null  int64  \n",
      " 12  EstimatedSalary  10000 non-null  float64\n",
      " 13  Exited           10000 non-null  int64  \n",
      "dtypes: float64(3), int64(8), object(3)\n",
      "memory usage: 1.1+ MB\n"
     ]
    }
   ],
   "source": [
    "# изучение таблицы\n",
    "df.info()\n"
   ]
  },
  {
   "cell_type": "code",
   "execution_count": 57,
   "metadata": {
    "scrolled": true
   },
   "outputs": [
    {
     "data": {
      "text/html": [
       "<div>\n",
       "<style scoped>\n",
       "    .dataframe tbody tr th:only-of-type {\n",
       "        vertical-align: middle;\n",
       "    }\n",
       "\n",
       "    .dataframe tbody tr th {\n",
       "        vertical-align: top;\n",
       "    }\n",
       "\n",
       "    .dataframe thead th {\n",
       "        text-align: right;\n",
       "    }\n",
       "</style>\n",
       "<table border=\"1\" class=\"dataframe\">\n",
       "  <thead>\n",
       "    <tr style=\"text-align: right;\">\n",
       "      <th></th>\n",
       "      <th>RowNumber</th>\n",
       "      <th>CustomerId</th>\n",
       "      <th>Surname</th>\n",
       "      <th>CreditScore</th>\n",
       "      <th>Geography</th>\n",
       "      <th>Gender</th>\n",
       "      <th>Age</th>\n",
       "      <th>Tenure</th>\n",
       "      <th>Balance</th>\n",
       "      <th>NumOfProducts</th>\n",
       "      <th>HasCrCard</th>\n",
       "      <th>IsActiveMember</th>\n",
       "      <th>EstimatedSalary</th>\n",
       "      <th>Exited</th>\n",
       "    </tr>\n",
       "  </thead>\n",
       "  <tbody>\n",
       "    <tr>\n",
       "      <th>0</th>\n",
       "      <td>1</td>\n",
       "      <td>15634602</td>\n",
       "      <td>Hargrave</td>\n",
       "      <td>619</td>\n",
       "      <td>France</td>\n",
       "      <td>Female</td>\n",
       "      <td>42</td>\n",
       "      <td>2.0</td>\n",
       "      <td>0.00</td>\n",
       "      <td>1</td>\n",
       "      <td>1</td>\n",
       "      <td>1</td>\n",
       "      <td>101348.88</td>\n",
       "      <td>1</td>\n",
       "    </tr>\n",
       "    <tr>\n",
       "      <th>1</th>\n",
       "      <td>2</td>\n",
       "      <td>15647311</td>\n",
       "      <td>Hill</td>\n",
       "      <td>608</td>\n",
       "      <td>Spain</td>\n",
       "      <td>Female</td>\n",
       "      <td>41</td>\n",
       "      <td>1.0</td>\n",
       "      <td>83807.86</td>\n",
       "      <td>1</td>\n",
       "      <td>0</td>\n",
       "      <td>1</td>\n",
       "      <td>112542.58</td>\n",
       "      <td>0</td>\n",
       "    </tr>\n",
       "    <tr>\n",
       "      <th>2</th>\n",
       "      <td>3</td>\n",
       "      <td>15619304</td>\n",
       "      <td>Onio</td>\n",
       "      <td>502</td>\n",
       "      <td>France</td>\n",
       "      <td>Female</td>\n",
       "      <td>42</td>\n",
       "      <td>8.0</td>\n",
       "      <td>159660.80</td>\n",
       "      <td>3</td>\n",
       "      <td>1</td>\n",
       "      <td>0</td>\n",
       "      <td>113931.57</td>\n",
       "      <td>1</td>\n",
       "    </tr>\n",
       "    <tr>\n",
       "      <th>3</th>\n",
       "      <td>4</td>\n",
       "      <td>15701354</td>\n",
       "      <td>Boni</td>\n",
       "      <td>699</td>\n",
       "      <td>France</td>\n",
       "      <td>Female</td>\n",
       "      <td>39</td>\n",
       "      <td>1.0</td>\n",
       "      <td>0.00</td>\n",
       "      <td>2</td>\n",
       "      <td>0</td>\n",
       "      <td>0</td>\n",
       "      <td>93826.63</td>\n",
       "      <td>0</td>\n",
       "    </tr>\n",
       "    <tr>\n",
       "      <th>4</th>\n",
       "      <td>5</td>\n",
       "      <td>15737888</td>\n",
       "      <td>Mitchell</td>\n",
       "      <td>850</td>\n",
       "      <td>Spain</td>\n",
       "      <td>Female</td>\n",
       "      <td>43</td>\n",
       "      <td>2.0</td>\n",
       "      <td>125510.82</td>\n",
       "      <td>1</td>\n",
       "      <td>1</td>\n",
       "      <td>1</td>\n",
       "      <td>79084.10</td>\n",
       "      <td>0</td>\n",
       "    </tr>\n",
       "    <tr>\n",
       "      <th>5</th>\n",
       "      <td>6</td>\n",
       "      <td>15574012</td>\n",
       "      <td>Chu</td>\n",
       "      <td>645</td>\n",
       "      <td>Spain</td>\n",
       "      <td>Male</td>\n",
       "      <td>44</td>\n",
       "      <td>8.0</td>\n",
       "      <td>113755.78</td>\n",
       "      <td>2</td>\n",
       "      <td>1</td>\n",
       "      <td>0</td>\n",
       "      <td>149756.71</td>\n",
       "      <td>1</td>\n",
       "    </tr>\n",
       "    <tr>\n",
       "      <th>6</th>\n",
       "      <td>7</td>\n",
       "      <td>15592531</td>\n",
       "      <td>Bartlett</td>\n",
       "      <td>822</td>\n",
       "      <td>France</td>\n",
       "      <td>Male</td>\n",
       "      <td>50</td>\n",
       "      <td>7.0</td>\n",
       "      <td>0.00</td>\n",
       "      <td>2</td>\n",
       "      <td>1</td>\n",
       "      <td>1</td>\n",
       "      <td>10062.80</td>\n",
       "      <td>0</td>\n",
       "    </tr>\n",
       "    <tr>\n",
       "      <th>7</th>\n",
       "      <td>8</td>\n",
       "      <td>15656148</td>\n",
       "      <td>Obinna</td>\n",
       "      <td>376</td>\n",
       "      <td>Germany</td>\n",
       "      <td>Female</td>\n",
       "      <td>29</td>\n",
       "      <td>4.0</td>\n",
       "      <td>115046.74</td>\n",
       "      <td>4</td>\n",
       "      <td>1</td>\n",
       "      <td>0</td>\n",
       "      <td>119346.88</td>\n",
       "      <td>1</td>\n",
       "    </tr>\n",
       "    <tr>\n",
       "      <th>8</th>\n",
       "      <td>9</td>\n",
       "      <td>15792365</td>\n",
       "      <td>He</td>\n",
       "      <td>501</td>\n",
       "      <td>France</td>\n",
       "      <td>Male</td>\n",
       "      <td>44</td>\n",
       "      <td>4.0</td>\n",
       "      <td>142051.07</td>\n",
       "      <td>2</td>\n",
       "      <td>0</td>\n",
       "      <td>1</td>\n",
       "      <td>74940.50</td>\n",
       "      <td>0</td>\n",
       "    </tr>\n",
       "    <tr>\n",
       "      <th>9</th>\n",
       "      <td>10</td>\n",
       "      <td>15592389</td>\n",
       "      <td>H?</td>\n",
       "      <td>684</td>\n",
       "      <td>France</td>\n",
       "      <td>Male</td>\n",
       "      <td>27</td>\n",
       "      <td>2.0</td>\n",
       "      <td>134603.88</td>\n",
       "      <td>1</td>\n",
       "      <td>1</td>\n",
       "      <td>1</td>\n",
       "      <td>71725.73</td>\n",
       "      <td>0</td>\n",
       "    </tr>\n",
       "  </tbody>\n",
       "</table>\n",
       "</div>"
      ],
      "text/plain": [
       "   RowNumber  CustomerId   Surname  CreditScore Geography  Gender  Age  \\\n",
       "0          1    15634602  Hargrave          619    France  Female   42   \n",
       "1          2    15647311      Hill          608     Spain  Female   41   \n",
       "2          3    15619304      Onio          502    France  Female   42   \n",
       "3          4    15701354      Boni          699    France  Female   39   \n",
       "4          5    15737888  Mitchell          850     Spain  Female   43   \n",
       "5          6    15574012       Chu          645     Spain    Male   44   \n",
       "6          7    15592531  Bartlett          822    France    Male   50   \n",
       "7          8    15656148    Obinna          376   Germany  Female   29   \n",
       "8          9    15792365        He          501    France    Male   44   \n",
       "9         10    15592389        H?          684    France    Male   27   \n",
       "\n",
       "   Tenure    Balance  NumOfProducts  HasCrCard  IsActiveMember  \\\n",
       "0     2.0       0.00              1          1               1   \n",
       "1     1.0   83807.86              1          0               1   \n",
       "2     8.0  159660.80              3          1               0   \n",
       "3     1.0       0.00              2          0               0   \n",
       "4     2.0  125510.82              1          1               1   \n",
       "5     8.0  113755.78              2          1               0   \n",
       "6     7.0       0.00              2          1               1   \n",
       "7     4.0  115046.74              4          1               0   \n",
       "8     4.0  142051.07              2          0               1   \n",
       "9     2.0  134603.88              1          1               1   \n",
       "\n",
       "   EstimatedSalary  Exited  \n",
       "0        101348.88       1  \n",
       "1        112542.58       0  \n",
       "2        113931.57       1  \n",
       "3         93826.63       0  \n",
       "4         79084.10       0  \n",
       "5        149756.71       1  \n",
       "6         10062.80       0  \n",
       "7        119346.88       1  \n",
       "8         74940.50       0  \n",
       "9         71725.73       0  "
      ]
     },
     "metadata": {},
     "output_type": "display_data"
    }
   ],
   "source": [
    "display(df.head(10))"
   ]
  },
  {
   "cell_type": "markdown",
   "metadata": {},
   "source": [
    "Видим особенности, которые могут помешать нам в дальнейшем исследовании:\n",
    "\n",
    "- NaN-значения в столбце Tenure\n",
    "- Категориальные признаки - столбцы Geography и Gender\n",
    "- Наличие излишних данных (столбцы RowNumber, CustomerId, Surname)."
   ]
  },
  {
   "cell_type": "markdown",
   "metadata": {},
   "source": [
    "Сперва попробуем обработать пропуски в столбце Tenure. Заменим пропуски на ноль, предположим, что люди менее года являются клиентами бакнка."
   ]
  },
  {
   "cell_type": "code",
   "execution_count": 58,
   "metadata": {},
   "outputs": [],
   "source": [
    "df['Tenure'].fillna(-1, inplace=True)\n",
    "#'.l m'"
   ]
  },
  {
   "cell_type": "code",
   "execution_count": 59,
   "metadata": {},
   "outputs": [],
   "source": [
    "# замена типа данных на float\n",
    "df.Tenure = df.Tenure.astype('object')"
   ]
  },
  {
   "cell_type": "markdown",
   "metadata": {},
   "source": [
    "Обоснованно удалим столбцы Surname, RowNumber и CustomerId, так как эти данные не повлияют на дальнейшее исследование. "
   ]
  },
  {
   "cell_type": "code",
   "execution_count": 60,
   "metadata": {},
   "outputs": [
    {
     "data": {
      "text/html": [
       "<div>\n",
       "<style scoped>\n",
       "    .dataframe tbody tr th:only-of-type {\n",
       "        vertical-align: middle;\n",
       "    }\n",
       "\n",
       "    .dataframe tbody tr th {\n",
       "        vertical-align: top;\n",
       "    }\n",
       "\n",
       "    .dataframe thead th {\n",
       "        text-align: right;\n",
       "    }\n",
       "</style>\n",
       "<table border=\"1\" class=\"dataframe\">\n",
       "  <thead>\n",
       "    <tr style=\"text-align: right;\">\n",
       "      <th></th>\n",
       "      <th>CreditScore</th>\n",
       "      <th>Geography</th>\n",
       "      <th>Gender</th>\n",
       "      <th>Age</th>\n",
       "      <th>Tenure</th>\n",
       "      <th>Balance</th>\n",
       "      <th>NumOfProducts</th>\n",
       "      <th>HasCrCard</th>\n",
       "      <th>IsActiveMember</th>\n",
       "      <th>EstimatedSalary</th>\n",
       "      <th>Exited</th>\n",
       "    </tr>\n",
       "  </thead>\n",
       "  <tbody>\n",
       "    <tr>\n",
       "      <th>0</th>\n",
       "      <td>619</td>\n",
       "      <td>France</td>\n",
       "      <td>Female</td>\n",
       "      <td>42</td>\n",
       "      <td>2.0</td>\n",
       "      <td>0.00</td>\n",
       "      <td>1</td>\n",
       "      <td>1</td>\n",
       "      <td>1</td>\n",
       "      <td>101348.88</td>\n",
       "      <td>1</td>\n",
       "    </tr>\n",
       "    <tr>\n",
       "      <th>1</th>\n",
       "      <td>608</td>\n",
       "      <td>Spain</td>\n",
       "      <td>Female</td>\n",
       "      <td>41</td>\n",
       "      <td>1.0</td>\n",
       "      <td>83807.86</td>\n",
       "      <td>1</td>\n",
       "      <td>0</td>\n",
       "      <td>1</td>\n",
       "      <td>112542.58</td>\n",
       "      <td>0</td>\n",
       "    </tr>\n",
       "    <tr>\n",
       "      <th>2</th>\n",
       "      <td>502</td>\n",
       "      <td>France</td>\n",
       "      <td>Female</td>\n",
       "      <td>42</td>\n",
       "      <td>8.0</td>\n",
       "      <td>159660.80</td>\n",
       "      <td>3</td>\n",
       "      <td>1</td>\n",
       "      <td>0</td>\n",
       "      <td>113931.57</td>\n",
       "      <td>1</td>\n",
       "    </tr>\n",
       "    <tr>\n",
       "      <th>3</th>\n",
       "      <td>699</td>\n",
       "      <td>France</td>\n",
       "      <td>Female</td>\n",
       "      <td>39</td>\n",
       "      <td>1.0</td>\n",
       "      <td>0.00</td>\n",
       "      <td>2</td>\n",
       "      <td>0</td>\n",
       "      <td>0</td>\n",
       "      <td>93826.63</td>\n",
       "      <td>0</td>\n",
       "    </tr>\n",
       "    <tr>\n",
       "      <th>4</th>\n",
       "      <td>850</td>\n",
       "      <td>Spain</td>\n",
       "      <td>Female</td>\n",
       "      <td>43</td>\n",
       "      <td>2.0</td>\n",
       "      <td>125510.82</td>\n",
       "      <td>1</td>\n",
       "      <td>1</td>\n",
       "      <td>1</td>\n",
       "      <td>79084.10</td>\n",
       "      <td>0</td>\n",
       "    </tr>\n",
       "  </tbody>\n",
       "</table>\n",
       "</div>"
      ],
      "text/plain": [
       "   CreditScore Geography  Gender  Age Tenure    Balance  NumOfProducts  \\\n",
       "0          619    France  Female   42    2.0       0.00              1   \n",
       "1          608     Spain  Female   41    1.0   83807.86              1   \n",
       "2          502    France  Female   42    8.0  159660.80              3   \n",
       "3          699    France  Female   39    1.0       0.00              2   \n",
       "4          850     Spain  Female   43    2.0  125510.82              1   \n",
       "\n",
       "   HasCrCard  IsActiveMember  EstimatedSalary  Exited  \n",
       "0          1               1        101348.88       1  \n",
       "1          0               1        112542.58       0  \n",
       "2          1               0        113931.57       1  \n",
       "3          0               0         93826.63       0  \n",
       "4          1               1         79084.10       0  "
      ]
     },
     "execution_count": 60,
     "metadata": {},
     "output_type": "execute_result"
    }
   ],
   "source": [
    "# Удаление столбцов\n",
    "df = df.drop(['Surname', 'RowNumber', 'CustomerId'], axis=1)\n",
    "df.head()"
   ]
  },
  {
   "cell_type": "markdown",
   "metadata": {},
   "source": [
    "Преобразуем категориальные признаки в численные техникой прямого кодирования"
   ]
  },
  {
   "cell_type": "code",
   "execution_count": 61,
   "metadata": {},
   "outputs": [
    {
     "data": {
      "text/html": [
       "<div>\n",
       "<style scoped>\n",
       "    .dataframe tbody tr th:only-of-type {\n",
       "        vertical-align: middle;\n",
       "    }\n",
       "\n",
       "    .dataframe tbody tr th {\n",
       "        vertical-align: top;\n",
       "    }\n",
       "\n",
       "    .dataframe thead th {\n",
       "        text-align: right;\n",
       "    }\n",
       "</style>\n",
       "<table border=\"1\" class=\"dataframe\">\n",
       "  <thead>\n",
       "    <tr style=\"text-align: right;\">\n",
       "      <th></th>\n",
       "      <th>CreditScore</th>\n",
       "      <th>Age</th>\n",
       "      <th>Balance</th>\n",
       "      <th>NumOfProducts</th>\n",
       "      <th>HasCrCard</th>\n",
       "      <th>IsActiveMember</th>\n",
       "      <th>EstimatedSalary</th>\n",
       "      <th>Exited</th>\n",
       "      <th>Geography_Germany</th>\n",
       "      <th>Geography_Spain</th>\n",
       "      <th>...</th>\n",
       "      <th>Tenure_1.0</th>\n",
       "      <th>Tenure_2.0</th>\n",
       "      <th>Tenure_3.0</th>\n",
       "      <th>Tenure_4.0</th>\n",
       "      <th>Tenure_5.0</th>\n",
       "      <th>Tenure_6.0</th>\n",
       "      <th>Tenure_7.0</th>\n",
       "      <th>Tenure_8.0</th>\n",
       "      <th>Tenure_9.0</th>\n",
       "      <th>Tenure_10.0</th>\n",
       "    </tr>\n",
       "  </thead>\n",
       "  <tbody>\n",
       "    <tr>\n",
       "      <th>0</th>\n",
       "      <td>619</td>\n",
       "      <td>42</td>\n",
       "      <td>0.00</td>\n",
       "      <td>1</td>\n",
       "      <td>1</td>\n",
       "      <td>1</td>\n",
       "      <td>101348.88</td>\n",
       "      <td>1</td>\n",
       "      <td>0</td>\n",
       "      <td>0</td>\n",
       "      <td>...</td>\n",
       "      <td>0</td>\n",
       "      <td>1</td>\n",
       "      <td>0</td>\n",
       "      <td>0</td>\n",
       "      <td>0</td>\n",
       "      <td>0</td>\n",
       "      <td>0</td>\n",
       "      <td>0</td>\n",
       "      <td>0</td>\n",
       "      <td>0</td>\n",
       "    </tr>\n",
       "    <tr>\n",
       "      <th>1</th>\n",
       "      <td>608</td>\n",
       "      <td>41</td>\n",
       "      <td>83807.86</td>\n",
       "      <td>1</td>\n",
       "      <td>0</td>\n",
       "      <td>1</td>\n",
       "      <td>112542.58</td>\n",
       "      <td>0</td>\n",
       "      <td>0</td>\n",
       "      <td>1</td>\n",
       "      <td>...</td>\n",
       "      <td>1</td>\n",
       "      <td>0</td>\n",
       "      <td>0</td>\n",
       "      <td>0</td>\n",
       "      <td>0</td>\n",
       "      <td>0</td>\n",
       "      <td>0</td>\n",
       "      <td>0</td>\n",
       "      <td>0</td>\n",
       "      <td>0</td>\n",
       "    </tr>\n",
       "    <tr>\n",
       "      <th>2</th>\n",
       "      <td>502</td>\n",
       "      <td>42</td>\n",
       "      <td>159660.80</td>\n",
       "      <td>3</td>\n",
       "      <td>1</td>\n",
       "      <td>0</td>\n",
       "      <td>113931.57</td>\n",
       "      <td>1</td>\n",
       "      <td>0</td>\n",
       "      <td>0</td>\n",
       "      <td>...</td>\n",
       "      <td>0</td>\n",
       "      <td>0</td>\n",
       "      <td>0</td>\n",
       "      <td>0</td>\n",
       "      <td>0</td>\n",
       "      <td>0</td>\n",
       "      <td>0</td>\n",
       "      <td>1</td>\n",
       "      <td>0</td>\n",
       "      <td>0</td>\n",
       "    </tr>\n",
       "    <tr>\n",
       "      <th>3</th>\n",
       "      <td>699</td>\n",
       "      <td>39</td>\n",
       "      <td>0.00</td>\n",
       "      <td>2</td>\n",
       "      <td>0</td>\n",
       "      <td>0</td>\n",
       "      <td>93826.63</td>\n",
       "      <td>0</td>\n",
       "      <td>0</td>\n",
       "      <td>0</td>\n",
       "      <td>...</td>\n",
       "      <td>1</td>\n",
       "      <td>0</td>\n",
       "      <td>0</td>\n",
       "      <td>0</td>\n",
       "      <td>0</td>\n",
       "      <td>0</td>\n",
       "      <td>0</td>\n",
       "      <td>0</td>\n",
       "      <td>0</td>\n",
       "      <td>0</td>\n",
       "    </tr>\n",
       "    <tr>\n",
       "      <th>4</th>\n",
       "      <td>850</td>\n",
       "      <td>43</td>\n",
       "      <td>125510.82</td>\n",
       "      <td>1</td>\n",
       "      <td>1</td>\n",
       "      <td>1</td>\n",
       "      <td>79084.10</td>\n",
       "      <td>0</td>\n",
       "      <td>0</td>\n",
       "      <td>1</td>\n",
       "      <td>...</td>\n",
       "      <td>0</td>\n",
       "      <td>1</td>\n",
       "      <td>0</td>\n",
       "      <td>0</td>\n",
       "      <td>0</td>\n",
       "      <td>0</td>\n",
       "      <td>0</td>\n",
       "      <td>0</td>\n",
       "      <td>0</td>\n",
       "      <td>0</td>\n",
       "    </tr>\n",
       "    <tr>\n",
       "      <th>5</th>\n",
       "      <td>645</td>\n",
       "      <td>44</td>\n",
       "      <td>113755.78</td>\n",
       "      <td>2</td>\n",
       "      <td>1</td>\n",
       "      <td>0</td>\n",
       "      <td>149756.71</td>\n",
       "      <td>1</td>\n",
       "      <td>0</td>\n",
       "      <td>1</td>\n",
       "      <td>...</td>\n",
       "      <td>0</td>\n",
       "      <td>0</td>\n",
       "      <td>0</td>\n",
       "      <td>0</td>\n",
       "      <td>0</td>\n",
       "      <td>0</td>\n",
       "      <td>0</td>\n",
       "      <td>1</td>\n",
       "      <td>0</td>\n",
       "      <td>0</td>\n",
       "    </tr>\n",
       "    <tr>\n",
       "      <th>6</th>\n",
       "      <td>822</td>\n",
       "      <td>50</td>\n",
       "      <td>0.00</td>\n",
       "      <td>2</td>\n",
       "      <td>1</td>\n",
       "      <td>1</td>\n",
       "      <td>10062.80</td>\n",
       "      <td>0</td>\n",
       "      <td>0</td>\n",
       "      <td>0</td>\n",
       "      <td>...</td>\n",
       "      <td>0</td>\n",
       "      <td>0</td>\n",
       "      <td>0</td>\n",
       "      <td>0</td>\n",
       "      <td>0</td>\n",
       "      <td>0</td>\n",
       "      <td>1</td>\n",
       "      <td>0</td>\n",
       "      <td>0</td>\n",
       "      <td>0</td>\n",
       "    </tr>\n",
       "    <tr>\n",
       "      <th>7</th>\n",
       "      <td>376</td>\n",
       "      <td>29</td>\n",
       "      <td>115046.74</td>\n",
       "      <td>4</td>\n",
       "      <td>1</td>\n",
       "      <td>0</td>\n",
       "      <td>119346.88</td>\n",
       "      <td>1</td>\n",
       "      <td>1</td>\n",
       "      <td>0</td>\n",
       "      <td>...</td>\n",
       "      <td>0</td>\n",
       "      <td>0</td>\n",
       "      <td>0</td>\n",
       "      <td>1</td>\n",
       "      <td>0</td>\n",
       "      <td>0</td>\n",
       "      <td>0</td>\n",
       "      <td>0</td>\n",
       "      <td>0</td>\n",
       "      <td>0</td>\n",
       "    </tr>\n",
       "    <tr>\n",
       "      <th>8</th>\n",
       "      <td>501</td>\n",
       "      <td>44</td>\n",
       "      <td>142051.07</td>\n",
       "      <td>2</td>\n",
       "      <td>0</td>\n",
       "      <td>1</td>\n",
       "      <td>74940.50</td>\n",
       "      <td>0</td>\n",
       "      <td>0</td>\n",
       "      <td>0</td>\n",
       "      <td>...</td>\n",
       "      <td>0</td>\n",
       "      <td>0</td>\n",
       "      <td>0</td>\n",
       "      <td>1</td>\n",
       "      <td>0</td>\n",
       "      <td>0</td>\n",
       "      <td>0</td>\n",
       "      <td>0</td>\n",
       "      <td>0</td>\n",
       "      <td>0</td>\n",
       "    </tr>\n",
       "    <tr>\n",
       "      <th>9</th>\n",
       "      <td>684</td>\n",
       "      <td>27</td>\n",
       "      <td>134603.88</td>\n",
       "      <td>1</td>\n",
       "      <td>1</td>\n",
       "      <td>1</td>\n",
       "      <td>71725.73</td>\n",
       "      <td>0</td>\n",
       "      <td>0</td>\n",
       "      <td>0</td>\n",
       "      <td>...</td>\n",
       "      <td>0</td>\n",
       "      <td>1</td>\n",
       "      <td>0</td>\n",
       "      <td>0</td>\n",
       "      <td>0</td>\n",
       "      <td>0</td>\n",
       "      <td>0</td>\n",
       "      <td>0</td>\n",
       "      <td>0</td>\n",
       "      <td>0</td>\n",
       "    </tr>\n",
       "  </tbody>\n",
       "</table>\n",
       "<p>10 rows × 22 columns</p>\n",
       "</div>"
      ],
      "text/plain": [
       "   CreditScore  Age    Balance  NumOfProducts  HasCrCard  IsActiveMember  \\\n",
       "0          619   42       0.00              1          1               1   \n",
       "1          608   41   83807.86              1          0               1   \n",
       "2          502   42  159660.80              3          1               0   \n",
       "3          699   39       0.00              2          0               0   \n",
       "4          850   43  125510.82              1          1               1   \n",
       "5          645   44  113755.78              2          1               0   \n",
       "6          822   50       0.00              2          1               1   \n",
       "7          376   29  115046.74              4          1               0   \n",
       "8          501   44  142051.07              2          0               1   \n",
       "9          684   27  134603.88              1          1               1   \n",
       "\n",
       "   EstimatedSalary  Exited  Geography_Germany  Geography_Spain  ...  \\\n",
       "0        101348.88       1                  0                0  ...   \n",
       "1        112542.58       0                  0                1  ...   \n",
       "2        113931.57       1                  0                0  ...   \n",
       "3         93826.63       0                  0                0  ...   \n",
       "4         79084.10       0                  0                1  ...   \n",
       "5        149756.71       1                  0                1  ...   \n",
       "6         10062.80       0                  0                0  ...   \n",
       "7        119346.88       1                  1                0  ...   \n",
       "8         74940.50       0                  0                0  ...   \n",
       "9         71725.73       0                  0                0  ...   \n",
       "\n",
       "   Tenure_1.0  Tenure_2.0  Tenure_3.0  Tenure_4.0  Tenure_5.0  Tenure_6.0  \\\n",
       "0           0           1           0           0           0           0   \n",
       "1           1           0           0           0           0           0   \n",
       "2           0           0           0           0           0           0   \n",
       "3           1           0           0           0           0           0   \n",
       "4           0           1           0           0           0           0   \n",
       "5           0           0           0           0           0           0   \n",
       "6           0           0           0           0           0           0   \n",
       "7           0           0           0           1           0           0   \n",
       "8           0           0           0           1           0           0   \n",
       "9           0           1           0           0           0           0   \n",
       "\n",
       "   Tenure_7.0  Tenure_8.0  Tenure_9.0  Tenure_10.0  \n",
       "0           0           0           0            0  \n",
       "1           0           0           0            0  \n",
       "2           0           1           0            0  \n",
       "3           0           0           0            0  \n",
       "4           0           0           0            0  \n",
       "5           0           1           0            0  \n",
       "6           1           0           0            0  \n",
       "7           0           0           0            0  \n",
       "8           0           0           0            0  \n",
       "9           0           0           0            0  \n",
       "\n",
       "[10 rows x 22 columns]"
      ]
     },
     "metadata": {},
     "output_type": "display_data"
    }
   ],
   "source": [
    "# применение прямого кодирования техникой OHE\n",
    "data_ohe = pd.get_dummies(df, drop_first=True)\n",
    "display(data_ohe.head(10))"
   ]
  },
  {
   "cell_type": "markdown",
   "metadata": {},
   "source": [
    "Разделим данные на обучающую, валидационную и тестовую выборки в пропорциях (60%, 20% и 20%)"
   ]
  },
  {
   "cell_type": "code",
   "execution_count": 62,
   "metadata": {},
   "outputs": [],
   "source": [
    "# создание переменных для признаков и целевого признака для обучающей выборки\n",
    "target = data_ohe['Exited']\n",
    "features = data_ohe.drop('Exited', axis=1)"
   ]
  },
  {
   "cell_type": "code",
   "execution_count": 63,
   "metadata": {},
   "outputs": [
    {
     "name": "stdout",
     "output_type": "stream",
     "text": [
      "(6000, 21)\n",
      "(2000, 21)\n",
      "(2000, 21)\n"
     ]
    }
   ],
   "source": [
    "# деление данных на обучающую, валидационную и тестовую выборки\n",
    "features_train, features_rest, target_train, target_rest = train_test_split(features, target, test_size=0.4, random_state=12345)\n",
    "features_valid, features_test, target_valid, target_test = train_test_split(features_rest, target_rest, test_size=0.5, random_state=12345)\n",
    "\n",
    "print(features_train.shape)\n",
    "print(features_valid.shape)\n",
    "print(features_test.shape)\n"
   ]
  },
  {
   "cell_type": "markdown",
   "metadata": {},
   "source": [
    "Маштабируем данные методом стандартизации"
   ]
  },
  {
   "cell_type": "code",
   "execution_count": 64,
   "metadata": {},
   "outputs": [],
   "source": [
    "numeric = ['CreditScore', 'Age', 'Balance', 'EstimatedSalary']\n"
   ]
  },
  {
   "cell_type": "code",
   "execution_count": 65,
   "metadata": {
    "scrolled": true
   },
   "outputs": [
    {
     "data": {
      "text/html": [
       "<div>\n",
       "<style scoped>\n",
       "    .dataframe tbody tr th:only-of-type {\n",
       "        vertical-align: middle;\n",
       "    }\n",
       "\n",
       "    .dataframe tbody tr th {\n",
       "        vertical-align: top;\n",
       "    }\n",
       "\n",
       "    .dataframe thead th {\n",
       "        text-align: right;\n",
       "    }\n",
       "</style>\n",
       "<table border=\"1\" class=\"dataframe\">\n",
       "  <thead>\n",
       "    <tr style=\"text-align: right;\">\n",
       "      <th></th>\n",
       "      <th>CreditScore</th>\n",
       "      <th>Age</th>\n",
       "      <th>Balance</th>\n",
       "      <th>NumOfProducts</th>\n",
       "      <th>HasCrCard</th>\n",
       "      <th>IsActiveMember</th>\n",
       "      <th>EstimatedSalary</th>\n",
       "      <th>Geography_Germany</th>\n",
       "      <th>Geography_Spain</th>\n",
       "      <th>Gender_Male</th>\n",
       "      <th>...</th>\n",
       "      <th>Tenure_1.0</th>\n",
       "      <th>Tenure_2.0</th>\n",
       "      <th>Tenure_3.0</th>\n",
       "      <th>Tenure_4.0</th>\n",
       "      <th>Tenure_5.0</th>\n",
       "      <th>Tenure_6.0</th>\n",
       "      <th>Tenure_7.0</th>\n",
       "      <th>Tenure_8.0</th>\n",
       "      <th>Tenure_9.0</th>\n",
       "      <th>Tenure_10.0</th>\n",
       "    </tr>\n",
       "  </thead>\n",
       "  <tbody>\n",
       "    <tr>\n",
       "      <th>7479</th>\n",
       "      <td>-0.886751</td>\n",
       "      <td>-0.373192</td>\n",
       "      <td>1.232271</td>\n",
       "      <td>1</td>\n",
       "      <td>1</td>\n",
       "      <td>0</td>\n",
       "      <td>-0.187705</td>\n",
       "      <td>0</td>\n",
       "      <td>1</td>\n",
       "      <td>1</td>\n",
       "      <td>...</td>\n",
       "      <td>0</td>\n",
       "      <td>0</td>\n",
       "      <td>0</td>\n",
       "      <td>0</td>\n",
       "      <td>0</td>\n",
       "      <td>0</td>\n",
       "      <td>0</td>\n",
       "      <td>1</td>\n",
       "      <td>0</td>\n",
       "      <td>0</td>\n",
       "    </tr>\n",
       "    <tr>\n",
       "      <th>3411</th>\n",
       "      <td>0.608663</td>\n",
       "      <td>-0.183385</td>\n",
       "      <td>0.600563</td>\n",
       "      <td>1</td>\n",
       "      <td>0</td>\n",
       "      <td>0</td>\n",
       "      <td>-0.333945</td>\n",
       "      <td>0</td>\n",
       "      <td>0</td>\n",
       "      <td>0</td>\n",
       "      <td>...</td>\n",
       "      <td>0</td>\n",
       "      <td>0</td>\n",
       "      <td>0</td>\n",
       "      <td>0</td>\n",
       "      <td>0</td>\n",
       "      <td>0</td>\n",
       "      <td>0</td>\n",
       "      <td>1</td>\n",
       "      <td>0</td>\n",
       "      <td>0</td>\n",
       "    </tr>\n",
       "    <tr>\n",
       "      <th>6027</th>\n",
       "      <td>2.052152</td>\n",
       "      <td>0.480939</td>\n",
       "      <td>1.027098</td>\n",
       "      <td>2</td>\n",
       "      <td>0</td>\n",
       "      <td>1</td>\n",
       "      <td>1.503095</td>\n",
       "      <td>1</td>\n",
       "      <td>0</td>\n",
       "      <td>1</td>\n",
       "      <td>...</td>\n",
       "      <td>0</td>\n",
       "      <td>0</td>\n",
       "      <td>1</td>\n",
       "      <td>0</td>\n",
       "      <td>0</td>\n",
       "      <td>0</td>\n",
       "      <td>0</td>\n",
       "      <td>0</td>\n",
       "      <td>0</td>\n",
       "      <td>0</td>\n",
       "    </tr>\n",
       "    <tr>\n",
       "      <th>1247</th>\n",
       "      <td>-1.457915</td>\n",
       "      <td>-1.417129</td>\n",
       "      <td>-1.233163</td>\n",
       "      <td>2</td>\n",
       "      <td>1</td>\n",
       "      <td>0</td>\n",
       "      <td>-1.071061</td>\n",
       "      <td>0</td>\n",
       "      <td>0</td>\n",
       "      <td>1</td>\n",
       "      <td>...</td>\n",
       "      <td>0</td>\n",
       "      <td>0</td>\n",
       "      <td>0</td>\n",
       "      <td>0</td>\n",
       "      <td>0</td>\n",
       "      <td>1</td>\n",
       "      <td>0</td>\n",
       "      <td>0</td>\n",
       "      <td>0</td>\n",
       "      <td>0</td>\n",
       "    </tr>\n",
       "    <tr>\n",
       "      <th>3716</th>\n",
       "      <td>0.130961</td>\n",
       "      <td>-1.132419</td>\n",
       "      <td>1.140475</td>\n",
       "      <td>1</td>\n",
       "      <td>0</td>\n",
       "      <td>0</td>\n",
       "      <td>1.524268</td>\n",
       "      <td>1</td>\n",
       "      <td>0</td>\n",
       "      <td>0</td>\n",
       "      <td>...</td>\n",
       "      <td>0</td>\n",
       "      <td>1</td>\n",
       "      <td>0</td>\n",
       "      <td>0</td>\n",
       "      <td>0</td>\n",
       "      <td>0</td>\n",
       "      <td>0</td>\n",
       "      <td>0</td>\n",
       "      <td>0</td>\n",
       "      <td>0</td>\n",
       "    </tr>\n",
       "  </tbody>\n",
       "</table>\n",
       "<p>5 rows × 21 columns</p>\n",
       "</div>"
      ],
      "text/plain": [
       "      CreditScore       Age   Balance  NumOfProducts  HasCrCard  \\\n",
       "7479    -0.886751 -0.373192  1.232271              1          1   \n",
       "3411     0.608663 -0.183385  0.600563              1          0   \n",
       "6027     2.052152  0.480939  1.027098              2          0   \n",
       "1247    -1.457915 -1.417129 -1.233163              2          1   \n",
       "3716     0.130961 -1.132419  1.140475              1          0   \n",
       "\n",
       "      IsActiveMember  EstimatedSalary  Geography_Germany  Geography_Spain  \\\n",
       "7479               0        -0.187705                  0                1   \n",
       "3411               0        -0.333945                  0                0   \n",
       "6027               1         1.503095                  1                0   \n",
       "1247               0        -1.071061                  0                0   \n",
       "3716               0         1.524268                  1                0   \n",
       "\n",
       "      Gender_Male  ...  Tenure_1.0  Tenure_2.0  Tenure_3.0  Tenure_4.0  \\\n",
       "7479            1  ...           0           0           0           0   \n",
       "3411            0  ...           0           0           0           0   \n",
       "6027            1  ...           0           0           1           0   \n",
       "1247            1  ...           0           0           0           0   \n",
       "3716            0  ...           0           1           0           0   \n",
       "\n",
       "      Tenure_5.0  Tenure_6.0  Tenure_7.0  Tenure_8.0  Tenure_9.0  Tenure_10.0  \n",
       "7479           0           0           0           1           0            0  \n",
       "3411           0           0           0           1           0            0  \n",
       "6027           0           0           0           0           0            0  \n",
       "1247           0           1           0           0           0            0  \n",
       "3716           0           0           0           0           0            0  \n",
       "\n",
       "[5 rows x 21 columns]"
      ]
     },
     "execution_count": 65,
     "metadata": {},
     "output_type": "execute_result"
    }
   ],
   "source": [
    "scaler =  StandardScaler()\n",
    "scaler.fit(features_train[numeric])\n",
    "\n",
    "features_train[numeric] = scaler.transform(features_train[numeric])\n",
    "features_valid[numeric] = scaler.transform(features_valid[numeric])\n",
    "features_test[numeric] = scaler.transform(features_test[numeric])\n",
    "\n",
    "features_train.head()"
   ]
  },
  {
   "cell_type": "markdown",
   "metadata": {},
   "source": [
    "<b>Вывод</b>\n",
    "\n",
    "- oзнакомились с данными,\n",
    "- обработали пропуски, удалили лишние столбцы\n",
    "- преобразовали категориальные признаки в количественные техникой прямого кодирования\n",
    "- разбили данные на три выборки\n",
    "- и маштабировали признаки методом стандартизации."
   ]
  },
  {
   "cell_type": "markdown",
   "metadata": {},
   "source": [
    "## Исследование задачи"
   ]
  },
  {
   "cell_type": "markdown",
   "metadata": {},
   "source": [
    "### Решающее дерево"
   ]
  },
  {
   "cell_type": "code",
   "execution_count": 66,
   "metadata": {},
   "outputs": [
    {
     "name": "stdout",
     "output_type": "stream",
     "text": [
      "Accuracy модели Решающее дерево: 0.8285\n"
     ]
    }
   ],
   "source": [
    "# обучение модели и расчёт accuracy на валидационной выборке\n",
    "model_tree = DecisionTreeClassifier(random_state=12345, max_depth=10)\n",
    "model_tree.fit(features_train, target_train)\n",
    "\n",
    "predicted_valid_tree = model_tree.predict(features_valid)\n",
    "\n",
    "print(\"Accuracy модели Решающее дерево:\", accuracy_score(predicted_valid_tree, target_valid))"
   ]
  },
  {
   "cell_type": "markdown",
   "metadata": {},
   "source": [
    "### Логистическая регрессия"
   ]
  },
  {
   "cell_type": "code",
   "execution_count": 67,
   "metadata": {},
   "outputs": [
    {
     "name": "stdout",
     "output_type": "stream",
     "text": [
      "Accuracy модели Логистическая регрессия: 0.7995\n"
     ]
    }
   ],
   "source": [
    "# обучение модели и расчёт accuracy на валидационной выборке\n",
    "model_lr = LogisticRegression(random_state=12345, solver='liblinear')\n",
    "model_lr.fit(features_train, target_train)\n",
    "\n",
    "predicted_valid_lr = model_lr.predict(features_valid)\n",
    "\n",
    "print(\"Accuracy модели Логистическая регрессия:\", accuracy_score(predicted_valid_lr, target_valid))"
   ]
  },
  {
   "cell_type": "markdown",
   "metadata": {},
   "source": [
    "### Случайный лес"
   ]
  },
  {
   "cell_type": "code",
   "execution_count": 68,
   "metadata": {},
   "outputs": [
    {
     "name": "stdout",
     "output_type": "stream",
     "text": [
      "Accuracy модели Случайный лес: 0.862\n"
     ]
    }
   ],
   "source": [
    "# обучение модели и расчёт accuracy на валидационной выборке\n",
    "model_forest = RandomForestClassifier(random_state=12345, n_estimators=50, max_depth=10) \n",
    "model_forest.fit(features_train, target_train)\n",
    "# получение предсказаний модели\n",
    "predicted_valid_forest = model_forest.predict(features_valid)\n",
    "\n",
    "print(\"Accuracy модели Случайный лес:\", accuracy_score(predicted_valid_forest, target_valid)) "
   ]
  },
  {
   "cell_type": "markdown",
   "metadata": {},
   "source": [
    "Доля правильных ответов — 86%. Необходиом понять насколько это хорошо. Исследуем целевой признак.\n",
    "Проверим, как часто в целевом признаке встречается класс «1» или «0». "
   ]
  },
  {
   "cell_type": "code",
   "execution_count": 69,
   "metadata": {},
   "outputs": [
    {
     "name": "stdout",
     "output_type": "stream",
     "text": [
      "0    0.7963\n",
      "1    0.2037\n",
      "Name: Exited, dtype: float64\n"
     ]
    },
    {
     "data": {
      "image/png": "[encoded data removed]",
      "text/plain": [
       "<Figure size 432x288 with 1 Axes>"
      ]
     },
     "metadata": {
      "needs_background": "light"
     },
     "output_type": "display_data"
    }
   ],
   "source": [
    "class_frequency = data_ohe['Exited'].value_counts(normalize=True)\n",
    "print(class_frequency)\n",
    "\n",
    "class_frequency.plot(kind='bar') ;"
   ]
  },
  {
   "cell_type": "markdown",
   "metadata": {},
   "source": [
    "Классы несбалансированы, т.е. положительный класс \"1\" в четыре раза меньше отрицательного \"0\". (20% клиентов уходит). \n",
    "\n",
    "Теперь проанализируем частоты классов в результатах предсказаний на всех моделях."
   ]
  },
  {
   "cell_type": "code",
   "execution_count": 70,
   "metadata": {},
   "outputs": [
    {
     "name": "stdout",
     "output_type": "stream",
     "text": [
      "0    0.8585\n",
      "1    0.1415\n",
      "dtype: float64\n"
     ]
    },
    {
     "data": {
      "image/png": "[encoded data removed]",
      "text/plain": [
       "<Figure size 432x288 with 1 Axes>"
      ]
     },
     "metadata": {
      "needs_background": "light"
     },
     "output_type": "display_data"
    }
   ],
   "source": [
    "predicted_valid_tree = pd.Series(model_tree.predict(features_valid))\n",
    "\n",
    "class_frequency_tree = predicted_valid_tree.value_counts(normalize=True)\n",
    "print(class_frequency_tree)\n",
    "class_frequency_tree.plot(kind='bar', title='Решающее дерево');"
   ]
  },
  {
   "cell_type": "code",
   "execution_count": 71,
   "metadata": {},
   "outputs": [
    {
     "name": "stdout",
     "output_type": "stream",
     "text": [
      "0    0.9105\n",
      "1    0.0895\n",
      "dtype: float64\n"
     ]
    },
    {
     "data": {
      "image/png": "[encoded data removed]",
      "text/plain": [
       "<Figure size 432x288 with 1 Axes>"
      ]
     },
     "metadata": {
      "needs_background": "light"
     },
     "output_type": "display_data"
    }
   ],
   "source": [
    "predicted_valid_lr = pd.Series(model_lr.predict(features_valid))\n",
    "\n",
    "class_frequency_lr = predicted_valid_lr.value_counts(normalize=True)\n",
    "print(class_frequency_lr)\n",
    "class_frequency_lr.plot(kind='bar', title='Логистическая регрессия');"
   ]
  },
  {
   "cell_type": "code",
   "execution_count": 72,
   "metadata": {},
   "outputs": [
    {
     "name": "stdout",
     "output_type": "stream",
     "text": [
      "0    0.893\n",
      "1    0.107\n",
      "dtype: float64\n"
     ]
    },
    {
     "data": {
      "image/png": "[encoded data removed]",
      "text/plain": [
       "<Figure size 432x288 with 1 Axes>"
      ]
     },
     "metadata": {
      "needs_background": "light"
     },
     "output_type": "display_data"
    }
   ],
   "source": [
    "predicted_valid_forest = pd.Series(model_forest.predict(features_valid))\n",
    "\n",
    "class_frequency_forest = predicted_valid_forest.value_counts(normalize=True)\n",
    "print(class_frequency_forest)\n",
    "class_frequency_forest.plot(kind='bar', title='Случайный лес');"
   ]
  },
  {
   "cell_type": "markdown",
   "metadata": {},
   "source": [
    "Довольно высокие показатели предсказаний. Создадим константную модель, которя всегда предсказывает 0, посчитаем accuracy и сравним с построенными моделями."
   ]
  },
  {
   "cell_type": "code",
   "execution_count": 73,
   "metadata": {},
   "outputs": [
    {
     "name": "stdout",
     "output_type": "stream",
     "text": [
      "0.7963\n"
     ]
    }
   ],
   "source": [
    "target_pred_constant = pd.Series(0, index=target.index)\n",
    "print(accuracy_score(target, target_pred_constant))"
   ]
  },
  {
   "cell_type": "markdown",
   "metadata": {},
   "source": [
    "Accuracy предсказания константной модели ниже 79%, значит построенные модели предсказывают лучше константной.\n",
    "\n",
    "Расчитаем F1-меру (среднее гармоническое полноты и точности), чтобы оценить качество прогноза положительного класса с разных позиций.  "
   ]
  },
  {
   "cell_type": "code",
   "execution_count": 74,
   "metadata": {},
   "outputs": [
    {
     "name": "stdout",
     "output_type": "stream",
     "text": [
      "0.5106990014265336\n"
     ]
    }
   ],
   "source": [
    "# расчет F1 меры для модели Решающее дерево\n",
    "print(f1_score(target_valid, predicted_valid_tree))"
   ]
  },
  {
   "cell_type": "code",
   "execution_count": 75,
   "metadata": {},
   "outputs": [
    {
     "name": "stdout",
     "output_type": "stream",
     "text": [
      "0.32830820770519265\n"
     ]
    }
   ],
   "source": [
    "# расчет F1 меры для модели Логистическая регрессия\n",
    "print(f1_score(target_valid, predicted_valid_lr))"
   ]
  },
  {
   "cell_type": "code",
   "execution_count": 76,
   "metadata": {},
   "outputs": [
    {
     "name": "stdout",
     "output_type": "stream",
     "text": [
      "0.5632911392405064\n"
     ]
    }
   ],
   "source": [
    "# расчет F1 меры для модели Случайный лес\n",
    "print(f1_score(target_valid, predicted_valid_forest))"
   ]
  },
  {
   "cell_type": "markdown",
   "metadata": {},
   "source": [
    "<b>Вывод</b>\n",
    "\n",
    "- исследовали баланс классов, выявили, что классы несбалансированы\n",
    "- выяснили, что клиенты уходят в 20% процентах случаев, т.е. положительный класс в четыре раза меньше отрицательного\n",
    "- изучили модели без учёта дисбаланса\n",
    "- выяснили, что результат работы модели случайного леса лучше других.\n"
   ]
  },
  {
   "cell_type": "markdown",
   "metadata": {},
   "source": [
    "## Борьба с дисбалансом"
   ]
  },
  {
   "cell_type": "markdown",
   "metadata": {},
   "source": [
    "Постараемся улушить модель и достичь F1 меру не менее 0.59."
   ]
  },
  {
   "cell_type": "markdown",
   "metadata": {},
   "source": [
    "<b>1. Способ class_weight.</b> \n",
    "\n",
    "Сделаем веса классов сбалансированными с помощью аргумента class_weight. Придадим объектам редкого класса больший вес."
   ]
  },
  {
   "cell_type": "code",
   "execution_count": 77,
   "metadata": {},
   "outputs": [
    {
     "name": "stdout",
     "output_type": "stream",
     "text": [
      "F1: 0.49172576832151305\n"
     ]
    }
   ],
   "source": [
    "# балансировка веса классов модели Решающее дерево\n",
    "model = DecisionTreeClassifier(random_state=12345, class_weight='balanced')\n",
    "model.fit(features_train, target_train)\n",
    "predicted_valid_tree = model.predict(features_valid)\n",
    "print(\"F1:\", f1_score(target_valid, predicted_valid_tree))"
   ]
  },
  {
   "cell_type": "code",
   "execution_count": 78,
   "metadata": {},
   "outputs": [
    {
     "name": "stdout",
     "output_type": "stream",
     "text": [
      "F1: 0.4891961970613656\n"
     ]
    }
   ],
   "source": [
    "# балансировка веса классов модели Логистическая регрессия \n",
    "model = LogisticRegression(random_state=12345, solver='liblinear', class_weight='balanced')\n",
    "model.fit(features_train, target_train)\n",
    "predicted_valid_lr = model.predict(features_valid)\n",
    "print(\"F1:\", f1_score(target_valid, predicted_valid_lr))"
   ]
  },
  {
   "cell_type": "code",
   "execution_count": 79,
   "metadata": {},
   "outputs": [
    {
     "name": "stdout",
     "output_type": "stream",
     "text": [
      "F1 мера наилучшей модели на валидационной выборке: 0.6390658174097664 Глубина дерева: 8 Количество деревьев: 100\n"
     ]
    }
   ],
   "source": [
    "# балансировка веса классов модели Случайный лес\n",
    "best_model = None\n",
    "best_result = 0\n",
    "best_depth = 0\n",
    "for est in range(100, 1001, 100):\n",
    "    for depth in range(2, 12, 2):\n",
    "        model = RandomForestClassifier(random_state=12345, n_estimators=est, max_depth=depth, class_weight='balanced')\n",
    "        # обучение модели с заданной глубиной дерева\n",
    "        model.fit(features_train, target_train)\n",
    "        \n",
    "        predicted_valid_forest = model.predict(features_valid)\n",
    "        result = f1_score(target_valid, predicted_valid_forest)\n",
    "\n",
    "        # определение лучшей F1 меры\n",
    "        if result > best_result:\n",
    "            best_model = model\n",
    "            best_result = result\n",
    "            best_depth = depth\n",
    "            best_est = est\n",
    "\n",
    "print(\"F1 мера наилучшей модели на валидационной выборке:\", best_result, \"Глубина дерева:\", \n",
    "      best_depth, \"Количество деревьев:\", best_est)\n"
   ]
  },
  {
   "cell_type": "markdown",
   "metadata": {},
   "source": [
    "Балансировка классов улучшила показатели. Лучшее значение F1 меры по прежнему у модели Слуайного леса и составляет 0.64.\n",
    "Также нашли наилучшую модель с гиперпараметрами n_estimators=100 и max_depth=8."
   ]
  },
  {
   "cell_type": "markdown",
   "metadata": {},
   "source": [
    "<b>2. Способ upsampling.</b> \n",
    "\n",
    "Увеличим выборку путём копирования положительного класса."
   ]
  },
  {
   "cell_type": "code",
   "execution_count": 80,
   "metadata": {},
   "outputs": [],
   "source": [
    "# функция увеличения выборки техникой upsampling\n",
    "def upsample(features, target, repeat):\n",
    "    # деление выборки на отрицательные и положительные классы\n",
    "    features_zeros = features[target == 0]\n",
    "    features_ones = features[target == 1]\n",
    "    target_zeros = target[target == 0]\n",
    "    target_ones = target[target == 1]\n",
    "    # создание новой выборки после объединения \n",
    "    features_upsampled = pd.concat([features_zeros] + [features_ones] * repeat)\n",
    "    target_upsampled = pd.concat([target_zeros] + [target_ones] * repeat)\n",
    "    # перемешивание\n",
    "    features_upsampled, target_upsampled = shuffle(\n",
    "        features_upsampled, target_upsampled, random_state=12345)\n",
    "    \n",
    "    return features_upsampled, target_upsampled\n"
   ]
  },
  {
   "cell_type": "code",
   "execution_count": 81,
   "metadata": {},
   "outputs": [],
   "source": [
    "features_upsampled, target_upsampled = upsample(features_train, target_train, 4)"
   ]
  },
  {
   "cell_type": "code",
   "execution_count": 82,
   "metadata": {},
   "outputs": [
    {
     "name": "stdout",
     "output_type": "stream",
     "text": [
      "F1: 0.47158403869407495\n"
     ]
    }
   ],
   "source": [
    "# проверка метода на модели Решающее дерево\n",
    "model = DecisionTreeClassifier(random_state=12345)\n",
    "model.fit(features_upsampled, target_upsampled)\n",
    "predicted_valid_tree = model.predict(features_valid)\n",
    "print(\"F1:\", f1_score(target_valid, predicted_valid_tree))"
   ]
  },
  {
   "cell_type": "code",
   "execution_count": 83,
   "metadata": {},
   "outputs": [
    {
     "name": "stdout",
     "output_type": "stream",
     "text": [
      "F1: 0.4891961970613656\n"
     ]
    }
   ],
   "source": [
    "# проверка метода на модели Логистическая регрессия\n",
    "model = LogisticRegression(random_state=12345, solver='liblinear')\n",
    "model.fit(features_upsampled, target_upsampled)\n",
    "predicted_valid_lr = model.predict(features_valid)\n",
    "print(\"F1:\", f1_score(target_valid, predicted_valid_lr))"
   ]
  },
  {
   "cell_type": "code",
   "execution_count": 84,
   "metadata": {},
   "outputs": [
    {
     "name": "stdout",
     "output_type": "stream",
     "text": [
      "F1: 0.6048879837067209\n"
     ]
    }
   ],
   "source": [
    "# проверка метода на модели Случайный лес\n",
    "model = RandomForestClassifier(random_state=12345, n_estimators=100, max_depth=8)\n",
    "model.fit(features_upsampled, target_upsampled)\n",
    "predicted_valid_forest = model.predict(features_valid)\n",
    "print(\"F1:\", f1_score(target_valid, predicted_valid_forest))"
   ]
  },
  {
   "cell_type": "markdown",
   "metadata": {},
   "source": [
    "В общем показатели стали немного хуже, чем у первого способа. Лучший показатель F1 меры у модели Случайный лес и составляет 0.61"
   ]
  },
  {
   "cell_type": "markdown",
   "metadata": {},
   "source": [
    "<b>3. Способ downsampling.</b> \n",
    "\n",
    "Сделаем объекты частого класса \"0\" не такими частыми. Напишем функцию downsample."
   ]
  },
  {
   "cell_type": "code",
   "execution_count": 85,
   "metadata": {},
   "outputs": [],
   "source": [
    "# функция уменьшения выборки техникой downsampling\n",
    "def downsample(features, target, fraction):\n",
    "    features_zeros = features[target == 0]\n",
    "    features_ones = features[target == 1]\n",
    "    target_zeros = target[target == 0]\n",
    "    target_ones = target[target == 1]\n",
    "\n",
    "    features_downsampled = pd.concat(\n",
    "        [features_zeros.sample(frac=fraction, random_state=12345)] + [features_ones])\n",
    "    target_downsampled = pd.concat(\n",
    "        [target_zeros.sample(frac=fraction, random_state=12345)] + [target_ones])\n",
    "    \n",
    "    features_downsampled, target_downsampled = shuffle(\n",
    "        features_downsampled, target_downsampled, random_state=12345)\n",
    "    \n",
    "    return features_downsampled, target_downsampled"
   ]
  },
  {
   "cell_type": "code",
   "execution_count": 86,
   "metadata": {},
   "outputs": [],
   "source": [
    "features_downsampled, target_downsampled = downsample(features_train, target_train, 0.25)"
   ]
  },
  {
   "cell_type": "code",
   "execution_count": 87,
   "metadata": {},
   "outputs": [
    {
     "name": "stdout",
     "output_type": "stream",
     "text": [
      "F1: 0.49021276595744684\n"
     ]
    }
   ],
   "source": [
    "# проверка метода на модели Решающее дерево\n",
    "model = DecisionTreeClassifier(random_state=12345)\n",
    "model.fit(features_downsampled, target_downsampled)\n",
    "predicted_valid_tree = model.predict(features_valid)\n",
    "print(\"F1:\", f1_score(target_valid, predicted_valid_tree))"
   ]
  },
  {
   "cell_type": "code",
   "execution_count": 88,
   "metadata": {},
   "outputs": [
    {
     "name": "stdout",
     "output_type": "stream",
     "text": [
      "F1: 0.48323301805674973\n"
     ]
    }
   ],
   "source": [
    "# проверка метода на модели Логистическая регрессия\n",
    "model = LogisticRegression(random_state=12345, solver='liblinear')\n",
    "model.fit(features_downsampled, target_downsampled)\n",
    "predicted_valid_lr = model.predict(features_valid)\n",
    "print(\"F1:\", f1_score(target_valid, predicted_valid_lr))"
   ]
  },
  {
   "cell_type": "code",
   "execution_count": 89,
   "metadata": {},
   "outputs": [
    {
     "name": "stdout",
     "output_type": "stream",
     "text": [
      "F1: 0.5966228893058161\n"
     ]
    }
   ],
   "source": [
    "# проверка метода на модели Случайный лес\n",
    "model = RandomForestClassifier(random_state=12345, n_estimators=100, max_depth=8)\n",
    "model.fit(features_downsampled, target_downsampled)\n",
    "predicted_valid_forest = model.predict(features_valid)\n",
    "print(\"F1:\", f1_score(target_valid, predicted_valid_forest))"
   ]
  },
  {
   "cell_type": "markdown",
   "metadata": {},
   "source": [
    "Снова лидирует модель Случайный лес с результатом 0.59, но уменьшение выборки ухудшает результаты. Попробуем изменить порог."
   ]
  },
  {
   "cell_type": "markdown",
   "metadata": {},
   "source": [
    "<b>4. Способ изменение порога.<b>\n",
    "    \n",
    "Переберём значения порогов от 0 до 0.6 с шагом 0.05 и расчитаем значения F1 меры при каждом изменении."
   ]
  },
  {
   "cell_type": "code",
   "execution_count": 90,
   "metadata": {},
   "outputs": [],
   "source": [
    "# функция подсчёта F1 меры при разном значении порога\n",
    "def probabilities(probabilities_one_valid):\n",
    "    for threshold in np.arange(0, 0.6, 0.05):\n",
    "        predicted_valid = probabilities_one_valid > threshold\n",
    "        f1 = f1_score(target_valid, predicted_valid)  \n",
    "\n",
    "        print(\"Порог = {:.2f} | F1 мера = {:.3f}\".format(threshold, f1))"
   ]
  },
  {
   "cell_type": "code",
   "execution_count": 91,
   "metadata": {},
   "outputs": [],
   "source": [
    "# проверка метода на модели Решающее дерево\n",
    "model = DecisionTreeClassifier(random_state=12345, max_depth=10)\n",
    "model.fit(features_train, target_train)\n",
    "probabilities_valid_tree = model.predict_proba(features_valid)\n",
    "probabilities_one_valid_tree = probabilities_valid_tree[:, 1]"
   ]
  },
  {
   "cell_type": "code",
   "execution_count": 92,
   "metadata": {},
   "outputs": [
    {
     "name": "stdout",
     "output_type": "stream",
     "text": [
      "Порог = 0.00 | F1 мера = 0.391\n",
      "Порог = 0.05 | F1 мера = 0.436\n",
      "Порог = 0.10 | F1 мера = 0.526\n",
      "Порог = 0.15 | F1 мера = 0.543\n",
      "Порог = 0.20 | F1 мера = 0.540\n",
      "Порог = 0.25 | F1 мера = 0.542\n",
      "Порог = 0.30 | F1 мера = 0.536\n",
      "Порог = 0.35 | F1 мера = 0.533\n",
      "Порог = 0.40 | F1 мера = 0.520\n",
      "Порог = 0.45 | F1 мера = 0.511\n",
      "Порог = 0.50 | F1 мера = 0.511\n",
      "Порог = 0.55 | F1 мера = 0.510\n"
     ]
    }
   ],
   "source": [
    "probabilities(probabilities_one_valid_tree)"
   ]
  },
  {
   "cell_type": "code",
   "execution_count": 93,
   "metadata": {},
   "outputs": [],
   "source": [
    "# проверка метода на модели Логистическая регрессия\n",
    "model = LogisticRegression(random_state=12345, solver='liblinear')\n",
    "model.fit(features_train, target_train)\n",
    "probabilities_valid_lr = model.predict_proba(features_valid)\n",
    "probabilities_one_valid_lr = probabilities_valid_lr[:, 1]"
   ]
  },
  {
   "cell_type": "code",
   "execution_count": 94,
   "metadata": {},
   "outputs": [
    {
     "name": "stdout",
     "output_type": "stream",
     "text": [
      "Порог = 0.00 | F1 мера = 0.346\n",
      "Порог = 0.05 | F1 мера = 0.375\n",
      "Порог = 0.10 | F1 мера = 0.422\n",
      "Порог = 0.15 | F1 мера = 0.470\n",
      "Порог = 0.20 | F1 мера = 0.482\n",
      "Порог = 0.25 | F1 мера = 0.498\n",
      "Порог = 0.30 | F1 мера = 0.493\n",
      "Порог = 0.35 | F1 мера = 0.443\n",
      "Порог = 0.40 | F1 мера = 0.399\n",
      "Порог = 0.45 | F1 мера = 0.371\n",
      "Порог = 0.50 | F1 мера = 0.328\n",
      "Порог = 0.55 | F1 мера = 0.286\n"
     ]
    }
   ],
   "source": [
    "probabilities(probabilities_one_valid_lr)"
   ]
  },
  {
   "cell_type": "code",
   "execution_count": 95,
   "metadata": {},
   "outputs": [],
   "source": [
    "# проверка метода на модели Случайный лес\n",
    "model = RandomForestClassifier(random_state=12345, n_estimators=100, max_depth=8)\n",
    "model.fit(features_train, target_train)\n",
    "probabilities_valid_forest = model.predict_proba(features_valid)\n",
    "probabilities_one_valid_forest = probabilities_valid_forest[:, 1]"
   ]
  },
  {
   "cell_type": "code",
   "execution_count": 96,
   "metadata": {},
   "outputs": [
    {
     "name": "stdout",
     "output_type": "stream",
     "text": [
      "Порог = 0.00 | F1 мера = 0.346\n",
      "Порог = 0.05 | F1 мера = 0.363\n",
      "Порог = 0.10 | F1 мера = 0.437\n",
      "Порог = 0.15 | F1 мера = 0.532\n",
      "Порог = 0.20 | F1 мера = 0.581\n",
      "Порог = 0.25 | F1 мера = 0.627\n",
      "Порог = 0.30 | F1 мера = 0.630\n",
      "Порог = 0.35 | F1 мера = 0.618\n",
      "Порог = 0.40 | F1 мера = 0.606\n",
      "Порог = 0.45 | F1 мера = 0.568\n",
      "Порог = 0.50 | F1 мера = 0.532\n",
      "Порог = 0.55 | F1 мера = 0.450\n"
     ]
    }
   ],
   "source": [
    "probabilities(probabilities_one_valid_forest)"
   ]
  },
  {
   "cell_type": "markdown",
   "metadata": {},
   "source": [
    "Лучший результат у модели Случайный лес, что составляет 0.63 с порогом 0.30."
   ]
  },
  {
   "cell_type": "markdown",
   "metadata": {},
   "source": [
    "<b>Вывод</b>\n",
    "\n",
    "Лучшие результаты борьбы с дисбалансом показал способ балансировка, применим его на тестовой выборке. И модель возьмём Случайный лес с гиперпараметрами n_estimators=100, max_depth=8."
   ]
  },
  {
   "cell_type": "markdown",
   "metadata": {},
   "source": [
    "## Тестирование модели"
   ]
  },
  {
   "cell_type": "code",
   "execution_count": 97,
   "metadata": {
    "scrolled": true
   },
   "outputs": [
    {
     "name": "stdout",
     "output_type": "stream",
     "text": [
      "F1: 0.5976520811099253\n"
     ]
    }
   ],
   "source": [
    "# проверка метода балансировка на тестовой выборке \n",
    "model_test = RandomForestClassifier(random_state=12345, n_estimators=100, max_depth=8, class_weight='balanced')\n",
    "model_test.fit(features_train, target_train)\n",
    "predicted_test = model_test.predict(features_test)\n",
    "probabilities_one_test = model_test.predict_proba(features_test)[:, 1]\n",
    "\n",
    "print(\"F1:\", f1_score(target_test, predicted_test))"
   ]
  },
  {
   "cell_type": "markdown",
   "metadata": {},
   "source": [
    "Удалось добиться необходимой метрики F1."
   ]
  },
  {
   "cell_type": "markdown",
   "metadata": {},
   "source": [
    "Посчитаем площадь под ROC-кривой для модели (AUC-ROC), чтобы узнать насколько сильно ее точность отличается от случайной."
   ]
  },
  {
   "cell_type": "code",
   "execution_count": 98,
   "metadata": {},
   "outputs": [
    {
     "data": {
      "image/png": "[encoded data removed]",
      "text/plain": [
       "<Figure size 432x288 with 1 Axes>"
      ]
     },
     "metadata": {
      "needs_background": "light"
     },
     "output_type": "display_data"
    }
   ],
   "source": [
    "\n",
    "fpr, tpr, thresholds = roc_curve(target_test, probabilities_one_test) \n",
    "\n",
    "plt.figure()\n",
    "\n",
    "plt.plot(fpr, tpr)\n",
    "\n",
    "# ROC-кривая случайной модели (выглядит как прямая)\n",
    "plt.plot([0, 1], [0, 1], linestyle='--')\n",
    "\n",
    "plt.xlim([0.0, 1.0])\n",
    "plt.ylim([0.0, 1.0])\n",
    "plt.xlabel('False Positive Rate')\n",
    "plt.ylabel('True Positive Rate')\n",
    "plt.title('ROC-кривая')\n",
    "plt.show()"
   ]
  },
  {
   "cell_type": "code",
   "execution_count": 99,
   "metadata": {},
   "outputs": [
    {
     "name": "stdout",
     "output_type": "stream",
     "text": [
      "0.8453927692854284\n"
     ]
    }
   ],
   "source": [
    "auc_roc = roc_auc_score(target_test, probabilities_one_test)\n",
    "\n",
    "print(auc_roc)"
   ]
  },
  {
   "cell_type": "markdown",
   "metadata": {},
   "source": [
    "Метрика лучше, чем у случайной модели."
   ]
  },
  {
   "cell_type": "markdown",
   "metadata": {},
   "source": [
    "<b>Общий вывод</b>\n",
    "\n",
    "- Ознакомились с данными и подготовили их к исследованию (преобразовали категориальные признаки в численные с помощью техники прямого кодирования OHE, разбили получившийся датасет на 3 выборки - обучающую, валидационную и тестовую, масштабировали признаки методом стандартизации).\n",
    "- Исследовали баланс классов - они оказались несбалансированы, изучили модели без учёта дисбаланса, выяснили, что результат работы модели случайного леса лучше.\n",
    "- Применили 4 способа борбы с дисбалансом - аргумент class_weight, уменьшение выборки, увеличение выборки и изменение порога. Лучшие результаты показал способы борьбы с дисбалансом class_weight и изменение порога. Выявили лучшие значения n_estimators и max_depth для модели случайного леса.\n",
    "- Обучили финальную модель и проверили ее на тестовой выборке. Достигли значения F1 = 0.6. Исследовали метрику AUC-ROC - ее значение  отличается от значения для случайной модели и составляет 0.85"
   ]
  }
 ],
 "metadata": {
  "ExecuteTimeLog": [
   {
    "duration": 1939,
    "start_time": "2022-05-30T08:26:23.520Z"
   },
   {
    "duration": 150,
    "start_time": "2022-05-30T08:27:35.337Z"
   },
   {
    "duration": 30,
    "start_time": "2022-05-30T08:27:53.229Z"
   },
   {
    "duration": 9370,
    "start_time": "2022-05-30T08:32:38.706Z"
   },
   {
    "duration": 67638,
    "start_time": "2022-05-30T08:33:14.303Z"
   },
   {
    "duration": 64,
    "start_time": "2022-06-04T16:50:04.117Z"
   },
   {
    "duration": 6,
    "start_time": "2022-06-04T16:58:07.589Z"
   },
   {
    "duration": 1564,
    "start_time": "2022-06-04T16:58:12.589Z"
   },
   {
    "duration": 83,
    "start_time": "2022-06-04T16:58:14.155Z"
   },
   {
    "duration": 19,
    "start_time": "2022-06-04T16:58:14.241Z"
   },
   {
    "duration": 18,
    "start_time": "2022-06-04T16:58:14.622Z"
   },
   {
    "duration": 9,
    "start_time": "2022-06-04T16:58:18.106Z"
   },
   {
    "duration": 18,
    "start_time": "2022-06-04T16:58:20.539Z"
   },
   {
    "duration": 18,
    "start_time": "2022-06-04T16:58:22.786Z"
   },
   {
    "duration": 6,
    "start_time": "2022-06-04T16:58:24.189Z"
   },
   {
    "duration": 14,
    "start_time": "2022-06-04T16:58:24.602Z"
   },
   {
    "duration": 2,
    "start_time": "2022-06-04T16:58:26.593Z"
   },
   {
    "duration": 42,
    "start_time": "2022-06-04T16:58:27.738Z"
   },
   {
    "duration": 30,
    "start_time": "2022-06-04T17:00:34.410Z"
   },
   {
    "duration": 24,
    "start_time": "2022-06-04T17:00:35.452Z"
   },
   {
    "duration": 316,
    "start_time": "2022-06-04T17:00:36.286Z"
   },
   {
    "duration": 153,
    "start_time": "2022-06-04T17:00:36.797Z"
   },
   {
    "duration": 97,
    "start_time": "2022-06-04T17:00:52.397Z"
   },
   {
    "duration": 270,
    "start_time": "2022-06-04T17:00:52.921Z"
   },
   {
    "duration": 115,
    "start_time": "2022-06-04T17:00:53.494Z"
   },
   {
    "duration": 6,
    "start_time": "2022-06-04T17:00:54.438Z"
   },
   {
    "duration": 5,
    "start_time": "2022-06-04T17:00:55.100Z"
   },
   {
    "duration": 6,
    "start_time": "2022-06-04T17:00:55.399Z"
   },
   {
    "duration": 6,
    "start_time": "2022-06-04T17:00:55.801Z"
   },
   {
    "duration": 35,
    "start_time": "2022-06-04T17:00:57.637Z"
   },
   {
    "duration": 101,
    "start_time": "2022-06-04T17:00:58.331Z"
   },
   {
    "duration": 268,
    "start_time": "2022-06-04T17:00:58.701Z"
   },
   {
    "duration": 18782,
    "start_time": "2022-06-04T17:10:47.484Z"
   },
   {
    "duration": 283613,
    "start_time": "2022-06-04T17:15:32.440Z"
   },
   {
    "duration": 4,
    "start_time": "2022-06-04T17:20:16.055Z"
   },
   {
    "duration": 9,
    "start_time": "2022-06-04T17:20:16.079Z"
   },
   {
    "duration": 60,
    "start_time": "2022-06-04T17:20:16.089Z"
   },
   {
    "duration": 40,
    "start_time": "2022-06-04T17:21:48.486Z"
   },
   {
    "duration": 144,
    "start_time": "2022-06-04T17:21:49.402Z"
   },
   {
    "duration": 412,
    "start_time": "2022-06-04T17:21:52.834Z"
   },
   {
    "duration": 57,
    "start_time": "2022-06-04T17:23:09.622Z"
   },
   {
    "duration": 32,
    "start_time": "2022-06-04T17:23:09.999Z"
   },
   {
    "duration": 381,
    "start_time": "2022-06-04T17:23:10.352Z"
   },
   {
    "duration": 5,
    "start_time": "2022-06-04T17:23:53.399Z"
   },
   {
    "duration": 11,
    "start_time": "2022-06-04T17:23:55.795Z"
   },
   {
    "duration": 16,
    "start_time": "2022-06-04T17:23:56.139Z"
   },
   {
    "duration": 15,
    "start_time": "2022-06-04T17:23:56.695Z"
   },
   {
    "duration": 130,
    "start_time": "2022-06-04T17:23:57.387Z"
   },
   {
    "duration": 4,
    "start_time": "2022-06-04T17:24:06.216Z"
   },
   {
    "duration": 28,
    "start_time": "2022-06-04T17:24:06.497Z"
   },
   {
    "duration": 30,
    "start_time": "2022-06-04T17:24:06.911Z"
   },
   {
    "duration": 27,
    "start_time": "2022-06-04T17:24:09.236Z"
   },
   {
    "duration": 23,
    "start_time": "2022-06-04T17:24:09.595Z"
   },
   {
    "duration": 279,
    "start_time": "2022-06-04T17:24:10.389Z"
   },
   {
    "duration": 23,
    "start_time": "2022-06-04T17:24:11.999Z"
   },
   {
    "duration": 5,
    "start_time": "2022-06-04T17:25:06.196Z"
   },
   {
    "duration": 11,
    "start_time": "2022-06-04T17:25:06.903Z"
   },
   {
    "duration": 49,
    "start_time": "2022-06-04T17:25:09.458Z"
   },
   {
    "duration": 56,
    "start_time": "2022-06-04T17:25:10.888Z"
   },
   {
    "duration": 707,
    "start_time": "2022-06-04T17:25:11.987Z"
   },
   {
    "duration": 5,
    "start_time": "2022-06-04T17:25:33.524Z"
   },
   {
    "duration": 10,
    "start_time": "2022-06-04T17:25:34.319Z"
   },
   {
    "duration": 16,
    "start_time": "2022-06-04T17:25:34.758Z"
   },
   {
    "duration": 21,
    "start_time": "2022-06-04T17:25:35.426Z"
   },
   {
    "duration": 251,
    "start_time": "2022-06-04T17:25:35.743Z"
   },
   {
    "duration": 3,
    "start_time": "2022-06-04T17:25:44.909Z"
   },
   {
    "duration": 30,
    "start_time": "2022-06-04T17:25:45.302Z"
   },
   {
    "duration": 23,
    "start_time": "2022-06-04T17:25:46.617Z"
   },
   {
    "duration": 28,
    "start_time": "2022-06-04T17:25:48.242Z"
   },
   {
    "duration": 24,
    "start_time": "2022-06-04T17:25:49.106Z"
   },
   {
    "duration": 477,
    "start_time": "2022-06-04T17:25:50.047Z"
   },
   {
    "duration": 21,
    "start_time": "2022-06-04T17:25:51.128Z"
   },
   {
    "duration": 489,
    "start_time": "2022-06-04T17:26:29.100Z"
   },
   {
    "duration": 591,
    "start_time": "2022-06-04T17:26:45.904Z"
   },
   {
    "duration": 29,
    "start_time": "2022-06-04T17:26:46.549Z"
   },
   {
    "duration": 29,
    "start_time": "2022-06-04T17:47:10.703Z"
   },
   {
    "duration": 15,
    "start_time": "2022-06-04T17:47:39.342Z"
   },
   {
    "duration": 150,
    "start_time": "2022-06-04T17:48:15.644Z"
   },
   {
    "duration": 704,
    "start_time": "2022-06-04T17:48:34.906Z"
   },
   {
    "duration": 32,
    "start_time": "2022-06-04T17:48:36.927Z"
   },
   {
    "duration": 5,
    "start_time": "2022-06-04T17:48:52.204Z"
   },
   {
    "duration": 52,
    "start_time": "2022-06-04T17:48:53.140Z"
   },
   {
    "duration": 16,
    "start_time": "2022-06-04T17:48:53.663Z"
   },
   {
    "duration": 25,
    "start_time": "2022-06-04T17:48:54.440Z"
   },
   {
    "duration": 13,
    "start_time": "2022-06-04T17:48:55.814Z"
   },
   {
    "duration": 20,
    "start_time": "2022-06-04T17:48:58.016Z"
   },
   {
    "duration": 29,
    "start_time": "2022-06-04T17:49:04.003Z"
   },
   {
    "duration": 6,
    "start_time": "2022-06-04T17:54:19.792Z"
   },
   {
    "duration": 22,
    "start_time": "2022-06-04T17:54:33.313Z"
   },
   {
    "duration": 6,
    "start_time": "2022-06-04T17:54:49.457Z"
   },
   {
    "duration": 18,
    "start_time": "2022-06-04T17:54:55.744Z"
   },
   {
    "duration": 5,
    "start_time": "2022-06-04T17:55:02.408Z"
   },
   {
    "duration": 42,
    "start_time": "2022-06-04T17:55:03.296Z"
   },
   {
    "duration": 21,
    "start_time": "2022-06-04T17:55:03.789Z"
   },
   {
    "duration": 17,
    "start_time": "2022-06-04T17:55:04.251Z"
   },
   {
    "duration": 15,
    "start_time": "2022-06-04T17:55:06.133Z"
   },
   {
    "duration": 5,
    "start_time": "2022-06-04T17:55:06.630Z"
   },
   {
    "duration": 14,
    "start_time": "2022-06-04T17:55:11.999Z"
   },
   {
    "duration": 35,
    "start_time": "2022-06-04T17:55:13.750Z"
   },
   {
    "duration": 6,
    "start_time": "2022-06-04T17:55:15.319Z"
   },
   {
    "duration": 14,
    "start_time": "2022-06-04T17:55:15.907Z"
   },
   {
    "duration": 4,
    "start_time": "2022-06-04T17:55:17.556Z"
   },
   {
    "duration": 16,
    "start_time": "2022-06-04T17:55:18.111Z"
   },
   {
    "duration": 3,
    "start_time": "2022-06-04T17:55:40.087Z"
   },
   {
    "duration": 47,
    "start_time": "2022-06-04T17:55:40.718Z"
   },
   {
    "duration": 41,
    "start_time": "2022-06-04T17:55:49.692Z"
   },
   {
    "duration": 104,
    "start_time": "2022-06-04T17:55:50.847Z"
   },
   {
    "duration": 223,
    "start_time": "2022-06-04T17:55:57.691Z"
   },
   {
    "duration": 145,
    "start_time": "2022-06-04T17:56:00.057Z"
   },
   {
    "duration": 138,
    "start_time": "2022-06-04T17:56:04.969Z"
   },
   {
    "duration": 277,
    "start_time": "2022-06-04T17:56:06.158Z"
   },
   {
    "duration": 144,
    "start_time": "2022-06-04T17:56:08.312Z"
   },
   {
    "duration": 6,
    "start_time": "2022-06-04T17:56:09.865Z"
   },
   {
    "duration": 7,
    "start_time": "2022-06-04T17:56:10.999Z"
   },
   {
    "duration": 6,
    "start_time": "2022-06-04T17:56:11.452Z"
   },
   {
    "duration": 6,
    "start_time": "2022-06-04T17:56:11.900Z"
   },
   {
    "duration": 40,
    "start_time": "2022-06-04T17:56:14.642Z"
   },
   {
    "duration": 172,
    "start_time": "2022-06-04T17:56:15.557Z"
   },
   {
    "duration": 437,
    "start_time": "2022-06-04T18:58:10.574Z"
   },
   {
    "duration": 22,
    "start_time": "2022-06-04T18:58:11.175Z"
   },
   {
    "duration": 5,
    "start_time": "2022-06-04T19:03:51.851Z"
   },
   {
    "duration": 4,
    "start_time": "2022-06-04T19:04:27.693Z"
   },
   {
    "duration": 49,
    "start_time": "2022-06-04T19:04:28.791Z"
   },
   {
    "duration": 12,
    "start_time": "2022-06-04T19:04:29.192Z"
   },
   {
    "duration": 13,
    "start_time": "2022-06-04T19:04:29.583Z"
   },
   {
    "duration": 14,
    "start_time": "2022-06-04T19:04:30.641Z"
   },
   {
    "duration": 4,
    "start_time": "2022-06-04T19:04:30.878Z"
   },
   {
    "duration": 13,
    "start_time": "2022-06-04T19:04:31.656Z"
   },
   {
    "duration": 34,
    "start_time": "2022-06-04T19:04:32.529Z"
   },
   {
    "duration": 6,
    "start_time": "2022-06-04T19:04:34.094Z"
   },
   {
    "duration": 14,
    "start_time": "2022-06-04T19:04:37.111Z"
   },
   {
    "duration": 3,
    "start_time": "2022-06-04T19:04:39.485Z"
   },
   {
    "duration": 32,
    "start_time": "2022-06-04T19:04:40.084Z"
   },
   {
    "duration": 32,
    "start_time": "2022-06-04T19:04:43.147Z"
   },
   {
    "duration": 35,
    "start_time": "2022-06-04T19:04:43.602Z"
   },
   {
    "duration": 298,
    "start_time": "2022-06-04T19:04:44.018Z"
   },
   {
    "duration": 129,
    "start_time": "2022-06-04T19:04:44.684Z"
   },
   {
    "duration": 108,
    "start_time": "2022-06-04T19:04:45.307Z"
   },
   {
    "duration": 270,
    "start_time": "2022-06-04T19:04:45.507Z"
   },
   {
    "duration": 208,
    "start_time": "2022-06-04T19:04:45.779Z"
   },
   {
    "duration": 6,
    "start_time": "2022-06-04T19:04:46.283Z"
   },
   {
    "duration": 6,
    "start_time": "2022-06-04T19:04:46.787Z"
   },
   {
    "duration": 8,
    "start_time": "2022-06-04T19:04:46.995Z"
   },
   {
    "duration": 5,
    "start_time": "2022-06-04T19:04:47.295Z"
   },
   {
    "duration": 36,
    "start_time": "2022-06-04T19:04:48.644Z"
   },
   {
    "duration": 40,
    "start_time": "2022-06-04T19:04:48.920Z"
   },
   {
    "duration": 4,
    "start_time": "2022-06-04T19:09:04.572Z"
   },
   {
    "duration": 36,
    "start_time": "2022-06-04T19:09:04.577Z"
   },
   {
    "duration": 43,
    "start_time": "2022-06-04T19:09:04.615Z"
   },
   {
    "duration": 71,
    "start_time": "2022-06-04T19:09:04.660Z"
   },
   {
    "duration": 693,
    "start_time": "2022-06-04T19:09:04.736Z"
   },
   {
    "duration": 4,
    "start_time": "2022-06-04T19:09:05.430Z"
   },
   {
    "duration": 14,
    "start_time": "2022-06-04T19:09:05.436Z"
   },
   {
    "duration": 15,
    "start_time": "2022-06-04T19:09:05.451Z"
   },
   {
    "duration": 14,
    "start_time": "2022-06-04T19:09:05.469Z"
   },
   {
    "duration": 317,
    "start_time": "2022-06-04T19:09:05.528Z"
   },
   {
    "duration": 3,
    "start_time": "2022-06-04T19:09:05.847Z"
   },
   {
    "duration": 35,
    "start_time": "2022-06-04T19:09:05.852Z"
   },
   {
    "duration": 23,
    "start_time": "2022-06-04T19:09:05.889Z"
   },
   {
    "duration": 18,
    "start_time": "2022-06-04T19:09:05.927Z"
   },
   {
    "duration": 189,
    "start_time": "2022-06-04T19:09:05.947Z"
   },
   {
    "duration": 471,
    "start_time": "2022-06-04T19:09:06.137Z"
   },
   {
    "duration": 27,
    "start_time": "2022-06-04T19:09:06.610Z"
   },
   {
    "duration": 429,
    "start_time": "2022-06-04T19:09:06.638Z"
   },
   {
    "duration": 417,
    "start_time": "2022-06-04T19:09:07.069Z"
   },
   {
    "duration": 21,
    "start_time": "2022-06-04T19:09:07.488Z"
   },
   {
    "duration": 20,
    "start_time": "2022-06-04T19:09:07.511Z"
   },
   {
    "duration": 0,
    "start_time": "2022-06-04T19:09:07.533Z"
   },
   {
    "duration": 0,
    "start_time": "2022-06-04T19:09:07.534Z"
   },
   {
    "duration": 4,
    "start_time": "2022-06-04T19:17:34.009Z"
   },
   {
    "duration": 39,
    "start_time": "2022-06-04T19:17:35.808Z"
   },
   {
    "duration": 11,
    "start_time": "2022-06-04T19:17:37.392Z"
   },
   {
    "duration": 12,
    "start_time": "2022-06-04T19:17:43.481Z"
   },
   {
    "duration": 9,
    "start_time": "2022-06-04T19:17:45.680Z"
   },
   {
    "duration": 5,
    "start_time": "2022-06-04T19:17:46.216Z"
   },
   {
    "duration": 16,
    "start_time": "2022-06-04T19:17:57.328Z"
   },
   {
    "duration": 31,
    "start_time": "2022-06-04T19:18:01.988Z"
   },
   {
    "duration": 6,
    "start_time": "2022-06-04T19:18:05.327Z"
   },
   {
    "duration": 13,
    "start_time": "2022-06-04T19:18:05.822Z"
   },
   {
    "duration": 3,
    "start_time": "2022-06-04T19:18:14.734Z"
   },
   {
    "duration": 40,
    "start_time": "2022-06-04T19:18:21.085Z"
   },
   {
    "duration": 11,
    "start_time": "2022-06-04T19:18:42.401Z"
   },
   {
    "duration": 2,
    "start_time": "2022-06-04T19:18:44.216Z"
   },
   {
    "duration": 38,
    "start_time": "2022-06-04T19:18:44.825Z"
   },
   {
    "duration": 29,
    "start_time": "2022-06-04T19:18:49.081Z"
   },
   {
    "duration": 82,
    "start_time": "2022-06-04T19:18:52.145Z"
   },
   {
    "duration": 228,
    "start_time": "2022-06-04T19:18:54.176Z"
   },
   {
    "duration": 111,
    "start_time": "2022-06-04T19:19:05.618Z"
   },
   {
    "duration": 100,
    "start_time": "2022-06-04T19:19:07.279Z"
   },
   {
    "duration": 318,
    "start_time": "2022-06-04T19:19:08.102Z"
   },
   {
    "duration": 110,
    "start_time": "2022-06-04T19:19:08.553Z"
   },
   {
    "duration": 5,
    "start_time": "2022-06-04T19:19:10.285Z"
   },
   {
    "duration": 6,
    "start_time": "2022-06-04T19:19:11.380Z"
   },
   {
    "duration": 6,
    "start_time": "2022-06-04T19:19:14.916Z"
   },
   {
    "duration": 7,
    "start_time": "2022-06-04T19:19:16.129Z"
   },
   {
    "duration": 36,
    "start_time": "2022-06-04T19:19:22.241Z"
   },
   {
    "duration": 29,
    "start_time": "2022-06-04T19:19:23.746Z"
   },
   {
    "duration": 93367,
    "start_time": "2022-06-04T19:19:26.798Z"
   },
   {
    "duration": 3,
    "start_time": "2022-06-04T19:21:25.920Z"
   },
   {
    "duration": 10,
    "start_time": "2022-06-04T19:21:27.157Z"
   },
   {
    "duration": 44,
    "start_time": "2022-06-04T19:21:28.475Z"
   },
   {
    "duration": 28,
    "start_time": "2022-06-04T19:21:29.005Z"
   },
   {
    "duration": 525,
    "start_time": "2022-06-04T19:21:31.324Z"
   },
   {
    "duration": 4,
    "start_time": "2022-06-04T19:21:35.700Z"
   },
   {
    "duration": 11,
    "start_time": "2022-06-04T19:21:37.544Z"
   },
   {
    "duration": 20,
    "start_time": "2022-06-04T19:21:38.272Z"
   },
   {
    "duration": 21,
    "start_time": "2022-06-04T19:21:47.121Z"
   },
   {
    "duration": 213,
    "start_time": "2022-06-04T19:21:50.447Z"
   },
   {
    "duration": 9,
    "start_time": "2022-06-04T19:23:02.191Z"
   },
   {
    "duration": 23,
    "start_time": "2022-06-04T19:23:03.849Z"
   },
   {
    "duration": 39,
    "start_time": "2022-06-04T19:23:04.992Z"
   },
   {
    "duration": 259,
    "start_time": "2022-06-04T19:23:05.903Z"
   },
   {
    "duration": 3,
    "start_time": "2022-06-04T19:23:26.016Z"
   },
   {
    "duration": 29,
    "start_time": "2022-06-04T19:23:30.042Z"
   },
   {
    "duration": 22,
    "start_time": "2022-06-04T19:23:31.575Z"
   },
   {
    "duration": 27,
    "start_time": "2022-06-04T19:23:36.389Z"
   },
   {
    "duration": 27,
    "start_time": "2022-06-04T19:23:38.806Z"
   },
   {
    "duration": 416,
    "start_time": "2022-06-04T19:23:40.574Z"
   },
   {
    "duration": 23,
    "start_time": "2022-06-04T19:23:41.324Z"
   },
   {
    "duration": 441,
    "start_time": "2022-06-04T19:25:04.118Z"
   },
   {
    "duration": 403,
    "start_time": "2022-06-04T19:25:57.120Z"
   },
   {
    "duration": 403,
    "start_time": "2022-06-04T19:26:00.081Z"
   },
   {
    "duration": 28,
    "start_time": "2022-06-04T19:26:02.944Z"
   },
   {
    "duration": 112,
    "start_time": "2022-06-04T19:26:28.791Z"
   },
   {
    "duration": 10,
    "start_time": "2022-06-04T19:26:29.895Z"
   }
  ],
  "kernelspec": {
   "display_name": "Python 3 (ipykernel)",
   "language": "python",
   "name": "python3"
  },
  "language_info": {
   "codemirror_mode": {
    "name": "ipython",
    "version": 3
   },
   "file_extension": ".py",
   "mimetype": "text/x-python",
   "name": "python",
   "nbconvert_exporter": "python",
   "pygments_lexer": "ipython3",
   "version": "3.9.7"
  },
  "toc": {
   "base_numbering": 1,
   "nav_menu": {},
   "number_sections": true,
   "sideBar": true,
   "skip_h1_title": true,
   "title_cell": "Содержание",
   "title_sidebar": "Contents",
   "toc_cell": true,
   "toc_position": {
    "height": "calc(100% - 180px)",
    "left": "10px",
    "top": "150px",
    "width": "165px"
   },
   "toc_section_display": true,
   "toc_window_display": true
  }
 },
 "nbformat": 4,
 "nbformat_minor": 2
}
