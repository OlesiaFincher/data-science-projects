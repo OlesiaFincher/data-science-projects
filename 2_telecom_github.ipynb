{
 "cells": [
  {
   "cell_type": "markdown",
   "id": "187bff30",
   "metadata": {},
   "source": [
    "<h1>Определение перспективного тарифа для телеком-компании<span class=\"tocSkip\"></span></h1>\n",
    "\n",
    "Вы аналитик компании «Мегалайн» — федерального оператора сотовой связи. Клиентам предлагают два тарифных плана: «Смарт» и «Ультра». Чтобы скорректировать рекламный бюджет, коммерческий департамент хочет понять, какой тариф приносит больше денег.\n",
    "Вам предстоит сделать предварительный анализ тарифов на небольшой выборке клиентов. В вашем распоряжении данные 500 пользователей «Мегалайна»: кто они, откуда, каким тарифом пользуются, сколько звонков и сообщений каждый отправил за 2018 год. Нужно проанализировать поведение клиентов и сделать вывод — какой тариф лучше."
   ]
  },
  {
   "cell_type": "markdown",
   "id": "012e4519",
   "metadata": {},
   "source": [
    "## Ознакомление с данными и их обработка\n"
   ]
  },
  {
   "cell_type": "code",
   "execution_count": 1,
   "id": "4fa63543",
   "metadata": {},
   "outputs": [],
   "source": [
    "# импорт библиотек\n",
    "import pandas as pd\n",
    "import matplotlib.pyplot as plt\n",
    "%matplotlib inline\n",
    "import numpy as np\n",
    "#import seaborn as sns\n",
    "from scipy import stats as st\n",
    "\n",
    "import os"
   ]
  },
  {
   "cell_type": "code",
   "execution_count": 2,
   "id": "d79e04ef",
   "metadata": {},
   "outputs": [],
   "source": [
    "# загрузка данных\n",
    "if os.path.exists('/datasets/calls.csv'):\n",
    "    calls = pd.read_csv('/datasets/calls.csv')\n",
    "    internet = pd.read_csv('/datasets/internet.csv')\n",
    "    messages = pd.read_csv('/datasets/messages.csv')\n",
    "    tariffs = pd.read_csv('/datasets/tariffs.csv')\n",
    "    users = pd.read_csv('/datasets/users.csv')\n",
    "else:\n",
    "    calls = pd.read_csv('/Users/olesya/datasets/calls.csv')\n",
    "    internet = pd.read_csv('/Users/olesya/datasets/internet.csv')\n",
    "    messages = pd.read_csv('/Users/olesya/datasets/messages.csv')\n",
    "    tariffs = pd.read_csv('/Users/olesya/datasets/tariffs.csv')\n",
    "    users = pd.read_csv('/Users/olesya/datasets/users.csv')\n"
   ]
  },
  {
   "cell_type": "code",
   "execution_count": 3,
   "id": "ea7ac36a",
   "metadata": {},
   "outputs": [],
   "source": [
    "# изучение таблиц\n",
    "def data_info(calls, internet, messages, tariffs, users):\n",
    "    all_data = [calls, internet, messages, tariffs, users]\n",
    "    for i in all_data:\n",
    "        \n",
    "        display(i.head())\n",
    "        display(i.info())\n"
   ]
  },
  {
   "cell_type": "code",
   "execution_count": 4,
   "id": "21c14562",
   "metadata": {
    "scrolled": false
   },
   "outputs": [
    {
     "data": {
      "text/html": [
       "<div>\n",
       "<style scoped>\n",
       "    .dataframe tbody tr th:only-of-type {\n",
       "        vertical-align: middle;\n",
       "    }\n",
       "\n",
       "    .dataframe tbody tr th {\n",
       "        vertical-align: top;\n",
       "    }\n",
       "\n",
       "    .dataframe thead th {\n",
       "        text-align: right;\n",
       "    }\n",
       "</style>\n",
       "<table border=\"1\" class=\"dataframe\">\n",
       "  <thead>\n",
       "    <tr style=\"text-align: right;\">\n",
       "      <th></th>\n",
       "      <th>user_id</th>\n",
       "      <th>age</th>\n",
       "      <th>churn_date</th>\n",
       "      <th>city</th>\n",
       "      <th>first_name</th>\n",
       "      <th>last_name</th>\n",
       "      <th>reg_date</th>\n",
       "      <th>tariff</th>\n",
       "    </tr>\n",
       "  </thead>\n",
       "  <tbody>\n",
       "    <tr>\n",
       "      <th>0</th>\n",
       "      <td>1000</td>\n",
       "      <td>52</td>\n",
       "      <td>NaN</td>\n",
       "      <td>Краснодар</td>\n",
       "      <td>Рафаил</td>\n",
       "      <td>Верещагин</td>\n",
       "      <td>2018-05-25</td>\n",
       "      <td>ultra</td>\n",
       "    </tr>\n",
       "    <tr>\n",
       "      <th>1</th>\n",
       "      <td>1001</td>\n",
       "      <td>41</td>\n",
       "      <td>NaN</td>\n",
       "      <td>Москва</td>\n",
       "      <td>Иван</td>\n",
       "      <td>Ежов</td>\n",
       "      <td>2018-11-01</td>\n",
       "      <td>smart</td>\n",
       "    </tr>\n",
       "    <tr>\n",
       "      <th>2</th>\n",
       "      <td>1002</td>\n",
       "      <td>59</td>\n",
       "      <td>NaN</td>\n",
       "      <td>Стерлитамак</td>\n",
       "      <td>Евгений</td>\n",
       "      <td>Абрамович</td>\n",
       "      <td>2018-06-17</td>\n",
       "      <td>smart</td>\n",
       "    </tr>\n",
       "    <tr>\n",
       "      <th>3</th>\n",
       "      <td>1003</td>\n",
       "      <td>23</td>\n",
       "      <td>NaN</td>\n",
       "      <td>Москва</td>\n",
       "      <td>Белла</td>\n",
       "      <td>Белякова</td>\n",
       "      <td>2018-08-17</td>\n",
       "      <td>ultra</td>\n",
       "    </tr>\n",
       "    <tr>\n",
       "      <th>4</th>\n",
       "      <td>1004</td>\n",
       "      <td>68</td>\n",
       "      <td>NaN</td>\n",
       "      <td>Новокузнецк</td>\n",
       "      <td>Татьяна</td>\n",
       "      <td>Авдеенко</td>\n",
       "      <td>2018-05-14</td>\n",
       "      <td>ultra</td>\n",
       "    </tr>\n",
       "  </tbody>\n",
       "</table>\n",
       "</div>"
      ],
      "text/plain": [
       "   user_id  age churn_date         city first_name  last_name    reg_date  \\\n",
       "0     1000   52        NaN    Краснодар     Рафаил  Верещагин  2018-05-25   \n",
       "1     1001   41        NaN       Москва       Иван       Ежов  2018-11-01   \n",
       "2     1002   59        NaN  Стерлитамак    Евгений  Абрамович  2018-06-17   \n",
       "3     1003   23        NaN       Москва      Белла   Белякова  2018-08-17   \n",
       "4     1004   68        NaN  Новокузнецк    Татьяна   Авдеенко  2018-05-14   \n",
       "\n",
       "  tariff  \n",
       "0  ultra  \n",
       "1  smart  \n",
       "2  smart  \n",
       "3  ultra  \n",
       "4  ultra  "
      ]
     },
     "metadata": {},
     "output_type": "display_data"
    },
    {
     "name": "stdout",
     "output_type": "stream",
     "text": [
      "<class 'pandas.core.frame.DataFrame'>\n",
      "RangeIndex: 500 entries, 0 to 499\n",
      "Data columns (total 8 columns):\n",
      " #   Column      Non-Null Count  Dtype \n",
      "---  ------      --------------  ----- \n",
      " 0   user_id     500 non-null    int64 \n",
      " 1   age         500 non-null    int64 \n",
      " 2   churn_date  38 non-null     object\n",
      " 3   city        500 non-null    object\n",
      " 4   first_name  500 non-null    object\n",
      " 5   last_name   500 non-null    object\n",
      " 6   reg_date    500 non-null    object\n",
      " 7   tariff      500 non-null    object\n",
      "dtypes: int64(2), object(6)\n",
      "memory usage: 31.4+ KB\n"
     ]
    },
    {
     "data": {
      "text/plain": [
       "None"
      ]
     },
     "metadata": {},
     "output_type": "display_data"
    },
    {
     "data": {
      "text/html": [
       "<div>\n",
       "<style scoped>\n",
       "    .dataframe tbody tr th:only-of-type {\n",
       "        vertical-align: middle;\n",
       "    }\n",
       "\n",
       "    .dataframe tbody tr th {\n",
       "        vertical-align: top;\n",
       "    }\n",
       "\n",
       "    .dataframe thead th {\n",
       "        text-align: right;\n",
       "    }\n",
       "</style>\n",
       "<table border=\"1\" class=\"dataframe\">\n",
       "  <thead>\n",
       "    <tr style=\"text-align: right;\">\n",
       "      <th></th>\n",
       "      <th>id</th>\n",
       "      <th>call_date</th>\n",
       "      <th>duration</th>\n",
       "      <th>user_id</th>\n",
       "    </tr>\n",
       "  </thead>\n",
       "  <tbody>\n",
       "    <tr>\n",
       "      <th>0</th>\n",
       "      <td>1000_0</td>\n",
       "      <td>2018-07-25</td>\n",
       "      <td>0.00</td>\n",
       "      <td>1000</td>\n",
       "    </tr>\n",
       "    <tr>\n",
       "      <th>1</th>\n",
       "      <td>1000_1</td>\n",
       "      <td>2018-08-17</td>\n",
       "      <td>0.00</td>\n",
       "      <td>1000</td>\n",
       "    </tr>\n",
       "    <tr>\n",
       "      <th>2</th>\n",
       "      <td>1000_2</td>\n",
       "      <td>2018-06-11</td>\n",
       "      <td>2.85</td>\n",
       "      <td>1000</td>\n",
       "    </tr>\n",
       "    <tr>\n",
       "      <th>3</th>\n",
       "      <td>1000_3</td>\n",
       "      <td>2018-09-21</td>\n",
       "      <td>13.80</td>\n",
       "      <td>1000</td>\n",
       "    </tr>\n",
       "    <tr>\n",
       "      <th>4</th>\n",
       "      <td>1000_4</td>\n",
       "      <td>2018-12-15</td>\n",
       "      <td>5.18</td>\n",
       "      <td>1000</td>\n",
       "    </tr>\n",
       "  </tbody>\n",
       "</table>\n",
       "</div>"
      ],
      "text/plain": [
       "       id   call_date  duration  user_id\n",
       "0  1000_0  2018-07-25      0.00     1000\n",
       "1  1000_1  2018-08-17      0.00     1000\n",
       "2  1000_2  2018-06-11      2.85     1000\n",
       "3  1000_3  2018-09-21     13.80     1000\n",
       "4  1000_4  2018-12-15      5.18     1000"
      ]
     },
     "metadata": {},
     "output_type": "display_data"
    },
    {
     "name": "stdout",
     "output_type": "stream",
     "text": [
      "<class 'pandas.core.frame.DataFrame'>\n",
      "RangeIndex: 202607 entries, 0 to 202606\n",
      "Data columns (total 4 columns):\n",
      " #   Column     Non-Null Count   Dtype  \n",
      "---  ------     --------------   -----  \n",
      " 0   id         202607 non-null  object \n",
      " 1   call_date  202607 non-null  object \n",
      " 2   duration   202607 non-null  float64\n",
      " 3   user_id    202607 non-null  int64  \n",
      "dtypes: float64(1), int64(1), object(2)\n",
      "memory usage: 6.2+ MB\n"
     ]
    },
    {
     "data": {
      "text/plain": [
       "None"
      ]
     },
     "metadata": {},
     "output_type": "display_data"
    },
    {
     "data": {
      "text/html": [
       "<div>\n",
       "<style scoped>\n",
       "    .dataframe tbody tr th:only-of-type {\n",
       "        vertical-align: middle;\n",
       "    }\n",
       "\n",
       "    .dataframe tbody tr th {\n",
       "        vertical-align: top;\n",
       "    }\n",
       "\n",
       "    .dataframe thead th {\n",
       "        text-align: right;\n",
       "    }\n",
       "</style>\n",
       "<table border=\"1\" class=\"dataframe\">\n",
       "  <thead>\n",
       "    <tr style=\"text-align: right;\">\n",
       "      <th></th>\n",
       "      <th>Unnamed: 0</th>\n",
       "      <th>id</th>\n",
       "      <th>mb_used</th>\n",
       "      <th>session_date</th>\n",
       "      <th>user_id</th>\n",
       "    </tr>\n",
       "  </thead>\n",
       "  <tbody>\n",
       "    <tr>\n",
       "      <th>0</th>\n",
       "      <td>0</td>\n",
       "      <td>1000_0</td>\n",
       "      <td>112.95</td>\n",
       "      <td>2018-11-25</td>\n",
       "      <td>1000</td>\n",
       "    </tr>\n",
       "    <tr>\n",
       "      <th>1</th>\n",
       "      <td>1</td>\n",
       "      <td>1000_1</td>\n",
       "      <td>1052.81</td>\n",
       "      <td>2018-09-07</td>\n",
       "      <td>1000</td>\n",
       "    </tr>\n",
       "    <tr>\n",
       "      <th>2</th>\n",
       "      <td>2</td>\n",
       "      <td>1000_2</td>\n",
       "      <td>1197.26</td>\n",
       "      <td>2018-06-25</td>\n",
       "      <td>1000</td>\n",
       "    </tr>\n",
       "    <tr>\n",
       "      <th>3</th>\n",
       "      <td>3</td>\n",
       "      <td>1000_3</td>\n",
       "      <td>550.27</td>\n",
       "      <td>2018-08-22</td>\n",
       "      <td>1000</td>\n",
       "    </tr>\n",
       "    <tr>\n",
       "      <th>4</th>\n",
       "      <td>4</td>\n",
       "      <td>1000_4</td>\n",
       "      <td>302.56</td>\n",
       "      <td>2018-09-24</td>\n",
       "      <td>1000</td>\n",
       "    </tr>\n",
       "  </tbody>\n",
       "</table>\n",
       "</div>"
      ],
      "text/plain": [
       "   Unnamed: 0      id  mb_used session_date  user_id\n",
       "0           0  1000_0   112.95   2018-11-25     1000\n",
       "1           1  1000_1  1052.81   2018-09-07     1000\n",
       "2           2  1000_2  1197.26   2018-06-25     1000\n",
       "3           3  1000_3   550.27   2018-08-22     1000\n",
       "4           4  1000_4   302.56   2018-09-24     1000"
      ]
     },
     "metadata": {},
     "output_type": "display_data"
    },
    {
     "name": "stdout",
     "output_type": "stream",
     "text": [
      "<class 'pandas.core.frame.DataFrame'>\n",
      "RangeIndex: 149396 entries, 0 to 149395\n",
      "Data columns (total 5 columns):\n",
      " #   Column        Non-Null Count   Dtype  \n",
      "---  ------        --------------   -----  \n",
      " 0   Unnamed: 0    149396 non-null  int64  \n",
      " 1   id            149396 non-null  object \n",
      " 2   mb_used       149396 non-null  float64\n",
      " 3   session_date  149396 non-null  object \n",
      " 4   user_id       149396 non-null  int64  \n",
      "dtypes: float64(1), int64(2), object(2)\n",
      "memory usage: 5.7+ MB\n"
     ]
    },
    {
     "data": {
      "text/plain": [
       "None"
      ]
     },
     "metadata": {},
     "output_type": "display_data"
    },
    {
     "data": {
      "text/html": [
       "<div>\n",
       "<style scoped>\n",
       "    .dataframe tbody tr th:only-of-type {\n",
       "        vertical-align: middle;\n",
       "    }\n",
       "\n",
       "    .dataframe tbody tr th {\n",
       "        vertical-align: top;\n",
       "    }\n",
       "\n",
       "    .dataframe thead th {\n",
       "        text-align: right;\n",
       "    }\n",
       "</style>\n",
       "<table border=\"1\" class=\"dataframe\">\n",
       "  <thead>\n",
       "    <tr style=\"text-align: right;\">\n",
       "      <th></th>\n",
       "      <th>id</th>\n",
       "      <th>message_date</th>\n",
       "      <th>user_id</th>\n",
       "    </tr>\n",
       "  </thead>\n",
       "  <tbody>\n",
       "    <tr>\n",
       "      <th>0</th>\n",
       "      <td>1000_0</td>\n",
       "      <td>2018-06-27</td>\n",
       "      <td>1000</td>\n",
       "    </tr>\n",
       "    <tr>\n",
       "      <th>1</th>\n",
       "      <td>1000_1</td>\n",
       "      <td>2018-10-08</td>\n",
       "      <td>1000</td>\n",
       "    </tr>\n",
       "    <tr>\n",
       "      <th>2</th>\n",
       "      <td>1000_2</td>\n",
       "      <td>2018-08-04</td>\n",
       "      <td>1000</td>\n",
       "    </tr>\n",
       "    <tr>\n",
       "      <th>3</th>\n",
       "      <td>1000_3</td>\n",
       "      <td>2018-06-16</td>\n",
       "      <td>1000</td>\n",
       "    </tr>\n",
       "    <tr>\n",
       "      <th>4</th>\n",
       "      <td>1000_4</td>\n",
       "      <td>2018-12-05</td>\n",
       "      <td>1000</td>\n",
       "    </tr>\n",
       "  </tbody>\n",
       "</table>\n",
       "</div>"
      ],
      "text/plain": [
       "       id message_date  user_id\n",
       "0  1000_0   2018-06-27     1000\n",
       "1  1000_1   2018-10-08     1000\n",
       "2  1000_2   2018-08-04     1000\n",
       "3  1000_3   2018-06-16     1000\n",
       "4  1000_4   2018-12-05     1000"
      ]
     },
     "metadata": {},
     "output_type": "display_data"
    },
    {
     "name": "stdout",
     "output_type": "stream",
     "text": [
      "<class 'pandas.core.frame.DataFrame'>\n",
      "RangeIndex: 123036 entries, 0 to 123035\n",
      "Data columns (total 3 columns):\n",
      " #   Column        Non-Null Count   Dtype \n",
      "---  ------        --------------   ----- \n",
      " 0   id            123036 non-null  object\n",
      " 1   message_date  123036 non-null  object\n",
      " 2   user_id       123036 non-null  int64 \n",
      "dtypes: int64(1), object(2)\n",
      "memory usage: 2.8+ MB\n"
     ]
    },
    {
     "data": {
      "text/plain": [
       "None"
      ]
     },
     "metadata": {},
     "output_type": "display_data"
    },
    {
     "data": {
      "text/html": [
       "<div>\n",
       "<style scoped>\n",
       "    .dataframe tbody tr th:only-of-type {\n",
       "        vertical-align: middle;\n",
       "    }\n",
       "\n",
       "    .dataframe tbody tr th {\n",
       "        vertical-align: top;\n",
       "    }\n",
       "\n",
       "    .dataframe thead th {\n",
       "        text-align: right;\n",
       "    }\n",
       "</style>\n",
       "<table border=\"1\" class=\"dataframe\">\n",
       "  <thead>\n",
       "    <tr style=\"text-align: right;\">\n",
       "      <th></th>\n",
       "      <th>messages_included</th>\n",
       "      <th>mb_per_month_included</th>\n",
       "      <th>minutes_included</th>\n",
       "      <th>rub_monthly_fee</th>\n",
       "      <th>rub_per_gb</th>\n",
       "      <th>rub_per_message</th>\n",
       "      <th>rub_per_minute</th>\n",
       "      <th>tariff_name</th>\n",
       "    </tr>\n",
       "  </thead>\n",
       "  <tbody>\n",
       "    <tr>\n",
       "      <th>0</th>\n",
       "      <td>50</td>\n",
       "      <td>15360</td>\n",
       "      <td>500</td>\n",
       "      <td>550</td>\n",
       "      <td>200</td>\n",
       "      <td>3</td>\n",
       "      <td>3</td>\n",
       "      <td>smart</td>\n",
       "    </tr>\n",
       "    <tr>\n",
       "      <th>1</th>\n",
       "      <td>1000</td>\n",
       "      <td>30720</td>\n",
       "      <td>3000</td>\n",
       "      <td>1950</td>\n",
       "      <td>150</td>\n",
       "      <td>1</td>\n",
       "      <td>1</td>\n",
       "      <td>ultra</td>\n",
       "    </tr>\n",
       "  </tbody>\n",
       "</table>\n",
       "</div>"
      ],
      "text/plain": [
       "   messages_included  mb_per_month_included  minutes_included  \\\n",
       "0                 50                  15360               500   \n",
       "1               1000                  30720              3000   \n",
       "\n",
       "   rub_monthly_fee  rub_per_gb  rub_per_message  rub_per_minute tariff_name  \n",
       "0              550         200                3               3       smart  \n",
       "1             1950         150                1               1       ultra  "
      ]
     },
     "metadata": {},
     "output_type": "display_data"
    },
    {
     "name": "stdout",
     "output_type": "stream",
     "text": [
      "<class 'pandas.core.frame.DataFrame'>\n",
      "RangeIndex: 2 entries, 0 to 1\n",
      "Data columns (total 8 columns):\n",
      " #   Column                 Non-Null Count  Dtype \n",
      "---  ------                 --------------  ----- \n",
      " 0   messages_included      2 non-null      int64 \n",
      " 1   mb_per_month_included  2 non-null      int64 \n",
      " 2   minutes_included       2 non-null      int64 \n",
      " 3   rub_monthly_fee        2 non-null      int64 \n",
      " 4   rub_per_gb             2 non-null      int64 \n",
      " 5   rub_per_message        2 non-null      int64 \n",
      " 6   rub_per_minute         2 non-null      int64 \n",
      " 7   tariff_name            2 non-null      object\n",
      "dtypes: int64(7), object(1)\n",
      "memory usage: 256.0+ bytes\n"
     ]
    },
    {
     "data": {
      "text/plain": [
       "None"
      ]
     },
     "metadata": {},
     "output_type": "display_data"
    }
   ],
   "source": [
    "data_info(users, calls, internet, messages, tariffs)"
   ]
  },
  {
   "cell_type": "markdown",
   "id": "961b0177",
   "metadata": {},
   "source": [
    "<b>Вывод</b>\n",
    "\n",
    "- Пропуски только в таблице <b>users</b> в столбце <b>churn_date</b>, причем их довольно много. В описании задачи сказано: \"churn_date - дата прекращения пользования тарифом (если значение пропущено, то тариф ещё действовал на момент выгрузки данных)\". Заменим пропуски на будущее число, например, 1 января 2021 года. И в дальнейшем будем это учитывать при изучении гипотез.\n",
    "- В таблице <b>internet</b> видим ошибочный столбец <b>Unnamed: 0</b>, его необходимо удалить.\n",
    "- В таблице <b>calls</b> в столбце <b>duration</b> есть нулевые значения. Но из задания сказано, что это пропущенные звонки. Удалять их не будем.\n"
   ]
  },
  {
   "cell_type": "markdown",
   "id": "b562d8f3",
   "metadata": {},
   "source": [
    "## Обработка и подготовка данных"
   ]
  },
  {
   "cell_type": "markdown",
   "id": "23552983",
   "metadata": {},
   "source": [
    "Начнём с таблицы users. Обработаем пропуски."
   ]
  },
  {
   "cell_type": "code",
   "execution_count": 5,
   "id": "26c036af",
   "metadata": {},
   "outputs": [
    {
     "data": {
      "text/plain": [
       "user_id         0\n",
       "age             0\n",
       "churn_date    462\n",
       "city            0\n",
       "first_name      0\n",
       "last_name       0\n",
       "reg_date        0\n",
       "tariff          0\n",
       "dtype: int64"
      ]
     },
     "execution_count": 5,
     "metadata": {},
     "output_type": "execute_result"
    }
   ],
   "source": [
    "# подсчет пропусков\n",
    "users.isna().sum()"
   ]
  },
  {
   "cell_type": "code",
   "execution_count": 6,
   "id": "26351297",
   "metadata": {},
   "outputs": [],
   "source": [
    "# замена пропусков на мнимую дату\n",
    "users['churn_date'] = users['churn_date'].fillna('2021-01-01')\n"
   ]
  },
  {
   "cell_type": "markdown",
   "id": "2be54cda",
   "metadata": {},
   "source": [
    "Удалим столбец Unnamed: 0 в таблице internet, он нам не нужен."
   ]
  },
  {
   "cell_type": "code",
   "execution_count": 7,
   "id": "fd96009f",
   "metadata": {},
   "outputs": [
    {
     "name": "stdout",
     "output_type": "stream",
     "text": [
      "<class 'pandas.core.frame.DataFrame'>\n",
      "RangeIndex: 149396 entries, 0 to 149395\n",
      "Data columns (total 4 columns):\n",
      " #   Column        Non-Null Count   Dtype  \n",
      "---  ------        --------------   -----  \n",
      " 0   id            149396 non-null  object \n",
      " 1   mb_used       149396 non-null  float64\n",
      " 2   session_date  149396 non-null  object \n",
      " 3   user_id       149396 non-null  int64  \n",
      "dtypes: float64(1), int64(1), object(2)\n",
      "memory usage: 4.6+ MB\n"
     ]
    }
   ],
   "source": [
    "# удаление столбца методом drop\n",
    "internet.drop(['Unnamed: 0'], axis = 'columns', inplace=True)\n",
    "internet.info()"
   ]
  },
  {
   "cell_type": "markdown",
   "id": "42d22c3b",
   "metadata": {},
   "source": [
    "Заменим тип данных на даты во всех таблицах в столбах с датами."
   ]
  },
  {
   "cell_type": "code",
   "execution_count": 8,
   "id": "c6a87b71",
   "metadata": {},
   "outputs": [],
   "source": [
    "# функция замены типа данных в datetime\n",
    "def to_date(data, col):\n",
    "\n",
    "        data[col] = pd.to_datetime(data[col], format='%Y-%m-%d')\n",
    "    "
   ]
  },
  {
   "cell_type": "code",
   "execution_count": 9,
   "id": "a7ad2f48",
   "metadata": {},
   "outputs": [],
   "source": [
    "# Перевод тип данных в datetime\n",
    "to_date(users, 'churn_date')\n",
    "to_date(users, 'reg_date')\n",
    "to_date(calls, 'call_date')\n",
    "to_date(internet, 'session_date')\n",
    "to_date(messages, 'message_date')"
   ]
  },
  {
   "cell_type": "markdown",
   "id": "dca75ace",
   "metadata": {},
   "source": [
    "Добавим столбцы month в таблицы calls, internet, messages."
   ]
  },
  {
   "cell_type": "code",
   "execution_count": 10,
   "id": "949e84b7",
   "metadata": {},
   "outputs": [],
   "source": [
    "# функция добавления столбца месяц \n",
    "def to_month(data, col):\n",
    "    data['month'] = data[col].dt.month"
   ]
  },
  {
   "cell_type": "code",
   "execution_count": 11,
   "id": "71348f9f",
   "metadata": {},
   "outputs": [],
   "source": [
    "to_month(calls, 'call_date')\n",
    "to_month(internet, 'session_date')\n",
    "to_month(messages, 'message_date')"
   ]
  },
  {
   "cell_type": "markdown",
   "id": "64b3e738",
   "metadata": {},
   "source": [
    "Исходя из условия, что «Мегалайн» всегда округляет секунды до минут, даже если звонок длился всего 1 секунду, будет засчитан как 1 минута. Округлим звонки каждой сессии таблицы calls до целых минут. Далее сгруппируем таблицу по месяцам для каждого пользователя."
   ]
  },
  {
   "cell_type": "code",
   "execution_count": 12,
   "id": "fc56f092",
   "metadata": {},
   "outputs": [
    {
     "data": {
      "text/html": [
       "<div>\n",
       "<style scoped>\n",
       "    .dataframe tbody tr th:only-of-type {\n",
       "        vertical-align: middle;\n",
       "    }\n",
       "\n",
       "    .dataframe tbody tr th {\n",
       "        vertical-align: top;\n",
       "    }\n",
       "\n",
       "    .dataframe thead th {\n",
       "        text-align: right;\n",
       "    }\n",
       "</style>\n",
       "<table border=\"1\" class=\"dataframe\">\n",
       "  <thead>\n",
       "    <tr style=\"text-align: right;\">\n",
       "      <th></th>\n",
       "      <th>user_id</th>\n",
       "      <th>month</th>\n",
       "      <th>count_duration</th>\n",
       "      <th>duration</th>\n",
       "    </tr>\n",
       "  </thead>\n",
       "  <tbody>\n",
       "    <tr>\n",
       "      <th>0</th>\n",
       "      <td>1000</td>\n",
       "      <td>5</td>\n",
       "      <td>22</td>\n",
       "      <td>159.0</td>\n",
       "    </tr>\n",
       "    <tr>\n",
       "      <th>1</th>\n",
       "      <td>1000</td>\n",
       "      <td>6</td>\n",
       "      <td>43</td>\n",
       "      <td>172.0</td>\n",
       "    </tr>\n",
       "    <tr>\n",
       "      <th>2</th>\n",
       "      <td>1000</td>\n",
       "      <td>7</td>\n",
       "      <td>47</td>\n",
       "      <td>340.0</td>\n",
       "    </tr>\n",
       "    <tr>\n",
       "      <th>3</th>\n",
       "      <td>1000</td>\n",
       "      <td>8</td>\n",
       "      <td>52</td>\n",
       "      <td>408.0</td>\n",
       "    </tr>\n",
       "    <tr>\n",
       "      <th>4</th>\n",
       "      <td>1000</td>\n",
       "      <td>9</td>\n",
       "      <td>58</td>\n",
       "      <td>466.0</td>\n",
       "    </tr>\n",
       "  </tbody>\n",
       "</table>\n",
       "</div>"
      ],
      "text/plain": [
       "   user_id  month  count_duration  duration\n",
       "0     1000      5              22     159.0\n",
       "1     1000      6              43     172.0\n",
       "2     1000      7              47     340.0\n",
       "3     1000      8              52     408.0\n",
       "4     1000      9              58     466.0"
      ]
     },
     "execution_count": 12,
     "metadata": {},
     "output_type": "execute_result"
    }
   ],
   "source": [
    "# округление звонков каждой сессии и суммирование их по месяцам для каждого пользователя\n",
    "calls['duration'] = np.ceil(calls['duration'])\n",
    "calls_per_month = calls.pivot_table(index=['user_id', 'month'], values='duration', \n",
    "                                    aggfunc=['count','sum']).reset_index()\n",
    "calls_per_month.columns = ['user_id', 'month', 'count_duration', 'duration']\n",
    "calls_per_month.head()"
   ]
  },
  {
   "cell_type": "markdown",
   "id": "a181acbe",
   "metadata": {},
   "source": [
    "Переведем мегабайты таблицы internet в гигабайты, но в условии сказано, что общая сумма округляется в бо́льшую сторону за месяц. Значит объединим сессии за месяц и переведем в гигабайты."
   ]
  },
  {
   "cell_type": "code",
   "execution_count": 13,
   "id": "088d749a",
   "metadata": {},
   "outputs": [
    {
     "data": {
      "text/html": [
       "<div>\n",
       "<style scoped>\n",
       "    .dataframe tbody tr th:only-of-type {\n",
       "        vertical-align: middle;\n",
       "    }\n",
       "\n",
       "    .dataframe tbody tr th {\n",
       "        vertical-align: top;\n",
       "    }\n",
       "\n",
       "    .dataframe thead th {\n",
       "        text-align: right;\n",
       "    }\n",
       "</style>\n",
       "<table border=\"1\" class=\"dataframe\">\n",
       "  <thead>\n",
       "    <tr style=\"text-align: right;\">\n",
       "      <th></th>\n",
       "      <th>user_id</th>\n",
       "      <th>month</th>\n",
       "      <th>gb_used</th>\n",
       "    </tr>\n",
       "  </thead>\n",
       "  <tbody>\n",
       "    <tr>\n",
       "      <th>0</th>\n",
       "      <td>1000</td>\n",
       "      <td>5</td>\n",
       "      <td>3.0</td>\n",
       "    </tr>\n",
       "    <tr>\n",
       "      <th>1</th>\n",
       "      <td>1000</td>\n",
       "      <td>6</td>\n",
       "      <td>23.0</td>\n",
       "    </tr>\n",
       "    <tr>\n",
       "      <th>2</th>\n",
       "      <td>1000</td>\n",
       "      <td>7</td>\n",
       "      <td>14.0</td>\n",
       "    </tr>\n",
       "    <tr>\n",
       "      <th>3</th>\n",
       "      <td>1000</td>\n",
       "      <td>8</td>\n",
       "      <td>14.0</td>\n",
       "    </tr>\n",
       "    <tr>\n",
       "      <th>4</th>\n",
       "      <td>1000</td>\n",
       "      <td>9</td>\n",
       "      <td>15.0</td>\n",
       "    </tr>\n",
       "  </tbody>\n",
       "</table>\n",
       "</div>"
      ],
      "text/plain": [
       "   user_id  month  gb_used\n",
       "0     1000      5      3.0\n",
       "1     1000      6     23.0\n",
       "2     1000      7     14.0\n",
       "3     1000      8     14.0\n",
       "4     1000      9     15.0"
      ]
     },
     "execution_count": 13,
     "metadata": {},
     "output_type": "execute_result"
    }
   ],
   "source": [
    "# группировка по месяцам интернет трафика и перевод его в гигабайты с округлением для каждого пользователя\n",
    "internet_per_month = internet.pivot_table(index=['user_id', 'month'], values='mb_used', aggfunc='sum').reset_index()\n",
    "internet_per_month['mb_used'] = np.ceil(internet_per_month['mb_used']/1024)\n",
    "internet_per_month.columns = ['user_id', 'month', 'gb_used']\n",
    "\n",
    "internet_per_month.head()\n"
   ]
  },
  {
   "cell_type": "code",
   "execution_count": 14,
   "id": "605597f3",
   "metadata": {},
   "outputs": [
    {
     "data": {
      "text/html": [
       "<div>\n",
       "<style scoped>\n",
       "    .dataframe tbody tr th:only-of-type {\n",
       "        vertical-align: middle;\n",
       "    }\n",
       "\n",
       "    .dataframe tbody tr th {\n",
       "        vertical-align: top;\n",
       "    }\n",
       "\n",
       "    .dataframe thead th {\n",
       "        text-align: right;\n",
       "    }\n",
       "</style>\n",
       "<table border=\"1\" class=\"dataframe\">\n",
       "  <thead>\n",
       "    <tr style=\"text-align: right;\">\n",
       "      <th></th>\n",
       "      <th>user_id</th>\n",
       "      <th>month</th>\n",
       "      <th>sms</th>\n",
       "    </tr>\n",
       "  </thead>\n",
       "  <tbody>\n",
       "    <tr>\n",
       "      <th>0</th>\n",
       "      <td>1000</td>\n",
       "      <td>5</td>\n",
       "      <td>22</td>\n",
       "    </tr>\n",
       "    <tr>\n",
       "      <th>1</th>\n",
       "      <td>1000</td>\n",
       "      <td>6</td>\n",
       "      <td>60</td>\n",
       "    </tr>\n",
       "    <tr>\n",
       "      <th>2</th>\n",
       "      <td>1000</td>\n",
       "      <td>7</td>\n",
       "      <td>75</td>\n",
       "    </tr>\n",
       "    <tr>\n",
       "      <th>3</th>\n",
       "      <td>1000</td>\n",
       "      <td>8</td>\n",
       "      <td>81</td>\n",
       "    </tr>\n",
       "    <tr>\n",
       "      <th>4</th>\n",
       "      <td>1000</td>\n",
       "      <td>9</td>\n",
       "      <td>57</td>\n",
       "    </tr>\n",
       "  </tbody>\n",
       "</table>\n",
       "</div>"
      ],
      "text/plain": [
       "   user_id  month  sms\n",
       "0     1000      5   22\n",
       "1     1000      6   60\n",
       "2     1000      7   75\n",
       "3     1000      8   81\n",
       "4     1000      9   57"
      ]
     },
     "execution_count": 14,
     "metadata": {},
     "output_type": "execute_result"
    }
   ],
   "source": [
    "# суммирование количества отправленных смс в месяц для каждого пользователя\n",
    "messages_per_month = messages.pivot_table(index=['user_id', 'month'], values='id', aggfunc='count').reset_index()\n",
    "messages_per_month.columns = ['user_id', 'month', 'sms']\n",
    "messages_per_month.head()"
   ]
  },
  {
   "cell_type": "markdown",
   "id": "f02859eb",
   "metadata": {},
   "source": [
    "Объеденим три таблицы услуг с таблицей users."
   ]
  },
  {
   "cell_type": "code",
   "execution_count": 15,
   "id": "c9fae743",
   "metadata": {},
   "outputs": [
    {
     "data": {
      "text/html": [
       "<div>\n",
       "<style scoped>\n",
       "    .dataframe tbody tr th:only-of-type {\n",
       "        vertical-align: middle;\n",
       "    }\n",
       "\n",
       "    .dataframe tbody tr th {\n",
       "        vertical-align: top;\n",
       "    }\n",
       "\n",
       "    .dataframe thead th {\n",
       "        text-align: right;\n",
       "    }\n",
       "</style>\n",
       "<table border=\"1\" class=\"dataframe\">\n",
       "  <thead>\n",
       "    <tr style=\"text-align: right;\">\n",
       "      <th></th>\n",
       "      <th>user_id</th>\n",
       "      <th>age</th>\n",
       "      <th>churn_date</th>\n",
       "      <th>city</th>\n",
       "      <th>first_name</th>\n",
       "      <th>last_name</th>\n",
       "      <th>reg_date</th>\n",
       "      <th>tariff</th>\n",
       "      <th>month</th>\n",
       "      <th>count_duration</th>\n",
       "      <th>duration</th>\n",
       "      <th>gb_used</th>\n",
       "      <th>sms</th>\n",
       "    </tr>\n",
       "  </thead>\n",
       "  <tbody>\n",
       "    <tr>\n",
       "      <th>0</th>\n",
       "      <td>1000</td>\n",
       "      <td>52</td>\n",
       "      <td>2021-01-01</td>\n",
       "      <td>Краснодар</td>\n",
       "      <td>Рафаил</td>\n",
       "      <td>Верещагин</td>\n",
       "      <td>2018-05-25</td>\n",
       "      <td>ultra</td>\n",
       "      <td>5.0</td>\n",
       "      <td>22.0</td>\n",
       "      <td>159.0</td>\n",
       "      <td>3.0</td>\n",
       "      <td>22.0</td>\n",
       "    </tr>\n",
       "    <tr>\n",
       "      <th>1</th>\n",
       "      <td>1000</td>\n",
       "      <td>52</td>\n",
       "      <td>2021-01-01</td>\n",
       "      <td>Краснодар</td>\n",
       "      <td>Рафаил</td>\n",
       "      <td>Верещагин</td>\n",
       "      <td>2018-05-25</td>\n",
       "      <td>ultra</td>\n",
       "      <td>6.0</td>\n",
       "      <td>43.0</td>\n",
       "      <td>172.0</td>\n",
       "      <td>23.0</td>\n",
       "      <td>60.0</td>\n",
       "    </tr>\n",
       "    <tr>\n",
       "      <th>2</th>\n",
       "      <td>1000</td>\n",
       "      <td>52</td>\n",
       "      <td>2021-01-01</td>\n",
       "      <td>Краснодар</td>\n",
       "      <td>Рафаил</td>\n",
       "      <td>Верещагин</td>\n",
       "      <td>2018-05-25</td>\n",
       "      <td>ultra</td>\n",
       "      <td>7.0</td>\n",
       "      <td>47.0</td>\n",
       "      <td>340.0</td>\n",
       "      <td>14.0</td>\n",
       "      <td>75.0</td>\n",
       "    </tr>\n",
       "    <tr>\n",
       "      <th>3</th>\n",
       "      <td>1000</td>\n",
       "      <td>52</td>\n",
       "      <td>2021-01-01</td>\n",
       "      <td>Краснодар</td>\n",
       "      <td>Рафаил</td>\n",
       "      <td>Верещагин</td>\n",
       "      <td>2018-05-25</td>\n",
       "      <td>ultra</td>\n",
       "      <td>8.0</td>\n",
       "      <td>52.0</td>\n",
       "      <td>408.0</td>\n",
       "      <td>14.0</td>\n",
       "      <td>81.0</td>\n",
       "    </tr>\n",
       "    <tr>\n",
       "      <th>4</th>\n",
       "      <td>1000</td>\n",
       "      <td>52</td>\n",
       "      <td>2021-01-01</td>\n",
       "      <td>Краснодар</td>\n",
       "      <td>Рафаил</td>\n",
       "      <td>Верещагин</td>\n",
       "      <td>2018-05-25</td>\n",
       "      <td>ultra</td>\n",
       "      <td>9.0</td>\n",
       "      <td>58.0</td>\n",
       "      <td>466.0</td>\n",
       "      <td>15.0</td>\n",
       "      <td>57.0</td>\n",
       "    </tr>\n",
       "    <tr>\n",
       "      <th>5</th>\n",
       "      <td>1000</td>\n",
       "      <td>52</td>\n",
       "      <td>2021-01-01</td>\n",
       "      <td>Краснодар</td>\n",
       "      <td>Рафаил</td>\n",
       "      <td>Верещагин</td>\n",
       "      <td>2018-05-25</td>\n",
       "      <td>ultra</td>\n",
       "      <td>10.0</td>\n",
       "      <td>57.0</td>\n",
       "      <td>350.0</td>\n",
       "      <td>15.0</td>\n",
       "      <td>73.0</td>\n",
       "    </tr>\n",
       "    <tr>\n",
       "      <th>6</th>\n",
       "      <td>1000</td>\n",
       "      <td>52</td>\n",
       "      <td>2021-01-01</td>\n",
       "      <td>Краснодар</td>\n",
       "      <td>Рафаил</td>\n",
       "      <td>Верещагин</td>\n",
       "      <td>2018-05-25</td>\n",
       "      <td>ultra</td>\n",
       "      <td>11.0</td>\n",
       "      <td>43.0</td>\n",
       "      <td>338.0</td>\n",
       "      <td>15.0</td>\n",
       "      <td>58.0</td>\n",
       "    </tr>\n",
       "    <tr>\n",
       "      <th>7</th>\n",
       "      <td>1000</td>\n",
       "      <td>52</td>\n",
       "      <td>2021-01-01</td>\n",
       "      <td>Краснодар</td>\n",
       "      <td>Рафаил</td>\n",
       "      <td>Верещагин</td>\n",
       "      <td>2018-05-25</td>\n",
       "      <td>ultra</td>\n",
       "      <td>12.0</td>\n",
       "      <td>46.0</td>\n",
       "      <td>333.0</td>\n",
       "      <td>10.0</td>\n",
       "      <td>70.0</td>\n",
       "    </tr>\n",
       "    <tr>\n",
       "      <th>8</th>\n",
       "      <td>1001</td>\n",
       "      <td>41</td>\n",
       "      <td>2021-01-01</td>\n",
       "      <td>Москва</td>\n",
       "      <td>Иван</td>\n",
       "      <td>Ежов</td>\n",
       "      <td>2018-11-01</td>\n",
       "      <td>smart</td>\n",
       "      <td>11.0</td>\n",
       "      <td>59.0</td>\n",
       "      <td>430.0</td>\n",
       "      <td>18.0</td>\n",
       "      <td>NaN</td>\n",
       "    </tr>\n",
       "    <tr>\n",
       "      <th>9</th>\n",
       "      <td>1001</td>\n",
       "      <td>41</td>\n",
       "      <td>2021-01-01</td>\n",
       "      <td>Москва</td>\n",
       "      <td>Иван</td>\n",
       "      <td>Ежов</td>\n",
       "      <td>2018-11-01</td>\n",
       "      <td>smart</td>\n",
       "      <td>12.0</td>\n",
       "      <td>63.0</td>\n",
       "      <td>414.0</td>\n",
       "      <td>14.0</td>\n",
       "      <td>NaN</td>\n",
       "    </tr>\n",
       "  </tbody>\n",
       "</table>\n",
       "</div>"
      ],
      "text/plain": [
       "   user_id  age churn_date       city first_name  last_name   reg_date tariff  \\\n",
       "0     1000   52 2021-01-01  Краснодар     Рафаил  Верещагин 2018-05-25  ultra   \n",
       "1     1000   52 2021-01-01  Краснодар     Рафаил  Верещагин 2018-05-25  ultra   \n",
       "2     1000   52 2021-01-01  Краснодар     Рафаил  Верещагин 2018-05-25  ultra   \n",
       "3     1000   52 2021-01-01  Краснодар     Рафаил  Верещагин 2018-05-25  ultra   \n",
       "4     1000   52 2021-01-01  Краснодар     Рафаил  Верещагин 2018-05-25  ultra   \n",
       "5     1000   52 2021-01-01  Краснодар     Рафаил  Верещагин 2018-05-25  ultra   \n",
       "6     1000   52 2021-01-01  Краснодар     Рафаил  Верещагин 2018-05-25  ultra   \n",
       "7     1000   52 2021-01-01  Краснодар     Рафаил  Верещагин 2018-05-25  ultra   \n",
       "8     1001   41 2021-01-01     Москва       Иван       Ежов 2018-11-01  smart   \n",
       "9     1001   41 2021-01-01     Москва       Иван       Ежов 2018-11-01  smart   \n",
       "\n",
       "   month  count_duration  duration  gb_used   sms  \n",
       "0    5.0            22.0     159.0      3.0  22.0  \n",
       "1    6.0            43.0     172.0     23.0  60.0  \n",
       "2    7.0            47.0     340.0     14.0  75.0  \n",
       "3    8.0            52.0     408.0     14.0  81.0  \n",
       "4    9.0            58.0     466.0     15.0  57.0  \n",
       "5   10.0            57.0     350.0     15.0  73.0  \n",
       "6   11.0            43.0     338.0     15.0  58.0  \n",
       "7   12.0            46.0     333.0     10.0  70.0  \n",
       "8   11.0            59.0     430.0     18.0   NaN  \n",
       "9   12.0            63.0     414.0     14.0   NaN  "
      ]
     },
     "execution_count": 15,
     "metadata": {},
     "output_type": "execute_result"
    }
   ],
   "source": [
    "# объединение таблиц методом merge по двум столбцам user_id и month \n",
    "calls_internet = calls_per_month.merge(internet_per_month, on=['user_id', 'month'], how='outer')\n",
    "calls_internet_messages = calls_internet.merge(messages_per_month, on=['user_id', 'month'], how='outer')\n",
    "\n",
    "all_data = users.merge(calls_internet_messages, on='user_id', how='left')\n",
    "all_data.head(10)"
   ]
  },
  {
   "cell_type": "markdown",
   "id": "dbb4daad",
   "metadata": {},
   "source": [
    "Проверим на пропуски в таблице после объединения"
   ]
  },
  {
   "cell_type": "code",
   "execution_count": 16,
   "id": "aa36d464",
   "metadata": {},
   "outputs": [
    {
     "data": {
      "text/html": [
       "<div>\n",
       "<style scoped>\n",
       "    .dataframe tbody tr th:only-of-type {\n",
       "        vertical-align: middle;\n",
       "    }\n",
       "\n",
       "    .dataframe tbody tr th {\n",
       "        vertical-align: top;\n",
       "    }\n",
       "\n",
       "    .dataframe thead th {\n",
       "        text-align: right;\n",
       "    }\n",
       "</style>\n",
       "<table border=\"1\" class=\"dataframe\">\n",
       "  <thead>\n",
       "    <tr style=\"text-align: right;\">\n",
       "      <th></th>\n",
       "      <th>user_id</th>\n",
       "      <th>age</th>\n",
       "      <th>churn_date</th>\n",
       "      <th>city</th>\n",
       "      <th>first_name</th>\n",
       "      <th>last_name</th>\n",
       "      <th>reg_date</th>\n",
       "      <th>tariff</th>\n",
       "      <th>month</th>\n",
       "      <th>count_duration</th>\n",
       "      <th>duration</th>\n",
       "      <th>gb_used</th>\n",
       "      <th>sms</th>\n",
       "    </tr>\n",
       "  </thead>\n",
       "  <tbody>\n",
       "    <tr>\n",
       "      <th>827</th>\n",
       "      <td>1128</td>\n",
       "      <td>51</td>\n",
       "      <td>2018-12-23</td>\n",
       "      <td>Волжский</td>\n",
       "      <td>Ксения</td>\n",
       "      <td>Агаева</td>\n",
       "      <td>2018-12-15</td>\n",
       "      <td>ultra</td>\n",
       "      <td>NaN</td>\n",
       "      <td>NaN</td>\n",
       "      <td>NaN</td>\n",
       "      <td>NaN</td>\n",
       "      <td>NaN</td>\n",
       "    </tr>\n",
       "    <tr>\n",
       "      <th>2335</th>\n",
       "      <td>1371</td>\n",
       "      <td>50</td>\n",
       "      <td>2018-12-30</td>\n",
       "      <td>Омск</td>\n",
       "      <td>Ириней</td>\n",
       "      <td>Трофимов</td>\n",
       "      <td>2018-12-25</td>\n",
       "      <td>smart</td>\n",
       "      <td>NaN</td>\n",
       "      <td>NaN</td>\n",
       "      <td>NaN</td>\n",
       "      <td>NaN</td>\n",
       "      <td>NaN</td>\n",
       "    </tr>\n",
       "  </tbody>\n",
       "</table>\n",
       "</div>"
      ],
      "text/plain": [
       "      user_id  age churn_date      city first_name last_name   reg_date  \\\n",
       "827      1128   51 2018-12-23  Волжский     Ксения    Агаева 2018-12-15   \n",
       "2335     1371   50 2018-12-30      Омск     Ириней  Трофимов 2018-12-25   \n",
       "\n",
       "     tariff  month  count_duration  duration  gb_used  sms  \n",
       "827   ultra    NaN             NaN       NaN      NaN  NaN  \n",
       "2335  smart    NaN             NaN       NaN      NaN  NaN  "
      ]
     },
     "execution_count": 16,
     "metadata": {},
     "output_type": "execute_result"
    }
   ],
   "source": [
    "all_data[all_data['month'].isna()]"
   ]
  },
  {
   "cell_type": "markdown",
   "id": "be2056ff",
   "metadata": {},
   "source": [
    "В ходе объединения нашли два пользователя с пустыми данными по услугам. Регистрация этих пользователей 15 и 25 декабря, видимо еще не успели совершить ни единого звонка и потратить ни байта. Удалим эти строки, они нам не понадобятся. \n",
    "\n",
    "Также в таблице встречаются пропуски по услугам. Это нормально, удалять не будем. Не все пользователи используют полный спектр услуг, кто-то пользуется только звонками, кто-то только интернетом, поэтому встречаются строки, где заполнены только длительность звонков и смс, к примеру, а интернет нет, и наоборот. Такие пропуски обработаем и заменим значения на 0. Таким образом они никак не повлияют на наши исследования."
   ]
  },
  {
   "cell_type": "code",
   "execution_count": 17,
   "id": "86a88602",
   "metadata": {},
   "outputs": [
    {
     "data": {
      "text/html": [
       "<div>\n",
       "<style scoped>\n",
       "    .dataframe tbody tr th:only-of-type {\n",
       "        vertical-align: middle;\n",
       "    }\n",
       "\n",
       "    .dataframe tbody tr th {\n",
       "        vertical-align: top;\n",
       "    }\n",
       "\n",
       "    .dataframe thead th {\n",
       "        text-align: right;\n",
       "    }\n",
       "</style>\n",
       "<table border=\"1\" class=\"dataframe\">\n",
       "  <thead>\n",
       "    <tr style=\"text-align: right;\">\n",
       "      <th></th>\n",
       "      <th>user_id</th>\n",
       "      <th>age</th>\n",
       "      <th>churn_date</th>\n",
       "      <th>city</th>\n",
       "      <th>first_name</th>\n",
       "      <th>last_name</th>\n",
       "      <th>reg_date</th>\n",
       "      <th>tariff</th>\n",
       "      <th>month</th>\n",
       "      <th>count_duration</th>\n",
       "      <th>duration</th>\n",
       "      <th>gb_used</th>\n",
       "      <th>sms</th>\n",
       "    </tr>\n",
       "  </thead>\n",
       "  <tbody>\n",
       "  </tbody>\n",
       "</table>\n",
       "</div>"
      ],
      "text/plain": [
       "Empty DataFrame\n",
       "Columns: [user_id, age, churn_date, city, first_name, last_name, reg_date, tariff, month, count_duration, duration, gb_used, sms]\n",
       "Index: []"
      ]
     },
     "execution_count": 17,
     "metadata": {},
     "output_type": "execute_result"
    }
   ],
   "source": [
    "# удаление строк с пустыми значениями в столбце 'month'\n",
    "all_data.dropna(subset = ['month'], inplace = True)\n",
    "all_data[all_data['month'].isna()]"
   ]
  },
  {
   "cell_type": "code",
   "execution_count": 18,
   "id": "925fbe05",
   "metadata": {},
   "outputs": [
    {
     "data": {
      "text/html": [
       "<div>\n",
       "<style scoped>\n",
       "    .dataframe tbody tr th:only-of-type {\n",
       "        vertical-align: middle;\n",
       "    }\n",
       "\n",
       "    .dataframe tbody tr th {\n",
       "        vertical-align: top;\n",
       "    }\n",
       "\n",
       "    .dataframe thead th {\n",
       "        text-align: right;\n",
       "    }\n",
       "</style>\n",
       "<table border=\"1\" class=\"dataframe\">\n",
       "  <thead>\n",
       "    <tr style=\"text-align: right;\">\n",
       "      <th></th>\n",
       "      <th>user_id</th>\n",
       "      <th>age</th>\n",
       "      <th>churn_date</th>\n",
       "      <th>city</th>\n",
       "      <th>first_name</th>\n",
       "      <th>last_name</th>\n",
       "      <th>reg_date</th>\n",
       "      <th>tariff</th>\n",
       "      <th>month</th>\n",
       "      <th>count_duration</th>\n",
       "      <th>duration</th>\n",
       "      <th>gb_used</th>\n",
       "      <th>sms</th>\n",
       "    </tr>\n",
       "  </thead>\n",
       "  <tbody>\n",
       "    <tr>\n",
       "      <th>0</th>\n",
       "      <td>1000</td>\n",
       "      <td>52</td>\n",
       "      <td>2021-01-01</td>\n",
       "      <td>Краснодар</td>\n",
       "      <td>Рафаил</td>\n",
       "      <td>Верещагин</td>\n",
       "      <td>2018-05-25</td>\n",
       "      <td>ultra</td>\n",
       "      <td>5.0</td>\n",
       "      <td>22.0</td>\n",
       "      <td>159.0</td>\n",
       "      <td>3.0</td>\n",
       "      <td>22.0</td>\n",
       "    </tr>\n",
       "    <tr>\n",
       "      <th>1</th>\n",
       "      <td>1000</td>\n",
       "      <td>52</td>\n",
       "      <td>2021-01-01</td>\n",
       "      <td>Краснодар</td>\n",
       "      <td>Рафаил</td>\n",
       "      <td>Верещагин</td>\n",
       "      <td>2018-05-25</td>\n",
       "      <td>ultra</td>\n",
       "      <td>6.0</td>\n",
       "      <td>43.0</td>\n",
       "      <td>172.0</td>\n",
       "      <td>23.0</td>\n",
       "      <td>60.0</td>\n",
       "    </tr>\n",
       "    <tr>\n",
       "      <th>2</th>\n",
       "      <td>1000</td>\n",
       "      <td>52</td>\n",
       "      <td>2021-01-01</td>\n",
       "      <td>Краснодар</td>\n",
       "      <td>Рафаил</td>\n",
       "      <td>Верещагин</td>\n",
       "      <td>2018-05-25</td>\n",
       "      <td>ultra</td>\n",
       "      <td>7.0</td>\n",
       "      <td>47.0</td>\n",
       "      <td>340.0</td>\n",
       "      <td>14.0</td>\n",
       "      <td>75.0</td>\n",
       "    </tr>\n",
       "    <tr>\n",
       "      <th>3</th>\n",
       "      <td>1000</td>\n",
       "      <td>52</td>\n",
       "      <td>2021-01-01</td>\n",
       "      <td>Краснодар</td>\n",
       "      <td>Рафаил</td>\n",
       "      <td>Верещагин</td>\n",
       "      <td>2018-05-25</td>\n",
       "      <td>ultra</td>\n",
       "      <td>8.0</td>\n",
       "      <td>52.0</td>\n",
       "      <td>408.0</td>\n",
       "      <td>14.0</td>\n",
       "      <td>81.0</td>\n",
       "    </tr>\n",
       "    <tr>\n",
       "      <th>4</th>\n",
       "      <td>1000</td>\n",
       "      <td>52</td>\n",
       "      <td>2021-01-01</td>\n",
       "      <td>Краснодар</td>\n",
       "      <td>Рафаил</td>\n",
       "      <td>Верещагин</td>\n",
       "      <td>2018-05-25</td>\n",
       "      <td>ultra</td>\n",
       "      <td>9.0</td>\n",
       "      <td>58.0</td>\n",
       "      <td>466.0</td>\n",
       "      <td>15.0</td>\n",
       "      <td>57.0</td>\n",
       "    </tr>\n",
       "    <tr>\n",
       "      <th>5</th>\n",
       "      <td>1000</td>\n",
       "      <td>52</td>\n",
       "      <td>2021-01-01</td>\n",
       "      <td>Краснодар</td>\n",
       "      <td>Рафаил</td>\n",
       "      <td>Верещагин</td>\n",
       "      <td>2018-05-25</td>\n",
       "      <td>ultra</td>\n",
       "      <td>10.0</td>\n",
       "      <td>57.0</td>\n",
       "      <td>350.0</td>\n",
       "      <td>15.0</td>\n",
       "      <td>73.0</td>\n",
       "    </tr>\n",
       "    <tr>\n",
       "      <th>6</th>\n",
       "      <td>1000</td>\n",
       "      <td>52</td>\n",
       "      <td>2021-01-01</td>\n",
       "      <td>Краснодар</td>\n",
       "      <td>Рафаил</td>\n",
       "      <td>Верещагин</td>\n",
       "      <td>2018-05-25</td>\n",
       "      <td>ultra</td>\n",
       "      <td>11.0</td>\n",
       "      <td>43.0</td>\n",
       "      <td>338.0</td>\n",
       "      <td>15.0</td>\n",
       "      <td>58.0</td>\n",
       "    </tr>\n",
       "    <tr>\n",
       "      <th>7</th>\n",
       "      <td>1000</td>\n",
       "      <td>52</td>\n",
       "      <td>2021-01-01</td>\n",
       "      <td>Краснодар</td>\n",
       "      <td>Рафаил</td>\n",
       "      <td>Верещагин</td>\n",
       "      <td>2018-05-25</td>\n",
       "      <td>ultra</td>\n",
       "      <td>12.0</td>\n",
       "      <td>46.0</td>\n",
       "      <td>333.0</td>\n",
       "      <td>10.0</td>\n",
       "      <td>70.0</td>\n",
       "    </tr>\n",
       "    <tr>\n",
       "      <th>8</th>\n",
       "      <td>1001</td>\n",
       "      <td>41</td>\n",
       "      <td>2021-01-01</td>\n",
       "      <td>Москва</td>\n",
       "      <td>Иван</td>\n",
       "      <td>Ежов</td>\n",
       "      <td>2018-11-01</td>\n",
       "      <td>smart</td>\n",
       "      <td>11.0</td>\n",
       "      <td>59.0</td>\n",
       "      <td>430.0</td>\n",
       "      <td>18.0</td>\n",
       "      <td>0.0</td>\n",
       "    </tr>\n",
       "    <tr>\n",
       "      <th>9</th>\n",
       "      <td>1001</td>\n",
       "      <td>41</td>\n",
       "      <td>2021-01-01</td>\n",
       "      <td>Москва</td>\n",
       "      <td>Иван</td>\n",
       "      <td>Ежов</td>\n",
       "      <td>2018-11-01</td>\n",
       "      <td>smart</td>\n",
       "      <td>12.0</td>\n",
       "      <td>63.0</td>\n",
       "      <td>414.0</td>\n",
       "      <td>14.0</td>\n",
       "      <td>0.0</td>\n",
       "    </tr>\n",
       "  </tbody>\n",
       "</table>\n",
       "</div>"
      ],
      "text/plain": [
       "   user_id  age churn_date       city first_name  last_name   reg_date tariff  \\\n",
       "0     1000   52 2021-01-01  Краснодар     Рафаил  Верещагин 2018-05-25  ultra   \n",
       "1     1000   52 2021-01-01  Краснодар     Рафаил  Верещагин 2018-05-25  ultra   \n",
       "2     1000   52 2021-01-01  Краснодар     Рафаил  Верещагин 2018-05-25  ultra   \n",
       "3     1000   52 2021-01-01  Краснодар     Рафаил  Верещагин 2018-05-25  ultra   \n",
       "4     1000   52 2021-01-01  Краснодар     Рафаил  Верещагин 2018-05-25  ultra   \n",
       "5     1000   52 2021-01-01  Краснодар     Рафаил  Верещагин 2018-05-25  ultra   \n",
       "6     1000   52 2021-01-01  Краснодар     Рафаил  Верещагин 2018-05-25  ultra   \n",
       "7     1000   52 2021-01-01  Краснодар     Рафаил  Верещагин 2018-05-25  ultra   \n",
       "8     1001   41 2021-01-01     Москва       Иван       Ежов 2018-11-01  smart   \n",
       "9     1001   41 2021-01-01     Москва       Иван       Ежов 2018-11-01  smart   \n",
       "\n",
       "   month  count_duration  duration  gb_used   sms  \n",
       "0    5.0            22.0     159.0      3.0  22.0  \n",
       "1    6.0            43.0     172.0     23.0  60.0  \n",
       "2    7.0            47.0     340.0     14.0  75.0  \n",
       "3    8.0            52.0     408.0     14.0  81.0  \n",
       "4    9.0            58.0     466.0     15.0  57.0  \n",
       "5   10.0            57.0     350.0     15.0  73.0  \n",
       "6   11.0            43.0     338.0     15.0  58.0  \n",
       "7   12.0            46.0     333.0     10.0  70.0  \n",
       "8   11.0            59.0     430.0     18.0   0.0  \n",
       "9   12.0            63.0     414.0     14.0   0.0  "
      ]
     },
     "execution_count": 18,
     "metadata": {},
     "output_type": "execute_result"
    }
   ],
   "source": [
    "all_data = all_data.fillna(0) #замена пустых значений на 0\n",
    "all_data.head(10)"
   ]
  },
  {
   "cell_type": "markdown",
   "id": "8ad83a52",
   "metadata": {},
   "source": [
    "Переведем значения столбцов месяц, звонки, интернет трафик и смс в целочисленный тип."
   ]
  },
  {
   "cell_type": "code",
   "execution_count": 19,
   "id": "dbbf7897",
   "metadata": {},
   "outputs": [
    {
     "data": {
      "text/html": [
       "<div>\n",
       "<style scoped>\n",
       "    .dataframe tbody tr th:only-of-type {\n",
       "        vertical-align: middle;\n",
       "    }\n",
       "\n",
       "    .dataframe tbody tr th {\n",
       "        vertical-align: top;\n",
       "    }\n",
       "\n",
       "    .dataframe thead th {\n",
       "        text-align: right;\n",
       "    }\n",
       "</style>\n",
       "<table border=\"1\" class=\"dataframe\">\n",
       "  <thead>\n",
       "    <tr style=\"text-align: right;\">\n",
       "      <th></th>\n",
       "      <th>user_id</th>\n",
       "      <th>age</th>\n",
       "      <th>churn_date</th>\n",
       "      <th>city</th>\n",
       "      <th>first_name</th>\n",
       "      <th>last_name</th>\n",
       "      <th>reg_date</th>\n",
       "      <th>tariff</th>\n",
       "      <th>month</th>\n",
       "      <th>count_duration</th>\n",
       "      <th>duration</th>\n",
       "      <th>gb_used</th>\n",
       "      <th>sms</th>\n",
       "    </tr>\n",
       "  </thead>\n",
       "  <tbody>\n",
       "    <tr>\n",
       "      <th>0</th>\n",
       "      <td>1000</td>\n",
       "      <td>52</td>\n",
       "      <td>2021-01-01</td>\n",
       "      <td>Краснодар</td>\n",
       "      <td>Рафаил</td>\n",
       "      <td>Верещагин</td>\n",
       "      <td>2018-05-25</td>\n",
       "      <td>ultra</td>\n",
       "      <td>5</td>\n",
       "      <td>22</td>\n",
       "      <td>159</td>\n",
       "      <td>3</td>\n",
       "      <td>22</td>\n",
       "    </tr>\n",
       "    <tr>\n",
       "      <th>1</th>\n",
       "      <td>1000</td>\n",
       "      <td>52</td>\n",
       "      <td>2021-01-01</td>\n",
       "      <td>Краснодар</td>\n",
       "      <td>Рафаил</td>\n",
       "      <td>Верещагин</td>\n",
       "      <td>2018-05-25</td>\n",
       "      <td>ultra</td>\n",
       "      <td>6</td>\n",
       "      <td>43</td>\n",
       "      <td>172</td>\n",
       "      <td>23</td>\n",
       "      <td>60</td>\n",
       "    </tr>\n",
       "    <tr>\n",
       "      <th>2</th>\n",
       "      <td>1000</td>\n",
       "      <td>52</td>\n",
       "      <td>2021-01-01</td>\n",
       "      <td>Краснодар</td>\n",
       "      <td>Рафаил</td>\n",
       "      <td>Верещагин</td>\n",
       "      <td>2018-05-25</td>\n",
       "      <td>ultra</td>\n",
       "      <td>7</td>\n",
       "      <td>47</td>\n",
       "      <td>340</td>\n",
       "      <td>14</td>\n",
       "      <td>75</td>\n",
       "    </tr>\n",
       "    <tr>\n",
       "      <th>3</th>\n",
       "      <td>1000</td>\n",
       "      <td>52</td>\n",
       "      <td>2021-01-01</td>\n",
       "      <td>Краснодар</td>\n",
       "      <td>Рафаил</td>\n",
       "      <td>Верещагин</td>\n",
       "      <td>2018-05-25</td>\n",
       "      <td>ultra</td>\n",
       "      <td>8</td>\n",
       "      <td>52</td>\n",
       "      <td>408</td>\n",
       "      <td>14</td>\n",
       "      <td>81</td>\n",
       "    </tr>\n",
       "    <tr>\n",
       "      <th>4</th>\n",
       "      <td>1000</td>\n",
       "      <td>52</td>\n",
       "      <td>2021-01-01</td>\n",
       "      <td>Краснодар</td>\n",
       "      <td>Рафаил</td>\n",
       "      <td>Верещагин</td>\n",
       "      <td>2018-05-25</td>\n",
       "      <td>ultra</td>\n",
       "      <td>9</td>\n",
       "      <td>58</td>\n",
       "      <td>466</td>\n",
       "      <td>15</td>\n",
       "      <td>57</td>\n",
       "    </tr>\n",
       "  </tbody>\n",
       "</table>\n",
       "</div>"
      ],
      "text/plain": [
       "   user_id  age churn_date       city first_name  last_name   reg_date tariff  \\\n",
       "0     1000   52 2021-01-01  Краснодар     Рафаил  Верещагин 2018-05-25  ultra   \n",
       "1     1000   52 2021-01-01  Краснодар     Рафаил  Верещагин 2018-05-25  ultra   \n",
       "2     1000   52 2021-01-01  Краснодар     Рафаил  Верещагин 2018-05-25  ultra   \n",
       "3     1000   52 2021-01-01  Краснодар     Рафаил  Верещагин 2018-05-25  ultra   \n",
       "4     1000   52 2021-01-01  Краснодар     Рафаил  Верещагин 2018-05-25  ultra   \n",
       "\n",
       "   month  count_duration  duration  gb_used  sms  \n",
       "0      5              22       159        3   22  \n",
       "1      6              43       172       23   60  \n",
       "2      7              47       340       14   75  \n",
       "3      8              52       408       14   81  \n",
       "4      9              58       466       15   57  "
      ]
     },
     "execution_count": 19,
     "metadata": {},
     "output_type": "execute_result"
    }
   ],
   "source": [
    "# заменим тип float на int\n",
    "all_data['month'] = all_data['month'].astype(int)\n",
    "all_data['count_duration'] = all_data['count_duration'].astype(int)\n",
    "all_data['duration'] = all_data['duration'].astype(int)\n",
    "all_data['gb_used'] = all_data['gb_used'].astype(int)\n",
    "all_data['sms'] = all_data['sms'].astype(int)\n",
    "\n",
    "all_data.head()"
   ]
  },
  {
   "cell_type": "markdown",
   "id": "1409fba1",
   "metadata": {},
   "source": [
    "<b>Вывод</b>\n",
    "\n",
    "В каждую талиблицу услуг добавили столбец месяц, далее сгруппировали и просуммировали услуги по месяцам для каждого пользователя. Для удобства дальнейшего исследования объединили таблицы в одну. Также удалили и обработали пустые значения, перевели данные в целочисленный, где это было возможным."
   ]
  },
  {
   "cell_type": "markdown",
   "id": "3e214a79",
   "metadata": {},
   "source": [
    "## Расчёты и добавление результатов в таблицу"
   ]
  },
  {
   "cell_type": "markdown",
   "id": "4a332792",
   "metadata": {},
   "source": [
    "Переведем мегабайты таблицы tariffs в гигабайты и изменим названия столбцов."
   ]
  },
  {
   "cell_type": "code",
   "execution_count": 20,
   "id": "a47e194d",
   "metadata": {},
   "outputs": [
    {
     "data": {
      "text/html": [
       "<div>\n",
       "<style scoped>\n",
       "    .dataframe tbody tr th:only-of-type {\n",
       "        vertical-align: middle;\n",
       "    }\n",
       "\n",
       "    .dataframe tbody tr th {\n",
       "        vertical-align: top;\n",
       "    }\n",
       "\n",
       "    .dataframe thead th {\n",
       "        text-align: right;\n",
       "    }\n",
       "</style>\n",
       "<table border=\"1\" class=\"dataframe\">\n",
       "  <thead>\n",
       "    <tr style=\"text-align: right;\">\n",
       "      <th></th>\n",
       "      <th>messages_included</th>\n",
       "      <th>gb_included</th>\n",
       "      <th>minutes_included</th>\n",
       "      <th>fee</th>\n",
       "      <th>per_gb</th>\n",
       "      <th>per_message</th>\n",
       "      <th>per_minute</th>\n",
       "      <th>tariff</th>\n",
       "    </tr>\n",
       "  </thead>\n",
       "  <tbody>\n",
       "    <tr>\n",
       "      <th>0</th>\n",
       "      <td>50</td>\n",
       "      <td>15</td>\n",
       "      <td>500</td>\n",
       "      <td>550</td>\n",
       "      <td>200</td>\n",
       "      <td>3</td>\n",
       "      <td>3</td>\n",
       "      <td>smart</td>\n",
       "    </tr>\n",
       "    <tr>\n",
       "      <th>1</th>\n",
       "      <td>1000</td>\n",
       "      <td>30</td>\n",
       "      <td>3000</td>\n",
       "      <td>1950</td>\n",
       "      <td>150</td>\n",
       "      <td>1</td>\n",
       "      <td>1</td>\n",
       "      <td>ultra</td>\n",
       "    </tr>\n",
       "  </tbody>\n",
       "</table>\n",
       "</div>"
      ],
      "text/plain": [
       "   messages_included  gb_included  minutes_included   fee  per_gb  \\\n",
       "0                 50           15               500   550     200   \n",
       "1               1000           30              3000  1950     150   \n",
       "\n",
       "   per_message  per_minute tariff  \n",
       "0            3           3  smart  \n",
       "1            1           1  ultra  "
      ]
     },
     "execution_count": 20,
     "metadata": {},
     "output_type": "execute_result"
    }
   ],
   "source": [
    "tariffs['mb_per_month_included'] = np.ceil(tariffs['mb_per_month_included']/1024).astype(int)\n",
    "tariffs.columns = ['messages_included', 'gb_included', 'minutes_included', 'fee', 'per_gb', 'per_message', 'per_minute', 'tariff']\n",
    "\n",
    "tariffs.head()"
   ]
  },
  {
   "cell_type": "markdown",
   "id": "805167b9",
   "metadata": {},
   "source": [
    "Посчитаем и добавим в таблицу помесячную выручку по каждому пользователю."
   ]
  },
  {
   "cell_type": "code",
   "execution_count": 21,
   "id": "25a9ae7e",
   "metadata": {},
   "outputs": [],
   "source": [
    "def create_revenue(data): # функция подсчета выручки за месяц по каждому пользователю\n",
    "    calls = 0\n",
    "    internet = 0\n",
    "    sms = 0\n",
    "    smart = 550\n",
    "    ultra = 1950\n",
    "    \n",
    "    if data['tariff'] == 'smart':\n",
    "        if (data['duration'] < 500) & (data['gb_used'] < 15) & (data['sms'] < 50):\n",
    "            total = smart + calls + internet + sms\n",
    "            return (total)\n",
    "        \n",
    "        else:\n",
    "            if data['duration'] > 500:\n",
    "                calls = (data['duration'] - 500) * 3\n",
    "            else:\n",
    "                calls = 0\n",
    "            \n",
    "            if data['gb_used'] > 15:\n",
    "                internet = (data['gb_used'] - 15) * 200\n",
    "            else:\n",
    "                internet = 0\n",
    "                \n",
    "            if data['sms'] > 50:\n",
    "                sms = (data['sms'] - 50) * 3\n",
    "            else:\n",
    "                sms = 0\n",
    "            \n",
    "            total = smart + calls + internet + sms\n",
    "            return (total)\n",
    "    \n",
    "    else:\n",
    "        if (data['duration'] < 3000) & (data['gb_used'] < 30) & (data['sms'] < 1000):\n",
    "            total = ultra + calls + internet + sms\n",
    "            return (total)\n",
    "        \n",
    "        else:\n",
    "            if data['duration'] > 3000:\n",
    "                calls = (data['duration'] - 3000) * 1\n",
    "            else:\n",
    "                calls = 0\n",
    "            \n",
    "            if data['gb_used'] > 30:\n",
    "                internet = (data['gb_used'] - 30) * 150\n",
    "            else:\n",
    "                internet = 0\n",
    "\n",
    "            if data['sms'] > 1000:\n",
    "                sms = (data['sms'] - 1000) * 1\n",
    "            else:\n",
    "                sms = 0\n",
    "                                                                 \n",
    "            total = ultra + calls + internet\n",
    "            return (total)\n",
    "     \n",
    "        \n",
    "all_data['revenue'] = all_data.apply(create_revenue, axis=1) \n"
   ]
  },
  {
   "cell_type": "markdown",
   "id": "dc386405",
   "metadata": {},
   "source": [
    "Добавим столбец сезон в общую таблицу."
   ]
  },
  {
   "cell_type": "code",
   "execution_count": 22,
   "id": "b0859c6e",
   "metadata": {},
   "outputs": [
    {
     "data": {
      "text/html": [
       "<div>\n",
       "<style scoped>\n",
       "    .dataframe tbody tr th:only-of-type {\n",
       "        vertical-align: middle;\n",
       "    }\n",
       "\n",
       "    .dataframe tbody tr th {\n",
       "        vertical-align: top;\n",
       "    }\n",
       "\n",
       "    .dataframe thead th {\n",
       "        text-align: right;\n",
       "    }\n",
       "</style>\n",
       "<table border=\"1\" class=\"dataframe\">\n",
       "  <thead>\n",
       "    <tr style=\"text-align: right;\">\n",
       "      <th></th>\n",
       "      <th>user_id</th>\n",
       "      <th>age</th>\n",
       "      <th>churn_date</th>\n",
       "      <th>city</th>\n",
       "      <th>first_name</th>\n",
       "      <th>last_name</th>\n",
       "      <th>reg_date</th>\n",
       "      <th>tariff</th>\n",
       "      <th>month</th>\n",
       "      <th>count_duration</th>\n",
       "      <th>duration</th>\n",
       "      <th>gb_used</th>\n",
       "      <th>sms</th>\n",
       "      <th>revenue</th>\n",
       "      <th>season</th>\n",
       "    </tr>\n",
       "  </thead>\n",
       "  <tbody>\n",
       "    <tr>\n",
       "      <th>0</th>\n",
       "      <td>1000</td>\n",
       "      <td>52</td>\n",
       "      <td>2021-01-01</td>\n",
       "      <td>Краснодар</td>\n",
       "      <td>Рафаил</td>\n",
       "      <td>Верещагин</td>\n",
       "      <td>2018-05-25</td>\n",
       "      <td>ultra</td>\n",
       "      <td>5</td>\n",
       "      <td>22</td>\n",
       "      <td>159</td>\n",
       "      <td>3</td>\n",
       "      <td>22</td>\n",
       "      <td>1950</td>\n",
       "      <td>Весна</td>\n",
       "    </tr>\n",
       "    <tr>\n",
       "      <th>1</th>\n",
       "      <td>1000</td>\n",
       "      <td>52</td>\n",
       "      <td>2021-01-01</td>\n",
       "      <td>Краснодар</td>\n",
       "      <td>Рафаил</td>\n",
       "      <td>Верещагин</td>\n",
       "      <td>2018-05-25</td>\n",
       "      <td>ultra</td>\n",
       "      <td>6</td>\n",
       "      <td>43</td>\n",
       "      <td>172</td>\n",
       "      <td>23</td>\n",
       "      <td>60</td>\n",
       "      <td>1950</td>\n",
       "      <td>Лето</td>\n",
       "    </tr>\n",
       "    <tr>\n",
       "      <th>2</th>\n",
       "      <td>1000</td>\n",
       "      <td>52</td>\n",
       "      <td>2021-01-01</td>\n",
       "      <td>Краснодар</td>\n",
       "      <td>Рафаил</td>\n",
       "      <td>Верещагин</td>\n",
       "      <td>2018-05-25</td>\n",
       "      <td>ultra</td>\n",
       "      <td>7</td>\n",
       "      <td>47</td>\n",
       "      <td>340</td>\n",
       "      <td>14</td>\n",
       "      <td>75</td>\n",
       "      <td>1950</td>\n",
       "      <td>Лето</td>\n",
       "    </tr>\n",
       "    <tr>\n",
       "      <th>3</th>\n",
       "      <td>1000</td>\n",
       "      <td>52</td>\n",
       "      <td>2021-01-01</td>\n",
       "      <td>Краснодар</td>\n",
       "      <td>Рафаил</td>\n",
       "      <td>Верещагин</td>\n",
       "      <td>2018-05-25</td>\n",
       "      <td>ultra</td>\n",
       "      <td>8</td>\n",
       "      <td>52</td>\n",
       "      <td>408</td>\n",
       "      <td>14</td>\n",
       "      <td>81</td>\n",
       "      <td>1950</td>\n",
       "      <td>Лето</td>\n",
       "    </tr>\n",
       "    <tr>\n",
       "      <th>4</th>\n",
       "      <td>1000</td>\n",
       "      <td>52</td>\n",
       "      <td>2021-01-01</td>\n",
       "      <td>Краснодар</td>\n",
       "      <td>Рафаил</td>\n",
       "      <td>Верещагин</td>\n",
       "      <td>2018-05-25</td>\n",
       "      <td>ultra</td>\n",
       "      <td>9</td>\n",
       "      <td>58</td>\n",
       "      <td>466</td>\n",
       "      <td>15</td>\n",
       "      <td>57</td>\n",
       "      <td>1950</td>\n",
       "      <td>Осень</td>\n",
       "    </tr>\n",
       "    <tr>\n",
       "      <th>5</th>\n",
       "      <td>1000</td>\n",
       "      <td>52</td>\n",
       "      <td>2021-01-01</td>\n",
       "      <td>Краснодар</td>\n",
       "      <td>Рафаил</td>\n",
       "      <td>Верещагин</td>\n",
       "      <td>2018-05-25</td>\n",
       "      <td>ultra</td>\n",
       "      <td>10</td>\n",
       "      <td>57</td>\n",
       "      <td>350</td>\n",
       "      <td>15</td>\n",
       "      <td>73</td>\n",
       "      <td>1950</td>\n",
       "      <td>Осень</td>\n",
       "    </tr>\n",
       "    <tr>\n",
       "      <th>6</th>\n",
       "      <td>1000</td>\n",
       "      <td>52</td>\n",
       "      <td>2021-01-01</td>\n",
       "      <td>Краснодар</td>\n",
       "      <td>Рафаил</td>\n",
       "      <td>Верещагин</td>\n",
       "      <td>2018-05-25</td>\n",
       "      <td>ultra</td>\n",
       "      <td>11</td>\n",
       "      <td>43</td>\n",
       "      <td>338</td>\n",
       "      <td>15</td>\n",
       "      <td>58</td>\n",
       "      <td>1950</td>\n",
       "      <td>Осень</td>\n",
       "    </tr>\n",
       "    <tr>\n",
       "      <th>7</th>\n",
       "      <td>1000</td>\n",
       "      <td>52</td>\n",
       "      <td>2021-01-01</td>\n",
       "      <td>Краснодар</td>\n",
       "      <td>Рафаил</td>\n",
       "      <td>Верещагин</td>\n",
       "      <td>2018-05-25</td>\n",
       "      <td>ultra</td>\n",
       "      <td>12</td>\n",
       "      <td>46</td>\n",
       "      <td>333</td>\n",
       "      <td>10</td>\n",
       "      <td>70</td>\n",
       "      <td>1950</td>\n",
       "      <td>Зима</td>\n",
       "    </tr>\n",
       "    <tr>\n",
       "      <th>8</th>\n",
       "      <td>1001</td>\n",
       "      <td>41</td>\n",
       "      <td>2021-01-01</td>\n",
       "      <td>Москва</td>\n",
       "      <td>Иван</td>\n",
       "      <td>Ежов</td>\n",
       "      <td>2018-11-01</td>\n",
       "      <td>smart</td>\n",
       "      <td>11</td>\n",
       "      <td>59</td>\n",
       "      <td>430</td>\n",
       "      <td>18</td>\n",
       "      <td>0</td>\n",
       "      <td>1150</td>\n",
       "      <td>Осень</td>\n",
       "    </tr>\n",
       "    <tr>\n",
       "      <th>9</th>\n",
       "      <td>1001</td>\n",
       "      <td>41</td>\n",
       "      <td>2021-01-01</td>\n",
       "      <td>Москва</td>\n",
       "      <td>Иван</td>\n",
       "      <td>Ежов</td>\n",
       "      <td>2018-11-01</td>\n",
       "      <td>smart</td>\n",
       "      <td>12</td>\n",
       "      <td>63</td>\n",
       "      <td>414</td>\n",
       "      <td>14</td>\n",
       "      <td>0</td>\n",
       "      <td>550</td>\n",
       "      <td>Зима</td>\n",
       "    </tr>\n",
       "  </tbody>\n",
       "</table>\n",
       "</div>"
      ],
      "text/plain": [
       "   user_id  age churn_date       city first_name  last_name   reg_date tariff  \\\n",
       "0     1000   52 2021-01-01  Краснодар     Рафаил  Верещагин 2018-05-25  ultra   \n",
       "1     1000   52 2021-01-01  Краснодар     Рафаил  Верещагин 2018-05-25  ultra   \n",
       "2     1000   52 2021-01-01  Краснодар     Рафаил  Верещагин 2018-05-25  ultra   \n",
       "3     1000   52 2021-01-01  Краснодар     Рафаил  Верещагин 2018-05-25  ultra   \n",
       "4     1000   52 2021-01-01  Краснодар     Рафаил  Верещагин 2018-05-25  ultra   \n",
       "5     1000   52 2021-01-01  Краснодар     Рафаил  Верещагин 2018-05-25  ultra   \n",
       "6     1000   52 2021-01-01  Краснодар     Рафаил  Верещагин 2018-05-25  ultra   \n",
       "7     1000   52 2021-01-01  Краснодар     Рафаил  Верещагин 2018-05-25  ultra   \n",
       "8     1001   41 2021-01-01     Москва       Иван       Ежов 2018-11-01  smart   \n",
       "9     1001   41 2021-01-01     Москва       Иван       Ежов 2018-11-01  smart   \n",
       "\n",
       "   month  count_duration  duration  gb_used  sms  revenue season  \n",
       "0      5              22       159        3   22     1950  Весна  \n",
       "1      6              43       172       23   60     1950   Лето  \n",
       "2      7              47       340       14   75     1950   Лето  \n",
       "3      8              52       408       14   81     1950   Лето  \n",
       "4      9              58       466       15   57     1950  Осень  \n",
       "5     10              57       350       15   73     1950  Осень  \n",
       "6     11              43       338       15   58     1950  Осень  \n",
       "7     12              46       333       10   70     1950   Зима  \n",
       "8     11              59       430       18    0     1150  Осень  \n",
       "9     12              63       414       14    0      550   Зима  "
      ]
     },
     "execution_count": 22,
     "metadata": {},
     "output_type": "execute_result"
    }
   ],
   "source": [
    "def create_seasons(row): # функция создания сезонов с возвратом значений, в зависимости от обработки условия\n",
    "    season = row['month']\n",
    "    if season in [3, 4, 5]:\n",
    "        return 'Весна'\n",
    "    elif season in [6, 7, 8]:\n",
    "        return 'Лето'\n",
    "    elif season in [9, 10, 11]:\n",
    "        return 'Осень'\n",
    "    else:\n",
    "        return 'Зима'\n",
    "all_data['season'] = all_data.apply(create_seasons, axis=1) # создание нового столбца season в зависимости от месяца пользования услугами\n",
    "\n",
    "all_data.head(10)"
   ]
  },
  {
   "cell_type": "markdown",
   "id": "aeb08f9c",
   "metadata": {},
   "source": [
    "Теперь всё красиво. Таблица готова к дальнейшим исследованиям."
   ]
  },
  {
   "cell_type": "markdown",
   "id": "0b71cc01",
   "metadata": {},
   "source": [
    "## Анализ данных"
   ]
  },
  {
   "cell_type": "markdown",
   "id": "997e89bc",
   "metadata": {},
   "source": [
    "<b> Опишите поведение клиентов оператора, исходя из выборки. Сколько минут разговора, сколько сообщений и какой объём интернет-трафика требуется пользователям каждого тарифа в месяц? Посчитайте среднее количество, дисперсию и стандартное отклонение. Постройте гистограммы. Опишите распределения.</b>"
   ]
  },
  {
   "cell_type": "markdown",
   "id": "590d6f65",
   "metadata": {},
   "source": [
    "<b>Звонки</b>\n",
    "\n",
    "Расчитаем среднее количество звонков, дисперсию и стандартное отклонение по каждому тарифу и выведем в общей таблице."
   ]
  },
  {
   "cell_type": "code",
   "execution_count": 23,
   "id": "1f8014fb",
   "metadata": {},
   "outputs": [
    {
     "data": {
      "text/html": [
       "<div>\n",
       "<style scoped>\n",
       "    .dataframe tbody tr th:only-of-type {\n",
       "        vertical-align: middle;\n",
       "    }\n",
       "\n",
       "    .dataframe tbody tr th {\n",
       "        vertical-align: top;\n",
       "    }\n",
       "\n",
       "    .dataframe thead th {\n",
       "        text-align: right;\n",
       "    }\n",
       "</style>\n",
       "<table border=\"1\" class=\"dataframe\">\n",
       "  <thead>\n",
       "    <tr style=\"text-align: right;\">\n",
       "      <th></th>\n",
       "      <th>среднее</th>\n",
       "      <th>дисперсия</th>\n",
       "      <th>отклонение</th>\n",
       "    </tr>\n",
       "    <tr>\n",
       "      <th>tariff</th>\n",
       "      <th></th>\n",
       "      <th></th>\n",
       "      <th></th>\n",
       "    </tr>\n",
       "  </thead>\n",
       "  <tbody>\n",
       "    <tr>\n",
       "      <th>smart</th>\n",
       "      <td>417.934948</td>\n",
       "      <td>36219.315784</td>\n",
       "      <td>190.313730</td>\n",
       "    </tr>\n",
       "    <tr>\n",
       "      <th>ultra</th>\n",
       "      <td>526.623350</td>\n",
       "      <td>100873.633397</td>\n",
       "      <td>317.606098</td>\n",
       "    </tr>\n",
       "  </tbody>\n",
       "</table>\n",
       "</div>"
      ],
      "text/plain": [
       "           среднее      дисперсия  отклонение\n",
       "tariff                                       \n",
       "smart   417.934948   36219.315784  190.313730\n",
       "ultra   526.623350  100873.633397  317.606098"
      ]
     },
     "execution_count": 23,
     "metadata": {},
     "output_type": "execute_result"
    }
   ],
   "source": [
    "#посчёт среднего, дисперсии и стандартного отклонения\n",
    "call_stat = all_data.pivot_table(index='tariff', values='duration', aggfunc=['mean', 'var', 'std'])\n",
    "call_stat.columns = ['среднее', 'дисперсия', 'отклонение']\n",
    "call_stat.head()"
   ]
  },
  {
   "cell_type": "markdown",
   "id": "e20f3516",
   "metadata": {},
   "source": [
    "Построим гистрограмму длительности звонков по каждому тарифу."
   ]
  },
  {
   "cell_type": "code",
   "execution_count": 28,
   "id": "1310a887",
   "metadata": {},
   "outputs": [
    {
     "data": {
      "image/png": "[encoded data removed]",
      "text/plain": [
       "<Figure size 432x288 with 1 Axes>"
      ]
     },
     "metadata": {
      "needs_background": "light"
     },
     "output_type": "display_data"
    }
   ],
   "source": [
    "smart = all_data.query('tariff==\"smart\"')\n",
    "ultra = all_data.query('tariff==\"ultra\"')\n",
    "plt.hist(smart['duration'], alpha=0.7, label='smart')\n",
    "plt.hist(ultra['duration'], alpha=0.7, label='ultra')\n",
    "plt.title('Количество минут разговора двух тарифов')\n",
    "plt.legend(loc='upper right');"
   ]
  },
  {
   "cell_type": "markdown",
   "id": "34fc457d",
   "metadata": {},
   "source": [
    "Распределение гистограммы smart тарифа можно назвать нормальным, видно, что большая часть значений действительно лежит в промежутке от 300 до 550 минут звонков в месяц. \n",
    "Гистограмма тарифа ultra скошена вправо. Это говорит о том, что значение медианы меньше среднего, значит есть ряд высоких значений, которые влияют на среднее, но не влияют на медиану. Видим, что основная масса пользователей использует 400 - 700 минут в месяц.\n",
    "\n",
    "Пользователи smart тарифа используют всего немного меньшее количество минут в месяц, чем пользователи ultra. Скорее всего, пользователи ultra выбирают этот тариф не из-за количества минут, а по другим причинам. Однако, распределение на гистограммах неодинаковое и можно заметить, что есть ряд пользователей ultra, которые всё-таки используют большее количество минут по назначению, хотя никто и не достигает лимита в 3000 минут."
   ]
  },
  {
   "cell_type": "markdown",
   "id": "170f987d",
   "metadata": {},
   "source": [
    "<b>Интернет</b>\n",
    "\n",
    "Расчитаем среднее количество интернет-трафика, дисперсию и стандартное отклонение по каждому тарифу и выведем в общей таблице."
   ]
  },
  {
   "cell_type": "code",
   "execution_count": 29,
   "id": "cfdb2395",
   "metadata": {},
   "outputs": [
    {
     "data": {
      "text/html": [
       "<div>\n",
       "<style scoped>\n",
       "    .dataframe tbody tr th:only-of-type {\n",
       "        vertical-align: middle;\n",
       "    }\n",
       "\n",
       "    .dataframe tbody tr th {\n",
       "        vertical-align: top;\n",
       "    }\n",
       "\n",
       "    .dataframe thead th {\n",
       "        text-align: right;\n",
       "    }\n",
       "</style>\n",
       "<table border=\"1\" class=\"dataframe\">\n",
       "  <thead>\n",
       "    <tr style=\"text-align: right;\">\n",
       "      <th></th>\n",
       "      <th>среднее</th>\n",
       "      <th>дисперсия</th>\n",
       "      <th>отклонение</th>\n",
       "    </tr>\n",
       "    <tr>\n",
       "      <th>tariff</th>\n",
       "      <th></th>\n",
       "      <th></th>\n",
       "      <th></th>\n",
       "    </tr>\n",
       "  </thead>\n",
       "  <tbody>\n",
       "    <tr>\n",
       "      <th>smart</th>\n",
       "      <td>16.328847</td>\n",
       "      <td>33.028705</td>\n",
       "      <td>5.747061</td>\n",
       "    </tr>\n",
       "    <tr>\n",
       "      <th>ultra</th>\n",
       "      <td>19.494416</td>\n",
       "      <td>97.091686</td>\n",
       "      <td>9.853511</td>\n",
       "    </tr>\n",
       "  </tbody>\n",
       "</table>\n",
       "</div>"
      ],
      "text/plain": [
       "          среднее  дисперсия  отклонение\n",
       "tariff                                  \n",
       "smart   16.328847  33.028705    5.747061\n",
       "ultra   19.494416  97.091686    9.853511"
      ]
     },
     "execution_count": 29,
     "metadata": {},
     "output_type": "execute_result"
    }
   ],
   "source": [
    "#посчёт среднего, дисперсии и стандартного отклонения\n",
    "internet_stat = all_data.pivot_table(index='tariff', values='gb_used', aggfunc=['mean', 'var', 'std'])\n",
    "internet_stat.columns = ['среднее', 'дисперсия', 'отклонение']\n",
    "internet_stat.head()"
   ]
  },
  {
   "cell_type": "markdown",
   "id": "7706b27f",
   "metadata": {},
   "source": [
    "Построим гистрограмму интернет-траффика по каждому тарифу."
   ]
  },
  {
   "cell_type": "code",
   "execution_count": 31,
   "id": "bd8ac6d8",
   "metadata": {},
   "outputs": [
    {
     "data": {
      "image/png": "[encoded data removed]",
      "text/plain": [
       "<Figure size 432x288 with 1 Axes>"
      ]
     },
     "metadata": {
      "needs_background": "light"
     },
     "output_type": "display_data"
    }
   ],
   "source": [
    "plt.hist(smart['gb_used'], alpha=0.7, label='smart')\n",
    "plt.hist(ultra['gb_used'], alpha=0.7, label='ultra')\n",
    "plt.title('Количество использованного интернет-трафика')\n",
    "plt.legend(loc='upper right');"
   ]
  },
  {
   "cell_type": "markdown",
   "id": "240a8761",
   "metadata": {},
   "source": [
    "Распределение тарифа smart нормальное, видим, что чуть меньше половины пользователей придерживается крайних значений лимита в 15 Gb, однако, остальная часть пользователей докупает недостающий трафик.\n",
    "\n",
    "По тарифу ultra основная масса пользователей используют намного больше трафика, чем пользователи smart. 2/3 пользователей укладываются в лимит, однако, есть часть, которым траффика в тарифе недостаточно.\n",
    "\n",
    "Пользователи тарифа ultra используют гораздо больше трафика, чем пользователи более дешевого тарифа. Можно предположить, что те, кто выбирает тариф ultra заинтересованы именно в более активном пользовании интернетом."
   ]
  },
  {
   "cell_type": "markdown",
   "id": "b1396789",
   "metadata": {},
   "source": [
    "<b>Сообщения</b>\n",
    "\n",
    "Расчитаем среднее количество отправленных смс, дисперсию и стандартное отклонение по каждому тарифу и выведем в общей таблице."
   ]
  },
  {
   "cell_type": "code",
   "execution_count": 32,
   "id": "bcac0686",
   "metadata": {},
   "outputs": [
    {
     "data": {
      "text/html": [
       "<div>\n",
       "<style scoped>\n",
       "    .dataframe tbody tr th:only-of-type {\n",
       "        vertical-align: middle;\n",
       "    }\n",
       "\n",
       "    .dataframe tbody tr th {\n",
       "        vertical-align: top;\n",
       "    }\n",
       "\n",
       "    .dataframe thead th {\n",
       "        text-align: right;\n",
       "    }\n",
       "</style>\n",
       "<table border=\"1\" class=\"dataframe\">\n",
       "  <thead>\n",
       "    <tr style=\"text-align: right;\">\n",
       "      <th></th>\n",
       "      <th>среднее</th>\n",
       "      <th>дисперсия</th>\n",
       "      <th>отклонение</th>\n",
       "    </tr>\n",
       "    <tr>\n",
       "      <th>tariff</th>\n",
       "      <th></th>\n",
       "      <th></th>\n",
       "      <th></th>\n",
       "    </tr>\n",
       "  </thead>\n",
       "  <tbody>\n",
       "    <tr>\n",
       "      <th>smart</th>\n",
       "      <td>33.384029</td>\n",
       "      <td>796.812958</td>\n",
       "      <td>28.227876</td>\n",
       "    </tr>\n",
       "    <tr>\n",
       "      <th>ultra</th>\n",
       "      <td>49.363452</td>\n",
       "      <td>2285.266143</td>\n",
       "      <td>47.804457</td>\n",
       "    </tr>\n",
       "  </tbody>\n",
       "</table>\n",
       "</div>"
      ],
      "text/plain": [
       "          среднее    дисперсия  отклонение\n",
       "tariff                                    \n",
       "smart   33.384029   796.812958   28.227876\n",
       "ultra   49.363452  2285.266143   47.804457"
      ]
     },
     "execution_count": 32,
     "metadata": {},
     "output_type": "execute_result"
    }
   ],
   "source": [
    "#посчёт среднего, дисперсии и стандартного отклонения\n",
    "sms_stat = all_data.pivot_table(index='tariff', values='sms', aggfunc=['mean', 'var', 'std'])\n",
    "sms_stat.columns = ['среднее', 'дисперсия', 'отклонение']\n",
    "sms_stat.head()"
   ]
  },
  {
   "cell_type": "code",
   "execution_count": 33,
   "id": "3f8c7c0e",
   "metadata": {},
   "outputs": [
    {
     "data": {
      "text/html": [
       "<style type=\"text/css\">\n",
       "</style>\n",
       "<table id=\"T_832cb_\">\n",
       "  <thead>\n",
       "    <tr>\n",
       "      <th class=\"blank\" >&nbsp;</th>\n",
       "      <th class=\"index_name level0\" >tariff</th>\n",
       "      <th class=\"col_heading level0 col0\" >smart</th>\n",
       "      <th class=\"col_heading level0 col1\" >ultra</th>\n",
       "    </tr>\n",
       "  </thead>\n",
       "  <tbody>\n",
       "    <tr>\n",
       "      <th id=\"T_832cb_level0_row0\" class=\"row_heading level0 row0\" rowspan=\"3\">mean</th>\n",
       "      <th id=\"T_832cb_level1_row0\" class=\"row_heading level1 row0\" >duration</th>\n",
       "      <td id=\"T_832cb_row0_col0\" class=\"data row0 col0\" >417.93</td>\n",
       "      <td id=\"T_832cb_row0_col1\" class=\"data row0 col1\" >526.62</td>\n",
       "    </tr>\n",
       "    <tr>\n",
       "      <th id=\"T_832cb_level1_row1\" class=\"row_heading level1 row1\" >gb_used</th>\n",
       "      <td id=\"T_832cb_row1_col0\" class=\"data row1 col0\" >16.33</td>\n",
       "      <td id=\"T_832cb_row1_col1\" class=\"data row1 col1\" >19.49</td>\n",
       "    </tr>\n",
       "    <tr>\n",
       "      <th id=\"T_832cb_level1_row2\" class=\"row_heading level1 row2\" >sms</th>\n",
       "      <td id=\"T_832cb_row2_col0\" class=\"data row2 col0\" >33.38</td>\n",
       "      <td id=\"T_832cb_row2_col1\" class=\"data row2 col1\" >49.36</td>\n",
       "    </tr>\n",
       "    <tr>\n",
       "      <th id=\"T_832cb_level0_row3\" class=\"row_heading level0 row3\" rowspan=\"3\">std</th>\n",
       "      <th id=\"T_832cb_level1_row3\" class=\"row_heading level1 row3\" >duration</th>\n",
       "      <td id=\"T_832cb_row3_col0\" class=\"data row3 col0\" >190.31</td>\n",
       "      <td id=\"T_832cb_row3_col1\" class=\"data row3 col1\" >317.61</td>\n",
       "    </tr>\n",
       "    <tr>\n",
       "      <th id=\"T_832cb_level1_row4\" class=\"row_heading level1 row4\" >gb_used</th>\n",
       "      <td id=\"T_832cb_row4_col0\" class=\"data row4 col0\" >5.75</td>\n",
       "      <td id=\"T_832cb_row4_col1\" class=\"data row4 col1\" >9.85</td>\n",
       "    </tr>\n",
       "    <tr>\n",
       "      <th id=\"T_832cb_level1_row5\" class=\"row_heading level1 row5\" >sms</th>\n",
       "      <td id=\"T_832cb_row5_col0\" class=\"data row5 col0\" >28.23</td>\n",
       "      <td id=\"T_832cb_row5_col1\" class=\"data row5 col1\" >47.80</td>\n",
       "    </tr>\n",
       "    <tr>\n",
       "      <th id=\"T_832cb_level0_row6\" class=\"row_heading level0 row6\" rowspan=\"3\">var</th>\n",
       "      <th id=\"T_832cb_level1_row6\" class=\"row_heading level1 row6\" >duration</th>\n",
       "      <td id=\"T_832cb_row6_col0\" class=\"data row6 col0\" >36219.32</td>\n",
       "      <td id=\"T_832cb_row6_col1\" class=\"data row6 col1\" >100873.63</td>\n",
       "    </tr>\n",
       "    <tr>\n",
       "      <th id=\"T_832cb_level1_row7\" class=\"row_heading level1 row7\" >gb_used</th>\n",
       "      <td id=\"T_832cb_row7_col0\" class=\"data row7 col0\" >33.03</td>\n",
       "      <td id=\"T_832cb_row7_col1\" class=\"data row7 col1\" >97.09</td>\n",
       "    </tr>\n",
       "    <tr>\n",
       "      <th id=\"T_832cb_level1_row8\" class=\"row_heading level1 row8\" >sms</th>\n",
       "      <td id=\"T_832cb_row8_col0\" class=\"data row8 col0\" >796.81</td>\n",
       "      <td id=\"T_832cb_row8_col1\" class=\"data row8 col1\" >2285.27</td>\n",
       "    </tr>\n",
       "  </tbody>\n",
       "</table>\n"
      ],
      "text/plain": [
       "<pandas.io.formats.style.Styler at 0x12474db80>"
      ]
     },
     "execution_count": 33,
     "metadata": {},
     "output_type": "execute_result"
    }
   ],
   "source": [
    "all_data.pivot_table(index='tariff',  \n",
    "                 values=['duration', 'gb_used', 'sms'], \n",
    "                 aggfunc=['mean', 'std', 'var']).T.style.format('{:.2f}')"
   ]
  },
  {
   "cell_type": "markdown",
   "id": "fa0b2e43",
   "metadata": {},
   "source": [
    "Построим гистрограмму количества смс для каждого тарифа."
   ]
  },
  {
   "cell_type": "code",
   "execution_count": 34,
   "id": "81a29a5d",
   "metadata": {},
   "outputs": [
    {
     "data": {
      "image/png": "[encoded data removed]",
      "text/plain": [
       "<Figure size 432x288 with 1 Axes>"
      ]
     },
     "metadata": {
      "needs_background": "light"
     },
     "output_type": "display_data"
    }
   ],
   "source": [
    "plt.hist(smart['sms'], alpha=0.7, label='smart')\n",
    "plt.hist(ultra['sms'], alpha=0.7, label='ultra')\n",
    "plt.title('Количество отправленных смс')\n",
    "plt.legend(loc='upper right');"
   ]
  },
  {
   "cell_type": "markdown",
   "id": "01405186",
   "metadata": {},
   "source": [
    "Гистограммы двух тарифов скошены вправо - среднее однозначно больше медианы. Большинство пользователей тарифа smart используют сообщения в рамках лимита (50 смс), но окло 30% всё же значительно превышают лимит, тем самым принося выручку компании.\n",
    "\n",
    "Основная масса пльзователей ultra использует меньше сообщений, чем в smart. Однако, есть и те, кто отправляет больше 100 сообщений. Но лимита в 1000 смс не достигает никто."
   ]
  },
  {
   "cell_type": "markdown",
   "id": "2492622e",
   "metadata": {},
   "source": [
    "<b>Вывод</b>\n",
    "\n",
    "<b>Пользователи smart тарифа используют чуть меньшее количество минут на разговоры и отправку сообщений в месяц, чем пользователи ultra. Однако, и по звонкам и по смс 1/3 пользователей smart превышает допстимый лимит по услугам. По тарифу ultra лимита на количество доступных минут и смс в среднем не достигает никто. Интернетом активно пользуются клиенты двух тарифов, ultra гораздо активнее. Однако, больше половины пользователей тарифа smart докупают траффик, тем самым больше принося выручку компании.</b>"
   ]
  },
  {
   "cell_type": "markdown",
   "id": "2dadb382",
   "metadata": {},
   "source": [
    "## Проверка гипотез"
   ]
  },
  {
   "cell_type": "markdown",
   "id": "1af4f84a",
   "metadata": {},
   "source": [
    "### 1. Cредняя выручка пользователей тарифов «Ультра» и «Смарт» различаются"
   ]
  },
  {
   "cell_type": "markdown",
   "id": "b8b7499d",
   "metadata": {},
   "source": [
    "Сформулируем нулевую (Н₀) и альтернативную (H₁) гипотезы. Совокупности не зависят друг от друга.\n",
    "\n",
    "- H₀ - средняя выручка пользователей тарифов «Ультра» и «Смарт» не отличается\n",
    "- H₁ - средняя выручка пользователей тарифов «Ультра» и «Смарт» отличается"
   ]
  },
  {
   "cell_type": "code",
   "execution_count": 35,
   "id": "b1cf2f05",
   "metadata": {},
   "outputs": [
    {
     "name": "stdout",
     "output_type": "stream",
     "text": [
      "p-значение: 1.4229814360764067e-160\n",
      "Отвергаем нулевую гипотезу\n"
     ]
    }
   ],
   "source": [
    "# зададим критический уровень статистической значимости\n",
    "alpha = 0.05\n",
    "\n",
    "# проверка гипотезы о равенстве средних двух тарифов\n",
    "results = st.ttest_ind(\n",
    "    smart['revenue'],\n",
    "    ultra['revenue']\n",
    ")\n",
    "\n",
    "print('p-значение:', results.pvalue)\n",
    "\n",
    "if (results.pvalue < alpha):\n",
    "    print(\"Отвергаем нулевую гипотезу\")\n",
    "else:\n",
    "    print(\"Не получилось отвергнуть нулевую гипотезу\")\n",
    "    "
   ]
  },
  {
   "cell_type": "markdown",
   "id": "a6ab835d",
   "metadata": {},
   "source": [
    "Нулевую гипотезу отвергаем.\n",
    "Верно утверждение, что средняя выручка пользователей тарифов Смарт и Ультра различается.\n",
    "Посмотрим среднюю выручку в месяц с пользователя для каждого тарифа."
   ]
  },
  {
   "cell_type": "code",
   "execution_count": 36,
   "id": "93da06bb",
   "metadata": {},
   "outputs": [
    {
     "data": {
      "text/html": [
       "<div>\n",
       "<style scoped>\n",
       "    .dataframe tbody tr th:only-of-type {\n",
       "        vertical-align: middle;\n",
       "    }\n",
       "\n",
       "    .dataframe tbody tr th {\n",
       "        vertical-align: top;\n",
       "    }\n",
       "\n",
       "    .dataframe thead th {\n",
       "        text-align: right;\n",
       "    }\n",
       "</style>\n",
       "<table border=\"1\" class=\"dataframe\">\n",
       "  <thead>\n",
       "    <tr style=\"text-align: right;\">\n",
       "      <th></th>\n",
       "      <th>revenue</th>\n",
       "    </tr>\n",
       "    <tr>\n",
       "      <th>tariff</th>\n",
       "      <th></th>\n",
       "    </tr>\n",
       "  </thead>\n",
       "  <tbody>\n",
       "    <tr>\n",
       "      <th>smart</th>\n",
       "      <td>1289.97</td>\n",
       "    </tr>\n",
       "    <tr>\n",
       "      <th>ultra</th>\n",
       "      <td>2070.15</td>\n",
       "    </tr>\n",
       "  </tbody>\n",
       "</table>\n",
       "</div>"
      ],
      "text/plain": [
       "        revenue\n",
       "tariff         \n",
       "smart   1289.97\n",
       "ultra   2070.15"
      ]
     },
     "execution_count": 36,
     "metadata": {},
     "output_type": "execute_result"
    }
   ],
   "source": [
    "# Средняя выручка в месяц с пользователя\n",
    "revenue = all_data.pivot_table(index='tariff', values='revenue', aggfunc='mean').round(2)\n",
    "revenue.head()"
   ]
  },
  {
   "cell_type": "markdown",
   "id": "fc7f624e",
   "metadata": {},
   "source": [
    "<b>Итак, между выручкой есть разница. По среднему значению видим, что пользователи тарифа ultra в среднем приносят больше денег, так как их абонентская плата в 3,5 раза выше, чем абонентская плата пользующихся тарифом smart (1950р. против 550р.). И хотя, пользователи smart довольно часто \"вылезают\" за пределы своего тарифа, оплачивая дополнительные услуги, они всё равно не догоняют по тратам пользователей тарифа ultra.</b>"
   ]
  },
  {
   "cell_type": "markdown",
   "id": "360f7158",
   "metadata": {},
   "source": [
    "### 2. Cредняя выручка пользователей из Москвы отличается от выручки пользователей из других регионов"
   ]
  },
  {
   "cell_type": "markdown",
   "id": "b7371f2a",
   "metadata": {},
   "source": [
    "Сформулируем нулевую (Н₀) и альтернативную (H₁) гипотезы. Совокупности не зависят друг от друга.\n",
    "\n",
    "- H₀ - средняя выручка пользователей из Москвы и других регионов не отличается\n",
    "- H₁ - средняя выручка пользователей из Москвы и других регионов отличается"
   ]
  },
  {
   "cell_type": "code",
   "execution_count": 37,
   "id": "bb3faf49",
   "metadata": {},
   "outputs": [],
   "source": [
    "moscow_city = all_data.query('city == \"Москва\"')\n",
    "other_cities = all_data.query('city != \"Москва\"')"
   ]
  },
  {
   "cell_type": "code",
   "execution_count": 38,
   "id": "e6b22ff1",
   "metadata": {},
   "outputs": [
    {
     "name": "stdout",
     "output_type": "stream",
     "text": [
      "p-значение: 0.5440152911670224\n",
      "Не получилось отвергнуть нулевую гипотезу\n"
     ]
    }
   ],
   "source": [
    "# зададим критический уровень статистической значимости\n",
    "alpha = 0.05\n",
    "\n",
    "# проверка гипотезы о равенстве средней выручки пользователей из Москвы и регионов\n",
    "results = st.ttest_ind(\n",
    "    moscow_city['revenue'],\n",
    "    other_cities['revenue']\n",
    ")\n",
    "\n",
    "print('p-значение:', results.pvalue)\n",
    "\n",
    "if (results.pvalue < alpha):\n",
    "    print(\"Отвергаем нулевую гипотезу\")\n",
    "else:\n",
    "    print(\"Не получилось отвергнуть нулевую гипотезу\")\n",
    "  "
   ]
  },
  {
   "cell_type": "markdown",
   "id": "17801dff",
   "metadata": {},
   "source": [
    "Нулевую гипотезу не получилось отвергнуть. Верно утверждение, что средняя выручка пользователей из Москвы не отличается от выручки пользователей из других регионов. Посмотрим среднюю выручку в месяц пользователей по регионам."
   ]
  },
  {
   "cell_type": "code",
   "execution_count": 39,
   "id": "6f1a5acb",
   "metadata": {},
   "outputs": [
    {
     "name": "stdout",
     "output_type": "stream",
     "text": [
      "Средняя выручка в месяц пользователя из Москвы: 1546.71\n",
      "Средняя выручка в месяц пользователя из других регионов: 1524.94\n"
     ]
    }
   ],
   "source": [
    "# Средняя выручка в месяц пользователей из Москвы и других регионов\n",
    "print('Средняя выручка в месяц пользователя из Москвы:', round(moscow_city['revenue'].mean(), 2))\n",
    "print('Средняя выручка в месяц пользователя из других регионов:', round(other_cities['revenue'].mean(), 2))"
   ]
  },
  {
   "cell_type": "markdown",
   "id": "7401a5f2",
   "metadata": {},
   "source": [
    "<b>Вывод</b>\n",
    "\n",
    "<b>Средняя выручка пользователей из Москвы и пользователей из других регионов почти равнозначна. </b>"
   ]
  },
  {
   "cell_type": "markdown",
   "id": "17ca2ac5",
   "metadata": {},
   "source": [
    "## Общий вывод"
   ]
  },
  {
   "cell_type": "markdown",
   "id": "aabb3f29",
   "metadata": {},
   "source": [
    "Cоберем общие средние данные по использованным услугам и их процент от включенных в абонентскую плату лимитов:"
   ]
  },
  {
   "cell_type": "code",
   "execution_count": 40,
   "id": "f72fc781",
   "metadata": {},
   "outputs": [
    {
     "name": "stdout",
     "output_type": "stream",
     "text": [
      "Средний процент использования пакета интернет-трафика по тарифу \"Смарт\" с лимитом 15 Гб - 108.86% = 16.3 Гб\n",
      "Средний процент использования пакета минут по тарифу \"Смарт\" с лимитом 500 мин - 83.59% = 417.93 мин\n",
      "Средний процент использования пакета смс по тарифу \"Смарт\" с лимитом 50 шт - 66.77% = 33 шт\n",
      "---------------------------------------------------------------------------------\n",
      "Средний процент использования пакета интернет-трафика по тарифу \"Ультра\" с лимитом 30 Гб - 64.98% = 19.5 Гб\n",
      "Средний процент использования пакета минут по тарифу \"Ультра\" с лимитом 3000 мин - 17.55% = 526.62 мин\n",
      "Средний процент использования пакета смс по тарифу \"Ультра\" с лимитом 1000 шт - 4.94% = 49 шт\n"
     ]
    }
   ],
   "source": [
    "limit_smart = [15, 500, 50]\n",
    "limit_ultra = [30, 3000, 1000]\n",
    "\n",
    "smart_mean_internet = (all_data[(all_data['tariff'] == 'smart')]['gb_used']/15).mean()\n",
    "print('Средний процент использования пакета интернет-трафика по тарифу \"Смарт\" с лимитом {:.0f} Гб - {:.2%} = {:.1f} Гб'.\n",
    "      format(limit_smart[0], smart_mean_internet, smart_mean_internet * 15))\n",
    "smart_mean_calls = (all_data[(all_data['tariff'] == 'smart')]['duration']/500).mean()\n",
    "print('Средний процент использования пакета минут по тарифу \"Смарт\" с лимитом {:.0f} мин - {:.2%} = {:.2f} мин'.\n",
    "      format(limit_smart[1], smart_mean_calls, smart_mean_calls * 500))\n",
    "smart_mean_sms = (all_data[(all_data['tariff'] == 'smart')]['sms']/50).mean()\n",
    "print('Средний процент использования пакета смс по тарифу \"Смарт\" с лимитом {:.0f} шт - {:.2%} = {:.0f} шт'.\n",
    "      format(limit_smart[2], smart_mean_sms, smart_mean_sms * 50))\n",
    "print('---------------------------------------------------------------------------------')\n",
    "\n",
    "ultra_mean_internet = (all_data[(all_data['tariff'] == 'ultra')]['gb_used']/30).mean()\n",
    "print('Средний процент использования пакета интернет-трафика по тарифу \"Ультра\" с лимитом {:.0f} Гб - {:.2%} = {:.1f} Гб'.\n",
    "      format(limit_ultra[0], ultra_mean_internet, ultra_mean_internet * 30))\n",
    "ultra_mean_calls = (all_data[(all_data['tariff'] == 'ultra')]['duration']/3000).mean()\n",
    "print('Средний процент использования пакета минут по тарифу \"Ультра\" с лимитом {:.0f} мин - {:.2%} = {:.2f} мин'.\n",
    "      format(limit_ultra[1], ultra_mean_calls, ultra_mean_calls * 3000))\n",
    "ultra_mean_sms = (all_data[(all_data['tariff'] == 'ultra')]['sms']/1000).mean()\n",
    "print('Средний процент использования пакета смс по тарифу \"Ультра\" с лимитом {:.0f} шт - {:.2%} = {:.0f} шт'.\n",
    "      format(limit_ultra[2], ultra_mean_sms, ultra_mean_sms * 1000))"
   ]
  },
  {
   "cell_type": "markdown",
   "id": "dd02a622",
   "metadata": {},
   "source": [
    "Также посчитаем средний процент и сумму выручки по каждому тарифу:"
   ]
  },
  {
   "cell_type": "code",
   "execution_count": 41,
   "id": "6fc971ba",
   "metadata": {},
   "outputs": [
    {
     "name": "stdout",
     "output_type": "stream",
     "text": [
      "Средний процент выручки по тарифу \"Смарт\" - 234.54% = 1289.97 руб\n",
      "Средний процент выручки по тарифу \"Ультра\" - 106.16% = 2070.15 руб\n"
     ]
    }
   ],
   "source": [
    "smart_mean_revenue = (all_data[(all_data['tariff'] == 'smart')]['revenue']/550).mean()\n",
    "print('Средний процент выручки по тарифу \"Смарт\" - {:.2%} = {:.2f} руб'.\n",
    "      format(smart_mean_revenue, smart_mean_revenue * 550))\n",
    "ultra_mean_revenue = (all_data[(all_data['tariff'] == 'ultra')]['revenue']/1950).mean()\n",
    "print('Средний процент выручки по тарифу \"Ультра\" - {:.2%} = {:.2f} руб'.\n",
    "      format(ultra_mean_revenue, ultra_mean_revenue * 1950))"
   ]
  },
  {
   "cell_type": "markdown",
   "id": "d5e7374b",
   "metadata": {},
   "source": [
    "<b>Вывод</b>\n",
    "\n",
    "Среднему пользователю тарифа Смарт не хватает 2 Гб интернета, включенных в пакет абонентской платы (15 Гб) и ему приходится дозаказывать их и доплачивать за них 400 рублей. \n",
    "\n",
    "Средняя выручка за переплату по тарифу Смарт составляет 234%, а это значит, что пользователи почти в 2.5 раза чаще вылезают за пределы лимита, дозаказывая доп.услуги. Однако, даже такая разница переплаты не дает больше выручки, чем пользователи тарифа Ультра, просто оплачивая абоненсткую плату.\n",
    "\n",
    "Таким образом, в тарифной сетке есть дешевый тариф Смарт за 550 рублей, где пользователю не хватает интернета и количество использованных минут разговора на грани лимита (418 мин из 500), и есть тариф Ультра, стоимостью 1950 рублей, которым пользуется уже другой класс граждан, где лимитов по всем типам связи предостаточно.\n",
    "\n",
    "Можно сделать вывод, что \"Мегалайну\" надо подумать и выработать промежуточное решение, которое позволяло бы клиенту более комфортно, без доп. заказов, пользоваться услугами связи. И возможно цена должна варьироваться в районе 1000 рублей, которые клиент готов тратить в месяц в качестве абонентской платы за более обширный пакет интернета, чем в тарифе Смарт, но меньше, чем в Ультра."
   ]
  }
 ],
 "metadata": {
  "ExecuteTimeLog": [
   {
    "duration": 995,
    "start_time": "2022-03-07T18:21:48.292Z"
   },
   {
    "duration": 361,
    "start_time": "2022-03-07T18:21:49.289Z"
   },
   {
    "duration": 3,
    "start_time": "2022-03-07T18:21:49.652Z"
   },
   {
    "duration": 77,
    "start_time": "2022-03-07T18:21:49.657Z"
   },
   {
    "duration": 4,
    "start_time": "2022-03-07T18:21:49.736Z"
   },
   {
    "duration": 5,
    "start_time": "2022-03-07T18:21:49.742Z"
   },
   {
    "duration": 21,
    "start_time": "2022-03-07T18:21:49.749Z"
   },
   {
    "duration": 30,
    "start_time": "2022-03-07T18:21:49.773Z"
   },
   {
    "duration": 63,
    "start_time": "2022-03-07T18:21:49.805Z"
   },
   {
    "duration": 3,
    "start_time": "2022-03-07T18:21:49.870Z"
   },
   {
    "duration": 67,
    "start_time": "2022-03-07T18:21:49.874Z"
   },
   {
    "duration": 60,
    "start_time": "2022-03-07T18:21:49.942Z"
   },
   {
    "duration": 29,
    "start_time": "2022-03-07T18:21:50.003Z"
   },
   {
    "duration": 26,
    "start_time": "2022-03-07T18:21:50.033Z"
   },
   {
    "duration": 47,
    "start_time": "2022-03-07T18:21:50.061Z"
   },
   {
    "duration": 12,
    "start_time": "2022-03-07T18:21:50.110Z"
   },
   {
    "duration": 10,
    "start_time": "2022-03-07T18:21:50.123Z"
   },
   {
    "duration": 16,
    "start_time": "2022-03-07T18:21:50.134Z"
   },
   {
    "duration": 13,
    "start_time": "2022-03-07T18:21:50.152Z"
   },
   {
    "duration": 35,
    "start_time": "2022-03-07T18:21:50.166Z"
   },
   {
    "duration": 159,
    "start_time": "2022-03-07T18:21:50.203Z"
   },
   {
    "duration": 67,
    "start_time": "2022-03-07T18:21:50.363Z"
   },
   {
    "duration": 23,
    "start_time": "2022-03-07T18:21:50.433Z"
   },
   {
    "duration": 232,
    "start_time": "2022-03-07T18:21:50.457Z"
   },
   {
    "duration": 30,
    "start_time": "2022-03-07T18:21:50.691Z"
   },
   {
    "duration": 222,
    "start_time": "2022-03-07T18:21:50.722Z"
   },
   {
    "duration": 22,
    "start_time": "2022-03-07T18:21:50.946Z"
   },
   {
    "duration": 224,
    "start_time": "2022-03-07T18:21:50.970Z"
   },
   {
    "duration": 7,
    "start_time": "2022-03-07T18:21:51.196Z"
   },
   {
    "duration": 14,
    "start_time": "2022-03-07T18:21:51.204Z"
   },
   {
    "duration": 6,
    "start_time": "2022-03-07T18:21:51.219Z"
   },
   {
    "duration": 4,
    "start_time": "2022-03-07T18:21:51.227Z"
   },
   {
    "duration": 4,
    "start_time": "2022-03-07T18:21:51.232Z"
   },
   {
    "duration": 15,
    "start_time": "2022-03-07T18:21:51.238Z"
   },
   {
    "duration": 7,
    "start_time": "2022-03-07T18:21:51.255Z"
   },
   {
    "duration": 30600,
    "start_time": "2022-03-07T18:33:47.160Z"
   }
  ],
  "kernelspec": {
   "display_name": "Python 3 (ipykernel)",
   "language": "python",
   "name": "python3"
  },
  "language_info": {
   "codemirror_mode": {
    "name": "ipython",
    "version": 3
   },
   "file_extension": ".py",
   "mimetype": "text/x-python",
   "name": "python",
   "nbconvert_exporter": "python",
   "pygments_lexer": "ipython3",
   "version": "3.9.7"
  },
  "toc": {
   "base_numbering": 1,
   "nav_menu": {},
   "number_sections": true,
   "sideBar": true,
   "skip_h1_title": true,
   "title_cell": "Table of Contents",
   "title_sidebar": "Contents",
   "toc_cell": false,
   "toc_position": {},
   "toc_section_display": true,
   "toc_window_display": false
  }
 },
 "nbformat": 4,
 "nbformat_minor": 5
}
