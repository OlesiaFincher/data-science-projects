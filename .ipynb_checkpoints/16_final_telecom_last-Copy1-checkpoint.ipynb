{
 "cells": [
  {
   "cell_type": "markdown",
   "id": "d3e05d47",
   "metadata": {},
   "source": [
    "<div style=\"border:solid green 2px; padding: 20px\">\n",
    "<b>Привет Олеся!</b>\n",
    "\n",
    "Меня зовут  Евгений Арзамасцев, я твой тимлид по этому проекту. Буду проверять следующие этапы твоей работы:\n",
    "<p> * План работ и уточняющие вопросы\n",
    "<p> * Основной код разработки модели (но это не точно)\n",
    "<p> * Отчет о проделанной работе\n",
    "\n",
    " Предлагаю общаться на «ты» :) Но если это не удобно - дай знать, и мы перейдем на \"вы\". \n",
    "\n",
    "Моя основная цель — не указать на совершенные тобою ошибки, а поделиться своим опытом и помочь тебе стать отличным специалистом по Data Science. Ты уже проделал большую работу над проектами этого курса. Сейчас у тебя Финальный Спринт - дипломная работа. Моя цель - помочь тебе сделать ее максимально качественно, чтобы было не стыдно ссылаться на данную работу в своем резюме!\n",
    "\n",
    "Ниже ты найдешь мои комментарии - **пожалуйста, не перемещай, не изменяй и не удаляй их**. Увидев у тебя ошибку, в первый раз я лишь укажу на ее наличие и дам тебе возможность самому найти и исправить ее. На реальной работе твой начальник будет поступать так же, а я пытаюсь подготовить тебя именно к таким ситуациям. Но если ты пока не справишься с такой задачей - при следующей проверке я дам более точную подсказку. Я буду использовать цветовую разметку:\n",
    "\n",
    "<div class=\"alert alert-danger\">\n",
    "<b>Комментарий тимлида ❌:</b> Так выделены самые важные замечания. Без их отработки проект не будет принят. </div>\n",
    "\n",
    "<div class=\"alert alert-warning\">\n",
    "<b>Комментарий тимлида ⚠️:</b> Так выделены небольшие замечания. Я надеюсь, что их ты тоже учтешь - твой проект от этого станет только лучше. Но настаивать на их отработке не буду.\n",
    "\n",
    "</div>\n",
    "\n",
    "<div class=\"alert alert-success\">\n",
    "<b>Комментарий тимлида ✔️:</b> Так я выделяю все остальные комментарии.</div>\n",
    "\n",
    "Давай работать над проектом в диалоге: **если ты что-то меняешь в проекте или отвечаешь на мои комменатри — пиши об этом.** Мне будет легче отследить изменения, если ты выделишь свои комментарии:\n",
    "<div class=\"alert alert-info\"> <b>Комментарий студента:</b> Например, вот так.</div>\n",
    "\n",
    "Всё это поможет выполнить повторную проверку твоего проекта оперативнее. "
   ]
  },
  {
   "cell_type": "markdown",
   "id": "2470077a",
   "metadata": {},
   "source": [
    "<h1>Прогнозирование оттока клиентов телеком компании<span class=\"tocSkip\"></span></h1>\n"
   ]
  },
  {
   "cell_type": "markdown",
   "id": "57d59718",
   "metadata": {},
   "source": [
    "### Цель компании\n",
    "\n",
    "- Уменьшить отток клиентов, достигнув метрики AUC-ROC не ниже 0.85\n",
    "- За 14 дней провести исследование и разработать модель для предсказания способную прогнозировать отток \n",
    "\n",
    "### Описание услуг\n",
    "\n",
    "Оператор предоставляет два основных типа услуг: \n",
    "\n",
    "1. Стационарную телефонную связь. Возможно подключение телефонного аппарата к нескольким линиям одновременно.\n",
    "2. Интернет. Подключение может быть двух типов: через телефонную линию (DSL*,* от англ. *digital subscriber line*, «цифровая абонентская линия») или оптоволоконный кабель (*Fiber optic*).  \n",
    "\n",
    "Также доступны такие услуги:\n",
    "\n",
    "- Интернет-безопасность: антивирус (*DeviceProtection*) и блокировка небезопасных сайтов (*OnlineSecurity*);\n",
    "- Выделенная линия технической поддержки (*TechSupport*);\n",
    "- Облачное хранилище файлов для резервного копирования данных (*OnlineBackup*);\n",
    "- Стриминговое телевидение (*StreamingTV*) и каталог фильмов (*StreamingMovies*).\n",
    "\n",
    "За услуги клиенты могут платить каждый месяц или заключить договор на 1–2 года. Доступны различные способы расчёта и возможность получения электронного чека.\n",
    "\n",
    "### Описание данных\n",
    "\n",
    "Данные состоят из файлов, полученных из разных источников:\n",
    "\n",
    "- `contract.csv` — информация о договоре;\n",
    "- `personal.csv` — персональные данные клиента;\n",
    "- `internet.csv` — информация об интернет-услугах;\n",
    "- `phone.csv` — информация об услугах телефонии.\n",
    "\n",
    "Во всех файлах столбец `customerID` содержит код клиента.\n",
    "\n",
    "Информация о договорах актуальна на 1 февраля 2020."
   ]
  },
  {
   "cell_type": "markdown",
   "id": "012e4519",
   "metadata": {},
   "source": [
    "### План работы\n",
    "\n",
    "- Импортировать данные и провести исследовательский анализ данных.\n",
    "- Провести предобработку данных.\n",
    "- Объединить таблицы и удалить ненужные столбцы.\n",
    "- Определить и подготовить признаки и выделить целевой.\n",
    "- Исследовать несколько моделей и определить наилучшую, подбирая гиперпараметры.\n",
    "- Проверить модель на тестовой выборке.\n",
    "- Подготовить отчет."
   ]
  },
  {
   "cell_type": "markdown",
   "id": "230d7d2c",
   "metadata": {},
   "source": [
    "<div class=\"alert alert-success\">\n",
    "<b>**Комментарий тимлида ✔️:**</b>\n",
    "\n",
    "1. В описательной части есть название, общее описание проекта. Есть короткое описание исходных данных. Отлично!\n",
    "    \n",
    "2. Есть план работ. Указанны все основные этапы исследования! Вижу что понимаешь что предстоит делать, уверен инструментарий тоже подберешь верно!\n",
    "</div>"
   ]
  },
  {
   "cell_type": "markdown",
   "id": "fa1ce5b0",
   "metadata": {},
   "source": [
    "<div class=\"alert alert-warning\">\n",
    "<b>**Комментарий тимлида :**</b>\n",
    "\n",
    "Данное исследование можно будет приложить к портфолио и показывать потенциальным работодателям на собесах. По этому предлагаю сразу же оформлять его в соответствии с требованиями к исследованию. В описательной части не хватает:\n",
    "    \n",
    "- цели проекта\n",
    "   \n",
    "Касаемо цели - я рекомендую ее немного изменить и привести в соответствие с требованиями SMART. Если интересно - почитай вот тут https://www.carrotquest.io/blog/smart-goal/. Можно привести SMARTированную цель проекта уже потом, на следующем этапе. На вэбинаре будет доп. информация касаемо метрика качества модели.\n",
    "    \n",
    "Можешь (если хочешь) доработать этот раздел.\n",
    "</div>"
   ]
  },
  {
   "cell_type": "markdown",
   "id": "26e1fa6f",
   "metadata": {},
   "source": [
    "<div class=\"alert alert-info\"> <b>Комментарий студента:</b> Спасибо за советы, почитала. Добавила цель. </div>"
   ]
  },
  {
   "cell_type": "markdown",
   "id": "742faf60",
   "metadata": {},
   "source": [
    "<div class=\"alert alert-success\">\n",
    "<b>**Комментарий тимлида_v2 ✔️:**</b>\n",
    "\n",
    "Ок, стало значительно лучше. Можно еще добавить временной интервал - \"... за 14 дней провести исследование и разработать модель для предсказания.....\"\n",
    "</div>"
   ]
  },
  {
   "cell_type": "markdown",
   "id": "45ef9a4c",
   "metadata": {},
   "source": [
    "## Ознакомление с данными"
   ]
  },
  {
   "cell_type": "code",
   "execution_count": 1,
   "id": "4f2e66b0",
   "metadata": {},
   "outputs": [
    {
     "name": "stdout",
     "output_type": "stream",
     "text": [
      "Requirement already satisfied: phik in /Users/olesya/opt/anaconda3/lib/python3.9/site-packages (0.12.2)\n",
      "Requirement already satisfied: joblib>=0.14.1 in /Users/olesya/opt/anaconda3/lib/python3.9/site-packages (from phik) (1.1.0)\n",
      "Requirement already satisfied: scipy>=1.5.2 in /Users/olesya/opt/anaconda3/lib/python3.9/site-packages (from phik) (1.7.1)\n",
      "Requirement already satisfied: matplotlib>=2.2.3 in /Users/olesya/opt/anaconda3/lib/python3.9/site-packages (from phik) (3.4.3)\n",
      "Requirement already satisfied: numpy>=1.18.0 in /Users/olesya/opt/anaconda3/lib/python3.9/site-packages (from phik) (1.20.3)\n",
      "Requirement already satisfied: pandas>=0.25.1 in /Users/olesya/opt/anaconda3/lib/python3.9/site-packages (from phik) (1.3.4)\n",
      "Requirement already satisfied: pyparsing>=2.2.1 in /Users/olesya/opt/anaconda3/lib/python3.9/site-packages (from matplotlib>=2.2.3->phik) (3.0.4)\n",
      "Requirement already satisfied: kiwisolver>=1.0.1 in /Users/olesya/opt/anaconda3/lib/python3.9/site-packages (from matplotlib>=2.2.3->phik) (1.3.1)\n",
      "Requirement already satisfied: pillow>=6.2.0 in /Users/olesya/opt/anaconda3/lib/python3.9/site-packages (from matplotlib>=2.2.3->phik) (8.4.0)\n",
      "Requirement already satisfied: cycler>=0.10 in /Users/olesya/opt/anaconda3/lib/python3.9/site-packages (from matplotlib>=2.2.3->phik) (0.10.0)\n",
      "Requirement already satisfied: python-dateutil>=2.7 in /Users/olesya/opt/anaconda3/lib/python3.9/site-packages (from matplotlib>=2.2.3->phik) (2.8.2)\n",
      "Requirement already satisfied: six in /Users/olesya/opt/anaconda3/lib/python3.9/site-packages (from cycler>=0.10->matplotlib>=2.2.3->phik) (1.16.0)\n",
      "Requirement already satisfied: pytz>=2017.3 in /Users/olesya/opt/anaconda3/lib/python3.9/site-packages (from pandas>=0.25.1->phik) (2021.3)\n"
     ]
    }
   ],
   "source": [
    "!pip install phik"
   ]
  },
  {
   "cell_type": "code",
   "execution_count": 2,
   "id": "4fa63543",
   "metadata": {},
   "outputs": [],
   "source": [
    "# импорт библиотек\n",
    "import pandas as pd\n",
    "import numpy as np\n",
    "import phik\n",
    "\n",
    "from phik.report import plot_correlation_matrix\n",
    "from phik import report\n",
    "\n",
    "from sklearn.ensemble import RandomForestClassifier\n",
    "from sklearn.linear_model import LogisticRegression\n",
    "#import lightgbm as lgb\n",
    "from lightgbm import LGBMClassifier\n",
    "from catboost import CatBoostClassifier\n",
    "\n",
    "from sklearn.model_selection import train_test_split, GridSearchCV, RandomizedSearchCV\n",
    "from sklearn.metrics import accuracy_score, f1_score, roc_curve, roc_auc_score\n",
    "\n",
    "from sklearn.preprocessing import StandardScaler, OrdinalEncoder\n",
    "from sklearn.utils import shuffle\n",
    "import matplotlib.pyplot as plt\n",
    "%matplotlib inline\n",
    "\n",
    "import seaborn as sns\n",
    "import warnings\n",
    "warnings.filterwarnings(\"ignore\")\n",
    "\n",
    "import os"
   ]
  },
  {
   "cell_type": "code",
   "execution_count": 3,
   "id": "d79e04ef",
   "metadata": {},
   "outputs": [],
   "source": [
    "# загрузка данных\n",
    "if os.path.exists('/datasets/final_provider/contract.csv'):\n",
    "    contract = pd.read_csv('/datasets/final_provider/contract.csv')\n",
    "    personal = pd.read_csv('/datasets/final_provider/personal.csv')\n",
    "    internet = pd.read_csv('/datasets/final_provider/internet.csv')\n",
    "    phone = pd.read_csv('/datasets/final_provider/phone.csv')\n",
    "else:\n",
    "    contract = pd.read_csv('/Users/olesya/datasets/final_provider/contract.csv')\n",
    "    personal = pd.read_csv('/Users/olesya/datasets/final_provider/personal.csv')\n",
    "    internet = pd.read_csv('/Users/olesya/datasets/final_provider/internet.csv')\n",
    "    phone = pd.read_csv('/Users/olesya/datasets/final_provider/phone.csv')\n"
   ]
  },
  {
   "cell_type": "code",
   "execution_count": 4,
   "id": "c14a995f",
   "metadata": {},
   "outputs": [],
   "source": [
    "# изучение таблиц\n",
    "def data_info(all_data):\n",
    "    for i in all_data:\n",
    "        display(i.head(10))\n",
    "        display(i.info())\n"
   ]
  },
  {
   "cell_type": "code",
   "execution_count": 5,
   "id": "b89cc47a",
   "metadata": {
    "scrolled": false
   },
   "outputs": [
    {
     "data": {
      "text/html": [
       "<div>\n",
       "<style scoped>\n",
       "    .dataframe tbody tr th:only-of-type {\n",
       "        vertical-align: middle;\n",
       "    }\n",
       "\n",
       "    .dataframe tbody tr th {\n",
       "        vertical-align: top;\n",
       "    }\n",
       "\n",
       "    .dataframe thead th {\n",
       "        text-align: right;\n",
       "    }\n",
       "</style>\n",
       "<table border=\"1\" class=\"dataframe\">\n",
       "  <thead>\n",
       "    <tr style=\"text-align: right;\">\n",
       "      <th></th>\n",
       "      <th>customerID</th>\n",
       "      <th>BeginDate</th>\n",
       "      <th>EndDate</th>\n",
       "      <th>Type</th>\n",
       "      <th>PaperlessBilling</th>\n",
       "      <th>PaymentMethod</th>\n",
       "      <th>MonthlyCharges</th>\n",
       "      <th>TotalCharges</th>\n",
       "    </tr>\n",
       "  </thead>\n",
       "  <tbody>\n",
       "    <tr>\n",
       "      <th>0</th>\n",
       "      <td>7590-VHVEG</td>\n",
       "      <td>2020-01-01</td>\n",
       "      <td>No</td>\n",
       "      <td>Month-to-month</td>\n",
       "      <td>Yes</td>\n",
       "      <td>Electronic check</td>\n",
       "      <td>29.85</td>\n",
       "      <td>29.85</td>\n",
       "    </tr>\n",
       "    <tr>\n",
       "      <th>1</th>\n",
       "      <td>5575-GNVDE</td>\n",
       "      <td>2017-04-01</td>\n",
       "      <td>No</td>\n",
       "      <td>One year</td>\n",
       "      <td>No</td>\n",
       "      <td>Mailed check</td>\n",
       "      <td>56.95</td>\n",
       "      <td>1889.5</td>\n",
       "    </tr>\n",
       "    <tr>\n",
       "      <th>2</th>\n",
       "      <td>3668-QPYBK</td>\n",
       "      <td>2019-10-01</td>\n",
       "      <td>2019-12-01 00:00:00</td>\n",
       "      <td>Month-to-month</td>\n",
       "      <td>Yes</td>\n",
       "      <td>Mailed check</td>\n",
       "      <td>53.85</td>\n",
       "      <td>108.15</td>\n",
       "    </tr>\n",
       "    <tr>\n",
       "      <th>3</th>\n",
       "      <td>7795-CFOCW</td>\n",
       "      <td>2016-05-01</td>\n",
       "      <td>No</td>\n",
       "      <td>One year</td>\n",
       "      <td>No</td>\n",
       "      <td>Bank transfer (automatic)</td>\n",
       "      <td>42.30</td>\n",
       "      <td>1840.75</td>\n",
       "    </tr>\n",
       "    <tr>\n",
       "      <th>4</th>\n",
       "      <td>9237-HQITU</td>\n",
       "      <td>2019-09-01</td>\n",
       "      <td>2019-11-01 00:00:00</td>\n",
       "      <td>Month-to-month</td>\n",
       "      <td>Yes</td>\n",
       "      <td>Electronic check</td>\n",
       "      <td>70.70</td>\n",
       "      <td>151.65</td>\n",
       "    </tr>\n",
       "    <tr>\n",
       "      <th>5</th>\n",
       "      <td>9305-CDSKC</td>\n",
       "      <td>2019-03-01</td>\n",
       "      <td>2019-11-01 00:00:00</td>\n",
       "      <td>Month-to-month</td>\n",
       "      <td>Yes</td>\n",
       "      <td>Electronic check</td>\n",
       "      <td>99.65</td>\n",
       "      <td>820.5</td>\n",
       "    </tr>\n",
       "    <tr>\n",
       "      <th>6</th>\n",
       "      <td>1452-KIOVK</td>\n",
       "      <td>2018-04-01</td>\n",
       "      <td>No</td>\n",
       "      <td>Month-to-month</td>\n",
       "      <td>Yes</td>\n",
       "      <td>Credit card (automatic)</td>\n",
       "      <td>89.10</td>\n",
       "      <td>1949.4</td>\n",
       "    </tr>\n",
       "    <tr>\n",
       "      <th>7</th>\n",
       "      <td>6713-OKOMC</td>\n",
       "      <td>2019-04-01</td>\n",
       "      <td>No</td>\n",
       "      <td>Month-to-month</td>\n",
       "      <td>No</td>\n",
       "      <td>Mailed check</td>\n",
       "      <td>29.75</td>\n",
       "      <td>301.9</td>\n",
       "    </tr>\n",
       "    <tr>\n",
       "      <th>8</th>\n",
       "      <td>7892-POOKP</td>\n",
       "      <td>2017-07-01</td>\n",
       "      <td>2019-11-01 00:00:00</td>\n",
       "      <td>Month-to-month</td>\n",
       "      <td>Yes</td>\n",
       "      <td>Electronic check</td>\n",
       "      <td>104.80</td>\n",
       "      <td>3046.05</td>\n",
       "    </tr>\n",
       "    <tr>\n",
       "      <th>9</th>\n",
       "      <td>6388-TABGU</td>\n",
       "      <td>2014-12-01</td>\n",
       "      <td>No</td>\n",
       "      <td>One year</td>\n",
       "      <td>No</td>\n",
       "      <td>Bank transfer (automatic)</td>\n",
       "      <td>56.15</td>\n",
       "      <td>3487.95</td>\n",
       "    </tr>\n",
       "  </tbody>\n",
       "</table>\n",
       "</div>"
      ],
      "text/plain": [
       "   customerID   BeginDate              EndDate            Type  \\\n",
       "0  7590-VHVEG  2020-01-01                   No  Month-to-month   \n",
       "1  5575-GNVDE  2017-04-01                   No        One year   \n",
       "2  3668-QPYBK  2019-10-01  2019-12-01 00:00:00  Month-to-month   \n",
       "3  7795-CFOCW  2016-05-01                   No        One year   \n",
       "4  9237-HQITU  2019-09-01  2019-11-01 00:00:00  Month-to-month   \n",
       "5  9305-CDSKC  2019-03-01  2019-11-01 00:00:00  Month-to-month   \n",
       "6  1452-KIOVK  2018-04-01                   No  Month-to-month   \n",
       "7  6713-OKOMC  2019-04-01                   No  Month-to-month   \n",
       "8  7892-POOKP  2017-07-01  2019-11-01 00:00:00  Month-to-month   \n",
       "9  6388-TABGU  2014-12-01                   No        One year   \n",
       "\n",
       "  PaperlessBilling              PaymentMethod  MonthlyCharges TotalCharges  \n",
       "0              Yes           Electronic check           29.85        29.85  \n",
       "1               No               Mailed check           56.95       1889.5  \n",
       "2              Yes               Mailed check           53.85       108.15  \n",
       "3               No  Bank transfer (automatic)           42.30      1840.75  \n",
       "4              Yes           Electronic check           70.70       151.65  \n",
       "5              Yes           Electronic check           99.65        820.5  \n",
       "6              Yes    Credit card (automatic)           89.10       1949.4  \n",
       "7               No               Mailed check           29.75        301.9  \n",
       "8              Yes           Electronic check          104.80      3046.05  \n",
       "9               No  Bank transfer (automatic)           56.15      3487.95  "
      ]
     },
     "metadata": {},
     "output_type": "display_data"
    },
    {
     "name": "stdout",
     "output_type": "stream",
     "text": [
      "<class 'pandas.core.frame.DataFrame'>\n",
      "RangeIndex: 7043 entries, 0 to 7042\n",
      "Data columns (total 8 columns):\n",
      " #   Column            Non-Null Count  Dtype  \n",
      "---  ------            --------------  -----  \n",
      " 0   customerID        7043 non-null   object \n",
      " 1   BeginDate         7043 non-null   object \n",
      " 2   EndDate           7043 non-null   object \n",
      " 3   Type              7043 non-null   object \n",
      " 4   PaperlessBilling  7043 non-null   object \n",
      " 5   PaymentMethod     7043 non-null   object \n",
      " 6   MonthlyCharges    7043 non-null   float64\n",
      " 7   TotalCharges      7043 non-null   object \n",
      "dtypes: float64(1), object(7)\n",
      "memory usage: 440.3+ KB\n"
     ]
    },
    {
     "data": {
      "text/plain": [
       "None"
      ]
     },
     "metadata": {},
     "output_type": "display_data"
    },
    {
     "data": {
      "text/html": [
       "<div>\n",
       "<style scoped>\n",
       "    .dataframe tbody tr th:only-of-type {\n",
       "        vertical-align: middle;\n",
       "    }\n",
       "\n",
       "    .dataframe tbody tr th {\n",
       "        vertical-align: top;\n",
       "    }\n",
       "\n",
       "    .dataframe thead th {\n",
       "        text-align: right;\n",
       "    }\n",
       "</style>\n",
       "<table border=\"1\" class=\"dataframe\">\n",
       "  <thead>\n",
       "    <tr style=\"text-align: right;\">\n",
       "      <th></th>\n",
       "      <th>customerID</th>\n",
       "      <th>gender</th>\n",
       "      <th>SeniorCitizen</th>\n",
       "      <th>Partner</th>\n",
       "      <th>Dependents</th>\n",
       "    </tr>\n",
       "  </thead>\n",
       "  <tbody>\n",
       "    <tr>\n",
       "      <th>0</th>\n",
       "      <td>7590-VHVEG</td>\n",
       "      <td>Female</td>\n",
       "      <td>0</td>\n",
       "      <td>Yes</td>\n",
       "      <td>No</td>\n",
       "    </tr>\n",
       "    <tr>\n",
       "      <th>1</th>\n",
       "      <td>5575-GNVDE</td>\n",
       "      <td>Male</td>\n",
       "      <td>0</td>\n",
       "      <td>No</td>\n",
       "      <td>No</td>\n",
       "    </tr>\n",
       "    <tr>\n",
       "      <th>2</th>\n",
       "      <td>3668-QPYBK</td>\n",
       "      <td>Male</td>\n",
       "      <td>0</td>\n",
       "      <td>No</td>\n",
       "      <td>No</td>\n",
       "    </tr>\n",
       "    <tr>\n",
       "      <th>3</th>\n",
       "      <td>7795-CFOCW</td>\n",
       "      <td>Male</td>\n",
       "      <td>0</td>\n",
       "      <td>No</td>\n",
       "      <td>No</td>\n",
       "    </tr>\n",
       "    <tr>\n",
       "      <th>4</th>\n",
       "      <td>9237-HQITU</td>\n",
       "      <td>Female</td>\n",
       "      <td>0</td>\n",
       "      <td>No</td>\n",
       "      <td>No</td>\n",
       "    </tr>\n",
       "    <tr>\n",
       "      <th>5</th>\n",
       "      <td>9305-CDSKC</td>\n",
       "      <td>Female</td>\n",
       "      <td>0</td>\n",
       "      <td>No</td>\n",
       "      <td>No</td>\n",
       "    </tr>\n",
       "    <tr>\n",
       "      <th>6</th>\n",
       "      <td>1452-KIOVK</td>\n",
       "      <td>Male</td>\n",
       "      <td>0</td>\n",
       "      <td>No</td>\n",
       "      <td>Yes</td>\n",
       "    </tr>\n",
       "    <tr>\n",
       "      <th>7</th>\n",
       "      <td>6713-OKOMC</td>\n",
       "      <td>Female</td>\n",
       "      <td>0</td>\n",
       "      <td>No</td>\n",
       "      <td>No</td>\n",
       "    </tr>\n",
       "    <tr>\n",
       "      <th>8</th>\n",
       "      <td>7892-POOKP</td>\n",
       "      <td>Female</td>\n",
       "      <td>0</td>\n",
       "      <td>Yes</td>\n",
       "      <td>No</td>\n",
       "    </tr>\n",
       "    <tr>\n",
       "      <th>9</th>\n",
       "      <td>6388-TABGU</td>\n",
       "      <td>Male</td>\n",
       "      <td>0</td>\n",
       "      <td>No</td>\n",
       "      <td>Yes</td>\n",
       "    </tr>\n",
       "  </tbody>\n",
       "</table>\n",
       "</div>"
      ],
      "text/plain": [
       "   customerID  gender  SeniorCitizen Partner Dependents\n",
       "0  7590-VHVEG  Female              0     Yes         No\n",
       "1  5575-GNVDE    Male              0      No         No\n",
       "2  3668-QPYBK    Male              0      No         No\n",
       "3  7795-CFOCW    Male              0      No         No\n",
       "4  9237-HQITU  Female              0      No         No\n",
       "5  9305-CDSKC  Female              0      No         No\n",
       "6  1452-KIOVK    Male              0      No        Yes\n",
       "7  6713-OKOMC  Female              0      No         No\n",
       "8  7892-POOKP  Female              0     Yes         No\n",
       "9  6388-TABGU    Male              0      No        Yes"
      ]
     },
     "metadata": {},
     "output_type": "display_data"
    },
    {
     "name": "stdout",
     "output_type": "stream",
     "text": [
      "<class 'pandas.core.frame.DataFrame'>\n",
      "RangeIndex: 7043 entries, 0 to 7042\n",
      "Data columns (total 5 columns):\n",
      " #   Column         Non-Null Count  Dtype \n",
      "---  ------         --------------  ----- \n",
      " 0   customerID     7043 non-null   object\n",
      " 1   gender         7043 non-null   object\n",
      " 2   SeniorCitizen  7043 non-null   int64 \n",
      " 3   Partner        7043 non-null   object\n",
      " 4   Dependents     7043 non-null   object\n",
      "dtypes: int64(1), object(4)\n",
      "memory usage: 275.2+ KB\n"
     ]
    },
    {
     "data": {
      "text/plain": [
       "None"
      ]
     },
     "metadata": {},
     "output_type": "display_data"
    },
    {
     "data": {
      "text/html": [
       "<div>\n",
       "<style scoped>\n",
       "    .dataframe tbody tr th:only-of-type {\n",
       "        vertical-align: middle;\n",
       "    }\n",
       "\n",
       "    .dataframe tbody tr th {\n",
       "        vertical-align: top;\n",
       "    }\n",
       "\n",
       "    .dataframe thead th {\n",
       "        text-align: right;\n",
       "    }\n",
       "</style>\n",
       "<table border=\"1\" class=\"dataframe\">\n",
       "  <thead>\n",
       "    <tr style=\"text-align: right;\">\n",
       "      <th></th>\n",
       "      <th>customerID</th>\n",
       "      <th>InternetService</th>\n",
       "      <th>OnlineSecurity</th>\n",
       "      <th>OnlineBackup</th>\n",
       "      <th>DeviceProtection</th>\n",
       "      <th>TechSupport</th>\n",
       "      <th>StreamingTV</th>\n",
       "      <th>StreamingMovies</th>\n",
       "    </tr>\n",
       "  </thead>\n",
       "  <tbody>\n",
       "    <tr>\n",
       "      <th>0</th>\n",
       "      <td>7590-VHVEG</td>\n",
       "      <td>DSL</td>\n",
       "      <td>No</td>\n",
       "      <td>Yes</td>\n",
       "      <td>No</td>\n",
       "      <td>No</td>\n",
       "      <td>No</td>\n",
       "      <td>No</td>\n",
       "    </tr>\n",
       "    <tr>\n",
       "      <th>1</th>\n",
       "      <td>5575-GNVDE</td>\n",
       "      <td>DSL</td>\n",
       "      <td>Yes</td>\n",
       "      <td>No</td>\n",
       "      <td>Yes</td>\n",
       "      <td>No</td>\n",
       "      <td>No</td>\n",
       "      <td>No</td>\n",
       "    </tr>\n",
       "    <tr>\n",
       "      <th>2</th>\n",
       "      <td>3668-QPYBK</td>\n",
       "      <td>DSL</td>\n",
       "      <td>Yes</td>\n",
       "      <td>Yes</td>\n",
       "      <td>No</td>\n",
       "      <td>No</td>\n",
       "      <td>No</td>\n",
       "      <td>No</td>\n",
       "    </tr>\n",
       "    <tr>\n",
       "      <th>3</th>\n",
       "      <td>7795-CFOCW</td>\n",
       "      <td>DSL</td>\n",
       "      <td>Yes</td>\n",
       "      <td>No</td>\n",
       "      <td>Yes</td>\n",
       "      <td>Yes</td>\n",
       "      <td>No</td>\n",
       "      <td>No</td>\n",
       "    </tr>\n",
       "    <tr>\n",
       "      <th>4</th>\n",
       "      <td>9237-HQITU</td>\n",
       "      <td>Fiber optic</td>\n",
       "      <td>No</td>\n",
       "      <td>No</td>\n",
       "      <td>No</td>\n",
       "      <td>No</td>\n",
       "      <td>No</td>\n",
       "      <td>No</td>\n",
       "    </tr>\n",
       "    <tr>\n",
       "      <th>5</th>\n",
       "      <td>9305-CDSKC</td>\n",
       "      <td>Fiber optic</td>\n",
       "      <td>No</td>\n",
       "      <td>No</td>\n",
       "      <td>Yes</td>\n",
       "      <td>No</td>\n",
       "      <td>Yes</td>\n",
       "      <td>Yes</td>\n",
       "    </tr>\n",
       "    <tr>\n",
       "      <th>6</th>\n",
       "      <td>1452-KIOVK</td>\n",
       "      <td>Fiber optic</td>\n",
       "      <td>No</td>\n",
       "      <td>Yes</td>\n",
       "      <td>No</td>\n",
       "      <td>No</td>\n",
       "      <td>Yes</td>\n",
       "      <td>No</td>\n",
       "    </tr>\n",
       "    <tr>\n",
       "      <th>7</th>\n",
       "      <td>6713-OKOMC</td>\n",
       "      <td>DSL</td>\n",
       "      <td>Yes</td>\n",
       "      <td>No</td>\n",
       "      <td>No</td>\n",
       "      <td>No</td>\n",
       "      <td>No</td>\n",
       "      <td>No</td>\n",
       "    </tr>\n",
       "    <tr>\n",
       "      <th>8</th>\n",
       "      <td>7892-POOKP</td>\n",
       "      <td>Fiber optic</td>\n",
       "      <td>No</td>\n",
       "      <td>No</td>\n",
       "      <td>Yes</td>\n",
       "      <td>Yes</td>\n",
       "      <td>Yes</td>\n",
       "      <td>Yes</td>\n",
       "    </tr>\n",
       "    <tr>\n",
       "      <th>9</th>\n",
       "      <td>6388-TABGU</td>\n",
       "      <td>DSL</td>\n",
       "      <td>Yes</td>\n",
       "      <td>Yes</td>\n",
       "      <td>No</td>\n",
       "      <td>No</td>\n",
       "      <td>No</td>\n",
       "      <td>No</td>\n",
       "    </tr>\n",
       "  </tbody>\n",
       "</table>\n",
       "</div>"
      ],
      "text/plain": [
       "   customerID InternetService OnlineSecurity OnlineBackup DeviceProtection  \\\n",
       "0  7590-VHVEG             DSL             No          Yes               No   \n",
       "1  5575-GNVDE             DSL            Yes           No              Yes   \n",
       "2  3668-QPYBK             DSL            Yes          Yes               No   \n",
       "3  7795-CFOCW             DSL            Yes           No              Yes   \n",
       "4  9237-HQITU     Fiber optic             No           No               No   \n",
       "5  9305-CDSKC     Fiber optic             No           No              Yes   \n",
       "6  1452-KIOVK     Fiber optic             No          Yes               No   \n",
       "7  6713-OKOMC             DSL            Yes           No               No   \n",
       "8  7892-POOKP     Fiber optic             No           No              Yes   \n",
       "9  6388-TABGU             DSL            Yes          Yes               No   \n",
       "\n",
       "  TechSupport StreamingTV StreamingMovies  \n",
       "0          No          No              No  \n",
       "1          No          No              No  \n",
       "2          No          No              No  \n",
       "3         Yes          No              No  \n",
       "4          No          No              No  \n",
       "5          No         Yes             Yes  \n",
       "6          No         Yes              No  \n",
       "7          No          No              No  \n",
       "8         Yes         Yes             Yes  \n",
       "9          No          No              No  "
      ]
     },
     "metadata": {},
     "output_type": "display_data"
    },
    {
     "name": "stdout",
     "output_type": "stream",
     "text": [
      "<class 'pandas.core.frame.DataFrame'>\n",
      "RangeIndex: 5517 entries, 0 to 5516\n",
      "Data columns (total 8 columns):\n",
      " #   Column            Non-Null Count  Dtype \n",
      "---  ------            --------------  ----- \n",
      " 0   customerID        5517 non-null   object\n",
      " 1   InternetService   5517 non-null   object\n",
      " 2   OnlineSecurity    5517 non-null   object\n",
      " 3   OnlineBackup      5517 non-null   object\n",
      " 4   DeviceProtection  5517 non-null   object\n",
      " 5   TechSupport       5517 non-null   object\n",
      " 6   StreamingTV       5517 non-null   object\n",
      " 7   StreamingMovies   5517 non-null   object\n",
      "dtypes: object(8)\n",
      "memory usage: 344.9+ KB\n"
     ]
    },
    {
     "data": {
      "text/plain": [
       "None"
      ]
     },
     "metadata": {},
     "output_type": "display_data"
    },
    {
     "data": {
      "text/html": [
       "<div>\n",
       "<style scoped>\n",
       "    .dataframe tbody tr th:only-of-type {\n",
       "        vertical-align: middle;\n",
       "    }\n",
       "\n",
       "    .dataframe tbody tr th {\n",
       "        vertical-align: top;\n",
       "    }\n",
       "\n",
       "    .dataframe thead th {\n",
       "        text-align: right;\n",
       "    }\n",
       "</style>\n",
       "<table border=\"1\" class=\"dataframe\">\n",
       "  <thead>\n",
       "    <tr style=\"text-align: right;\">\n",
       "      <th></th>\n",
       "      <th>customerID</th>\n",
       "      <th>MultipleLines</th>\n",
       "    </tr>\n",
       "  </thead>\n",
       "  <tbody>\n",
       "    <tr>\n",
       "      <th>0</th>\n",
       "      <td>5575-GNVDE</td>\n",
       "      <td>No</td>\n",
       "    </tr>\n",
       "    <tr>\n",
       "      <th>1</th>\n",
       "      <td>3668-QPYBK</td>\n",
       "      <td>No</td>\n",
       "    </tr>\n",
       "    <tr>\n",
       "      <th>2</th>\n",
       "      <td>9237-HQITU</td>\n",
       "      <td>No</td>\n",
       "    </tr>\n",
       "    <tr>\n",
       "      <th>3</th>\n",
       "      <td>9305-CDSKC</td>\n",
       "      <td>Yes</td>\n",
       "    </tr>\n",
       "    <tr>\n",
       "      <th>4</th>\n",
       "      <td>1452-KIOVK</td>\n",
       "      <td>Yes</td>\n",
       "    </tr>\n",
       "    <tr>\n",
       "      <th>5</th>\n",
       "      <td>7892-POOKP</td>\n",
       "      <td>Yes</td>\n",
       "    </tr>\n",
       "    <tr>\n",
       "      <th>6</th>\n",
       "      <td>6388-TABGU</td>\n",
       "      <td>No</td>\n",
       "    </tr>\n",
       "    <tr>\n",
       "      <th>7</th>\n",
       "      <td>9763-GRSKD</td>\n",
       "      <td>No</td>\n",
       "    </tr>\n",
       "    <tr>\n",
       "      <th>8</th>\n",
       "      <td>7469-LKBCI</td>\n",
       "      <td>No</td>\n",
       "    </tr>\n",
       "    <tr>\n",
       "      <th>9</th>\n",
       "      <td>8091-TTVAX</td>\n",
       "      <td>Yes</td>\n",
       "    </tr>\n",
       "  </tbody>\n",
       "</table>\n",
       "</div>"
      ],
      "text/plain": [
       "   customerID MultipleLines\n",
       "0  5575-GNVDE            No\n",
       "1  3668-QPYBK            No\n",
       "2  9237-HQITU            No\n",
       "3  9305-CDSKC           Yes\n",
       "4  1452-KIOVK           Yes\n",
       "5  7892-POOKP           Yes\n",
       "6  6388-TABGU            No\n",
       "7  9763-GRSKD            No\n",
       "8  7469-LKBCI            No\n",
       "9  8091-TTVAX           Yes"
      ]
     },
     "metadata": {},
     "output_type": "display_data"
    },
    {
     "name": "stdout",
     "output_type": "stream",
     "text": [
      "<class 'pandas.core.frame.DataFrame'>\n",
      "RangeIndex: 6361 entries, 0 to 6360\n",
      "Data columns (total 2 columns):\n",
      " #   Column         Non-Null Count  Dtype \n",
      "---  ------         --------------  ----- \n",
      " 0   customerID     6361 non-null   object\n",
      " 1   MultipleLines  6361 non-null   object\n",
      "dtypes: object(2)\n",
      "memory usage: 99.5+ KB\n"
     ]
    },
    {
     "data": {
      "text/plain": [
       "None"
      ]
     },
     "metadata": {},
     "output_type": "display_data"
    }
   ],
   "source": [
    "data_info([contract, personal, internet, phone])"
   ]
  },
  {
   "cell_type": "markdown",
   "id": "961b0177",
   "metadata": {},
   "source": [
    "<b>Вывод</b>\n",
    "\n",
    "По количеству строк в каждой таблице на первый взгляд пропусков не наблюдаем, можно работать с данными дальше. Колонку <b>TotalCharges</b> следует привести к числовому формату, также колонки <b>BeginDate</b> и <b>EndDate</b> привести к датам. Следует создать бинарный целевой признак на основе данных из колонки <b>EndDate</b>.\n"
   ]
  },
  {
   "cell_type": "markdown",
   "id": "9021f0ba",
   "metadata": {},
   "source": [
    "<div class=\"alert alert-success\">\n",
    "<b>**Комментарий тимлида ✔️:**</b>\n",
    "    \n",
    "Отлично, с данными ознакомился и убедился что как минимум представленные данные содержат какую-то информацию (не пустые и не откровенный мусор). С ними можно начинать работать более серезьно - проводить полноценный исследовательский анализ и выявлять возможные проблемы в данных.\n",
    "</div>"
   ]
  },
  {
   "cell_type": "markdown",
   "id": "137b05a2",
   "metadata": {},
   "source": [
    "<div class=\"alert alert-danger\">\n",
    "<b>**Комментарий тимлида ❌:**</b>\n",
    "\n",
    "В соответствии с заданием на данном этапе тебе необходимо сформулировать вопросы к тимлиду (или заказчику) по итогам ознакомления с данными и описанием проекта. Я ожидаю увидеть от тебя вопросы, ответы на которые нужны тебе как исследователю, ответы на которые позволят тебе выполнить исследование. Пожалуйста по результатам предварительного ознакомления с данными и описанием проекта подумай и напиши:\n",
    "\n",
    "- Какие вопросы у тебя возникли по итогам ознакомления с данными? Все ли понятно? \n",
    "- Какой информации тебе не хватает для того чтобы выполнить проект?\n",
    "\n",
    "Сформулируй пожалуйста вопросы и вышли обновленную тетрадку на проверку. Если вопросов нет - напиши \"Уточняющих вопросов нет\".\n",
    "</div>"
   ]
  },
  {
   "cell_type": "markdown",
   "id": "95b5e5c8",
   "metadata": {},
   "source": [
    "<div class=\"alert alert-info\"> <b>Комментарий студента:</b> Уточняющих вопросов нет.</div>"
   ]
  },
  {
   "cell_type": "markdown",
   "id": "1ae697a1",
   "metadata": {},
   "source": [
    "<div class=\"alert alert-success\">\n",
    "<b>**Комментарий тимлида ✔️:**</b>\n",
    "\n",
    "Есть план, есть уточняющие вопросы (вернее их не осталось), есть предварительное исследование данных. \n",
    "\n",
    "Отлично, работу приниаю, переходи к следующему этапу исследования - разработка модели.\n",
    "</div>"
   ]
  },
  {
   "cell_type": "markdown",
   "id": "22f4edc9",
   "metadata": {},
   "source": [
    "## Предобработка данных"
   ]
  },
  {
   "cell_type": "markdown",
   "id": "6316bfa3",
   "metadata": {},
   "source": [
    "В таблице <b>contract</b> в колонке <b>TotalCharges</b> изменим тип данных на числовой "
   ]
  },
  {
   "cell_type": "code",
   "execution_count": 6,
   "id": "8d193eec",
   "metadata": {},
   "outputs": [
    {
     "name": "stdout",
     "output_type": "stream",
     "text": [
      "<class 'pandas.core.frame.DataFrame'>\n",
      "RangeIndex: 7043 entries, 0 to 7042\n",
      "Data columns (total 8 columns):\n",
      " #   Column            Non-Null Count  Dtype  \n",
      "---  ------            --------------  -----  \n",
      " 0   customerID        7043 non-null   object \n",
      " 1   BeginDate         7043 non-null   object \n",
      " 2   EndDate           7043 non-null   object \n",
      " 3   Type              7043 non-null   object \n",
      " 4   PaperlessBilling  7043 non-null   object \n",
      " 5   PaymentMethod     7043 non-null   object \n",
      " 6   MonthlyCharges    7043 non-null   float64\n",
      " 7   TotalCharges      7032 non-null   float64\n",
      "dtypes: float64(2), object(6)\n",
      "memory usage: 440.3+ KB\n"
     ]
    }
   ],
   "source": [
    "# изменение типа данных в числовой\n",
    "contract['TotalCharges'] = pd.to_numeric(contract['TotalCharges'], errors ='coerce')\n",
    "# проверка отработки метода\n",
    "contract.info()"
   ]
  },
  {
   "cell_type": "code",
   "execution_count": 7,
   "id": "466e1611",
   "metadata": {},
   "outputs": [
    {
     "data": {
      "text/plain": [
       "customerID           0\n",
       "BeginDate            0\n",
       "EndDate              0\n",
       "Type                 0\n",
       "PaperlessBilling     0\n",
       "PaymentMethod        0\n",
       "MonthlyCharges       0\n",
       "TotalCharges        11\n",
       "dtype: int64"
      ]
     },
     "execution_count": 7,
     "metadata": {},
     "output_type": "execute_result"
    }
   ],
   "source": [
    "# проверка пропусков\n",
    "contract.isnull().sum()"
   ]
  },
  {
   "cell_type": "markdown",
   "id": "86a70182",
   "metadata": {},
   "source": [
    "После отработки метода появились пропуски в колонке <b>TotalCharges</b>. Можно предположить что на дату выгрузки некоторые клиенты не успели еще внести оплату. Проверим дату начала действия контракта на дату выгрузки 2020-02-01"
   ]
  },
  {
   "cell_type": "code",
   "execution_count": 8,
   "id": "c7755a28",
   "metadata": {},
   "outputs": [
    {
     "data": {
      "text/html": [
       "<div>\n",
       "<style scoped>\n",
       "    .dataframe tbody tr th:only-of-type {\n",
       "        vertical-align: middle;\n",
       "    }\n",
       "\n",
       "    .dataframe tbody tr th {\n",
       "        vertical-align: top;\n",
       "    }\n",
       "\n",
       "    .dataframe thead th {\n",
       "        text-align: right;\n",
       "    }\n",
       "</style>\n",
       "<table border=\"1\" class=\"dataframe\">\n",
       "  <thead>\n",
       "    <tr style=\"text-align: right;\">\n",
       "      <th></th>\n",
       "      <th>customerID</th>\n",
       "      <th>BeginDate</th>\n",
       "      <th>EndDate</th>\n",
       "      <th>Type</th>\n",
       "      <th>PaperlessBilling</th>\n",
       "      <th>PaymentMethod</th>\n",
       "      <th>MonthlyCharges</th>\n",
       "      <th>TotalCharges</th>\n",
       "    </tr>\n",
       "  </thead>\n",
       "  <tbody>\n",
       "    <tr>\n",
       "      <th>488</th>\n",
       "      <td>4472-LVYGI</td>\n",
       "      <td>2020-02-01</td>\n",
       "      <td>No</td>\n",
       "      <td>Two year</td>\n",
       "      <td>Yes</td>\n",
       "      <td>Bank transfer (automatic)</td>\n",
       "      <td>52.55</td>\n",
       "      <td>NaN</td>\n",
       "    </tr>\n",
       "    <tr>\n",
       "      <th>753</th>\n",
       "      <td>3115-CZMZD</td>\n",
       "      <td>2020-02-01</td>\n",
       "      <td>No</td>\n",
       "      <td>Two year</td>\n",
       "      <td>No</td>\n",
       "      <td>Mailed check</td>\n",
       "      <td>20.25</td>\n",
       "      <td>NaN</td>\n",
       "    </tr>\n",
       "    <tr>\n",
       "      <th>936</th>\n",
       "      <td>5709-LVOEQ</td>\n",
       "      <td>2020-02-01</td>\n",
       "      <td>No</td>\n",
       "      <td>Two year</td>\n",
       "      <td>No</td>\n",
       "      <td>Mailed check</td>\n",
       "      <td>80.85</td>\n",
       "      <td>NaN</td>\n",
       "    </tr>\n",
       "    <tr>\n",
       "      <th>1082</th>\n",
       "      <td>4367-NUYAO</td>\n",
       "      <td>2020-02-01</td>\n",
       "      <td>No</td>\n",
       "      <td>Two year</td>\n",
       "      <td>No</td>\n",
       "      <td>Mailed check</td>\n",
       "      <td>25.75</td>\n",
       "      <td>NaN</td>\n",
       "    </tr>\n",
       "    <tr>\n",
       "      <th>1340</th>\n",
       "      <td>1371-DWPAZ</td>\n",
       "      <td>2020-02-01</td>\n",
       "      <td>No</td>\n",
       "      <td>Two year</td>\n",
       "      <td>No</td>\n",
       "      <td>Credit card (automatic)</td>\n",
       "      <td>56.05</td>\n",
       "      <td>NaN</td>\n",
       "    </tr>\n",
       "    <tr>\n",
       "      <th>3331</th>\n",
       "      <td>7644-OMVMY</td>\n",
       "      <td>2020-02-01</td>\n",
       "      <td>No</td>\n",
       "      <td>Two year</td>\n",
       "      <td>No</td>\n",
       "      <td>Mailed check</td>\n",
       "      <td>19.85</td>\n",
       "      <td>NaN</td>\n",
       "    </tr>\n",
       "    <tr>\n",
       "      <th>3826</th>\n",
       "      <td>3213-VVOLG</td>\n",
       "      <td>2020-02-01</td>\n",
       "      <td>No</td>\n",
       "      <td>Two year</td>\n",
       "      <td>No</td>\n",
       "      <td>Mailed check</td>\n",
       "      <td>25.35</td>\n",
       "      <td>NaN</td>\n",
       "    </tr>\n",
       "    <tr>\n",
       "      <th>4380</th>\n",
       "      <td>2520-SGTTA</td>\n",
       "      <td>2020-02-01</td>\n",
       "      <td>No</td>\n",
       "      <td>Two year</td>\n",
       "      <td>No</td>\n",
       "      <td>Mailed check</td>\n",
       "      <td>20.00</td>\n",
       "      <td>NaN</td>\n",
       "    </tr>\n",
       "    <tr>\n",
       "      <th>5218</th>\n",
       "      <td>2923-ARZLG</td>\n",
       "      <td>2020-02-01</td>\n",
       "      <td>No</td>\n",
       "      <td>One year</td>\n",
       "      <td>Yes</td>\n",
       "      <td>Mailed check</td>\n",
       "      <td>19.70</td>\n",
       "      <td>NaN</td>\n",
       "    </tr>\n",
       "    <tr>\n",
       "      <th>6670</th>\n",
       "      <td>4075-WKNIU</td>\n",
       "      <td>2020-02-01</td>\n",
       "      <td>No</td>\n",
       "      <td>Two year</td>\n",
       "      <td>No</td>\n",
       "      <td>Mailed check</td>\n",
       "      <td>73.35</td>\n",
       "      <td>NaN</td>\n",
       "    </tr>\n",
       "    <tr>\n",
       "      <th>6754</th>\n",
       "      <td>2775-SEFEE</td>\n",
       "      <td>2020-02-01</td>\n",
       "      <td>No</td>\n",
       "      <td>Two year</td>\n",
       "      <td>Yes</td>\n",
       "      <td>Bank transfer (automatic)</td>\n",
       "      <td>61.90</td>\n",
       "      <td>NaN</td>\n",
       "    </tr>\n",
       "  </tbody>\n",
       "</table>\n",
       "</div>"
      ],
      "text/plain": [
       "      customerID   BeginDate EndDate      Type PaperlessBilling  \\\n",
       "488   4472-LVYGI  2020-02-01      No  Two year              Yes   \n",
       "753   3115-CZMZD  2020-02-01      No  Two year               No   \n",
       "936   5709-LVOEQ  2020-02-01      No  Two year               No   \n",
       "1082  4367-NUYAO  2020-02-01      No  Two year               No   \n",
       "1340  1371-DWPAZ  2020-02-01      No  Two year               No   \n",
       "3331  7644-OMVMY  2020-02-01      No  Two year               No   \n",
       "3826  3213-VVOLG  2020-02-01      No  Two year               No   \n",
       "4380  2520-SGTTA  2020-02-01      No  Two year               No   \n",
       "5218  2923-ARZLG  2020-02-01      No  One year              Yes   \n",
       "6670  4075-WKNIU  2020-02-01      No  Two year               No   \n",
       "6754  2775-SEFEE  2020-02-01      No  Two year              Yes   \n",
       "\n",
       "                  PaymentMethod  MonthlyCharges  TotalCharges  \n",
       "488   Bank transfer (automatic)           52.55           NaN  \n",
       "753                Mailed check           20.25           NaN  \n",
       "936                Mailed check           80.85           NaN  \n",
       "1082               Mailed check           25.75           NaN  \n",
       "1340    Credit card (automatic)           56.05           NaN  \n",
       "3331               Mailed check           19.85           NaN  \n",
       "3826               Mailed check           25.35           NaN  \n",
       "4380               Mailed check           20.00           NaN  \n",
       "5218               Mailed check           19.70           NaN  \n",
       "6670               Mailed check           73.35           NaN  \n",
       "6754  Bank transfer (automatic)           61.90           NaN  "
      ]
     },
     "execution_count": 8,
     "metadata": {},
     "output_type": "execute_result"
    }
   ],
   "source": [
    "contract[contract['BeginDate'] == '2020-02-01']"
   ]
  },
  {
   "cell_type": "markdown",
   "id": "6032fa9f",
   "metadata": {},
   "source": [
    "Так оно и есть. Тогда попробуем заменить пропуски суммой трат за месяц."
   ]
  },
  {
   "cell_type": "code",
   "execution_count": 9,
   "id": "28cc7c74",
   "metadata": {},
   "outputs": [],
   "source": [
    "# замена пропусков\n",
    "contract.loc[contract['BeginDate'] == '2020-02-01', 'TotalCharges'] = contract.loc[contract['BeginDate'] == '2020-02-01', 'TotalCharges'].fillna(contract['MonthlyCharges'])\n"
   ]
  },
  {
   "cell_type": "markdown",
   "id": "8a5d263e",
   "metadata": {},
   "source": [
    "<div class=\"alert alert-success\">\n",
    "<b>**Комментарий тимлида_v2 ✔️:**</b>\n",
    "\n",
    "Отлично, есть работа с пропусками. Отлично что определил причину их возникновения. Да, заполнение возможно как средним месяцем, так и 0. Так же допустимо просто удалить строки с пропусками - их у нас не много. \n",
    "</div>"
   ]
  },
  {
   "cell_type": "code",
   "execution_count": 10,
   "id": "e4f08063",
   "metadata": {},
   "outputs": [
    {
     "data": {
      "text/html": [
       "<div>\n",
       "<style scoped>\n",
       "    .dataframe tbody tr th:only-of-type {\n",
       "        vertical-align: middle;\n",
       "    }\n",
       "\n",
       "    .dataframe tbody tr th {\n",
       "        vertical-align: top;\n",
       "    }\n",
       "\n",
       "    .dataframe thead th {\n",
       "        text-align: right;\n",
       "    }\n",
       "</style>\n",
       "<table border=\"1\" class=\"dataframe\">\n",
       "  <thead>\n",
       "    <tr style=\"text-align: right;\">\n",
       "      <th></th>\n",
       "      <th>customerID</th>\n",
       "      <th>BeginDate</th>\n",
       "      <th>EndDate</th>\n",
       "      <th>Type</th>\n",
       "      <th>PaperlessBilling</th>\n",
       "      <th>PaymentMethod</th>\n",
       "      <th>MonthlyCharges</th>\n",
       "      <th>TotalCharges</th>\n",
       "    </tr>\n",
       "  </thead>\n",
       "  <tbody>\n",
       "    <tr>\n",
       "      <th>488</th>\n",
       "      <td>4472-LVYGI</td>\n",
       "      <td>2020-02-01</td>\n",
       "      <td>No</td>\n",
       "      <td>Two year</td>\n",
       "      <td>Yes</td>\n",
       "      <td>Bank transfer (automatic)</td>\n",
       "      <td>52.55</td>\n",
       "      <td>52.55</td>\n",
       "    </tr>\n",
       "    <tr>\n",
       "      <th>753</th>\n",
       "      <td>3115-CZMZD</td>\n",
       "      <td>2020-02-01</td>\n",
       "      <td>No</td>\n",
       "      <td>Two year</td>\n",
       "      <td>No</td>\n",
       "      <td>Mailed check</td>\n",
       "      <td>20.25</td>\n",
       "      <td>20.25</td>\n",
       "    </tr>\n",
       "    <tr>\n",
       "      <th>936</th>\n",
       "      <td>5709-LVOEQ</td>\n",
       "      <td>2020-02-01</td>\n",
       "      <td>No</td>\n",
       "      <td>Two year</td>\n",
       "      <td>No</td>\n",
       "      <td>Mailed check</td>\n",
       "      <td>80.85</td>\n",
       "      <td>80.85</td>\n",
       "    </tr>\n",
       "    <tr>\n",
       "      <th>1082</th>\n",
       "      <td>4367-NUYAO</td>\n",
       "      <td>2020-02-01</td>\n",
       "      <td>No</td>\n",
       "      <td>Two year</td>\n",
       "      <td>No</td>\n",
       "      <td>Mailed check</td>\n",
       "      <td>25.75</td>\n",
       "      <td>25.75</td>\n",
       "    </tr>\n",
       "    <tr>\n",
       "      <th>1340</th>\n",
       "      <td>1371-DWPAZ</td>\n",
       "      <td>2020-02-01</td>\n",
       "      <td>No</td>\n",
       "      <td>Two year</td>\n",
       "      <td>No</td>\n",
       "      <td>Credit card (automatic)</td>\n",
       "      <td>56.05</td>\n",
       "      <td>56.05</td>\n",
       "    </tr>\n",
       "    <tr>\n",
       "      <th>3331</th>\n",
       "      <td>7644-OMVMY</td>\n",
       "      <td>2020-02-01</td>\n",
       "      <td>No</td>\n",
       "      <td>Two year</td>\n",
       "      <td>No</td>\n",
       "      <td>Mailed check</td>\n",
       "      <td>19.85</td>\n",
       "      <td>19.85</td>\n",
       "    </tr>\n",
       "    <tr>\n",
       "      <th>3826</th>\n",
       "      <td>3213-VVOLG</td>\n",
       "      <td>2020-02-01</td>\n",
       "      <td>No</td>\n",
       "      <td>Two year</td>\n",
       "      <td>No</td>\n",
       "      <td>Mailed check</td>\n",
       "      <td>25.35</td>\n",
       "      <td>25.35</td>\n",
       "    </tr>\n",
       "    <tr>\n",
       "      <th>4380</th>\n",
       "      <td>2520-SGTTA</td>\n",
       "      <td>2020-02-01</td>\n",
       "      <td>No</td>\n",
       "      <td>Two year</td>\n",
       "      <td>No</td>\n",
       "      <td>Mailed check</td>\n",
       "      <td>20.00</td>\n",
       "      <td>20.00</td>\n",
       "    </tr>\n",
       "    <tr>\n",
       "      <th>5218</th>\n",
       "      <td>2923-ARZLG</td>\n",
       "      <td>2020-02-01</td>\n",
       "      <td>No</td>\n",
       "      <td>One year</td>\n",
       "      <td>Yes</td>\n",
       "      <td>Mailed check</td>\n",
       "      <td>19.70</td>\n",
       "      <td>19.70</td>\n",
       "    </tr>\n",
       "    <tr>\n",
       "      <th>6670</th>\n",
       "      <td>4075-WKNIU</td>\n",
       "      <td>2020-02-01</td>\n",
       "      <td>No</td>\n",
       "      <td>Two year</td>\n",
       "      <td>No</td>\n",
       "      <td>Mailed check</td>\n",
       "      <td>73.35</td>\n",
       "      <td>73.35</td>\n",
       "    </tr>\n",
       "    <tr>\n",
       "      <th>6754</th>\n",
       "      <td>2775-SEFEE</td>\n",
       "      <td>2020-02-01</td>\n",
       "      <td>No</td>\n",
       "      <td>Two year</td>\n",
       "      <td>Yes</td>\n",
       "      <td>Bank transfer (automatic)</td>\n",
       "      <td>61.90</td>\n",
       "      <td>61.90</td>\n",
       "    </tr>\n",
       "  </tbody>\n",
       "</table>\n",
       "</div>"
      ],
      "text/plain": [
       "      customerID   BeginDate EndDate      Type PaperlessBilling  \\\n",
       "488   4472-LVYGI  2020-02-01      No  Two year              Yes   \n",
       "753   3115-CZMZD  2020-02-01      No  Two year               No   \n",
       "936   5709-LVOEQ  2020-02-01      No  Two year               No   \n",
       "1082  4367-NUYAO  2020-02-01      No  Two year               No   \n",
       "1340  1371-DWPAZ  2020-02-01      No  Two year               No   \n",
       "3331  7644-OMVMY  2020-02-01      No  Two year               No   \n",
       "3826  3213-VVOLG  2020-02-01      No  Two year               No   \n",
       "4380  2520-SGTTA  2020-02-01      No  Two year               No   \n",
       "5218  2923-ARZLG  2020-02-01      No  One year              Yes   \n",
       "6670  4075-WKNIU  2020-02-01      No  Two year               No   \n",
       "6754  2775-SEFEE  2020-02-01      No  Two year              Yes   \n",
       "\n",
       "                  PaymentMethod  MonthlyCharges  TotalCharges  \n",
       "488   Bank transfer (automatic)           52.55         52.55  \n",
       "753                Mailed check           20.25         20.25  \n",
       "936                Mailed check           80.85         80.85  \n",
       "1082               Mailed check           25.75         25.75  \n",
       "1340    Credit card (automatic)           56.05         56.05  \n",
       "3331               Mailed check           19.85         19.85  \n",
       "3826               Mailed check           25.35         25.35  \n",
       "4380               Mailed check           20.00         20.00  \n",
       "5218               Mailed check           19.70         19.70  \n",
       "6670               Mailed check           73.35         73.35  \n",
       "6754  Bank transfer (automatic)           61.90         61.90  "
      ]
     },
     "execution_count": 10,
     "metadata": {},
     "output_type": "execute_result"
    }
   ],
   "source": [
    "contract[contract['BeginDate'] == '2020-02-01']"
   ]
  },
  {
   "cell_type": "markdown",
   "id": "d435fcc1",
   "metadata": {},
   "source": [
    "Теперь в таблице <b>contract</b> в колонках <b>BeginDate</b> и <b>EndDate</b> изменим тип данных на даты. Но перед этим в колонке <b>EndDate</b>, заменим значение 'No' на дату выгрузки 2020-02-01, это означает, что клиенты ещё действующие"
   ]
  },
  {
   "cell_type": "code",
   "execution_count": 11,
   "id": "6ae19f17",
   "metadata": {},
   "outputs": [],
   "source": [
    "# замена значения на дату выгрузки\n",
    "contract['EndDate'] = contract['EndDate'].replace('No', '2020-02-01')"
   ]
  },
  {
   "cell_type": "code",
   "execution_count": 12,
   "id": "86b24396",
   "metadata": {},
   "outputs": [
    {
     "data": {
      "text/html": [
       "<div>\n",
       "<style scoped>\n",
       "    .dataframe tbody tr th:only-of-type {\n",
       "        vertical-align: middle;\n",
       "    }\n",
       "\n",
       "    .dataframe tbody tr th {\n",
       "        vertical-align: top;\n",
       "    }\n",
       "\n",
       "    .dataframe thead th {\n",
       "        text-align: right;\n",
       "    }\n",
       "</style>\n",
       "<table border=\"1\" class=\"dataframe\">\n",
       "  <thead>\n",
       "    <tr style=\"text-align: right;\">\n",
       "      <th></th>\n",
       "      <th>customerID</th>\n",
       "      <th>BeginDate</th>\n",
       "      <th>EndDate</th>\n",
       "      <th>Type</th>\n",
       "      <th>PaperlessBilling</th>\n",
       "      <th>PaymentMethod</th>\n",
       "      <th>MonthlyCharges</th>\n",
       "      <th>TotalCharges</th>\n",
       "    </tr>\n",
       "  </thead>\n",
       "  <tbody>\n",
       "    <tr>\n",
       "      <th>0</th>\n",
       "      <td>7590-VHVEG</td>\n",
       "      <td>2020-01-01</td>\n",
       "      <td>2020-02-01</td>\n",
       "      <td>Month-to-month</td>\n",
       "      <td>Yes</td>\n",
       "      <td>Electronic check</td>\n",
       "      <td>29.85</td>\n",
       "      <td>29.85</td>\n",
       "    </tr>\n",
       "    <tr>\n",
       "      <th>1</th>\n",
       "      <td>5575-GNVDE</td>\n",
       "      <td>2017-04-01</td>\n",
       "      <td>2020-02-01</td>\n",
       "      <td>One year</td>\n",
       "      <td>No</td>\n",
       "      <td>Mailed check</td>\n",
       "      <td>56.95</td>\n",
       "      <td>1889.50</td>\n",
       "    </tr>\n",
       "    <tr>\n",
       "      <th>2</th>\n",
       "      <td>3668-QPYBK</td>\n",
       "      <td>2019-10-01</td>\n",
       "      <td>2019-12-01 00:00:00</td>\n",
       "      <td>Month-to-month</td>\n",
       "      <td>Yes</td>\n",
       "      <td>Mailed check</td>\n",
       "      <td>53.85</td>\n",
       "      <td>108.15</td>\n",
       "    </tr>\n",
       "    <tr>\n",
       "      <th>3</th>\n",
       "      <td>7795-CFOCW</td>\n",
       "      <td>2016-05-01</td>\n",
       "      <td>2020-02-01</td>\n",
       "      <td>One year</td>\n",
       "      <td>No</td>\n",
       "      <td>Bank transfer (automatic)</td>\n",
       "      <td>42.30</td>\n",
       "      <td>1840.75</td>\n",
       "    </tr>\n",
       "    <tr>\n",
       "      <th>4</th>\n",
       "      <td>9237-HQITU</td>\n",
       "      <td>2019-09-01</td>\n",
       "      <td>2019-11-01 00:00:00</td>\n",
       "      <td>Month-to-month</td>\n",
       "      <td>Yes</td>\n",
       "      <td>Electronic check</td>\n",
       "      <td>70.70</td>\n",
       "      <td>151.65</td>\n",
       "    </tr>\n",
       "    <tr>\n",
       "      <th>5</th>\n",
       "      <td>9305-CDSKC</td>\n",
       "      <td>2019-03-01</td>\n",
       "      <td>2019-11-01 00:00:00</td>\n",
       "      <td>Month-to-month</td>\n",
       "      <td>Yes</td>\n",
       "      <td>Electronic check</td>\n",
       "      <td>99.65</td>\n",
       "      <td>820.50</td>\n",
       "    </tr>\n",
       "    <tr>\n",
       "      <th>6</th>\n",
       "      <td>1452-KIOVK</td>\n",
       "      <td>2018-04-01</td>\n",
       "      <td>2020-02-01</td>\n",
       "      <td>Month-to-month</td>\n",
       "      <td>Yes</td>\n",
       "      <td>Credit card (automatic)</td>\n",
       "      <td>89.10</td>\n",
       "      <td>1949.40</td>\n",
       "    </tr>\n",
       "    <tr>\n",
       "      <th>7</th>\n",
       "      <td>6713-OKOMC</td>\n",
       "      <td>2019-04-01</td>\n",
       "      <td>2020-02-01</td>\n",
       "      <td>Month-to-month</td>\n",
       "      <td>No</td>\n",
       "      <td>Mailed check</td>\n",
       "      <td>29.75</td>\n",
       "      <td>301.90</td>\n",
       "    </tr>\n",
       "    <tr>\n",
       "      <th>8</th>\n",
       "      <td>7892-POOKP</td>\n",
       "      <td>2017-07-01</td>\n",
       "      <td>2019-11-01 00:00:00</td>\n",
       "      <td>Month-to-month</td>\n",
       "      <td>Yes</td>\n",
       "      <td>Electronic check</td>\n",
       "      <td>104.80</td>\n",
       "      <td>3046.05</td>\n",
       "    </tr>\n",
       "    <tr>\n",
       "      <th>9</th>\n",
       "      <td>6388-TABGU</td>\n",
       "      <td>2014-12-01</td>\n",
       "      <td>2020-02-01</td>\n",
       "      <td>One year</td>\n",
       "      <td>No</td>\n",
       "      <td>Bank transfer (automatic)</td>\n",
       "      <td>56.15</td>\n",
       "      <td>3487.95</td>\n",
       "    </tr>\n",
       "  </tbody>\n",
       "</table>\n",
       "</div>"
      ],
      "text/plain": [
       "   customerID   BeginDate              EndDate            Type  \\\n",
       "0  7590-VHVEG  2020-01-01           2020-02-01  Month-to-month   \n",
       "1  5575-GNVDE  2017-04-01           2020-02-01        One year   \n",
       "2  3668-QPYBK  2019-10-01  2019-12-01 00:00:00  Month-to-month   \n",
       "3  7795-CFOCW  2016-05-01           2020-02-01        One year   \n",
       "4  9237-HQITU  2019-09-01  2019-11-01 00:00:00  Month-to-month   \n",
       "5  9305-CDSKC  2019-03-01  2019-11-01 00:00:00  Month-to-month   \n",
       "6  1452-KIOVK  2018-04-01           2020-02-01  Month-to-month   \n",
       "7  6713-OKOMC  2019-04-01           2020-02-01  Month-to-month   \n",
       "8  7892-POOKP  2017-07-01  2019-11-01 00:00:00  Month-to-month   \n",
       "9  6388-TABGU  2014-12-01           2020-02-01        One year   \n",
       "\n",
       "  PaperlessBilling              PaymentMethod  MonthlyCharges  TotalCharges  \n",
       "0              Yes           Electronic check           29.85         29.85  \n",
       "1               No               Mailed check           56.95       1889.50  \n",
       "2              Yes               Mailed check           53.85        108.15  \n",
       "3               No  Bank transfer (automatic)           42.30       1840.75  \n",
       "4              Yes           Electronic check           70.70        151.65  \n",
       "5              Yes           Electronic check           99.65        820.50  \n",
       "6              Yes    Credit card (automatic)           89.10       1949.40  \n",
       "7               No               Mailed check           29.75        301.90  \n",
       "8              Yes           Electronic check          104.80       3046.05  \n",
       "9               No  Bank transfer (automatic)           56.15       3487.95  "
      ]
     },
     "execution_count": 12,
     "metadata": {},
     "output_type": "execute_result"
    }
   ],
   "source": [
    "contract.head(10)"
   ]
  },
  {
   "cell_type": "code",
   "execution_count": 13,
   "id": "885afa1d",
   "metadata": {},
   "outputs": [],
   "source": [
    "# изменение типов данных в даты\n",
    "contract['BeginDate'] = pd.to_datetime(contract['BeginDate'], format='%Y-%m-%d')\n",
    "contract['EndDate'] = pd.to_datetime(contract['EndDate'], format='%Y-%m-%d')\n"
   ]
  },
  {
   "cell_type": "markdown",
   "id": "271b493b",
   "metadata": {},
   "source": [
    "<div class=\"alert alert-success\">\n",
    "<b>**Комментарий тимлида_v2 ✔️:**</b>\n",
    "\n",
    "Есть приведение к типам. Есть заполнение дат. Отлично.\n",
    "</div>"
   ]
  },
  {
   "cell_type": "code",
   "execution_count": 14,
   "id": "3caec5fc",
   "metadata": {},
   "outputs": [
    {
     "name": "stdout",
     "output_type": "stream",
     "text": [
      "<class 'pandas.core.frame.DataFrame'>\n",
      "RangeIndex: 7043 entries, 0 to 7042\n",
      "Data columns (total 8 columns):\n",
      " #   Column            Non-Null Count  Dtype         \n",
      "---  ------            --------------  -----         \n",
      " 0   customerID        7043 non-null   object        \n",
      " 1   BeginDate         7043 non-null   datetime64[ns]\n",
      " 2   EndDate           7043 non-null   datetime64[ns]\n",
      " 3   Type              7043 non-null   object        \n",
      " 4   PaperlessBilling  7043 non-null   object        \n",
      " 5   PaymentMethod     7043 non-null   object        \n",
      " 6   MonthlyCharges    7043 non-null   float64       \n",
      " 7   TotalCharges      7043 non-null   float64       \n",
      "dtypes: datetime64[ns](2), float64(2), object(4)\n",
      "memory usage: 440.3+ KB\n"
     ]
    }
   ],
   "source": [
    "contract.info()"
   ]
  },
  {
   "cell_type": "code",
   "execution_count": 15,
   "id": "4436a245",
   "metadata": {},
   "outputs": [],
   "source": [
    "# создание целевого признака\n",
    "contract['Exited'] = (contract['EndDate'] != '2020-02-01').astype(int)"
   ]
  },
  {
   "cell_type": "code",
   "execution_count": 16,
   "id": "88ea73e9",
   "metadata": {},
   "outputs": [],
   "source": [
    "# создание признака - активное количество дней использования услуг\n",
    "contract['ActiveDates'] = (contract['EndDate'] - contract['BeginDate']).dt.days\n",
    "#contract['ActiveMonth'] = round(contract['ActiveDates']/30).astype('int')\n",
    "#contract['YearExited'] = contract['EndDate'].dt.year"
   ]
  },
  {
   "cell_type": "markdown",
   "id": "91d3151a",
   "metadata": {},
   "source": [
    "<div class=\"alert alert-success\">\n",
    "<b>**Комментарий тимлида_v2 ✔️:**</b>\n",
    "\n",
    "1. Есть таргет!\n",
    "2. Новый хороший признак. Уверен он нам пригодится!\n",
    "</div>"
   ]
  },
  {
   "cell_type": "code",
   "execution_count": 17,
   "id": "cafb6e45",
   "metadata": {},
   "outputs": [
    {
     "data": {
      "text/html": [
       "<div>\n",
       "<style scoped>\n",
       "    .dataframe tbody tr th:only-of-type {\n",
       "        vertical-align: middle;\n",
       "    }\n",
       "\n",
       "    .dataframe tbody tr th {\n",
       "        vertical-align: top;\n",
       "    }\n",
       "\n",
       "    .dataframe thead th {\n",
       "        text-align: right;\n",
       "    }\n",
       "</style>\n",
       "<table border=\"1\" class=\"dataframe\">\n",
       "  <thead>\n",
       "    <tr style=\"text-align: right;\">\n",
       "      <th></th>\n",
       "      <th>customerID</th>\n",
       "      <th>BeginDate</th>\n",
       "      <th>EndDate</th>\n",
       "      <th>Type</th>\n",
       "      <th>PaperlessBilling</th>\n",
       "      <th>PaymentMethod</th>\n",
       "      <th>MonthlyCharges</th>\n",
       "      <th>TotalCharges</th>\n",
       "      <th>Exited</th>\n",
       "      <th>ActiveDates</th>\n",
       "    </tr>\n",
       "  </thead>\n",
       "  <tbody>\n",
       "    <tr>\n",
       "      <th>0</th>\n",
       "      <td>7590-VHVEG</td>\n",
       "      <td>2020-01-01</td>\n",
       "      <td>2020-02-01</td>\n",
       "      <td>Month-to-month</td>\n",
       "      <td>Yes</td>\n",
       "      <td>Electronic check</td>\n",
       "      <td>29.85</td>\n",
       "      <td>29.85</td>\n",
       "      <td>0</td>\n",
       "      <td>31</td>\n",
       "    </tr>\n",
       "    <tr>\n",
       "      <th>1</th>\n",
       "      <td>5575-GNVDE</td>\n",
       "      <td>2017-04-01</td>\n",
       "      <td>2020-02-01</td>\n",
       "      <td>One year</td>\n",
       "      <td>No</td>\n",
       "      <td>Mailed check</td>\n",
       "      <td>56.95</td>\n",
       "      <td>1889.50</td>\n",
       "      <td>0</td>\n",
       "      <td>1036</td>\n",
       "    </tr>\n",
       "    <tr>\n",
       "      <th>2</th>\n",
       "      <td>3668-QPYBK</td>\n",
       "      <td>2019-10-01</td>\n",
       "      <td>2019-12-01</td>\n",
       "      <td>Month-to-month</td>\n",
       "      <td>Yes</td>\n",
       "      <td>Mailed check</td>\n",
       "      <td>53.85</td>\n",
       "      <td>108.15</td>\n",
       "      <td>1</td>\n",
       "      <td>61</td>\n",
       "    </tr>\n",
       "    <tr>\n",
       "      <th>3</th>\n",
       "      <td>7795-CFOCW</td>\n",
       "      <td>2016-05-01</td>\n",
       "      <td>2020-02-01</td>\n",
       "      <td>One year</td>\n",
       "      <td>No</td>\n",
       "      <td>Bank transfer (automatic)</td>\n",
       "      <td>42.30</td>\n",
       "      <td>1840.75</td>\n",
       "      <td>0</td>\n",
       "      <td>1371</td>\n",
       "    </tr>\n",
       "    <tr>\n",
       "      <th>4</th>\n",
       "      <td>9237-HQITU</td>\n",
       "      <td>2019-09-01</td>\n",
       "      <td>2019-11-01</td>\n",
       "      <td>Month-to-month</td>\n",
       "      <td>Yes</td>\n",
       "      <td>Electronic check</td>\n",
       "      <td>70.70</td>\n",
       "      <td>151.65</td>\n",
       "      <td>1</td>\n",
       "      <td>61</td>\n",
       "    </tr>\n",
       "    <tr>\n",
       "      <th>5</th>\n",
       "      <td>9305-CDSKC</td>\n",
       "      <td>2019-03-01</td>\n",
       "      <td>2019-11-01</td>\n",
       "      <td>Month-to-month</td>\n",
       "      <td>Yes</td>\n",
       "      <td>Electronic check</td>\n",
       "      <td>99.65</td>\n",
       "      <td>820.50</td>\n",
       "      <td>1</td>\n",
       "      <td>245</td>\n",
       "    </tr>\n",
       "    <tr>\n",
       "      <th>6</th>\n",
       "      <td>1452-KIOVK</td>\n",
       "      <td>2018-04-01</td>\n",
       "      <td>2020-02-01</td>\n",
       "      <td>Month-to-month</td>\n",
       "      <td>Yes</td>\n",
       "      <td>Credit card (automatic)</td>\n",
       "      <td>89.10</td>\n",
       "      <td>1949.40</td>\n",
       "      <td>0</td>\n",
       "      <td>671</td>\n",
       "    </tr>\n",
       "    <tr>\n",
       "      <th>7</th>\n",
       "      <td>6713-OKOMC</td>\n",
       "      <td>2019-04-01</td>\n",
       "      <td>2020-02-01</td>\n",
       "      <td>Month-to-month</td>\n",
       "      <td>No</td>\n",
       "      <td>Mailed check</td>\n",
       "      <td>29.75</td>\n",
       "      <td>301.90</td>\n",
       "      <td>0</td>\n",
       "      <td>306</td>\n",
       "    </tr>\n",
       "    <tr>\n",
       "      <th>8</th>\n",
       "      <td>7892-POOKP</td>\n",
       "      <td>2017-07-01</td>\n",
       "      <td>2019-11-01</td>\n",
       "      <td>Month-to-month</td>\n",
       "      <td>Yes</td>\n",
       "      <td>Electronic check</td>\n",
       "      <td>104.80</td>\n",
       "      <td>3046.05</td>\n",
       "      <td>1</td>\n",
       "      <td>853</td>\n",
       "    </tr>\n",
       "    <tr>\n",
       "      <th>9</th>\n",
       "      <td>6388-TABGU</td>\n",
       "      <td>2014-12-01</td>\n",
       "      <td>2020-02-01</td>\n",
       "      <td>One year</td>\n",
       "      <td>No</td>\n",
       "      <td>Bank transfer (automatic)</td>\n",
       "      <td>56.15</td>\n",
       "      <td>3487.95</td>\n",
       "      <td>0</td>\n",
       "      <td>1888</td>\n",
       "    </tr>\n",
       "  </tbody>\n",
       "</table>\n",
       "</div>"
      ],
      "text/plain": [
       "   customerID  BeginDate    EndDate            Type PaperlessBilling  \\\n",
       "0  7590-VHVEG 2020-01-01 2020-02-01  Month-to-month              Yes   \n",
       "1  5575-GNVDE 2017-04-01 2020-02-01        One year               No   \n",
       "2  3668-QPYBK 2019-10-01 2019-12-01  Month-to-month              Yes   \n",
       "3  7795-CFOCW 2016-05-01 2020-02-01        One year               No   \n",
       "4  9237-HQITU 2019-09-01 2019-11-01  Month-to-month              Yes   \n",
       "5  9305-CDSKC 2019-03-01 2019-11-01  Month-to-month              Yes   \n",
       "6  1452-KIOVK 2018-04-01 2020-02-01  Month-to-month              Yes   \n",
       "7  6713-OKOMC 2019-04-01 2020-02-01  Month-to-month               No   \n",
       "8  7892-POOKP 2017-07-01 2019-11-01  Month-to-month              Yes   \n",
       "9  6388-TABGU 2014-12-01 2020-02-01        One year               No   \n",
       "\n",
       "               PaymentMethod  MonthlyCharges  TotalCharges  Exited  \\\n",
       "0           Electronic check           29.85         29.85       0   \n",
       "1               Mailed check           56.95       1889.50       0   \n",
       "2               Mailed check           53.85        108.15       1   \n",
       "3  Bank transfer (automatic)           42.30       1840.75       0   \n",
       "4           Electronic check           70.70        151.65       1   \n",
       "5           Electronic check           99.65        820.50       1   \n",
       "6    Credit card (automatic)           89.10       1949.40       0   \n",
       "7               Mailed check           29.75        301.90       0   \n",
       "8           Electronic check          104.80       3046.05       1   \n",
       "9  Bank transfer (automatic)           56.15       3487.95       0   \n",
       "\n",
       "   ActiveDates  \n",
       "0           31  \n",
       "1         1036  \n",
       "2           61  \n",
       "3         1371  \n",
       "4           61  \n",
       "5          245  \n",
       "6          671  \n",
       "7          306  \n",
       "8          853  \n",
       "9         1888  "
      ]
     },
     "execution_count": 17,
     "metadata": {},
     "output_type": "execute_result"
    }
   ],
   "source": [
    "contract.head(10)"
   ]
  },
  {
   "cell_type": "markdown",
   "id": "73c98528",
   "metadata": {},
   "source": [
    "Даты больше не нужны, всю необходимую информацию мы из них вычерпали."
   ]
  },
  {
   "cell_type": "code",
   "execution_count": 18,
   "id": "0e666aaa",
   "metadata": {},
   "outputs": [
    {
     "data": {
      "text/html": [
       "<div>\n",
       "<style scoped>\n",
       "    .dataframe tbody tr th:only-of-type {\n",
       "        vertical-align: middle;\n",
       "    }\n",
       "\n",
       "    .dataframe tbody tr th {\n",
       "        vertical-align: top;\n",
       "    }\n",
       "\n",
       "    .dataframe thead th {\n",
       "        text-align: right;\n",
       "    }\n",
       "</style>\n",
       "<table border=\"1\" class=\"dataframe\">\n",
       "  <thead>\n",
       "    <tr style=\"text-align: right;\">\n",
       "      <th></th>\n",
       "      <th>customerID</th>\n",
       "      <th>Type</th>\n",
       "      <th>PaperlessBilling</th>\n",
       "      <th>PaymentMethod</th>\n",
       "      <th>MonthlyCharges</th>\n",
       "      <th>TotalCharges</th>\n",
       "      <th>Exited</th>\n",
       "      <th>ActiveDates</th>\n",
       "    </tr>\n",
       "  </thead>\n",
       "  <tbody>\n",
       "    <tr>\n",
       "      <th>0</th>\n",
       "      <td>7590-VHVEG</td>\n",
       "      <td>Month-to-month</td>\n",
       "      <td>Yes</td>\n",
       "      <td>Electronic check</td>\n",
       "      <td>29.85</td>\n",
       "      <td>29.85</td>\n",
       "      <td>0</td>\n",
       "      <td>31</td>\n",
       "    </tr>\n",
       "    <tr>\n",
       "      <th>1</th>\n",
       "      <td>5575-GNVDE</td>\n",
       "      <td>One year</td>\n",
       "      <td>No</td>\n",
       "      <td>Mailed check</td>\n",
       "      <td>56.95</td>\n",
       "      <td>1889.50</td>\n",
       "      <td>0</td>\n",
       "      <td>1036</td>\n",
       "    </tr>\n",
       "    <tr>\n",
       "      <th>2</th>\n",
       "      <td>3668-QPYBK</td>\n",
       "      <td>Month-to-month</td>\n",
       "      <td>Yes</td>\n",
       "      <td>Mailed check</td>\n",
       "      <td>53.85</td>\n",
       "      <td>108.15</td>\n",
       "      <td>1</td>\n",
       "      <td>61</td>\n",
       "    </tr>\n",
       "    <tr>\n",
       "      <th>3</th>\n",
       "      <td>7795-CFOCW</td>\n",
       "      <td>One year</td>\n",
       "      <td>No</td>\n",
       "      <td>Bank transfer (automatic)</td>\n",
       "      <td>42.30</td>\n",
       "      <td>1840.75</td>\n",
       "      <td>0</td>\n",
       "      <td>1371</td>\n",
       "    </tr>\n",
       "    <tr>\n",
       "      <th>4</th>\n",
       "      <td>9237-HQITU</td>\n",
       "      <td>Month-to-month</td>\n",
       "      <td>Yes</td>\n",
       "      <td>Electronic check</td>\n",
       "      <td>70.70</td>\n",
       "      <td>151.65</td>\n",
       "      <td>1</td>\n",
       "      <td>61</td>\n",
       "    </tr>\n",
       "  </tbody>\n",
       "</table>\n",
       "</div>"
      ],
      "text/plain": [
       "   customerID            Type PaperlessBilling              PaymentMethod  \\\n",
       "0  7590-VHVEG  Month-to-month              Yes           Electronic check   \n",
       "1  5575-GNVDE        One year               No               Mailed check   \n",
       "2  3668-QPYBK  Month-to-month              Yes               Mailed check   \n",
       "3  7795-CFOCW        One year               No  Bank transfer (automatic)   \n",
       "4  9237-HQITU  Month-to-month              Yes           Electronic check   \n",
       "\n",
       "   MonthlyCharges  TotalCharges  Exited  ActiveDates  \n",
       "0           29.85         29.85       0           31  \n",
       "1           56.95       1889.50       0         1036  \n",
       "2           53.85        108.15       1           61  \n",
       "3           42.30       1840.75       0         1371  \n",
       "4           70.70        151.65       1           61  "
      ]
     },
     "execution_count": 18,
     "metadata": {},
     "output_type": "execute_result"
    }
   ],
   "source": [
    "# Удаление столбцов\n",
    "contract = contract.drop(['BeginDate', 'EndDate'], axis=1)\n",
    "contract.head()"
   ]
  },
  {
   "cell_type": "markdown",
   "id": "33f03436",
   "metadata": {},
   "source": [
    "<div class=\"alert alert-success\">\n",
    "<b>**Комментарий тимлида_v2 ✔️:**</b>\n",
    "\n",
    "Отлино что удаляешь неинформативные и спорные признаки - 'customerID','EndDate', 'BeginDate'. Касаемо дат - у нас бинарная классификация а не анализ временных рядов. Кроме этого даты могут дать серьезную утечку целевого признака (помогать предсказывать модели правильный ответ)\n",
    "</div>"
   ]
  },
  {
   "cell_type": "markdown",
   "id": "d2cd99f9",
   "metadata": {},
   "source": [
    "Соединим все таблицы в одну"
   ]
  },
  {
   "cell_type": "code",
   "execution_count": 19,
   "id": "4abb8a64",
   "metadata": {},
   "outputs": [],
   "source": [
    "data = contract.merge(personal, \n",
    "                      how='left', on='customerID').merge(internet, \n",
    "                      how='left', on='customerID').merge(phone, \n",
    "                      how='left', on='customerID') "
   ]
  },
  {
   "cell_type": "code",
   "execution_count": 20,
   "id": "e769ea23",
   "metadata": {},
   "outputs": [
    {
     "data": {
      "text/html": [
       "<div>\n",
       "<style scoped>\n",
       "    .dataframe tbody tr th:only-of-type {\n",
       "        vertical-align: middle;\n",
       "    }\n",
       "\n",
       "    .dataframe tbody tr th {\n",
       "        vertical-align: top;\n",
       "    }\n",
       "\n",
       "    .dataframe thead th {\n",
       "        text-align: right;\n",
       "    }\n",
       "</style>\n",
       "<table border=\"1\" class=\"dataframe\">\n",
       "  <thead>\n",
       "    <tr style=\"text-align: right;\">\n",
       "      <th></th>\n",
       "      <th>customerID</th>\n",
       "      <th>Type</th>\n",
       "      <th>PaperlessBilling</th>\n",
       "      <th>PaymentMethod</th>\n",
       "      <th>MonthlyCharges</th>\n",
       "      <th>TotalCharges</th>\n",
       "      <th>Exited</th>\n",
       "      <th>ActiveDates</th>\n",
       "      <th>gender</th>\n",
       "      <th>SeniorCitizen</th>\n",
       "      <th>Partner</th>\n",
       "      <th>Dependents</th>\n",
       "      <th>InternetService</th>\n",
       "      <th>OnlineSecurity</th>\n",
       "      <th>OnlineBackup</th>\n",
       "      <th>DeviceProtection</th>\n",
       "      <th>TechSupport</th>\n",
       "      <th>StreamingTV</th>\n",
       "      <th>StreamingMovies</th>\n",
       "      <th>MultipleLines</th>\n",
       "    </tr>\n",
       "  </thead>\n",
       "  <tbody>\n",
       "    <tr>\n",
       "      <th>0</th>\n",
       "      <td>7590-VHVEG</td>\n",
       "      <td>Month-to-month</td>\n",
       "      <td>Yes</td>\n",
       "      <td>Electronic check</td>\n",
       "      <td>29.85</td>\n",
       "      <td>29.85</td>\n",
       "      <td>0</td>\n",
       "      <td>31</td>\n",
       "      <td>Female</td>\n",
       "      <td>0</td>\n",
       "      <td>Yes</td>\n",
       "      <td>No</td>\n",
       "      <td>DSL</td>\n",
       "      <td>No</td>\n",
       "      <td>Yes</td>\n",
       "      <td>No</td>\n",
       "      <td>No</td>\n",
       "      <td>No</td>\n",
       "      <td>No</td>\n",
       "      <td>NaN</td>\n",
       "    </tr>\n",
       "    <tr>\n",
       "      <th>1</th>\n",
       "      <td>5575-GNVDE</td>\n",
       "      <td>One year</td>\n",
       "      <td>No</td>\n",
       "      <td>Mailed check</td>\n",
       "      <td>56.95</td>\n",
       "      <td>1889.50</td>\n",
       "      <td>0</td>\n",
       "      <td>1036</td>\n",
       "      <td>Male</td>\n",
       "      <td>0</td>\n",
       "      <td>No</td>\n",
       "      <td>No</td>\n",
       "      <td>DSL</td>\n",
       "      <td>Yes</td>\n",
       "      <td>No</td>\n",
       "      <td>Yes</td>\n",
       "      <td>No</td>\n",
       "      <td>No</td>\n",
       "      <td>No</td>\n",
       "      <td>No</td>\n",
       "    </tr>\n",
       "    <tr>\n",
       "      <th>2</th>\n",
       "      <td>3668-QPYBK</td>\n",
       "      <td>Month-to-month</td>\n",
       "      <td>Yes</td>\n",
       "      <td>Mailed check</td>\n",
       "      <td>53.85</td>\n",
       "      <td>108.15</td>\n",
       "      <td>1</td>\n",
       "      <td>61</td>\n",
       "      <td>Male</td>\n",
       "      <td>0</td>\n",
       "      <td>No</td>\n",
       "      <td>No</td>\n",
       "      <td>DSL</td>\n",
       "      <td>Yes</td>\n",
       "      <td>Yes</td>\n",
       "      <td>No</td>\n",
       "      <td>No</td>\n",
       "      <td>No</td>\n",
       "      <td>No</td>\n",
       "      <td>No</td>\n",
       "    </tr>\n",
       "    <tr>\n",
       "      <th>3</th>\n",
       "      <td>7795-CFOCW</td>\n",
       "      <td>One year</td>\n",
       "      <td>No</td>\n",
       "      <td>Bank transfer (automatic)</td>\n",
       "      <td>42.30</td>\n",
       "      <td>1840.75</td>\n",
       "      <td>0</td>\n",
       "      <td>1371</td>\n",
       "      <td>Male</td>\n",
       "      <td>0</td>\n",
       "      <td>No</td>\n",
       "      <td>No</td>\n",
       "      <td>DSL</td>\n",
       "      <td>Yes</td>\n",
       "      <td>No</td>\n",
       "      <td>Yes</td>\n",
       "      <td>Yes</td>\n",
       "      <td>No</td>\n",
       "      <td>No</td>\n",
       "      <td>NaN</td>\n",
       "    </tr>\n",
       "    <tr>\n",
       "      <th>4</th>\n",
       "      <td>9237-HQITU</td>\n",
       "      <td>Month-to-month</td>\n",
       "      <td>Yes</td>\n",
       "      <td>Electronic check</td>\n",
       "      <td>70.70</td>\n",
       "      <td>151.65</td>\n",
       "      <td>1</td>\n",
       "      <td>61</td>\n",
       "      <td>Female</td>\n",
       "      <td>0</td>\n",
       "      <td>No</td>\n",
       "      <td>No</td>\n",
       "      <td>Fiber optic</td>\n",
       "      <td>No</td>\n",
       "      <td>No</td>\n",
       "      <td>No</td>\n",
       "      <td>No</td>\n",
       "      <td>No</td>\n",
       "      <td>No</td>\n",
       "      <td>No</td>\n",
       "    </tr>\n",
       "  </tbody>\n",
       "</table>\n",
       "</div>"
      ],
      "text/plain": [
       "   customerID            Type PaperlessBilling              PaymentMethod  \\\n",
       "0  7590-VHVEG  Month-to-month              Yes           Electronic check   \n",
       "1  5575-GNVDE        One year               No               Mailed check   \n",
       "2  3668-QPYBK  Month-to-month              Yes               Mailed check   \n",
       "3  7795-CFOCW        One year               No  Bank transfer (automatic)   \n",
       "4  9237-HQITU  Month-to-month              Yes           Electronic check   \n",
       "\n",
       "   MonthlyCharges  TotalCharges  Exited  ActiveDates  gender  SeniorCitizen  \\\n",
       "0           29.85         29.85       0           31  Female              0   \n",
       "1           56.95       1889.50       0         1036    Male              0   \n",
       "2           53.85        108.15       1           61    Male              0   \n",
       "3           42.30       1840.75       0         1371    Male              0   \n",
       "4           70.70        151.65       1           61  Female              0   \n",
       "\n",
       "  Partner Dependents InternetService OnlineSecurity OnlineBackup  \\\n",
       "0     Yes         No             DSL             No          Yes   \n",
       "1      No         No             DSL            Yes           No   \n",
       "2      No         No             DSL            Yes          Yes   \n",
       "3      No         No             DSL            Yes           No   \n",
       "4      No         No     Fiber optic             No           No   \n",
       "\n",
       "  DeviceProtection TechSupport StreamingTV StreamingMovies MultipleLines  \n",
       "0               No          No          No              No           NaN  \n",
       "1              Yes          No          No              No            No  \n",
       "2               No          No          No              No            No  \n",
       "3              Yes         Yes          No              No           NaN  \n",
       "4               No          No          No              No            No  "
      ]
     },
     "execution_count": 20,
     "metadata": {},
     "output_type": "execute_result"
    }
   ],
   "source": [
    "data.head()"
   ]
  },
  {
   "cell_type": "markdown",
   "id": "61e93df6",
   "metadata": {},
   "source": [
    "<div class=\"alert alert-success\">\n",
    "<b>**Комментарий тимлида_v2 ✔️:**</b>\n",
    "\n",
    "Ок, есть объединение таблиц. Можно было использовать более короткий вариант - join([таблица1, таблица2....]), для этого предварительно указав индексом cutomerID, который как раз в качестве индекса и подходит.\n",
    "</div>"
   ]
  },
  {
   "cell_type": "markdown",
   "id": "75cfc584",
   "metadata": {},
   "source": [
    "Для красоты переименуем столбец <b>gender</b> в <b>Gender</b>"
   ]
  },
  {
   "cell_type": "code",
   "execution_count": 21,
   "id": "4fdd6110",
   "metadata": {},
   "outputs": [],
   "source": [
    "data = data.rename(columns={'gender':'Gender'})"
   ]
  },
  {
   "cell_type": "code",
   "execution_count": 22,
   "id": "bc735e17",
   "metadata": {
    "scrolled": false
   },
   "outputs": [
    {
     "name": "stdout",
     "output_type": "stream",
     "text": [
      "<class 'pandas.core.frame.DataFrame'>\n",
      "Int64Index: 7043 entries, 0 to 7042\n",
      "Data columns (total 20 columns):\n",
      " #   Column            Non-Null Count  Dtype  \n",
      "---  ------            --------------  -----  \n",
      " 0   customerID        7043 non-null   object \n",
      " 1   Type              7043 non-null   object \n",
      " 2   PaperlessBilling  7043 non-null   object \n",
      " 3   PaymentMethod     7043 non-null   object \n",
      " 4   MonthlyCharges    7043 non-null   float64\n",
      " 5   TotalCharges      7043 non-null   float64\n",
      " 6   Exited            7043 non-null   int64  \n",
      " 7   ActiveDates       7043 non-null   int64  \n",
      " 8   Gender            7043 non-null   object \n",
      " 9   SeniorCitizen     7043 non-null   int64  \n",
      " 10  Partner           7043 non-null   object \n",
      " 11  Dependents        7043 non-null   object \n",
      " 12  InternetService   5517 non-null   object \n",
      " 13  OnlineSecurity    5517 non-null   object \n",
      " 14  OnlineBackup      5517 non-null   object \n",
      " 15  DeviceProtection  5517 non-null   object \n",
      " 16  TechSupport       5517 non-null   object \n",
      " 17  StreamingTV       5517 non-null   object \n",
      " 18  StreamingMovies   5517 non-null   object \n",
      " 19  MultipleLines     6361 non-null   object \n",
      "dtypes: float64(2), int64(3), object(15)\n",
      "memory usage: 1.1+ MB\n"
     ]
    }
   ],
   "source": [
    "data.info()"
   ]
  },
  {
   "cell_type": "markdown",
   "id": "852f58a0",
   "metadata": {},
   "source": [
    "Удалим нумерацию клиентов и установим customerID индексами"
   ]
  },
  {
   "cell_type": "code",
   "execution_count": 23,
   "id": "6db54b49",
   "metadata": {},
   "outputs": [],
   "source": [
    "data = data.set_index('customerID')"
   ]
  },
  {
   "cell_type": "markdown",
   "id": "88b66d7c",
   "metadata": {},
   "source": [
    "Обработаем пропуски. При объединении таблиц появились пропуски по дополнительным услугам. Можем предположить что если информация отсутствует у клиента, то этой услугой он не пользуется. Поэтому заменим пропуски на 'No'."
   ]
  },
  {
   "cell_type": "code",
   "execution_count": 24,
   "id": "9a37e997",
   "metadata": {},
   "outputs": [],
   "source": [
    "data = data.fillna('No')"
   ]
  },
  {
   "cell_type": "markdown",
   "id": "1995da30",
   "metadata": {},
   "source": [
    "<div class=\"alert alert-success\">\n",
    "<b>**Комментарий тимлида_v2 ✔️:**</b>\n",
    "\n",
    "Да, все верно. У тебя есть бинарные признаки (Yes/No) и в случае добавления к ним еще одного значения, например Unknown или NA модель может запутаться.  Получается что бинарные признаки превратятся уже не в бинарные, а в обычные номинальные - с тремя категориями: NAN, Yes, No. В чем разница для модели NAN и No? Хорошо что меняешь именно на No. \n",
    "\n",
    "</div>"
   ]
  },
  {
   "cell_type": "code",
   "execution_count": 25,
   "id": "9bb47c94",
   "metadata": {},
   "outputs": [
    {
     "name": "stdout",
     "output_type": "stream",
     "text": [
      "<class 'pandas.core.frame.DataFrame'>\n",
      "Index: 7043 entries, 7590-VHVEG to 3186-AJIEK\n",
      "Data columns (total 19 columns):\n",
      " #   Column            Non-Null Count  Dtype  \n",
      "---  ------            --------------  -----  \n",
      " 0   Type              7043 non-null   object \n",
      " 1   PaperlessBilling  7043 non-null   object \n",
      " 2   PaymentMethod     7043 non-null   object \n",
      " 3   MonthlyCharges    7043 non-null   float64\n",
      " 4   TotalCharges      7043 non-null   float64\n",
      " 5   Exited            7043 non-null   int64  \n",
      " 6   ActiveDates       7043 non-null   int64  \n",
      " 7   Gender            7043 non-null   object \n",
      " 8   SeniorCitizen     7043 non-null   int64  \n",
      " 9   Partner           7043 non-null   object \n",
      " 10  Dependents        7043 non-null   object \n",
      " 11  InternetService   7043 non-null   object \n",
      " 12  OnlineSecurity    7043 non-null   object \n",
      " 13  OnlineBackup      7043 non-null   object \n",
      " 14  DeviceProtection  7043 non-null   object \n",
      " 15  TechSupport       7043 non-null   object \n",
      " 16  StreamingTV       7043 non-null   object \n",
      " 17  StreamingMovies   7043 non-null   object \n",
      " 18  MultipleLines     7043 non-null   object \n",
      "dtypes: float64(2), int64(3), object(14)\n",
      "memory usage: 1.1+ MB\n"
     ]
    }
   ],
   "source": [
    "data.info()"
   ]
  },
  {
   "cell_type": "markdown",
   "id": "56673175",
   "metadata": {},
   "source": [
    "<n>Вывод:</n>\n",
    "\n",
    "- объединили все таблицы в одну\n",
    "- из даты выделили целевой признак активности клиента (1 - ушел, 0 - нет)\n",
    "- обработали пропуски\n",
    "- создали новый признак по количеству активных дней пользования услуг\n",
    "- удалили колонки с датами"
   ]
  },
  {
   "cell_type": "markdown",
   "id": "ad5b7297",
   "metadata": {},
   "source": [
    "## Исследовательский анализ"
   ]
  },
  {
   "cell_type": "markdown",
   "id": "004f3397",
   "metadata": {},
   "source": [
    "Исследуем целевой признак. Проверим, как часто в целевом признаке встречается класс «1» или «0»."
   ]
  },
  {
   "cell_type": "code",
   "execution_count": 26,
   "id": "0da0e978",
   "metadata": {},
   "outputs": [
    {
     "name": "stdout",
     "output_type": "stream",
     "text": [
      "0    0.73463\n",
      "1    0.26537\n",
      "Name: Exited, dtype: float64\n"
     ]
    },
    {
     "data": {
      "text/plain": [
       "<AxesSubplot:>"
      ]
     },
     "execution_count": 26,
     "metadata": {},
     "output_type": "execute_result"
    },
    {
     "data": {
      "image/png": "[encoded data removed]",
      "text/plain": [
       "<Figure size 432x288 with 1 Axes>"
      ]
     },
     "metadata": {
      "needs_background": "light"
     },
     "output_type": "display_data"
    }
   ],
   "source": [
    "class_frequency = data['Exited'].value_counts(normalize=True)\n",
    "print(class_frequency)\n",
    "class_frequency.plot(kind='bar')"
   ]
  },
  {
   "cell_type": "markdown",
   "id": "f42775f5",
   "metadata": {},
   "source": [
    "Видим, что классы несбалансированы, т.е. положительный класс \"1\" в три раза меньше отрицательного \"0\". (25% клиентов уходит)."
   ]
  },
  {
   "cell_type": "markdown",
   "id": "d8bddef3",
   "metadata": {},
   "source": [
    "<div class=\"alert alert-success\">\n",
    "<b>**Комментарий тимлида_v2 ✔️:**</b>\n",
    "\n",
    "Да, есть дисбаланс целевого признака. Есть несколько вариантов в нашем случае:\n",
    "   \n",
    "- ничего не делать тк дисбаланс пограничный на уровне 1:3\n",
    "- применить сэмплирование\n",
    "- воспользоваться встренными средствами балансировки в моделях\n",
    "    \n",
    "</div>"
   ]
  },
  {
   "cell_type": "markdown",
   "id": "09ba15ce",
   "metadata": {},
   "source": [
    "Посмотрим как влияет месячный платеж на уход клиентов. Создадим отдельную таблицу ушедших клиентов и на графике сравним распределение платежей между ушедшими и всеми клиентами"
   ]
  },
  {
   "cell_type": "code",
   "execution_count": 27,
   "id": "68060266",
   "metadata": {},
   "outputs": [
    {
     "data": {
      "text/plain": [
       "count    1869.000000\n",
       "mean       74.441332\n",
       "std        24.666053\n",
       "min        18.850000\n",
       "25%        56.150000\n",
       "50%        79.650000\n",
       "75%        94.200000\n",
       "max       118.350000\n",
       "Name: MonthlyCharges, dtype: float64"
      ]
     },
     "execution_count": 27,
     "metadata": {},
     "output_type": "execute_result"
    }
   ],
   "source": [
    "# создание таблицы ушедших клиентов\n",
    "exited_clients = data[data['Exited'] == 1]\n",
    "exited_clients['MonthlyCharges'].describe()"
   ]
  },
  {
   "cell_type": "code",
   "execution_count": 28,
   "id": "b24fa959",
   "metadata": {},
   "outputs": [
    {
     "data": {
      "image/png": "[encoded data removed]",
      "text/plain": [
       "<Figure size 1152x576 with 1 Axes>"
      ]
     },
     "metadata": {
      "needs_background": "light"
     },
     "output_type": "display_data"
    }
   ],
   "source": [
    "# построение графика по месячным платежам между ушедшими и всеми клиентами\n",
    "plt.figure(figsize=(16,8))\n",
    "sns.distplot(exited_clients['MonthlyCharges'], color=\"g\", label=\"Ушли\")\n",
    "sns.distplot(data['MonthlyCharges'], color=\"b\", label=\"Все\")\n",
    "\n",
    "plt.title('Сравнение распределений ежемесячных платежей', fontsize=22)\n",
    "plt.legend()\n",
    "plt.xlabel('Сумма')\n",
    "plt.show();"
   ]
  },
  {
   "cell_type": "markdown",
   "id": "2f26f127",
   "metadata": {},
   "source": [
    "Из графика видим, что чаще всего уходят клиенты, у которых ежемесячные платежи выше. Также заметны три пика распределения, поэтому можно предположить, что есть три базовых тарифа. Клиенты тратящие больше уходят чаще"
   ]
  },
  {
   "cell_type": "markdown",
   "id": "381b2023",
   "metadata": {},
   "source": [
    "<div class=\"alert alert-success\">\n",
    "<b>**Комментарий тимлида_v2 ✔️:**</b>\n",
    "\n",
    "Отличные графики! \n",
    "</div>"
   ]
  },
  {
   "cell_type": "code",
   "execution_count": 29,
   "id": "73f0ffa0",
   "metadata": {},
   "outputs": [
    {
     "data": {
      "text/plain": [
       "count    1869.000000\n",
       "mean      547.352060\n",
       "std       594.389607\n",
       "min        30.000000\n",
       "25%        61.000000\n",
       "50%       304.000000\n",
       "75%       883.000000\n",
       "max      2191.000000\n",
       "Name: ActiveDates, dtype: float64"
      ]
     },
     "execution_count": 29,
     "metadata": {},
     "output_type": "execute_result"
    }
   ],
   "source": [
    "exited_clients['ActiveDates'].describe()"
   ]
  },
  {
   "cell_type": "markdown",
   "id": "58ca2ff3",
   "metadata": {},
   "source": [
    "По длительности активности клиентов можно сказать, что четверть клиентов уходят через два месяца, а половина в первые 10 месяцев"
   ]
  },
  {
   "cell_type": "markdown",
   "id": "93ccc5e2",
   "metadata": {},
   "source": [
    "Проверим признаки на мультиколлинеарность, построим корреляцию Фи-ка"
   ]
  },
  {
   "cell_type": "code",
   "execution_count": 30,
   "id": "5d2d8652",
   "metadata": {},
   "outputs": [],
   "source": [
    "interval_cols = ['MonthlyCharges', 'TotalCharges', 'ActiveDates']\n",
    "phik_overview = data.phik_matrix(interval_cols)"
   ]
  },
  {
   "cell_type": "code",
   "execution_count": 31,
   "id": "ed69f75e",
   "metadata": {
    "scrolled": false
   },
   "outputs": [
    {
     "data": {
      "image/png": "[encoded data removed]",
      "text/plain": [
       "<Figure size 1008x720 with 2 Axes>"
      ]
     },
     "metadata": {
      "needs_background": "light"
     },
     "output_type": "display_data"
    }
   ],
   "source": [
    "\n",
    "plot_correlation_matrix(phik_overview.values, \n",
    "                        x_labels=phik_overview.columns, \n",
    "                        y_labels=phik_overview.index, \n",
    "                        vmin=0, vmax=1, color_map=\"Greens\", \n",
    "                        title=r\"correlation $\\phi_K$\", \n",
    "                        fontsize_factor=1.5, \n",
    "                        figsize=(14, 10))\n",
    "plt.tight_layout()"
   ]
  },
  {
   "cell_type": "markdown",
   "id": "fd338ba0",
   "metadata": {},
   "source": [
    "Между признаками <b>TotalCharges</b> и <b>ActiveDates</b> сильная корреляция, 0.84, присутствует проблема мультиколлинеарности. Это объясняется тем, что чем дольше клиент пользуется услугами, тем больше составляют его общие расходы.\n",
    "\n",
    "Удалим признак <b>TotalCharges</b>. Также за ненадобностью удалим признаки <b>StreamingMovies</b>, <b>StreamingTV</b> и <b>InternetService</b>"
   ]
  },
  {
   "cell_type": "markdown",
   "id": "fd0252a2",
   "metadata": {},
   "source": [
    "<div class=\"alert alert-success\">\n",
    "<b>**Комментарий тимлида_v2 ✔️:**</b>\n",
    "\n",
    "Хорошо что проводишь проверку на мультиколлинеарность и влияние признаков на таргет.\n",
    "\n",
    "Напоминаю - два признака называются мультиколлинеарными, если они сильно коррелированы/зависимы. Изменения в одном признаке влекут за собой изменения в другом признаке. Мультиколлинеарность влияет на алгоритмы линейной регрессии, логистической регрессии, KNN и Наивного Байеса. В случае использования этих моделей нужно избавляться от мультиколлинеарности (удалять один из признаков).\n",
    "\n",
    "</div>"
   ]
  },
  {
   "cell_type": "code",
   "execution_count": 32,
   "id": "7d2cd2ff",
   "metadata": {},
   "outputs": [
    {
     "name": "stdout",
     "output_type": "stream",
     "text": [
      "<class 'pandas.core.frame.DataFrame'>\n",
      "Index: 7043 entries, 7590-VHVEG to 3186-AJIEK\n",
      "Data columns (total 15 columns):\n",
      " #   Column            Non-Null Count  Dtype  \n",
      "---  ------            --------------  -----  \n",
      " 0   Type              7043 non-null   object \n",
      " 1   PaperlessBilling  7043 non-null   object \n",
      " 2   PaymentMethod     7043 non-null   object \n",
      " 3   MonthlyCharges    7043 non-null   float64\n",
      " 4   Exited            7043 non-null   int64  \n",
      " 5   ActiveDates       7043 non-null   int64  \n",
      " 6   Gender            7043 non-null   object \n",
      " 7   SeniorCitizen     7043 non-null   int64  \n",
      " 8   Partner           7043 non-null   object \n",
      " 9   Dependents        7043 non-null   object \n",
      " 10  OnlineSecurity    7043 non-null   object \n",
      " 11  OnlineBackup      7043 non-null   object \n",
      " 12  DeviceProtection  7043 non-null   object \n",
      " 13  TechSupport       7043 non-null   object \n",
      " 14  MultipleLines     7043 non-null   object \n",
      "dtypes: float64(1), int64(3), object(11)\n",
      "memory usage: 880.4+ KB\n"
     ]
    }
   ],
   "source": [
    "data = data.drop(['TotalCharges', 'StreamingMovies', 'StreamingTV', 'InternetService'], axis=1)\n",
    "data.info()"
   ]
  },
  {
   "cell_type": "markdown",
   "id": "51ba3eff",
   "metadata": {},
   "source": [
    "Поменяем значения столбца <b>SeniorCitizen</b> на Yes/No"
   ]
  },
  {
   "cell_type": "code",
   "execution_count": 33,
   "id": "3ec7bd80",
   "metadata": {},
   "outputs": [],
   "source": [
    "data['SeniorCitizen'] = data['SeniorCitizen'].replace('1', 'Yes')\n",
    "data['SeniorCitizen'] = data['SeniorCitizen'].replace('0', 'No')"
   ]
  },
  {
   "cell_type": "markdown",
   "id": "151c083a",
   "metadata": {},
   "source": [
    "<div class=\"alert alert-success\">\n",
    "<b>**Комментарий тимлида_v2 ✔️:**</b>\n",
    "\n",
    "Отлично, все единоообразоно, упростит кодирование\n",
    "</div>"
   ]
  },
  {
   "cell_type": "markdown",
   "id": "c0ba78cb",
   "metadata": {},
   "source": [
    "Отделим целевой признак. Разделим данные на обучающую и тестовую выборки в пропорциях (75% и 25%)"
   ]
  },
  {
   "cell_type": "code",
   "execution_count": 34,
   "id": "9a567639",
   "metadata": {},
   "outputs": [],
   "source": [
    "# создание переменных для признаков и целевого признака для обучающей выборки\n",
    "target = data['Exited']\n",
    "features = data.drop('Exited', axis=1)"
   ]
  },
  {
   "cell_type": "code",
   "execution_count": null,
   "id": "430f4a6f",
   "metadata": {},
   "outputs": [],
   "source": [
    "# деление данных на обучающую и тестовую выборки\n",
    "features_train, features_test, target_train, target_test = train_test_split(features, target, test_size=0.25, \n",
    "                                                                            random_state=101022)\n",
    "\n",
    "print(features_train.shape)\n",
    "print(features_test.shape)"
   ]
  },
  {
   "cell_type": "markdown",
   "id": "71aebcd4",
   "metadata": {},
   "source": [
    "<div class=\"alert alert-warning\">\n",
    "<b>**Комментарий тимлида_v2 ⚠️:**</b>\n",
    "\n",
    "Выборка у нас несбалансирована, при разбивке желательно использовать стратификацию - параметр stratify\n",
    "</div>"
   ]
  },
  {
   "cell_type": "markdown",
   "id": "0b531f06",
   "metadata": {},
   "source": [
    "Выделим категориальные признаки"
   ]
  },
  {
   "cell_type": "code",
   "execution_count": 36,
   "id": "872258c8",
   "metadata": {},
   "outputs": [],
   "source": [
    "# категориальные признаки\n",
    "categorical = ['Type', 'PaperlessBilling', 'PaymentMethod', 'Gender', 'SeniorCitizen',\n",
    "                 'Partner', 'Dependents', 'OnlineSecurity', 'OnlineBackup',\n",
    "                 'DeviceProtection', 'TechSupport', 'MultipleLines']"
   ]
  },
  {
   "cell_type": "markdown",
   "id": "aee79c01",
   "metadata": {},
   "source": [
    "Задействуем технику порядкого кодирования, чтобы преобразовать категориальные признаки в числа"
   ]
  },
  {
   "cell_type": "code",
   "execution_count": 37,
   "id": "5b44546a",
   "metadata": {},
   "outputs": [],
   "source": [
    "encoder = OrdinalEncoder()"
   ]
  },
  {
   "cell_type": "code",
   "execution_count": 38,
   "id": "c5c5c46d",
   "metadata": {},
   "outputs": [
    {
     "data": {
      "text/html": [
       "<div>\n",
       "<style scoped>\n",
       "    .dataframe tbody tr th:only-of-type {\n",
       "        vertical-align: middle;\n",
       "    }\n",
       "\n",
       "    .dataframe tbody tr th {\n",
       "        vertical-align: top;\n",
       "    }\n",
       "\n",
       "    .dataframe thead th {\n",
       "        text-align: right;\n",
       "    }\n",
       "</style>\n",
       "<table border=\"1\" class=\"dataframe\">\n",
       "  <thead>\n",
       "    <tr style=\"text-align: right;\">\n",
       "      <th></th>\n",
       "      <th>Type</th>\n",
       "      <th>PaperlessBilling</th>\n",
       "      <th>PaymentMethod</th>\n",
       "      <th>MonthlyCharges</th>\n",
       "      <th>ActiveDates</th>\n",
       "      <th>Gender</th>\n",
       "      <th>SeniorCitizen</th>\n",
       "      <th>Partner</th>\n",
       "      <th>Dependents</th>\n",
       "      <th>OnlineSecurity</th>\n",
       "      <th>OnlineBackup</th>\n",
       "      <th>DeviceProtection</th>\n",
       "      <th>TechSupport</th>\n",
       "      <th>MultipleLines</th>\n",
       "    </tr>\n",
       "    <tr>\n",
       "      <th>customerID</th>\n",
       "      <th></th>\n",
       "      <th></th>\n",
       "      <th></th>\n",
       "      <th></th>\n",
       "      <th></th>\n",
       "      <th></th>\n",
       "      <th></th>\n",
       "      <th></th>\n",
       "      <th></th>\n",
       "      <th></th>\n",
       "      <th></th>\n",
       "      <th></th>\n",
       "      <th></th>\n",
       "      <th></th>\n",
       "    </tr>\n",
       "  </thead>\n",
       "  <tbody>\n",
       "    <tr>\n",
       "      <th>2321-OMBXY</th>\n",
       "      <td>1.0</td>\n",
       "      <td>0.0</td>\n",
       "      <td>1.0</td>\n",
       "      <td>80.30</td>\n",
       "      <td>1156</td>\n",
       "      <td>0.0</td>\n",
       "      <td>0.0</td>\n",
       "      <td>1.0</td>\n",
       "      <td>1.0</td>\n",
       "      <td>1.0</td>\n",
       "      <td>1.0</td>\n",
       "      <td>0.0</td>\n",
       "      <td>1.0</td>\n",
       "      <td>0.0</td>\n",
       "    </tr>\n",
       "    <tr>\n",
       "      <th>1309-XGFSN</th>\n",
       "      <td>1.0</td>\n",
       "      <td>1.0</td>\n",
       "      <td>2.0</td>\n",
       "      <td>80.85</td>\n",
       "      <td>1584</td>\n",
       "      <td>1.0</td>\n",
       "      <td>1.0</td>\n",
       "      <td>1.0</td>\n",
       "      <td>1.0</td>\n",
       "      <td>0.0</td>\n",
       "      <td>1.0</td>\n",
       "      <td>1.0</td>\n",
       "      <td>0.0</td>\n",
       "      <td>1.0</td>\n",
       "    </tr>\n",
       "    <tr>\n",
       "      <th>5663-QBGIS</th>\n",
       "      <td>2.0</td>\n",
       "      <td>0.0</td>\n",
       "      <td>0.0</td>\n",
       "      <td>98.35</td>\n",
       "      <td>2191</td>\n",
       "      <td>1.0</td>\n",
       "      <td>1.0</td>\n",
       "      <td>1.0</td>\n",
       "      <td>0.0</td>\n",
       "      <td>0.0</td>\n",
       "      <td>1.0</td>\n",
       "      <td>0.0</td>\n",
       "      <td>0.0</td>\n",
       "      <td>1.0</td>\n",
       "    </tr>\n",
       "    <tr>\n",
       "      <th>4628-CTTLA</th>\n",
       "      <td>0.0</td>\n",
       "      <td>1.0</td>\n",
       "      <td>2.0</td>\n",
       "      <td>39.30</td>\n",
       "      <td>1734</td>\n",
       "      <td>1.0</td>\n",
       "      <td>0.0</td>\n",
       "      <td>0.0</td>\n",
       "      <td>0.0</td>\n",
       "      <td>0.0</td>\n",
       "      <td>1.0</td>\n",
       "      <td>0.0</td>\n",
       "      <td>0.0</td>\n",
       "      <td>0.0</td>\n",
       "    </tr>\n",
       "    <tr>\n",
       "      <th>1929-ZCBHE</th>\n",
       "      <td>1.0</td>\n",
       "      <td>0.0</td>\n",
       "      <td>2.0</td>\n",
       "      <td>40.30</td>\n",
       "      <td>1432</td>\n",
       "      <td>1.0</td>\n",
       "      <td>0.0</td>\n",
       "      <td>1.0</td>\n",
       "      <td>1.0</td>\n",
       "      <td>1.0</td>\n",
       "      <td>0.0</td>\n",
       "      <td>1.0</td>\n",
       "      <td>1.0</td>\n",
       "      <td>0.0</td>\n",
       "    </tr>\n",
       "  </tbody>\n",
       "</table>\n",
       "</div>"
      ],
      "text/plain": [
       "            Type  PaperlessBilling  PaymentMethod  MonthlyCharges  \\\n",
       "customerID                                                          \n",
       "2321-OMBXY   1.0               0.0            1.0           80.30   \n",
       "1309-XGFSN   1.0               1.0            2.0           80.85   \n",
       "5663-QBGIS   2.0               0.0            0.0           98.35   \n",
       "4628-CTTLA   0.0               1.0            2.0           39.30   \n",
       "1929-ZCBHE   1.0               0.0            2.0           40.30   \n",
       "\n",
       "            ActiveDates  Gender  SeniorCitizen  Partner  Dependents  \\\n",
       "customerID                                                            \n",
       "2321-OMBXY         1156     0.0            0.0      1.0         1.0   \n",
       "1309-XGFSN         1584     1.0            1.0      1.0         1.0   \n",
       "5663-QBGIS         2191     1.0            1.0      1.0         0.0   \n",
       "4628-CTTLA         1734     1.0            0.0      0.0         0.0   \n",
       "1929-ZCBHE         1432     1.0            0.0      1.0         1.0   \n",
       "\n",
       "            OnlineSecurity  OnlineBackup  DeviceProtection  TechSupport  \\\n",
       "customerID                                                                \n",
       "2321-OMBXY             1.0           1.0               0.0          1.0   \n",
       "1309-XGFSN             0.0           1.0               1.0          0.0   \n",
       "5663-QBGIS             0.0           1.0               0.0          0.0   \n",
       "4628-CTTLA             0.0           1.0               0.0          0.0   \n",
       "1929-ZCBHE             1.0           0.0               1.0          1.0   \n",
       "\n",
       "            MultipleLines  \n",
       "customerID                 \n",
       "2321-OMBXY            0.0  \n",
       "1309-XGFSN            1.0  \n",
       "5663-QBGIS            1.0  \n",
       "4628-CTTLA            0.0  \n",
       "1929-ZCBHE            0.0  "
      ]
     },
     "execution_count": 38,
     "metadata": {},
     "output_type": "execute_result"
    }
   ],
   "source": [
    "#data_encoder = features_train.copy()\n",
    "features_train[categorical] = encoder.fit_transform(features_train[categorical])\n",
    "features_test[categorical] = encoder.transform(features_test[categorical])\n",
    "\n",
    "features_train.head()"
   ]
  },
  {
   "cell_type": "markdown",
   "id": "bf46c7e3",
   "metadata": {},
   "source": [
    "<div class=\"alert alert-success\">\n",
    "<b>**Комментарий тимлида_v2 :**</b>\n",
    "\n",
    "1. Кодирование необходимо для большинства моделей. OHE или Label Encoder вполне допустимый вариант. Молодец что проводишь кодированик ПОСЛЕ разбиения на трейн-тест. Как и с масштабированием - обучаем на трейне, преобразовываем как на трейне так и на тесте. Мы не знаем какие данные могут быть в тесте (по факту тест нам как бы недоступен), по этому не должны допускать утечку инфомрации из теста. \n",
    "    \n",
    "2. Очень хорошо, что исползуешь промышленный подход - OE. Не рекомендуется использовать get_dummies(). Если вссе-таки ты планируешь использовать get_dummies() - нужно после кодирования трейн и тест выполнить проверку не поменялись ли местами колонки в датасетах? Правильно ли выполнено кодирование?\n",
    "     \n",
    "3. Нужно помнить, что для некоторых моделей OHE предпочтительнее, это относится к линейным моделям.\n",
    "</div>"
   ]
  },
  {
   "cell_type": "markdown",
   "id": "7ad481bf",
   "metadata": {},
   "source": [
    "Так как у признаков разный масштаб, приведем их к одному масштабу с помощью стандартизации данных"
   ]
  },
  {
   "cell_type": "code",
   "execution_count": 39,
   "id": "7e60c3af",
   "metadata": {},
   "outputs": [],
   "source": [
    "numeric = ['MonthlyCharges', 'ActiveDates']"
   ]
  },
  {
   "cell_type": "code",
   "execution_count": 40,
   "id": "b59b937d",
   "metadata": {},
   "outputs": [
    {
     "data": {
      "text/html": [
       "<div>\n",
       "<style scoped>\n",
       "    .dataframe tbody tr th:only-of-type {\n",
       "        vertical-align: middle;\n",
       "    }\n",
       "\n",
       "    .dataframe tbody tr th {\n",
       "        vertical-align: top;\n",
       "    }\n",
       "\n",
       "    .dataframe thead th {\n",
       "        text-align: right;\n",
       "    }\n",
       "</style>\n",
       "<table border=\"1\" class=\"dataframe\">\n",
       "  <thead>\n",
       "    <tr style=\"text-align: right;\">\n",
       "      <th></th>\n",
       "      <th>Type</th>\n",
       "      <th>PaperlessBilling</th>\n",
       "      <th>PaymentMethod</th>\n",
       "      <th>MonthlyCharges</th>\n",
       "      <th>ActiveDates</th>\n",
       "      <th>Gender</th>\n",
       "      <th>SeniorCitizen</th>\n",
       "      <th>Partner</th>\n",
       "      <th>Dependents</th>\n",
       "      <th>OnlineSecurity</th>\n",
       "      <th>OnlineBackup</th>\n",
       "      <th>DeviceProtection</th>\n",
       "      <th>TechSupport</th>\n",
       "      <th>MultipleLines</th>\n",
       "    </tr>\n",
       "    <tr>\n",
       "      <th>customerID</th>\n",
       "      <th></th>\n",
       "      <th></th>\n",
       "      <th></th>\n",
       "      <th></th>\n",
       "      <th></th>\n",
       "      <th></th>\n",
       "      <th></th>\n",
       "      <th></th>\n",
       "      <th></th>\n",
       "      <th></th>\n",
       "      <th></th>\n",
       "      <th></th>\n",
       "      <th></th>\n",
       "      <th></th>\n",
       "    </tr>\n",
       "  </thead>\n",
       "  <tbody>\n",
       "    <tr>\n",
       "      <th>2321-OMBXY</th>\n",
       "      <td>1.0</td>\n",
       "      <td>0.0</td>\n",
       "      <td>1.0</td>\n",
       "      <td>0.505503</td>\n",
       "      <td>0.218098</td>\n",
       "      <td>0.0</td>\n",
       "      <td>0.0</td>\n",
       "      <td>1.0</td>\n",
       "      <td>1.0</td>\n",
       "      <td>1.0</td>\n",
       "      <td>1.0</td>\n",
       "      <td>0.0</td>\n",
       "      <td>1.0</td>\n",
       "      <td>0.0</td>\n",
       "    </tr>\n",
       "    <tr>\n",
       "      <th>1309-XGFSN</th>\n",
       "      <td>1.0</td>\n",
       "      <td>1.0</td>\n",
       "      <td>2.0</td>\n",
       "      <td>0.523731</td>\n",
       "      <td>0.789973</td>\n",
       "      <td>1.0</td>\n",
       "      <td>1.0</td>\n",
       "      <td>1.0</td>\n",
       "      <td>1.0</td>\n",
       "      <td>0.0</td>\n",
       "      <td>1.0</td>\n",
       "      <td>1.0</td>\n",
       "      <td>0.0</td>\n",
       "      <td>1.0</td>\n",
       "    </tr>\n",
       "    <tr>\n",
       "      <th>5663-QBGIS</th>\n",
       "      <td>2.0</td>\n",
       "      <td>0.0</td>\n",
       "      <td>0.0</td>\n",
       "      <td>1.103707</td>\n",
       "      <td>1.601019</td>\n",
       "      <td>1.0</td>\n",
       "      <td>1.0</td>\n",
       "      <td>1.0</td>\n",
       "      <td>0.0</td>\n",
       "      <td>0.0</td>\n",
       "      <td>1.0</td>\n",
       "      <td>0.0</td>\n",
       "      <td>0.0</td>\n",
       "      <td>1.0</td>\n",
       "    </tr>\n",
       "    <tr>\n",
       "      <th>4628-CTTLA</th>\n",
       "      <td>0.0</td>\n",
       "      <td>1.0</td>\n",
       "      <td>2.0</td>\n",
       "      <td>-0.853298</td>\n",
       "      <td>0.990396</td>\n",
       "      <td>1.0</td>\n",
       "      <td>0.0</td>\n",
       "      <td>0.0</td>\n",
       "      <td>0.0</td>\n",
       "      <td>0.0</td>\n",
       "      <td>1.0</td>\n",
       "      <td>0.0</td>\n",
       "      <td>0.0</td>\n",
       "      <td>0.0</td>\n",
       "    </tr>\n",
       "    <tr>\n",
       "      <th>1929-ZCBHE</th>\n",
       "      <td>1.0</td>\n",
       "      <td>0.0</td>\n",
       "      <td>2.0</td>\n",
       "      <td>-0.820156</td>\n",
       "      <td>0.586877</td>\n",
       "      <td>1.0</td>\n",
       "      <td>0.0</td>\n",
       "      <td>1.0</td>\n",
       "      <td>1.0</td>\n",
       "      <td>1.0</td>\n",
       "      <td>0.0</td>\n",
       "      <td>1.0</td>\n",
       "      <td>1.0</td>\n",
       "      <td>0.0</td>\n",
       "    </tr>\n",
       "  </tbody>\n",
       "</table>\n",
       "</div>"
      ],
      "text/plain": [
       "            Type  PaperlessBilling  PaymentMethod  MonthlyCharges  \\\n",
       "customerID                                                          \n",
       "2321-OMBXY   1.0               0.0            1.0        0.505503   \n",
       "1309-XGFSN   1.0               1.0            2.0        0.523731   \n",
       "5663-QBGIS   2.0               0.0            0.0        1.103707   \n",
       "4628-CTTLA   0.0               1.0            2.0       -0.853298   \n",
       "1929-ZCBHE   1.0               0.0            2.0       -0.820156   \n",
       "\n",
       "            ActiveDates  Gender  SeniorCitizen  Partner  Dependents  \\\n",
       "customerID                                                            \n",
       "2321-OMBXY     0.218098     0.0            0.0      1.0         1.0   \n",
       "1309-XGFSN     0.789973     1.0            1.0      1.0         1.0   \n",
       "5663-QBGIS     1.601019     1.0            1.0      1.0         0.0   \n",
       "4628-CTTLA     0.990396     1.0            0.0      0.0         0.0   \n",
       "1929-ZCBHE     0.586877     1.0            0.0      1.0         1.0   \n",
       "\n",
       "            OnlineSecurity  OnlineBackup  DeviceProtection  TechSupport  \\\n",
       "customerID                                                                \n",
       "2321-OMBXY             1.0           1.0               0.0          1.0   \n",
       "1309-XGFSN             0.0           1.0               1.0          0.0   \n",
       "5663-QBGIS             0.0           1.0               0.0          0.0   \n",
       "4628-CTTLA             0.0           1.0               0.0          0.0   \n",
       "1929-ZCBHE             1.0           0.0               1.0          1.0   \n",
       "\n",
       "            MultipleLines  \n",
       "customerID                 \n",
       "2321-OMBXY            0.0  \n",
       "1309-XGFSN            1.0  \n",
       "5663-QBGIS            1.0  \n",
       "4628-CTTLA            0.0  \n",
       "1929-ZCBHE            0.0  "
      ]
     },
     "execution_count": 40,
     "metadata": {},
     "output_type": "execute_result"
    }
   ],
   "source": [
    "scaler =  StandardScaler()\n",
    "scaler.fit(features_train[numeric])\n",
    "\n",
    "features_train[numeric] = scaler.transform(features_train[numeric])\n",
    "features_test[numeric] = scaler.transform(features_test[numeric])\n",
    "\n",
    "features_train.head()"
   ]
  },
  {
   "cell_type": "markdown",
   "id": "2f682145",
   "metadata": {},
   "source": [
    "<div class=\"alert alert-warning\">\n",
    "<b>**Комментарий тимлида_v2 ⚠️:**</b>\n",
    "\n",
    "Масштабирование признаков - важный этап работы в случае если планируешь использовать простые линейные модели. Для более сложных моделей масштабирование наоборот может ухудшить результаты. При этом нужно помнить, что обучение скейлера производится на трейне, а применение - как на трейне так и на тесте.\n",
    "\n",
    "Масштабирование  очень важно для алгоритмов, использующих градиентный спуск, таких как линейная регрессия, логистическая регрессия, нейронная сеть и т. д. а также для алгоритмов, использующих евклидово расстояние, таких как K-ближайшие соседи и кластеризация K-средних. Однако древовидные алгоритмы, такие как деревья решений, деревья регрессии, случайный лес и бустинг, не требуют масштабирования признаков. Но для алгоритмов, требующих масштабирования функций, это значительно повышает производительность и является полностью рекомендуемым этапом предварительной обработки.\n",
    "\n",
    "Вот хорошая статья на эту тему https://itchef.ru/articles/42114/\n",
    "</div>"
   ]
  },
  {
   "cell_type": "markdown",
   "id": "9a1c8c8c",
   "metadata": {},
   "source": [
    "## Подбор моделей"
   ]
  },
  {
   "cell_type": "markdown",
   "id": "35b0d185",
   "metadata": {},
   "source": [
    "Рассмотрим три модели с подбором гипперпараметров"
   ]
  },
  {
   "cell_type": "code",
   "execution_count": 41,
   "id": "eeb9eb90",
   "metadata": {},
   "outputs": [],
   "source": [
    "# таблица для сбора метрик\n",
    "models_scores = pd.DataFrame(columns = ['model', 'roc_auc'])"
   ]
  },
  {
   "cell_type": "markdown",
   "id": "331830a0",
   "metadata": {},
   "source": [
    "### RandomForestClassifier"
   ]
  },
  {
   "cell_type": "code",
   "execution_count": 42,
   "id": "db63ab9b",
   "metadata": {},
   "outputs": [
    {
     "name": "stdout",
     "output_type": "stream",
     "text": [
      "{'n_estimators': 91, 'max_depth': 81}\n",
      "CPU times: user 11.5 s, sys: 312 ms, total: 11.8 s\n",
      "Wall time: 12.2 s\n"
     ]
    },
    {
     "data": {
      "text/plain": [
       "0.8360217355610396"
      ]
     },
     "execution_count": 42,
     "metadata": {},
     "output_type": "execute_result"
    }
   ],
   "source": [
    "%%time\n",
    "model_forest = RandomForestClassifier(random_state=101022, class_weight='balanced')\n",
    "\n",
    "param_forest = {'n_estimators': range(1, 101, 10),\n",
    "              'max_depth' : range(1, 101, 10)\n",
    "               }\n",
    "\n",
    "model_forest_grid = RandomizedSearchCV(estimator=model_forest, param_distributions=param_forest, cv=5, \n",
    "                                       scoring='roc_auc')\n",
    "model_forest_grid.fit(features_train, target_train)\n",
    "\n",
    "models_scores = models_scores.append({'model': 'RandomForest',\n",
    "                     'roc_auc' : model_forest_grid.best_score_}, ignore_index=True)\n",
    "\n",
    "print(model_forest_grid.best_params_)\n",
    "model_forest_grid.best_score_\n"
   ]
  },
  {
   "cell_type": "markdown",
   "id": "e79fe61c",
   "metadata": {},
   "source": [
    "### CatBoostClassifier"
   ]
  },
  {
   "cell_type": "markdown",
   "id": "d3deb121",
   "metadata": {},
   "source": [
    "Создадим список весов для передачи в Catboost"
   ]
  },
  {
   "cell_type": "code",
   "execution_count": 43,
   "id": "3b387b44",
   "metadata": {},
   "outputs": [
    {
     "data": {
      "text/plain": [
       "[0.2653698707936959, 0.7346301292063041]"
      ]
     },
     "execution_count": 43,
     "metadata": {},
     "output_type": "execute_result"
    }
   ],
   "source": [
    "one_class_waight = target[target == 1].count() / target.count()\n",
    "zero_class_waight = 1 - one_class_waight\n",
    "class_waights = [one_class_waight, zero_class_waight]\n",
    "class_waights"
   ]
  },
  {
   "cell_type": "code",
   "execution_count": 44,
   "id": "3df1f87e",
   "metadata": {
    "scrolled": true
   },
   "outputs": [
    {
     "name": "stdout",
     "output_type": "stream",
     "text": [
      "{'learning_rate': 0.05, 'iterations': 1500}\n",
      "CPU times: user 3min 33s, sys: 33.1 s, total: 4min 7s\n",
      "Wall time: 2min 4s\n"
     ]
    },
    {
     "data": {
      "text/plain": [
       "0.9146535106798362"
      ]
     },
     "execution_count": 44,
     "metadata": {},
     "output_type": "execute_result"
    }
   ],
   "source": [
    "%%time\n",
    "model_cat = CatBoostClassifier(random_state=101022, class_weights=class_waights, verbose=0)\n",
    "\n",
    "param_cat = {'iterations': range(100, 2000, 100),\n",
    "             'learning_rate':[0.05, 0.1, 0.5, 0.9]\n",
    "            }\n",
    "\n",
    "model_cat_grid = RandomizedSearchCV(estimator=model_cat, param_distributions=param_cat, cv=5, scoring='roc_auc')\n",
    "\n",
    "model_cat_grid.fit(features_train, target_train)\n",
    "\n",
    "models_scores = models_scores.append({'model': 'CatBoost',\n",
    "                     'roc_auc' : model_cat_grid.best_score_}, ignore_index=True)\n",
    "\n",
    "print(model_cat_grid.best_params_)\n",
    "model_cat_grid.best_score_"
   ]
  },
  {
   "cell_type": "markdown",
   "id": "33dd3744",
   "metadata": {},
   "source": [
    "### LGBMClassifier"
   ]
  },
  {
   "cell_type": "code",
   "execution_count": 48,
   "id": "d8bbfde2",
   "metadata": {},
   "outputs": [
    {
     "name": "stdout",
     "output_type": "stream",
     "text": [
      "{'n_estimators': 600, 'max_depth': 35, 'learning_rate': 0.05}\n",
      "CPU times: user 1min 55s, sys: 1.35 s, total: 1min 56s\n",
      "Wall time: 30.5 s\n"
     ]
    },
    {
     "data": {
      "text/plain": [
       "0.8969524031052934"
      ]
     },
     "execution_count": 48,
     "metadata": {},
     "output_type": "execute_result"
    }
   ],
   "source": [
    "%%time\n",
    "model_lgbm = LGBMClassifier(random_state=101022, class_weight='balanced')\n",
    "\n",
    "param_lgbm = {'max_depth': range(5, 56, 10),\n",
    "             'learning_rate':[0.05, 0.1, 0.5, 0.9],\n",
    "             'n_estimators': [400, 600, 800]\n",
    "            }\n",
    "\n",
    "model_lgbm_grid = RandomizedSearchCV(model_lgbm, param_distributions=param_lgbm, cv=5, scoring='roc_auc')\n",
    "\n",
    "model_lgbm_grid.fit(features_train, target_train)\n",
    "\n",
    "models_scores = models_scores.append({'model': 'LightGBM',\n",
    "                     'roc_auc' : model_lgbm_grid.best_score_}, ignore_index=True)\n",
    "\n",
    "print(model_lgbm_grid.best_params_)\n",
    "model_lgbm_grid.best_score_"
   ]
  },
  {
   "cell_type": "code",
   "execution_count": 49,
   "id": "f8808cce",
   "metadata": {},
   "outputs": [
    {
     "data": {
      "text/html": [
       "<div>\n",
       "<style scoped>\n",
       "    .dataframe tbody tr th:only-of-type {\n",
       "        vertical-align: middle;\n",
       "    }\n",
       "\n",
       "    .dataframe tbody tr th {\n",
       "        vertical-align: top;\n",
       "    }\n",
       "\n",
       "    .dataframe thead th {\n",
       "        text-align: right;\n",
       "    }\n",
       "</style>\n",
       "<table border=\"1\" class=\"dataframe\">\n",
       "  <thead>\n",
       "    <tr style=\"text-align: right;\">\n",
       "      <th></th>\n",
       "      <th>model</th>\n",
       "      <th>roc_auc</th>\n",
       "    </tr>\n",
       "  </thead>\n",
       "  <tbody>\n",
       "    <tr>\n",
       "      <th>0</th>\n",
       "      <td>RandomForest</td>\n",
       "      <td>0.836022</td>\n",
       "    </tr>\n",
       "    <tr>\n",
       "      <th>1</th>\n",
       "      <td>CatBoost</td>\n",
       "      <td>0.914654</td>\n",
       "    </tr>\n",
       "    <tr>\n",
       "      <th>2</th>\n",
       "      <td>LightGBM</td>\n",
       "      <td>0.901746</td>\n",
       "    </tr>\n",
       "    <tr>\n",
       "      <th>3</th>\n",
       "      <td>LightGBM</td>\n",
       "      <td>0.896952</td>\n",
       "    </tr>\n",
       "  </tbody>\n",
       "</table>\n",
       "</div>"
      ],
      "text/plain": [
       "          model   roc_auc\n",
       "0  RandomForest  0.836022\n",
       "1      CatBoost  0.914654\n",
       "2      LightGBM  0.901746\n",
       "3      LightGBM  0.896952"
      ]
     },
     "execution_count": 49,
     "metadata": {},
     "output_type": "execute_result"
    }
   ],
   "source": [
    "# Вывод результатов\n",
    "models_scores"
   ]
  },
  {
   "cell_type": "markdown",
   "id": "44d26303",
   "metadata": {},
   "source": [
    "<b>Вывод</b>\n",
    "\n",
    "Было исследовано несколько моделей. У моделей <b>RandomForestClassifier</b> и <b>LightGBMClassifier</b> метрика <b>AUC-ROC</b> составила 0.83 и 0.89, соответственно. Наилучший результат показала модель <b>CatBoostClassifier</b>, где метрика <b>AUC-ROC</b> составила 0.91 на треннировочной выборке.\n"
   ]
  },
  {
   "cell_type": "markdown",
   "id": "385ba81c",
   "metadata": {},
   "source": [
    "<div class=\"alert alert-success\">\n",
    "<b>**Комментарий тимлида_v2 ✔️:**</b>\n",
    "\n",
    "Отлично! Протестировали три модели, получили предварительные результаты. \n",
    "</div>"
   ]
  },
  {
   "cell_type": "markdown",
   "id": "a16973a8",
   "metadata": {},
   "source": [
    "## Тестирование модели"
   ]
  },
  {
   "cell_type": "markdown",
   "id": "63e08e34",
   "metadata": {},
   "source": [
    "Проверим модель CatBoostClassifier с наилучшими гиперпараметрами на тестовой выборке"
   ]
  },
  {
   "cell_type": "code",
   "execution_count": 53,
   "id": "ca1f761e",
   "metadata": {},
   "outputs": [
    {
     "name": "stdout",
     "output_type": "stream",
     "text": [
      "ROC-AUC на тестовой выборке: 0.9166248588987833\n"
     ]
    }
   ],
   "source": [
    "# тестирование модели и расчёт auc_roc на тестовой выборке\n",
    "probabilities_test = model_cat_grid.best_estimator_.predict_proba(features_test)\n",
    "\n",
    "print('ROC-AUC на тестовой выборке:', roc_auc_score(target_test, probabilities_test[:, 1]))"
   ]
  },
  {
   "cell_type": "markdown",
   "id": "278109cb",
   "metadata": {},
   "source": [
    "<div class=\"alert alert-success\">\n",
    "<b>**Комментарий тимлида_v2 ✔️:**</b>\n",
    "\n",
    "А вот и наш победитель! Отлично.\n",
    "</div>"
   ]
  },
  {
   "cell_type": "code",
   "execution_count": 55,
   "id": "413fa02c",
   "metadata": {},
   "outputs": [
    {
     "data": {
      "image/png": "[encoded data removed]",
      "text/plain": [
       "<Figure size 432x288 with 1 Axes>"
      ]
     },
     "metadata": {
      "needs_background": "light"
     },
     "output_type": "display_data"
    }
   ],
   "source": [
    "# построение площади под ROC кривой на тестовой выборке\n",
    "fpr, tpr, thresholds = roc_curve(target_test, probabilities_test[:, 1]) \n",
    "\n",
    "plt.figure()\n",
    "\n",
    "plt.plot(fpr, tpr)\n",
    "\n",
    "# ROC-кривая случайной модели (выглядит как прямая)\n",
    "plt.plot([0, 1], [0, 1], linestyle='--')\n",
    "\n",
    "plt.xlim([0.0, 1.0])\n",
    "plt.ylim([0.0, 1.0])\n",
    "plt.xlabel('False Positive Rate')\n",
    "plt.ylabel('True Positive Rate')\n",
    "plt.title('ROC-кривая')\n",
    "plt.show()"
   ]
  },
  {
   "cell_type": "markdown",
   "id": "2e96beb0",
   "metadata": {},
   "source": [
    "В завершении посмотрим на важность признаков для нашей модели"
   ]
  },
  {
   "cell_type": "code",
   "execution_count": 56,
   "id": "bc58cb50",
   "metadata": {},
   "outputs": [
    {
     "data": {
      "image/png": "[encoded data removed]",
      "text/plain": [
       "<Figure size 1440x720 with 1 Axes>"
      ]
     },
     "metadata": {
      "needs_background": "light"
     },
     "output_type": "display_data"
    }
   ],
   "source": [
    "feature_imp = pd.DataFrame(sorted(zip(model_cat_grid.best_estimator_.feature_importances_, features_test.columns)), \n",
    "                           columns=['Величина','Признак'])\n",
    "\n",
    "plt.figure(figsize=(20, 10))\n",
    "sns.barplot(x=\"Величина\", y=\"Признак\", data=feature_imp.sort_values(by=\"Величина\", ascending=False))\n",
    "plt.title('График важности CatBoost факторов')\n",
    "plt.tight_layout()\n",
    "plt.show()"
   ]
  },
  {
   "cell_type": "markdown",
   "id": "8956895b",
   "metadata": {},
   "source": [
    "<b>Вывод</b>\n",
    "\n",
    "Наша модель добилась хороших результатов, площадь под ROC кривой на тестовой выборке составляет 0.91.\n",
    "\n",
    "Самым важным признаком является продолжительность пользования услугами, чем дольше клиент с компанией, тем меньше вероятность, что он покинет её. Следующий по важности признак - месячная плата за услуги. Чаще всего уходят клиенты, у которых месячная плата выше. Четверть клиентов уходят через два месяца, а половина в первые 10 месяцев"
   ]
  },
  {
   "cell_type": "markdown",
   "id": "6f4e2fbd",
   "metadata": {},
   "source": [
    "<div class=\"alert alert-warning\">\n",
    "<b>**Комментарий тимлида_v2:**</b>\n",
    "\n",
    "С точки зрения метрики - да, все ок, нужный показатель достигнут. Но вот с точки зрения бизнеса - ROC_AUC плохо интерпретируется. Гораздо лучше отразить дополнительно к этому графику еще и матрицу ошибок - confusion matrix. На основе нее сделать выводы как часто может ошибаться, какой тип ошибки наиболее вероятен и к чему с тз бизнеса это может привести.\n",
    "    \n",
    "</div>"
   ]
  },
  {
   "cell_type": "markdown",
   "id": "d06981e0",
   "metadata": {},
   "source": [
    "<div class=\"alert alert-success\">\n",
    "<b>**Комментарий тимлида [ФИНАЛЬНЫЙ КОД] ✔️:**</b>\n",
    "\n",
    "Олеся получилось хорошее и качественное исследование! Не допустила ни одной серьезной ошибки в работе. Молодец!!!!\n",
    "    \n",
    "Обработка данных, размышления над признаками, поиск и сравнение различных вариантов обучающего датасета. Конечные результаты, графика - многое удалось как надо. Можно сказать, что пройден весь алгоритм моделирования от анализа исходной инфо до анализа важности факторов.\n",
    "А что совсем хорошо, так это то, что нет гонки за точностью любой ценой, даже ценой наружения бизнес-логики. (это я про даты-признаки - всегда есть соблазн их оставить...)\n",
    "    \n",
    "Прежде, чем пойти дальше хочу обратить особое внимание на следующие пункты:\n",
    "    \n",
    "1. F1, Accuracy и AUC - отличные метрики, но нужно держать в голове, что это лишь обобщённые характеристики. А в реальной практике бизнесу часто важно знать детали самой ошибки - из каких ошибок/успехов она складывается. И в этом случае очень кстати будут меры полноты и точности. Рассмотри возможность их использования для своих проектов. Только через них можно выйти на финансовые возможности модели. Ведь перед запуском её в бой, будет сравнение стоимости создания и поддержки модели со стомостью \"оставить как есть\".\n",
    "\n",
    "\n",
    "2. При анализе факторов влияния (их зависиомть между собой и на целевую) происходит по одному из трёх алгоритмов, исходя из типа шкалы. Могут применять следующие графический и аналитический анализы:\n",
    "\n",
    "- колличественная-колличественная: аналитически метод - корреляции, графический - скатерплот.\n",
    "- колличественная-номинальная: аналитически методод - проверка гипотез (стьюдент), графический - боксплот.\n",
    "- номинальная-номинальная: аналитически методод - Хи-квадрат, графический - круговая диаграмма\n",
    "Это я к тому разделу, который посвящён анализу данных. Там сделаны интересные предположения и их аналитическая проверка. Очень важные этапы любого исследования, где требуется определить валидность использования признаков из датасета.\n",
    "    \n",
    "3. Алгоритм нахождения модели может быть таким:\n",
    "\n",
    "- изучаем проблематику бизнеса и самой темы (в данном случае отток). Пытаемся понять суть явления.\n",
    "- генерируем разные факторы влияния - любые.\n",
    "- дизайнируем (прикидываем модели) какие методы решения есть, чтобы решить проблему.\n",
    "- Смотрим, какие данные и в какой шкале есть. Что нужно ещё, что применить выбранный метод.\n",
    "- Оцениваем мультиколлинеарность.\n",
    "- Готовим подходящий датасет (масштабируем, убираем лишние признаки, кодируем)\n",
    "- Строим модели и анализируем те фактры, какие сгенерировали ранее.\n",
    "- Думаем над тем, какие причины (факторы) могут ещё влиять на таргет.\n",
    "- Если после нескольких итераций точность \"замирает\" - значит достигли потолка)\n",
    "    \n",
    "4. Проведение анализа важности факторов с помощью команды feature_importances_ (+графический анализ). Отличная вещь намечается: высокая метрика + график рейтинаг факторов по силе влияния на целевой признак). Важнейшая часть любого модельного финала. Если видно, что часть факторов - слабозначимые для модели. Т.е. не значительно влияют на целевую переменную, то их смело можно убирать из модели. Ну и для бизнеса доносить: на эти факторы надо обращать внимание, а эти не влияют на уход клиента.\n",
    "\n",
    "Вопросов у меня больше нет, работу принимаю, твоя метрика ROC-AUC = 0.91 что соответствует 6sp. \n",
    "\n",
    "Не забудь перед подготовкой отчета еще раз прочитать мои рекомендации по его составлению (что проверяется и на что обращается внимание при проверке).\n",
    "\n",
    "    \n",
    "</div>\n"
   ]
  },
  {
   "cell_type": "code",
   "execution_count": null,
   "id": "9d1fd107",
   "metadata": {},
   "outputs": [],
   "source": []
  },
  {
   "cell_type": "code",
   "execution_count": null,
   "id": "07d5b123",
   "metadata": {},
   "outputs": [],
   "source": []
  }
 ],
 "metadata": {
  "ExecuteTimeLog": [
   {
    "duration": 995,
    "start_time": "2022-03-07T18:21:48.292Z"
   },
   {
    "duration": 361,
    "start_time": "2022-03-07T18:21:49.289Z"
   },
   {
    "duration": 3,
    "start_time": "2022-03-07T18:21:49.652Z"
   },
   {
    "duration": 77,
    "start_time": "2022-03-07T18:21:49.657Z"
   },
   {
    "duration": 4,
    "start_time": "2022-03-07T18:21:49.736Z"
   },
   {
    "duration": 5,
    "start_time": "2022-03-07T18:21:49.742Z"
   },
   {
    "duration": 21,
    "start_time": "2022-03-07T18:21:49.749Z"
   },
   {
    "duration": 30,
    "start_time": "2022-03-07T18:21:49.773Z"
   },
   {
    "duration": 63,
    "start_time": "2022-03-07T18:21:49.805Z"
   },
   {
    "duration": 3,
    "start_time": "2022-03-07T18:21:49.870Z"
   },
   {
    "duration": 67,
    "start_time": "2022-03-07T18:21:49.874Z"
   },
   {
    "duration": 60,
    "start_time": "2022-03-07T18:21:49.942Z"
   },
   {
    "duration": 29,
    "start_time": "2022-03-07T18:21:50.003Z"
   },
   {
    "duration": 26,
    "start_time": "2022-03-07T18:21:50.033Z"
   },
   {
    "duration": 47,
    "start_time": "2022-03-07T18:21:50.061Z"
   },
   {
    "duration": 12,
    "start_time": "2022-03-07T18:21:50.110Z"
   },
   {
    "duration": 10,
    "start_time": "2022-03-07T18:21:50.123Z"
   },
   {
    "duration": 16,
    "start_time": "2022-03-07T18:21:50.134Z"
   },
   {
    "duration": 13,
    "start_time": "2022-03-07T18:21:50.152Z"
   },
   {
    "duration": 35,
    "start_time": "2022-03-07T18:21:50.166Z"
   },
   {
    "duration": 159,
    "start_time": "2022-03-07T18:21:50.203Z"
   },
   {
    "duration": 67,
    "start_time": "2022-03-07T18:21:50.363Z"
   },
   {
    "duration": 23,
    "start_time": "2022-03-07T18:21:50.433Z"
   },
   {
    "duration": 232,
    "start_time": "2022-03-07T18:21:50.457Z"
   },
   {
    "duration": 30,
    "start_time": "2022-03-07T18:21:50.691Z"
   },
   {
    "duration": 222,
    "start_time": "2022-03-07T18:21:50.722Z"
   },
   {
    "duration": 22,
    "start_time": "2022-03-07T18:21:50.946Z"
   },
   {
    "duration": 224,
    "start_time": "2022-03-07T18:21:50.970Z"
   },
   {
    "duration": 7,
    "start_time": "2022-03-07T18:21:51.196Z"
   },
   {
    "duration": 14,
    "start_time": "2022-03-07T18:21:51.204Z"
   },
   {
    "duration": 6,
    "start_time": "2022-03-07T18:21:51.219Z"
   },
   {
    "duration": 4,
    "start_time": "2022-03-07T18:21:51.227Z"
   },
   {
    "duration": 4,
    "start_time": "2022-03-07T18:21:51.232Z"
   },
   {
    "duration": 15,
    "start_time": "2022-03-07T18:21:51.238Z"
   },
   {
    "duration": 7,
    "start_time": "2022-03-07T18:21:51.255Z"
   },
   {
    "duration": 30600,
    "start_time": "2022-03-07T18:33:47.160Z"
   },
   {
    "duration": 1066,
    "start_time": "2022-10-11T16:29:33.499Z"
   },
   {
    "duration": 99,
    "start_time": "2022-10-11T16:29:34.567Z"
   },
   {
    "duration": 3,
    "start_time": "2022-10-11T16:29:43.758Z"
   },
   {
    "duration": 62,
    "start_time": "2022-10-11T16:29:44.899Z"
   },
   {
    "duration": 52,
    "start_time": "2022-10-11T16:29:58.440Z"
   },
   {
    "duration": 239,
    "start_time": "2022-10-11T16:30:04.203Z"
   },
   {
    "duration": 63,
    "start_time": "2022-10-23T04:14:03.511Z"
   },
   {
    "duration": 56,
    "start_time": "2022-10-23T04:14:46.744Z"
   },
   {
    "duration": 54,
    "start_time": "2022-10-23T04:19:57.164Z"
   },
   {
    "duration": 46,
    "start_time": "2022-10-23T04:22:10.443Z"
   },
   {
    "duration": 52,
    "start_time": "2022-10-23T04:26:18.934Z"
   },
   {
    "duration": 47,
    "start_time": "2022-10-23T04:26:52.684Z"
   },
   {
    "duration": 57,
    "start_time": "2022-10-23T04:27:37.805Z"
   }
  ],
  "kernelspec": {
   "display_name": "Python 3 (ipykernel)",
   "language": "python",
   "name": "python3"
  },
  "language_info": {
   "codemirror_mode": {
    "name": "ipython",
    "version": 3
   },
   "file_extension": ".py",
   "mimetype": "text/x-python",
   "name": "python",
   "nbconvert_exporter": "python",
   "pygments_lexer": "ipython3",
   "version": "3.9.7"
  },
  "toc": {
   "base_numbering": 1,
   "nav_menu": {},
   "number_sections": true,
   "sideBar": true,
   "skip_h1_title": true,
   "title_cell": "Table of Contents",
   "title_sidebar": "Contents",
   "toc_cell": false,
   "toc_position": {},
   "toc_section_display": true,
   "toc_window_display": false
  }
 },
 "nbformat": 4,
 "nbformat_minor": 5
}
