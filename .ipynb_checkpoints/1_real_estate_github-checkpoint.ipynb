{
 "cells": [
  {
   "cell_type": "markdown",
   "metadata": {},
   "source": [
    "# Исследование объявлений о продаже квартир\n",
    "\n",
    "В вашем распоряжении данные сервиса Яндекс.Недвижимость — архив объявлений о продаже квартир в Санкт-Петербурге и соседних населённых пунктах за несколько лет. Нужно научиться определять рыночную стоимость объектов недвижимости. Ваша задача — установить параметры. Это позволит построить автоматизированную систему: она отследит аномалии и мошенническую деятельность. \n",
    "\n",
    "По каждой квартире на продажу доступны два вида данных. Первые вписаны пользователем, вторые получены автоматически на основе картографических данных. Например, расстояние до центра, аэропорта, ближайшего парка и водоёма. "
   ]
  },
  {
   "cell_type": "markdown",
   "metadata": {},
   "source": [
    "## Изучение данных из файла"
   ]
  },
  {
   "cell_type": "code",
   "execution_count": 66,
   "metadata": {},
   "outputs": [],
   "source": [
    "# импорт библиотек\n",
    "\n",
    "import pandas as pd\n",
    "import matplotlib.pyplot as plt\n",
    "import numpy as np\n",
    "import seaborn as sns\n",
    "\n",
    "import os"
   ]
  },
  {
   "cell_type": "code",
   "execution_count": 67,
   "metadata": {},
   "outputs": [],
   "source": [
    "# загрузка данных\n",
    "\n",
    "if os.path.exists('/datasets/real_estate_data.csv'):\n",
    "    data = pd.read_csv('/datasets/real_estate_data.csv', sep='\\t')\n",
    "else:\n",
    "    data = pd.read_csv('/Users/olesya/datasets/real_estate_data.csv', sep='\\t')"
   ]
  },
  {
   "cell_type": "code",
   "execution_count": 68,
   "metadata": {},
   "outputs": [
    {
     "data": {
      "text/html": [
       "<div>\n",
       "<style scoped>\n",
       "    .dataframe tbody tr th:only-of-type {\n",
       "        vertical-align: middle;\n",
       "    }\n",
       "\n",
       "    .dataframe tbody tr th {\n",
       "        vertical-align: top;\n",
       "    }\n",
       "\n",
       "    .dataframe thead th {\n",
       "        text-align: right;\n",
       "    }\n",
       "</style>\n",
       "<table border=\"1\" class=\"dataframe\">\n",
       "  <thead>\n",
       "    <tr style=\"text-align: right;\">\n",
       "      <th></th>\n",
       "      <th>total_images</th>\n",
       "      <th>last_price</th>\n",
       "      <th>total_area</th>\n",
       "      <th>first_day_exposition</th>\n",
       "      <th>rooms</th>\n",
       "      <th>ceiling_height</th>\n",
       "      <th>floors_total</th>\n",
       "      <th>living_area</th>\n",
       "      <th>floor</th>\n",
       "      <th>is_apartment</th>\n",
       "      <th>...</th>\n",
       "      <th>kitchen_area</th>\n",
       "      <th>balcony</th>\n",
       "      <th>locality_name</th>\n",
       "      <th>airports_nearest</th>\n",
       "      <th>cityCenters_nearest</th>\n",
       "      <th>parks_around3000</th>\n",
       "      <th>parks_nearest</th>\n",
       "      <th>ponds_around3000</th>\n",
       "      <th>ponds_nearest</th>\n",
       "      <th>days_exposition</th>\n",
       "    </tr>\n",
       "  </thead>\n",
       "  <tbody>\n",
       "    <tr>\n",
       "      <td>0</td>\n",
       "      <td>20</td>\n",
       "      <td>13000000.0</td>\n",
       "      <td>108.00</td>\n",
       "      <td>2019-03-07T00:00:00</td>\n",
       "      <td>3</td>\n",
       "      <td>2.70</td>\n",
       "      <td>16.0</td>\n",
       "      <td>51.00</td>\n",
       "      <td>8</td>\n",
       "      <td>NaN</td>\n",
       "      <td>...</td>\n",
       "      <td>25.00</td>\n",
       "      <td>NaN</td>\n",
       "      <td>Санкт-Петербург</td>\n",
       "      <td>18863.0</td>\n",
       "      <td>16028.0</td>\n",
       "      <td>1.0</td>\n",
       "      <td>482.0</td>\n",
       "      <td>2.0</td>\n",
       "      <td>755.0</td>\n",
       "      <td>NaN</td>\n",
       "    </tr>\n",
       "    <tr>\n",
       "      <td>1</td>\n",
       "      <td>7</td>\n",
       "      <td>3350000.0</td>\n",
       "      <td>40.40</td>\n",
       "      <td>2018-12-04T00:00:00</td>\n",
       "      <td>1</td>\n",
       "      <td>NaN</td>\n",
       "      <td>11.0</td>\n",
       "      <td>18.60</td>\n",
       "      <td>1</td>\n",
       "      <td>NaN</td>\n",
       "      <td>...</td>\n",
       "      <td>11.00</td>\n",
       "      <td>2.0</td>\n",
       "      <td>посёлок Шушары</td>\n",
       "      <td>12817.0</td>\n",
       "      <td>18603.0</td>\n",
       "      <td>0.0</td>\n",
       "      <td>NaN</td>\n",
       "      <td>0.0</td>\n",
       "      <td>NaN</td>\n",
       "      <td>81.0</td>\n",
       "    </tr>\n",
       "    <tr>\n",
       "      <td>2</td>\n",
       "      <td>10</td>\n",
       "      <td>5196000.0</td>\n",
       "      <td>56.00</td>\n",
       "      <td>2015-08-20T00:00:00</td>\n",
       "      <td>2</td>\n",
       "      <td>NaN</td>\n",
       "      <td>5.0</td>\n",
       "      <td>34.30</td>\n",
       "      <td>4</td>\n",
       "      <td>NaN</td>\n",
       "      <td>...</td>\n",
       "      <td>8.30</td>\n",
       "      <td>0.0</td>\n",
       "      <td>Санкт-Петербург</td>\n",
       "      <td>21741.0</td>\n",
       "      <td>13933.0</td>\n",
       "      <td>1.0</td>\n",
       "      <td>90.0</td>\n",
       "      <td>2.0</td>\n",
       "      <td>574.0</td>\n",
       "      <td>558.0</td>\n",
       "    </tr>\n",
       "    <tr>\n",
       "      <td>3</td>\n",
       "      <td>0</td>\n",
       "      <td>64900000.0</td>\n",
       "      <td>159.00</td>\n",
       "      <td>2015-07-24T00:00:00</td>\n",
       "      <td>3</td>\n",
       "      <td>NaN</td>\n",
       "      <td>14.0</td>\n",
       "      <td>NaN</td>\n",
       "      <td>9</td>\n",
       "      <td>NaN</td>\n",
       "      <td>...</td>\n",
       "      <td>NaN</td>\n",
       "      <td>0.0</td>\n",
       "      <td>Санкт-Петербург</td>\n",
       "      <td>28098.0</td>\n",
       "      <td>6800.0</td>\n",
       "      <td>2.0</td>\n",
       "      <td>84.0</td>\n",
       "      <td>3.0</td>\n",
       "      <td>234.0</td>\n",
       "      <td>424.0</td>\n",
       "    </tr>\n",
       "    <tr>\n",
       "      <td>4</td>\n",
       "      <td>2</td>\n",
       "      <td>10000000.0</td>\n",
       "      <td>100.00</td>\n",
       "      <td>2018-06-19T00:00:00</td>\n",
       "      <td>2</td>\n",
       "      <td>3.03</td>\n",
       "      <td>14.0</td>\n",
       "      <td>32.00</td>\n",
       "      <td>13</td>\n",
       "      <td>NaN</td>\n",
       "      <td>...</td>\n",
       "      <td>41.00</td>\n",
       "      <td>NaN</td>\n",
       "      <td>Санкт-Петербург</td>\n",
       "      <td>31856.0</td>\n",
       "      <td>8098.0</td>\n",
       "      <td>2.0</td>\n",
       "      <td>112.0</td>\n",
       "      <td>1.0</td>\n",
       "      <td>48.0</td>\n",
       "      <td>121.0</td>\n",
       "    </tr>\n",
       "    <tr>\n",
       "      <td>5</td>\n",
       "      <td>10</td>\n",
       "      <td>2890000.0</td>\n",
       "      <td>30.40</td>\n",
       "      <td>2018-09-10T00:00:00</td>\n",
       "      <td>1</td>\n",
       "      <td>NaN</td>\n",
       "      <td>12.0</td>\n",
       "      <td>14.40</td>\n",
       "      <td>5</td>\n",
       "      <td>NaN</td>\n",
       "      <td>...</td>\n",
       "      <td>9.10</td>\n",
       "      <td>NaN</td>\n",
       "      <td>городской посёлок Янино-1</td>\n",
       "      <td>NaN</td>\n",
       "      <td>NaN</td>\n",
       "      <td>NaN</td>\n",
       "      <td>NaN</td>\n",
       "      <td>NaN</td>\n",
       "      <td>NaN</td>\n",
       "      <td>55.0</td>\n",
       "    </tr>\n",
       "    <tr>\n",
       "      <td>6</td>\n",
       "      <td>6</td>\n",
       "      <td>3700000.0</td>\n",
       "      <td>37.30</td>\n",
       "      <td>2017-11-02T00:00:00</td>\n",
       "      <td>1</td>\n",
       "      <td>NaN</td>\n",
       "      <td>26.0</td>\n",
       "      <td>10.60</td>\n",
       "      <td>6</td>\n",
       "      <td>NaN</td>\n",
       "      <td>...</td>\n",
       "      <td>14.40</td>\n",
       "      <td>1.0</td>\n",
       "      <td>посёлок Парголово</td>\n",
       "      <td>52996.0</td>\n",
       "      <td>19143.0</td>\n",
       "      <td>0.0</td>\n",
       "      <td>NaN</td>\n",
       "      <td>0.0</td>\n",
       "      <td>NaN</td>\n",
       "      <td>155.0</td>\n",
       "    </tr>\n",
       "    <tr>\n",
       "      <td>7</td>\n",
       "      <td>5</td>\n",
       "      <td>7915000.0</td>\n",
       "      <td>71.60</td>\n",
       "      <td>2019-04-18T00:00:00</td>\n",
       "      <td>2</td>\n",
       "      <td>NaN</td>\n",
       "      <td>24.0</td>\n",
       "      <td>NaN</td>\n",
       "      <td>22</td>\n",
       "      <td>NaN</td>\n",
       "      <td>...</td>\n",
       "      <td>18.90</td>\n",
       "      <td>2.0</td>\n",
       "      <td>Санкт-Петербург</td>\n",
       "      <td>23982.0</td>\n",
       "      <td>11634.0</td>\n",
       "      <td>0.0</td>\n",
       "      <td>NaN</td>\n",
       "      <td>0.0</td>\n",
       "      <td>NaN</td>\n",
       "      <td>NaN</td>\n",
       "    </tr>\n",
       "    <tr>\n",
       "      <td>8</td>\n",
       "      <td>20</td>\n",
       "      <td>2900000.0</td>\n",
       "      <td>33.16</td>\n",
       "      <td>2018-05-23T00:00:00</td>\n",
       "      <td>1</td>\n",
       "      <td>NaN</td>\n",
       "      <td>27.0</td>\n",
       "      <td>15.43</td>\n",
       "      <td>26</td>\n",
       "      <td>NaN</td>\n",
       "      <td>...</td>\n",
       "      <td>8.81</td>\n",
       "      <td>NaN</td>\n",
       "      <td>посёлок Мурино</td>\n",
       "      <td>NaN</td>\n",
       "      <td>NaN</td>\n",
       "      <td>NaN</td>\n",
       "      <td>NaN</td>\n",
       "      <td>NaN</td>\n",
       "      <td>NaN</td>\n",
       "      <td>189.0</td>\n",
       "    </tr>\n",
       "    <tr>\n",
       "      <td>9</td>\n",
       "      <td>18</td>\n",
       "      <td>5400000.0</td>\n",
       "      <td>61.00</td>\n",
       "      <td>2017-02-26T00:00:00</td>\n",
       "      <td>3</td>\n",
       "      <td>2.50</td>\n",
       "      <td>9.0</td>\n",
       "      <td>43.60</td>\n",
       "      <td>7</td>\n",
       "      <td>NaN</td>\n",
       "      <td>...</td>\n",
       "      <td>6.50</td>\n",
       "      <td>2.0</td>\n",
       "      <td>Санкт-Петербург</td>\n",
       "      <td>50898.0</td>\n",
       "      <td>15008.0</td>\n",
       "      <td>0.0</td>\n",
       "      <td>NaN</td>\n",
       "      <td>0.0</td>\n",
       "      <td>NaN</td>\n",
       "      <td>289.0</td>\n",
       "    </tr>\n",
       "  </tbody>\n",
       "</table>\n",
       "<p>10 rows × 22 columns</p>\n",
       "</div>"
      ],
      "text/plain": [
       "   total_images  last_price  total_area first_day_exposition  rooms  \\\n",
       "0            20  13000000.0      108.00  2019-03-07T00:00:00      3   \n",
       "1             7   3350000.0       40.40  2018-12-04T00:00:00      1   \n",
       "2            10   5196000.0       56.00  2015-08-20T00:00:00      2   \n",
       "3             0  64900000.0      159.00  2015-07-24T00:00:00      3   \n",
       "4             2  10000000.0      100.00  2018-06-19T00:00:00      2   \n",
       "5            10   2890000.0       30.40  2018-09-10T00:00:00      1   \n",
       "6             6   3700000.0       37.30  2017-11-02T00:00:00      1   \n",
       "7             5   7915000.0       71.60  2019-04-18T00:00:00      2   \n",
       "8            20   2900000.0       33.16  2018-05-23T00:00:00      1   \n",
       "9            18   5400000.0       61.00  2017-02-26T00:00:00      3   \n",
       "\n",
       "   ceiling_height  floors_total  living_area  floor is_apartment  ...  \\\n",
       "0            2.70          16.0        51.00      8          NaN  ...   \n",
       "1             NaN          11.0        18.60      1          NaN  ...   \n",
       "2             NaN           5.0        34.30      4          NaN  ...   \n",
       "3             NaN          14.0          NaN      9          NaN  ...   \n",
       "4            3.03          14.0        32.00     13          NaN  ...   \n",
       "5             NaN          12.0        14.40      5          NaN  ...   \n",
       "6             NaN          26.0        10.60      6          NaN  ...   \n",
       "7             NaN          24.0          NaN     22          NaN  ...   \n",
       "8             NaN          27.0        15.43     26          NaN  ...   \n",
       "9            2.50           9.0        43.60      7          NaN  ...   \n",
       "\n",
       "   kitchen_area  balcony              locality_name  airports_nearest  \\\n",
       "0         25.00      NaN            Санкт-Петербург           18863.0   \n",
       "1         11.00      2.0             посёлок Шушары           12817.0   \n",
       "2          8.30      0.0            Санкт-Петербург           21741.0   \n",
       "3           NaN      0.0            Санкт-Петербург           28098.0   \n",
       "4         41.00      NaN            Санкт-Петербург           31856.0   \n",
       "5          9.10      NaN  городской посёлок Янино-1               NaN   \n",
       "6         14.40      1.0          посёлок Парголово           52996.0   \n",
       "7         18.90      2.0            Санкт-Петербург           23982.0   \n",
       "8          8.81      NaN             посёлок Мурино               NaN   \n",
       "9          6.50      2.0            Санкт-Петербург           50898.0   \n",
       "\n",
       "  cityCenters_nearest  parks_around3000  parks_nearest  ponds_around3000  \\\n",
       "0             16028.0               1.0          482.0               2.0   \n",
       "1             18603.0               0.0            NaN               0.0   \n",
       "2             13933.0               1.0           90.0               2.0   \n",
       "3              6800.0               2.0           84.0               3.0   \n",
       "4              8098.0               2.0          112.0               1.0   \n",
       "5                 NaN               NaN            NaN               NaN   \n",
       "6             19143.0               0.0            NaN               0.0   \n",
       "7             11634.0               0.0            NaN               0.0   \n",
       "8                 NaN               NaN            NaN               NaN   \n",
       "9             15008.0               0.0            NaN               0.0   \n",
       "\n",
       "   ponds_nearest  days_exposition  \n",
       "0          755.0              NaN  \n",
       "1            NaN             81.0  \n",
       "2          574.0            558.0  \n",
       "3          234.0            424.0  \n",
       "4           48.0            121.0  \n",
       "5            NaN             55.0  \n",
       "6            NaN            155.0  \n",
       "7            NaN              NaN  \n",
       "8            NaN            189.0  \n",
       "9            NaN            289.0  \n",
       "\n",
       "[10 rows x 22 columns]"
      ]
     },
     "execution_count": 68,
     "metadata": {},
     "output_type": "execute_result"
    }
   ],
   "source": [
    "data.head(10)"
   ]
  },
  {
   "cell_type": "markdown",
   "metadata": {},
   "source": [
    "Из таблицы мы видим слишком много пропусков"
   ]
  },
  {
   "cell_type": "code",
   "execution_count": 69,
   "metadata": {},
   "outputs": [
    {
     "name": "stdout",
     "output_type": "stream",
     "text": [
      "<class 'pandas.core.frame.DataFrame'>\n",
      "RangeIndex: 23699 entries, 0 to 23698\n",
      "Data columns (total 22 columns):\n",
      "total_images            23699 non-null int64\n",
      "last_price              23699 non-null float64\n",
      "total_area              23699 non-null float64\n",
      "first_day_exposition    23699 non-null object\n",
      "rooms                   23699 non-null int64\n",
      "ceiling_height          14504 non-null float64\n",
      "floors_total            23613 non-null float64\n",
      "living_area             21796 non-null float64\n",
      "floor                   23699 non-null int64\n",
      "is_apartment            2775 non-null object\n",
      "studio                  23699 non-null bool\n",
      "open_plan               23699 non-null bool\n",
      "kitchen_area            21421 non-null float64\n",
      "balcony                 12180 non-null float64\n",
      "locality_name           23650 non-null object\n",
      "airports_nearest        18157 non-null float64\n",
      "cityCenters_nearest     18180 non-null float64\n",
      "parks_around3000        18181 non-null float64\n",
      "parks_nearest           8079 non-null float64\n",
      "ponds_around3000        18181 non-null float64\n",
      "ponds_nearest           9110 non-null float64\n",
      "days_exposition         20518 non-null float64\n",
      "dtypes: bool(2), float64(14), int64(3), object(3)\n",
      "memory usage: 3.7+ MB\n"
     ]
    }
   ],
   "source": [
    "data.info()"
   ]
  },
  {
   "cell_type": "code",
   "execution_count": 70,
   "metadata": {},
   "outputs": [
    {
     "data": {
      "text/html": [
       "<div>\n",
       "<style scoped>\n",
       "    .dataframe tbody tr th:only-of-type {\n",
       "        vertical-align: middle;\n",
       "    }\n",
       "\n",
       "    .dataframe tbody tr th {\n",
       "        vertical-align: top;\n",
       "    }\n",
       "\n",
       "    .dataframe thead th {\n",
       "        text-align: right;\n",
       "    }\n",
       "</style>\n",
       "<table border=\"1\" class=\"dataframe\">\n",
       "  <thead>\n",
       "    <tr style=\"text-align: right;\">\n",
       "      <th></th>\n",
       "      <th>total_images</th>\n",
       "      <th>last_price</th>\n",
       "      <th>total_area</th>\n",
       "      <th>rooms</th>\n",
       "      <th>ceiling_height</th>\n",
       "      <th>floors_total</th>\n",
       "      <th>living_area</th>\n",
       "      <th>floor</th>\n",
       "      <th>kitchen_area</th>\n",
       "      <th>balcony</th>\n",
       "      <th>airports_nearest</th>\n",
       "      <th>cityCenters_nearest</th>\n",
       "      <th>parks_around3000</th>\n",
       "      <th>parks_nearest</th>\n",
       "      <th>ponds_around3000</th>\n",
       "      <th>ponds_nearest</th>\n",
       "      <th>days_exposition</th>\n",
       "    </tr>\n",
       "  </thead>\n",
       "  <tbody>\n",
       "    <tr>\n",
       "      <td>count</td>\n",
       "      <td>23699.000000</td>\n",
       "      <td>2.369900e+04</td>\n",
       "      <td>23699.000000</td>\n",
       "      <td>23699.000000</td>\n",
       "      <td>14504.000000</td>\n",
       "      <td>23613.000000</td>\n",
       "      <td>21796.000000</td>\n",
       "      <td>23699.000000</td>\n",
       "      <td>21421.000000</td>\n",
       "      <td>12180.000000</td>\n",
       "      <td>18157.000000</td>\n",
       "      <td>18180.000000</td>\n",
       "      <td>18181.000000</td>\n",
       "      <td>8079.000000</td>\n",
       "      <td>18181.000000</td>\n",
       "      <td>9110.000000</td>\n",
       "      <td>20518.000000</td>\n",
       "    </tr>\n",
       "    <tr>\n",
       "      <td>mean</td>\n",
       "      <td>9.858475</td>\n",
       "      <td>6.541549e+06</td>\n",
       "      <td>60.348651</td>\n",
       "      <td>2.070636</td>\n",
       "      <td>2.771499</td>\n",
       "      <td>10.673824</td>\n",
       "      <td>34.457852</td>\n",
       "      <td>5.892358</td>\n",
       "      <td>10.569807</td>\n",
       "      <td>1.150082</td>\n",
       "      <td>28793.672193</td>\n",
       "      <td>14191.277833</td>\n",
       "      <td>0.611408</td>\n",
       "      <td>490.804555</td>\n",
       "      <td>0.770255</td>\n",
       "      <td>517.980900</td>\n",
       "      <td>180.888634</td>\n",
       "    </tr>\n",
       "    <tr>\n",
       "      <td>std</td>\n",
       "      <td>5.682529</td>\n",
       "      <td>1.088701e+07</td>\n",
       "      <td>35.654083</td>\n",
       "      <td>1.078405</td>\n",
       "      <td>1.261056</td>\n",
       "      <td>6.597173</td>\n",
       "      <td>22.030445</td>\n",
       "      <td>4.885249</td>\n",
       "      <td>5.905438</td>\n",
       "      <td>1.071300</td>\n",
       "      <td>12630.880622</td>\n",
       "      <td>8608.386210</td>\n",
       "      <td>0.802074</td>\n",
       "      <td>342.317995</td>\n",
       "      <td>0.938346</td>\n",
       "      <td>277.720643</td>\n",
       "      <td>219.727988</td>\n",
       "    </tr>\n",
       "    <tr>\n",
       "      <td>min</td>\n",
       "      <td>0.000000</td>\n",
       "      <td>1.219000e+04</td>\n",
       "      <td>12.000000</td>\n",
       "      <td>0.000000</td>\n",
       "      <td>1.000000</td>\n",
       "      <td>1.000000</td>\n",
       "      <td>2.000000</td>\n",
       "      <td>1.000000</td>\n",
       "      <td>1.300000</td>\n",
       "      <td>0.000000</td>\n",
       "      <td>0.000000</td>\n",
       "      <td>181.000000</td>\n",
       "      <td>0.000000</td>\n",
       "      <td>1.000000</td>\n",
       "      <td>0.000000</td>\n",
       "      <td>13.000000</td>\n",
       "      <td>1.000000</td>\n",
       "    </tr>\n",
       "    <tr>\n",
       "      <td>25%</td>\n",
       "      <td>6.000000</td>\n",
       "      <td>3.400000e+06</td>\n",
       "      <td>40.000000</td>\n",
       "      <td>1.000000</td>\n",
       "      <td>2.520000</td>\n",
       "      <td>5.000000</td>\n",
       "      <td>18.600000</td>\n",
       "      <td>2.000000</td>\n",
       "      <td>7.000000</td>\n",
       "      <td>0.000000</td>\n",
       "      <td>18585.000000</td>\n",
       "      <td>9238.000000</td>\n",
       "      <td>0.000000</td>\n",
       "      <td>288.000000</td>\n",
       "      <td>0.000000</td>\n",
       "      <td>294.000000</td>\n",
       "      <td>45.000000</td>\n",
       "    </tr>\n",
       "    <tr>\n",
       "      <td>50%</td>\n",
       "      <td>9.000000</td>\n",
       "      <td>4.650000e+06</td>\n",
       "      <td>52.000000</td>\n",
       "      <td>2.000000</td>\n",
       "      <td>2.650000</td>\n",
       "      <td>9.000000</td>\n",
       "      <td>30.000000</td>\n",
       "      <td>4.000000</td>\n",
       "      <td>9.100000</td>\n",
       "      <td>1.000000</td>\n",
       "      <td>26726.000000</td>\n",
       "      <td>13098.500000</td>\n",
       "      <td>0.000000</td>\n",
       "      <td>455.000000</td>\n",
       "      <td>1.000000</td>\n",
       "      <td>502.000000</td>\n",
       "      <td>95.000000</td>\n",
       "    </tr>\n",
       "    <tr>\n",
       "      <td>75%</td>\n",
       "      <td>14.000000</td>\n",
       "      <td>6.800000e+06</td>\n",
       "      <td>69.900000</td>\n",
       "      <td>3.000000</td>\n",
       "      <td>2.800000</td>\n",
       "      <td>16.000000</td>\n",
       "      <td>42.300000</td>\n",
       "      <td>8.000000</td>\n",
       "      <td>12.000000</td>\n",
       "      <td>2.000000</td>\n",
       "      <td>37273.000000</td>\n",
       "      <td>16293.000000</td>\n",
       "      <td>1.000000</td>\n",
       "      <td>612.000000</td>\n",
       "      <td>1.000000</td>\n",
       "      <td>729.000000</td>\n",
       "      <td>232.000000</td>\n",
       "    </tr>\n",
       "    <tr>\n",
       "      <td>max</td>\n",
       "      <td>50.000000</td>\n",
       "      <td>7.630000e+08</td>\n",
       "      <td>900.000000</td>\n",
       "      <td>19.000000</td>\n",
       "      <td>100.000000</td>\n",
       "      <td>60.000000</td>\n",
       "      <td>409.700000</td>\n",
       "      <td>33.000000</td>\n",
       "      <td>112.000000</td>\n",
       "      <td>5.000000</td>\n",
       "      <td>84869.000000</td>\n",
       "      <td>65968.000000</td>\n",
       "      <td>3.000000</td>\n",
       "      <td>3190.000000</td>\n",
       "      <td>3.000000</td>\n",
       "      <td>1344.000000</td>\n",
       "      <td>1580.000000</td>\n",
       "    </tr>\n",
       "  </tbody>\n",
       "</table>\n",
       "</div>"
      ],
      "text/plain": [
       "       total_images    last_price    total_area         rooms  ceiling_height  \\\n",
       "count  23699.000000  2.369900e+04  23699.000000  23699.000000    14504.000000   \n",
       "mean       9.858475  6.541549e+06     60.348651      2.070636        2.771499   \n",
       "std        5.682529  1.088701e+07     35.654083      1.078405        1.261056   \n",
       "min        0.000000  1.219000e+04     12.000000      0.000000        1.000000   \n",
       "25%        6.000000  3.400000e+06     40.000000      1.000000        2.520000   \n",
       "50%        9.000000  4.650000e+06     52.000000      2.000000        2.650000   \n",
       "75%       14.000000  6.800000e+06     69.900000      3.000000        2.800000   \n",
       "max       50.000000  7.630000e+08    900.000000     19.000000      100.000000   \n",
       "\n",
       "       floors_total   living_area         floor  kitchen_area       balcony  \\\n",
       "count  23613.000000  21796.000000  23699.000000  21421.000000  12180.000000   \n",
       "mean      10.673824     34.457852      5.892358     10.569807      1.150082   \n",
       "std        6.597173     22.030445      4.885249      5.905438      1.071300   \n",
       "min        1.000000      2.000000      1.000000      1.300000      0.000000   \n",
       "25%        5.000000     18.600000      2.000000      7.000000      0.000000   \n",
       "50%        9.000000     30.000000      4.000000      9.100000      1.000000   \n",
       "75%       16.000000     42.300000      8.000000     12.000000      2.000000   \n",
       "max       60.000000    409.700000     33.000000    112.000000      5.000000   \n",
       "\n",
       "       airports_nearest  cityCenters_nearest  parks_around3000  parks_nearest  \\\n",
       "count      18157.000000         18180.000000      18181.000000    8079.000000   \n",
       "mean       28793.672193         14191.277833          0.611408     490.804555   \n",
       "std        12630.880622          8608.386210          0.802074     342.317995   \n",
       "min            0.000000           181.000000          0.000000       1.000000   \n",
       "25%        18585.000000          9238.000000          0.000000     288.000000   \n",
       "50%        26726.000000         13098.500000          0.000000     455.000000   \n",
       "75%        37273.000000         16293.000000          1.000000     612.000000   \n",
       "max        84869.000000         65968.000000          3.000000    3190.000000   \n",
       "\n",
       "       ponds_around3000  ponds_nearest  days_exposition  \n",
       "count      18181.000000    9110.000000     20518.000000  \n",
       "mean           0.770255     517.980900       180.888634  \n",
       "std            0.938346     277.720643       219.727988  \n",
       "min            0.000000      13.000000         1.000000  \n",
       "25%            0.000000     294.000000        45.000000  \n",
       "50%            1.000000     502.000000        95.000000  \n",
       "75%            1.000000     729.000000       232.000000  \n",
       "max            3.000000    1344.000000      1580.000000  "
      ]
     },
     "execution_count": 70,
     "metadata": {},
     "output_type": "execute_result"
    }
   ],
   "source": [
    "data.describe()"
   ]
  },
  {
   "cell_type": "markdown",
   "metadata": {},
   "source": [
    "### Вывод"
   ]
  },
  {
   "cell_type": "markdown",
   "metadata": {},
   "source": [
    "В таблице представлены данные с объявлениями о продажах квартир. В таблице 22 колонки и 23699 строк. \n",
    "\n",
    "На первый взгляд данные вполне реалистичны, но в строках много пропусков (значения NaN). Также присутствуют некоторые аномалии в виде квартиры с 19 комнатами и потолками в 100 метров, что сильно бросается в глаза. Будем разбираться и делать соответствующие преобразования."
   ]
  },
  {
   "cell_type": "markdown",
   "metadata": {},
   "source": [
    "## Предобработка данных"
   ]
  },
  {
   "cell_type": "markdown",
   "metadata": {},
   "source": [
    "Сначала посмотрим в каких столбцах пропуски и какое количество."
   ]
  },
  {
   "cell_type": "code",
   "execution_count": 71,
   "metadata": {},
   "outputs": [
    {
     "data": {
      "text/plain": [
       "total_images                0\n",
       "last_price                  0\n",
       "total_area                  0\n",
       "first_day_exposition        0\n",
       "rooms                       0\n",
       "ceiling_height           9195\n",
       "floors_total               86\n",
       "living_area              1903\n",
       "floor                       0\n",
       "is_apartment            20924\n",
       "studio                      0\n",
       "open_plan                   0\n",
       "kitchen_area             2278\n",
       "balcony                 11519\n",
       "locality_name              49\n",
       "airports_nearest         5542\n",
       "cityCenters_nearest      5519\n",
       "parks_around3000         5518\n",
       "parks_nearest           15620\n",
       "ponds_around3000         5518\n",
       "ponds_nearest           14589\n",
       "days_exposition          3181\n",
       "dtype: int64"
      ]
     },
     "execution_count": 71,
     "metadata": {},
     "output_type": "execute_result"
    }
   ],
   "source": [
    "data.isna().sum() # подсчёт пропусков по столбцам"
   ]
  },
  {
   "cell_type": "markdown",
   "metadata": {},
   "source": [
    "Пропусков действительно много, займёмся их обработкой.\n",
    "\n",
    "В столбце <b>is_apartment</b> практически все записи не заполнены, и так как эти данные мы не будем использовать в процессе работы над проектом, обоснованно исключим этот столбец из таблицы. Также можно исключить столбцы <b>total_images, studio</b>,  <b>open_plan</b> и <b>airports_nearest</b> - в дальнейшей работе они нам не понадобятся."
   ]
  },
  {
   "cell_type": "code",
   "execution_count": 72,
   "metadata": {},
   "outputs": [],
   "source": [
    "data.drop(['is_apartment'], axis='columns', inplace=True)\n",
    "data.drop(['total_images'], axis='columns', inplace=True)"
   ]
  },
  {
   "cell_type": "code",
   "execution_count": 73,
   "metadata": {},
   "outputs": [],
   "source": [
    "\n",
    "data.drop(['studio'], axis='columns', inplace=True)\n",
    "data.drop(['open_plan'], axis='columns', inplace=True)\n",
    "data.drop(['airports_nearest'], axis='columns', inplace=True)"
   ]
  },
  {
   "cell_type": "markdown",
   "metadata": {},
   "source": [
    "<b>balcony</b> - можем предположить, что там где значение NaN, должно быть 0. Продавцы недвижимости могли пропускать этот параметр, раз балкон отсутствует. Заполним в этом столбце пропуски на 0 и сразу заменим тип данных на целое число, потому что дробного значения здесь быть не может."
   ]
  },
  {
   "cell_type": "code",
   "execution_count": 74,
   "metadata": {},
   "outputs": [
    {
     "name": "stdout",
     "output_type": "stream",
     "text": [
      "Количество пропусков в столбце \"balcony\" -  0\n"
     ]
    }
   ],
   "source": [
    "data['balcony'] = data['balcony'].fillna(0).astype(int)  #замена пустых значений на 0\n",
    "print('Количество пропусков в столбце \"balcony\" - ', data['balcony'].isna().sum())  #проверка замены\n"
   ]
  },
  {
   "cell_type": "markdown",
   "metadata": {},
   "source": [
    "<b>parks_around3000</b> и <b>ponds_around3000</b> - также можно предположить, что данные просто не указывали, потому что в радиусе 3 км нет ни парков, ни водоёмов. Поэтому смело заменяем пустые значения на 0. Также меняем тип данных на целое число, потому что дробного значения здесь быть тоже не может."
   ]
  },
  {
   "cell_type": "code",
   "execution_count": 75,
   "metadata": {},
   "outputs": [
    {
     "name": "stdout",
     "output_type": "stream",
     "text": [
      "Количество пропусков в столбце \"parks_around3000\" -  0\n",
      "Количество пропусков в столбце \"ponds_around3000\" -  0\n"
     ]
    }
   ],
   "source": [
    "data['parks_around3000'] = data['parks_around3000'].fillna(0).astype(int)  #замена пустых значений на 0\n",
    "data['ponds_around3000'] = data['ponds_around3000'].fillna(0).astype(int)  #замена пустых значений на 0\n",
    "\n",
    "print('Количество пропусков в столбце \"parks_around3000\" - ', data['parks_around3000'].isna().sum())  #проверка замены\n",
    "print('Количество пропусков в столбце \"ponds_around3000\" - ', data['ponds_around3000'].isna().sum())  #проверка замены"
   ]
  },
  {
   "cell_type": "markdown",
   "metadata": {},
   "source": [
    "<b>parks_nearest</b> и <b>ponds_nearest</b> - Продолжая тему парков и водоёмов, можно предположить, что данные просто не были выгружены системой или сами продавцы не указывали расстояние, потому что водоёмы явно дальше радиуса 3 км и посчитали это ненужной информацией. Ведь по сути, информация о парке интересна только в радиусе пешей доступности, далее она уже не имеет большого значения. Заменим пока данные на нетипичные значения, например -1 и будем учитывать это в дальнейших расчётах."
   ]
  },
  {
   "cell_type": "code",
   "execution_count": 76,
   "metadata": {},
   "outputs": [
    {
     "name": "stdout",
     "output_type": "stream",
     "text": [
      "Количество пропусков в столбце \"parks_nearest\" -  0\n",
      "Количество пропусков в столбце \"ponds_nearest\" -  0\n"
     ]
    }
   ],
   "source": [
    "#замена пустых значений на нетипичные для дальнейших расчётов\n",
    "data['parks_nearest'] = data['parks_nearest'].fillna(-1)\n",
    "data['ponds_nearest'] = data['ponds_nearest'].fillna(-1)\n",
    "print('Количество пропусков в столбце \"parks_nearest\" - ', data['parks_nearest'].isna().sum())  #проверка замены\n",
    "print('Количество пропусков в столбце \"ponds_nearest\" - ', data['ponds_nearest'].isna().sum())  #проверка замены\n"
   ]
  },
  {
   "cell_type": "markdown",
   "metadata": {},
   "source": [
    "В столбце <b>locality_name</b> всего 49 пропусков. Можно предположить, что данные не указывали продавцы, у которых квартиры в Санкт-Петербурге. Просто находясь в разделе сайта Санкт-Петербург они не подумали, что сюда же могут относиться и квартиры из области. Поэтому если расстояние до центра заполнено и составляет не более 15 км от центра, присвоим имя населенного пункта \"Санкт-Петербург\"."
   ]
  },
  {
   "cell_type": "code",
   "execution_count": 77,
   "metadata": {},
   "outputs": [
    {
     "data": {
      "text/html": [
       "<div>\n",
       "<style scoped>\n",
       "    .dataframe tbody tr th:only-of-type {\n",
       "        vertical-align: middle;\n",
       "    }\n",
       "\n",
       "    .dataframe tbody tr th {\n",
       "        vertical-align: top;\n",
       "    }\n",
       "\n",
       "    .dataframe thead th {\n",
       "        text-align: right;\n",
       "    }\n",
       "</style>\n",
       "<table border=\"1\" class=\"dataframe\">\n",
       "  <thead>\n",
       "    <tr style=\"text-align: right;\">\n",
       "      <th></th>\n",
       "      <th>last_price</th>\n",
       "      <th>total_area</th>\n",
       "      <th>first_day_exposition</th>\n",
       "      <th>rooms</th>\n",
       "      <th>ceiling_height</th>\n",
       "      <th>floors_total</th>\n",
       "      <th>living_area</th>\n",
       "      <th>floor</th>\n",
       "      <th>kitchen_area</th>\n",
       "      <th>balcony</th>\n",
       "      <th>locality_name</th>\n",
       "      <th>cityCenters_nearest</th>\n",
       "      <th>parks_around3000</th>\n",
       "      <th>parks_nearest</th>\n",
       "      <th>ponds_around3000</th>\n",
       "      <th>ponds_nearest</th>\n",
       "      <th>days_exposition</th>\n",
       "    </tr>\n",
       "  </thead>\n",
       "  <tbody>\n",
       "    <tr>\n",
       "      <td>1097</td>\n",
       "      <td>8600000.0</td>\n",
       "      <td>81.7</td>\n",
       "      <td>2016-04-15T00:00:00</td>\n",
       "      <td>3</td>\n",
       "      <td>3.55</td>\n",
       "      <td>5.0</td>\n",
       "      <td>50.80</td>\n",
       "      <td>2</td>\n",
       "      <td>8.80</td>\n",
       "      <td>0</td>\n",
       "      <td>NaN</td>\n",
       "      <td>4258.0</td>\n",
       "      <td>0</td>\n",
       "      <td>-1.0</td>\n",
       "      <td>0</td>\n",
       "      <td>-1.0</td>\n",
       "      <td>147.0</td>\n",
       "    </tr>\n",
       "    <tr>\n",
       "      <td>2603</td>\n",
       "      <td>3351765.0</td>\n",
       "      <td>42.7</td>\n",
       "      <td>2015-09-20T00:00:00</td>\n",
       "      <td>1</td>\n",
       "      <td>NaN</td>\n",
       "      <td>24.0</td>\n",
       "      <td>15.60</td>\n",
       "      <td>3</td>\n",
       "      <td>10.70</td>\n",
       "      <td>0</td>\n",
       "      <td>NaN</td>\n",
       "      <td>17369.0</td>\n",
       "      <td>0</td>\n",
       "      <td>-1.0</td>\n",
       "      <td>1</td>\n",
       "      <td>374.0</td>\n",
       "      <td>276.0</td>\n",
       "    </tr>\n",
       "    <tr>\n",
       "      <td>2632</td>\n",
       "      <td>5130593.0</td>\n",
       "      <td>62.4</td>\n",
       "      <td>2015-10-11T00:00:00</td>\n",
       "      <td>2</td>\n",
       "      <td>NaN</td>\n",
       "      <td>24.0</td>\n",
       "      <td>33.10</td>\n",
       "      <td>21</td>\n",
       "      <td>8.20</td>\n",
       "      <td>0</td>\n",
       "      <td>NaN</td>\n",
       "      <td>17369.0</td>\n",
       "      <td>0</td>\n",
       "      <td>-1.0</td>\n",
       "      <td>1</td>\n",
       "      <td>374.0</td>\n",
       "      <td>256.0</td>\n",
       "    </tr>\n",
       "    <tr>\n",
       "      <td>3574</td>\n",
       "      <td>4200000.0</td>\n",
       "      <td>46.5</td>\n",
       "      <td>2016-05-28T00:00:00</td>\n",
       "      <td>2</td>\n",
       "      <td>NaN</td>\n",
       "      <td>5.0</td>\n",
       "      <td>30.80</td>\n",
       "      <td>5</td>\n",
       "      <td>6.50</td>\n",
       "      <td>0</td>\n",
       "      <td>NaN</td>\n",
       "      <td>8127.0</td>\n",
       "      <td>0</td>\n",
       "      <td>-1.0</td>\n",
       "      <td>1</td>\n",
       "      <td>603.0</td>\n",
       "      <td>45.0</td>\n",
       "    </tr>\n",
       "    <tr>\n",
       "      <td>4151</td>\n",
       "      <td>17600000.0</td>\n",
       "      <td>89.5</td>\n",
       "      <td>2014-12-09T00:00:00</td>\n",
       "      <td>2</td>\n",
       "      <td>3.00</td>\n",
       "      <td>8.0</td>\n",
       "      <td>39.62</td>\n",
       "      <td>7</td>\n",
       "      <td>13.38</td>\n",
       "      <td>0</td>\n",
       "      <td>NaN</td>\n",
       "      <td>3902.0</td>\n",
       "      <td>1</td>\n",
       "      <td>485.0</td>\n",
       "      <td>3</td>\n",
       "      <td>722.0</td>\n",
       "      <td>869.0</td>\n",
       "    </tr>\n",
       "    <tr>\n",
       "      <td>4189</td>\n",
       "      <td>9200000.0</td>\n",
       "      <td>80.0</td>\n",
       "      <td>2015-12-10T00:00:00</td>\n",
       "      <td>3</td>\n",
       "      <td>4.00</td>\n",
       "      <td>4.0</td>\n",
       "      <td>52.30</td>\n",
       "      <td>3</td>\n",
       "      <td>10.40</td>\n",
       "      <td>0</td>\n",
       "      <td>NaN</td>\n",
       "      <td>3039.0</td>\n",
       "      <td>1</td>\n",
       "      <td>690.0</td>\n",
       "      <td>1</td>\n",
       "      <td>953.0</td>\n",
       "      <td>223.0</td>\n",
       "    </tr>\n",
       "    <tr>\n",
       "      <td>4670</td>\n",
       "      <td>5500000.0</td>\n",
       "      <td>83.0</td>\n",
       "      <td>2015-08-14T00:00:00</td>\n",
       "      <td>3</td>\n",
       "      <td>NaN</td>\n",
       "      <td>7.0</td>\n",
       "      <td>NaN</td>\n",
       "      <td>6</td>\n",
       "      <td>NaN</td>\n",
       "      <td>0</td>\n",
       "      <td>NaN</td>\n",
       "      <td>5382.0</td>\n",
       "      <td>1</td>\n",
       "      <td>446.0</td>\n",
       "      <td>1</td>\n",
       "      <td>376.0</td>\n",
       "      <td>350.0</td>\n",
       "    </tr>\n",
       "    <tr>\n",
       "      <td>5343</td>\n",
       "      <td>13540000.0</td>\n",
       "      <td>85.5</td>\n",
       "      <td>2016-01-20T00:00:00</td>\n",
       "      <td>3</td>\n",
       "      <td>NaN</td>\n",
       "      <td>7.0</td>\n",
       "      <td>59.10</td>\n",
       "      <td>5</td>\n",
       "      <td>8.30</td>\n",
       "      <td>4</td>\n",
       "      <td>NaN</td>\n",
       "      <td>9538.0</td>\n",
       "      <td>1</td>\n",
       "      <td>67.0</td>\n",
       "      <td>0</td>\n",
       "      <td>-1.0</td>\n",
       "      <td>303.0</td>\n",
       "    </tr>\n",
       "    <tr>\n",
       "      <td>5707</td>\n",
       "      <td>3700000.0</td>\n",
       "      <td>30.0</td>\n",
       "      <td>2016-04-29T00:00:00</td>\n",
       "      <td>1</td>\n",
       "      <td>NaN</td>\n",
       "      <td>24.0</td>\n",
       "      <td>20.00</td>\n",
       "      <td>23</td>\n",
       "      <td>NaN</td>\n",
       "      <td>0</td>\n",
       "      <td>NaN</td>\n",
       "      <td>16788.0</td>\n",
       "      <td>0</td>\n",
       "      <td>-1.0</td>\n",
       "      <td>1</td>\n",
       "      <td>170.0</td>\n",
       "      <td>49.0</td>\n",
       "    </tr>\n",
       "    <tr>\n",
       "      <td>6765</td>\n",
       "      <td>4895892.0</td>\n",
       "      <td>60.7</td>\n",
       "      <td>2015-03-12T00:00:00</td>\n",
       "      <td>2</td>\n",
       "      <td>NaN</td>\n",
       "      <td>24.0</td>\n",
       "      <td>31.90</td>\n",
       "      <td>3</td>\n",
       "      <td>12.20</td>\n",
       "      <td>0</td>\n",
       "      <td>NaN</td>\n",
       "      <td>17369.0</td>\n",
       "      <td>0</td>\n",
       "      <td>-1.0</td>\n",
       "      <td>1</td>\n",
       "      <td>374.0</td>\n",
       "      <td>468.0</td>\n",
       "    </tr>\n",
       "  </tbody>\n",
       "</table>\n",
       "</div>"
      ],
      "text/plain": [
       "      last_price  total_area first_day_exposition  rooms  ceiling_height  \\\n",
       "1097   8600000.0        81.7  2016-04-15T00:00:00      3            3.55   \n",
       "2603   3351765.0        42.7  2015-09-20T00:00:00      1             NaN   \n",
       "2632   5130593.0        62.4  2015-10-11T00:00:00      2             NaN   \n",
       "3574   4200000.0        46.5  2016-05-28T00:00:00      2             NaN   \n",
       "4151  17600000.0        89.5  2014-12-09T00:00:00      2            3.00   \n",
       "4189   9200000.0        80.0  2015-12-10T00:00:00      3            4.00   \n",
       "4670   5500000.0        83.0  2015-08-14T00:00:00      3             NaN   \n",
       "5343  13540000.0        85.5  2016-01-20T00:00:00      3             NaN   \n",
       "5707   3700000.0        30.0  2016-04-29T00:00:00      1             NaN   \n",
       "6765   4895892.0        60.7  2015-03-12T00:00:00      2             NaN   \n",
       "\n",
       "      floors_total  living_area  floor  kitchen_area  balcony locality_name  \\\n",
       "1097           5.0        50.80      2          8.80        0           NaN   \n",
       "2603          24.0        15.60      3         10.70        0           NaN   \n",
       "2632          24.0        33.10     21          8.20        0           NaN   \n",
       "3574           5.0        30.80      5          6.50        0           NaN   \n",
       "4151           8.0        39.62      7         13.38        0           NaN   \n",
       "4189           4.0        52.30      3         10.40        0           NaN   \n",
       "4670           7.0          NaN      6           NaN        0           NaN   \n",
       "5343           7.0        59.10      5          8.30        4           NaN   \n",
       "5707          24.0        20.00     23           NaN        0           NaN   \n",
       "6765          24.0        31.90      3         12.20        0           NaN   \n",
       "\n",
       "      cityCenters_nearest  parks_around3000  parks_nearest  ponds_around3000  \\\n",
       "1097               4258.0                 0           -1.0                 0   \n",
       "2603              17369.0                 0           -1.0                 1   \n",
       "2632              17369.0                 0           -1.0                 1   \n",
       "3574               8127.0                 0           -1.0                 1   \n",
       "4151               3902.0                 1          485.0                 3   \n",
       "4189               3039.0                 1          690.0                 1   \n",
       "4670               5382.0                 1          446.0                 1   \n",
       "5343               9538.0                 1           67.0                 0   \n",
       "5707              16788.0                 0           -1.0                 1   \n",
       "6765              17369.0                 0           -1.0                 1   \n",
       "\n",
       "      ponds_nearest  days_exposition  \n",
       "1097           -1.0            147.0  \n",
       "2603          374.0            276.0  \n",
       "2632          374.0            256.0  \n",
       "3574          603.0             45.0  \n",
       "4151          722.0            869.0  \n",
       "4189          953.0            223.0  \n",
       "4670          376.0            350.0  \n",
       "5343           -1.0            303.0  \n",
       "5707          170.0             49.0  \n",
       "6765          374.0            468.0  "
      ]
     },
     "execution_count": 77,
     "metadata": {},
     "output_type": "execute_result"
    }
   ],
   "source": [
    "#сводная таблица объявлений, где поля 'cityCenters_nearest' заполнены, а 'locality_name' не заполнены\n",
    "data[(data['cityCenters_nearest'].isna() != True) & (data['locality_name'].isna())].head(10)\n"
   ]
  },
  {
   "cell_type": "code",
   "execution_count": 78,
   "metadata": {},
   "outputs": [
    {
     "data": {
      "text/plain": [
       "21"
      ]
     },
     "execution_count": 78,
     "metadata": {},
     "output_type": "execute_result"
    }
   ],
   "source": [
    "data.loc[(data['locality_name'].isna()) & (data['cityCenters_nearest'] < 15000), 'locality_name'] = data.loc[(data['locality_name'].isna()) & (data['cityCenters_nearest'] < 15000), 'locality_name'].fillna('Санкт-Петербург')\n",
    "\n",
    "data['locality_name'].isna().sum()\n"
   ]
  },
  {
   "cell_type": "markdown",
   "metadata": {},
   "source": [
    "После оработки осталось всего 21 пропуска. Далее для заполнения столбца нам необходимы дополнительная информация по адресу или почтовому индексу, которой нет. Отсутствие данных может помешать в расчётах, поэтому просто удалим эти строки с пустыми значениями. Также не хватает данных по этажности домов, т.к. этих строк не так уж и много, также можем их удалить."
   ]
  },
  {
   "cell_type": "code",
   "execution_count": 79,
   "metadata": {},
   "outputs": [
    {
     "name": "stdout",
     "output_type": "stream",
     "text": [
      "Количество пропусков в столбце \"locality_name\" -  0\n",
      "Количество пропусков в столбце \"floors_total\" -  0\n"
     ]
    }
   ],
   "source": [
    "# удаление пустых значений в столбцах 'locality_name' и 'floors_total' с изменением исходной таблицы\n",
    "data.dropna(subset = ['locality_name'], inplace = True)\n",
    "data.dropna(subset = ['floors_total'], inplace = True)\n",
    "\n",
    "print('Количество пропусков в столбце \"locality_name\" - ', data['locality_name'].isna().sum())  #проверка замены\n",
    "print('Количество пропусков в столбце \"floors_total\" - ', data['floors_total'].isna().sum())  #проверка замены"
   ]
  },
  {
   "cell_type": "markdown",
   "metadata": {},
   "source": [
    "<b>ceiling_height</b> - довольно важная информация, но она отсуствует. Возможно, что некоторые не заполняли это поле, считая его необязательным или просто поленились узнать высоту своих потолков, иначе бы данные присутствовали. Сгруппируем таблицу по этажности домов в конкретном населенном пункте и заполним значение медианной, соответствующей группы."
   ]
  },
  {
   "cell_type": "code",
   "execution_count": 80,
   "metadata": {},
   "outputs": [
    {
     "name": "stdout",
     "output_type": "stream",
     "text": [
      "Количество пропусков в столбце \"ceiling_height\" -  392\n"
     ]
    }
   ],
   "source": [
    "data['ceiling_height'] = data['ceiling_height'].fillna(data.groupby(['locality_name', 'floors_total'])['ceiling_height'].transform('median'))\n",
    "print('Количество пропусков в столбце \"ceiling_height\" - ', data['ceiling_height'].isna().sum())  #проверка замены\n"
   ]
  },
  {
   "cell_type": "markdown",
   "metadata": {},
   "source": [
    "После отработки метода всё же ещё осталось 392 пропуска. Заменим их медианой по этажности дома."
   ]
  },
  {
   "cell_type": "code",
   "execution_count": 81,
   "metadata": {},
   "outputs": [
    {
     "name": "stdout",
     "output_type": "stream",
     "text": [
      "Количество пропусков в столбце \"ceiling_height\" -  1\n"
     ]
    }
   ],
   "source": [
    "data['ceiling_height'] = data['ceiling_height'].fillna(data.groupby(['floors_total'])['ceiling_height'].transform('median'))\n",
    "print('Количество пропусков в столбце \"ceiling_height\" - ', data['ceiling_height'].isna().sum())  #проверка замены\n",
    "\n"
   ]
  },
  {
   "cell_type": "code",
   "execution_count": 82,
   "metadata": {},
   "outputs": [
    {
     "name": "stdout",
     "output_type": "stream",
     "text": [
      "Количество пропусков в столбце \"ceiling_height\" -  0\n"
     ]
    }
   ],
   "source": [
    "# удаление пустых значений в столбцах 'ceiling_height' с изменением исходной таблицы\n",
    "data.dropna(subset = ['ceiling_height'], inplace = True)\n",
    "print('Количество пропусков в столбце \"ceiling_height\" - ', data['ceiling_height'].isna().sum())  #проверка замены\n"
   ]
  },
  {
   "cell_type": "markdown",
   "metadata": {},
   "source": [
    "<b>living_area</b> и <b>kitchen_area</b> - Возможно данные не были заполнены по тем же причинам: поля не обязательны к заполнению или лень высчитывать жилую площадь и площадь кухни в квартирах студиях, где нет явного деления на кухню и гостинную зоны. \n",
    "\n",
    "Заменим на среднее значение отношение жилой площади к общей для столбца living_area и аналогично, среднее значение отношения площади кухни к общей для столбца kitchen_area."
   ]
  },
  {
   "cell_type": "code",
   "execution_count": 83,
   "metadata": {},
   "outputs": [
    {
     "name": "stdout",
     "output_type": "stream",
     "text": [
      "Количество пропусков в столбце \"living_area\" -  0\n"
     ]
    }
   ],
   "source": [
    "# коэф отношения жилой площади к общей\n",
    "mean_living_total_area = (data['living_area'] / data['total_area']).mean()\n",
    "\n",
    "data['living_area'] = data['living_area'].fillna(round((data['total_area'] * mean_living_total_area), 1))\n",
    "print('Количество пропусков в столбце \"living_area\" - ', data['living_area'].isna().sum())  #проверка замены\n",
    "                           "
   ]
  },
  {
   "cell_type": "code",
   "execution_count": 84,
   "metadata": {},
   "outputs": [
    {
     "name": "stdout",
     "output_type": "stream",
     "text": [
      "Количество пропусков в столбце \"kitchen_area\" -  0\n"
     ]
    }
   ],
   "source": [
    "# среднее значение коэффициента отношения кухни площади к общей\n",
    "mean_kitchen_total_area = (data['kitchen_area'] / data['total_area']).mean()\n",
    "\n",
    "data['kitchen_area'] = data['kitchen_area'].fillna(round((data['total_area'] * mean_kitchen_total_area), 1))\n",
    "print('Количество пропусков в столбце \"kitchen_area\" - ', data['kitchen_area'].isna().sum())  #проверка замены\n"
   ]
  },
  {
   "cell_type": "markdown",
   "metadata": {},
   "source": [
    "Сделаем проверку по сумме площадь кухни + площадь жилая. Если сумма площадей больше общей площади, то заменим значение площади кухни на ноль."
   ]
  },
  {
   "cell_type": "code",
   "execution_count": 85,
   "metadata": {
    "scrolled": false
   },
   "outputs": [
    {
     "data": {
      "text/html": [
       "<div>\n",
       "<style scoped>\n",
       "    .dataframe tbody tr th:only-of-type {\n",
       "        vertical-align: middle;\n",
       "    }\n",
       "\n",
       "    .dataframe tbody tr th {\n",
       "        vertical-align: top;\n",
       "    }\n",
       "\n",
       "    .dataframe thead th {\n",
       "        text-align: right;\n",
       "    }\n",
       "</style>\n",
       "<table border=\"1\" class=\"dataframe\">\n",
       "  <thead>\n",
       "    <tr style=\"text-align: right;\">\n",
       "      <th></th>\n",
       "      <th>last_price</th>\n",
       "      <th>total_area</th>\n",
       "      <th>first_day_exposition</th>\n",
       "      <th>rooms</th>\n",
       "      <th>ceiling_height</th>\n",
       "      <th>floors_total</th>\n",
       "      <th>living_area</th>\n",
       "      <th>floor</th>\n",
       "      <th>kitchen_area</th>\n",
       "      <th>balcony</th>\n",
       "      <th>locality_name</th>\n",
       "      <th>cityCenters_nearest</th>\n",
       "      <th>parks_around3000</th>\n",
       "      <th>parks_nearest</th>\n",
       "      <th>ponds_around3000</th>\n",
       "      <th>ponds_nearest</th>\n",
       "      <th>days_exposition</th>\n",
       "    </tr>\n",
       "  </thead>\n",
       "  <tbody>\n",
       "    <tr>\n",
       "      <td>184</td>\n",
       "      <td>2600000.0</td>\n",
       "      <td>30.20</td>\n",
       "      <td>2018-02-14T00:00:00</td>\n",
       "      <td>1</td>\n",
       "      <td>2.65</td>\n",
       "      <td>9.0</td>\n",
       "      <td>26.10</td>\n",
       "      <td>5</td>\n",
       "      <td>6.20</td>\n",
       "      <td>0</td>\n",
       "      <td>Санкт-Петербург</td>\n",
       "      <td>15031.0</td>\n",
       "      <td>0</td>\n",
       "      <td>-1.0</td>\n",
       "      <td>1</td>\n",
       "      <td>824.0</td>\n",
       "      <td>12.0</td>\n",
       "    </tr>\n",
       "    <tr>\n",
       "      <td>424</td>\n",
       "      <td>11500000.0</td>\n",
       "      <td>98.00</td>\n",
       "      <td>2016-05-10T00:00:00</td>\n",
       "      <td>3</td>\n",
       "      <td>2.65</td>\n",
       "      <td>3.0</td>\n",
       "      <td>88.00</td>\n",
       "      <td>3</td>\n",
       "      <td>18.40</td>\n",
       "      <td>1</td>\n",
       "      <td>Санкт-Петербург</td>\n",
       "      <td>13270.0</td>\n",
       "      <td>0</td>\n",
       "      <td>-1.0</td>\n",
       "      <td>0</td>\n",
       "      <td>-1.0</td>\n",
       "      <td>90.0</td>\n",
       "    </tr>\n",
       "    <tr>\n",
       "      <td>440</td>\n",
       "      <td>2480000.0</td>\n",
       "      <td>27.11</td>\n",
       "      <td>2018-03-12T00:00:00</td>\n",
       "      <td>0</td>\n",
       "      <td>2.70</td>\n",
       "      <td>17.0</td>\n",
       "      <td>24.75</td>\n",
       "      <td>4</td>\n",
       "      <td>5.10</td>\n",
       "      <td>2</td>\n",
       "      <td>Санкт-Петербург</td>\n",
       "      <td>15015.0</td>\n",
       "      <td>0</td>\n",
       "      <td>-1.0</td>\n",
       "      <td>2</td>\n",
       "      <td>982.0</td>\n",
       "      <td>64.0</td>\n",
       "    </tr>\n",
       "    <tr>\n",
       "      <td>545</td>\n",
       "      <td>4700000.0</td>\n",
       "      <td>23.80</td>\n",
       "      <td>2018-12-28T00:00:00</td>\n",
       "      <td>1</td>\n",
       "      <td>2.70</td>\n",
       "      <td>18.0</td>\n",
       "      <td>20.00</td>\n",
       "      <td>9</td>\n",
       "      <td>5.00</td>\n",
       "      <td>0</td>\n",
       "      <td>Санкт-Петербург</td>\n",
       "      <td>11849.0</td>\n",
       "      <td>0</td>\n",
       "      <td>-1.0</td>\n",
       "      <td>0</td>\n",
       "      <td>-1.0</td>\n",
       "      <td>108.0</td>\n",
       "    </tr>\n",
       "    <tr>\n",
       "      <td>551</td>\n",
       "      <td>3100000.0</td>\n",
       "      <td>31.59</td>\n",
       "      <td>2018-03-08T00:00:00</td>\n",
       "      <td>1</td>\n",
       "      <td>2.70</td>\n",
       "      <td>19.0</td>\n",
       "      <td>30.55</td>\n",
       "      <td>2</td>\n",
       "      <td>9.28</td>\n",
       "      <td>2</td>\n",
       "      <td>посёлок Мурино</td>\n",
       "      <td>NaN</td>\n",
       "      <td>0</td>\n",
       "      <td>-1.0</td>\n",
       "      <td>0</td>\n",
       "      <td>-1.0</td>\n",
       "      <td>70.0</td>\n",
       "    </tr>\n",
       "    <tr>\n",
       "      <td>...</td>\n",
       "      <td>...</td>\n",
       "      <td>...</td>\n",
       "      <td>...</td>\n",
       "      <td>...</td>\n",
       "      <td>...</td>\n",
       "      <td>...</td>\n",
       "      <td>...</td>\n",
       "      <td>...</td>\n",
       "      <td>...</td>\n",
       "      <td>...</td>\n",
       "      <td>...</td>\n",
       "      <td>...</td>\n",
       "      <td>...</td>\n",
       "      <td>...</td>\n",
       "      <td>...</td>\n",
       "      <td>...</td>\n",
       "      <td>...</td>\n",
       "    </tr>\n",
       "    <tr>\n",
       "      <td>22246</td>\n",
       "      <td>3100000.0</td>\n",
       "      <td>27.30</td>\n",
       "      <td>2018-05-29T00:00:00</td>\n",
       "      <td>0</td>\n",
       "      <td>2.70</td>\n",
       "      <td>16.0</td>\n",
       "      <td>23.30</td>\n",
       "      <td>15</td>\n",
       "      <td>5.10</td>\n",
       "      <td>1</td>\n",
       "      <td>Санкт-Петербург</td>\n",
       "      <td>9551.0</td>\n",
       "      <td>0</td>\n",
       "      <td>-1.0</td>\n",
       "      <td>0</td>\n",
       "      <td>-1.0</td>\n",
       "      <td>59.0</td>\n",
       "    </tr>\n",
       "    <tr>\n",
       "      <td>22907</td>\n",
       "      <td>65000000.0</td>\n",
       "      <td>228.00</td>\n",
       "      <td>2016-06-02T00:00:00</td>\n",
       "      <td>4</td>\n",
       "      <td>2.60</td>\n",
       "      <td>5.0</td>\n",
       "      <td>200.00</td>\n",
       "      <td>2</td>\n",
       "      <td>42.70</td>\n",
       "      <td>0</td>\n",
       "      <td>Санкт-Петербург</td>\n",
       "      <td>1295.0</td>\n",
       "      <td>3</td>\n",
       "      <td>619.0</td>\n",
       "      <td>3</td>\n",
       "      <td>269.0</td>\n",
       "      <td>NaN</td>\n",
       "    </tr>\n",
       "    <tr>\n",
       "      <td>23102</td>\n",
       "      <td>5800000.0</td>\n",
       "      <td>66.00</td>\n",
       "      <td>2017-06-09T00:00:00</td>\n",
       "      <td>5</td>\n",
       "      <td>2.60</td>\n",
       "      <td>5.0</td>\n",
       "      <td>55.50</td>\n",
       "      <td>1</td>\n",
       "      <td>12.40</td>\n",
       "      <td>0</td>\n",
       "      <td>Санкт-Петербург</td>\n",
       "      <td>11933.0</td>\n",
       "      <td>0</td>\n",
       "      <td>-1.0</td>\n",
       "      <td>0</td>\n",
       "      <td>-1.0</td>\n",
       "      <td>21.0</td>\n",
       "    </tr>\n",
       "    <tr>\n",
       "      <td>23191</td>\n",
       "      <td>1900000.0</td>\n",
       "      <td>18.90</td>\n",
       "      <td>2016-04-04T00:00:00</td>\n",
       "      <td>1</td>\n",
       "      <td>2.65</td>\n",
       "      <td>16.0</td>\n",
       "      <td>16.00</td>\n",
       "      <td>12</td>\n",
       "      <td>3.50</td>\n",
       "      <td>0</td>\n",
       "      <td>Тосно</td>\n",
       "      <td>NaN</td>\n",
       "      <td>0</td>\n",
       "      <td>-1.0</td>\n",
       "      <td>0</td>\n",
       "      <td>-1.0</td>\n",
       "      <td>115.0</td>\n",
       "    </tr>\n",
       "    <tr>\n",
       "      <td>23202</td>\n",
       "      <td>4919880.0</td>\n",
       "      <td>67.92</td>\n",
       "      <td>2018-10-23T00:00:00</td>\n",
       "      <td>2</td>\n",
       "      <td>2.70</td>\n",
       "      <td>3.0</td>\n",
       "      <td>63.00</td>\n",
       "      <td>3</td>\n",
       "      <td>13.04</td>\n",
       "      <td>0</td>\n",
       "      <td>Всеволожск</td>\n",
       "      <td>NaN</td>\n",
       "      <td>0</td>\n",
       "      <td>-1.0</td>\n",
       "      <td>0</td>\n",
       "      <td>-1.0</td>\n",
       "      <td>60.0</td>\n",
       "    </tr>\n",
       "  </tbody>\n",
       "</table>\n",
       "<p>123 rows × 17 columns</p>\n",
       "</div>"
      ],
      "text/plain": [
       "       last_price  total_area first_day_exposition  rooms  ceiling_height  \\\n",
       "184     2600000.0       30.20  2018-02-14T00:00:00      1            2.65   \n",
       "424    11500000.0       98.00  2016-05-10T00:00:00      3            2.65   \n",
       "440     2480000.0       27.11  2018-03-12T00:00:00      0            2.70   \n",
       "545     4700000.0       23.80  2018-12-28T00:00:00      1            2.70   \n",
       "551     3100000.0       31.59  2018-03-08T00:00:00      1            2.70   \n",
       "...           ...         ...                  ...    ...             ...   \n",
       "22246   3100000.0       27.30  2018-05-29T00:00:00      0            2.70   \n",
       "22907  65000000.0      228.00  2016-06-02T00:00:00      4            2.60   \n",
       "23102   5800000.0       66.00  2017-06-09T00:00:00      5            2.60   \n",
       "23191   1900000.0       18.90  2016-04-04T00:00:00      1            2.65   \n",
       "23202   4919880.0       67.92  2018-10-23T00:00:00      2            2.70   \n",
       "\n",
       "       floors_total  living_area  floor  kitchen_area  balcony  \\\n",
       "184             9.0        26.10      5          6.20        0   \n",
       "424             3.0        88.00      3         18.40        1   \n",
       "440            17.0        24.75      4          5.10        2   \n",
       "545            18.0        20.00      9          5.00        0   \n",
       "551            19.0        30.55      2          9.28        2   \n",
       "...             ...          ...    ...           ...      ...   \n",
       "22246          16.0        23.30     15          5.10        1   \n",
       "22907           5.0       200.00      2         42.70        0   \n",
       "23102           5.0        55.50      1         12.40        0   \n",
       "23191          16.0        16.00     12          3.50        0   \n",
       "23202           3.0        63.00      3         13.04        0   \n",
       "\n",
       "         locality_name  cityCenters_nearest  parks_around3000  parks_nearest  \\\n",
       "184    Санкт-Петербург              15031.0                 0           -1.0   \n",
       "424    Санкт-Петербург              13270.0                 0           -1.0   \n",
       "440    Санкт-Петербург              15015.0                 0           -1.0   \n",
       "545    Санкт-Петербург              11849.0                 0           -1.0   \n",
       "551     посёлок Мурино                  NaN                 0           -1.0   \n",
       "...                ...                  ...               ...            ...   \n",
       "22246  Санкт-Петербург               9551.0                 0           -1.0   \n",
       "22907  Санкт-Петербург               1295.0                 3          619.0   \n",
       "23102  Санкт-Петербург              11933.0                 0           -1.0   \n",
       "23191            Тосно                  NaN                 0           -1.0   \n",
       "23202       Всеволожск                  NaN                 0           -1.0   \n",
       "\n",
       "       ponds_around3000  ponds_nearest  days_exposition  \n",
       "184                   1          824.0             12.0  \n",
       "424                   0           -1.0             90.0  \n",
       "440                   2          982.0             64.0  \n",
       "545                   0           -1.0            108.0  \n",
       "551                   0           -1.0             70.0  \n",
       "...                 ...            ...              ...  \n",
       "22246                 0           -1.0             59.0  \n",
       "22907                 3          269.0              NaN  \n",
       "23102                 0           -1.0             21.0  \n",
       "23191                 0           -1.0            115.0  \n",
       "23202                 0           -1.0             60.0  \n",
       "\n",
       "[123 rows x 17 columns]"
      ]
     },
     "execution_count": 85,
     "metadata": {},
     "output_type": "execute_result"
    }
   ],
   "source": [
    "#проверка на ошибки, есть ли квартиры где сумма жилой площади и кухни больше общей\n",
    "test = data.query('(living_area + kitchen_area) > total_area')\n",
    "test\n"
   ]
  },
  {
   "cell_type": "markdown",
   "metadata": {},
   "source": [
    "Проверка выдала 123 строки. Возможно данные были изначально некорректно заполнены. Решение - удалить эти строки."
   ]
  },
  {
   "cell_type": "code",
   "execution_count": 86,
   "metadata": {},
   "outputs": [],
   "source": [
    "# сохранение новой таблицы без ошибочных строк\n",
    "data = data.query('(living_area + kitchen_area) < total_area').reset_index(drop=True)\n"
   ]
  },
  {
   "cell_type": "markdown",
   "metadata": {},
   "source": [
    "<b>cityCenters_nearest</b> - данные рассчитывала система. Данные отсутствуют возможно из-за ошибки выгрузки. Или центр города отсутствует, к примеру, сёла, посёлки или городские поселения. Полагаю, что параметр расстояние до центра города важен только в Санкт-Петербурге. Проверим количество пропусков."
   ]
  },
  {
   "cell_type": "code",
   "execution_count": 87,
   "metadata": {},
   "outputs": [
    {
     "data": {
      "text/plain": [
       "60"
      ]
     },
     "execution_count": 87,
     "metadata": {},
     "output_type": "execute_result"
    }
   ],
   "source": [
    "len(data[(data['locality_name'] == \"Санкт-Петербург\") & (data['cityCenters_nearest'].isna())])"
   ]
  },
  {
   "cell_type": "markdown",
   "metadata": {},
   "source": [
    "Всего 60 строк, просто удалим.\n",
    "\n",
    "Остальные пропуски в столбце cityCenters_nearest заменим на нетипичные значения и будем учитывать в дальнейших рассчётах.\n",
    "\n",
    "Мы бы могли обработать пропуски в расстоянии до центра cityCenters_nearest, сгруппировав объявления по названию населенного пункта locality_name, а затем заменить на медиану. Онако такой способ не сработает, так как в большинстве населенных пунктов (городской посёлок Янино-1, поселок Мурино и др.), не найдется своей медианы. "
   ]
  },
  {
   "cell_type": "code",
   "execution_count": 88,
   "metadata": {},
   "outputs": [
    {
     "name": "stdout",
     "output_type": "stream",
     "text": [
      "Количество пропусков в столбце \"cityCenters_nearest\" -  0\n"
     ]
    }
   ],
   "source": [
    "data = data[(data['locality_name'] != \"Санкт-Петербург\") | ((data['locality_name'] == \"Санкт-Петербург\") & (~data['cityCenters_nearest'].isna()))].reset_index(drop=True)\n",
    "data['cityCenters_nearest'] = data['cityCenters_nearest'].fillna(-1)\n",
    "print('Количество пропусков в столбце \"cityCenters_nearest\" - ', data['cityCenters_nearest'].isna().sum())  #проверка замены\n",
    "\n"
   ]
  },
  {
   "cell_type": "markdown",
   "metadata": {},
   "source": [
    "<b>days_exposition</b> - довольно важный параметр. Информация может отсутствовать, например, по причине того, что неизвестно когда было закрыто объявление о продаже, т.е., возможно, сделка была совершена, но не была закрыта на сайте. По той же причине можем получить результаты в виде срока продажи квартиры в несколько лет. Попробуем обработать их с помощью столбца locality_name."
   ]
  },
  {
   "cell_type": "code",
   "execution_count": 89,
   "metadata": {},
   "outputs": [
    {
     "data": {
      "text/html": [
       "<div>\n",
       "<style scoped>\n",
       "    .dataframe tbody tr th:only-of-type {\n",
       "        vertical-align: middle;\n",
       "    }\n",
       "\n",
       "    .dataframe tbody tr th {\n",
       "        vertical-align: top;\n",
       "    }\n",
       "\n",
       "    .dataframe thead th {\n",
       "        text-align: right;\n",
       "    }\n",
       "</style>\n",
       "<table border=\"1\" class=\"dataframe\">\n",
       "  <thead>\n",
       "    <tr style=\"text-align: right;\">\n",
       "      <th>first_day_exposition</th>\n",
       "      <th>2014-11-27T00:00:00</th>\n",
       "      <th>2014-12-08T00:00:00</th>\n",
       "      <th>2014-12-09T00:00:00</th>\n",
       "      <th>2014-12-10T00:00:00</th>\n",
       "      <th>2014-12-11T00:00:00</th>\n",
       "      <th>2014-12-12T00:00:00</th>\n",
       "      <th>2014-12-27T00:00:00</th>\n",
       "      <th>2015-01-03T00:00:00</th>\n",
       "      <th>2015-01-15T00:00:00</th>\n",
       "      <th>2015-01-20T00:00:00</th>\n",
       "      <th>...</th>\n",
       "      <th>2019-04-24T00:00:00</th>\n",
       "      <th>2019-04-25T00:00:00</th>\n",
       "      <th>2019-04-26T00:00:00</th>\n",
       "      <th>2019-04-27T00:00:00</th>\n",
       "      <th>2019-04-28T00:00:00</th>\n",
       "      <th>2019-04-29T00:00:00</th>\n",
       "      <th>2019-04-30T00:00:00</th>\n",
       "      <th>2019-05-01T00:00:00</th>\n",
       "      <th>2019-05-02T00:00:00</th>\n",
       "      <th>2019-05-03T00:00:00</th>\n",
       "    </tr>\n",
       "  </thead>\n",
       "  <tbody>\n",
       "    <tr>\n",
       "      <td>total_area</td>\n",
       "      <td>3</td>\n",
       "      <td>1</td>\n",
       "      <td>7</td>\n",
       "      <td>3</td>\n",
       "      <td>2</td>\n",
       "      <td>1</td>\n",
       "      <td>1</td>\n",
       "      <td>1</td>\n",
       "      <td>1</td>\n",
       "      <td>1</td>\n",
       "      <td>...</td>\n",
       "      <td>31</td>\n",
       "      <td>26</td>\n",
       "      <td>35</td>\n",
       "      <td>14</td>\n",
       "      <td>17</td>\n",
       "      <td>34</td>\n",
       "      <td>24</td>\n",
       "      <td>29</td>\n",
       "      <td>10</td>\n",
       "      <td>20</td>\n",
       "    </tr>\n",
       "  </tbody>\n",
       "</table>\n",
       "<p>1 rows × 704 columns</p>\n",
       "</div>"
      ],
      "text/plain": [
       "first_day_exposition  2014-11-27T00:00:00  2014-12-08T00:00:00  \\\n",
       "total_area                              3                    1   \n",
       "\n",
       "first_day_exposition  2014-12-09T00:00:00  2014-12-10T00:00:00  \\\n",
       "total_area                              7                    3   \n",
       "\n",
       "first_day_exposition  2014-12-11T00:00:00  2014-12-12T00:00:00  \\\n",
       "total_area                              2                    1   \n",
       "\n",
       "first_day_exposition  2014-12-27T00:00:00  2015-01-03T00:00:00  \\\n",
       "total_area                              1                    1   \n",
       "\n",
       "first_day_exposition  2015-01-15T00:00:00  2015-01-20T00:00:00  ...  \\\n",
       "total_area                              1                    1  ...   \n",
       "\n",
       "first_day_exposition  2019-04-24T00:00:00  2019-04-25T00:00:00  \\\n",
       "total_area                             31                   26   \n",
       "\n",
       "first_day_exposition  2019-04-26T00:00:00  2019-04-27T00:00:00  \\\n",
       "total_area                             35                   14   \n",
       "\n",
       "first_day_exposition  2019-04-28T00:00:00  2019-04-29T00:00:00  \\\n",
       "total_area                             17                   34   \n",
       "\n",
       "first_day_exposition  2019-04-30T00:00:00  2019-05-01T00:00:00  \\\n",
       "total_area                             24                   29   \n",
       "\n",
       "first_day_exposition  2019-05-02T00:00:00  2019-05-03T00:00:00  \n",
       "total_area                             10                   20  \n",
       "\n",
       "[1 rows x 704 columns]"
      ]
     },
     "execution_count": 89,
     "metadata": {},
     "output_type": "execute_result"
    }
   ],
   "source": [
    "data[data['days_exposition'].isnull()].pivot_table(columns = 'first_day_exposition', values = 'total_area', aggfunc = 'count')\n"
   ]
  },
  {
   "cell_type": "code",
   "execution_count": 94,
   "metadata": {},
   "outputs": [
    {
     "name": "stdout",
     "output_type": "stream",
     "text": [
      "Количество пропусков в столбце \"days_exposition\" -  0\n"
     ]
    }
   ],
   "source": [
    "#заполнение медианной по столбцу 'locality_name' \n",
    "#data['days_exposition'] = data['days_exposition'].fillna(data.groupby(['locality_name'])['days_exposition'].transform('median'))\n",
    "data['days_exposition'] = data['days_exposition'].fillna('-1')\n",
    "\n",
    "print('Количество пропусков в столбце \"days_exposition\" - ', data['days_exposition'].isna().sum())  #проверка замены\n"
   ]
  },
  {
   "cell_type": "code",
   "execution_count": 95,
   "metadata": {},
   "outputs": [],
   "source": [
    "# удаление строк с пустыми значениями столбца 'days_exposition' с изменением исходной таблицы\n",
    "#data.dropna(subset = ['days_exposition'], inplace = True)\n",
    "#print('Количество пропусков в столбце \"days_exposition\" - ', data['days_exposition'].isna().sum())  #проверка замены\n"
   ]
  },
  {
   "cell_type": "markdown",
   "metadata": {},
   "source": [
    "Теперь займемся изменением типа данных по столбцам:\n"
   ]
  },
  {
   "cell_type": "code",
   "execution_count": 96,
   "metadata": {},
   "outputs": [
    {
     "name": "stdout",
     "output_type": "stream",
     "text": [
      "<class 'pandas.core.frame.DataFrame'>\n",
      "RangeIndex: 23336 entries, 0 to 23335\n",
      "Data columns (total 17 columns):\n",
      "last_price              23336 non-null float64\n",
      "total_area              23336 non-null float64\n",
      "first_day_exposition    23336 non-null object\n",
      "rooms                   23336 non-null int64\n",
      "ceiling_height          23336 non-null float64\n",
      "floors_total            23336 non-null float64\n",
      "living_area             23336 non-null float64\n",
      "floor                   23336 non-null int64\n",
      "kitchen_area            23336 non-null float64\n",
      "balcony                 23336 non-null int64\n",
      "locality_name           23336 non-null object\n",
      "cityCenters_nearest     23336 non-null float64\n",
      "parks_around3000        23336 non-null int64\n",
      "parks_nearest           23336 non-null float64\n",
      "ponds_around3000        23336 non-null int64\n",
      "ponds_nearest           23336 non-null float64\n",
      "days_exposition         23336 non-null object\n",
      "dtypes: float64(9), int64(5), object(3)\n",
      "memory usage: 3.0+ MB\n"
     ]
    }
   ],
   "source": [
    "data.info()"
   ]
  },
  {
   "cell_type": "code",
   "execution_count": 97,
   "metadata": {},
   "outputs": [
    {
     "data": {
      "text/html": [
       "<div>\n",
       "<style scoped>\n",
       "    .dataframe tbody tr th:only-of-type {\n",
       "        vertical-align: middle;\n",
       "    }\n",
       "\n",
       "    .dataframe tbody tr th {\n",
       "        vertical-align: top;\n",
       "    }\n",
       "\n",
       "    .dataframe thead th {\n",
       "        text-align: right;\n",
       "    }\n",
       "</style>\n",
       "<table border=\"1\" class=\"dataframe\">\n",
       "  <thead>\n",
       "    <tr style=\"text-align: right;\">\n",
       "      <th></th>\n",
       "      <th>last_price</th>\n",
       "      <th>total_area</th>\n",
       "      <th>first_day_exposition</th>\n",
       "      <th>rooms</th>\n",
       "      <th>ceiling_height</th>\n",
       "      <th>floors_total</th>\n",
       "      <th>living_area</th>\n",
       "      <th>floor</th>\n",
       "      <th>kitchen_area</th>\n",
       "      <th>balcony</th>\n",
       "      <th>locality_name</th>\n",
       "      <th>cityCenters_nearest</th>\n",
       "      <th>parks_around3000</th>\n",
       "      <th>parks_nearest</th>\n",
       "      <th>ponds_around3000</th>\n",
       "      <th>ponds_nearest</th>\n",
       "      <th>days_exposition</th>\n",
       "    </tr>\n",
       "  </thead>\n",
       "  <tbody>\n",
       "    <tr>\n",
       "      <td>0</td>\n",
       "      <td>13000000.0</td>\n",
       "      <td>108.0</td>\n",
       "      <td>2019-03-07T00:00:00</td>\n",
       "      <td>3</td>\n",
       "      <td>2.70</td>\n",
       "      <td>16.0</td>\n",
       "      <td>51.0</td>\n",
       "      <td>8</td>\n",
       "      <td>25.0</td>\n",
       "      <td>0</td>\n",
       "      <td>Санкт-Петербург</td>\n",
       "      <td>16028.0</td>\n",
       "      <td>1</td>\n",
       "      <td>482.0</td>\n",
       "      <td>2</td>\n",
       "      <td>755.0</td>\n",
       "      <td>-1</td>\n",
       "    </tr>\n",
       "    <tr>\n",
       "      <td>1</td>\n",
       "      <td>3350000.0</td>\n",
       "      <td>40.4</td>\n",
       "      <td>2018-12-04T00:00:00</td>\n",
       "      <td>1</td>\n",
       "      <td>2.77</td>\n",
       "      <td>11.0</td>\n",
       "      <td>18.6</td>\n",
       "      <td>1</td>\n",
       "      <td>11.0</td>\n",
       "      <td>2</td>\n",
       "      <td>посёлок Шушары</td>\n",
       "      <td>18603.0</td>\n",
       "      <td>0</td>\n",
       "      <td>-1.0</td>\n",
       "      <td>0</td>\n",
       "      <td>-1.0</td>\n",
       "      <td>81</td>\n",
       "    </tr>\n",
       "    <tr>\n",
       "      <td>2</td>\n",
       "      <td>5196000.0</td>\n",
       "      <td>56.0</td>\n",
       "      <td>2015-08-20T00:00:00</td>\n",
       "      <td>2</td>\n",
       "      <td>2.60</td>\n",
       "      <td>5.0</td>\n",
       "      <td>34.3</td>\n",
       "      <td>4</td>\n",
       "      <td>8.3</td>\n",
       "      <td>0</td>\n",
       "      <td>Санкт-Петербург</td>\n",
       "      <td>13933.0</td>\n",
       "      <td>1</td>\n",
       "      <td>90.0</td>\n",
       "      <td>2</td>\n",
       "      <td>574.0</td>\n",
       "      <td>558</td>\n",
       "    </tr>\n",
       "    <tr>\n",
       "      <td>3</td>\n",
       "      <td>64900000.0</td>\n",
       "      <td>159.0</td>\n",
       "      <td>2015-07-24T00:00:00</td>\n",
       "      <td>3</td>\n",
       "      <td>2.60</td>\n",
       "      <td>14.0</td>\n",
       "      <td>89.8</td>\n",
       "      <td>9</td>\n",
       "      <td>29.8</td>\n",
       "      <td>0</td>\n",
       "      <td>Санкт-Петербург</td>\n",
       "      <td>6800.0</td>\n",
       "      <td>2</td>\n",
       "      <td>84.0</td>\n",
       "      <td>3</td>\n",
       "      <td>234.0</td>\n",
       "      <td>424</td>\n",
       "    </tr>\n",
       "    <tr>\n",
       "      <td>4</td>\n",
       "      <td>10000000.0</td>\n",
       "      <td>100.0</td>\n",
       "      <td>2018-06-19T00:00:00</td>\n",
       "      <td>2</td>\n",
       "      <td>3.03</td>\n",
       "      <td>14.0</td>\n",
       "      <td>32.0</td>\n",
       "      <td>13</td>\n",
       "      <td>41.0</td>\n",
       "      <td>0</td>\n",
       "      <td>Санкт-Петербург</td>\n",
       "      <td>8098.0</td>\n",
       "      <td>2</td>\n",
       "      <td>112.0</td>\n",
       "      <td>1</td>\n",
       "      <td>48.0</td>\n",
       "      <td>121</td>\n",
       "    </tr>\n",
       "  </tbody>\n",
       "</table>\n",
       "</div>"
      ],
      "text/plain": [
       "   last_price  total_area first_day_exposition  rooms  ceiling_height  \\\n",
       "0  13000000.0       108.0  2019-03-07T00:00:00      3            2.70   \n",
       "1   3350000.0        40.4  2018-12-04T00:00:00      1            2.77   \n",
       "2   5196000.0        56.0  2015-08-20T00:00:00      2            2.60   \n",
       "3  64900000.0       159.0  2015-07-24T00:00:00      3            2.60   \n",
       "4  10000000.0       100.0  2018-06-19T00:00:00      2            3.03   \n",
       "\n",
       "   floors_total  living_area  floor  kitchen_area  balcony    locality_name  \\\n",
       "0          16.0         51.0      8          25.0        0  Санкт-Петербург   \n",
       "1          11.0         18.6      1          11.0        2   посёлок Шушары   \n",
       "2           5.0         34.3      4           8.3        0  Санкт-Петербург   \n",
       "3          14.0         89.8      9          29.8        0  Санкт-Петербург   \n",
       "4          14.0         32.0     13          41.0        0  Санкт-Петербург   \n",
       "\n",
       "   cityCenters_nearest  parks_around3000  parks_nearest  ponds_around3000  \\\n",
       "0              16028.0                 1          482.0                 2   \n",
       "1              18603.0                 0           -1.0                 0   \n",
       "2              13933.0                 1           90.0                 2   \n",
       "3               6800.0                 2           84.0                 3   \n",
       "4               8098.0                 2          112.0                 1   \n",
       "\n",
       "   ponds_nearest days_exposition  \n",
       "0          755.0              -1  \n",
       "1           -1.0              81  \n",
       "2          574.0             558  \n",
       "3          234.0             424  \n",
       "4           48.0             121  "
      ]
     },
     "execution_count": 97,
     "metadata": {},
     "output_type": "execute_result"
    }
   ],
   "source": [
    "data.head()"
   ]
  },
  {
   "cell_type": "markdown",
   "metadata": {},
   "source": [
    "<b>last_price</b> - переведем в целочисленный тип (точность до рубля);\n",
    "<br><b>first_day_exposition</b> - даты должны быть датами - в datetime;\n",
    "<br><b>ceiling_height</b> - округлим до одного знака после запятой;\n",
    "<br><b>floors_total</b> - количество этажей не бывает 3/4 - в int;\n",
    "<br><b>cityCenters_nearest, parks_nearest, ponds_nearest</b> - переведем в целочисленный тип (точность до метра);\n",
    "<br><b>days_exposition</b> - количество дней продажи недвижимости - в int."
   ]
  },
  {
   "cell_type": "code",
   "execution_count": 98,
   "metadata": {},
   "outputs": [],
   "source": [
    "data['last_price'] = data['last_price'].astype('int') \n",
    "data['floors_total'] = data['floors_total'].astype('int')  \n",
    "data['cityCenters_nearest'] = data['cityCenters_nearest'].astype('int') \n",
    "data['parks_nearest'] = data['parks_nearest'].astype('int')  \n",
    "data['ponds_nearest'] = data['ponds_nearest'].astype('int')  \n",
    "data['days_exposition'] = data['days_exposition'].astype('int') "
   ]
  },
  {
   "cell_type": "code",
   "execution_count": 99,
   "metadata": {},
   "outputs": [],
   "source": [
    "#перевод first_day_exposition в тип данных datetime\n",
    "data['first_day_exposition'] = pd.to_datetime(data['first_day_exposition'], format='%Y-%m-%dT%H:%M:%S')\n"
   ]
  },
  {
   "cell_type": "code",
   "execution_count": 100,
   "metadata": {},
   "outputs": [
    {
     "data": {
      "text/html": [
       "<div>\n",
       "<style scoped>\n",
       "    .dataframe tbody tr th:only-of-type {\n",
       "        vertical-align: middle;\n",
       "    }\n",
       "\n",
       "    .dataframe tbody tr th {\n",
       "        vertical-align: top;\n",
       "    }\n",
       "\n",
       "    .dataframe thead th {\n",
       "        text-align: right;\n",
       "    }\n",
       "</style>\n",
       "<table border=\"1\" class=\"dataframe\">\n",
       "  <thead>\n",
       "    <tr style=\"text-align: right;\">\n",
       "      <th></th>\n",
       "      <th>last_price</th>\n",
       "      <th>total_area</th>\n",
       "      <th>first_day_exposition</th>\n",
       "      <th>rooms</th>\n",
       "      <th>ceiling_height</th>\n",
       "      <th>floors_total</th>\n",
       "      <th>living_area</th>\n",
       "      <th>floor</th>\n",
       "      <th>kitchen_area</th>\n",
       "      <th>balcony</th>\n",
       "      <th>locality_name</th>\n",
       "      <th>cityCenters_nearest</th>\n",
       "      <th>parks_around3000</th>\n",
       "      <th>parks_nearest</th>\n",
       "      <th>ponds_around3000</th>\n",
       "      <th>ponds_nearest</th>\n",
       "      <th>days_exposition</th>\n",
       "    </tr>\n",
       "  </thead>\n",
       "  <tbody>\n",
       "    <tr>\n",
       "      <td>0</td>\n",
       "      <td>13000000</td>\n",
       "      <td>108.0</td>\n",
       "      <td>2019-03-07</td>\n",
       "      <td>3</td>\n",
       "      <td>2.7</td>\n",
       "      <td>16</td>\n",
       "      <td>51.0</td>\n",
       "      <td>8</td>\n",
       "      <td>25.0</td>\n",
       "      <td>0</td>\n",
       "      <td>Санкт-Петербург</td>\n",
       "      <td>16028</td>\n",
       "      <td>1</td>\n",
       "      <td>482</td>\n",
       "      <td>2</td>\n",
       "      <td>755</td>\n",
       "      <td>-1</td>\n",
       "    </tr>\n",
       "    <tr>\n",
       "      <td>1</td>\n",
       "      <td>3350000</td>\n",
       "      <td>40.4</td>\n",
       "      <td>2018-12-04</td>\n",
       "      <td>1</td>\n",
       "      <td>2.8</td>\n",
       "      <td>11</td>\n",
       "      <td>18.6</td>\n",
       "      <td>1</td>\n",
       "      <td>11.0</td>\n",
       "      <td>2</td>\n",
       "      <td>посёлок Шушары</td>\n",
       "      <td>18603</td>\n",
       "      <td>0</td>\n",
       "      <td>-1</td>\n",
       "      <td>0</td>\n",
       "      <td>-1</td>\n",
       "      <td>81</td>\n",
       "    </tr>\n",
       "    <tr>\n",
       "      <td>2</td>\n",
       "      <td>5196000</td>\n",
       "      <td>56.0</td>\n",
       "      <td>2015-08-20</td>\n",
       "      <td>2</td>\n",
       "      <td>2.6</td>\n",
       "      <td>5</td>\n",
       "      <td>34.3</td>\n",
       "      <td>4</td>\n",
       "      <td>8.3</td>\n",
       "      <td>0</td>\n",
       "      <td>Санкт-Петербург</td>\n",
       "      <td>13933</td>\n",
       "      <td>1</td>\n",
       "      <td>90</td>\n",
       "      <td>2</td>\n",
       "      <td>574</td>\n",
       "      <td>558</td>\n",
       "    </tr>\n",
       "    <tr>\n",
       "      <td>3</td>\n",
       "      <td>64900000</td>\n",
       "      <td>159.0</td>\n",
       "      <td>2015-07-24</td>\n",
       "      <td>3</td>\n",
       "      <td>2.6</td>\n",
       "      <td>14</td>\n",
       "      <td>89.8</td>\n",
       "      <td>9</td>\n",
       "      <td>29.8</td>\n",
       "      <td>0</td>\n",
       "      <td>Санкт-Петербург</td>\n",
       "      <td>6800</td>\n",
       "      <td>2</td>\n",
       "      <td>84</td>\n",
       "      <td>3</td>\n",
       "      <td>234</td>\n",
       "      <td>424</td>\n",
       "    </tr>\n",
       "    <tr>\n",
       "      <td>4</td>\n",
       "      <td>10000000</td>\n",
       "      <td>100.0</td>\n",
       "      <td>2018-06-19</td>\n",
       "      <td>2</td>\n",
       "      <td>3.0</td>\n",
       "      <td>14</td>\n",
       "      <td>32.0</td>\n",
       "      <td>13</td>\n",
       "      <td>41.0</td>\n",
       "      <td>0</td>\n",
       "      <td>Санкт-Петербург</td>\n",
       "      <td>8098</td>\n",
       "      <td>2</td>\n",
       "      <td>112</td>\n",
       "      <td>1</td>\n",
       "      <td>48</td>\n",
       "      <td>121</td>\n",
       "    </tr>\n",
       "  </tbody>\n",
       "</table>\n",
       "</div>"
      ],
      "text/plain": [
       "   last_price  total_area first_day_exposition  rooms  ceiling_height  \\\n",
       "0    13000000       108.0           2019-03-07      3             2.7   \n",
       "1     3350000        40.4           2018-12-04      1             2.8   \n",
       "2     5196000        56.0           2015-08-20      2             2.6   \n",
       "3    64900000       159.0           2015-07-24      3             2.6   \n",
       "4    10000000       100.0           2018-06-19      2             3.0   \n",
       "\n",
       "   floors_total  living_area  floor  kitchen_area  balcony    locality_name  \\\n",
       "0            16         51.0      8          25.0        0  Санкт-Петербург   \n",
       "1            11         18.6      1          11.0        2   посёлок Шушары   \n",
       "2             5         34.3      4           8.3        0  Санкт-Петербург   \n",
       "3            14         89.8      9          29.8        0  Санкт-Петербург   \n",
       "4            14         32.0     13          41.0        0  Санкт-Петербург   \n",
       "\n",
       "   cityCenters_nearest  parks_around3000  parks_nearest  ponds_around3000  \\\n",
       "0                16028                 1            482                 2   \n",
       "1                18603                 0             -1                 0   \n",
       "2                13933                 1             90                 2   \n",
       "3                 6800                 2             84                 3   \n",
       "4                 8098                 2            112                 1   \n",
       "\n",
       "   ponds_nearest  days_exposition  \n",
       "0            755               -1  \n",
       "1             -1               81  \n",
       "2            574              558  \n",
       "3            234              424  \n",
       "4             48              121  "
      ]
     },
     "execution_count": 100,
     "metadata": {},
     "output_type": "execute_result"
    }
   ],
   "source": [
    "#округление до 1 знака после запятой\n",
    "data['ceiling_height'] = data['ceiling_height'].round(1)\n",
    "data.head()"
   ]
  },
  {
   "cell_type": "markdown",
   "metadata": {},
   "source": [
    "## Расчёты и добавление результатов в таблицу"
   ]
  },
  {
   "cell_type": "markdown",
   "metadata": {},
   "source": [
    "Посчитаем и добавим в таблицу:\n",
    "\n",
    "- цену квадратного метра;\n",
    "- день недели, месяц и год публикации объявления;\n",
    "- этаж квартиры;\n",
    "- коэффициент с отношением жилой к общей площади;\n",
    "- а также коэффициент с отношением площади кухни к общей.\n"
   ]
  },
  {
   "cell_type": "markdown",
   "metadata": {},
   "source": [
    "Чтобы узнать цену квадратного метра, разделим стоимость квартиры на общую площадь. Для удобства сразу переведём цену продажи и цену за квадратный метр в тысячи."
   ]
  },
  {
   "cell_type": "code",
   "execution_count": 101,
   "metadata": {},
   "outputs": [],
   "source": [
    "# цена за кв метр \n",
    "data['price_m2'] = (data['last_price'] / data['total_area'] /1000).round(3)"
   ]
  },
  {
   "cell_type": "code",
   "execution_count": 102,
   "metadata": {},
   "outputs": [],
   "source": [
    "data['last_price'] = (data['last_price'] / 1000).astype(int)\n"
   ]
  },
  {
   "cell_type": "markdown",
   "metadata": {},
   "source": [
    "Добавим год, месяц, а также день недели публикации объявления."
   ]
  },
  {
   "cell_type": "code",
   "execution_count": 103,
   "metadata": {},
   "outputs": [],
   "source": [
    "data['weekday'] = data['first_day_exposition'].dt.weekday\n",
    "data['month'] = data['first_day_exposition'].dt.month\n",
    "data['year'] = data['first_day_exposition'].dt.year\n",
    "#data['first_day_exposition'] = data['first_day_exposition'].dt.date # переводим в целое число"
   ]
  },
  {
   "cell_type": "markdown",
   "metadata": {},
   "source": [
    "Добавим категорию по этажам ('первый', 'последний', 'другой'). Напишем функцию для определения этажа и применим её к столбцу floor."
   ]
  },
  {
   "cell_type": "code",
   "execution_count": 104,
   "metadata": {},
   "outputs": [],
   "source": [
    "def find_floor(row):\n",
    "    floor = row['floor']\n",
    "    if floor == 1:\n",
    "        return('первый')\n",
    "    elif floor == row['floors_total']:\n",
    "        return('последний')\n",
    "    return('другой')\n",
    "\n",
    "data['floor_category'] = data.apply(find_floor, axis=1)\n",
    "\n",
    "#data['floor_category'] = np.where(data['floor'] == 1, 'первый', 'другой')\n",
    "#data['floor_category'] = np.where(data['floor'] == data['floors_total'], 'последний', data['floor_category'])\n"
   ]
  },
  {
   "cell_type": "markdown",
   "metadata": {},
   "source": [
    "Соотношение жилой и общей площади, а также отношение площади кухни к общей"
   ]
  },
  {
   "cell_type": "code",
   "execution_count": 105,
   "metadata": {},
   "outputs": [],
   "source": [
    "#подсчет коэффициентов с округлением до 3 знаков после запятой\n",
    "data['living_total_area'] = round(data['living_area'] / data['total_area'], 3)\n",
    "data['kitchen_total_area'] = round(data['kitchen_area'] / data['total_area'], 3)\n"
   ]
  },
  {
   "cell_type": "markdown",
   "metadata": {},
   "source": [
    "Проверяем что получилось"
   ]
  },
  {
   "cell_type": "code",
   "execution_count": 106,
   "metadata": {},
   "outputs": [
    {
     "data": {
      "text/html": [
       "<div>\n",
       "<style scoped>\n",
       "    .dataframe tbody tr th:only-of-type {\n",
       "        vertical-align: middle;\n",
       "    }\n",
       "\n",
       "    .dataframe tbody tr th {\n",
       "        vertical-align: top;\n",
       "    }\n",
       "\n",
       "    .dataframe thead th {\n",
       "        text-align: right;\n",
       "    }\n",
       "</style>\n",
       "<table border=\"1\" class=\"dataframe\">\n",
       "  <thead>\n",
       "    <tr style=\"text-align: right;\">\n",
       "      <th></th>\n",
       "      <th>last_price</th>\n",
       "      <th>total_area</th>\n",
       "      <th>first_day_exposition</th>\n",
       "      <th>rooms</th>\n",
       "      <th>ceiling_height</th>\n",
       "      <th>floors_total</th>\n",
       "      <th>living_area</th>\n",
       "      <th>floor</th>\n",
       "      <th>kitchen_area</th>\n",
       "      <th>balcony</th>\n",
       "      <th>...</th>\n",
       "      <th>ponds_around3000</th>\n",
       "      <th>ponds_nearest</th>\n",
       "      <th>days_exposition</th>\n",
       "      <th>price_m2</th>\n",
       "      <th>weekday</th>\n",
       "      <th>month</th>\n",
       "      <th>year</th>\n",
       "      <th>floor_category</th>\n",
       "      <th>living_total_area</th>\n",
       "      <th>kitchen_total_area</th>\n",
       "    </tr>\n",
       "  </thead>\n",
       "  <tbody>\n",
       "    <tr>\n",
       "      <td>0</td>\n",
       "      <td>13000</td>\n",
       "      <td>108.00</td>\n",
       "      <td>2019-03-07</td>\n",
       "      <td>3</td>\n",
       "      <td>2.7</td>\n",
       "      <td>16</td>\n",
       "      <td>51.00</td>\n",
       "      <td>8</td>\n",
       "      <td>25.00</td>\n",
       "      <td>0</td>\n",
       "      <td>...</td>\n",
       "      <td>2</td>\n",
       "      <td>755</td>\n",
       "      <td>-1</td>\n",
       "      <td>120.370</td>\n",
       "      <td>3</td>\n",
       "      <td>3</td>\n",
       "      <td>2019</td>\n",
       "      <td>другой</td>\n",
       "      <td>0.472</td>\n",
       "      <td>0.231</td>\n",
       "    </tr>\n",
       "    <tr>\n",
       "      <td>1</td>\n",
       "      <td>3350</td>\n",
       "      <td>40.40</td>\n",
       "      <td>2018-12-04</td>\n",
       "      <td>1</td>\n",
       "      <td>2.8</td>\n",
       "      <td>11</td>\n",
       "      <td>18.60</td>\n",
       "      <td>1</td>\n",
       "      <td>11.00</td>\n",
       "      <td>2</td>\n",
       "      <td>...</td>\n",
       "      <td>0</td>\n",
       "      <td>-1</td>\n",
       "      <td>81</td>\n",
       "      <td>82.921</td>\n",
       "      <td>1</td>\n",
       "      <td>12</td>\n",
       "      <td>2018</td>\n",
       "      <td>первый</td>\n",
       "      <td>0.460</td>\n",
       "      <td>0.272</td>\n",
       "    </tr>\n",
       "    <tr>\n",
       "      <td>2</td>\n",
       "      <td>5196</td>\n",
       "      <td>56.00</td>\n",
       "      <td>2015-08-20</td>\n",
       "      <td>2</td>\n",
       "      <td>2.6</td>\n",
       "      <td>5</td>\n",
       "      <td>34.30</td>\n",
       "      <td>4</td>\n",
       "      <td>8.30</td>\n",
       "      <td>0</td>\n",
       "      <td>...</td>\n",
       "      <td>2</td>\n",
       "      <td>574</td>\n",
       "      <td>558</td>\n",
       "      <td>92.786</td>\n",
       "      <td>3</td>\n",
       "      <td>8</td>\n",
       "      <td>2015</td>\n",
       "      <td>другой</td>\n",
       "      <td>0.612</td>\n",
       "      <td>0.148</td>\n",
       "    </tr>\n",
       "    <tr>\n",
       "      <td>3</td>\n",
       "      <td>64900</td>\n",
       "      <td>159.00</td>\n",
       "      <td>2015-07-24</td>\n",
       "      <td>3</td>\n",
       "      <td>2.6</td>\n",
       "      <td>14</td>\n",
       "      <td>89.80</td>\n",
       "      <td>9</td>\n",
       "      <td>29.80</td>\n",
       "      <td>0</td>\n",
       "      <td>...</td>\n",
       "      <td>3</td>\n",
       "      <td>234</td>\n",
       "      <td>424</td>\n",
       "      <td>408.176</td>\n",
       "      <td>4</td>\n",
       "      <td>7</td>\n",
       "      <td>2015</td>\n",
       "      <td>другой</td>\n",
       "      <td>0.565</td>\n",
       "      <td>0.187</td>\n",
       "    </tr>\n",
       "    <tr>\n",
       "      <td>4</td>\n",
       "      <td>10000</td>\n",
       "      <td>100.00</td>\n",
       "      <td>2018-06-19</td>\n",
       "      <td>2</td>\n",
       "      <td>3.0</td>\n",
       "      <td>14</td>\n",
       "      <td>32.00</td>\n",
       "      <td>13</td>\n",
       "      <td>41.00</td>\n",
       "      <td>0</td>\n",
       "      <td>...</td>\n",
       "      <td>1</td>\n",
       "      <td>48</td>\n",
       "      <td>121</td>\n",
       "      <td>100.000</td>\n",
       "      <td>1</td>\n",
       "      <td>6</td>\n",
       "      <td>2018</td>\n",
       "      <td>другой</td>\n",
       "      <td>0.320</td>\n",
       "      <td>0.410</td>\n",
       "    </tr>\n",
       "    <tr>\n",
       "      <td>5</td>\n",
       "      <td>2890</td>\n",
       "      <td>30.40</td>\n",
       "      <td>2018-09-10</td>\n",
       "      <td>1</td>\n",
       "      <td>2.6</td>\n",
       "      <td>12</td>\n",
       "      <td>14.40</td>\n",
       "      <td>5</td>\n",
       "      <td>9.10</td>\n",
       "      <td>0</td>\n",
       "      <td>...</td>\n",
       "      <td>0</td>\n",
       "      <td>-1</td>\n",
       "      <td>55</td>\n",
       "      <td>95.066</td>\n",
       "      <td>0</td>\n",
       "      <td>9</td>\n",
       "      <td>2018</td>\n",
       "      <td>другой</td>\n",
       "      <td>0.474</td>\n",
       "      <td>0.299</td>\n",
       "    </tr>\n",
       "    <tr>\n",
       "      <td>6</td>\n",
       "      <td>3700</td>\n",
       "      <td>37.30</td>\n",
       "      <td>2017-11-02</td>\n",
       "      <td>1</td>\n",
       "      <td>2.6</td>\n",
       "      <td>26</td>\n",
       "      <td>10.60</td>\n",
       "      <td>6</td>\n",
       "      <td>14.40</td>\n",
       "      <td>1</td>\n",
       "      <td>...</td>\n",
       "      <td>0</td>\n",
       "      <td>-1</td>\n",
       "      <td>155</td>\n",
       "      <td>99.196</td>\n",
       "      <td>3</td>\n",
       "      <td>11</td>\n",
       "      <td>2017</td>\n",
       "      <td>другой</td>\n",
       "      <td>0.284</td>\n",
       "      <td>0.386</td>\n",
       "    </tr>\n",
       "    <tr>\n",
       "      <td>7</td>\n",
       "      <td>7915</td>\n",
       "      <td>71.60</td>\n",
       "      <td>2019-04-18</td>\n",
       "      <td>2</td>\n",
       "      <td>2.8</td>\n",
       "      <td>24</td>\n",
       "      <td>40.50</td>\n",
       "      <td>22</td>\n",
       "      <td>18.90</td>\n",
       "      <td>2</td>\n",
       "      <td>...</td>\n",
       "      <td>0</td>\n",
       "      <td>-1</td>\n",
       "      <td>-1</td>\n",
       "      <td>110.545</td>\n",
       "      <td>3</td>\n",
       "      <td>4</td>\n",
       "      <td>2019</td>\n",
       "      <td>другой</td>\n",
       "      <td>0.566</td>\n",
       "      <td>0.264</td>\n",
       "    </tr>\n",
       "    <tr>\n",
       "      <td>8</td>\n",
       "      <td>2900</td>\n",
       "      <td>33.16</td>\n",
       "      <td>2018-05-23</td>\n",
       "      <td>1</td>\n",
       "      <td>2.6</td>\n",
       "      <td>27</td>\n",
       "      <td>15.43</td>\n",
       "      <td>26</td>\n",
       "      <td>8.81</td>\n",
       "      <td>0</td>\n",
       "      <td>...</td>\n",
       "      <td>0</td>\n",
       "      <td>-1</td>\n",
       "      <td>189</td>\n",
       "      <td>87.455</td>\n",
       "      <td>2</td>\n",
       "      <td>5</td>\n",
       "      <td>2018</td>\n",
       "      <td>другой</td>\n",
       "      <td>0.465</td>\n",
       "      <td>0.266</td>\n",
       "    </tr>\n",
       "    <tr>\n",
       "      <td>9</td>\n",
       "      <td>5400</td>\n",
       "      <td>61.00</td>\n",
       "      <td>2017-02-26</td>\n",
       "      <td>3</td>\n",
       "      <td>2.5</td>\n",
       "      <td>9</td>\n",
       "      <td>43.60</td>\n",
       "      <td>7</td>\n",
       "      <td>6.50</td>\n",
       "      <td>2</td>\n",
       "      <td>...</td>\n",
       "      <td>0</td>\n",
       "      <td>-1</td>\n",
       "      <td>289</td>\n",
       "      <td>88.525</td>\n",
       "      <td>6</td>\n",
       "      <td>2</td>\n",
       "      <td>2017</td>\n",
       "      <td>другой</td>\n",
       "      <td>0.715</td>\n",
       "      <td>0.107</td>\n",
       "    </tr>\n",
       "  </tbody>\n",
       "</table>\n",
       "<p>10 rows × 24 columns</p>\n",
       "</div>"
      ],
      "text/plain": [
       "   last_price  total_area first_day_exposition  rooms  ceiling_height  \\\n",
       "0       13000      108.00           2019-03-07      3             2.7   \n",
       "1        3350       40.40           2018-12-04      1             2.8   \n",
       "2        5196       56.00           2015-08-20      2             2.6   \n",
       "3       64900      159.00           2015-07-24      3             2.6   \n",
       "4       10000      100.00           2018-06-19      2             3.0   \n",
       "5        2890       30.40           2018-09-10      1             2.6   \n",
       "6        3700       37.30           2017-11-02      1             2.6   \n",
       "7        7915       71.60           2019-04-18      2             2.8   \n",
       "8        2900       33.16           2018-05-23      1             2.6   \n",
       "9        5400       61.00           2017-02-26      3             2.5   \n",
       "\n",
       "   floors_total  living_area  floor  kitchen_area  balcony  ...  \\\n",
       "0            16        51.00      8         25.00        0  ...   \n",
       "1            11        18.60      1         11.00        2  ...   \n",
       "2             5        34.30      4          8.30        0  ...   \n",
       "3            14        89.80      9         29.80        0  ...   \n",
       "4            14        32.00     13         41.00        0  ...   \n",
       "5            12        14.40      5          9.10        0  ...   \n",
       "6            26        10.60      6         14.40        1  ...   \n",
       "7            24        40.50     22         18.90        2  ...   \n",
       "8            27        15.43     26          8.81        0  ...   \n",
       "9             9        43.60      7          6.50        2  ...   \n",
       "\n",
       "  ponds_around3000  ponds_nearest  days_exposition  price_m2  weekday  month  \\\n",
       "0                2            755               -1   120.370        3      3   \n",
       "1                0             -1               81    82.921        1     12   \n",
       "2                2            574              558    92.786        3      8   \n",
       "3                3            234              424   408.176        4      7   \n",
       "4                1             48              121   100.000        1      6   \n",
       "5                0             -1               55    95.066        0      9   \n",
       "6                0             -1              155    99.196        3     11   \n",
       "7                0             -1               -1   110.545        3      4   \n",
       "8                0             -1              189    87.455        2      5   \n",
       "9                0             -1              289    88.525        6      2   \n",
       "\n",
       "   year  floor_category  living_total_area  kitchen_total_area  \n",
       "0  2019          другой              0.472               0.231  \n",
       "1  2018          первый              0.460               0.272  \n",
       "2  2015          другой              0.612               0.148  \n",
       "3  2015          другой              0.565               0.187  \n",
       "4  2018          другой              0.320               0.410  \n",
       "5  2018          другой              0.474               0.299  \n",
       "6  2017          другой              0.284               0.386  \n",
       "7  2019          другой              0.566               0.264  \n",
       "8  2018          другой              0.465               0.266  \n",
       "9  2017          другой              0.715               0.107  \n",
       "\n",
       "[10 rows x 24 columns]"
      ]
     },
     "execution_count": 106,
     "metadata": {},
     "output_type": "execute_result"
    }
   ],
   "source": [
    "data.head(10)"
   ]
  },
  {
   "cell_type": "markdown",
   "metadata": {},
   "source": [
    "## Исследовательский анализ данных"
   ]
  },
  {
   "cell_type": "markdown",
   "metadata": {},
   "source": [
    "Изучите следующие параметры: площадь, цена, число комнат, высота потолков. Постройте гистограммы для каждого параметра."
   ]
  },
  {
   "cell_type": "code",
   "execution_count": 107,
   "metadata": {},
   "outputs": [
    {
     "data": {
      "text/html": [
       "<div>\n",
       "<style scoped>\n",
       "    .dataframe tbody tr th:only-of-type {\n",
       "        vertical-align: middle;\n",
       "    }\n",
       "\n",
       "    .dataframe tbody tr th {\n",
       "        vertical-align: top;\n",
       "    }\n",
       "\n",
       "    .dataframe thead th {\n",
       "        text-align: right;\n",
       "    }\n",
       "</style>\n",
       "<table border=\"1\" class=\"dataframe\">\n",
       "  <thead>\n",
       "    <tr style=\"text-align: right;\">\n",
       "      <th></th>\n",
       "      <th>total_area</th>\n",
       "      <th>last_price</th>\n",
       "      <th>rooms</th>\n",
       "      <th>ceiling_height</th>\n",
       "    </tr>\n",
       "  </thead>\n",
       "  <tbody>\n",
       "    <tr>\n",
       "      <td>count</td>\n",
       "      <td>23336.000000</td>\n",
       "      <td>23336.000000</td>\n",
       "      <td>23336.000000</td>\n",
       "      <td>23336.000000</td>\n",
       "    </tr>\n",
       "    <tr>\n",
       "      <td>mean</td>\n",
       "      <td>60.332929</td>\n",
       "      <td>6516.599417</td>\n",
       "      <td>2.073620</td>\n",
       "      <td>2.739643</td>\n",
       "    </tr>\n",
       "    <tr>\n",
       "      <td>std</td>\n",
       "      <td>35.510359</td>\n",
       "      <td>10848.408291</td>\n",
       "      <td>1.075976</td>\n",
       "      <td>0.755393</td>\n",
       "    </tr>\n",
       "    <tr>\n",
       "      <td>min</td>\n",
       "      <td>13.000000</td>\n",
       "      <td>12.000000</td>\n",
       "      <td>0.000000</td>\n",
       "      <td>1.000000</td>\n",
       "    </tr>\n",
       "    <tr>\n",
       "      <td>25%</td>\n",
       "      <td>40.000000</td>\n",
       "      <td>3425.000000</td>\n",
       "      <td>1.000000</td>\n",
       "      <td>2.600000</td>\n",
       "    </tr>\n",
       "    <tr>\n",
       "      <td>50%</td>\n",
       "      <td>52.000000</td>\n",
       "      <td>4646.500000</td>\n",
       "      <td>2.000000</td>\n",
       "      <td>2.600000</td>\n",
       "    </tr>\n",
       "    <tr>\n",
       "      <td>75%</td>\n",
       "      <td>69.800000</td>\n",
       "      <td>6760.000000</td>\n",
       "      <td>3.000000</td>\n",
       "      <td>2.800000</td>\n",
       "    </tr>\n",
       "    <tr>\n",
       "      <td>max</td>\n",
       "      <td>900.000000</td>\n",
       "      <td>763000.000000</td>\n",
       "      <td>19.000000</td>\n",
       "      <td>32.000000</td>\n",
       "    </tr>\n",
       "  </tbody>\n",
       "</table>\n",
       "</div>"
      ],
      "text/plain": [
       "         total_area     last_price         rooms  ceiling_height\n",
       "count  23336.000000   23336.000000  23336.000000    23336.000000\n",
       "mean      60.332929    6516.599417      2.073620        2.739643\n",
       "std       35.510359   10848.408291      1.075976        0.755393\n",
       "min       13.000000      12.000000      0.000000        1.000000\n",
       "25%       40.000000    3425.000000      1.000000        2.600000\n",
       "50%       52.000000    4646.500000      2.000000        2.600000\n",
       "75%       69.800000    6760.000000      3.000000        2.800000\n",
       "max      900.000000  763000.000000     19.000000       32.000000"
      ]
     },
     "execution_count": 107,
     "metadata": {},
     "output_type": "execute_result"
    }
   ],
   "source": [
    "data[['total_area', 'last_price', 'rooms', 'ceiling_height']].describe()"
   ]
  },
  {
   "cell_type": "markdown",
   "metadata": {},
   "source": [
    "По предварительному анализу видим:\n",
    "\n",
    "- площади квартиры есть как 13 кв.м., так и 900 кв.м. Но среднее значение похоже на правду;\n",
    "- по цене за квартиру есть варианты за 12 тысяч рублей, и за 763 млн.рублей;\n",
    "- число комнат от 0 (студия) до 19. Возможно, это общежития или нежилые помещения;\n",
    "- высота потолков от 1 до 32 метров.\n"
   ]
  },
  {
   "cell_type": "markdown",
   "metadata": {},
   "source": [
    "<b>Изучите следующие параметры: площадь, цена, число комнат, высота потолков. Постройте гистограммы для каждого параметра.</b>"
   ]
  },
  {
   "cell_type": "code",
   "execution_count": 175,
   "metadata": {},
   "outputs": [],
   "source": [
    "def show_hist(data, column, bins, title, xlabel, arange, step, xlim):\n",
    "    print(data[column].min())\n",
    "    print(data[column].max())\n",
    "    \n",
    "    fig = plt.figure(figsize=(16,8))\n",
    "    n, bins, patches = plt.hist(data[column], bins=bins, ec='black')\n",
    "    plt.xticks(bins)\n",
    "    plt.yticks(np.arange(0, arange, step=step))\n",
    "    plt.title(title, fontsize = 18)\n",
    "    plt.xlabel(xlabel)\n",
    "    plt.ylabel(\"Количество\")\n",
    "    plt.xlim(xlim)\n",
    "\n",
    "def show_plot(data, column, title, xlabel, arange, step, xlim):\n",
    "    sns.boxplot(data[column], orient=\"h\")\n",
    "    plt.xticks(np.arange(0, arange, step=step))\n",
    "    plt.title(title)\n",
    "    plt.xlabel(xlabel)\n",
    "    plt.xlim(xlim)"
   ]
  },
  {
   "cell_type": "code",
   "execution_count": 159,
   "metadata": {},
   "outputs": [
    {
     "name": "stdout",
     "output_type": "stream",
     "text": [
      "13.0\n",
      "900.0\n"
     ]
    },
    {
     "data": {
      "image/png": "[encoded data removed]",
      "text/plain": [
       "<Figure size 1152x576 with 1 Axes>"
      ]
     },
     "metadata": {
      "needs_background": "light"
     },
     "output_type": "display_data"
    }
   ],
   "source": [
    "show_hist(data, 'total_area', 120, \"Распределение по площади\", \"Площадь\", arange=4000, step=200), xlim=(10, 300))\n"
   ]
  },
  {
   "cell_type": "code",
   "execution_count": 176,
   "metadata": {},
   "outputs": [
    {
     "data": {
      "image/png": "[encoded data removed]",
      "text/plain": [
       "<Figure size 432x288 with 1 Axes>"
      ]
     },
     "metadata": {
      "needs_background": "light"
     },
     "output_type": "display_data"
    }
   ],
   "source": [
    "show_plot(data, 'total_area', \"Распределение по площади\", \"Площадь\", arange=300, step=10, xlim=(0, 200))\n"
   ]
  },
  {
   "cell_type": "markdown",
   "metadata": {},
   "source": [
    "<b>Вывод</b> \n",
    "\n",
    "Гистограмма по столбцу total_area выглядит правдоподобно - квартир площадью менее 20 кв.м почти нет, большая доля квартир имеет площадь 30-70 кв.м, также видим мощный пик у значения 45-50 кв.м. После значения 190 кв.м число квартир стремительно убывает. Есть квартиры и по 400 кв.м, но это единичные выбросы. Избавимся от всех выбивающихся значений."
   ]
  },
  {
   "cell_type": "code",
   "execution_count": 177,
   "metadata": {},
   "outputs": [],
   "source": [
    "good_data = data.query('total_area >= 15 and total_area <= 200')\n"
   ]
  },
  {
   "cell_type": "code",
   "execution_count": 178,
   "metadata": {},
   "outputs": [
    {
     "name": "stdout",
     "output_type": "stream",
     "text": [
      "12\n",
      "763000\n"
     ]
    },
    {
     "data": {
      "image/png": "[encoded data removed]",
      "text/plain": [
       "<Figure size 1152x576 with 1 Axes>"
      ]
     },
     "metadata": {
      "needs_background": "light"
     },
     "output_type": "display_data"
    }
   ],
   "source": [
    "show_hist(data, 'last_price', 400, \"Распределение по цене\", \"Цена\", arange=12000, step=2000, xlim=(-500, 50000))\n"
   ]
  },
  {
   "cell_type": "code",
   "execution_count": 179,
   "metadata": {},
   "outputs": [
    {
     "data": {
      "image/png": "[encoded data removed]",
      "text/plain": [
       "<Figure size 432x288 with 1 Axes>"
      ]
     },
     "metadata": {
      "needs_background": "light"
     },
     "output_type": "display_data"
    }
   ],
   "source": [
    "show_plot(data, 'last_price', \"Распределение по цене\", \"Цена\", arange=50000, step=2000, xlim=(-500, 20000))\n"
   ]
  },
  {
   "cell_type": "markdown",
   "metadata": {},
   "source": [
    "<b>Вывод</b> \n",
    "\n",
    "Цена на квартиры лежит в промежутке от 2 до 13 млн. Большая часть квартир продается за цену в промежутке между 3 и 7 млн. Опять же, есть выбросы. Нормальные значения находятся в интервале от нуля до 12 млн. Оставим объявления до 20 млн."
   ]
  },
  {
   "cell_type": "code",
   "execution_count": 43,
   "metadata": {},
   "outputs": [],
   "source": [
    "good_data = good_data.query('last_price >= 15 and last_price <= 20000')\n"
   ]
  },
  {
   "cell_type": "code",
   "execution_count": 162,
   "metadata": {},
   "outputs": [
    {
     "name": "stdout",
     "output_type": "stream",
     "text": [
      "0\n",
      "19\n"
     ]
    },
    {
     "data": {
      "image/png": "[encoded data removed]",
      "text/plain": [
       "<Figure size 1152x576 with 1 Axes>"
      ]
     },
     "metadata": {
      "needs_background": "light"
     },
     "output_type": "display_data"
    }
   ],
   "source": [
    "show_hist(data, 'rooms', 19, \"Распределение по количеству комнат\", \"Количество комнат\", arange=8000, step=1000, xlim=(-1, 20))\n"
   ]
  },
  {
   "cell_type": "code",
   "execution_count": 182,
   "metadata": {},
   "outputs": [
    {
     "data": {
      "image/png": "[encoded data removed]",
      "text/plain": [
       "<Figure size 432x288 with 1 Axes>"
      ]
     },
     "metadata": {
      "needs_background": "light"
     },
     "output_type": "display_data"
    }
   ],
   "source": [
    "show_plot(data, 'rooms', \"Распределение по количеству комнат\", \"Количество комнат\", arange=20, step=1, xlim=(-2, 20))\n"
   ]
  },
  {
   "cell_type": "markdown",
   "metadata": {},
   "source": [
    "<b>Вывод</b>\n",
    "\n",
    "2/3 квартир имеют 1 или 2 комнаты, чуть меньший процент имеют 3 комнаты и небольшое количество - 4. Есть и квартиры, имеющие больше комнат, но их процент сильно ниже. Нормальные значения - от 0 до 6, оставим только их."
   ]
  },
  {
   "cell_type": "code",
   "execution_count": 46,
   "metadata": {},
   "outputs": [],
   "source": [
    "good_data = good_data.query('rooms >= 0 and rooms <= 6')"
   ]
  },
  {
   "cell_type": "code",
   "execution_count": 163,
   "metadata": {},
   "outputs": [
    {
     "name": "stdout",
     "output_type": "stream",
     "text": [
      "1.0\n",
      "32.0\n"
     ]
    },
    {
     "data": {
      "image/png": "[encoded data removed]",
      "text/plain": [
       "<Figure size 1152x576 with 1 Axes>"
      ]
     },
     "metadata": {
      "needs_background": "light"
     },
     "output_type": "display_data"
    }
   ],
   "source": [
    "show_hist(data, 'ceiling_height', 100, \"Распределение по высоте потолков\", \"Высота потолков\", arange=15000, step=1000, xlim=(0, 10))\n"
   ]
  },
  {
   "cell_type": "code",
   "execution_count": 183,
   "metadata": {},
   "outputs": [
    {
     "data": {
      "image/png": "[encoded data removed]",
      "text/plain": [
       "<Figure size 432x288 with 1 Axes>"
      ]
     },
     "metadata": {
      "needs_background": "light"
     },
     "output_type": "display_data"
    }
   ],
   "source": [
    "show_plot(data, 'ceiling_height', \"Распределение по высоте потолков\", \"Высота потолков\", arange=6, step=0.2, xlim=(1, 5))\n"
   ]
  },
  {
   "cell_type": "markdown",
   "metadata": {},
   "source": [
    "<b>Вывод</b>\n",
    "\n",
    "Квартиры, в большинстве своем, имеют потолки от 2,6-2,8м (самый популярный вариант) до 3,2м. Остальные случаи - эксклюзивы.\n",
    "Избавимся от всех значений, меньше 2.2 и больше 4."
   ]
  },
  {
   "cell_type": "code",
   "execution_count": 184,
   "metadata": {},
   "outputs": [],
   "source": [
    "good_data = good_data.query('ceiling_height >= 2.2 and ceiling_height <= 4')"
   ]
  },
  {
   "cell_type": "markdown",
   "metadata": {},
   "source": [
    "<B>Изучите время продажи квартиры. Постройте гистограмму. Посчитайте среднее и медиану. Опишите, сколько обычно занимает продажа. Когда можно считать, что продажи прошли очень быстро, а когда необычно долго?</b>"
   ]
  },
  {
   "cell_type": "code",
   "execution_count": 185,
   "metadata": {},
   "outputs": [
    {
     "data": {
      "text/html": [
       "<div>\n",
       "<style scoped>\n",
       "    .dataframe tbody tr th:only-of-type {\n",
       "        vertical-align: middle;\n",
       "    }\n",
       "\n",
       "    .dataframe tbody tr th {\n",
       "        vertical-align: top;\n",
       "    }\n",
       "\n",
       "    .dataframe thead th {\n",
       "        text-align: right;\n",
       "    }\n",
       "</style>\n",
       "<table border=\"1\" class=\"dataframe\">\n",
       "  <thead>\n",
       "    <tr style=\"text-align: right;\">\n",
       "      <th></th>\n",
       "      <th>days_exposition</th>\n",
       "    </tr>\n",
       "  </thead>\n",
       "  <tbody>\n",
       "    <tr>\n",
       "      <td>count</td>\n",
       "      <td>23336.000000</td>\n",
       "    </tr>\n",
       "    <tr>\n",
       "      <td>mean</td>\n",
       "      <td>156.996229</td>\n",
       "    </tr>\n",
       "    <tr>\n",
       "      <td>std</td>\n",
       "      <td>214.039261</td>\n",
       "    </tr>\n",
       "    <tr>\n",
       "      <td>min</td>\n",
       "      <td>-1.000000</td>\n",
       "    </tr>\n",
       "    <tr>\n",
       "      <td>25%</td>\n",
       "      <td>23.000000</td>\n",
       "    </tr>\n",
       "    <tr>\n",
       "      <td>50%</td>\n",
       "      <td>74.000000</td>\n",
       "    </tr>\n",
       "    <tr>\n",
       "      <td>75%</td>\n",
       "      <td>199.000000</td>\n",
       "    </tr>\n",
       "    <tr>\n",
       "      <td>max</td>\n",
       "      <td>1580.000000</td>\n",
       "    </tr>\n",
       "  </tbody>\n",
       "</table>\n",
       "</div>"
      ],
      "text/plain": [
       "       days_exposition\n",
       "count     23336.000000\n",
       "mean        156.996229\n",
       "std         214.039261\n",
       "min          -1.000000\n",
       "25%          23.000000\n",
       "50%          74.000000\n",
       "75%         199.000000\n",
       "max        1580.000000"
      ]
     },
     "execution_count": 185,
     "metadata": {},
     "output_type": "execute_result"
    }
   ],
   "source": [
    "data['days_exposition'].describe().to_frame()"
   ]
  },
  {
   "cell_type": "code",
   "execution_count": 186,
   "metadata": {},
   "outputs": [
    {
     "data": {
      "text/plain": [
       "74.0"
      ]
     },
     "execution_count": 186,
     "metadata": {},
     "output_type": "execute_result"
    }
   ],
   "source": [
    "data['days_exposition'].median()"
   ]
  },
  {
   "cell_type": "markdown",
   "metadata": {},
   "source": [
    "Среднее время продажи - 5,5 месяцев, 170 дней. Медианное - 95 дней.\n",
    "Три месяца для продажи квартиры это очень неплохо."
   ]
  },
  {
   "cell_type": "code",
   "execution_count": 187,
   "metadata": {},
   "outputs": [
    {
     "data": {
      "text/plain": [
       "<matplotlib.axes._subplots.AxesSubplot at 0x7fe8173fe5d0>"
      ]
     },
     "execution_count": 187,
     "metadata": {},
     "output_type": "execute_result"
    },
    {
     "data": {
      "image/png": "[encoded data removed]",
      "text/plain": [
       "<Figure size 720x360 with 1 Axes>"
      ]
     },
     "metadata": {
      "needs_background": "light"
     },
     "output_type": "display_data"
    }
   ],
   "source": [
    "data['days_exposition'].hist(bins=70, figsize=(10,5), ec='black')"
   ]
  },
  {
   "cell_type": "code",
   "execution_count": 188,
   "metadata": {},
   "outputs": [
    {
     "data": {
      "text/plain": [
       "<matplotlib.axes._subplots.AxesSubplot at 0x7fe817614b50>"
      ]
     },
     "execution_count": 188,
     "metadata": {},
     "output_type": "execute_result"
    },
    {
     "data": {
      "image/png": "[encoded data removed]",
      "text/plain": [
       "<Figure size 432x288 with 1 Axes>"
      ]
     },
     "metadata": {
      "needs_background": "light"
     },
     "output_type": "display_data"
    }
   ],
   "source": [
    "data.boxplot(column='days_exposition')"
   ]
  },
  {
   "cell_type": "markdown",
   "metadata": {},
   "source": [
    "Большая часть квартир продавалась в течение первых 100 дней, есть и квартиры, которые продавались до года. Чем дальше, тем реже встречаются такие случаи. Уберем выбросы и посмотрим более детально."
   ]
  },
  {
   "cell_type": "code",
   "execution_count": 189,
   "metadata": {},
   "outputs": [
    {
     "data": {
      "text/plain": [
       "<matplotlib.axes._subplots.AxesSubplot at 0x7fe8175f1290>"
      ]
     },
     "execution_count": 189,
     "metadata": {},
     "output_type": "execute_result"
    },
    {
     "data": {
      "image/png": "[encoded data removed]",
      "text/plain": [
       "<Figure size 720x216 with 1 Axes>"
      ]
     },
     "metadata": {
      "needs_background": "light"
     },
     "output_type": "display_data"
    }
   ],
   "source": [
    "data.query('days_exposition < 500')['days_exposition'].hist(bins=70, figsize=(10,3), ec='black')"
   ]
  },
  {
   "cell_type": "code",
   "execution_count": 190,
   "metadata": {},
   "outputs": [
    {
     "data": {
      "text/plain": [
       "<matplotlib.axes._subplots.AxesSubplot at 0x7fe817b0e790>"
      ]
     },
     "execution_count": 190,
     "metadata": {},
     "output_type": "execute_result"
    },
    {
     "data": {
      "image/png": "[encoded data removed]",
      "text/plain": [
       "<Figure size 720x216 with 1 Axes>"
      ]
     },
     "metadata": {
      "needs_background": "light"
     },
     "output_type": "display_data"
    }
   ],
   "source": [
    "data.query('40 < days_exposition < 100')['days_exposition'].hist(bins=70, figsize=(10,3), ec='black')"
   ]
  },
  {
   "cell_type": "markdown",
   "metadata": {},
   "source": [
    "Странные выбросы в районе 45, 60 дней и 95. Можно предположить, что в эти дни происходит автоматичекое закрытие объявлений. Исключим  эти продажи из среза, так как они искажают картину с реально проданными квартирами."
   ]
  },
  {
   "cell_type": "code",
   "execution_count": 191,
   "metadata": {},
   "outputs": [],
   "source": [
    "good_data = good_data.query('days_exposition not in [45, 60, 95]')"
   ]
  },
  {
   "cell_type": "markdown",
   "metadata": {},
   "source": [
    "Можно считать, что сделка прошла быстро, если продажа состоялась в срок до 45 дней после подачи объявления, а если сделка состоялась через 200 и больше дней - она длилась долго."
   ]
  },
  {
   "cell_type": "markdown",
   "metadata": {},
   "source": [
    "<b>Какие факторы больше всего влияют на стоимость квартиры? Изучите, зависит ли цена от площади, числа комнат, удалённости от центра. Изучите зависимость цены от того, на каком этаже расположена квартира: первом, последнем или другом. Также изучите зависимость от даты размещения: дня недели, месяца и года.</b>"
   ]
  },
  {
   "cell_type": "code",
   "execution_count": 192,
   "metadata": {},
   "outputs": [],
   "source": [
    "def draw_plot(data, y, x):\n",
    "    data.plot(y=y, x=x, kind='scatter', alpha=0.05)"
   ]
  },
  {
   "cell_type": "code",
   "execution_count": 195,
   "metadata": {},
   "outputs": [
    {
     "data": {
      "text/html": [
       "<div>\n",
       "<style scoped>\n",
       "    .dataframe tbody tr th:only-of-type {\n",
       "        vertical-align: middle;\n",
       "    }\n",
       "\n",
       "    .dataframe tbody tr th {\n",
       "        vertical-align: top;\n",
       "    }\n",
       "\n",
       "    .dataframe thead th {\n",
       "        text-align: right;\n",
       "    }\n",
       "</style>\n",
       "<table border=\"1\" class=\"dataframe\">\n",
       "  <thead>\n",
       "    <tr style=\"text-align: right;\">\n",
       "      <th></th>\n",
       "      <th>price_m2</th>\n",
       "      <th>rooms</th>\n",
       "      <th>total_area</th>\n",
       "    </tr>\n",
       "  </thead>\n",
       "  <tbody>\n",
       "    <tr>\n",
       "      <td>price_m2</td>\n",
       "      <td>1.000000</td>\n",
       "      <td>-0.000315</td>\n",
       "      <td>0.252131</td>\n",
       "    </tr>\n",
       "    <tr>\n",
       "      <td>rooms</td>\n",
       "      <td>-0.000315</td>\n",
       "      <td>1.000000</td>\n",
       "      <td>0.788492</td>\n",
       "    </tr>\n",
       "    <tr>\n",
       "      <td>total_area</td>\n",
       "      <td>0.252131</td>\n",
       "      <td>0.788492</td>\n",
       "      <td>1.000000</td>\n",
       "    </tr>\n",
       "  </tbody>\n",
       "</table>\n",
       "</div>"
      ],
      "text/plain": [
       "            price_m2     rooms  total_area\n",
       "price_m2    1.000000 -0.000315    0.252131\n",
       "rooms      -0.000315  1.000000    0.788492\n",
       "total_area  0.252131  0.788492    1.000000"
      ]
     },
     "execution_count": 195,
     "metadata": {},
     "output_type": "execute_result"
    }
   ],
   "source": [
    "index = good_data.index \n",
    "price_rooms_area = good_data.pivot_table(index=index, values=['total_area','rooms', 'price_m2'], aggfunc='mean')\n",
    "price_rooms_area.corr()"
   ]
  },
  {
   "cell_type": "code",
   "execution_count": 197,
   "metadata": {},
   "outputs": [
    {
     "data": {
      "text/html": [
       "<div>\n",
       "<style scoped>\n",
       "    .dataframe tbody tr th:only-of-type {\n",
       "        vertical-align: middle;\n",
       "    }\n",
       "\n",
       "    .dataframe tbody tr th {\n",
       "        vertical-align: top;\n",
       "    }\n",
       "\n",
       "    .dataframe thead th {\n",
       "        text-align: right;\n",
       "    }\n",
       "</style>\n",
       "<table border=\"1\" class=\"dataframe\">\n",
       "  <thead>\n",
       "    <tr style=\"text-align: right;\">\n",
       "      <th></th>\n",
       "      <th>last_price</th>\n",
       "      <th>price_m2</th>\n",
       "      <th>total_area</th>\n",
       "      <th>rooms</th>\n",
       "      <th>cityCenters_nearest</th>\n",
       "    </tr>\n",
       "  </thead>\n",
       "  <tbody>\n",
       "    <tr>\n",
       "      <td>last_price</td>\n",
       "      <td>1.000000</td>\n",
       "      <td>0.796688</td>\n",
       "      <td>0.663279</td>\n",
       "      <td>0.385287</td>\n",
       "      <td>-0.046141</td>\n",
       "    </tr>\n",
       "    <tr>\n",
       "      <td>price_m2</td>\n",
       "      <td>0.796688</td>\n",
       "      <td>1.000000</td>\n",
       "      <td>0.252131</td>\n",
       "      <td>-0.000315</td>\n",
       "      <td>0.047854</td>\n",
       "    </tr>\n",
       "    <tr>\n",
       "      <td>total_area</td>\n",
       "      <td>0.663279</td>\n",
       "      <td>0.252131</td>\n",
       "      <td>1.000000</td>\n",
       "      <td>0.788492</td>\n",
       "      <td>-0.077274</td>\n",
       "    </tr>\n",
       "    <tr>\n",
       "      <td>rooms</td>\n",
       "      <td>0.385287</td>\n",
       "      <td>-0.000315</td>\n",
       "      <td>0.788492</td>\n",
       "      <td>1.000000</td>\n",
       "      <td>-0.056178</td>\n",
       "    </tr>\n",
       "    <tr>\n",
       "      <td>cityCenters_nearest</td>\n",
       "      <td>-0.046141</td>\n",
       "      <td>0.047854</td>\n",
       "      <td>-0.077274</td>\n",
       "      <td>-0.056178</td>\n",
       "      <td>1.000000</td>\n",
       "    </tr>\n",
       "  </tbody>\n",
       "</table>\n",
       "</div>"
      ],
      "text/plain": [
       "                     last_price  price_m2  total_area     rooms  \\\n",
       "last_price             1.000000  0.796688    0.663279  0.385287   \n",
       "price_m2               0.796688  1.000000    0.252131 -0.000315   \n",
       "total_area             0.663279  0.252131    1.000000  0.788492   \n",
       "rooms                  0.385287 -0.000315    0.788492  1.000000   \n",
       "cityCenters_nearest   -0.046141  0.047854   -0.077274 -0.056178   \n",
       "\n",
       "                     cityCenters_nearest  \n",
       "last_price                     -0.046141  \n",
       "price_m2                        0.047854  \n",
       "total_area                     -0.077274  \n",
       "rooms                          -0.056178  \n",
       "cityCenters_nearest             1.000000  "
      ]
     },
     "execution_count": 197,
     "metadata": {},
     "output_type": "execute_result"
    }
   ],
   "source": [
    "good_data[['last_price', 'price_m2', 'total_area', 'rooms', 'cityCenters_nearest']].corr()"
   ]
  },
  {
   "cell_type": "code",
   "execution_count": 199,
   "metadata": {},
   "outputs": [
    {
     "data": {
      "image/png": "[encoded data removed]",
      "text/plain": [
       "<Figure size 432x288 with 1 Axes>"
      ]
     },
     "metadata": {
      "needs_background": "light"
     },
     "output_type": "display_data"
    }
   ],
   "source": [
    "draw_plot(price_rooms_area, 'price_m2', 'rooms')"
   ]
  },
  {
   "cell_type": "code",
   "execution_count": 200,
   "metadata": {},
   "outputs": [
    {
     "data": {
      "text/plain": [
       "<matplotlib.axes._subplots.AxesSubplot at 0x7fe8183490d0>"
      ]
     },
     "execution_count": 200,
     "metadata": {},
     "output_type": "execute_result"
    },
    {
     "data": {
      "image/png": "[encoded data removed]",
      "text/plain": [
       "<Figure size 432x288 with 1 Axes>"
      ]
     },
     "metadata": {
      "needs_background": "light"
     },
     "output_type": "display_data"
    }
   ],
   "source": [
    "sns.scatterplot(x=\"rooms\", y=\"price_m2\", data=price_rooms_area)"
   ]
  },
  {
   "cell_type": "code",
   "execution_count": 201,
   "metadata": {},
   "outputs": [
    {
     "data": {
      "image/png": "[encoded data removed]",
      "text/plain": [
       "<Figure size 432x288 with 1 Axes>"
      ]
     },
     "metadata": {
      "needs_background": "light"
     },
     "output_type": "display_data"
    }
   ],
   "source": [
    "draw_plot(price_rooms_area, 'price_m2', 'total_area')"
   ]
  },
  {
   "cell_type": "code",
   "execution_count": 202,
   "metadata": {},
   "outputs": [
    {
     "data": {
      "text/plain": [
       "<matplotlib.axes._subplots.AxesSubplot at 0x7fe80ecfe510>"
      ]
     },
     "execution_count": 202,
     "metadata": {},
     "output_type": "execute_result"
    },
    {
     "data": {
      "image/png": "[encoded data removed]",
      "text/plain": [
       "<Figure size 432x288 with 1 Axes>"
      ]
     },
     "metadata": {
      "needs_background": "light"
     },
     "output_type": "display_data"
    }
   ],
   "source": [
    "sns.scatterplot(x=\"total_area\", y=\"price_m2\", data=price_rooms_area, alpha=0.05)"
   ]
  },
  {
   "cell_type": "markdown",
   "metadata": {},
   "source": [
    "Видим, что стоимость средне зависит от общей площади, и в меньшей степени от количества комнат. Как наблюдение - больше всего в таблице зависимость между количеством комнат и площадью, что достаточно логично.\n",
    "\n",
    "Тем не менее, с увеличением количества комнат после двух цена за кв.м падает. А если рассматриваем общую площадь, то стоимость за квадратный метр падает с каждым метром при увеличении площади после 75 кв.м"
   ]
  },
  {
   "cell_type": "code",
   "execution_count": 203,
   "metadata": {},
   "outputs": [
    {
     "data": {
      "text/plain": [
       "-0.20594821174583597"
      ]
     },
     "execution_count": 203,
     "metadata": {},
     "output_type": "execute_result"
    }
   ],
   "source": [
    "filtered_data = data.query('cityCenters_nearest != -1')\n",
    "filtered_data['last_price'].corr(filtered_data['cityCenters_nearest'])"
   ]
  },
  {
   "cell_type": "code",
   "execution_count": 204,
   "metadata": {},
   "outputs": [
    {
     "data": {
      "text/plain": [
       "<matplotlib.axes._subplots.AxesSubplot at 0x7fe8173c6410>"
      ]
     },
     "execution_count": 204,
     "metadata": {},
     "output_type": "execute_result"
    },
    {
     "data": {
      "image/png": "[encoded data removed]",
      "text/plain": [
       "<Figure size 432x288 with 1 Axes>"
      ]
     },
     "metadata": {
      "needs_background": "light"
     },
     "output_type": "display_data"
    }
   ],
   "source": [
    "sns.scatterplot(x=\"cityCenters_nearest\", y=\"price_m2\", data=filtered_data, alpha=0.05)"
   ]
  },
  {
   "cell_type": "markdown",
   "metadata": {},
   "source": [
    "Коэффициент корреляции отрицательный. Это значит, что увеличение расстояния от центра связано с уменьшением стоимости квартиры, что подтверждается на графике."
   ]
  },
  {
   "cell_type": "code",
   "execution_count": 205,
   "metadata": {},
   "outputs": [
    {
     "data": {
      "text/plain": [
       "<matplotlib.axes._subplots.AxesSubplot at 0x7fe8174d0290>"
      ]
     },
     "execution_count": 205,
     "metadata": {},
     "output_type": "execute_result"
    },
    {
     "data": {
      "image/png": "[encoded data removed]",
      "text/plain": [
       "<Figure size 648x288 with 1 Axes>"
      ]
     },
     "metadata": {
      "needs_background": "light"
     },
     "output_type": "display_data"
    }
   ],
   "source": [
    "data_filtered = data.groupby('floor_category').median()['last_price'].reset_index().sort_values(by='floor_category')\n",
    "data_filtered.plot(x=\"floor_category\", y=\"last_price\", kind='bar', ec='black', legend=None, fontsize=16, figsize=(9,4))\n",
    "\n"
   ]
  },
  {
   "cell_type": "markdown",
   "metadata": {},
   "source": [
    "Видим, что квартиры, расположенные на первом и последнем этаже, стоят дешевле, чем на любом другом."
   ]
  },
  {
   "cell_type": "code",
   "execution_count": 206,
   "metadata": {},
   "outputs": [],
   "source": [
    "index = good_data.index \n",
    "price_weekday_month_year = good_data.pivot_table(index=index, values=['last_price', 'weekday', 'month', 'year'], aggfunc='mean')\n"
   ]
  },
  {
   "cell_type": "code",
   "execution_count": 207,
   "metadata": {},
   "outputs": [
    {
     "data": {
      "text/plain": [
       "<seaborn.axisgrid.PairGrid at 0x7fe817581e10>"
      ]
     },
     "execution_count": 207,
     "metadata": {},
     "output_type": "execute_result"
    },
    {
     "data": {
      "image/png": "[encoded data removed]",
      "text/plain": [
       "<Figure size 720x720 with 20 Axes>"
      ]
     },
     "metadata": {
      "needs_background": "light"
     },
     "output_type": "display_data"
    }
   ],
   "source": [
    "sns.pairplot(price_weekday_month_year)"
   ]
  },
  {
   "cell_type": "markdown",
   "metadata": {},
   "source": [
    "- зависимость цены от дня недели публикации - в среднем цены на квартиры, объявление о продажи которых опубликовано в будний день, чуть выше, чем цена на квартиры с объявлениями, опубликованными в выходные дни;\n",
    "- зависимость цены от месяца публикации - квартиры, выставленные на продажу в декабре, январе и мае, дешевле всего. Дороже всего - в феврале и ноябре;\n",
    "- зависимость цены от года - можем отметить тенденцию роста цен от года к году, однако дороже всего квартиры стоили в 2017 и 2018 годах."
   ]
  },
  {
   "cell_type": "markdown",
   "metadata": {},
   "source": [
    "<b>Выберите 10 населённых пунктов с наибольшим числом объявлений. Посчитайте среднюю цену квадратного метра в этих населённых пунктах. Выделите населённые пункты с самой высокой и низкой стоимостью жилья. Эти данные можно найти по имени в столбце locality_name.</b>"
   ]
  },
  {
   "cell_type": "code",
   "execution_count": 211,
   "metadata": {},
   "outputs": [
    {
     "data": {
      "text/html": [
       "<div>\n",
       "<style scoped>\n",
       "    .dataframe tbody tr th:only-of-type {\n",
       "        vertical-align: middle;\n",
       "    }\n",
       "\n",
       "    .dataframe tbody tr th {\n",
       "        vertical-align: top;\n",
       "    }\n",
       "\n",
       "    .dataframe thead th {\n",
       "        text-align: right;\n",
       "    }\n",
       "</style>\n",
       "<table border=\"1\" class=\"dataframe\">\n",
       "  <thead>\n",
       "    <tr style=\"text-align: right;\">\n",
       "      <th></th>\n",
       "      <th>count</th>\n",
       "      <th>mean_price</th>\n",
       "    </tr>\n",
       "    <tr>\n",
       "      <th>locality_name</th>\n",
       "      <th></th>\n",
       "      <th></th>\n",
       "    </tr>\n",
       "  </thead>\n",
       "  <tbody>\n",
       "    <tr>\n",
       "      <td>Санкт-Петербург</td>\n",
       "      <td>15497</td>\n",
       "      <td>114.508445</td>\n",
       "    </tr>\n",
       "    <tr>\n",
       "      <td>посёлок Мурино</td>\n",
       "      <td>510</td>\n",
       "      <td>85.448902</td>\n",
       "    </tr>\n",
       "    <tr>\n",
       "      <td>посёлок Шушары</td>\n",
       "      <td>438</td>\n",
       "      <td>78.546995</td>\n",
       "    </tr>\n",
       "    <tr>\n",
       "      <td>Всеволожск</td>\n",
       "      <td>389</td>\n",
       "      <td>68.612879</td>\n",
       "    </tr>\n",
       "    <tr>\n",
       "      <td>Пушкин</td>\n",
       "      <td>368</td>\n",
       "      <td>103.180402</td>\n",
       "    </tr>\n",
       "    <tr>\n",
       "      <td>Колпино</td>\n",
       "      <td>337</td>\n",
       "      <td>75.480540</td>\n",
       "    </tr>\n",
       "    <tr>\n",
       "      <td>посёлок Парголово</td>\n",
       "      <td>326</td>\n",
       "      <td>90.135049</td>\n",
       "    </tr>\n",
       "    <tr>\n",
       "      <td>Гатчина</td>\n",
       "      <td>303</td>\n",
       "      <td>68.625106</td>\n",
       "    </tr>\n",
       "    <tr>\n",
       "      <td>деревня Кудрово</td>\n",
       "      <td>295</td>\n",
       "      <td>92.447393</td>\n",
       "    </tr>\n",
       "    <tr>\n",
       "      <td>Выборг</td>\n",
       "      <td>234</td>\n",
       "      <td>58.303726</td>\n",
       "    </tr>\n",
       "  </tbody>\n",
       "</table>\n",
       "</div>"
      ],
      "text/plain": [
       "                   count  mean_price\n",
       "locality_name                       \n",
       "Санкт-Петербург    15497  114.508445\n",
       "посёлок Мурино       510   85.448902\n",
       "посёлок Шушары       438   78.546995\n",
       "Всеволожск           389   68.612879\n",
       "Пушкин               368  103.180402\n",
       "Колпино              337   75.480540\n",
       "посёлок Парголово    326   90.135049\n",
       "Гатчина              303   68.625106\n",
       "деревня Кудрово      295   92.447393\n",
       "Выборг               234   58.303726"
      ]
     },
     "execution_count": 211,
     "metadata": {},
     "output_type": "execute_result"
    },
    {
     "data": {
      "image/png": "[encoded data removed]",
      "text/plain": [
       "<Figure size 1152x576 with 1 Axes>"
      ]
     },
     "metadata": {
      "needs_background": "light"
     },
     "output_type": "display_data"
    }
   ],
   "source": [
    "top_local_data = data.pivot_table(index='locality_name', values=['price_m2'], aggfunc=['count', 'mean'])\n",
    "top_local_data.columns = 'count', 'mean_price'\n",
    "top_local_data = top_local_data.sort_values(by='count', ascending=False).head(10)\n",
    "top_local_data.plot(y='count', kind='bar', figsize=(16, 8))\n",
    "top_local_data"
   ]
  },
  {
   "cell_type": "markdown",
   "metadata": {},
   "source": [
    "Дороже всего кадратный метр стоит в Санкт-Петербурге и в Пушкине. Чем дальше от города, тем дешевле. В Выборге средняя цена за квадратный метр в 2 раз ниже, чем в Санкт-Петербурге."
   ]
  },
  {
   "cell_type": "markdown",
   "metadata": {},
   "source": [
    "<b>Изучите предложения квартир: для каждой квартиры есть информация о расстоянии до центра. Выделите квартиры в Санкт-Петербурге (locality_name). Ваша задача — выяснить, какая область входит в центр. Создайте столбец с расстоянием до центра в километрах: округлите до целых значений. После этого посчитайте среднюю цену для каждого километра. Постройте график: он должен показывать, как цена зависит от удалённости от центра. Определите границу, где график сильно меняется, — это и будет центральная зона.</b>"
   ]
  },
  {
   "cell_type": "code",
   "execution_count": 70,
   "metadata": {},
   "outputs": [
    {
     "name": "stderr",
     "output_type": "stream",
     "text": [
      "/opt/conda/lib/python3.7/site-packages/ipykernel_launcher.py:2: SettingWithCopyWarning: \n",
      "A value is trying to be set on a copy of a slice from a DataFrame.\n",
      "Try using .loc[row_indexer,col_indexer] = value instead\n",
      "\n",
      "See the caveats in the documentation: http://pandas.pydata.org/pandas-docs/stable/user_guide/indexing.html#returning-a-view-versus-a-copy\n",
      "  \n"
     ]
    }
   ],
   "source": [
    "data_spb = data.query('locality_name == \"Санкт-Петербург\"')\n",
    "data_spb['cityCenters_nearest_km'] = round(data_spb['cityCenters_nearest']/1000, 0).astype(int)\n",
    "pd.set_option('mode.chained_assignment', None)"
   ]
  },
  {
   "cell_type": "code",
   "execution_count": 71,
   "metadata": {},
   "outputs": [
    {
     "data": {
      "text/plain": [
       "<matplotlib.axes._subplots.AxesSubplot at 0x7f9d3834ba50>"
      ]
     },
     "execution_count": 71,
     "metadata": {},
     "output_type": "execute_result"
    },
    {
     "data": {
      "image/png": "[encoded data removed]",
      "text/plain": [
       "<Figure size 432x288 with 1 Axes>"
      ]
     },
     "metadata": {
      "needs_background": "light"
     },
     "output_type": "display_data"
    }
   ],
   "source": [
    "data_spb.groupby('cityCenters_nearest_km')['last_price'].mean().plot(grid=True)"
   ]
  },
  {
   "cell_type": "markdown",
   "metadata": {},
   "source": [
    "По мере удаления от центра цены на квартиры падают. В радиусе 4-7 км от центра видно повышение цены, можно предположить, что это какие-то элитные районы, которые расположены не в центре, но стоимость жилья чуть выше среднего. Далее цена продолжает снижаться и в радиусе 9 км график сильно меняется. Будем считать, что центр Санкт-Петербурга в радиусе 9 км."
   ]
  },
  {
   "cell_type": "markdown",
   "metadata": {},
   "source": [
    "<b>Выделите сегмент квартир в центре. Проанализируйте эту территорию и изучите следующие параметры: площадь, цена, число комнат, высота потолков. Также выделите факторы, которые влияют на стоимость квартиры (число комнат, этаж, удалённость от центра, дата размещения объявления). Сделайте выводы. Отличаются ли они от общих выводов по всему городу?</b>"
   ]
  },
  {
   "cell_type": "code",
   "execution_count": 72,
   "metadata": {},
   "outputs": [
    {
     "data": {
      "text/html": [
       "<div>\n",
       "<style scoped>\n",
       "    .dataframe tbody tr th:only-of-type {\n",
       "        vertical-align: middle;\n",
       "    }\n",
       "\n",
       "    .dataframe tbody tr th {\n",
       "        vertical-align: top;\n",
       "    }\n",
       "\n",
       "    .dataframe thead th {\n",
       "        text-align: right;\n",
       "    }\n",
       "</style>\n",
       "<table border=\"1\" class=\"dataframe\">\n",
       "  <thead>\n",
       "    <tr style=\"text-align: right;\">\n",
       "      <th></th>\n",
       "      <th>total_area</th>\n",
       "      <th>last_price</th>\n",
       "      <th>rooms</th>\n",
       "      <th>ceiling_height</th>\n",
       "    </tr>\n",
       "  </thead>\n",
       "  <tbody>\n",
       "    <tr>\n",
       "      <td>count</td>\n",
       "      <td>4685.000000</td>\n",
       "      <td>4685.000000</td>\n",
       "      <td>4685.000000</td>\n",
       "      <td>4685.00000</td>\n",
       "    </tr>\n",
       "    <tr>\n",
       "      <td>mean</td>\n",
       "      <td>86.421966</td>\n",
       "      <td>13217.494130</td>\n",
       "      <td>2.673853</td>\n",
       "      <td>2.96508</td>\n",
       "    </tr>\n",
       "    <tr>\n",
       "      <td>std</td>\n",
       "      <td>56.779866</td>\n",
       "      <td>22196.817913</td>\n",
       "      <td>1.390744</td>\n",
       "      <td>0.78738</td>\n",
       "    </tr>\n",
       "    <tr>\n",
       "      <td>min</td>\n",
       "      <td>13.000000</td>\n",
       "      <td>12.000000</td>\n",
       "      <td>0.000000</td>\n",
       "      <td>2.00000</td>\n",
       "    </tr>\n",
       "    <tr>\n",
       "      <td>25%</td>\n",
       "      <td>51.000000</td>\n",
       "      <td>5950.000000</td>\n",
       "      <td>2.000000</td>\n",
       "      <td>2.70000</td>\n",
       "    </tr>\n",
       "    <tr>\n",
       "      <td>50%</td>\n",
       "      <td>72.800000</td>\n",
       "      <td>8500.000000</td>\n",
       "      <td>3.000000</td>\n",
       "      <td>3.00000</td>\n",
       "    </tr>\n",
       "    <tr>\n",
       "      <td>75%</td>\n",
       "      <td>102.000000</td>\n",
       "      <td>13000.000000</td>\n",
       "      <td>3.000000</td>\n",
       "      <td>3.10000</td>\n",
       "    </tr>\n",
       "    <tr>\n",
       "      <td>max</td>\n",
       "      <td>900.000000</td>\n",
       "      <td>763000.000000</td>\n",
       "      <td>19.000000</td>\n",
       "      <td>32.00000</td>\n",
       "    </tr>\n",
       "  </tbody>\n",
       "</table>\n",
       "</div>"
      ],
      "text/plain": [
       "        total_area     last_price        rooms  ceiling_height\n",
       "count  4685.000000    4685.000000  4685.000000      4685.00000\n",
       "mean     86.421966   13217.494130     2.673853         2.96508\n",
       "std      56.779866   22196.817913     1.390744         0.78738\n",
       "min      13.000000      12.000000     0.000000         2.00000\n",
       "25%      51.000000    5950.000000     2.000000         2.70000\n",
       "50%      72.800000    8500.000000     3.000000         3.00000\n",
       "75%     102.000000   13000.000000     3.000000         3.10000\n",
       "max     900.000000  763000.000000    19.000000        32.00000"
      ]
     },
     "execution_count": 72,
     "metadata": {},
     "output_type": "execute_result"
    }
   ],
   "source": [
    "data_spb_center = data_spb.query('cityCenters_nearest_km <= 9')\n",
    "data_spb_center[['total_area', 'last_price', 'rooms', 'ceiling_height']].describe()"
   ]
  },
  {
   "cell_type": "code",
   "execution_count": 73,
   "metadata": {},
   "outputs": [
    {
     "data": {
      "text/plain": [
       "<matplotlib.axes._subplots.AxesSubplot at 0x7f9d382b3cd0>"
      ]
     },
     "execution_count": 73,
     "metadata": {},
     "output_type": "execute_result"
    },
    {
     "data": {
      "image/png": "[encoded data removed]",
      "text/plain": [
       "<Figure size 432x288 with 1 Axes>"
      ]
     },
     "metadata": {
      "needs_background": "light"
     },
     "output_type": "display_data"
    }
   ],
   "source": [
    "data_spb_center = data_spb_center.query('last_price < 20000')\n",
    "data_spb_center['total_area'].hist(bins = 50, range=(0, 400), ec='black')\n",
    "                                    "
   ]
  },
  {
   "cell_type": "code",
   "execution_count": 74,
   "metadata": {},
   "outputs": [
    {
     "data": {
      "text/plain": [
       "<matplotlib.axes._subplots.AxesSubplot at 0x7f9d382049d0>"
      ]
     },
     "execution_count": 74,
     "metadata": {},
     "output_type": "execute_result"
    },
    {
     "data": {
      "image/png": "[encoded data removed]",
      "text/plain": [
       "<Figure size 432x288 with 1 Axes>"
      ]
     },
     "metadata": {
      "needs_background": "light"
     },
     "output_type": "display_data"
    }
   ],
   "source": [
    "data_spb_center['last_price'].hist(bins = 50, range=(0, 18000), ec='black')\n"
   ]
  },
  {
   "cell_type": "code",
   "execution_count": 75,
   "metadata": {},
   "outputs": [
    {
     "data": {
      "text/plain": [
       "<matplotlib.axes._subplots.AxesSubplot at 0x7f9d3818c550>"
      ]
     },
     "execution_count": 75,
     "metadata": {},
     "output_type": "execute_result"
    },
    {
     "data": {
      "image/png": "[encoded data removed]",
      "text/plain": [
       "<Figure size 432x288 with 1 Axes>"
      ]
     },
     "metadata": {
      "needs_background": "light"
     },
     "output_type": "display_data"
    }
   ],
   "source": [
    "data_spb_center['rooms'].hist(bins = 50, range=(0, 8), ec='black')\n"
   ]
  },
  {
   "cell_type": "code",
   "execution_count": 76,
   "metadata": {},
   "outputs": [
    {
     "data": {
      "text/plain": [
       "<matplotlib.axes._subplots.AxesSubplot at 0x7f9d33fbed90>"
      ]
     },
     "execution_count": 76,
     "metadata": {},
     "output_type": "execute_result"
    },
    {
     "data": {
      "image/png": "[encoded data removed]",
      "text/plain": [
       "<Figure size 432x288 with 1 Axes>"
      ]
     },
     "metadata": {
      "needs_background": "light"
     },
     "output_type": "display_data"
    }
   ],
   "source": [
    "data_spb_center['ceiling_height'].hist(bins = 50, range=(2.5, 4), ec='black')\n"
   ]
  },
  {
   "cell_type": "markdown",
   "metadata": {},
   "source": [
    "<b>О квартирах в центре Санкт-Петербурга можем сделать следующие выводы:</b>\n",
    "\n",
    "- они имеют бОльшую площадь - 65-80 кв.м (против 45-50 кв.м);\n",
    "- их стоимость гораздо больше - если на общем графике пиковое значение цены было около 4 млн, то здесь это значение почти в 2 раза больше;\n",
    "- количество комнат в них больше - в основном, 2-3 комнаты (против 1-2);\n",
    "- потолки выше - видим пик у значения 3 м."
   ]
  },
  {
   "cell_type": "code",
   "execution_count": 77,
   "metadata": {},
   "outputs": [
    {
     "data": {
      "text/plain": [
       "-0.3415077264320075"
      ]
     },
     "execution_count": 77,
     "metadata": {},
     "output_type": "execute_result"
    }
   ],
   "source": [
    "data_spb_center['price_m2'].corr(data_spb_center['rooms'])"
   ]
  },
  {
   "cell_type": "code",
   "execution_count": 78,
   "metadata": {},
   "outputs": [
    {
     "data": {
      "text/plain": [
       "<matplotlib.axes._subplots.AxesSubplot at 0x7f9d33e40b90>"
      ]
     },
     "execution_count": 78,
     "metadata": {},
     "output_type": "execute_result"
    },
    {
     "data": {
      "image/png": "[encoded data removed]",
      "text/plain": [
       "<Figure size 432x288 with 1 Axes>"
      ]
     },
     "metadata": {
      "needs_background": "light"
     },
     "output_type": "display_data"
    }
   ],
   "source": [
    "data_spb_center.plot(y=\"price_m2\", x=\"rooms\", kind='scatter', alpha=0.05, xlim=(-1, 10), ylim=(-50, 500))"
   ]
  },
  {
   "cell_type": "code",
   "execution_count": 79,
   "metadata": {},
   "outputs": [
    {
     "data": {
      "text/plain": [
       "-0.06231444486107789"
      ]
     },
     "execution_count": 79,
     "metadata": {},
     "output_type": "execute_result"
    }
   ],
   "source": [
    "data_spb_center['price_m2'].corr(data_spb_center['cityCenters_nearest_km'])"
   ]
  },
  {
   "cell_type": "code",
   "execution_count": 80,
   "metadata": {},
   "outputs": [
    {
     "data": {
      "text/plain": [
       "<matplotlib.axes._subplots.AxesSubplot at 0x7f9d33e2a810>"
      ]
     },
     "execution_count": 80,
     "metadata": {},
     "output_type": "execute_result"
    },
    {
     "data": {
      "image/png": "[encoded data removed]",
      "text/plain": [
       "<Figure size 432x288 with 1 Axes>"
      ]
     },
     "metadata": {
      "needs_background": "light"
     },
     "output_type": "display_data"
    }
   ],
   "source": [
    "data_spb_center.plot(y=\"price_m2\", x=\"cityCenters_nearest_km\", kind='scatter', alpha=0.01, ylim=(-50, 600))"
   ]
  },
  {
   "cell_type": "code",
   "execution_count": 81,
   "metadata": {},
   "outputs": [
    {
     "data": {
      "text/plain": [
       "<matplotlib.axes._subplots.AxesSubplot at 0x7f9d33dfd8d0>"
      ]
     },
     "execution_count": 81,
     "metadata": {},
     "output_type": "execute_result"
    },
    {
     "data": {
      "image/png": "[encoded data removed]",
      "text/plain": [
       "<Figure size 648x360 with 1 Axes>"
      ]
     },
     "metadata": {
      "needs_background": "light"
     },
     "output_type": "display_data"
    }
   ],
   "source": [
    "data_spb_center_filtered = data_spb_center.groupby('floor_category').median()['last_price'].reset_index().sort_values(by='floor_category')\n",
    "data_spb_center_filtered.plot(x=\"floor_category\", y=\"last_price\", kind='bar', ec='black', legend=None, figsize=(9,5))\n"
   ]
  },
  {
   "cell_type": "markdown",
   "metadata": {},
   "source": [
    "- С увеличением комнат цена за метр снижается;\n",
    "- Очень слабая отрицательная корреляция говорит о том, что чем дальше от ценра, цена ниже.  Но в среднем можно сказать, что цена в Санкт-Петербурге приблизительно одинаковая в радиусе 7 км от центра;\n",
    "- Первый этаж также самый дешевый, другие этажи и даже последний стоят дороже."
   ]
  },
  {
   "cell_type": "code",
   "execution_count": 82,
   "metadata": {},
   "outputs": [],
   "source": [
    "index = data_spb_center.index \n",
    "price_weekday_month_year = data_spb_center.pivot_table(index=index, values=['last_price', 'weekday', 'month', 'year'], aggfunc='mean')\n"
   ]
  },
  {
   "cell_type": "code",
   "execution_count": 83,
   "metadata": {},
   "outputs": [
    {
     "data": {
      "text/plain": [
       "<seaborn.axisgrid.PairGrid at 0x7f9d33d79e10>"
      ]
     },
     "execution_count": 83,
     "metadata": {},
     "output_type": "execute_result"
    },
    {
     "data": {
      "image/png": "[encoded data removed]",
      "text/plain": [
       "<Figure size 720x720 with 20 Axes>"
      ]
     },
     "metadata": {
      "needs_background": "light"
     },
     "output_type": "display_data"
    }
   ],
   "source": [
    "sns.pairplot(price_weekday_month_year)"
   ]
  },
  {
   "cell_type": "markdown",
   "metadata": {},
   "source": [
    "- Дешевле всего квадратный метр стоит в объявлениях, размещенных на выходных, как и в предыдущем исследовании;\n",
    "- Квартиры, выставленные на продажу в декабре, мае и январе дешевле всего. Самые дорогие - в феврале и марте;\n",
    "- Дороже всего квартиры стоили в 2017 и 2018 годах."
   ]
  },
  {
   "cell_type": "markdown",
   "metadata": {},
   "source": [
    "## Общий вывод"
   ]
  },
  {
   "cell_type": "markdown",
   "metadata": {},
   "source": [
    "Изучили архив объявлений о продаже квартир в Санкт-Петербурге и соседних населённых пунктов за несколько лет, что впоследствии поможет определять рыночную стоимость объектов недвижимости.\n",
    "\n",
    "Пришли к выводам:\n",
    "- от дня размещения объявления до продажи квартиры обычно проходит около 3 месяцев;\n",
    "- дороже всего кадратный метр стоит в Санкт-Петербурге и в Пушкине, дешевле всего квартиру можно купить в Выборге;\n",
    "- квартиры на первом и последнем этаже дешевле, чем на любом другом;\n",
    "- отдаление от центра города связано с уменьшением стоимости недвижимости, при этом центральной части Санкт-Петербурга это не касается - здесь квартиры одинаково дорогие;\n",
    "- квартиры в центре Санкт-Петербурге имеют бОльшую площадь, чем в других районах и населенных пунктах;\n",
    "- стоимость квартир в центре Санкт-Петербурга гораздо больше - почти в 2 раза;\n",
    "- количество комнат в квартирах в центре Санкт-Петербурга больше, потолки выше;\n",
    "- обнаружилась следующая cвязь между временем размещения объявления и стоимостью квартиры: квартиры, выставленные на продажу в феврале дороже, чем в другие месяцы; квартиры, выставленные на продажу на выходных, дешевле, чем в другие дни недели; квартиры были дороже всего в 2017 и 2018 году."
   ]
  }
 ],
 "metadata": {
  "ExecuteTimeLog": [
   {
    "duration": 669,
    "start_time": "2022-01-18T13:11:46.475Z"
   },
   {
    "duration": 122,
    "start_time": "2022-01-18T13:12:53.454Z"
   },
   {
    "duration": 380,
    "start_time": "2022-01-18T13:13:17.334Z"
   },
   {
    "duration": 896,
    "start_time": "2022-01-18T13:14:44.222Z"
   },
   {
    "duration": 78,
    "start_time": "2022-01-18T13:15:16.494Z"
   },
   {
    "duration": 99,
    "start_time": "2022-01-18T13:23:12.331Z"
   },
   {
    "duration": 169,
    "start_time": "2022-01-18T13:23:28.674Z"
   },
   {
    "duration": 855,
    "start_time": "2022-01-19T08:31:29.208Z"
   },
   {
    "duration": 113,
    "start_time": "2022-01-19T08:32:12.848Z"
   },
   {
    "duration": 5,
    "start_time": "2022-01-19T08:34:10.828Z"
   },
   {
    "duration": 367,
    "start_time": "2022-01-19T08:34:18.107Z"
   },
   {
    "duration": 5,
    "start_time": "2022-01-19T08:34:21.187Z"
   },
   {
    "duration": 6,
    "start_time": "2022-01-19T08:35:15.088Z"
   },
   {
    "duration": 15,
    "start_time": "2022-01-19T08:37:37.228Z"
   },
   {
    "duration": 117,
    "start_time": "2022-01-19T08:43:28.555Z"
   },
   {
    "duration": 12,
    "start_time": "2022-01-19T08:54:12.656Z"
   },
   {
    "duration": 116,
    "start_time": "2022-01-19T09:00:11.596Z"
   },
   {
    "duration": 8,
    "start_time": "2022-01-19T09:21:18.396Z"
   },
   {
    "duration": 262,
    "start_time": "2022-01-19T09:21:24.916Z"
   },
   {
    "duration": 124,
    "start_time": "2022-01-19T09:21:41.356Z"
   },
   {
    "duration": 15,
    "start_time": "2022-01-19T09:21:41.916Z"
   },
   {
    "duration": 13,
    "start_time": "2022-01-19T09:21:47.516Z"
   },
   {
    "duration": 9,
    "start_time": "2022-01-19T09:21:53.017Z"
   },
   {
    "duration": 280,
    "start_time": "2022-01-19T09:22:47.756Z"
   },
   {
    "duration": 274,
    "start_time": "2022-01-19T09:22:50.917Z"
   },
   {
    "duration": 12,
    "start_time": "2022-01-19T09:22:56.476Z"
   },
   {
    "duration": 116,
    "start_time": "2022-01-19T09:23:08.236Z"
   },
   {
    "duration": 15,
    "start_time": "2022-01-19T09:23:09.215Z"
   },
   {
    "duration": 13,
    "start_time": "2022-01-19T09:23:12.409Z"
   },
   {
    "duration": 15,
    "start_time": "2022-01-19T09:23:16.637Z"
   },
   {
    "duration": 903,
    "start_time": "2022-01-20T07:34:03.167Z"
   },
   {
    "duration": 15,
    "start_time": "2022-01-20T07:34:04.072Z"
   },
   {
    "duration": 13,
    "start_time": "2022-01-20T07:34:07.322Z"
   },
   {
    "duration": 15,
    "start_time": "2022-01-20T07:34:09.936Z"
   },
   {
    "duration": 462,
    "start_time": "2022-01-20T07:34:35.461Z"
   },
   {
    "duration": 119,
    "start_time": "2022-01-20T07:34:43.071Z"
   },
   {
    "duration": 16,
    "start_time": "2022-01-20T07:34:43.304Z"
   },
   {
    "duration": 12,
    "start_time": "2022-01-20T07:34:44.497Z"
   },
   {
    "duration": 14,
    "start_time": "2022-01-20T07:34:46.931Z"
   },
   {
    "duration": 118,
    "start_time": "2022-01-20T08:20:43.440Z"
   },
   {
    "duration": 15,
    "start_time": "2022-01-20T08:20:45.152Z"
   },
   {
    "duration": 104,
    "start_time": "2022-01-20T08:20:46.109Z"
   },
   {
    "duration": 22,
    "start_time": "2022-01-20T09:12:47.533Z"
   },
   {
    "duration": 23,
    "start_time": "2022-01-20T09:13:29.192Z"
   },
   {
    "duration": 35,
    "start_time": "2022-01-20T09:13:37.007Z"
   },
   {
    "duration": 420,
    "start_time": "2022-01-20T09:13:58.488Z"
   },
   {
    "duration": 984,
    "start_time": "2022-01-20T09:14:03.183Z"
   },
   {
    "duration": 15,
    "start_time": "2022-01-20T09:14:04.169Z"
   },
   {
    "duration": 142,
    "start_time": "2022-01-20T09:14:04.187Z"
   },
   {
    "duration": 12,
    "start_time": "2022-01-20T09:14:06.802Z"
   },
   {
    "duration": 23,
    "start_time": "2022-01-20T09:14:07.992Z"
   },
   {
    "duration": 24,
    "start_time": "2022-01-20T09:15:28.391Z"
   },
   {
    "duration": 23,
    "start_time": "2022-01-20T09:15:43.088Z"
   },
   {
    "duration": 50,
    "start_time": "2022-01-20T09:16:59.840Z"
   },
   {
    "duration": 23,
    "start_time": "2022-01-20T09:24:05.331Z"
   },
   {
    "duration": 22,
    "start_time": "2022-01-20T09:24:18.708Z"
   },
   {
    "duration": 14,
    "start_time": "2022-01-20T09:34:43.136Z"
   },
   {
    "duration": 46,
    "start_time": "2022-01-20T09:35:12.901Z"
   },
   {
    "duration": 17,
    "start_time": "2022-01-20T09:36:18.645Z"
   },
   {
    "duration": 3,
    "start_time": "2022-01-20T09:37:36.754Z"
   },
   {
    "duration": 395,
    "start_time": "2022-01-20T10:04:02.191Z"
   },
   {
    "duration": 9,
    "start_time": "2022-01-20T10:13:54.800Z"
   },
   {
    "duration": 8,
    "start_time": "2022-01-20T10:16:06.022Z"
   },
   {
    "duration": 8,
    "start_time": "2022-01-20T10:20:01.118Z"
   },
   {
    "duration": 4,
    "start_time": "2022-01-20T10:28:59.105Z"
   },
   {
    "duration": 500,
    "start_time": "2022-01-20T10:29:19.420Z"
   },
   {
    "duration": 8,
    "start_time": "2022-01-20T10:30:06.061Z"
   },
   {
    "duration": 6,
    "start_time": "2022-01-20T12:42:26.475Z"
   },
   {
    "duration": 59,
    "start_time": "2022-01-20T12:42:50.866Z"
   },
   {
    "duration": 44,
    "start_time": "2022-01-20T12:43:14.109Z"
   },
   {
    "duration": 47,
    "start_time": "2022-01-20T12:44:40.963Z"
   },
   {
    "duration": 37,
    "start_time": "2022-01-20T12:46:31.021Z"
   },
   {
    "duration": 550,
    "start_time": "2022-01-20T12:47:41.008Z"
   },
   {
    "duration": 374,
    "start_time": "2022-01-20T12:50:02.365Z"
   },
   {
    "duration": 377,
    "start_time": "2022-01-20T12:50:11.951Z"
   },
   {
    "duration": 170,
    "start_time": "2022-01-20T12:50:23.631Z"
   },
   {
    "duration": 24,
    "start_time": "2022-01-20T12:50:24.834Z"
   },
   {
    "duration": 159,
    "start_time": "2022-01-20T12:50:25.225Z"
   },
   {
    "duration": 13,
    "start_time": "2022-01-20T12:50:28.806Z"
   },
   {
    "duration": 8,
    "start_time": "2022-01-20T12:50:31.210Z"
   },
   {
    "duration": 34,
    "start_time": "2022-01-20T12:50:33.404Z"
   },
   {
    "duration": 437,
    "start_time": "2022-01-20T12:50:41.317Z"
   },
   {
    "duration": 121,
    "start_time": "2022-01-20T12:51:32.576Z"
   },
   {
    "duration": 18,
    "start_time": "2022-01-20T12:51:32.929Z"
   },
   {
    "duration": 114,
    "start_time": "2022-01-20T12:51:33.053Z"
   },
   {
    "duration": 14,
    "start_time": "2022-01-20T12:51:34.064Z"
   },
   {
    "duration": 9,
    "start_time": "2022-01-20T12:51:35.044Z"
   },
   {
    "duration": 21,
    "start_time": "2022-01-20T12:51:35.683Z"
   },
   {
    "duration": 372,
    "start_time": "2022-01-20T12:52:11.184Z"
   },
   {
    "duration": 124,
    "start_time": "2022-01-20T12:52:15.901Z"
   },
   {
    "duration": 16,
    "start_time": "2022-01-20T12:52:16.206Z"
   },
   {
    "duration": 110,
    "start_time": "2022-01-20T12:52:16.422Z"
   },
   {
    "duration": 13,
    "start_time": "2022-01-20T12:52:17.630Z"
   },
   {
    "duration": 8,
    "start_time": "2022-01-20T12:52:18.851Z"
   },
   {
    "duration": 35,
    "start_time": "2022-01-20T12:52:19.919Z"
   },
   {
    "duration": 390,
    "start_time": "2022-01-20T12:55:12.176Z"
   },
   {
    "duration": 196,
    "start_time": "2022-01-20T12:55:17.474Z"
   },
   {
    "duration": 26,
    "start_time": "2022-01-20T12:55:17.940Z"
   },
   {
    "duration": 114,
    "start_time": "2022-01-20T12:55:18.015Z"
   },
   {
    "duration": 13,
    "start_time": "2022-01-20T12:55:19.523Z"
   },
   {
    "duration": 9,
    "start_time": "2022-01-20T12:55:20.870Z"
   },
   {
    "duration": 56,
    "start_time": "2022-01-20T12:55:21.704Z"
   },
   {
    "duration": 402,
    "start_time": "2022-01-20T13:06:10.253Z"
   },
   {
    "duration": 122,
    "start_time": "2022-01-20T13:06:17.479Z"
   },
   {
    "duration": 17,
    "start_time": "2022-01-20T13:06:17.699Z"
   },
   {
    "duration": 110,
    "start_time": "2022-01-20T13:06:17.963Z"
   },
   {
    "duration": 13,
    "start_time": "2022-01-20T13:06:20.333Z"
   },
   {
    "duration": 7,
    "start_time": "2022-01-20T13:06:21.905Z"
   },
   {
    "duration": 34,
    "start_time": "2022-01-20T13:06:22.737Z"
   },
   {
    "duration": 687,
    "start_time": "2022-01-20T13:09:42.364Z"
   },
   {
    "duration": 155,
    "start_time": "2022-01-20T13:09:47.181Z"
   },
   {
    "duration": 17,
    "start_time": "2022-01-20T13:09:47.543Z"
   },
   {
    "duration": 141,
    "start_time": "2022-01-20T13:09:47.702Z"
   },
   {
    "duration": 15,
    "start_time": "2022-01-20T13:09:48.789Z"
   },
   {
    "duration": 9,
    "start_time": "2022-01-20T13:09:49.873Z"
   },
   {
    "duration": 21,
    "start_time": "2022-01-20T13:09:50.746Z"
   },
   {
    "duration": 364,
    "start_time": "2022-01-20T13:11:42.301Z"
   },
   {
    "duration": 115,
    "start_time": "2022-01-20T13:11:46.978Z"
   },
   {
    "duration": 17,
    "start_time": "2022-01-20T13:11:47.379Z"
   },
   {
    "duration": 105,
    "start_time": "2022-01-20T13:11:47.573Z"
   },
   {
    "duration": 13,
    "start_time": "2022-01-20T13:11:48.948Z"
   },
   {
    "duration": 8,
    "start_time": "2022-01-20T13:11:49.983Z"
   },
   {
    "duration": 39,
    "start_time": "2022-01-20T13:11:51.015Z"
   },
   {
    "duration": 459,
    "start_time": "2022-01-20T13:13:10.637Z"
   },
   {
    "duration": 551,
    "start_time": "2022-01-20T13:13:30.687Z"
   },
   {
    "duration": 16,
    "start_time": "2022-01-20T13:13:37.859Z"
   },
   {
    "duration": 116,
    "start_time": "2022-01-20T13:13:42.211Z"
   },
   {
    "duration": 15,
    "start_time": "2022-01-20T13:13:42.678Z"
   },
   {
    "duration": 103,
    "start_time": "2022-01-20T13:13:42.900Z"
   },
   {
    "duration": 13,
    "start_time": "2022-01-20T13:13:44.258Z"
   },
   {
    "duration": 7,
    "start_time": "2022-01-20T13:13:45.582Z"
   },
   {
    "duration": 6,
    "start_time": "2022-01-20T13:13:46.507Z"
   },
   {
    "duration": 10,
    "start_time": "2022-01-20T13:15:53.507Z"
   },
   {
    "duration": 8,
    "start_time": "2022-01-20T13:15:54.437Z"
   },
   {
    "duration": 457,
    "start_time": "2022-01-20T13:15:54.929Z"
   },
   {
    "duration": -44927,
    "start_time": "2022-01-20T13:16:40.316Z"
   },
   {
    "duration": 22,
    "start_time": "2022-01-20T13:15:55.943Z"
   },
   {
    "duration": 376,
    "start_time": "2022-01-20T13:16:13.216Z"
   },
   {
    "duration": 125,
    "start_time": "2022-01-20T13:16:17.871Z"
   },
   {
    "duration": 16,
    "start_time": "2022-01-20T13:16:18.439Z"
   },
   {
    "duration": 107,
    "start_time": "2022-01-20T13:16:18.684Z"
   },
   {
    "duration": 14,
    "start_time": "2022-01-20T13:16:20.582Z"
   },
   {
    "duration": 10,
    "start_time": "2022-01-20T13:16:22.327Z"
   },
   {
    "duration": 10,
    "start_time": "2022-01-20T13:16:24.263Z"
   },
   {
    "duration": 16,
    "start_time": "2022-01-20T13:16:26.567Z"
   },
   {
    "duration": 33,
    "start_time": "2022-01-20T13:20:53.123Z"
   },
   {
    "duration": 300,
    "start_time": "2022-01-20T19:10:29.923Z"
   },
   {
    "duration": 675,
    "start_time": "2022-01-20T19:10:35.384Z"
   },
   {
    "duration": 12,
    "start_time": "2022-01-20T19:10:36.660Z"
   },
   {
    "duration": 69,
    "start_time": "2022-01-20T19:10:37.526Z"
   },
   {
    "duration": 11,
    "start_time": "2022-01-20T19:10:40.946Z"
   },
   {
    "duration": 7,
    "start_time": "2022-01-20T19:17:39.493Z"
   },
   {
    "duration": 613,
    "start_time": "2022-01-21T07:42:08.556Z"
   },
   {
    "duration": 11,
    "start_time": "2022-01-21T07:44:27.199Z"
   },
   {
    "duration": 69,
    "start_time": "2022-01-21T07:44:28.069Z"
   },
   {
    "duration": 9,
    "start_time": "2022-01-21T07:44:31.622Z"
   },
   {
    "duration": 7,
    "start_time": "2022-01-21T07:44:41.866Z"
   },
   {
    "duration": 39,
    "start_time": "2022-01-21T07:52:35.139Z"
   },
   {
    "duration": 49,
    "start_time": "2022-01-21T07:54:41.739Z"
   },
   {
    "duration": 42,
    "start_time": "2022-01-21T07:55:56.846Z"
   },
   {
    "duration": 9,
    "start_time": "2022-01-21T08:36:26.779Z"
   },
   {
    "duration": 9,
    "start_time": "2022-01-21T08:45:38.728Z"
   },
   {
    "duration": 30,
    "start_time": "2022-01-21T08:50:43.568Z"
   },
   {
    "duration": 14,
    "start_time": "2022-01-21T09:04:25.255Z"
   },
   {
    "duration": 40,
    "start_time": "2022-01-21T09:05:48.326Z"
   },
   {
    "duration": 13,
    "start_time": "2022-01-21T09:06:33.583Z"
   },
   {
    "duration": 302,
    "start_time": "2022-01-21T09:21:33.721Z"
   },
   {
    "duration": 14,
    "start_time": "2022-01-21T09:21:37.397Z"
   },
   {
    "duration": 186,
    "start_time": "2022-01-21T09:21:38.660Z"
   },
   {
    "duration": 89,
    "start_time": "2022-01-21T09:21:54.215Z"
   },
   {
    "duration": 10,
    "start_time": "2022-01-21T09:21:54.577Z"
   },
   {
    "duration": 69,
    "start_time": "2022-01-21T09:21:55.149Z"
   },
   {
    "duration": 9,
    "start_time": "2022-01-21T09:21:56.974Z"
   },
   {
    "duration": 7,
    "start_time": "2022-01-21T09:21:58.469Z"
   },
   {
    "duration": 49,
    "start_time": "2022-01-21T09:22:01.832Z"
   },
   {
    "duration": 14,
    "start_time": "2022-01-21T09:22:04.301Z"
   },
   {
    "duration": 356,
    "start_time": "2022-01-21T09:22:07.164Z"
   },
   {
    "duration": 13,
    "start_time": "2022-01-21T09:22:36.630Z"
   },
   {
    "duration": 16,
    "start_time": "2022-01-21T09:37:15.966Z"
   },
   {
    "duration": 6,
    "start_time": "2022-01-21T09:41:15.928Z"
   },
   {
    "duration": 15,
    "start_time": "2022-01-21T09:42:55.275Z"
   },
   {
    "duration": 14,
    "start_time": "2022-01-21T09:42:56.348Z"
   },
   {
    "duration": 92,
    "start_time": "2022-01-21T09:43:06.877Z"
   },
   {
    "duration": 13,
    "start_time": "2022-01-21T09:43:07.909Z"
   },
   {
    "duration": 68,
    "start_time": "2022-01-21T09:43:08.504Z"
   },
   {
    "duration": 9,
    "start_time": "2022-01-21T09:43:11.358Z"
   },
   {
    "duration": 15,
    "start_time": "2022-01-21T09:43:12.704Z"
   },
   {
    "duration": 6,
    "start_time": "2022-01-21T09:43:14.718Z"
   },
   {
    "duration": 39,
    "start_time": "2022-01-21T09:43:16.327Z"
   },
   {
    "duration": 194,
    "start_time": "2022-01-21T09:51:29.320Z"
   },
   {
    "duration": 85,
    "start_time": "2022-01-21T09:51:52.303Z"
   },
   {
    "duration": 10,
    "start_time": "2022-01-21T09:51:52.970Z"
   },
   {
    "duration": 71,
    "start_time": "2022-01-21T09:51:53.270Z"
   },
   {
    "duration": 9,
    "start_time": "2022-01-21T09:51:54.971Z"
   },
   {
    "duration": 13,
    "start_time": "2022-01-21T09:51:55.605Z"
   },
   {
    "duration": 7,
    "start_time": "2022-01-21T09:51:56.975Z"
   },
   {
    "duration": 184,
    "start_time": "2022-01-21T09:51:58.160Z"
   },
   {
    "duration": 187,
    "start_time": "2022-01-21T09:52:27.916Z"
   },
   {
    "duration": 6,
    "start_time": "2022-01-21T09:52:38.530Z"
   },
   {
    "duration": 6,
    "start_time": "2022-01-21T09:52:45.789Z"
   },
   {
    "duration": 7,
    "start_time": "2022-01-21T09:54:28.201Z"
   },
   {
    "duration": 6,
    "start_time": "2022-01-21T09:55:14.935Z"
   },
   {
    "duration": 8,
    "start_time": "2022-01-21T09:55:17.445Z"
   },
   {
    "duration": 6,
    "start_time": "2022-01-21T09:56:03.547Z"
   },
   {
    "duration": 8,
    "start_time": "2022-01-21T09:56:05.744Z"
   },
   {
    "duration": 37,
    "start_time": "2022-01-21T09:56:06.870Z"
   },
   {
    "duration": 15,
    "start_time": "2022-01-21T09:56:08.696Z"
   },
   {
    "duration": 12,
    "start_time": "2022-01-21T09:57:18.224Z"
   },
   {
    "duration": 9,
    "start_time": "2022-01-21T09:59:14.479Z"
   },
   {
    "duration": 222,
    "start_time": "2022-01-21T10:03:46.377Z"
   },
   {
    "duration": 14,
    "start_time": "2022-01-21T10:04:03.820Z"
   },
   {
    "duration": 34,
    "start_time": "2022-01-21T10:07:40.763Z"
   },
   {
    "duration": 34,
    "start_time": "2022-01-21T10:08:48.853Z"
   },
   {
    "duration": 20,
    "start_time": "2022-01-21T10:09:14.814Z"
   },
   {
    "duration": 13,
    "start_time": "2022-01-21T10:17:07.953Z"
   },
   {
    "duration": 33,
    "start_time": "2022-01-21T10:17:26.525Z"
   },
   {
    "duration": 13,
    "start_time": "2022-01-21T10:17:56.898Z"
   },
   {
    "duration": 20,
    "start_time": "2022-01-21T10:18:21.572Z"
   },
   {
    "duration": 35,
    "start_time": "2022-01-21T10:18:57.514Z"
   },
   {
    "duration": 14,
    "start_time": "2022-01-21T10:19:04.041Z"
   },
   {
    "duration": 20,
    "start_time": "2022-01-21T10:19:14.392Z"
   },
   {
    "duration": 32,
    "start_time": "2022-01-21T10:19:20.797Z"
   },
   {
    "duration": 31,
    "start_time": "2022-01-21T10:19:37.540Z"
   },
   {
    "duration": 35,
    "start_time": "2022-01-21T10:19:53.211Z"
   },
   {
    "duration": 13,
    "start_time": "2022-01-21T10:21:23.052Z"
   },
   {
    "duration": 304,
    "start_time": "2022-01-21T20:49:56.161Z"
   },
   {
    "duration": 734,
    "start_time": "2022-01-21T20:50:02.274Z"
   },
   {
    "duration": 13,
    "start_time": "2022-01-21T20:50:03.010Z"
   },
   {
    "duration": 86,
    "start_time": "2022-01-21T20:50:03.026Z"
   },
   {
    "duration": 11,
    "start_time": "2022-01-21T20:50:05.527Z"
   },
   {
    "duration": 16,
    "start_time": "2022-01-21T20:50:07.074Z"
   },
   {
    "duration": 7,
    "start_time": "2022-01-21T20:50:13.285Z"
   },
   {
    "duration": 6,
    "start_time": "2022-01-21T20:51:49.166Z"
   },
   {
    "duration": 9,
    "start_time": "2022-01-21T20:53:06.738Z"
   },
   {
    "duration": 20,
    "start_time": "2022-01-21T20:56:08.998Z"
   },
   {
    "duration": 14,
    "start_time": "2022-01-21T21:13:34.811Z"
   },
   {
    "duration": 14,
    "start_time": "2022-01-21T21:13:48.907Z"
   },
   {
    "duration": 14,
    "start_time": "2022-01-21T21:13:55.888Z"
   },
   {
    "duration": 88,
    "start_time": "2022-01-21T21:14:06.395Z"
   },
   {
    "duration": 11,
    "start_time": "2022-01-21T21:14:07.487Z"
   },
   {
    "duration": 74,
    "start_time": "2022-01-21T21:14:08.019Z"
   },
   {
    "duration": 9,
    "start_time": "2022-01-21T21:14:10.710Z"
   },
   {
    "duration": 12,
    "start_time": "2022-01-21T21:14:11.771Z"
   },
   {
    "duration": 6,
    "start_time": "2022-01-21T21:14:14.159Z"
   },
   {
    "duration": 9,
    "start_time": "2022-01-21T21:14:17.169Z"
   },
   {
    "duration": 14,
    "start_time": "2022-01-21T21:14:19.535Z"
   },
   {
    "duration": 30,
    "start_time": "2022-01-21T21:14:46.017Z"
   },
   {
    "duration": 11,
    "start_time": "2022-01-21T21:14:57.520Z"
   },
   {
    "duration": 32,
    "start_time": "2022-01-21T21:16:57.592Z"
   },
   {
    "duration": 12,
    "start_time": "2022-01-21T21:17:27.251Z"
   },
   {
    "duration": 7,
    "start_time": "2022-01-21T21:19:59.851Z"
   },
   {
    "duration": 6,
    "start_time": "2022-01-21T21:20:15.859Z"
   },
   {
    "duration": 24,
    "start_time": "2022-01-21T21:22:59.432Z"
   },
   {
    "duration": 13,
    "start_time": "2022-01-21T21:27:08.541Z"
   },
   {
    "duration": 10,
    "start_time": "2022-01-21T21:27:11.106Z"
   },
   {
    "duration": 31,
    "start_time": "2022-01-21T21:28:28.167Z"
   },
   {
    "duration": 667,
    "start_time": "2022-01-22T18:46:00.998Z"
   },
   {
    "duration": 16,
    "start_time": "2022-01-22T18:46:01.846Z"
   },
   {
    "duration": 71,
    "start_time": "2022-01-22T18:46:02.202Z"
   },
   {
    "duration": 15,
    "start_time": "2022-01-22T18:46:03.676Z"
   },
   {
    "duration": 18,
    "start_time": "2022-01-22T18:46:03.820Z"
   },
   {
    "duration": 8,
    "start_time": "2022-01-22T18:46:04.308Z"
   },
   {
    "duration": 10,
    "start_time": "2022-01-22T18:46:04.632Z"
   },
   {
    "duration": 8,
    "start_time": "2022-01-22T18:46:05.035Z"
   },
   {
    "duration": 33,
    "start_time": "2022-01-22T18:46:05.668Z"
   },
   {
    "duration": 18,
    "start_time": "2022-01-22T18:46:06.788Z"
   },
   {
    "duration": 15,
    "start_time": "2022-01-22T18:46:10.417Z"
   },
   {
    "duration": 14,
    "start_time": "2022-01-22T18:46:22.561Z"
   },
   {
    "duration": 12,
    "start_time": "2022-01-22T18:46:31.386Z"
   },
   {
    "duration": 13,
    "start_time": "2022-01-22T18:51:53.848Z"
   },
   {
    "duration": 9,
    "start_time": "2022-01-22T18:51:55.598Z"
   },
   {
    "duration": 12,
    "start_time": "2022-01-22T19:13:46.768Z"
   },
   {
    "duration": 105,
    "start_time": "2022-01-22T19:14:22.642Z"
   },
   {
    "duration": 29,
    "start_time": "2022-01-22T19:14:32.049Z"
   },
   {
    "duration": 22,
    "start_time": "2022-01-22T19:51:45.959Z"
   },
   {
    "duration": 23,
    "start_time": "2022-01-22T19:52:47.039Z"
   },
   {
    "duration": 30,
    "start_time": "2022-01-22T20:11:38.411Z"
   },
   {
    "duration": 8,
    "start_time": "2022-01-22T20:12:36.353Z"
   },
   {
    "duration": 1519,
    "start_time": "2022-01-22T20:13:11.633Z"
   },
   {
    "duration": 8,
    "start_time": "2022-01-22T20:13:40.768Z"
   },
   {
    "duration": 7,
    "start_time": "2022-01-22T20:13:58.829Z"
   },
   {
    "duration": 6,
    "start_time": "2022-01-22T20:16:07.508Z"
   },
   {
    "duration": 19,
    "start_time": "2022-01-22T20:21:57.718Z"
   },
   {
    "duration": 332,
    "start_time": "2022-01-22T20:27:02.486Z"
   },
   {
    "duration": 322,
    "start_time": "2022-01-22T20:27:19.600Z"
   },
   {
    "duration": 21,
    "start_time": "2022-01-22T20:27:49.606Z"
   },
   {
    "duration": 22,
    "start_time": "2022-01-22T20:28:11.235Z"
   },
   {
    "duration": 83,
    "start_time": "2022-01-22T20:30:26.414Z"
   },
   {
    "duration": 11,
    "start_time": "2022-01-22T20:30:26.751Z"
   },
   {
    "duration": 65,
    "start_time": "2022-01-22T20:30:26.910Z"
   },
   {
    "duration": 8,
    "start_time": "2022-01-22T20:30:27.887Z"
   },
   {
    "duration": 13,
    "start_time": "2022-01-22T20:30:28.288Z"
   },
   {
    "duration": 6,
    "start_time": "2022-01-22T20:30:28.877Z"
   },
   {
    "duration": 9,
    "start_time": "2022-01-22T20:30:29.227Z"
   },
   {
    "duration": 8,
    "start_time": "2022-01-22T20:30:29.640Z"
   },
   {
    "duration": 24,
    "start_time": "2022-01-22T20:30:30.047Z"
   },
   {
    "duration": 13,
    "start_time": "2022-01-22T20:30:30.275Z"
   },
   {
    "duration": 15,
    "start_time": "2022-01-22T20:30:30.625Z"
   },
   {
    "duration": 8,
    "start_time": "2022-01-22T20:30:30.924Z"
   },
   {
    "duration": 6,
    "start_time": "2022-01-22T20:30:31.294Z"
   },
   {
    "duration": 11,
    "start_time": "2022-01-22T20:30:31.685Z"
   },
   {
    "duration": 6,
    "start_time": "2022-01-22T20:30:32.723Z"
   },
   {
    "duration": 17,
    "start_time": "2022-01-22T20:30:33.355Z"
   },
   {
    "duration": 306,
    "start_time": "2022-01-22T20:31:55.952Z"
   },
   {
    "duration": 102,
    "start_time": "2022-01-22T20:33:00.143Z"
   },
   {
    "duration": 157,
    "start_time": "2022-01-22T20:33:12.082Z"
   },
   {
    "duration": 15,
    "start_time": "2022-01-22T20:33:39.240Z"
   },
   {
    "duration": 15,
    "start_time": "2022-01-22T20:33:45.489Z"
   },
   {
    "duration": 22,
    "start_time": "2022-01-22T20:33:59.865Z"
   },
   {
    "duration": 15,
    "start_time": "2022-01-22T20:34:54.233Z"
   },
   {
    "duration": 27,
    "start_time": "2022-01-22T20:35:27.161Z"
   },
   {
    "duration": 22,
    "start_time": "2022-01-22T20:40:28.598Z"
   },
   {
    "duration": 11,
    "start_time": "2022-01-22T20:44:07.724Z"
   },
   {
    "duration": 10,
    "start_time": "2022-01-22T20:44:13.781Z"
   },
   {
    "duration": 23,
    "start_time": "2022-01-22T20:44:24.759Z"
   },
   {
    "duration": 19,
    "start_time": "2022-01-22T20:45:18.891Z"
   },
   {
    "duration": 15,
    "start_time": "2022-01-22T20:48:42.210Z"
   },
   {
    "duration": 28,
    "start_time": "2022-01-22T20:49:05.600Z"
   },
   {
    "duration": 18,
    "start_time": "2022-01-22T20:49:53.976Z"
   },
   {
    "duration": 27,
    "start_time": "2022-01-22T20:50:44.869Z"
   },
   {
    "duration": 18,
    "start_time": "2022-01-22T20:50:59.289Z"
   },
   {
    "duration": 14,
    "start_time": "2022-01-22T20:55:53.726Z"
   },
   {
    "duration": 295,
    "start_time": "2022-01-22T20:56:16.603Z"
   },
   {
    "duration": 85,
    "start_time": "2022-01-22T20:57:12.242Z"
   },
   {
    "duration": 11,
    "start_time": "2022-01-22T20:57:12.635Z"
   },
   {
    "duration": 69,
    "start_time": "2022-01-22T20:57:12.799Z"
   },
   {
    "duration": 9,
    "start_time": "2022-01-22T20:57:13.604Z"
   },
   {
    "duration": 12,
    "start_time": "2022-01-22T20:57:13.959Z"
   },
   {
    "duration": 6,
    "start_time": "2022-01-22T20:57:14.684Z"
   },
   {
    "duration": 10,
    "start_time": "2022-01-22T20:57:15.037Z"
   },
   {
    "duration": 6,
    "start_time": "2022-01-22T20:57:15.364Z"
   },
   {
    "duration": 24,
    "start_time": "2022-01-22T20:57:15.729Z"
   },
   {
    "duration": 13,
    "start_time": "2022-01-22T20:57:15.916Z"
   },
   {
    "duration": 14,
    "start_time": "2022-01-22T20:57:16.891Z"
   },
   {
    "duration": 8,
    "start_time": "2022-01-22T20:57:17.479Z"
   },
   {
    "duration": 33,
    "start_time": "2022-01-22T20:57:17.655Z"
   },
   {
    "duration": 28,
    "start_time": "2022-01-22T20:57:30.159Z"
   },
   {
    "duration": 316,
    "start_time": "2022-01-22T20:58:05.885Z"
   },
   {
    "duration": 7,
    "start_time": "2022-01-22T20:58:13.770Z"
   },
   {
    "duration": 316,
    "start_time": "2022-01-22T20:58:14.549Z"
   },
   {
    "duration": 82,
    "start_time": "2022-01-22T20:58:19.768Z"
   },
   {
    "duration": 11,
    "start_time": "2022-01-22T20:58:20.077Z"
   },
   {
    "duration": 67,
    "start_time": "2022-01-22T20:58:20.225Z"
   },
   {
    "duration": 11,
    "start_time": "2022-01-22T20:58:20.981Z"
   },
   {
    "duration": 13,
    "start_time": "2022-01-22T20:58:21.301Z"
   },
   {
    "duration": 6,
    "start_time": "2022-01-22T20:58:22.742Z"
   },
   {
    "duration": 7,
    "start_time": "2022-01-22T20:58:22.750Z"
   },
   {
    "duration": 6,
    "start_time": "2022-01-22T20:58:23.288Z"
   },
   {
    "duration": 23,
    "start_time": "2022-01-22T20:58:24.340Z"
   },
   {
    "duration": 12,
    "start_time": "2022-01-22T20:58:37.170Z"
   },
   {
    "duration": 15,
    "start_time": "2022-01-22T20:58:38.225Z"
   },
   {
    "duration": 7,
    "start_time": "2022-01-22T20:58:38.816Z"
   },
   {
    "duration": 17,
    "start_time": "2022-01-22T20:58:39.320Z"
   },
   {
    "duration": 21,
    "start_time": "2022-01-22T20:59:49.061Z"
   },
   {
    "duration": 3,
    "start_time": "2022-01-22T21:00:53.910Z"
   },
   {
    "duration": 19,
    "start_time": "2022-01-22T21:00:55.541Z"
   },
   {
    "duration": 19,
    "start_time": "2022-01-22T21:06:09.156Z"
   },
   {
    "duration": 1227,
    "start_time": "2022-01-22T21:07:35.988Z"
   },
   {
    "duration": 86,
    "start_time": "2022-01-22T21:07:43.366Z"
   },
   {
    "duration": 11,
    "start_time": "2022-01-22T21:07:43.681Z"
   },
   {
    "duration": 64,
    "start_time": "2022-01-22T21:07:43.826Z"
   },
   {
    "duration": 8,
    "start_time": "2022-01-22T21:07:44.550Z"
   },
   {
    "duration": 13,
    "start_time": "2022-01-22T21:07:45.058Z"
   },
   {
    "duration": 6,
    "start_time": "2022-01-22T21:07:45.469Z"
   },
   {
    "duration": 10,
    "start_time": "2022-01-22T21:07:45.711Z"
   },
   {
    "duration": 7,
    "start_time": "2022-01-22T21:07:46.271Z"
   },
   {
    "duration": 24,
    "start_time": "2022-01-22T21:07:46.862Z"
   },
   {
    "duration": 13,
    "start_time": "2022-01-22T21:07:47.084Z"
   },
   {
    "duration": 16,
    "start_time": "2022-01-22T21:07:49.722Z"
   },
   {
    "duration": 7,
    "start_time": "2022-01-22T21:07:50.106Z"
   },
   {
    "duration": 16,
    "start_time": "2022-01-22T21:07:50.514Z"
   },
   {
    "duration": 24,
    "start_time": "2022-01-22T21:07:51.264Z"
   },
   {
    "duration": 2,
    "start_time": "2022-01-22T21:07:53.022Z"
   },
   {
    "duration": 1240,
    "start_time": "2022-01-22T21:07:54.450Z"
   },
   {
    "duration": 20,
    "start_time": "2022-01-22T21:08:58.315Z"
   },
   {
    "duration": 12,
    "start_time": "2022-01-22T21:09:31.478Z"
   },
   {
    "duration": 11,
    "start_time": "2022-01-22T21:16:54.694Z"
   },
   {
    "duration": 915,
    "start_time": "2022-01-23T06:52:28.246Z"
   },
   {
    "duration": 20,
    "start_time": "2022-01-23T06:52:29.163Z"
   },
   {
    "duration": 124,
    "start_time": "2022-01-23T06:52:29.186Z"
   },
   {
    "duration": 13,
    "start_time": "2022-01-23T06:52:30.171Z"
   },
   {
    "duration": 19,
    "start_time": "2022-01-23T06:52:30.614Z"
   },
   {
    "duration": 8,
    "start_time": "2022-01-23T06:52:31.537Z"
   },
   {
    "duration": 10,
    "start_time": "2022-01-23T06:52:31.972Z"
   },
   {
    "duration": 9,
    "start_time": "2022-01-23T06:52:32.937Z"
   },
   {
    "duration": 40,
    "start_time": "2022-01-23T06:52:34.316Z"
   },
   {
    "duration": 21,
    "start_time": "2022-01-23T06:52:35.128Z"
   },
   {
    "duration": 31,
    "start_time": "2022-01-23T06:52:36.408Z"
   },
   {
    "duration": 15,
    "start_time": "2022-01-23T06:52:36.817Z"
   },
   {
    "duration": 22,
    "start_time": "2022-01-23T06:52:37.577Z"
   },
   {
    "duration": 671,
    "start_time": "2022-01-23T10:41:01.410Z"
   },
   {
    "duration": 11,
    "start_time": "2022-01-23T10:41:02.846Z"
   },
   {
    "duration": 70,
    "start_time": "2022-01-23T10:41:03.375Z"
   },
   {
    "duration": 14,
    "start_time": "2022-01-23T10:41:04.978Z"
   },
   {
    "duration": 14,
    "start_time": "2022-01-23T10:41:05.877Z"
   },
   {
    "duration": 8,
    "start_time": "2022-01-23T10:42:11.776Z"
   },
   {
    "duration": 9,
    "start_time": "2022-01-23T10:42:12.957Z"
   },
   {
    "duration": 6,
    "start_time": "2022-01-23T10:42:14.360Z"
   },
   {
    "duration": 31,
    "start_time": "2022-01-23T10:42:15.876Z"
   },
   {
    "duration": 25,
    "start_time": "2022-01-23T10:42:17.381Z"
   },
   {
    "duration": 14,
    "start_time": "2022-01-23T10:42:22.696Z"
   },
   {
    "duration": 8,
    "start_time": "2022-01-23T10:42:24.998Z"
   },
   {
    "duration": 11,
    "start_time": "2022-01-23T10:47:27.401Z"
   },
   {
    "duration": 5,
    "start_time": "2022-01-23T10:52:07.188Z"
   },
   {
    "duration": 395,
    "start_time": "2022-01-23T11:33:43.627Z"
   },
   {
    "duration": 770,
    "start_time": "2022-01-23T11:34:09.742Z"
   },
   {
    "duration": 306,
    "start_time": "2022-01-23T11:36:44.014Z"
   },
   {
    "duration": 82,
    "start_time": "2022-01-23T11:36:47.846Z"
   },
   {
    "duration": 10,
    "start_time": "2022-01-23T11:36:48.080Z"
   },
   {
    "duration": 63,
    "start_time": "2022-01-23T11:36:48.236Z"
   },
   {
    "duration": 9,
    "start_time": "2022-01-23T11:36:48.988Z"
   },
   {
    "duration": 13,
    "start_time": "2022-01-23T11:36:49.788Z"
   },
   {
    "duration": 6,
    "start_time": "2022-01-23T11:36:52.192Z"
   },
   {
    "duration": 8,
    "start_time": "2022-01-23T11:36:53.533Z"
   },
   {
    "duration": 6,
    "start_time": "2022-01-23T11:36:54.404Z"
   },
   {
    "duration": 20,
    "start_time": "2022-01-23T11:36:55.694Z"
   },
   {
    "duration": 12,
    "start_time": "2022-01-23T11:36:56.652Z"
   },
   {
    "duration": 15,
    "start_time": "2022-01-23T11:36:58.147Z"
   },
   {
    "duration": 7,
    "start_time": "2022-01-23T11:36:59.327Z"
   },
   {
    "duration": 10,
    "start_time": "2022-01-23T11:37:01.165Z"
   },
   {
    "duration": 5,
    "start_time": "2022-01-23T11:37:03.414Z"
   },
   {
    "duration": 7,
    "start_time": "2022-01-23T11:37:05.581Z"
   },
   {
    "duration": 331,
    "start_time": "2022-01-23T11:42:40.129Z"
   },
   {
    "duration": 304,
    "start_time": "2022-01-23T11:42:51.561Z"
   },
   {
    "duration": 5,
    "start_time": "2022-01-23T11:43:21.415Z"
   },
   {
    "duration": 19,
    "start_time": "2022-01-23T11:43:30.624Z"
   },
   {
    "duration": 355,
    "start_time": "2022-01-23T11:45:18.354Z"
   },
   {
    "duration": 18,
    "start_time": "2022-01-23T11:46:45.380Z"
   },
   {
    "duration": 6,
    "start_time": "2022-01-23T11:49:32.590Z"
   },
   {
    "duration": 8,
    "start_time": "2022-01-23T11:49:53.767Z"
   },
   {
    "duration": 16,
    "start_time": "2022-01-23T11:50:31.805Z"
   },
   {
    "duration": 5,
    "start_time": "2022-01-23T11:52:41.807Z"
   },
   {
    "duration": 6,
    "start_time": "2022-01-23T11:52:48.951Z"
   },
   {
    "duration": 6,
    "start_time": "2022-01-23T11:53:15.191Z"
   },
   {
    "duration": 30,
    "start_time": "2022-01-23T11:53:23.080Z"
   },
   {
    "duration": 315,
    "start_time": "2022-01-23T11:56:17.290Z"
   },
   {
    "duration": 365,
    "start_time": "2022-01-23T11:56:24.500Z"
   },
   {
    "duration": 11,
    "start_time": "2022-01-23T11:57:55.771Z"
   },
   {
    "duration": 7,
    "start_time": "2022-01-23T11:58:22.841Z"
   },
   {
    "duration": 15,
    "start_time": "2022-01-23T11:58:39.664Z"
   },
   {
    "duration": 16,
    "start_time": "2022-01-23T11:59:08.043Z"
   },
   {
    "duration": 77,
    "start_time": "2022-01-23T11:59:14.197Z"
   },
   {
    "duration": 25,
    "start_time": "2022-01-23T11:59:20.340Z"
   },
   {
    "duration": 64,
    "start_time": "2022-01-23T11:59:21.803Z"
   },
   {
    "duration": 9,
    "start_time": "2022-01-23T11:59:59.559Z"
   },
   {
    "duration": 64,
    "start_time": "2022-01-23T12:00:00.610Z"
   },
   {
    "duration": 8,
    "start_time": "2022-01-23T12:00:03.076Z"
   },
   {
    "duration": 11,
    "start_time": "2022-01-23T12:00:04.046Z"
   },
   {
    "duration": 5,
    "start_time": "2022-01-23T12:00:04.723Z"
   },
   {
    "duration": 9,
    "start_time": "2022-01-23T12:00:06.644Z"
   },
   {
    "duration": 7,
    "start_time": "2022-01-23T12:00:07.368Z"
   },
   {
    "duration": 22,
    "start_time": "2022-01-23T12:00:07.747Z"
   },
   {
    "duration": 13,
    "start_time": "2022-01-23T12:00:07.956Z"
   },
   {
    "duration": 14,
    "start_time": "2022-01-23T12:00:08.438Z"
   },
   {
    "duration": 8,
    "start_time": "2022-01-23T12:00:08.982Z"
   },
   {
    "duration": 11,
    "start_time": "2022-01-23T12:00:11.167Z"
   },
   {
    "duration": 4,
    "start_time": "2022-01-23T12:00:13.529Z"
   },
   {
    "duration": 6,
    "start_time": "2022-01-23T12:00:14.306Z"
   },
   {
    "duration": 22,
    "start_time": "2022-01-23T12:00:15.255Z"
   },
   {
    "duration": 13,
    "start_time": "2022-01-23T12:00:16.841Z"
   },
   {
    "duration": 5,
    "start_time": "2022-01-23T12:00:47.737Z"
   },
   {
    "duration": 6,
    "start_time": "2022-01-23T12:03:25.791Z"
   },
   {
    "duration": 28,
    "start_time": "2022-01-23T12:03:50.518Z"
   },
   {
    "duration": 26,
    "start_time": "2022-01-23T12:06:52.384Z"
   },
   {
    "duration": 28,
    "start_time": "2022-01-23T12:14:25.135Z"
   },
   {
    "duration": 8,
    "start_time": "2022-01-23T12:17:10.810Z"
   },
   {
    "duration": 9,
    "start_time": "2022-01-23T12:17:14.041Z"
   },
   {
    "duration": 9,
    "start_time": "2022-01-23T12:17:17.416Z"
   },
   {
    "duration": 12,
    "start_time": "2022-01-23T12:17:42.752Z"
   },
   {
    "duration": 15,
    "start_time": "2022-01-23T12:19:42.344Z"
   },
   {
    "duration": 14,
    "start_time": "2022-01-23T12:22:29.546Z"
   },
   {
    "duration": 7,
    "start_time": "2022-01-23T12:22:35.729Z"
   },
   {
    "duration": 7,
    "start_time": "2022-01-23T12:22:37.484Z"
   },
   {
    "duration": 9,
    "start_time": "2022-01-23T13:08:47.752Z"
   },
   {
    "duration": 342,
    "start_time": "2022-01-23T13:12:33.229Z"
   },
   {
    "duration": 529,
    "start_time": "2022-01-23T13:13:04.208Z"
   },
   {
    "duration": 9,
    "start_time": "2022-01-23T13:13:04.739Z"
   },
   {
    "duration": 91,
    "start_time": "2022-01-23T13:13:04.844Z"
   },
   {
    "duration": 13,
    "start_time": "2022-01-23T13:13:05.892Z"
   },
   {
    "duration": 12,
    "start_time": "2022-01-23T13:13:06.327Z"
   },
   {
    "duration": 8,
    "start_time": "2022-01-23T13:13:06.944Z"
   },
   {
    "duration": 8,
    "start_time": "2022-01-23T13:13:07.376Z"
   },
   {
    "duration": 7,
    "start_time": "2022-01-23T13:13:07.762Z"
   },
   {
    "duration": 24,
    "start_time": "2022-01-23T13:13:08.152Z"
   },
   {
    "duration": 12,
    "start_time": "2022-01-23T13:13:08.359Z"
   },
   {
    "duration": 14,
    "start_time": "2022-01-23T13:13:08.740Z"
   },
   {
    "duration": 11,
    "start_time": "2022-01-23T13:13:09.162Z"
   },
   {
    "duration": 5,
    "start_time": "2022-01-23T13:13:10.014Z"
   },
   {
    "duration": 10,
    "start_time": "2022-01-23T13:13:10.711Z"
   },
   {
    "duration": 9,
    "start_time": "2022-01-23T13:13:11.384Z"
   },
   {
    "duration": 28,
    "start_time": "2022-01-23T13:13:12.833Z"
   },
   {
    "duration": 11,
    "start_time": "2022-01-23T13:13:15.132Z"
   },
   {
    "duration": 9,
    "start_time": "2022-01-23T13:13:15.851Z"
   },
   {
    "duration": 394,
    "start_time": "2022-01-23T13:13:17.730Z"
   },
   {
    "duration": 355,
    "start_time": "2022-01-23T13:14:23.292Z"
   },
   {
    "duration": 4,
    "start_time": "2022-01-23T13:14:27.505Z"
   },
   {
    "duration": 20,
    "start_time": "2022-01-23T13:16:54.528Z"
   },
   {
    "duration": 5,
    "start_time": "2022-01-23T13:17:17.057Z"
   },
   {
    "duration": 684,
    "start_time": "2022-01-23T20:28:36.613Z"
   },
   {
    "duration": 11,
    "start_time": "2022-01-23T20:28:37.299Z"
   },
   {
    "duration": 81,
    "start_time": "2022-01-23T20:28:37.311Z"
   },
   {
    "duration": 8,
    "start_time": "2022-01-23T20:28:38.061Z"
   },
   {
    "duration": 14,
    "start_time": "2022-01-23T20:28:38.384Z"
   },
   {
    "duration": 6,
    "start_time": "2022-01-23T20:28:39.038Z"
   },
   {
    "duration": 9,
    "start_time": "2022-01-23T20:28:39.460Z"
   },
   {
    "duration": 7,
    "start_time": "2022-01-23T20:28:40.133Z"
   },
   {
    "duration": 24,
    "start_time": "2022-01-23T20:28:40.848Z"
   },
   {
    "duration": 15,
    "start_time": "2022-01-23T20:28:41.242Z"
   },
   {
    "duration": 14,
    "start_time": "2022-01-23T20:28:42.171Z"
   },
   {
    "duration": 10,
    "start_time": "2022-01-23T20:28:43.203Z"
   },
   {
    "duration": 5,
    "start_time": "2022-01-23T20:28:43.813Z"
   },
   {
    "duration": 6,
    "start_time": "2022-01-23T20:28:44.760Z"
   },
   {
    "duration": 6,
    "start_time": "2022-01-23T20:28:44.943Z"
   },
   {
    "duration": 27,
    "start_time": "2022-01-23T20:28:45.948Z"
   },
   {
    "duration": 8,
    "start_time": "2022-01-23T20:28:47.527Z"
   },
   {
    "duration": 8,
    "start_time": "2022-01-23T20:29:04.395Z"
   },
   {
    "duration": 26,
    "start_time": "2022-01-23T20:29:09.825Z"
   },
   {
    "duration": 35,
    "start_time": "2022-01-23T20:29:39.379Z"
   },
   {
    "duration": 377,
    "start_time": "2022-01-23T20:29:45.235Z"
   },
   {
    "duration": 36,
    "start_time": "2022-01-23T20:29:49.222Z"
   },
   {
    "duration": 11,
    "start_time": "2022-01-23T20:30:15.272Z"
   },
   {
    "duration": 21,
    "start_time": "2022-01-23T20:31:30.812Z"
   },
   {
    "duration": 35,
    "start_time": "2022-01-23T20:31:41.886Z"
   },
   {
    "duration": 9,
    "start_time": "2022-01-23T20:32:08.152Z"
   },
   {
    "duration": 39,
    "start_time": "2022-01-23T20:32:15.161Z"
   },
   {
    "duration": 8,
    "start_time": "2022-01-23T20:32:34.922Z"
   },
   {
    "duration": 15,
    "start_time": "2022-01-23T20:42:31.430Z"
   },
   {
    "duration": 6,
    "start_time": "2022-01-23T20:44:48.943Z"
   },
   {
    "duration": 4,
    "start_time": "2022-01-23T20:46:33.064Z"
   },
   {
    "duration": 83,
    "start_time": "2022-01-23T20:46:46.362Z"
   },
   {
    "duration": 10,
    "start_time": "2022-01-23T20:46:46.638Z"
   },
   {
    "duration": 60,
    "start_time": "2022-01-23T20:46:46.797Z"
   },
   {
    "duration": 8,
    "start_time": "2022-01-23T20:46:47.577Z"
   },
   {
    "duration": 11,
    "start_time": "2022-01-23T20:46:47.916Z"
   },
   {
    "duration": 6,
    "start_time": "2022-01-23T20:46:48.448Z"
   },
   {
    "duration": 8,
    "start_time": "2022-01-23T20:46:48.803Z"
   },
   {
    "duration": 8,
    "start_time": "2022-01-23T20:46:49.204Z"
   },
   {
    "duration": 20,
    "start_time": "2022-01-23T20:46:49.806Z"
   },
   {
    "duration": 16,
    "start_time": "2022-01-23T20:46:50.196Z"
   },
   {
    "duration": 16,
    "start_time": "2022-01-23T20:46:50.571Z"
   },
   {
    "duration": 13,
    "start_time": "2022-01-23T20:46:51.514Z"
   },
   {
    "duration": 6,
    "start_time": "2022-01-23T20:46:52.284Z"
   },
   {
    "duration": 7,
    "start_time": "2022-01-23T20:46:53.541Z"
   },
   {
    "duration": 7,
    "start_time": "2022-01-23T20:46:53.894Z"
   },
   {
    "duration": 28,
    "start_time": "2022-01-23T20:46:54.962Z"
   },
   {
    "duration": 9,
    "start_time": "2022-01-23T20:46:55.745Z"
   },
   {
    "duration": 8,
    "start_time": "2022-01-23T20:46:56.753Z"
   },
   {
    "duration": 14,
    "start_time": "2022-01-23T20:46:57.752Z"
   },
   {
    "duration": 5,
    "start_time": "2022-01-23T20:46:58.914Z"
   },
   {
    "duration": 13,
    "start_time": "2022-01-23T20:47:55.140Z"
   },
   {
    "duration": 4,
    "start_time": "2022-01-23T20:47:57.830Z"
   },
   {
    "duration": 25,
    "start_time": "2022-01-23T20:49:14.736Z"
   },
   {
    "duration": 29,
    "start_time": "2022-01-23T20:50:32.441Z"
   },
   {
    "duration": 30,
    "start_time": "2022-01-23T20:51:18.722Z"
   },
   {
    "duration": 33,
    "start_time": "2022-01-23T21:04:08.279Z"
   },
   {
    "duration": 33,
    "start_time": "2022-01-23T21:05:10.509Z"
   },
   {
    "duration": 737,
    "start_time": "2022-01-24T07:44:05.120Z"
   },
   {
    "duration": 11,
    "start_time": "2022-01-24T07:44:05.859Z"
   },
   {
    "duration": 88,
    "start_time": "2022-01-24T07:44:05.871Z"
   },
   {
    "duration": 12,
    "start_time": "2022-01-24T07:44:06.764Z"
   },
   {
    "duration": 16,
    "start_time": "2022-01-24T07:44:07.178Z"
   },
   {
    "duration": 6,
    "start_time": "2022-01-24T07:44:07.801Z"
   },
   {
    "duration": 9,
    "start_time": "2022-01-24T07:44:08.188Z"
   },
   {
    "duration": 8,
    "start_time": "2022-01-24T07:44:08.847Z"
   },
   {
    "duration": 28,
    "start_time": "2022-01-24T07:44:09.701Z"
   },
   {
    "duration": 13,
    "start_time": "2022-01-24T07:44:10.141Z"
   },
   {
    "duration": 17,
    "start_time": "2022-01-24T07:44:11.367Z"
   },
   {
    "duration": 12,
    "start_time": "2022-01-24T07:44:12.988Z"
   },
   {
    "duration": 6,
    "start_time": "2022-01-24T07:44:14.056Z"
   },
   {
    "duration": 7,
    "start_time": "2022-01-24T07:44:14.838Z"
   },
   {
    "duration": 8,
    "start_time": "2022-01-24T07:44:15.568Z"
   },
   {
    "duration": 28,
    "start_time": "2022-01-24T07:44:17.146Z"
   },
   {
    "duration": 10,
    "start_time": "2022-01-24T07:44:19.709Z"
   },
   {
    "duration": 10,
    "start_time": "2022-01-24T07:44:20.769Z"
   },
   {
    "duration": 13,
    "start_time": "2022-01-24T07:44:23.917Z"
   },
   {
    "duration": 5,
    "start_time": "2022-01-24T07:44:26.297Z"
   },
   {
    "duration": 39,
    "start_time": "2022-01-24T07:44:28.562Z"
   },
   {
    "duration": 33,
    "start_time": "2022-01-24T07:53:01.882Z"
   },
   {
    "duration": 35,
    "start_time": "2022-01-24T07:53:42.497Z"
   },
   {
    "duration": 30,
    "start_time": "2022-01-24T07:55:19.525Z"
   },
   {
    "duration": 32,
    "start_time": "2022-01-24T07:55:52.139Z"
   },
   {
    "duration": 20,
    "start_time": "2022-01-24T07:58:51.694Z"
   },
   {
    "duration": 423,
    "start_time": "2022-01-24T08:03:04.626Z"
   },
   {
    "duration": 15,
    "start_time": "2022-01-24T08:14:14.925Z"
   },
   {
    "duration": 11,
    "start_time": "2022-01-24T08:25:32.260Z"
   },
   {
    "duration": 15,
    "start_time": "2022-01-24T08:25:57.002Z"
   },
   {
    "duration": 79,
    "start_time": "2022-01-24T08:26:47.617Z"
   },
   {
    "duration": 264,
    "start_time": "2022-01-24T08:27:36.648Z"
   },
   {
    "duration": 277,
    "start_time": "2022-01-24T08:27:44.307Z"
   },
   {
    "duration": 248,
    "start_time": "2022-01-24T08:28:08.710Z"
   },
   {
    "duration": 19,
    "start_time": "2022-01-24T08:28:20.429Z"
   },
   {
    "duration": 16,
    "start_time": "2022-01-24T08:28:25.322Z"
   },
   {
    "duration": 16,
    "start_time": "2022-01-24T08:28:35.186Z"
   },
   {
    "duration": 18,
    "start_time": "2022-01-24T08:29:41.787Z"
   },
   {
    "duration": 18,
    "start_time": "2022-01-24T08:29:58.450Z"
   },
   {
    "duration": 20,
    "start_time": "2022-01-24T08:30:16.886Z"
   },
   {
    "duration": 21,
    "start_time": "2022-01-24T08:31:08.891Z"
   },
   {
    "duration": 22,
    "start_time": "2022-01-24T08:33:17.221Z"
   },
   {
    "duration": 21,
    "start_time": "2022-01-24T08:40:31.757Z"
   },
   {
    "duration": 30,
    "start_time": "2022-01-24T08:41:30.880Z"
   },
   {
    "duration": 31,
    "start_time": "2022-01-24T08:42:21.485Z"
   },
   {
    "duration": 15,
    "start_time": "2022-01-24T08:42:38.063Z"
   },
   {
    "duration": 13,
    "start_time": "2022-01-24T08:43:54.186Z"
   },
   {
    "duration": 34,
    "start_time": "2022-01-24T08:44:06.308Z"
   },
   {
    "duration": 18,
    "start_time": "2022-01-24T08:44:39.946Z"
   },
   {
    "duration": 376,
    "start_time": "2022-01-24T08:50:12.895Z"
   },
   {
    "duration": 281,
    "start_time": "2022-01-24T08:50:21.701Z"
   },
   {
    "duration": 19,
    "start_time": "2022-01-24T08:50:31.196Z"
   },
   {
    "duration": 19,
    "start_time": "2022-01-24T08:51:29.377Z"
   },
   {
    "duration": 15,
    "start_time": "2022-01-24T08:51:51.840Z"
   },
   {
    "duration": 17,
    "start_time": "2022-01-24T08:52:20.586Z"
   },
   {
    "duration": 91,
    "start_time": "2022-01-24T08:59:02.225Z"
   },
   {
    "duration": 12,
    "start_time": "2022-01-24T08:59:02.594Z"
   },
   {
    "duration": 71,
    "start_time": "2022-01-24T08:59:02.758Z"
   },
   {
    "duration": 10,
    "start_time": "2022-01-24T08:59:03.523Z"
   },
   {
    "duration": 12,
    "start_time": "2022-01-24T08:59:03.843Z"
   },
   {
    "duration": 6,
    "start_time": "2022-01-24T08:59:04.313Z"
   },
   {
    "duration": 9,
    "start_time": "2022-01-24T08:59:04.622Z"
   },
   {
    "duration": 7,
    "start_time": "2022-01-24T08:59:05.002Z"
   },
   {
    "duration": 25,
    "start_time": "2022-01-24T08:59:05.264Z"
   },
   {
    "duration": 13,
    "start_time": "2022-01-24T08:59:05.428Z"
   },
   {
    "duration": 16,
    "start_time": "2022-01-24T08:59:05.738Z"
   },
   {
    "duration": 11,
    "start_time": "2022-01-24T08:59:06.060Z"
   },
   {
    "duration": 5,
    "start_time": "2022-01-24T08:59:06.384Z"
   },
   {
    "duration": 7,
    "start_time": "2022-01-24T08:59:06.727Z"
   },
   {
    "duration": 8,
    "start_time": "2022-01-24T08:59:06.887Z"
   },
   {
    "duration": 30,
    "start_time": "2022-01-24T08:59:07.872Z"
   },
   {
    "duration": 10,
    "start_time": "2022-01-24T08:59:09.470Z"
   },
   {
    "duration": 9,
    "start_time": "2022-01-24T08:59:09.773Z"
   },
   {
    "duration": 12,
    "start_time": "2022-01-24T08:59:10.090Z"
   },
   {
    "duration": 5,
    "start_time": "2022-01-24T08:59:10.437Z"
   },
   {
    "duration": 15,
    "start_time": "2022-01-24T08:59:11.830Z"
   },
   {
    "duration": 17,
    "start_time": "2022-01-24T09:01:47.562Z"
   },
   {
    "duration": 83,
    "start_time": "2022-01-24T09:02:11.456Z"
   },
   {
    "duration": 18,
    "start_time": "2022-01-24T09:02:25.350Z"
   },
   {
    "duration": 24,
    "start_time": "2022-01-24T09:02:47.661Z"
   },
   {
    "duration": 21,
    "start_time": "2022-01-24T09:02:59.471Z"
   },
   {
    "duration": 78,
    "start_time": "2022-01-24T09:11:04.153Z"
   },
   {
    "duration": 10,
    "start_time": "2022-01-24T09:11:19.859Z"
   },
   {
    "duration": 13,
    "start_time": "2022-01-24T09:13:01.826Z"
   },
   {
    "duration": 9,
    "start_time": "2022-01-24T09:14:28.563Z"
   },
   {
    "duration": 11,
    "start_time": "2022-01-24T09:20:42.824Z"
   },
   {
    "duration": 256,
    "start_time": "2022-01-24T09:36:33.947Z"
   },
   {
    "duration": 14,
    "start_time": "2022-01-24T09:38:15.808Z"
   },
   {
    "duration": 17,
    "start_time": "2022-01-24T09:38:39.040Z"
   },
   {
    "duration": 16,
    "start_time": "2022-01-24T09:38:57.473Z"
   },
   {
    "duration": 262,
    "start_time": "2022-01-24T09:40:34.258Z"
   },
   {
    "duration": 262,
    "start_time": "2022-01-24T09:40:53.424Z"
   },
   {
    "duration": 88,
    "start_time": "2022-01-24T09:41:12.616Z"
   },
   {
    "duration": 10,
    "start_time": "2022-01-24T09:41:12.894Z"
   },
   {
    "duration": 79,
    "start_time": "2022-01-24T09:41:13.035Z"
   },
   {
    "duration": 11,
    "start_time": "2022-01-24T09:41:13.733Z"
   },
   {
    "duration": 15,
    "start_time": "2022-01-24T09:41:14.007Z"
   },
   {
    "duration": 6,
    "start_time": "2022-01-24T09:41:14.458Z"
   },
   {
    "duration": 9,
    "start_time": "2022-01-24T09:41:14.748Z"
   },
   {
    "duration": 7,
    "start_time": "2022-01-24T09:41:15.019Z"
   },
   {
    "duration": 24,
    "start_time": "2022-01-24T09:41:15.445Z"
   },
   {
    "duration": 14,
    "start_time": "2022-01-24T09:41:15.654Z"
   },
   {
    "duration": 20,
    "start_time": "2022-01-24T09:41:16.186Z"
   },
   {
    "duration": 12,
    "start_time": "2022-01-24T09:41:17.487Z"
   },
   {
    "duration": 5,
    "start_time": "2022-01-24T09:41:18.430Z"
   },
   {
    "duration": 7,
    "start_time": "2022-01-24T09:41:20.130Z"
   },
   {
    "duration": 7,
    "start_time": "2022-01-24T09:41:20.869Z"
   },
   {
    "duration": 30,
    "start_time": "2022-01-24T09:41:21.864Z"
   },
   {
    "duration": 10,
    "start_time": "2022-01-24T09:41:23.538Z"
   },
   {
    "duration": 10,
    "start_time": "2022-01-24T09:41:24.851Z"
   },
   {
    "duration": 14,
    "start_time": "2022-01-24T09:41:25.703Z"
   },
   {
    "duration": 6,
    "start_time": "2022-01-24T09:41:26.777Z"
   },
   {
    "duration": 10,
    "start_time": "2022-01-24T09:41:28.103Z"
   },
   {
    "duration": 264,
    "start_time": "2022-01-24T09:43:39.587Z"
   },
   {
    "duration": 579,
    "start_time": "2022-01-24T09:44:19.887Z"
   },
   {
    "duration": 530,
    "start_time": "2022-01-24T09:45:05.282Z"
   },
   {
    "duration": 22,
    "start_time": "2022-01-24T09:45:41.158Z"
   },
   {
    "duration": 23,
    "start_time": "2022-01-24T09:46:39.129Z"
   },
   {
    "duration": 21,
    "start_time": "2022-01-24T09:46:41.606Z"
   },
   {
    "duration": 36,
    "start_time": "2022-01-24T09:46:56.393Z"
   },
   {
    "duration": 18,
    "start_time": "2022-01-24T09:47:24.347Z"
   },
   {
    "duration": 253,
    "start_time": "2022-01-24T09:48:32.370Z"
   },
   {
    "duration": 245,
    "start_time": "2022-01-24T09:48:34.994Z"
   },
   {
    "duration": 265,
    "start_time": "2022-01-24T09:48:37.588Z"
   },
   {
    "duration": 15,
    "start_time": "2022-01-24T09:48:58.480Z"
   },
   {
    "duration": 17,
    "start_time": "2022-01-24T09:49:14.295Z"
   },
   {
    "duration": 16,
    "start_time": "2022-01-24T09:52:55.113Z"
   },
   {
    "duration": 12,
    "start_time": "2022-01-24T09:54:07.658Z"
   },
   {
    "duration": 85,
    "start_time": "2022-01-24T09:54:22.938Z"
   },
   {
    "duration": 10,
    "start_time": "2022-01-24T09:54:23.231Z"
   },
   {
    "duration": 68,
    "start_time": "2022-01-24T09:54:23.398Z"
   },
   {
    "duration": 9,
    "start_time": "2022-01-24T09:54:24.147Z"
   },
   {
    "duration": 13,
    "start_time": "2022-01-24T09:54:24.438Z"
   },
   {
    "duration": 7,
    "start_time": "2022-01-24T09:54:24.874Z"
   },
   {
    "duration": 8,
    "start_time": "2022-01-24T09:54:25.178Z"
   },
   {
    "duration": 7,
    "start_time": "2022-01-24T09:54:25.484Z"
   },
   {
    "duration": 26,
    "start_time": "2022-01-24T09:54:25.793Z"
   },
   {
    "duration": 14,
    "start_time": "2022-01-24T09:54:25.946Z"
   },
   {
    "duration": 16,
    "start_time": "2022-01-24T09:54:26.278Z"
   },
   {
    "duration": 16,
    "start_time": "2022-01-24T09:54:26.606Z"
   },
   {
    "duration": 5,
    "start_time": "2022-01-24T09:54:26.946Z"
   },
   {
    "duration": 8,
    "start_time": "2022-01-24T09:54:27.293Z"
   },
   {
    "duration": 7,
    "start_time": "2022-01-24T09:54:27.444Z"
   },
   {
    "duration": 30,
    "start_time": "2022-01-24T09:54:27.853Z"
   },
   {
    "duration": 11,
    "start_time": "2022-01-24T09:54:28.933Z"
   },
   {
    "duration": 11,
    "start_time": "2022-01-24T09:54:29.262Z"
   },
   {
    "duration": 14,
    "start_time": "2022-01-24T09:54:29.457Z"
   },
   {
    "duration": 6,
    "start_time": "2022-01-24T09:54:29.613Z"
   },
   {
    "duration": 11,
    "start_time": "2022-01-24T09:54:29.797Z"
   },
   {
    "duration": 12,
    "start_time": "2022-01-24T09:54:32.323Z"
   },
   {
    "duration": 251,
    "start_time": "2022-01-24T09:57:58.989Z"
   },
   {
    "duration": 19,
    "start_time": "2022-01-24T09:58:26.199Z"
   },
   {
    "duration": 19,
    "start_time": "2022-01-24T09:58:30.520Z"
   },
   {
    "duration": 26,
    "start_time": "2022-01-24T09:58:39.163Z"
   },
   {
    "duration": 25,
    "start_time": "2022-01-24T09:59:07.098Z"
   },
   {
    "duration": 16,
    "start_time": "2022-01-24T10:08:39.141Z"
   },
   {
    "duration": 82,
    "start_time": "2022-01-24T10:10:47.317Z"
   },
   {
    "duration": 83,
    "start_time": "2022-01-24T10:11:04.380Z"
   },
   {
    "duration": 18,
    "start_time": "2022-01-24T10:11:26.636Z"
   },
   {
    "duration": 18,
    "start_time": "2022-01-24T10:12:34.309Z"
   },
   {
    "duration": 300,
    "start_time": "2022-01-24T10:19:00.002Z"
   },
   {
    "duration": 510,
    "start_time": "2022-01-24T10:19:10.483Z"
   },
   {
    "duration": 272,
    "start_time": "2022-01-24T10:19:17.065Z"
   },
   {
    "duration": 260,
    "start_time": "2022-01-24T10:19:21.998Z"
   },
   {
    "duration": 17,
    "start_time": "2022-01-24T10:19:25.157Z"
   },
   {
    "duration": 30,
    "start_time": "2022-01-24T10:21:22.284Z"
   },
   {
    "duration": 66,
    "start_time": "2022-01-24T10:21:37.106Z"
   },
   {
    "duration": 38,
    "start_time": "2022-01-24T10:21:51.649Z"
   },
   {
    "duration": 252,
    "start_time": "2022-01-24T10:22:23.852Z"
   },
   {
    "duration": 19,
    "start_time": "2022-01-24T10:23:37.237Z"
   },
   {
    "duration": 35,
    "start_time": "2022-01-24T10:23:45.638Z"
   },
   {
    "duration": 270,
    "start_time": "2022-01-24T10:25:59.655Z"
   },
   {
    "duration": 201,
    "start_time": "2022-01-24T10:26:14.406Z"
   },
   {
    "duration": 40,
    "start_time": "2022-01-24T10:26:29.930Z"
   },
   {
    "duration": 9,
    "start_time": "2022-01-24T10:27:43.945Z"
   },
   {
    "duration": 10,
    "start_time": "2022-01-24T10:28:05.576Z"
   },
   {
    "duration": 12,
    "start_time": "2022-01-24T10:29:23.731Z"
   },
   {
    "duration": 14,
    "start_time": "2022-01-24T10:29:45.442Z"
   },
   {
    "duration": 19,
    "start_time": "2022-01-24T10:29:51.234Z"
   },
   {
    "duration": 19,
    "start_time": "2022-01-24T10:31:17.509Z"
   },
   {
    "duration": 22,
    "start_time": "2022-01-24T10:32:13.531Z"
   },
   {
    "duration": 19,
    "start_time": "2022-01-24T10:34:58.756Z"
   },
   {
    "duration": 22,
    "start_time": "2022-01-24T10:35:20.678Z"
   },
   {
    "duration": 20,
    "start_time": "2022-01-24T10:35:36.726Z"
   },
   {
    "duration": 21,
    "start_time": "2022-01-24T10:36:09.765Z"
   },
   {
    "duration": 41,
    "start_time": "2022-01-24T10:36:31.305Z"
   },
   {
    "duration": 20,
    "start_time": "2022-01-24T10:38:33.033Z"
   },
   {
    "duration": 27,
    "start_time": "2022-01-24T10:40:04.704Z"
   },
   {
    "duration": 7,
    "start_time": "2022-01-24T10:50:57.485Z"
   },
   {
    "duration": 263,
    "start_time": "2022-01-24T10:51:05.093Z"
   },
   {
    "duration": 88,
    "start_time": "2022-01-24T10:51:10.518Z"
   },
   {
    "duration": 11,
    "start_time": "2022-01-24T10:51:11.603Z"
   },
   {
    "duration": 70,
    "start_time": "2022-01-24T10:51:12.306Z"
   },
   {
    "duration": 9,
    "start_time": "2022-01-24T10:51:25.704Z"
   },
   {
    "duration": 14,
    "start_time": "2022-01-24T10:51:29.833Z"
   },
   {
    "duration": 9,
    "start_time": "2022-01-24T10:55:31.885Z"
   },
   {
    "duration": 24,
    "start_time": "2022-01-24T11:23:39.832Z"
   },
   {
    "duration": 7,
    "start_time": "2022-01-24T11:24:27.013Z"
   },
   {
    "duration": 7,
    "start_time": "2022-01-24T11:24:27.789Z"
   },
   {
    "duration": 9,
    "start_time": "2022-01-24T11:24:30.909Z"
   },
   {
    "duration": 24,
    "start_time": "2022-01-24T11:24:34.522Z"
   },
   {
    "duration": 14,
    "start_time": "2022-01-24T11:24:35.976Z"
   },
   {
    "duration": 90,
    "start_time": "2022-01-24T11:27:30.910Z"
   },
   {
    "duration": 12,
    "start_time": "2022-01-24T11:27:31.236Z"
   },
   {
    "duration": 71,
    "start_time": "2022-01-24T11:27:31.399Z"
   },
   {
    "duration": 11,
    "start_time": "2022-01-24T11:27:32.103Z"
   },
   {
    "duration": 15,
    "start_time": "2022-01-24T11:27:32.374Z"
   },
   {
    "duration": 6,
    "start_time": "2022-01-24T11:27:33.109Z"
   },
   {
    "duration": 10,
    "start_time": "2022-01-24T11:27:34.023Z"
   },
   {
    "duration": 8,
    "start_time": "2022-01-24T11:27:34.686Z"
   },
   {
    "duration": 25,
    "start_time": "2022-01-24T11:27:35.868Z"
   },
   {
    "duration": 13,
    "start_time": "2022-01-24T11:27:36.415Z"
   },
   {
    "duration": 17,
    "start_time": "2022-01-24T11:27:37.354Z"
   },
   {
    "duration": 12,
    "start_time": "2022-01-24T11:27:38.587Z"
   },
   {
    "duration": 5,
    "start_time": "2022-01-24T11:27:39.607Z"
   },
   {
    "duration": 7,
    "start_time": "2022-01-24T11:27:41.718Z"
   },
   {
    "duration": 7,
    "start_time": "2022-01-24T11:27:43.983Z"
   },
   {
    "duration": 29,
    "start_time": "2022-01-24T11:27:48.898Z"
   },
   {
    "duration": 28,
    "start_time": "2022-01-24T11:28:14.543Z"
   },
   {
    "duration": 28,
    "start_time": "2022-01-24T11:28:20.068Z"
   },
   {
    "duration": 11,
    "start_time": "2022-01-24T11:33:45.024Z"
   },
   {
    "duration": 14,
    "start_time": "2022-01-24T11:34:41.249Z"
   },
   {
    "duration": 8,
    "start_time": "2022-01-24T11:34:55.648Z"
   },
   {
    "duration": 13,
    "start_time": "2022-01-24T11:36:45.858Z"
   },
   {
    "duration": 296,
    "start_time": "2022-01-24T11:49:19.396Z"
   },
   {
    "duration": 269,
    "start_time": "2022-01-24T11:49:25.673Z"
   },
   {
    "duration": 96,
    "start_time": "2022-01-24T11:50:10.690Z"
   },
   {
    "duration": 10,
    "start_time": "2022-01-24T11:50:17.375Z"
   },
   {
    "duration": 9,
    "start_time": "2022-01-24T11:50:37.096Z"
   },
   {
    "duration": 12,
    "start_time": "2022-01-24T11:51:31.151Z"
   },
   {
    "duration": 13,
    "start_time": "2022-01-24T11:52:01.265Z"
   },
   {
    "duration": 10,
    "start_time": "2022-01-24T11:53:34.260Z"
   },
   {
    "duration": 14,
    "start_time": "2022-01-24T12:01:37.640Z"
   },
   {
    "duration": 10,
    "start_time": "2022-01-24T12:04:05.096Z"
   },
   {
    "duration": 17,
    "start_time": "2022-01-24T12:19:04.382Z"
   },
   {
    "duration": 11,
    "start_time": "2022-01-24T12:42:55.018Z"
   },
   {
    "duration": 10,
    "start_time": "2022-01-24T12:43:03.048Z"
   },
   {
    "duration": 9,
    "start_time": "2022-01-24T12:44:25.398Z"
   },
   {
    "duration": 86,
    "start_time": "2022-01-24T12:44:30.613Z"
   },
   {
    "duration": 11,
    "start_time": "2022-01-24T12:44:30.843Z"
   },
   {
    "duration": 69,
    "start_time": "2022-01-24T12:44:30.984Z"
   },
   {
    "duration": 11,
    "start_time": "2022-01-24T12:44:31.529Z"
   },
   {
    "duration": 15,
    "start_time": "2022-01-24T12:44:31.784Z"
   },
   {
    "duration": 6,
    "start_time": "2022-01-24T12:44:32.083Z"
   },
   {
    "duration": 10,
    "start_time": "2022-01-24T12:44:32.344Z"
   },
   {
    "duration": 7,
    "start_time": "2022-01-24T12:44:32.592Z"
   },
   {
    "duration": 24,
    "start_time": "2022-01-24T12:44:32.793Z"
   },
   {
    "duration": 13,
    "start_time": "2022-01-24T12:44:32.924Z"
   },
   {
    "duration": 16,
    "start_time": "2022-01-24T12:44:33.118Z"
   },
   {
    "duration": 11,
    "start_time": "2022-01-24T12:44:33.480Z"
   },
   {
    "duration": 5,
    "start_time": "2022-01-24T12:44:33.772Z"
   },
   {
    "duration": 7,
    "start_time": "2022-01-24T12:44:33.994Z"
   },
   {
    "duration": 7,
    "start_time": "2022-01-24T12:44:34.100Z"
   },
   {
    "duration": 30,
    "start_time": "2022-01-24T12:44:34.812Z"
   },
   {
    "duration": 11,
    "start_time": "2022-01-24T12:44:35.956Z"
   },
   {
    "duration": 10,
    "start_time": "2022-01-24T12:44:37.520Z"
   },
   {
    "duration": 14,
    "start_time": "2022-01-24T12:44:38.558Z"
   },
   {
    "duration": 10,
    "start_time": "2022-01-24T12:44:41.784Z"
   },
   {
    "duration": 30,
    "start_time": "2022-01-24T12:44:55.415Z"
   },
   {
    "duration": 15,
    "start_time": "2022-01-24T12:46:00.952Z"
   },
   {
    "duration": 15,
    "start_time": "2022-01-24T12:46:18.514Z"
   },
   {
    "duration": 258,
    "start_time": "2022-01-24T12:46:57.554Z"
   },
   {
    "duration": 417,
    "start_time": "2022-01-24T12:47:41.932Z"
   },
   {
    "duration": 32,
    "start_time": "2022-01-24T12:47:56.780Z"
   },
   {
    "duration": 29,
    "start_time": "2022-01-24T12:48:08.465Z"
   },
   {
    "duration": 12,
    "start_time": "2022-01-24T12:50:54.418Z"
   },
   {
    "duration": 31,
    "start_time": "2022-01-24T12:55:13.147Z"
   },
   {
    "duration": 6,
    "start_time": "2022-01-24T12:55:46.018Z"
   },
   {
    "duration": 18,
    "start_time": "2022-01-24T12:58:11.522Z"
   },
   {
    "duration": 15,
    "start_time": "2022-01-24T13:00:44.776Z"
   },
   {
    "duration": 12,
    "start_time": "2022-01-24T13:01:48.883Z"
   },
   {
    "duration": 90,
    "start_time": "2022-01-24T13:01:55.172Z"
   },
   {
    "duration": 11,
    "start_time": "2022-01-24T13:01:55.490Z"
   },
   {
    "duration": 67,
    "start_time": "2022-01-24T13:01:55.658Z"
   },
   {
    "duration": 10,
    "start_time": "2022-01-24T13:01:56.440Z"
   },
   {
    "duration": 15,
    "start_time": "2022-01-24T13:01:56.780Z"
   },
   {
    "duration": 6,
    "start_time": "2022-01-24T13:01:57.130Z"
   },
   {
    "duration": 9,
    "start_time": "2022-01-24T13:01:57.463Z"
   },
   {
    "duration": 8,
    "start_time": "2022-01-24T13:01:57.807Z"
   },
   {
    "duration": 26,
    "start_time": "2022-01-24T13:01:58.150Z"
   },
   {
    "duration": 14,
    "start_time": "2022-01-24T13:01:58.334Z"
   },
   {
    "duration": 16,
    "start_time": "2022-01-24T13:01:58.694Z"
   },
   {
    "duration": 13,
    "start_time": "2022-01-24T13:01:59.373Z"
   },
   {
    "duration": 6,
    "start_time": "2022-01-24T13:01:59.840Z"
   },
   {
    "duration": 8,
    "start_time": "2022-01-24T13:02:00.421Z"
   },
   {
    "duration": 8,
    "start_time": "2022-01-24T13:02:00.764Z"
   },
   {
    "duration": 31,
    "start_time": "2022-01-24T13:02:01.406Z"
   },
   {
    "duration": 9,
    "start_time": "2022-01-24T13:02:03.252Z"
   },
   {
    "duration": 11,
    "start_time": "2022-01-24T13:02:06.400Z"
   },
   {
    "duration": 15,
    "start_time": "2022-01-24T13:02:07.769Z"
   },
   {
    "duration": 7,
    "start_time": "2022-01-24T13:02:09.185Z"
   },
   {
    "duration": 22,
    "start_time": "2022-01-24T13:02:12.780Z"
   },
   {
    "duration": 866,
    "start_time": "2022-01-25T07:27:35.585Z"
   },
   {
    "duration": 23,
    "start_time": "2022-01-25T07:27:36.454Z"
   },
   {
    "duration": 103,
    "start_time": "2022-01-25T07:27:36.810Z"
   },
   {
    "duration": 12,
    "start_time": "2022-01-25T07:27:38.175Z"
   },
   {
    "duration": 22,
    "start_time": "2022-01-25T07:27:38.875Z"
   },
   {
    "duration": 8,
    "start_time": "2022-01-25T07:27:39.491Z"
   },
   {
    "duration": 11,
    "start_time": "2022-01-25T07:27:40.158Z"
   },
   {
    "duration": 10,
    "start_time": "2022-01-25T07:27:40.982Z"
   },
   {
    "duration": 39,
    "start_time": "2022-01-25T07:27:41.755Z"
   },
   {
    "duration": 19,
    "start_time": "2022-01-25T07:27:42.181Z"
   },
   {
    "duration": 23,
    "start_time": "2022-01-25T07:27:42.854Z"
   },
   {
    "duration": 16,
    "start_time": "2022-01-25T07:27:43.495Z"
   },
   {
    "duration": 8,
    "start_time": "2022-01-25T07:27:44.151Z"
   },
   {
    "duration": 9,
    "start_time": "2022-01-25T07:27:44.823Z"
   },
   {
    "duration": 9,
    "start_time": "2022-01-25T07:27:45.251Z"
   },
   {
    "duration": 56,
    "start_time": "2022-01-25T07:27:46.383Z"
   },
   {
    "duration": 13,
    "start_time": "2022-01-25T07:27:47.523Z"
   },
   {
    "duration": 13,
    "start_time": "2022-01-25T07:27:48.576Z"
   },
   {
    "duration": 19,
    "start_time": "2022-01-25T07:27:49.831Z"
   },
   {
    "duration": 7,
    "start_time": "2022-01-25T07:27:51.278Z"
   },
   {
    "duration": 21,
    "start_time": "2022-01-25T07:27:52.886Z"
   },
   {
    "duration": 24,
    "start_time": "2022-01-25T07:37:27.226Z"
   },
   {
    "duration": 12,
    "start_time": "2022-01-25T07:38:04.131Z"
   },
   {
    "duration": 21,
    "start_time": "2022-01-25T07:38:17.847Z"
   },
   {
    "duration": 116,
    "start_time": "2022-01-25T07:38:37.685Z"
   },
   {
    "duration": 16,
    "start_time": "2022-01-25T07:38:39.674Z"
   },
   {
    "duration": 106,
    "start_time": "2022-01-25T07:38:40.818Z"
   },
   {
    "duration": 14,
    "start_time": "2022-01-25T07:38:50.282Z"
   },
   {
    "duration": 20,
    "start_time": "2022-01-25T07:38:55.512Z"
   },
   {
    "duration": 9,
    "start_time": "2022-01-25T07:39:06.407Z"
   },
   {
    "duration": 12,
    "start_time": "2022-01-25T07:39:10.276Z"
   },
   {
    "duration": 11,
    "start_time": "2022-01-25T07:39:12.712Z"
   },
   {
    "duration": 37,
    "start_time": "2022-01-25T07:39:18.496Z"
   },
   {
    "duration": 18,
    "start_time": "2022-01-25T07:39:30.882Z"
   },
   {
    "duration": 23,
    "start_time": "2022-01-25T07:39:35.865Z"
   },
   {
    "duration": 17,
    "start_time": "2022-01-25T07:39:38.708Z"
   },
   {
    "duration": 7,
    "start_time": "2022-01-25T07:39:50.358Z"
   },
   {
    "duration": 11,
    "start_time": "2022-01-25T07:40:02.419Z"
   },
   {
    "duration": 11,
    "start_time": "2022-01-25T07:40:03.803Z"
   },
   {
    "duration": 48,
    "start_time": "2022-01-25T07:40:06.117Z"
   },
   {
    "duration": 14,
    "start_time": "2022-01-25T07:40:07.281Z"
   },
   {
    "duration": 14,
    "start_time": "2022-01-25T07:40:13.579Z"
   },
   {
    "duration": 20,
    "start_time": "2022-01-25T07:40:19.905Z"
   },
   {
    "duration": 6,
    "start_time": "2022-01-25T07:40:22.221Z"
   },
   {
    "duration": 13,
    "start_time": "2022-01-25T07:40:25.261Z"
   },
   {
    "duration": 23,
    "start_time": "2022-01-25T07:40:43.464Z"
   },
   {
    "duration": 23,
    "start_time": "2022-01-25T07:53:25.865Z"
   },
   {
    "duration": 373,
    "start_time": "2022-01-25T08:03:03.225Z"
   },
   {
    "duration": 12,
    "start_time": "2022-01-25T08:03:32.551Z"
   },
   {
    "duration": 23,
    "start_time": "2022-01-25T08:11:53.481Z"
   },
   {
    "duration": 24,
    "start_time": "2022-01-25T08:17:38.080Z"
   },
   {
    "duration": 121,
    "start_time": "2022-01-25T08:17:48.312Z"
   },
   {
    "duration": 17,
    "start_time": "2022-01-25T08:17:48.631Z"
   },
   {
    "duration": 105,
    "start_time": "2022-01-25T08:17:48.788Z"
   },
   {
    "duration": 12,
    "start_time": "2022-01-25T08:17:49.620Z"
   },
   {
    "duration": 20,
    "start_time": "2022-01-25T08:17:49.960Z"
   },
   {
    "duration": 8,
    "start_time": "2022-01-25T08:17:50.294Z"
   },
   {
    "duration": 11,
    "start_time": "2022-01-25T08:17:50.620Z"
   },
   {
    "duration": 10,
    "start_time": "2022-01-25T08:17:50.953Z"
   },
   {
    "duration": 36,
    "start_time": "2022-01-25T08:17:51.304Z"
   },
   {
    "duration": 18,
    "start_time": "2022-01-25T08:17:51.463Z"
   },
   {
    "duration": 21,
    "start_time": "2022-01-25T08:17:51.833Z"
   },
   {
    "duration": 16,
    "start_time": "2022-01-25T08:17:52.686Z"
   },
   {
    "duration": 7,
    "start_time": "2022-01-25T08:17:53.184Z"
   },
   {
    "duration": 9,
    "start_time": "2022-01-25T08:17:53.725Z"
   },
   {
    "duration": 11,
    "start_time": "2022-01-25T08:17:53.943Z"
   },
   {
    "duration": 48,
    "start_time": "2022-01-25T08:17:54.672Z"
   },
   {
    "duration": 11,
    "start_time": "2022-01-25T08:17:56.159Z"
   },
   {
    "duration": 14,
    "start_time": "2022-01-25T08:17:57.084Z"
   },
   {
    "duration": 21,
    "start_time": "2022-01-25T08:17:58.797Z"
   },
   {
    "duration": 8,
    "start_time": "2022-01-25T08:17:59.879Z"
   },
   {
    "duration": 14,
    "start_time": "2022-01-25T08:18:01.807Z"
   },
   {
    "duration": 23,
    "start_time": "2022-01-25T08:18:02.697Z"
   },
   {
    "duration": 12,
    "start_time": "2022-01-25T08:18:07.089Z"
   },
   {
    "duration": 1844,
    "start_time": "2022-01-25T08:18:17.506Z"
   },
   {
    "duration": 30,
    "start_time": "2022-01-25T08:18:52.869Z"
   },
   {
    "duration": 6,
    "start_time": "2022-01-25T08:33:28.906Z"
   },
   {
    "duration": 528,
    "start_time": "2022-01-25T08:33:29.386Z"
   },
   {
    "duration": 22,
    "start_time": "2022-01-25T08:33:40.558Z"
   },
   {
    "duration": 5,
    "start_time": "2022-01-25T08:33:57.756Z"
   },
   {
    "duration": 24,
    "start_time": "2022-01-25T08:34:08.177Z"
   },
   {
    "duration": 6,
    "start_time": "2022-01-25T08:52:02.727Z"
   },
   {
    "duration": 9,
    "start_time": "2022-01-25T08:52:21.776Z"
   },
   {
    "duration": 765,
    "start_time": "2022-01-25T09:31:16.256Z"
   },
   {
    "duration": 770,
    "start_time": "2022-01-25T09:31:29.990Z"
   },
   {
    "duration": 853,
    "start_time": "2022-01-25T09:32:51.025Z"
   },
   {
    "duration": 5,
    "start_time": "2022-01-25T09:35:41.371Z"
   },
   {
    "duration": 13,
    "start_time": "2022-01-25T09:35:42.370Z"
   },
   {
    "duration": 767,
    "start_time": "2022-01-25T09:35:45.787Z"
   },
   {
    "duration": 10,
    "start_time": "2022-01-25T09:41:19.327Z"
   },
   {
    "duration": 37,
    "start_time": "2022-01-25T09:41:24.998Z"
   },
   {
    "duration": 8,
    "start_time": "2022-01-25T09:42:19.363Z"
   },
   {
    "duration": 20,
    "start_time": "2022-01-25T09:42:48.779Z"
   },
   {
    "duration": 47,
    "start_time": "2022-01-25T09:43:59.156Z"
   },
   {
    "duration": 18,
    "start_time": "2022-01-25T09:44:27.578Z"
   },
   {
    "duration": 7,
    "start_time": "2022-01-25T09:45:44.372Z"
   },
   {
    "duration": 35,
    "start_time": "2022-01-25T09:46:20.467Z"
   },
   {
    "duration": 37,
    "start_time": "2022-01-25T09:46:28.099Z"
   },
   {
    "duration": 33,
    "start_time": "2022-01-25T09:49:04.829Z"
   },
   {
    "duration": 705,
    "start_time": "2022-01-25T12:17:14.640Z"
   },
   {
    "duration": 10,
    "start_time": "2022-01-25T12:17:15.347Z"
   },
   {
    "duration": 73,
    "start_time": "2022-01-25T12:17:15.358Z"
   },
   {
    "duration": 9,
    "start_time": "2022-01-25T12:17:16.199Z"
   },
   {
    "duration": 15,
    "start_time": "2022-01-25T12:17:16.563Z"
   },
   {
    "duration": 6,
    "start_time": "2022-01-25T12:17:16.884Z"
   },
   {
    "duration": 8,
    "start_time": "2022-01-25T12:17:17.303Z"
   },
   {
    "duration": 7,
    "start_time": "2022-01-25T12:17:17.589Z"
   },
   {
    "duration": 26,
    "start_time": "2022-01-25T12:17:17.989Z"
   },
   {
    "duration": 12,
    "start_time": "2022-01-25T12:17:18.098Z"
   },
   {
    "duration": 14,
    "start_time": "2022-01-25T12:17:18.416Z"
   },
   {
    "duration": 10,
    "start_time": "2022-01-25T12:17:18.864Z"
   },
   {
    "duration": 5,
    "start_time": "2022-01-25T12:17:19.364Z"
   },
   {
    "duration": 7,
    "start_time": "2022-01-25T12:17:19.798Z"
   },
   {
    "duration": 7,
    "start_time": "2022-01-25T12:17:19.964Z"
   },
   {
    "duration": 27,
    "start_time": "2022-01-25T12:17:20.480Z"
   },
   {
    "duration": 9,
    "start_time": "2022-01-25T12:17:20.893Z"
   },
   {
    "duration": 9,
    "start_time": "2022-01-25T12:17:21.322Z"
   },
   {
    "duration": 14,
    "start_time": "2022-01-25T12:17:21.681Z"
   },
   {
    "duration": 5,
    "start_time": "2022-01-25T12:17:22.228Z"
   },
   {
    "duration": 10,
    "start_time": "2022-01-25T12:17:22.731Z"
   },
   {
    "duration": 14,
    "start_time": "2022-01-25T12:17:23.499Z"
   },
   {
    "duration": 8,
    "start_time": "2022-01-25T12:17:24.493Z"
   },
   {
    "duration": 9,
    "start_time": "2022-01-25T12:17:24.775Z"
   },
   {
    "duration": 23,
    "start_time": "2022-01-25T12:17:25.089Z"
   },
   {
    "duration": 6,
    "start_time": "2022-01-25T12:17:26.238Z"
   },
   {
    "duration": 10,
    "start_time": "2022-01-25T12:17:26.624Z"
   },
   {
    "duration": 417,
    "start_time": "2022-01-25T12:17:29.282Z"
   },
   {
    "duration": 6,
    "start_time": "2022-01-25T12:17:30.333Z"
   },
   {
    "duration": 21,
    "start_time": "2022-01-25T12:17:36.111Z"
   },
   {
    "duration": 3,
    "start_time": "2022-01-25T12:35:53.345Z"
   },
   {
    "duration": 734,
    "start_time": "2022-01-25T13:09:19.200Z"
   },
   {
    "duration": 484,
    "start_time": "2022-01-25T13:09:41.876Z"
   },
   {
    "duration": 9,
    "start_time": "2022-01-25T13:09:42.362Z"
   },
   {
    "duration": 60,
    "start_time": "2022-01-25T13:09:42.372Z"
   },
   {
    "duration": 9,
    "start_time": "2022-01-25T13:09:42.981Z"
   },
   {
    "duration": 12,
    "start_time": "2022-01-25T13:09:43.274Z"
   },
   {
    "duration": 6,
    "start_time": "2022-01-25T13:09:43.545Z"
   },
   {
    "duration": 7,
    "start_time": "2022-01-25T13:09:43.847Z"
   },
   {
    "duration": 6,
    "start_time": "2022-01-25T13:09:44.183Z"
   },
   {
    "duration": 21,
    "start_time": "2022-01-25T13:09:44.532Z"
   },
   {
    "duration": 11,
    "start_time": "2022-01-25T13:09:44.701Z"
   },
   {
    "duration": 14,
    "start_time": "2022-01-25T13:09:45.231Z"
   },
   {
    "duration": 11,
    "start_time": "2022-01-25T13:09:45.704Z"
   },
   {
    "duration": 5,
    "start_time": "2022-01-25T13:09:45.798Z"
   },
   {
    "duration": 7,
    "start_time": "2022-01-25T13:09:46.448Z"
   },
   {
    "duration": 5,
    "start_time": "2022-01-25T13:09:46.457Z"
   },
   {
    "duration": 28,
    "start_time": "2022-01-25T13:09:46.713Z"
   },
   {
    "duration": 7,
    "start_time": "2022-01-25T13:09:46.972Z"
   },
   {
    "duration": 9,
    "start_time": "2022-01-25T13:09:47.293Z"
   },
   {
    "duration": 14,
    "start_time": "2022-01-25T13:09:47.637Z"
   },
   {
    "duration": 5,
    "start_time": "2022-01-25T13:09:47.996Z"
   },
   {
    "duration": 9,
    "start_time": "2022-01-25T13:09:48.329Z"
   },
   {
    "duration": 13,
    "start_time": "2022-01-25T13:09:48.477Z"
   },
   {
    "duration": 8,
    "start_time": "2022-01-25T13:09:48.927Z"
   },
   {
    "duration": 8,
    "start_time": "2022-01-25T13:09:49.230Z"
   },
   {
    "duration": 13,
    "start_time": "2022-01-25T13:09:49.391Z"
   },
   {
    "duration": 5,
    "start_time": "2022-01-25T13:09:50.595Z"
   },
   {
    "duration": 9,
    "start_time": "2022-01-25T13:09:50.936Z"
   },
   {
    "duration": 451,
    "start_time": "2022-01-25T13:09:51.308Z"
   },
   {
    "duration": 6,
    "start_time": "2022-01-25T13:09:51.902Z"
   },
   {
    "duration": 20,
    "start_time": "2022-01-25T13:09:52.672Z"
   },
   {
    "duration": 23,
    "start_time": "2022-01-25T13:09:55.342Z"
   },
   {
    "duration": 306,
    "start_time": "2022-01-25T13:09:59.689Z"
   },
   {
    "duration": 319,
    "start_time": "2022-01-25T13:10:35.274Z"
   },
   {
    "duration": 475,
    "start_time": "2022-01-25T13:26:41.831Z"
   },
   {
    "duration": 1054,
    "start_time": "2022-01-25T13:26:56.125Z"
   },
   {
    "duration": 923,
    "start_time": "2022-01-25T13:27:03.803Z"
   },
   {
    "duration": 1007,
    "start_time": "2022-01-25T13:27:44.951Z"
   },
   {
    "duration": 634,
    "start_time": "2022-01-25T13:28:26.864Z"
   },
   {
    "duration": 106,
    "start_time": "2022-01-25T13:28:52.317Z"
   },
   {
    "duration": 99,
    "start_time": "2022-01-25T13:29:10.978Z"
   },
   {
    "duration": 1184,
    "start_time": "2022-01-25T13:29:17.443Z"
   },
   {
    "duration": 1877,
    "start_time": "2022-01-25T13:29:30.070Z"
   },
   {
    "duration": 869,
    "start_time": "2022-01-25T13:29:44.330Z"
   },
   {
    "duration": 974,
    "start_time": "2022-01-25T13:29:54.005Z"
   },
   {
    "duration": 752,
    "start_time": "2022-01-25T13:30:06.222Z"
   },
   {
    "duration": 305,
    "start_time": "2022-01-25T13:30:19.734Z"
   },
   {
    "duration": 396,
    "start_time": "2022-01-25T13:30:27.761Z"
   },
   {
    "duration": 224,
    "start_time": "2022-01-25T13:30:46.814Z"
   },
   {
    "duration": 228,
    "start_time": "2022-01-25T13:30:57.605Z"
   },
   {
    "duration": 1203,
    "start_time": "2022-01-26T07:41:58.356Z"
   },
   {
    "duration": 11,
    "start_time": "2022-01-26T07:41:59.561Z"
   },
   {
    "duration": 76,
    "start_time": "2022-01-26T07:41:59.732Z"
   },
   {
    "duration": 9,
    "start_time": "2022-01-26T07:42:01.865Z"
   },
   {
    "duration": 19,
    "start_time": "2022-01-26T07:42:02.892Z"
   },
   {
    "duration": 6,
    "start_time": "2022-01-26T07:42:03.868Z"
   },
   {
    "duration": 9,
    "start_time": "2022-01-26T07:42:05.189Z"
   },
   {
    "duration": 7,
    "start_time": "2022-01-26T07:42:07.050Z"
   },
   {
    "duration": 28,
    "start_time": "2022-01-26T07:42:07.199Z"
   },
   {
    "duration": 13,
    "start_time": "2022-01-26T07:42:07.988Z"
   },
   {
    "duration": 16,
    "start_time": "2022-01-26T07:42:09.213Z"
   },
   {
    "duration": 12,
    "start_time": "2022-01-26T07:42:09.854Z"
   },
   {
    "duration": 6,
    "start_time": "2022-01-26T07:42:10.372Z"
   },
   {
    "duration": 7,
    "start_time": "2022-01-26T07:42:10.826Z"
   },
   {
    "duration": 7,
    "start_time": "2022-01-26T07:42:11.066Z"
   },
   {
    "duration": 31,
    "start_time": "2022-01-26T07:42:11.502Z"
   },
   {
    "duration": 10,
    "start_time": "2022-01-26T07:42:11.889Z"
   },
   {
    "duration": 10,
    "start_time": "2022-01-26T07:42:12.262Z"
   },
   {
    "duration": 20,
    "start_time": "2022-01-26T07:42:12.824Z"
   },
   {
    "duration": 5,
    "start_time": "2022-01-26T07:42:13.197Z"
   },
   {
    "duration": 10,
    "start_time": "2022-01-26T07:42:13.555Z"
   },
   {
    "duration": 25,
    "start_time": "2022-01-26T07:42:13.734Z"
   },
   {
    "duration": 9,
    "start_time": "2022-01-26T07:42:14.438Z"
   },
   {
    "duration": 8,
    "start_time": "2022-01-26T07:42:14.802Z"
   },
   {
    "duration": 17,
    "start_time": "2022-01-26T07:42:15.102Z"
   },
   {
    "duration": 4,
    "start_time": "2022-01-26T07:42:16.833Z"
   },
   {
    "duration": 10,
    "start_time": "2022-01-26T07:42:17.808Z"
   },
   {
    "duration": 433,
    "start_time": "2022-01-26T07:42:18.967Z"
   },
   {
    "duration": 5,
    "start_time": "2022-01-26T07:42:20.752Z"
   },
   {
    "duration": 25,
    "start_time": "2022-01-26T07:43:03.382Z"
   },
   {
    "duration": 25,
    "start_time": "2022-01-26T07:43:05.222Z"
   },
   {
    "duration": 276,
    "start_time": "2022-01-26T07:43:09.522Z"
   },
   {
    "duration": 479,
    "start_time": "2022-01-26T07:43:27.361Z"
   },
   {
    "duration": 541,
    "start_time": "2022-01-26T07:43:44.959Z"
   },
   {
    "duration": 570,
    "start_time": "2022-01-26T07:44:15.570Z"
   },
   {
    "duration": 1100,
    "start_time": "2022-01-26T07:44:32.103Z"
   },
   {
    "duration": 2167,
    "start_time": "2022-01-26T07:44:58.625Z"
   },
   {
    "duration": 2198,
    "start_time": "2022-01-26T07:45:59.214Z"
   },
   {
    "duration": 1296,
    "start_time": "2022-01-26T07:46:16.123Z"
   },
   {
    "duration": 602,
    "start_time": "2022-01-26T07:46:30.316Z"
   },
   {
    "duration": 562,
    "start_time": "2022-01-26T07:46:38.125Z"
   },
   {
    "duration": 379,
    "start_time": "2022-01-26T07:46:50.212Z"
   },
   {
    "duration": 395,
    "start_time": "2022-01-26T07:47:00.305Z"
   },
   {
    "duration": 81,
    "start_time": "2022-01-26T08:04:15.387Z"
   },
   {
    "duration": 91,
    "start_time": "2022-01-26T08:05:22.313Z"
   },
   {
    "duration": 311,
    "start_time": "2022-01-26T08:20:16.190Z"
   },
   {
    "duration": 865,
    "start_time": "2022-01-26T08:20:23.305Z"
   },
   {
    "duration": 651,
    "start_time": "2022-01-26T08:20:35.393Z"
   },
   {
    "duration": 649,
    "start_time": "2022-01-26T08:21:06.245Z"
   },
   {
    "duration": 643,
    "start_time": "2022-01-26T08:21:16.692Z"
   },
   {
    "duration": 640,
    "start_time": "2022-01-26T08:21:49.439Z"
   },
   {
    "duration": 481,
    "start_time": "2022-01-26T08:22:07.252Z"
   },
   {
    "duration": 642,
    "start_time": "2022-01-26T08:22:49.679Z"
   },
   {
    "duration": 634,
    "start_time": "2022-01-26T08:23:00.335Z"
   },
   {
    "duration": 632,
    "start_time": "2022-01-26T08:27:53.545Z"
   },
   {
    "duration": 628,
    "start_time": "2022-01-26T08:29:11.759Z"
   },
   {
    "duration": 646,
    "start_time": "2022-01-26T08:29:44.572Z"
   },
   {
    "duration": 4109,
    "start_time": "2022-01-26T08:30:04.846Z"
   },
   {
    "duration": 648,
    "start_time": "2022-01-26T08:30:33.433Z"
   },
   {
    "duration": 646,
    "start_time": "2022-01-26T08:30:43.015Z"
   },
   {
    "duration": 433,
    "start_time": "2022-01-26T08:31:19.604Z"
   },
   {
    "duration": 331,
    "start_time": "2022-01-26T08:31:38.154Z"
   },
   {
    "duration": 322,
    "start_time": "2022-01-26T08:31:49.055Z"
   },
   {
    "duration": 331,
    "start_time": "2022-01-26T08:32:12.403Z"
   },
   {
    "duration": 517,
    "start_time": "2022-01-26T08:32:29.544Z"
   },
   {
    "duration": 607,
    "start_time": "2022-01-26T08:32:42.953Z"
   },
   {
    "duration": 516,
    "start_time": "2022-01-26T08:32:50.754Z"
   },
   {
    "duration": 1209,
    "start_time": "2022-01-26T11:04:33.202Z"
   },
   {
    "duration": 10,
    "start_time": "2022-01-26T11:04:34.413Z"
   },
   {
    "duration": 81,
    "start_time": "2022-01-26T11:04:34.425Z"
   },
   {
    "duration": 9,
    "start_time": "2022-01-26T11:04:34.722Z"
   },
   {
    "duration": 25,
    "start_time": "2022-01-26T11:04:35.101Z"
   },
   {
    "duration": 7,
    "start_time": "2022-01-26T11:04:35.564Z"
   },
   {
    "duration": 10,
    "start_time": "2022-01-26T11:04:35.972Z"
   },
   {
    "duration": 7,
    "start_time": "2022-01-26T11:04:36.373Z"
   },
   {
    "duration": 32,
    "start_time": "2022-01-26T11:04:36.781Z"
   },
   {
    "duration": 14,
    "start_time": "2022-01-26T11:04:36.968Z"
   },
   {
    "duration": 13,
    "start_time": "2022-01-26T11:04:37.342Z"
   },
   {
    "duration": 11,
    "start_time": "2022-01-26T11:04:37.737Z"
   },
   {
    "duration": 4,
    "start_time": "2022-01-26T11:04:38.078Z"
   },
   {
    "duration": 7,
    "start_time": "2022-01-26T11:04:38.466Z"
   },
   {
    "duration": 9,
    "start_time": "2022-01-26T11:04:38.660Z"
   },
   {
    "duration": 25,
    "start_time": "2022-01-26T11:04:39.094Z"
   },
   {
    "duration": 9,
    "start_time": "2022-01-26T11:04:39.515Z"
   },
   {
    "duration": 9,
    "start_time": "2022-01-26T11:04:39.956Z"
   },
   {
    "duration": 15,
    "start_time": "2022-01-26T11:04:40.387Z"
   },
   {
    "duration": 5,
    "start_time": "2022-01-26T11:04:40.821Z"
   },
   {
    "duration": 11,
    "start_time": "2022-01-26T11:04:41.259Z"
   },
   {
    "duration": 22,
    "start_time": "2022-01-26T11:04:41.508Z"
   },
   {
    "duration": 10,
    "start_time": "2022-01-26T11:04:41.934Z"
   },
   {
    "duration": 8,
    "start_time": "2022-01-26T11:04:42.146Z"
   },
   {
    "duration": 15,
    "start_time": "2022-01-26T11:04:42.366Z"
   },
   {
    "duration": 5,
    "start_time": "2022-01-26T11:04:43.904Z"
   },
   {
    "duration": 9,
    "start_time": "2022-01-26T11:04:44.311Z"
   },
   {
    "duration": 412,
    "start_time": "2022-01-26T11:04:44.770Z"
   },
   {
    "duration": 6,
    "start_time": "2022-01-26T11:04:45.184Z"
   },
   {
    "duration": 32,
    "start_time": "2022-01-26T11:04:45.587Z"
   },
   {
    "duration": 34,
    "start_time": "2022-01-26T11:04:49.083Z"
   },
   {
    "duration": 438,
    "start_time": "2022-01-26T11:04:50.972Z"
   },
   {
    "duration": 751,
    "start_time": "2022-01-26T11:05:22.415Z"
   },
   {
    "duration": 422,
    "start_time": "2022-01-26T11:05:43.227Z"
   },
   {
    "duration": 434,
    "start_time": "2022-01-26T11:05:59.468Z"
   },
   {
    "duration": 437,
    "start_time": "2022-01-26T11:06:13.479Z"
   },
   {
    "duration": 527,
    "start_time": "2022-01-26T11:06:25.792Z"
   },
   {
    "duration": 432,
    "start_time": "2022-01-26T11:06:55.335Z"
   },
   {
    "duration": 450,
    "start_time": "2022-01-26T11:07:56.424Z"
   },
   {
    "duration": 538,
    "start_time": "2022-01-26T11:16:01.633Z"
   },
   {
    "duration": 614,
    "start_time": "2022-01-26T11:16:15.084Z"
   },
   {
    "duration": 571,
    "start_time": "2022-01-26T11:16:56.928Z"
   },
   {
    "duration": 767,
    "start_time": "2022-01-26T11:17:12.651Z"
   },
   {
    "duration": 634,
    "start_time": "2022-01-26T11:17:34.862Z"
   },
   {
    "duration": 601,
    "start_time": "2022-01-26T11:17:57.070Z"
   },
   {
    "duration": 712,
    "start_time": "2022-01-26T11:18:08.445Z"
   },
   {
    "duration": 717,
    "start_time": "2022-01-26T11:18:26.424Z"
   },
   {
    "duration": 855,
    "start_time": "2022-01-26T11:18:43.107Z"
   },
   {
    "duration": 1104,
    "start_time": "2022-01-26T11:19:56.773Z"
   },
   {
    "duration": 1765,
    "start_time": "2022-01-26T11:20:11.210Z"
   },
   {
    "duration": 1233,
    "start_time": "2022-01-26T11:20:51.838Z"
   },
   {
    "duration": 726,
    "start_time": "2022-01-26T11:21:08.490Z"
   },
   {
    "duration": 875,
    "start_time": "2022-01-26T11:21:36.482Z"
   },
   {
    "duration": 707,
    "start_time": "2022-01-26T11:21:57.015Z"
   },
   {
    "duration": 932,
    "start_time": "2022-01-26T11:24:10.615Z"
   },
   {
    "duration": 100,
    "start_time": "2022-01-26T11:28:06.124Z"
   },
   {
    "duration": 742,
    "start_time": "2022-01-26T11:28:16.546Z"
   },
   {
    "duration": 1615,
    "start_time": "2022-01-26T11:34:14.793Z"
   },
   {
    "duration": 89,
    "start_time": "2022-01-26T11:34:35.605Z"
   },
   {
    "duration": 11,
    "start_time": "2022-01-26T11:34:36.009Z"
   },
   {
    "duration": 215,
    "start_time": "2022-01-26T11:34:36.153Z"
   },
   {
    "duration": 11,
    "start_time": "2022-01-26T11:34:37.026Z"
   },
   {
    "duration": 12,
    "start_time": "2022-01-26T11:34:37.420Z"
   },
   {
    "duration": 6,
    "start_time": "2022-01-26T11:34:37.780Z"
   },
   {
    "duration": 10,
    "start_time": "2022-01-26T11:34:38.183Z"
   },
   {
    "duration": 7,
    "start_time": "2022-01-26T11:34:38.431Z"
   },
   {
    "duration": 22,
    "start_time": "2022-01-26T11:34:39.368Z"
   },
   {
    "duration": 17,
    "start_time": "2022-01-26T11:34:39.737Z"
   },
   {
    "duration": 16,
    "start_time": "2022-01-26T11:34:40.300Z"
   },
   {
    "duration": 11,
    "start_time": "2022-01-26T11:34:40.749Z"
   },
   {
    "duration": 5,
    "start_time": "2022-01-26T11:34:41.107Z"
   },
   {
    "duration": 6,
    "start_time": "2022-01-26T11:34:41.573Z"
   },
   {
    "duration": 8,
    "start_time": "2022-01-26T11:34:41.781Z"
   },
   {
    "duration": 27,
    "start_time": "2022-01-26T11:34:42.175Z"
   },
   {
    "duration": 7,
    "start_time": "2022-01-26T11:34:42.754Z"
   },
   {
    "duration": 9,
    "start_time": "2022-01-26T11:34:43.227Z"
   },
   {
    "duration": 15,
    "start_time": "2022-01-26T11:34:43.763Z"
   },
   {
    "duration": 5,
    "start_time": "2022-01-26T11:34:44.397Z"
   },
   {
    "duration": 8,
    "start_time": "2022-01-26T11:34:44.851Z"
   },
   {
    "duration": 16,
    "start_time": "2022-01-26T11:34:45.328Z"
   },
   {
    "duration": 9,
    "start_time": "2022-01-26T11:34:46.026Z"
   },
   {
    "duration": 7,
    "start_time": "2022-01-26T11:34:46.460Z"
   },
   {
    "duration": 13,
    "start_time": "2022-01-26T11:34:46.812Z"
   },
   {
    "duration": 5,
    "start_time": "2022-01-26T11:34:49.108Z"
   },
   {
    "duration": 9,
    "start_time": "2022-01-26T11:34:50.113Z"
   },
   {
    "duration": 422,
    "start_time": "2022-01-26T11:34:51.155Z"
   },
   {
    "duration": 7,
    "start_time": "2022-01-26T11:34:52.705Z"
   },
   {
    "duration": 22,
    "start_time": "2022-01-26T11:34:54.315Z"
   },
   {
    "duration": 23,
    "start_time": "2022-01-26T11:34:56.590Z"
   },
   {
    "duration": 1060,
    "start_time": "2022-01-26T11:34:59.454Z"
   },
   {
    "duration": 1758,
    "start_time": "2022-01-26T11:35:54.523Z"
   },
   {
    "duration": 664,
    "start_time": "2022-01-26T11:37:43.336Z"
   },
   {
    "duration": 540,
    "start_time": "2022-01-26T11:38:00.114Z"
   },
   {
    "duration": 488,
    "start_time": "2022-01-26T11:39:02.429Z"
   },
   {
    "duration": 482,
    "start_time": "2022-01-26T11:41:49.236Z"
   },
   {
    "duration": 182,
    "start_time": "2022-01-26T11:42:00.208Z"
   },
   {
    "duration": 178,
    "start_time": "2022-01-26T11:42:29.359Z"
   },
   {
    "duration": 1208,
    "start_time": "2022-01-26T11:42:55.316Z"
   },
   {
    "duration": 517,
    "start_time": "2022-01-26T11:43:10.695Z"
   },
   {
    "duration": 1079,
    "start_time": "2022-01-26T11:43:33.714Z"
   },
   {
    "duration": 1091,
    "start_time": "2022-01-26T11:44:15.041Z"
   },
   {
    "duration": 766,
    "start_time": "2022-01-26T11:44:47.445Z"
   },
   {
    "duration": 1366,
    "start_time": "2022-01-26T11:45:09.157Z"
   },
   {
    "duration": 120,
    "start_time": "2022-01-27T12:51:26.486Z"
   },
   {
    "duration": 17,
    "start_time": "2022-01-27T12:51:26.806Z"
   },
   {
    "duration": 167,
    "start_time": "2022-01-27T12:51:26.923Z"
   },
   {
    "duration": 15,
    "start_time": "2022-01-27T12:51:27.664Z"
   },
   {
    "duration": 21,
    "start_time": "2022-01-27T12:51:27.961Z"
   },
   {
    "duration": 9,
    "start_time": "2022-01-27T12:51:28.323Z"
   },
   {
    "duration": 12,
    "start_time": "2022-01-27T12:51:28.660Z"
   },
   {
    "duration": 10,
    "start_time": "2022-01-27T12:51:28.985Z"
   },
   {
    "duration": 36,
    "start_time": "2022-01-27T12:51:29.293Z"
   },
   {
    "duration": 19,
    "start_time": "2022-01-27T12:51:29.472Z"
   },
   {
    "duration": 20,
    "start_time": "2022-01-27T12:51:29.815Z"
   },
   {
    "duration": 16,
    "start_time": "2022-01-27T12:51:30.155Z"
   },
   {
    "duration": 7,
    "start_time": "2022-01-27T12:51:30.506Z"
   },
   {
    "duration": 10,
    "start_time": "2022-01-27T12:51:30.884Z"
   },
   {
    "duration": 10,
    "start_time": "2022-01-27T12:51:31.247Z"
   },
   {
    "duration": 54,
    "start_time": "2022-01-27T12:51:31.605Z"
   },
   {
    "duration": 11,
    "start_time": "2022-01-27T12:51:32.394Z"
   },
   {
    "duration": 14,
    "start_time": "2022-01-27T12:51:33.398Z"
   },
   {
    "duration": 25,
    "start_time": "2022-01-27T12:51:34.442Z"
   },
   {
    "duration": 7,
    "start_time": "2022-01-27T12:51:35.428Z"
   },
   {
    "duration": 14,
    "start_time": "2022-01-27T12:51:36.303Z"
   },
   {
    "duration": 24,
    "start_time": "2022-01-27T12:51:36.745Z"
   },
   {
    "duration": 13,
    "start_time": "2022-01-27T12:51:37.745Z"
   },
   {
    "duration": 12,
    "start_time": "2022-01-27T12:51:38.195Z"
   },
   {
    "duration": 24,
    "start_time": "2022-01-27T12:51:38.577Z"
   },
   {
    "duration": 12,
    "start_time": "2022-01-27T12:51:42.265Z"
   },
   {
    "duration": 14,
    "start_time": "2022-01-27T12:51:43.221Z"
   },
   {
    "duration": 1064,
    "start_time": "2022-01-27T12:51:45.175Z"
   },
   {
    "duration": 8,
    "start_time": "2022-01-27T12:51:48.520Z"
   },
   {
    "duration": 36,
    "start_time": "2022-01-27T12:51:49.345Z"
   },
   {
    "duration": 34,
    "start_time": "2022-01-27T12:51:52.560Z"
   },
   {
    "duration": 1876,
    "start_time": "2022-01-27T12:52:12.814Z"
   },
   {
    "duration": 1733,
    "start_time": "2022-01-27T12:52:50.212Z"
   },
   {
    "duration": 1001,
    "start_time": "2022-01-27T12:54:06.145Z"
   },
   {
    "duration": 1013,
    "start_time": "2022-01-27T12:54:21.067Z"
   },
   {
    "duration": 129,
    "start_time": "2022-01-27T12:54:36.141Z"
   },
   {
    "duration": 15,
    "start_time": "2022-01-27T12:54:36.471Z"
   },
   {
    "duration": 130,
    "start_time": "2022-01-27T12:54:36.645Z"
   },
   {
    "duration": 12,
    "start_time": "2022-01-27T12:54:37.285Z"
   },
   {
    "duration": 19,
    "start_time": "2022-01-27T12:54:37.619Z"
   },
   {
    "duration": 9,
    "start_time": "2022-01-27T12:54:37.913Z"
   },
   {
    "duration": 13,
    "start_time": "2022-01-27T12:54:38.127Z"
   },
   {
    "duration": 10,
    "start_time": "2022-01-27T12:54:38.456Z"
   },
   {
    "duration": 36,
    "start_time": "2022-01-27T12:54:38.763Z"
   },
   {
    "duration": 18,
    "start_time": "2022-01-27T12:54:38.944Z"
   },
   {
    "duration": 20,
    "start_time": "2022-01-27T12:54:39.246Z"
   },
   {
    "duration": 18,
    "start_time": "2022-01-27T12:54:39.548Z"
   },
   {
    "duration": 7,
    "start_time": "2022-01-27T12:54:39.882Z"
   },
   {
    "duration": 10,
    "start_time": "2022-01-27T12:54:40.199Z"
   },
   {
    "duration": 11,
    "start_time": "2022-01-27T12:54:40.355Z"
   },
   {
    "duration": 45,
    "start_time": "2022-01-27T12:54:40.662Z"
   },
   {
    "duration": 14,
    "start_time": "2022-01-27T12:54:40.994Z"
   },
   {
    "duration": 16,
    "start_time": "2022-01-27T12:54:41.328Z"
   },
   {
    "duration": 122,
    "start_time": "2022-01-27T12:54:41.667Z"
   },
   {
    "duration": 8,
    "start_time": "2022-01-27T12:54:42.152Z"
   },
   {
    "duration": 15,
    "start_time": "2022-01-27T12:54:42.767Z"
   },
   {
    "duration": 25,
    "start_time": "2022-01-27T12:54:43.109Z"
   },
   {
    "duration": 13,
    "start_time": "2022-01-27T12:54:43.819Z"
   },
   {
    "duration": 12,
    "start_time": "2022-01-27T12:54:44.171Z"
   },
   {
    "duration": 23,
    "start_time": "2022-01-27T12:54:44.512Z"
   },
   {
    "duration": 6,
    "start_time": "2022-01-27T12:54:46.705Z"
   },
   {
    "duration": 13,
    "start_time": "2022-01-27T12:54:47.753Z"
   },
   {
    "duration": 830,
    "start_time": "2022-01-27T12:54:48.748Z"
   },
   {
    "duration": 8,
    "start_time": "2022-01-27T12:54:50.379Z"
   },
   {
    "duration": 37,
    "start_time": "2022-01-27T12:54:51.698Z"
   },
   {
    "duration": 35,
    "start_time": "2022-01-27T12:54:53.344Z"
   },
   {
    "duration": 777,
    "start_time": "2022-01-27T12:54:55.838Z"
   },
   {
    "duration": 811,
    "start_time": "2022-01-27T12:56:24.112Z"
   },
   {
    "duration": 799,
    "start_time": "2022-01-27T12:56:33.329Z"
   },
   {
    "duration": 910,
    "start_time": "2022-01-27T12:57:03.689Z"
   },
   {
    "duration": 280,
    "start_time": "2022-01-27T13:00:34.168Z"
   },
   {
    "duration": 548,
    "start_time": "2022-01-27T13:01:09.809Z"
   },
   {
    "duration": 571,
    "start_time": "2022-01-27T13:02:39.853Z"
   },
   {
    "duration": 127,
    "start_time": "2022-01-27T13:05:04.057Z"
   },
   {
    "duration": 17,
    "start_time": "2022-01-27T13:05:05.124Z"
   },
   {
    "duration": 108,
    "start_time": "2022-01-27T13:05:05.381Z"
   },
   {
    "duration": 12,
    "start_time": "2022-01-27T13:05:06.278Z"
   },
   {
    "duration": 19,
    "start_time": "2022-01-27T13:05:06.598Z"
   },
   {
    "duration": 8,
    "start_time": "2022-01-27T13:05:06.962Z"
   },
   {
    "duration": 11,
    "start_time": "2022-01-27T13:05:07.350Z"
   },
   {
    "duration": 9,
    "start_time": "2022-01-27T13:05:07.774Z"
   },
   {
    "duration": 43,
    "start_time": "2022-01-27T13:05:08.122Z"
   },
   {
    "duration": 18,
    "start_time": "2022-01-27T13:05:08.314Z"
   },
   {
    "duration": 22,
    "start_time": "2022-01-27T13:05:08.783Z"
   },
   {
    "duration": 17,
    "start_time": "2022-01-27T13:05:09.198Z"
   },
   {
    "duration": 8,
    "start_time": "2022-01-27T13:05:09.585Z"
   },
   {
    "duration": 10,
    "start_time": "2022-01-27T13:05:09.969Z"
   },
   {
    "duration": 11,
    "start_time": "2022-01-27T13:05:10.145Z"
   },
   {
    "duration": 55,
    "start_time": "2022-01-27T13:05:10.514Z"
   },
   {
    "duration": 14,
    "start_time": "2022-01-27T13:05:10.835Z"
   },
   {
    "duration": 13,
    "start_time": "2022-01-27T13:05:11.166Z"
   },
   {
    "duration": 22,
    "start_time": "2022-01-27T13:05:11.511Z"
   },
   {
    "duration": 7,
    "start_time": "2022-01-27T13:05:11.846Z"
   },
   {
    "duration": 19,
    "start_time": "2022-01-27T13:05:12.162Z"
   },
   {
    "duration": 26,
    "start_time": "2022-01-27T13:05:12.323Z"
   },
   {
    "duration": 13,
    "start_time": "2022-01-27T13:05:12.726Z"
   },
   {
    "duration": 11,
    "start_time": "2022-01-27T13:05:13.269Z"
   },
   {
    "duration": 25,
    "start_time": "2022-01-27T13:05:13.610Z"
   },
   {
    "duration": 7,
    "start_time": "2022-01-27T13:05:15.545Z"
   },
   {
    "duration": 12,
    "start_time": "2022-01-27T13:05:16.979Z"
   },
   {
    "duration": 766,
    "start_time": "2022-01-27T13:05:22.345Z"
   },
   {
    "duration": 8,
    "start_time": "2022-01-27T13:05:25.375Z"
   },
   {
    "duration": 41,
    "start_time": "2022-01-27T13:05:26.324Z"
   },
   {
    "duration": 40,
    "start_time": "2022-01-27T13:05:30.323Z"
   },
   {
    "duration": 568,
    "start_time": "2022-01-27T13:06:18.874Z"
   },
   {
    "duration": 1073,
    "start_time": "2022-01-27T13:07:11.546Z"
   },
   {
    "duration": 449,
    "start_time": "2022-01-27T13:08:09.551Z"
   },
   {
    "duration": 817,
    "start_time": "2022-01-27T13:09:40.161Z"
   },
   {
    "duration": 1449,
    "start_time": "2022-01-27T13:10:35.451Z"
   },
   {
    "duration": 990,
    "start_time": "2022-01-27T13:10:53.222Z"
   },
   {
    "duration": 426,
    "start_time": "2022-01-27T13:11:30.321Z"
   },
   {
    "duration": 418,
    "start_time": "2022-01-27T13:12:02.026Z"
   },
   {
    "duration": 869,
    "start_time": "2022-01-28T12:31:21.362Z"
   },
   {
    "duration": 10,
    "start_time": "2022-01-28T12:31:22.232Z"
   },
   {
    "duration": 65,
    "start_time": "2022-01-28T12:31:22.244Z"
   },
   {
    "duration": 11,
    "start_time": "2022-01-28T12:31:22.572Z"
   },
   {
    "duration": 15,
    "start_time": "2022-01-28T12:31:22.840Z"
   },
   {
    "duration": 5,
    "start_time": "2022-01-28T12:31:23.104Z"
   },
   {
    "duration": 8,
    "start_time": "2022-01-28T12:31:23.408Z"
   },
   {
    "duration": 6,
    "start_time": "2022-01-28T12:31:23.727Z"
   },
   {
    "duration": 26,
    "start_time": "2022-01-28T12:31:24.093Z"
   },
   {
    "duration": 12,
    "start_time": "2022-01-28T12:31:24.201Z"
   },
   {
    "duration": 14,
    "start_time": "2022-01-28T12:31:24.445Z"
   },
   {
    "duration": 10,
    "start_time": "2022-01-28T12:31:24.795Z"
   },
   {
    "duration": 5,
    "start_time": "2022-01-28T12:31:25.130Z"
   },
   {
    "duration": 7,
    "start_time": "2022-01-28T12:31:25.486Z"
   },
   {
    "duration": 6,
    "start_time": "2022-01-28T12:31:25.664Z"
   },
   {
    "duration": 26,
    "start_time": "2022-01-28T12:31:25.996Z"
   },
   {
    "duration": 8,
    "start_time": "2022-01-28T12:31:26.313Z"
   },
   {
    "duration": 9,
    "start_time": "2022-01-28T12:31:26.616Z"
   },
   {
    "duration": 13,
    "start_time": "2022-01-28T12:31:26.886Z"
   },
   {
    "duration": 5,
    "start_time": "2022-01-28T12:31:27.150Z"
   },
   {
    "duration": 9,
    "start_time": "2022-01-28T12:31:27.476Z"
   },
   {
    "duration": 13,
    "start_time": "2022-01-28T12:31:27.690Z"
   },
   {
    "duration": 8,
    "start_time": "2022-01-28T12:31:28.065Z"
   },
   {
    "duration": 7,
    "start_time": "2022-01-28T12:31:28.243Z"
   },
   {
    "duration": 13,
    "start_time": "2022-01-28T12:31:28.434Z"
   },
   {
    "duration": 4,
    "start_time": "2022-01-28T12:31:29.386Z"
   },
   {
    "duration": 8,
    "start_time": "2022-01-28T12:31:29.877Z"
   },
   {
    "duration": 399,
    "start_time": "2022-01-28T12:31:30.384Z"
   },
   {
    "duration": 5,
    "start_time": "2022-01-28T12:31:30.785Z"
   },
   {
    "duration": 20,
    "start_time": "2022-01-28T12:31:31.241Z"
   },
   {
    "duration": 21,
    "start_time": "2022-01-28T12:31:33.721Z"
   },
   {
    "duration": 144,
    "start_time": "2022-01-28T12:32:21.467Z"
   },
   {
    "duration": 514,
    "start_time": "2022-01-28T12:34:25.007Z"
   },
   {
    "duration": 781,
    "start_time": "2022-01-28T12:35:29.228Z"
   },
   {
    "duration": 273,
    "start_time": "2022-01-28T12:35:43.522Z"
   },
   {
    "duration": 219,
    "start_time": "2022-01-28T12:38:16.848Z"
   },
   {
    "duration": 268,
    "start_time": "2022-01-28T12:38:26.351Z"
   },
   {
    "duration": 248,
    "start_time": "2022-01-28T12:38:45.657Z"
   },
   {
    "duration": 338,
    "start_time": "2022-01-28T12:38:55.231Z"
   },
   {
    "duration": 243,
    "start_time": "2022-01-28T12:39:06.666Z"
   },
   {
    "duration": 758,
    "start_time": "2022-01-28T17:28:48.080Z"
   },
   {
    "duration": 20,
    "start_time": "2022-01-28T17:28:48.840Z"
   },
   {
    "duration": 72,
    "start_time": "2022-01-28T17:28:48.862Z"
   },
   {
    "duration": 13,
    "start_time": "2022-01-28T17:29:29.412Z"
   },
   {
    "duration": 24,
    "start_time": "2022-01-28T17:29:29.695Z"
   },
   {
    "duration": 8,
    "start_time": "2022-01-28T17:29:29.947Z"
   },
   {
    "duration": 9,
    "start_time": "2022-01-28T17:29:30.173Z"
   },
   {
    "duration": 7,
    "start_time": "2022-01-28T17:29:30.423Z"
   },
   {
    "duration": 26,
    "start_time": "2022-01-28T17:29:30.651Z"
   },
   {
    "duration": 14,
    "start_time": "2022-01-28T17:29:30.808Z"
   },
   {
    "duration": 16,
    "start_time": "2022-01-28T17:29:31.121Z"
   },
   {
    "duration": 13,
    "start_time": "2022-01-28T17:29:31.380Z"
   },
   {
    "duration": 5,
    "start_time": "2022-01-28T17:29:31.606Z"
   },
   {
    "duration": 8,
    "start_time": "2022-01-28T17:29:31.867Z"
   },
   {
    "duration": 8,
    "start_time": "2022-01-28T17:29:31.983Z"
   },
   {
    "duration": 32,
    "start_time": "2022-01-28T17:29:32.220Z"
   },
   {
    "duration": 10,
    "start_time": "2022-01-28T17:29:32.698Z"
   },
   {
    "duration": 10,
    "start_time": "2022-01-28T17:29:32.944Z"
   },
   {
    "duration": 15,
    "start_time": "2022-01-28T17:29:33.217Z"
   },
   {
    "duration": 6,
    "start_time": "2022-01-28T17:29:33.560Z"
   },
   {
    "duration": 11,
    "start_time": "2022-01-28T17:29:33.858Z"
   },
   {
    "duration": 17,
    "start_time": "2022-01-28T17:29:33.981Z"
   },
   {
    "duration": 11,
    "start_time": "2022-01-28T17:29:34.346Z"
   },
   {
    "duration": 14,
    "start_time": "2022-01-28T17:29:34.506Z"
   },
   {
    "duration": 20,
    "start_time": "2022-01-28T17:29:34.647Z"
   },
   {
    "duration": 6,
    "start_time": "2022-01-28T17:29:35.662Z"
   },
   {
    "duration": 12,
    "start_time": "2022-01-28T17:29:36.274Z"
   },
   {
    "duration": 472,
    "start_time": "2022-01-28T17:29:37.187Z"
   },
   {
    "duration": 6,
    "start_time": "2022-01-28T17:29:38.014Z"
   },
   {
    "duration": 24,
    "start_time": "2022-01-28T17:29:38.920Z"
   },
   {
    "duration": 29,
    "start_time": "2022-01-28T17:29:45.003Z"
   },
   {
    "duration": 308,
    "start_time": "2022-01-28T17:30:07.795Z"
   },
   {
    "duration": 344,
    "start_time": "2022-01-28T17:30:19.662Z"
   },
   {
    "duration": 513,
    "start_time": "2022-01-28T17:31:49.810Z"
   },
   {
    "duration": 498,
    "start_time": "2022-01-28T17:33:29.833Z"
   },
   {
    "duration": 93,
    "start_time": "2022-01-28T17:33:38.279Z"
   },
   {
    "duration": 11,
    "start_time": "2022-01-28T17:33:38.627Z"
   },
   {
    "duration": 70,
    "start_time": "2022-01-28T17:33:38.812Z"
   },
   {
    "duration": 10,
    "start_time": "2022-01-28T17:33:40.050Z"
   },
   {
    "duration": 16,
    "start_time": "2022-01-28T17:33:40.410Z"
   },
   {
    "duration": 6,
    "start_time": "2022-01-28T17:33:40.758Z"
   },
   {
    "duration": 9,
    "start_time": "2022-01-28T17:33:41.169Z"
   },
   {
    "duration": 7,
    "start_time": "2022-01-28T17:33:41.571Z"
   },
   {
    "duration": 25,
    "start_time": "2022-01-28T17:33:41.966Z"
   },
   {
    "duration": 14,
    "start_time": "2022-01-28T17:33:42.165Z"
   },
   {
    "duration": 16,
    "start_time": "2022-01-28T17:33:42.552Z"
   },
   {
    "duration": 12,
    "start_time": "2022-01-28T17:33:42.970Z"
   },
   {
    "duration": 6,
    "start_time": "2022-01-28T17:33:43.449Z"
   },
   {
    "duration": 8,
    "start_time": "2022-01-28T17:33:43.902Z"
   },
   {
    "duration": 7,
    "start_time": "2022-01-28T17:33:44.117Z"
   },
   {
    "duration": 29,
    "start_time": "2022-01-28T17:33:44.591Z"
   },
   {
    "duration": 9,
    "start_time": "2022-01-28T17:33:45.073Z"
   },
   {
    "duration": 10,
    "start_time": "2022-01-28T17:33:45.613Z"
   },
   {
    "duration": 15,
    "start_time": "2022-01-28T17:33:46.063Z"
   },
   {
    "duration": 5,
    "start_time": "2022-01-28T17:33:46.549Z"
   },
   {
    "duration": 9,
    "start_time": "2022-01-28T17:33:47.024Z"
   },
   {
    "duration": 15,
    "start_time": "2022-01-28T17:33:47.274Z"
   },
   {
    "duration": 9,
    "start_time": "2022-01-28T17:33:47.810Z"
   },
   {
    "duration": 9,
    "start_time": "2022-01-28T17:33:48.083Z"
   },
   {
    "duration": 16,
    "start_time": "2022-01-28T17:33:48.350Z"
   },
   {
    "duration": 5,
    "start_time": "2022-01-28T17:33:49.836Z"
   },
   {
    "duration": 10,
    "start_time": "2022-01-28T17:33:50.710Z"
   },
   {
    "duration": 438,
    "start_time": "2022-01-28T17:33:51.705Z"
   },
   {
    "duration": 7,
    "start_time": "2022-01-28T17:33:52.645Z"
   },
   {
    "duration": 25,
    "start_time": "2022-01-28T17:33:53.531Z"
   },
   {
    "duration": 27,
    "start_time": "2022-01-28T17:33:55.717Z"
   },
   {
    "duration": 277,
    "start_time": "2022-01-28T17:33:57.742Z"
   },
   {
    "duration": 257,
    "start_time": "2022-01-28T17:34:16.275Z"
   },
   {
    "duration": 460,
    "start_time": "2022-01-28T17:34:39.723Z"
   },
   {
    "duration": 446,
    "start_time": "2022-01-28T17:34:48.555Z"
   },
   {
    "duration": 253,
    "start_time": "2022-01-28T17:36:42.743Z"
   },
   {
    "duration": 327,
    "start_time": "2022-01-28T17:36:51.355Z"
   },
   {
    "duration": 292,
    "start_time": "2022-01-28T17:36:54.358Z"
   },
   {
    "duration": 293,
    "start_time": "2022-01-28T17:37:31.056Z"
   },
   {
    "duration": 465,
    "start_time": "2022-01-28T17:38:32.147Z"
   },
   {
    "duration": 463,
    "start_time": "2022-01-28T17:38:44.476Z"
   },
   {
    "duration": 308,
    "start_time": "2022-01-28T17:38:51.790Z"
   },
   {
    "duration": 475,
    "start_time": "2022-01-28T17:40:59.940Z"
   },
   {
    "duration": 279,
    "start_time": "2022-01-28T17:41:13.442Z"
   },
   {
    "duration": 462,
    "start_time": "2022-01-28T17:41:32.963Z"
   },
   {
    "duration": 108,
    "start_time": "2022-01-28T17:42:34.065Z"
   },
   {
    "duration": 11,
    "start_time": "2022-01-28T17:42:34.575Z"
   },
   {
    "duration": 85,
    "start_time": "2022-01-28T17:42:34.737Z"
   },
   {
    "duration": 10,
    "start_time": "2022-01-28T17:42:35.428Z"
   },
   {
    "duration": 19,
    "start_time": "2022-01-28T17:42:35.808Z"
   },
   {
    "duration": 8,
    "start_time": "2022-01-28T17:42:36.119Z"
   },
   {
    "duration": 9,
    "start_time": "2022-01-28T17:42:36.420Z"
   },
   {
    "duration": 9,
    "start_time": "2022-01-28T17:42:36.698Z"
   },
   {
    "duration": 47,
    "start_time": "2022-01-28T17:42:37.007Z"
   },
   {
    "duration": 13,
    "start_time": "2022-01-28T17:42:37.172Z"
   },
   {
    "duration": 16,
    "start_time": "2022-01-28T17:42:37.507Z"
   },
   {
    "duration": 12,
    "start_time": "2022-01-28T17:42:37.811Z"
   },
   {
    "duration": 5,
    "start_time": "2022-01-28T17:42:38.144Z"
   },
   {
    "duration": 9,
    "start_time": "2022-01-28T17:42:38.487Z"
   },
   {
    "duration": 9,
    "start_time": "2022-01-28T17:42:38.673Z"
   },
   {
    "duration": 37,
    "start_time": "2022-01-28T17:42:39.024Z"
   },
   {
    "duration": 9,
    "start_time": "2022-01-28T17:42:39.375Z"
   },
   {
    "duration": 11,
    "start_time": "2022-01-28T17:42:40.028Z"
   },
   {
    "duration": 17,
    "start_time": "2022-01-28T17:42:40.451Z"
   },
   {
    "duration": 7,
    "start_time": "2022-01-28T17:42:40.760Z"
   },
   {
    "duration": 10,
    "start_time": "2022-01-28T17:42:41.109Z"
   },
   {
    "duration": 16,
    "start_time": "2022-01-28T17:42:41.265Z"
   },
   {
    "duration": 10,
    "start_time": "2022-01-28T17:42:41.641Z"
   },
   {
    "duration": 9,
    "start_time": "2022-01-28T17:42:41.816Z"
   },
   {
    "duration": 21,
    "start_time": "2022-01-28T17:42:42.000Z"
   },
   {
    "duration": 5,
    "start_time": "2022-01-28T17:42:42.916Z"
   },
   {
    "duration": 12,
    "start_time": "2022-01-28T17:42:43.370Z"
   },
   {
    "duration": 504,
    "start_time": "2022-01-28T17:42:43.634Z"
   },
   {
    "duration": 6,
    "start_time": "2022-01-28T17:42:44.140Z"
   },
   {
    "duration": 24,
    "start_time": "2022-01-28T17:42:44.536Z"
   },
   {
    "duration": 24,
    "start_time": "2022-01-28T17:42:45.723Z"
   },
   {
    "duration": 478,
    "start_time": "2022-01-28T17:42:47.125Z"
   },
   {
    "duration": 592,
    "start_time": "2022-01-28T17:44:08.823Z"
   },
   {
    "duration": 10,
    "start_time": "2022-01-28T17:44:09.417Z"
   },
   {
    "duration": 91,
    "start_time": "2022-01-28T17:44:09.429Z"
   },
   {
    "duration": 11,
    "start_time": "2022-01-28T17:44:09.880Z"
   },
   {
    "duration": 15,
    "start_time": "2022-01-28T17:44:10.139Z"
   },
   {
    "duration": 7,
    "start_time": "2022-01-28T17:44:10.390Z"
   },
   {
    "duration": 8,
    "start_time": "2022-01-28T17:44:10.698Z"
   },
   {
    "duration": 8,
    "start_time": "2022-01-28T17:44:10.979Z"
   },
   {
    "duration": 27,
    "start_time": "2022-01-28T17:44:11.254Z"
   },
   {
    "duration": 12,
    "start_time": "2022-01-28T17:44:11.418Z"
   },
   {
    "duration": 15,
    "start_time": "2022-01-28T17:44:11.773Z"
   },
   {
    "duration": 12,
    "start_time": "2022-01-28T17:44:12.073Z"
   },
   {
    "duration": 6,
    "start_time": "2022-01-28T17:44:12.401Z"
   },
   {
    "duration": 7,
    "start_time": "2022-01-28T17:44:12.747Z"
   },
   {
    "duration": 7,
    "start_time": "2022-01-28T17:44:12.940Z"
   },
   {
    "duration": 29,
    "start_time": "2022-01-28T17:44:13.304Z"
   },
   {
    "duration": 9,
    "start_time": "2022-01-28T17:44:13.679Z"
   },
   {
    "duration": 10,
    "start_time": "2022-01-28T17:44:14.055Z"
   },
   {
    "duration": 15,
    "start_time": "2022-01-28T17:44:14.427Z"
   },
   {
    "duration": 6,
    "start_time": "2022-01-28T17:44:14.802Z"
   },
   {
    "duration": 10,
    "start_time": "2022-01-28T17:44:15.168Z"
   },
   {
    "duration": 17,
    "start_time": "2022-01-28T17:44:15.346Z"
   },
   {
    "duration": 9,
    "start_time": "2022-01-28T17:44:15.717Z"
   },
   {
    "duration": 8,
    "start_time": "2022-01-28T17:44:15.889Z"
   },
   {
    "duration": 16,
    "start_time": "2022-01-28T17:44:16.066Z"
   },
   {
    "duration": 6,
    "start_time": "2022-01-28T17:44:16.809Z"
   },
   {
    "duration": 10,
    "start_time": "2022-01-28T17:44:17.169Z"
   },
   {
    "duration": 420,
    "start_time": "2022-01-28T17:44:17.537Z"
   },
   {
    "duration": 6,
    "start_time": "2022-01-28T17:44:17.959Z"
   },
   {
    "duration": 22,
    "start_time": "2022-01-28T17:44:18.351Z"
   },
   {
    "duration": 24,
    "start_time": "2022-01-28T17:44:18.915Z"
   },
   {
    "duration": 487,
    "start_time": "2022-01-28T17:44:19.515Z"
   },
   {
    "duration": 294,
    "start_time": "2022-01-28T17:45:07.305Z"
   },
   {
    "duration": 273,
    "start_time": "2022-01-28T17:47:00.925Z"
   },
   {
    "duration": 263,
    "start_time": "2022-01-28T17:47:13.155Z"
   },
   {
    "duration": 268,
    "start_time": "2022-01-28T17:47:19.301Z"
   },
   {
    "duration": 263,
    "start_time": "2022-01-28T17:47:28.029Z"
   },
   {
    "duration": 248,
    "start_time": "2022-01-28T17:48:48.904Z"
   },
   {
    "duration": 412,
    "start_time": "2022-01-28T17:48:57.225Z"
   },
   {
    "duration": 325,
    "start_time": "2022-01-28T17:49:06.806Z"
   },
   {
    "duration": 482,
    "start_time": "2022-01-28T17:49:49.054Z"
   },
   {
    "duration": 523,
    "start_time": "2022-01-28T17:50:16.987Z"
   },
   {
    "duration": 334,
    "start_time": "2022-01-28T17:50:24.965Z"
   },
   {
    "duration": 339,
    "start_time": "2022-01-28T17:54:45.680Z"
   },
   {
    "duration": 233,
    "start_time": "2022-01-28T17:55:04.867Z"
   },
   {
    "duration": 320,
    "start_time": "2022-01-28T17:55:13.782Z"
   },
   {
    "duration": 328,
    "start_time": "2022-01-28T18:00:36.323Z"
   },
   {
    "duration": 314,
    "start_time": "2022-01-28T18:00:46.358Z"
   },
   {
    "duration": 564,
    "start_time": "2022-01-28T18:01:18.855Z"
   },
   {
    "duration": 681,
    "start_time": "2022-01-28T18:01:26.763Z"
   },
   {
    "duration": 924,
    "start_time": "2022-01-28T18:01:38.196Z"
   },
   {
    "duration": 1090,
    "start_time": "2022-01-28T18:02:02.705Z"
   },
   {
    "duration": 3696,
    "start_time": "2022-01-28T18:02:43.834Z"
   },
   {
    "duration": 1137,
    "start_time": "2022-01-28T18:03:04.467Z"
   },
   {
    "duration": 1043,
    "start_time": "2022-01-28T18:03:36.843Z"
   },
   {
    "duration": 1018,
    "start_time": "2022-01-28T18:03:43.951Z"
   },
   {
    "duration": 1257,
    "start_time": "2022-01-28T18:03:59.588Z"
   },
   {
    "duration": 956,
    "start_time": "2022-01-28T18:04:24.188Z"
   },
   {
    "duration": 761,
    "start_time": "2022-01-28T18:04:30.517Z"
   },
   {
    "duration": 1650,
    "start_time": "2022-01-28T18:05:30.883Z"
   },
   {
    "duration": 1434,
    "start_time": "2022-01-28T18:05:43.246Z"
   },
   {
    "duration": 2819,
    "start_time": "2022-01-28T18:06:05.109Z"
   },
   {
    "duration": 726,
    "start_time": "2022-01-28T18:06:20.247Z"
   },
   {
    "duration": 3571,
    "start_time": "2022-01-28T18:07:00.753Z"
   },
   {
    "duration": 407,
    "start_time": "2022-01-28T18:07:26.448Z"
   },
   {
    "duration": 675,
    "start_time": "2022-01-28T18:07:54.649Z"
   },
   {
    "duration": 666,
    "start_time": "2022-01-28T18:08:29.865Z"
   },
   {
    "duration": 675,
    "start_time": "2022-01-28T18:08:34.567Z"
   },
   {
    "duration": 676,
    "start_time": "2022-01-28T18:08:39.792Z"
   },
   {
    "duration": 148,
    "start_time": "2022-01-28T18:09:11.099Z"
   },
   {
    "duration": 831,
    "start_time": "2022-01-28T18:09:29.960Z"
   },
   {
    "duration": 913,
    "start_time": "2022-01-28T18:10:05.559Z"
   },
   {
    "duration": 1338,
    "start_time": "2022-01-28T18:10:26.288Z"
   },
   {
    "duration": 699,
    "start_time": "2022-01-28T18:10:30.200Z"
   },
   {
    "duration": 709,
    "start_time": "2022-01-28T18:10:43.345Z"
   },
   {
    "duration": 164,
    "start_time": "2022-01-28T18:13:02.749Z"
   },
   {
    "duration": 885,
    "start_time": "2022-01-28T18:18:16.197Z"
   },
   {
    "duration": 743,
    "start_time": "2022-01-28T18:18:35.344Z"
   },
   {
    "duration": 1279,
    "start_time": "2022-02-02T06:27:02.325Z"
   },
   {
    "duration": 21,
    "start_time": "2022-02-02T06:27:03.606Z"
   },
   {
    "duration": 71,
    "start_time": "2022-02-02T06:27:03.629Z"
   },
   {
    "duration": 23,
    "start_time": "2022-02-02T06:27:03.701Z"
   },
   {
    "duration": 17,
    "start_time": "2022-02-02T06:27:03.726Z"
   },
   {
    "duration": 8,
    "start_time": "2022-02-02T06:27:03.745Z"
   },
   {
    "duration": 11,
    "start_time": "2022-02-02T06:27:03.755Z"
   },
   {
    "duration": 7,
    "start_time": "2022-02-02T06:27:03.769Z"
   },
   {
    "duration": 61,
    "start_time": "2022-02-02T06:27:03.778Z"
   },
   {
    "duration": 13,
    "start_time": "2022-02-02T06:27:03.841Z"
   },
   {
    "duration": 15,
    "start_time": "2022-02-02T06:27:03.856Z"
   },
   {
    "duration": 13,
    "start_time": "2022-02-02T06:27:03.873Z"
   },
   {
    "duration": 30,
    "start_time": "2022-02-02T06:27:03.888Z"
   },
   {
    "duration": 7,
    "start_time": "2022-02-02T06:27:03.920Z"
   },
   {
    "duration": 11,
    "start_time": "2022-02-02T06:27:03.929Z"
   },
   {
    "duration": 33,
    "start_time": "2022-02-02T06:27:03.942Z"
   },
   {
    "duration": 10,
    "start_time": "2022-02-02T06:27:03.977Z"
   },
   {
    "duration": 37,
    "start_time": "2022-02-02T06:27:03.989Z"
   },
   {
    "duration": 15,
    "start_time": "2022-02-02T06:27:04.028Z"
   },
   {
    "duration": 12,
    "start_time": "2022-02-02T06:27:04.044Z"
   },
   {
    "duration": 17,
    "start_time": "2022-02-02T06:27:04.058Z"
   },
   {
    "duration": 17,
    "start_time": "2022-02-02T06:27:04.076Z"
   },
   {
    "duration": 9,
    "start_time": "2022-02-02T06:27:04.118Z"
   },
   {
    "duration": 15,
    "start_time": "2022-02-02T06:27:04.129Z"
   },
   {
    "duration": 16,
    "start_time": "2022-02-02T06:27:04.146Z"
   },
   {
    "duration": 5,
    "start_time": "2022-02-02T06:27:04.164Z"
   },
   {
    "duration": 11,
    "start_time": "2022-02-02T06:27:04.171Z"
   },
   {
    "duration": 523,
    "start_time": "2022-02-02T06:27:04.183Z"
   },
   {
    "duration": 5,
    "start_time": "2022-02-02T06:27:04.708Z"
   },
   {
    "duration": 29,
    "start_time": "2022-02-02T06:27:04.718Z"
   },
   {
    "duration": 31,
    "start_time": "2022-02-02T06:27:04.748Z"
   },
   {
    "duration": 766,
    "start_time": "2022-02-02T06:27:04.781Z"
   },
   {
    "duration": 266,
    "start_time": "2022-02-02T06:27:05.549Z"
   },
   {
    "duration": 774,
    "start_time": "2022-02-02T06:27:05.817Z"
   },
   {
    "duration": 387,
    "start_time": "2022-02-02T18:34:09.961Z"
   },
   {
    "duration": 1784,
    "start_time": "2022-02-02T18:34:19.138Z"
   },
   {
    "duration": 30,
    "start_time": "2022-02-02T18:34:20.924Z"
   },
   {
    "duration": 128,
    "start_time": "2022-02-02T18:34:20.958Z"
   },
   {
    "duration": 14,
    "start_time": "2022-02-02T18:34:21.089Z"
   },
   {
    "duration": 54,
    "start_time": "2022-02-02T18:34:21.106Z"
   },
   {
    "duration": 11,
    "start_time": "2022-02-02T18:34:21.163Z"
   },
   {
    "duration": 18,
    "start_time": "2022-02-02T18:34:21.177Z"
   },
   {
    "duration": 9,
    "start_time": "2022-02-02T18:34:21.199Z"
   },
   {
    "duration": 93,
    "start_time": "2022-02-02T18:34:21.211Z"
   },
   {
    "duration": 22,
    "start_time": "2022-02-02T18:34:21.308Z"
   },
   {
    "duration": 37,
    "start_time": "2022-02-02T18:34:21.333Z"
   },
   {
    "duration": 20,
    "start_time": "2022-02-02T18:34:21.373Z"
   },
   {
    "duration": 12,
    "start_time": "2022-02-02T18:34:21.396Z"
   },
   {
    "duration": 29,
    "start_time": "2022-02-02T18:34:21.411Z"
   },
   {
    "duration": 14,
    "start_time": "2022-02-02T18:34:21.449Z"
   },
   {
    "duration": 55,
    "start_time": "2022-02-02T18:34:21.466Z"
   },
   {
    "duration": 30,
    "start_time": "2022-02-02T18:34:21.523Z"
   },
   {
    "duration": 13,
    "start_time": "2022-02-02T18:34:21.556Z"
   },
   {
    "duration": 22,
    "start_time": "2022-02-02T18:34:21.572Z"
   },
   {
    "duration": 8,
    "start_time": "2022-02-02T18:34:21.597Z"
   },
   {
    "duration": 52,
    "start_time": "2022-02-02T18:34:21.608Z"
   },
   {
    "duration": 24,
    "start_time": "2022-02-02T18:34:21.662Z"
   },
   {
    "duration": 13,
    "start_time": "2022-02-02T18:34:21.693Z"
   },
   {
    "duration": 48,
    "start_time": "2022-02-02T18:34:21.709Z"
   },
   {
    "duration": 26,
    "start_time": "2022-02-02T18:34:21.760Z"
   },
   {
    "duration": 5,
    "start_time": "2022-02-02T18:34:21.789Z"
   },
   {
    "duration": 65,
    "start_time": "2022-02-02T18:34:21.796Z"
   },
   {
    "duration": 18,
    "start_time": "2022-02-02T18:34:21.863Z"
   },
   {
    "duration": 932,
    "start_time": "2022-02-02T18:34:21.883Z"
   },
   {
    "duration": 7,
    "start_time": "2022-02-02T18:34:22.817Z"
   },
   {
    "duration": 53,
    "start_time": "2022-02-02T18:34:22.826Z"
   },
   {
    "duration": 36,
    "start_time": "2022-02-02T18:34:22.881Z"
   },
   {
    "duration": 1832,
    "start_time": "2022-02-02T18:34:22.920Z"
   },
   {
    "duration": 547,
    "start_time": "2022-02-02T18:34:24.755Z"
   },
   {
    "duration": 1827,
    "start_time": "2022-02-02T18:34:25.305Z"
   },
   {
    "duration": 37,
    "start_time": "2022-02-02T18:34:45.776Z"
   },
   {
    "duration": 35,
    "start_time": "2022-02-02T18:34:55.526Z"
   },
   {
    "duration": 50,
    "start_time": "2022-02-02T18:35:03.153Z"
   },
   {
    "duration": 36,
    "start_time": "2022-02-02T18:35:07.306Z"
   },
   {
    "duration": 155,
    "start_time": "2022-02-02T18:35:28.201Z"
   },
   {
    "duration": 23,
    "start_time": "2022-02-02T18:35:28.358Z"
   },
   {
    "duration": 205,
    "start_time": "2022-02-02T18:35:28.385Z"
   },
   {
    "duration": 12,
    "start_time": "2022-02-02T18:35:28.593Z"
   },
   {
    "duration": 42,
    "start_time": "2022-02-02T18:35:28.607Z"
   },
   {
    "duration": 9,
    "start_time": "2022-02-02T18:35:28.652Z"
   },
   {
    "duration": 14,
    "start_time": "2022-02-02T18:35:28.664Z"
   },
   {
    "duration": 11,
    "start_time": "2022-02-02T18:35:28.684Z"
   },
   {
    "duration": 81,
    "start_time": "2022-02-02T18:35:28.699Z"
   },
   {
    "duration": 19,
    "start_time": "2022-02-02T18:35:28.783Z"
   },
   {
    "duration": 53,
    "start_time": "2022-02-02T18:35:28.805Z"
   },
   {
    "duration": 15,
    "start_time": "2022-02-02T18:35:28.860Z"
   },
   {
    "duration": 8,
    "start_time": "2022-02-02T18:35:28.878Z"
   },
   {
    "duration": 11,
    "start_time": "2022-02-02T18:35:28.890Z"
   },
   {
    "duration": 51,
    "start_time": "2022-02-02T18:35:28.904Z"
   },
   {
    "duration": 48,
    "start_time": "2022-02-02T18:35:28.958Z"
   },
   {
    "duration": 44,
    "start_time": "2022-02-02T18:35:29.009Z"
   },
   {
    "duration": 14,
    "start_time": "2022-02-02T18:35:29.055Z"
   },
   {
    "duration": 19,
    "start_time": "2022-02-02T18:35:29.072Z"
   },
   {
    "duration": 10,
    "start_time": "2022-02-02T18:35:29.094Z"
   },
   {
    "duration": 50,
    "start_time": "2022-02-02T18:35:29.107Z"
   },
   {
    "duration": 30,
    "start_time": "2022-02-02T18:35:29.159Z"
   },
   {
    "duration": 13,
    "start_time": "2022-02-02T18:35:29.196Z"
   },
   {
    "duration": 43,
    "start_time": "2022-02-02T18:35:29.212Z"
   },
   {
    "duration": 23,
    "start_time": "2022-02-02T18:35:29.258Z"
   },
   {
    "duration": 6,
    "start_time": "2022-02-02T18:35:29.284Z"
   },
   {
    "duration": 56,
    "start_time": "2022-02-02T18:35:29.293Z"
   },
   {
    "duration": 17,
    "start_time": "2022-02-02T18:35:29.351Z"
   },
   {
    "duration": 862,
    "start_time": "2022-02-02T18:35:29.371Z"
   },
   {
    "duration": 18,
    "start_time": "2022-02-02T18:35:30.235Z"
   },
   {
    "duration": 55,
    "start_time": "2022-02-02T18:35:30.256Z"
   },
   {
    "duration": 49,
    "start_time": "2022-02-02T18:35:30.313Z"
   },
   {
    "duration": 1773,
    "start_time": "2022-02-02T18:35:30.365Z"
   },
   {
    "duration": 595,
    "start_time": "2022-02-02T18:35:32.142Z"
   },
   {
    "duration": 1886,
    "start_time": "2022-02-02T18:35:32.741Z"
   },
   {
    "duration": 34,
    "start_time": "2022-02-02T18:36:18.344Z"
   },
   {
    "duration": 144,
    "start_time": "2022-02-02T18:36:24.254Z"
   },
   {
    "duration": 15,
    "start_time": "2022-02-02T18:36:24.401Z"
   },
   {
    "duration": 148,
    "start_time": "2022-02-02T18:36:24.418Z"
   },
   {
    "duration": 12,
    "start_time": "2022-02-02T18:36:24.569Z"
   },
   {
    "duration": 32,
    "start_time": "2022-02-02T18:36:24.583Z"
   },
   {
    "duration": 30,
    "start_time": "2022-02-02T18:36:24.618Z"
   },
   {
    "duration": 15,
    "start_time": "2022-02-02T18:36:24.650Z"
   },
   {
    "duration": 23,
    "start_time": "2022-02-02T18:36:24.669Z"
   },
   {
    "duration": 67,
    "start_time": "2022-02-02T18:36:24.696Z"
   },
   {
    "duration": 28,
    "start_time": "2022-02-02T18:36:24.766Z"
   },
   {
    "duration": 21,
    "start_time": "2022-02-02T18:36:24.797Z"
   },
   {
    "duration": 16,
    "start_time": "2022-02-02T18:36:24.848Z"
   },
   {
    "duration": 9,
    "start_time": "2022-02-02T18:36:24.867Z"
   },
   {
    "duration": 25,
    "start_time": "2022-02-02T18:36:24.879Z"
   },
   {
    "duration": 16,
    "start_time": "2022-02-02T18:36:24.906Z"
   },
   {
    "duration": 75,
    "start_time": "2022-02-02T18:36:24.949Z"
   },
   {
    "duration": 33,
    "start_time": "2022-02-02T18:36:25.028Z"
   },
   {
    "duration": 20,
    "start_time": "2022-02-02T18:36:25.065Z"
   },
   {
    "duration": 28,
    "start_time": "2022-02-02T18:36:25.088Z"
   },
   {
    "duration": 9,
    "start_time": "2022-02-02T18:36:25.148Z"
   },
   {
    "duration": 16,
    "start_time": "2022-02-02T18:36:25.159Z"
   },
   {
    "duration": 24,
    "start_time": "2022-02-02T18:36:25.178Z"
   },
   {
    "duration": 48,
    "start_time": "2022-02-02T18:36:25.209Z"
   },
   {
    "duration": 12,
    "start_time": "2022-02-02T18:36:25.260Z"
   },
   {
    "duration": 28,
    "start_time": "2022-02-02T18:36:25.275Z"
   },
   {
    "duration": 6,
    "start_time": "2022-02-02T18:36:25.306Z"
   },
   {
    "duration": 67,
    "start_time": "2022-02-02T18:36:25.315Z"
   },
   {
    "duration": 23,
    "start_time": "2022-02-02T18:36:25.385Z"
   },
   {
    "duration": 1552,
    "start_time": "2022-02-02T18:36:25.411Z"
   },
   {
    "duration": 10,
    "start_time": "2022-02-02T18:36:26.967Z"
   },
   {
    "duration": 74,
    "start_time": "2022-02-02T18:36:26.980Z"
   },
   {
    "duration": 56,
    "start_time": "2022-02-02T18:36:27.058Z"
   },
   {
    "duration": 1940,
    "start_time": "2022-02-02T18:36:27.118Z"
   },
   {
    "duration": 569,
    "start_time": "2022-02-02T18:36:29.061Z"
   },
   {
    "duration": 1214,
    "start_time": "2022-02-02T18:36:29.634Z"
   },
   {
    "duration": 8,
    "start_time": "2022-02-02T18:37:40.035Z"
   },
   {
    "duration": 37,
    "start_time": "2022-02-02T18:37:44.253Z"
   },
   {
    "duration": 126,
    "start_time": "2022-02-02T18:38:02.526Z"
   },
   {
    "duration": 15,
    "start_time": "2022-02-02T18:38:02.655Z"
   },
   {
    "duration": 142,
    "start_time": "2022-02-02T18:38:02.674Z"
   },
   {
    "duration": 12,
    "start_time": "2022-02-02T18:38:02.819Z"
   },
   {
    "duration": 20,
    "start_time": "2022-02-02T18:38:02.849Z"
   },
   {
    "duration": 7,
    "start_time": "2022-02-02T18:38:02.872Z"
   },
   {
    "duration": 11,
    "start_time": "2022-02-02T18:38:02.882Z"
   },
   {
    "duration": 9,
    "start_time": "2022-02-02T18:38:02.897Z"
   },
   {
    "duration": 37,
    "start_time": "2022-02-02T18:38:02.950Z"
   },
   {
    "duration": 25,
    "start_time": "2022-02-02T18:38:02.989Z"
   },
   {
    "duration": 51,
    "start_time": "2022-02-02T18:38:03.017Z"
   },
   {
    "duration": 14,
    "start_time": "2022-02-02T18:38:03.071Z"
   },
   {
    "duration": 5,
    "start_time": "2022-02-02T18:38:03.088Z"
   },
   {
    "duration": 8,
    "start_time": "2022-02-02T18:38:03.096Z"
   },
   {
    "duration": 52,
    "start_time": "2022-02-02T18:38:03.107Z"
   },
   {
    "duration": 53,
    "start_time": "2022-02-02T18:38:03.161Z"
   },
   {
    "duration": 36,
    "start_time": "2022-02-02T18:38:03.217Z"
   },
   {
    "duration": 13,
    "start_time": "2022-02-02T18:38:03.255Z"
   },
   {
    "duration": 22,
    "start_time": "2022-02-02T18:38:03.271Z"
   },
   {
    "duration": 7,
    "start_time": "2022-02-02T18:38:03.296Z"
   },
   {
    "duration": 49,
    "start_time": "2022-02-02T18:38:03.306Z"
   },
   {
    "duration": 25,
    "start_time": "2022-02-02T18:38:03.358Z"
   },
   {
    "duration": 11,
    "start_time": "2022-02-02T18:38:03.388Z"
   },
   {
    "duration": 11,
    "start_time": "2022-02-02T18:38:03.403Z"
   },
   {
    "duration": 59,
    "start_time": "2022-02-02T18:38:03.417Z"
   },
   {
    "duration": 7,
    "start_time": "2022-02-02T18:38:03.478Z"
   },
   {
    "duration": 24,
    "start_time": "2022-02-02T18:38:03.488Z"
   },
   {
    "duration": 50,
    "start_time": "2022-02-02T18:38:03.514Z"
   },
   {
    "duration": 909,
    "start_time": "2022-02-02T18:38:03.567Z"
   },
   {
    "duration": 8,
    "start_time": "2022-02-02T18:38:04.478Z"
   },
   {
    "duration": 38,
    "start_time": "2022-02-02T18:38:04.488Z"
   },
   {
    "duration": 50,
    "start_time": "2022-02-02T18:38:04.529Z"
   },
   {
    "duration": 1149,
    "start_time": "2022-02-02T18:38:04.582Z"
   },
   {
    "duration": 376,
    "start_time": "2022-02-02T18:38:05.733Z"
   },
   {
    "duration": 1140,
    "start_time": "2022-02-02T18:38:06.112Z"
   },
   {
    "duration": 6,
    "start_time": "2022-02-02T18:39:27.051Z"
   },
   {
    "duration": 36,
    "start_time": "2022-02-02T18:39:37.359Z"
   },
   {
    "duration": 129,
    "start_time": "2022-02-02T18:39:43.926Z"
   },
   {
    "duration": 15,
    "start_time": "2022-02-02T18:39:44.058Z"
   },
   {
    "duration": 136,
    "start_time": "2022-02-02T18:39:44.075Z"
   },
   {
    "duration": 11,
    "start_time": "2022-02-02T18:39:44.213Z"
   },
   {
    "duration": 32,
    "start_time": "2022-02-02T18:39:44.227Z"
   },
   {
    "duration": 8,
    "start_time": "2022-02-02T18:39:44.261Z"
   },
   {
    "duration": 10,
    "start_time": "2022-02-02T18:39:44.271Z"
   },
   {
    "duration": 8,
    "start_time": "2022-02-02T18:39:44.285Z"
   },
   {
    "duration": 73,
    "start_time": "2022-02-02T18:39:44.297Z"
   },
   {
    "duration": 20,
    "start_time": "2022-02-02T18:39:44.373Z"
   },
   {
    "duration": 20,
    "start_time": "2022-02-02T18:39:44.396Z"
   },
   {
    "duration": 40,
    "start_time": "2022-02-02T18:39:44.418Z"
   },
   {
    "duration": 8,
    "start_time": "2022-02-02T18:39:44.460Z"
   },
   {
    "duration": 11,
    "start_time": "2022-02-02T18:39:44.471Z"
   },
   {
    "duration": 12,
    "start_time": "2022-02-02T18:39:44.485Z"
   },
   {
    "duration": 90,
    "start_time": "2022-02-02T18:39:44.500Z"
   },
   {
    "duration": 13,
    "start_time": "2022-02-02T18:39:44.593Z"
   },
   {
    "duration": 43,
    "start_time": "2022-02-02T18:39:44.609Z"
   },
   {
    "duration": 19,
    "start_time": "2022-02-02T18:39:44.655Z"
   },
   {
    "duration": 6,
    "start_time": "2022-02-02T18:39:44.677Z"
   },
   {
    "duration": 16,
    "start_time": "2022-02-02T18:39:44.686Z"
   },
   {
    "duration": 60,
    "start_time": "2022-02-02T18:39:44.704Z"
   },
   {
    "duration": 12,
    "start_time": "2022-02-02T18:39:44.769Z"
   },
   {
    "duration": 10,
    "start_time": "2022-02-02T18:39:44.784Z"
   },
   {
    "duration": 54,
    "start_time": "2022-02-02T18:39:44.797Z"
   },
   {
    "duration": 6,
    "start_time": "2022-02-02T18:39:44.854Z"
   },
   {
    "duration": 28,
    "start_time": "2022-02-02T18:39:44.862Z"
   },
   {
    "duration": 16,
    "start_time": "2022-02-02T18:39:44.893Z"
   },
   {
    "duration": 739,
    "start_time": "2022-02-02T18:39:44.912Z"
   },
   {
    "duration": 7,
    "start_time": "2022-02-02T18:39:45.654Z"
   },
   {
    "duration": 38,
    "start_time": "2022-02-02T18:39:45.664Z"
   },
   {
    "duration": 63,
    "start_time": "2022-02-02T18:39:45.704Z"
   },
   {
    "duration": 1168,
    "start_time": "2022-02-02T18:39:45.770Z"
   },
   {
    "duration": 384,
    "start_time": "2022-02-02T18:39:46.941Z"
   },
   {
    "duration": 1212,
    "start_time": "2022-02-02T18:39:47.328Z"
   },
   {
    "duration": 1259,
    "start_time": "2022-02-02T18:50:50.492Z"
   },
   {
    "duration": 2056,
    "start_time": "2022-02-02T18:52:50.875Z"
   },
   {
    "duration": 1548,
    "start_time": "2022-02-02T18:53:01.526Z"
   },
   {
    "duration": 1258,
    "start_time": "2022-02-02T18:53:12.329Z"
   },
   {
    "duration": 1285,
    "start_time": "2022-02-02T18:53:24.254Z"
   },
   {
    "duration": 1758,
    "start_time": "2022-02-02T18:53:54.238Z"
   },
   {
    "duration": 1831,
    "start_time": "2022-02-02T18:54:09.651Z"
   },
   {
    "duration": 2127,
    "start_time": "2022-02-02T18:54:31.992Z"
   },
   {
    "duration": 1657,
    "start_time": "2022-02-02T18:55:01.455Z"
   },
   {
    "duration": 1468,
    "start_time": "2022-02-02T18:55:39.231Z"
   },
   {
    "duration": 1430,
    "start_time": "2022-02-02T18:56:53.838Z"
   },
   {
    "duration": 1381,
    "start_time": "2022-02-02T18:57:08.038Z"
   },
   {
    "duration": 1580,
    "start_time": "2022-02-02T18:59:56.813Z"
   },
   {
    "duration": 4199,
    "start_time": "2022-02-02T19:00:06.817Z"
   },
   {
    "duration": 1083,
    "start_time": "2022-02-02T19:00:22.308Z"
   },
   {
    "duration": 3190,
    "start_time": "2022-02-12T15:45:25.237Z"
   },
   {
    "duration": 40,
    "start_time": "2022-02-12T15:45:28.391Z"
   },
   {
    "duration": 28,
    "start_time": "2022-02-12T15:45:28.404Z"
   },
   {
    "duration": 16,
    "start_time": "2022-02-12T15:45:28.417Z"
   },
   {
    "duration": 13,
    "start_time": "2022-02-12T15:45:28.421Z"
   },
   {
    "duration": 1,
    "start_time": "2022-02-12T15:45:28.434Z"
   },
   {
    "duration": -2,
    "start_time": "2022-02-12T15:45:28.438Z"
   },
   {
    "duration": -14,
    "start_time": "2022-02-12T15:45:28.452Z"
   },
   {
    "duration": -19,
    "start_time": "2022-02-12T15:45:28.458Z"
   },
   {
    "duration": -24,
    "start_time": "2022-02-12T15:45:28.464Z"
   },
   {
    "duration": -28,
    "start_time": "2022-02-12T15:45:28.469Z"
   },
   {
    "duration": -34,
    "start_time": "2022-02-12T15:45:28.475Z"
   },
   {
    "duration": -36,
    "start_time": "2022-02-12T15:45:28.479Z"
   },
   {
    "duration": -39,
    "start_time": "2022-02-12T15:45:28.483Z"
   },
   {
    "duration": -42,
    "start_time": "2022-02-12T15:45:28.487Z"
   },
   {
    "duration": -46,
    "start_time": "2022-02-12T15:45:28.492Z"
   },
   {
    "duration": -49,
    "start_time": "2022-02-12T15:45:28.496Z"
   },
   {
    "duration": -51,
    "start_time": "2022-02-12T15:45:28.499Z"
   },
   {
    "duration": -54,
    "start_time": "2022-02-12T15:45:28.503Z"
   },
   {
    "duration": -56,
    "start_time": "2022-02-12T15:45:28.506Z"
   },
   {
    "duration": -59,
    "start_time": "2022-02-12T15:45:28.510Z"
   },
   {
    "duration": -62,
    "start_time": "2022-02-12T15:45:28.514Z"
   },
   {
    "duration": -65,
    "start_time": "2022-02-12T15:45:28.518Z"
   },
   {
    "duration": -68,
    "start_time": "2022-02-12T15:45:28.522Z"
   },
   {
    "duration": -71,
    "start_time": "2022-02-12T15:45:28.526Z"
   },
   {
    "duration": -74,
    "start_time": "2022-02-12T15:45:28.530Z"
   },
   {
    "duration": -77,
    "start_time": "2022-02-12T15:45:28.533Z"
   },
   {
    "duration": -81,
    "start_time": "2022-02-12T15:45:28.538Z"
   },
   {
    "duration": -84,
    "start_time": "2022-02-12T15:45:28.542Z"
   },
   {
    "duration": -86,
    "start_time": "2022-02-12T15:45:28.545Z"
   },
   {
    "duration": -89,
    "start_time": "2022-02-12T15:45:28.549Z"
   },
   {
    "duration": -101,
    "start_time": "2022-02-12T15:45:28.562Z"
   },
   {
    "duration": -104,
    "start_time": "2022-02-12T15:45:28.566Z"
   },
   {
    "duration": -107,
    "start_time": "2022-02-12T15:45:28.570Z"
   },
   {
    "duration": -110,
    "start_time": "2022-02-12T15:45:28.574Z"
   },
   {
    "duration": -114,
    "start_time": "2022-02-12T15:45:28.579Z"
   },
   {
    "duration": -116,
    "start_time": "2022-02-12T15:45:28.582Z"
   },
   {
    "duration": -120,
    "start_time": "2022-02-12T15:45:28.586Z"
   },
   {
    "duration": -123,
    "start_time": "2022-02-12T15:45:28.590Z"
   },
   {
    "duration": -126,
    "start_time": "2022-02-12T15:45:28.594Z"
   },
   {
    "duration": -128,
    "start_time": "2022-02-12T15:45:28.597Z"
   },
   {
    "duration": -132,
    "start_time": "2022-02-12T15:45:28.602Z"
   },
   {
    "duration": -97,
    "start_time": "2022-02-12T15:45:28.605Z"
   },
   {
    "duration": -101,
    "start_time": "2022-02-12T15:45:28.610Z"
   },
   {
    "duration": -102,
    "start_time": "2022-02-12T15:45:28.613Z"
   },
   {
    "duration": -128,
    "start_time": "2022-02-12T15:45:28.640Z"
   },
   {
    "duration": -131,
    "start_time": "2022-02-12T15:45:28.644Z"
   },
   {
    "duration": -133,
    "start_time": "2022-02-12T15:45:28.647Z"
   },
   {
    "duration": -135,
    "start_time": "2022-02-12T15:45:28.651Z"
   },
   {
    "duration": -138,
    "start_time": "2022-02-12T15:45:28.655Z"
   },
   {
    "duration": -165,
    "start_time": "2022-02-12T15:45:28.683Z"
   },
   {
    "duration": -168,
    "start_time": "2022-02-12T15:45:28.687Z"
   },
   {
    "duration": -171,
    "start_time": "2022-02-12T15:45:28.691Z"
   },
   {
    "duration": -187,
    "start_time": "2022-02-12T15:45:28.708Z"
   },
   {
    "duration": -188,
    "start_time": "2022-02-12T15:45:28.711Z"
   },
   {
    "duration": -191,
    "start_time": "2022-02-12T15:45:28.715Z"
   },
   {
    "duration": -194,
    "start_time": "2022-02-12T15:45:28.719Z"
   },
   {
    "duration": -196,
    "start_time": "2022-02-12T15:45:28.723Z"
   },
   {
    "duration": -208,
    "start_time": "2022-02-12T15:45:28.736Z"
   },
   {
    "duration": -211,
    "start_time": "2022-02-12T15:45:28.740Z"
   },
   {
    "duration": -213,
    "start_time": "2022-02-12T15:45:28.743Z"
   },
   {
    "duration": -225,
    "start_time": "2022-02-12T15:45:28.756Z"
   },
   {
    "duration": -228,
    "start_time": "2022-02-12T15:45:28.760Z"
   },
   {
    "duration": -230,
    "start_time": "2022-02-12T15:45:28.764Z"
   },
   {
    "duration": -232,
    "start_time": "2022-02-12T15:45:28.767Z"
   },
   {
    "duration": -235,
    "start_time": "2022-02-12T15:45:28.771Z"
   },
   {
    "duration": -238,
    "start_time": "2022-02-12T15:45:28.775Z"
   },
   {
    "duration": -240,
    "start_time": "2022-02-12T15:45:28.778Z"
   },
   {
    "duration": -258,
    "start_time": "2022-02-12T15:45:28.797Z"
   },
   {
    "duration": -261,
    "start_time": "2022-02-12T15:45:28.801Z"
   },
   {
    "duration": -264,
    "start_time": "2022-02-12T15:45:28.805Z"
   },
   {
    "duration": -272,
    "start_time": "2022-02-12T15:45:28.814Z"
   },
   {
    "duration": -275,
    "start_time": "2022-02-12T15:45:28.818Z"
   },
   {
    "duration": -278,
    "start_time": "2022-02-12T15:45:28.822Z"
   },
   {
    "duration": -281,
    "start_time": "2022-02-12T15:45:28.825Z"
   },
   {
    "duration": -290,
    "start_time": "2022-02-12T15:45:28.835Z"
   },
   {
    "duration": -294,
    "start_time": "2022-02-12T15:45:28.839Z"
   },
   {
    "duration": -236,
    "start_time": "2022-02-12T15:45:28.843Z"
   },
   {
    "duration": -237,
    "start_time": "2022-02-12T15:45:28.846Z"
   },
   {
    "duration": -242,
    "start_time": "2022-02-12T15:45:28.852Z"
   },
   {
    "duration": 3,
    "start_time": "2022-02-12T16:11:12.745Z"
   },
   {
    "duration": 287,
    "start_time": "2022-02-12T16:11:12.751Z"
   },
   {
    "duration": 55,
    "start_time": "2022-02-12T16:11:12.987Z"
   },
   {
    "duration": 46,
    "start_time": "2022-02-12T16:11:12.997Z"
   },
   {
    "duration": 43,
    "start_time": "2022-02-12T16:11:13.001Z"
   },
   {
    "duration": 40,
    "start_time": "2022-02-12T16:11:13.005Z"
   },
   {
    "duration": 37,
    "start_time": "2022-02-12T16:11:13.009Z"
   },
   {
    "duration": 34,
    "start_time": "2022-02-12T16:11:13.013Z"
   },
   {
    "duration": 31,
    "start_time": "2022-02-12T16:11:13.016Z"
   },
   {
    "duration": 29,
    "start_time": "2022-02-12T16:11:13.019Z"
   },
   {
    "duration": 19,
    "start_time": "2022-02-12T16:11:13.030Z"
   },
   {
    "duration": 17,
    "start_time": "2022-02-12T16:11:13.033Z"
   },
   {
    "duration": 14,
    "start_time": "2022-02-12T16:11:13.037Z"
   },
   {
    "duration": 12,
    "start_time": "2022-02-12T16:11:13.040Z"
   },
   {
    "duration": 3,
    "start_time": "2022-02-12T16:11:13.050Z"
   },
   {
    "duration": 1,
    "start_time": "2022-02-12T16:11:13.053Z"
   },
   {
    "duration": -2,
    "start_time": "2022-02-12T16:11:13.057Z"
   },
   {
    "duration": -5,
    "start_time": "2022-02-12T16:11:13.061Z"
   },
   {
    "duration": -8,
    "start_time": "2022-02-12T16:11:13.065Z"
   },
   {
    "duration": -10,
    "start_time": "2022-02-12T16:11:13.068Z"
   },
   {
    "duration": -13,
    "start_time": "2022-02-12T16:11:13.072Z"
   },
   {
    "duration": -15,
    "start_time": "2022-02-12T16:11:13.075Z"
   },
   {
    "duration": -18,
    "start_time": "2022-02-12T16:11:13.079Z"
   },
   {
    "duration": -20,
    "start_time": "2022-02-12T16:11:13.082Z"
   },
   {
    "duration": -30,
    "start_time": "2022-02-12T16:11:13.093Z"
   },
   {
    "duration": -32,
    "start_time": "2022-02-12T16:11:13.096Z"
   },
   {
    "duration": -35,
    "start_time": "2022-02-12T16:11:13.100Z"
   },
   {
    "duration": -37,
    "start_time": "2022-02-12T16:11:13.103Z"
   },
   {
    "duration": -92,
    "start_time": "2022-02-12T16:11:13.159Z"
   },
   {
    "duration": -94,
    "start_time": "2022-02-12T16:11:13.162Z"
   },
   {
    "duration": -120,
    "start_time": "2022-02-12T16:11:13.189Z"
   },
   {
    "duration": -146,
    "start_time": "2022-02-12T16:11:13.216Z"
   },
   {
    "duration": -366,
    "start_time": "2022-02-12T16:11:13.437Z"
   },
   {
    "duration": -412,
    "start_time": "2022-02-12T16:11:13.484Z"
   },
   {
    "duration": -415,
    "start_time": "2022-02-12T16:11:13.488Z"
   },
   {
    "duration": -422,
    "start_time": "2022-02-12T16:11:13.498Z"
   },
   {
    "duration": -425,
    "start_time": "2022-02-12T16:11:13.502Z"
   },
   {
    "duration": -428,
    "start_time": "2022-02-12T16:11:13.505Z"
   },
   {
    "duration": -431,
    "start_time": "2022-02-12T16:11:13.509Z"
   },
   {
    "duration": -434,
    "start_time": "2022-02-12T16:11:13.513Z"
   },
   {
    "duration": -437,
    "start_time": "2022-02-12T16:11:13.517Z"
   },
   {
    "duration": -439,
    "start_time": "2022-02-12T16:11:13.520Z"
   },
   {
    "duration": -443,
    "start_time": "2022-02-12T16:11:13.524Z"
   },
   {
    "duration": -551,
    "start_time": "2022-02-12T16:11:13.658Z"
   },
   {
    "duration": -571,
    "start_time": "2022-02-12T16:11:13.679Z"
   },
   {
    "duration": -573,
    "start_time": "2022-02-12T16:11:13.682Z"
   },
   {
    "duration": -575,
    "start_time": "2022-02-12T16:11:13.685Z"
   },
   {
    "duration": -578,
    "start_time": "2022-02-12T16:11:13.689Z"
   },
   {
    "duration": -582,
    "start_time": "2022-02-12T16:11:13.693Z"
   },
   {
    "duration": -584,
    "start_time": "2022-02-12T16:11:13.696Z"
   },
   {
    "duration": -652,
    "start_time": "2022-02-12T16:11:13.765Z"
   },
   {
    "duration": -655,
    "start_time": "2022-02-12T16:11:13.769Z"
   },
   {
    "duration": -657,
    "start_time": "2022-02-12T16:11:13.772Z"
   },
   {
    "duration": -660,
    "start_time": "2022-02-12T16:11:13.776Z"
   },
   {
    "duration": -662,
    "start_time": "2022-02-12T16:11:13.779Z"
   },
   {
    "duration": -689,
    "start_time": "2022-02-12T16:11:13.807Z"
   },
   {
    "duration": -725,
    "start_time": "2022-02-12T16:11:13.844Z"
   },
   {
    "duration": -728,
    "start_time": "2022-02-12T16:11:13.848Z"
   },
   {
    "duration": -730,
    "start_time": "2022-02-12T16:11:13.851Z"
   },
   {
    "duration": -733,
    "start_time": "2022-02-12T16:11:13.855Z"
   },
   {
    "duration": -735,
    "start_time": "2022-02-12T16:11:13.858Z"
   },
   {
    "duration": -738,
    "start_time": "2022-02-12T16:11:13.862Z"
   },
   {
    "duration": -741,
    "start_time": "2022-02-12T16:11:13.866Z"
   },
   {
    "duration": -743,
    "start_time": "2022-02-12T16:11:13.869Z"
   },
   {
    "duration": -746,
    "start_time": "2022-02-12T16:11:13.873Z"
   },
   {
    "duration": -748,
    "start_time": "2022-02-12T16:11:13.876Z"
   },
   {
    "duration": -751,
    "start_time": "2022-02-12T16:11:13.880Z"
   },
   {
    "duration": -754,
    "start_time": "2022-02-12T16:11:13.884Z"
   },
   {
    "duration": -756,
    "start_time": "2022-02-12T16:11:13.887Z"
   },
   {
    "duration": -758,
    "start_time": "2022-02-12T16:11:13.890Z"
   },
   {
    "duration": -761,
    "start_time": "2022-02-12T16:11:13.894Z"
   },
   {
    "duration": -764,
    "start_time": "2022-02-12T16:11:13.898Z"
   },
   {
    "duration": -766,
    "start_time": "2022-02-12T16:11:13.901Z"
   },
   {
    "duration": -769,
    "start_time": "2022-02-12T16:11:13.905Z"
   },
   {
    "duration": -773,
    "start_time": "2022-02-12T16:11:13.909Z"
   },
   {
    "duration": -775,
    "start_time": "2022-02-12T16:11:13.912Z"
   },
   {
    "duration": -778,
    "start_time": "2022-02-12T16:11:13.916Z"
   },
   {
    "duration": -781,
    "start_time": "2022-02-12T16:11:13.920Z"
   },
   {
    "duration": -783,
    "start_time": "2022-02-12T16:11:13.923Z"
   },
   {
    "duration": -786,
    "start_time": "2022-02-12T16:11:13.927Z"
   },
   {
    "duration": -799,
    "start_time": "2022-02-12T16:11:13.940Z"
   },
   {
    "duration": 4,
    "start_time": "2022-02-12T16:11:43.141Z"
   },
   {
    "duration": 1246,
    "start_time": "2022-02-12T16:11:43.166Z"
   },
   {
    "duration": 409,
    "start_time": "2022-02-12T16:11:44.415Z"
   },
   {
    "duration": 122,
    "start_time": "2022-02-12T16:11:44.707Z"
   },
   {
    "duration": 103,
    "start_time": "2022-02-12T16:11:44.727Z"
   },
   {
    "duration": 94,
    "start_time": "2022-02-12T16:11:44.738Z"
   },
   {
    "duration": 90,
    "start_time": "2022-02-12T16:11:44.743Z"
   },
   {
    "duration": 82,
    "start_time": "2022-02-12T16:11:44.753Z"
   },
   {
    "duration": 77,
    "start_time": "2022-02-12T16:11:44.760Z"
   },
   {
    "duration": 69,
    "start_time": "2022-02-12T16:11:44.770Z"
   },
   {
    "duration": 64,
    "start_time": "2022-02-12T16:11:44.776Z"
   },
   {
    "duration": 56,
    "start_time": "2022-02-12T16:11:44.786Z"
   },
   {
    "duration": 54,
    "start_time": "2022-02-12T16:11:44.789Z"
   },
   {
    "duration": 52,
    "start_time": "2022-02-12T16:11:44.793Z"
   },
   {
    "duration": 11,
    "start_time": "2022-02-12T16:11:44.835Z"
   },
   {
    "duration": -72,
    "start_time": "2022-02-12T16:11:44.920Z"
   },
   {
    "duration": -75,
    "start_time": "2022-02-12T16:11:44.925Z"
   },
   {
    "duration": -84,
    "start_time": "2022-02-12T16:11:44.935Z"
   },
   {
    "duration": -86,
    "start_time": "2022-02-12T16:11:44.939Z"
   },
   {
    "duration": -89,
    "start_time": "2022-02-12T16:11:44.943Z"
   },
   {
    "duration": -412,
    "start_time": "2022-02-12T16:11:45.268Z"
   },
   {
    "duration": -414,
    "start_time": "2022-02-12T16:11:45.272Z"
   },
   {
    "duration": -417,
    "start_time": "2022-02-12T16:11:45.276Z"
   },
   {
    "duration": -424,
    "start_time": "2022-02-12T16:11:45.285Z"
   },
   {
    "duration": -427,
    "start_time": "2022-02-12T16:11:45.289Z"
   },
   {
    "duration": -430,
    "start_time": "2022-02-12T16:11:45.294Z"
   },
   {
    "duration": -440,
    "start_time": "2022-02-12T16:11:45.305Z"
   },
   {
    "duration": -442,
    "start_time": "2022-02-12T16:11:45.309Z"
   },
   {
    "duration": -451,
    "start_time": "2022-02-12T16:11:45.319Z"
   },
   {
    "duration": -453,
    "start_time": "2022-02-12T16:11:45.322Z"
   },
   {
    "duration": -427,
    "start_time": "2022-02-12T16:11:45.333Z"
   },
   {
    "duration": -429,
    "start_time": "2022-02-12T16:11:45.337Z"
   },
   {
    "duration": -432,
    "start_time": "2022-02-12T16:11:45.342Z"
   },
   {
    "duration": -469,
    "start_time": "2022-02-12T16:11:45.381Z"
   },
   {
    "duration": -611,
    "start_time": "2022-02-12T16:11:45.525Z"
   },
   {
    "duration": -617,
    "start_time": "2022-02-12T16:11:45.533Z"
   },
   {
    "duration": -620,
    "start_time": "2022-02-12T16:11:45.537Z"
   },
   {
    "duration": -622,
    "start_time": "2022-02-12T16:11:45.541Z"
   },
   {
    "duration": -632,
    "start_time": "2022-02-12T16:11:45.552Z"
   },
   {
    "duration": -634,
    "start_time": "2022-02-12T16:11:45.556Z"
   },
   {
    "duration": -643,
    "start_time": "2022-02-12T16:11:45.567Z"
   },
   {
    "duration": -645,
    "start_time": "2022-02-12T16:11:45.570Z"
   },
   {
    "duration": -648,
    "start_time": "2022-02-12T16:11:45.575Z"
   },
   {
    "duration": -656,
    "start_time": "2022-02-12T16:11:45.584Z"
   },
   {
    "duration": -657,
    "start_time": "2022-02-12T16:11:45.587Z"
   },
   {
    "duration": -660,
    "start_time": "2022-02-12T16:11:45.591Z"
   },
   {
    "duration": -670,
    "start_time": "2022-02-12T16:11:45.602Z"
   },
   {
    "duration": -672,
    "start_time": "2022-02-12T16:11:45.605Z"
   },
   {
    "duration": -676,
    "start_time": "2022-02-12T16:11:45.610Z"
   },
   {
    "duration": -678,
    "start_time": "2022-02-12T16:11:45.613Z"
   },
   {
    "duration": -681,
    "start_time": "2022-02-12T16:11:45.617Z"
   },
   {
    "duration": -683,
    "start_time": "2022-02-12T16:11:45.620Z"
   },
   {
    "duration": -686,
    "start_time": "2022-02-12T16:11:45.624Z"
   },
   {
    "duration": -688,
    "start_time": "2022-02-12T16:11:45.627Z"
   },
   {
    "duration": -691,
    "start_time": "2022-02-12T16:11:45.631Z"
   },
   {
    "duration": -694,
    "start_time": "2022-02-12T16:11:45.635Z"
   },
   {
    "duration": -697,
    "start_time": "2022-02-12T16:11:45.639Z"
   },
   {
    "duration": -699,
    "start_time": "2022-02-12T16:11:45.642Z"
   },
   {
    "duration": -703,
    "start_time": "2022-02-12T16:11:45.647Z"
   },
   {
    "duration": -705,
    "start_time": "2022-02-12T16:11:45.650Z"
   },
   {
    "duration": -708,
    "start_time": "2022-02-12T16:11:45.654Z"
   },
   {
    "duration": -651,
    "start_time": "2022-02-12T16:11:45.658Z"
   },
   {
    "duration": -652,
    "start_time": "2022-02-12T16:11:45.661Z"
   },
   {
    "duration": -655,
    "start_time": "2022-02-12T16:11:45.665Z"
   },
   {
    "duration": -657,
    "start_time": "2022-02-12T16:11:45.668Z"
   },
   {
    "duration": -660,
    "start_time": "2022-02-12T16:11:45.672Z"
   },
   {
    "duration": -720,
    "start_time": "2022-02-12T16:11:45.734Z"
   },
   {
    "duration": -766,
    "start_time": "2022-02-12T16:11:45.781Z"
   },
   {
    "duration": -785,
    "start_time": "2022-02-12T16:11:45.801Z"
   },
   {
    "duration": -787,
    "start_time": "2022-02-12T16:11:45.804Z"
   },
   {
    "duration": -789,
    "start_time": "2022-02-12T16:11:45.808Z"
   },
   {
    "duration": -798,
    "start_time": "2022-02-12T16:11:45.818Z"
   },
   {
    "duration": -801,
    "start_time": "2022-02-12T16:11:45.822Z"
   },
   {
    "duration": -804,
    "start_time": "2022-02-12T16:11:45.826Z"
   },
   {
    "duration": -806,
    "start_time": "2022-02-12T16:11:45.829Z"
   },
   {
    "duration": -809,
    "start_time": "2022-02-12T16:11:45.833Z"
   },
   {
    "duration": -810,
    "start_time": "2022-02-12T16:11:45.836Z"
   },
   {
    "duration": -813,
    "start_time": "2022-02-12T16:11:45.840Z"
   },
   {
    "duration": -816,
    "start_time": "2022-02-12T16:11:45.844Z"
   },
   {
    "duration": -818,
    "start_time": "2022-02-12T16:11:45.847Z"
   },
   {
    "duration": -821,
    "start_time": "2022-02-12T16:11:45.851Z"
   },
   {
    "duration": -824,
    "start_time": "2022-02-12T16:11:45.855Z"
   },
   {
    "duration": 3,
    "start_time": "2022-02-12T16:12:34.053Z"
   },
   {
    "duration": 1376,
    "start_time": "2022-02-12T16:12:34.057Z"
   },
   {
    "duration": 60,
    "start_time": "2022-02-12T16:12:35.436Z"
   },
   {
    "duration": 10,
    "start_time": "2022-02-12T16:12:35.498Z"
   },
   {
    "duration": 60,
    "start_time": "2022-02-12T16:12:35.510Z"
   },
   {
    "duration": 8,
    "start_time": "2022-02-12T16:12:35.572Z"
   },
   {
    "duration": 408,
    "start_time": "2022-02-12T16:12:35.582Z"
   },
   {
    "duration": 59,
    "start_time": "2022-02-12T16:12:35.938Z"
   },
   {
    "duration": 47,
    "start_time": "2022-02-12T16:12:35.952Z"
   },
   {
    "duration": 43,
    "start_time": "2022-02-12T16:12:35.957Z"
   },
   {
    "duration": 32,
    "start_time": "2022-02-12T16:12:35.970Z"
   },
   {
    "duration": 21,
    "start_time": "2022-02-12T16:12:35.983Z"
   },
   {
    "duration": 17,
    "start_time": "2022-02-12T16:12:35.988Z"
   },
   {
    "duration": 8,
    "start_time": "2022-02-12T16:12:35.999Z"
   },
   {
    "duration": 5,
    "start_time": "2022-02-12T16:12:36.003Z"
   },
   {
    "duration": -5,
    "start_time": "2022-02-12T16:12:36.015Z"
   },
   {
    "duration": -7,
    "start_time": "2022-02-12T16:12:36.019Z"
   },
   {
    "duration": -10,
    "start_time": "2022-02-12T16:12:36.023Z"
   },
   {
    "duration": -19,
    "start_time": "2022-02-12T16:12:36.034Z"
   },
   {
    "duration": -22,
    "start_time": "2022-02-12T16:12:36.038Z"
   },
   {
    "duration": -33,
    "start_time": "2022-02-12T16:12:36.051Z"
   },
   {
    "duration": -73,
    "start_time": "2022-02-12T16:12:36.092Z"
   },
   {
    "duration": -83,
    "start_time": "2022-02-12T16:12:36.105Z"
   },
   {
    "duration": -93,
    "start_time": "2022-02-12T16:12:36.116Z"
   },
   {
    "duration": -140,
    "start_time": "2022-02-12T16:12:36.164Z"
   },
   {
    "duration": -141,
    "start_time": "2022-02-12T16:12:36.167Z"
   },
   {
    "duration": -295,
    "start_time": "2022-02-12T16:12:36.323Z"
   },
   {
    "duration": -307,
    "start_time": "2022-02-12T16:12:36.336Z"
   },
   {
    "duration": -315,
    "start_time": "2022-02-12T16:12:36.346Z"
   },
   {
    "duration": -316,
    "start_time": "2022-02-12T16:12:36.349Z"
   },
   {
    "duration": -319,
    "start_time": "2022-02-12T16:12:36.353Z"
   },
   {
    "duration": -326,
    "start_time": "2022-02-12T16:12:36.362Z"
   },
   {
    "duration": -329,
    "start_time": "2022-02-12T16:12:36.366Z"
   },
   {
    "duration": -330,
    "start_time": "2022-02-12T16:12:36.369Z"
   },
   {
    "duration": -368,
    "start_time": "2022-02-12T16:12:36.408Z"
   },
   {
    "duration": -370,
    "start_time": "2022-02-12T16:12:36.412Z"
   },
   {
    "duration": -373,
    "start_time": "2022-02-12T16:12:36.416Z"
   },
   {
    "duration": -406,
    "start_time": "2022-02-12T16:12:36.450Z"
   },
   {
    "duration": -536,
    "start_time": "2022-02-12T16:12:36.581Z"
   },
   {
    "duration": -537,
    "start_time": "2022-02-12T16:12:36.584Z"
   },
   {
    "duration": -540,
    "start_time": "2022-02-12T16:12:36.588Z"
   },
   {
    "duration": -546,
    "start_time": "2022-02-12T16:12:36.596Z"
   },
   {
    "duration": -494,
    "start_time": "2022-02-12T16:12:36.600Z"
   },
   {
    "duration": -496,
    "start_time": "2022-02-12T16:12:36.604Z"
   },
   {
    "duration": -503,
    "start_time": "2022-02-12T16:12:36.613Z"
   },
   {
    "duration": -504,
    "start_time": "2022-02-12T16:12:36.616Z"
   },
   {
    "duration": -507,
    "start_time": "2022-02-12T16:12:36.620Z"
   },
   {
    "duration": -508,
    "start_time": "2022-02-12T16:12:36.623Z"
   },
   {
    "duration": -589,
    "start_time": "2022-02-12T16:12:36.706Z"
   },
   {
    "duration": -592,
    "start_time": "2022-02-12T16:12:36.710Z"
   },
   {
    "duration": -601,
    "start_time": "2022-02-12T16:12:36.721Z"
   },
   {
    "duration": -604,
    "start_time": "2022-02-12T16:12:36.725Z"
   },
   {
    "duration": -606,
    "start_time": "2022-02-12T16:12:36.729Z"
   },
   {
    "duration": -608,
    "start_time": "2022-02-12T16:12:36.732Z"
   },
   {
    "duration": -610,
    "start_time": "2022-02-12T16:12:36.737Z"
   },
   {
    "duration": -612,
    "start_time": "2022-02-12T16:12:36.740Z"
   },
   {
    "duration": -614,
    "start_time": "2022-02-12T16:12:36.744Z"
   },
   {
    "duration": -617,
    "start_time": "2022-02-12T16:12:36.748Z"
   },
   {
    "duration": -619,
    "start_time": "2022-02-12T16:12:36.751Z"
   },
   {
    "duration": -621,
    "start_time": "2022-02-12T16:12:36.755Z"
   },
   {
    "duration": -624,
    "start_time": "2022-02-12T16:12:36.759Z"
   },
   {
    "duration": -627,
    "start_time": "2022-02-12T16:12:36.763Z"
   },
   {
    "duration": -630,
    "start_time": "2022-02-12T16:12:36.767Z"
   },
   {
    "duration": -632,
    "start_time": "2022-02-12T16:12:36.770Z"
   },
   {
    "duration": -635,
    "start_time": "2022-02-12T16:12:36.774Z"
   },
   {
    "duration": -638,
    "start_time": "2022-02-12T16:12:36.778Z"
   },
   {
    "duration": -642,
    "start_time": "2022-02-12T16:12:36.782Z"
   },
   {
    "duration": -644,
    "start_time": "2022-02-12T16:12:36.785Z"
   },
   {
    "duration": -647,
    "start_time": "2022-02-12T16:12:36.789Z"
   },
   {
    "duration": -649,
    "start_time": "2022-02-12T16:12:36.792Z"
   },
   {
    "duration": -652,
    "start_time": "2022-02-12T16:12:36.796Z"
   },
   {
    "duration": -655,
    "start_time": "2022-02-12T16:12:36.799Z"
   },
   {
    "duration": -659,
    "start_time": "2022-02-12T16:12:36.804Z"
   },
   {
    "duration": -661,
    "start_time": "2022-02-12T16:12:36.807Z"
   },
   {
    "duration": -604,
    "start_time": "2022-02-12T16:12:36.811Z"
   },
   {
    "duration": -605,
    "start_time": "2022-02-12T16:12:36.814Z"
   },
   {
    "duration": -608,
    "start_time": "2022-02-12T16:12:36.818Z"
   },
   {
    "duration": -620,
    "start_time": "2022-02-12T16:12:36.831Z"
   },
   {
    "duration": -623,
    "start_time": "2022-02-12T16:12:36.835Z"
   },
   {
    "duration": -626,
    "start_time": "2022-02-12T16:12:36.839Z"
   },
   {
    "duration": -629,
    "start_time": "2022-02-12T16:12:36.843Z"
   },
   {
    "duration": -631,
    "start_time": "2022-02-12T16:12:36.847Z"
   },
   {
    "duration": 3,
    "start_time": "2022-02-12T16:13:17.441Z"
   },
   {
    "duration": 1196,
    "start_time": "2022-02-12T16:13:17.447Z"
   },
   {
    "duration": 69,
    "start_time": "2022-02-12T16:13:18.645Z"
   },
   {
    "duration": 13,
    "start_time": "2022-02-12T16:13:18.716Z"
   },
   {
    "duration": 93,
    "start_time": "2022-02-12T16:13:18.731Z"
   },
   {
    "duration": 10,
    "start_time": "2022-02-12T16:13:18.826Z"
   },
   {
    "duration": 9,
    "start_time": "2022-02-12T16:13:18.838Z"
   },
   {
    "duration": 14,
    "start_time": "2022-02-12T16:13:18.849Z"
   },
   {
    "duration": 20,
    "start_time": "2022-02-12T16:13:18.866Z"
   },
   {
    "duration": 26,
    "start_time": "2022-02-12T16:13:18.889Z"
   },
   {
    "duration": 15,
    "start_time": "2022-02-12T16:13:18.917Z"
   },
   {
    "duration": 24,
    "start_time": "2022-02-12T16:13:18.934Z"
   },
   {
    "duration": 49,
    "start_time": "2022-02-12T16:13:18.961Z"
   },
   {
    "duration": 18,
    "start_time": "2022-02-12T16:13:19.012Z"
   },
   {
    "duration": 16,
    "start_time": "2022-02-12T16:13:19.032Z"
   },
   {
    "duration": 8,
    "start_time": "2022-02-12T16:13:19.050Z"
   },
   {
    "duration": 9,
    "start_time": "2022-02-12T16:13:19.060Z"
   },
   {
    "duration": 43,
    "start_time": "2022-02-12T16:13:19.071Z"
   },
   {
    "duration": 14,
    "start_time": "2022-02-12T16:13:19.116Z"
   },
   {
    "duration": 32,
    "start_time": "2022-02-12T16:13:19.133Z"
   },
   {
    "duration": 39,
    "start_time": "2022-02-12T16:13:19.167Z"
   },
   {
    "duration": 8,
    "start_time": "2022-02-12T16:13:19.208Z"
   },
   {
    "duration": 16,
    "start_time": "2022-02-12T16:13:19.218Z"
   },
   {
    "duration": 10,
    "start_time": "2022-02-12T16:13:19.236Z"
   },
   {
    "duration": 10,
    "start_time": "2022-02-12T16:13:19.248Z"
   },
   {
    "duration": 48,
    "start_time": "2022-02-12T16:13:19.260Z"
   },
   {
    "duration": 16,
    "start_time": "2022-02-12T16:13:19.314Z"
   },
   {
    "duration": 11,
    "start_time": "2022-02-12T16:13:19.334Z"
   },
   {
    "duration": 9,
    "start_time": "2022-02-12T16:13:19.347Z"
   },
   {
    "duration": 20,
    "start_time": "2022-02-12T16:13:19.357Z"
   },
   {
    "duration": 29,
    "start_time": "2022-02-12T16:13:19.379Z"
   },
   {
    "duration": 8,
    "start_time": "2022-02-12T16:13:19.410Z"
   },
   {
    "duration": 20,
    "start_time": "2022-02-12T16:13:19.420Z"
   },
   {
    "duration": 496,
    "start_time": "2022-02-12T16:13:19.441Z"
   },
   {
    "duration": 6,
    "start_time": "2022-02-12T16:13:19.939Z"
   },
   {
    "duration": 31,
    "start_time": "2022-02-12T16:13:19.947Z"
   },
   {
    "duration": 43,
    "start_time": "2022-02-12T16:13:19.980Z"
   },
   {
    "duration": 803,
    "start_time": "2022-02-12T16:13:20.026Z"
   },
   {
    "duration": 193,
    "start_time": "2022-02-12T16:13:20.832Z"
   },
   {
    "duration": 12,
    "start_time": "2022-02-12T16:13:21.027Z"
   },
   {
    "duration": 1499,
    "start_time": "2022-02-12T16:13:21.042Z"
   },
   {
    "duration": 164,
    "start_time": "2022-02-12T16:13:22.543Z"
   },
   {
    "duration": 11,
    "start_time": "2022-02-12T16:13:22.709Z"
   },
   {
    "duration": 297,
    "start_time": "2022-02-12T16:13:22.722Z"
   },
   {
    "duration": 170,
    "start_time": "2022-02-12T16:13:23.021Z"
   },
   {
    "duration": 18,
    "start_time": "2022-02-12T16:13:23.193Z"
   },
   {
    "duration": 354,
    "start_time": "2022-02-12T16:13:23.213Z"
   },
   {
    "duration": 114,
    "start_time": "2022-02-12T16:13:23.455Z"
   },
   {
    "duration": 105,
    "start_time": "2022-02-12T16:13:23.466Z"
   },
   {
    "duration": 101,
    "start_time": "2022-02-12T16:13:23.471Z"
   },
   {
    "duration": 91,
    "start_time": "2022-02-12T16:13:23.481Z"
   },
   {
    "duration": 86,
    "start_time": "2022-02-12T16:13:23.487Z"
   },
   {
    "duration": 75,
    "start_time": "2022-02-12T16:13:23.499Z"
   },
   {
    "duration": 71,
    "start_time": "2022-02-12T16:13:23.504Z"
   },
   {
    "duration": 61,
    "start_time": "2022-02-12T16:13:23.515Z"
   },
   {
    "duration": 58,
    "start_time": "2022-02-12T16:13:23.519Z"
   },
   {
    "duration": 55,
    "start_time": "2022-02-12T16:13:23.523Z"
   },
   {
    "duration": 43,
    "start_time": "2022-02-12T16:13:23.535Z"
   },
   {
    "duration": 41,
    "start_time": "2022-02-12T16:13:23.539Z"
   },
   {
    "duration": 30,
    "start_time": "2022-02-12T16:13:23.550Z"
   },
   {
    "duration": 27,
    "start_time": "2022-02-12T16:13:23.554Z"
   },
   {
    "duration": 8,
    "start_time": "2022-02-12T16:13:23.574Z"
   },
   {
    "duration": -37,
    "start_time": "2022-02-12T16:13:23.620Z"
   },
   {
    "duration": -39,
    "start_time": "2022-02-12T16:13:23.623Z"
   },
   {
    "duration": -114,
    "start_time": "2022-02-12T16:13:23.699Z"
   },
   {
    "duration": 1,
    "start_time": "2022-02-12T16:13:23.703Z"
   },
   {
    "duration": 0,
    "start_time": "2022-02-12T16:13:23.707Z"
   },
   {
    "duration": -11,
    "start_time": "2022-02-12T16:13:23.719Z"
   },
   {
    "duration": -64,
    "start_time": "2022-02-12T16:13:23.773Z"
   },
   {
    "duration": -68,
    "start_time": "2022-02-12T16:13:23.777Z"
   },
   {
    "duration": -71,
    "start_time": "2022-02-12T16:13:23.781Z"
   },
   {
    "duration": -74,
    "start_time": "2022-02-12T16:13:23.785Z"
   },
   {
    "duration": -76,
    "start_time": "2022-02-12T16:13:23.788Z"
   },
   {
    "duration": -79,
    "start_time": "2022-02-12T16:13:23.792Z"
   },
   {
    "duration": -82,
    "start_time": "2022-02-12T16:13:23.796Z"
   },
   {
    "duration": -84,
    "start_time": "2022-02-12T16:13:23.799Z"
   },
   {
    "duration": -87,
    "start_time": "2022-02-12T16:13:23.803Z"
   },
   {
    "duration": -90,
    "start_time": "2022-02-12T16:13:23.807Z"
   },
   {
    "duration": -93,
    "start_time": "2022-02-12T16:13:23.811Z"
   },
   {
    "duration": -95,
    "start_time": "2022-02-12T16:13:23.814Z"
   },
   {
    "duration": -111,
    "start_time": "2022-02-12T16:13:23.831Z"
   },
   {
    "duration": -114,
    "start_time": "2022-02-12T16:13:23.835Z"
   },
   {
    "duration": 244,
    "start_time": "2022-02-12T16:23:05.954Z"
   },
   {
    "duration": 9,
    "start_time": "2022-02-12T16:23:40.145Z"
   },
   {
    "duration": 15,
    "start_time": "2022-02-12T16:23:41.315Z"
   },
   {
    "duration": 6,
    "start_time": "2022-02-12T16:23:42.344Z"
   },
   {
    "duration": 361,
    "start_time": "2022-02-12T16:23:44.356Z"
   },
   {
    "duration": 163,
    "start_time": "2022-02-12T16:23:45.027Z"
   },
   {
    "duration": 332,
    "start_time": "2022-02-12T16:23:50.975Z"
   },
   {
    "duration": 329,
    "start_time": "2022-02-12T16:23:59.854Z"
   },
   {
    "duration": 88,
    "start_time": "2022-02-12T16:25:27.956Z"
   },
   {
    "duration": 3,
    "start_time": "2022-02-12T16:28:26.607Z"
   },
   {
    "duration": 21,
    "start_time": "2022-02-12T16:28:27.357Z"
   },
   {
    "duration": 554,
    "start_time": "2022-02-12T16:28:39.454Z"
   },
   {
    "duration": 550,
    "start_time": "2022-02-12T16:28:41.560Z"
   },
   {
    "duration": 549,
    "start_time": "2022-02-12T16:28:42.867Z"
   },
   {
    "duration": 611,
    "start_time": "2022-02-12T16:28:43.747Z"
   },
   {
    "duration": 10,
    "start_time": "2022-02-12T16:28:53.417Z"
   },
   {
    "duration": 563,
    "start_time": "2022-02-12T16:28:54.756Z"
   },
   {
    "duration": 184,
    "start_time": "2022-02-12T16:28:57.255Z"
   },
   {
    "duration": 18,
    "start_time": "2022-02-12T16:28:59.057Z"
   },
   {
    "duration": 8142,
    "start_time": "2022-02-12T16:28:59.247Z"
   },
   {
    "duration": 232,
    "start_time": "2022-02-12T16:29:07.391Z"
   },
   {
    "duration": 13,
    "start_time": "2022-02-12T16:31:46.116Z"
   },
   {
    "duration": 12,
    "start_time": "2022-02-12T16:36:34.524Z"
   },
   {
    "duration": 177,
    "start_time": "2022-02-12T16:36:36.354Z"
   },
   {
    "duration": 27,
    "start_time": "2022-02-12T16:37:04.443Z"
   },
   {
    "duration": 269,
    "start_time": "2022-02-12T16:37:05.984Z"
   },
   {
    "duration": 255,
    "start_time": "2022-02-12T16:37:06.956Z"
   },
   {
    "duration": 304,
    "start_time": "2022-02-12T16:37:07.536Z"
   },
   {
    "duration": 267,
    "start_time": "2022-02-12T16:37:08.047Z"
   },
   {
    "duration": 6,
    "start_time": "2022-02-12T16:37:12.576Z"
   },
   {
    "duration": 368,
    "start_time": "2022-02-12T16:37:13.886Z"
   },
   {
    "duration": 6,
    "start_time": "2022-02-12T16:37:14.667Z"
   },
   {
    "duration": 333,
    "start_time": "2022-02-12T16:37:15.207Z"
   },
   {
    "duration": 191,
    "start_time": "2022-02-12T16:37:15.756Z"
   },
   {
    "duration": 12,
    "start_time": "2022-02-12T16:37:22.924Z"
   },
   {
    "duration": 5506,
    "start_time": "2022-02-12T16:37:24.586Z"
   },
   {
    "duration": 1143,
    "start_time": "2022-02-16T06:58:05.100Z"
   },
   {
    "duration": 72,
    "start_time": "2022-02-16T06:58:06.245Z"
   },
   {
    "duration": 12,
    "start_time": "2022-02-16T06:59:50.569Z"
   },
   {
    "duration": 78,
    "start_time": "2022-02-16T06:59:53.218Z"
   },
   {
    "duration": 9,
    "start_time": "2022-02-16T07:00:03.390Z"
   },
   {
    "duration": 12,
    "start_time": "2022-02-16T07:00:09.467Z"
   },
   {
    "duration": 10,
    "start_time": "2022-02-16T07:00:09.913Z"
   },
   {
    "duration": 7,
    "start_time": "2022-02-16T07:00:10.932Z"
   },
   {
    "duration": 10,
    "start_time": "2022-02-16T07:00:11.658Z"
   },
   {
    "duration": 7,
    "start_time": "2022-02-16T07:00:12.605Z"
   },
   {
    "duration": 23,
    "start_time": "2022-02-16T07:00:13.289Z"
   },
   {
    "duration": 16,
    "start_time": "2022-02-16T07:00:14.137Z"
   },
   {
    "duration": 17,
    "start_time": "2022-02-16T07:00:21.108Z"
   },
   {
    "duration": 11,
    "start_time": "2022-02-16T07:03:34.273Z"
   },
   {
    "duration": 8,
    "start_time": "2022-02-16T07:03:34.913Z"
   },
   {
    "duration": 8,
    "start_time": "2022-02-16T07:03:35.204Z"
   },
   {
    "duration": 8,
    "start_time": "2022-02-16T07:03:35.767Z"
   },
   {
    "duration": 7,
    "start_time": "2022-02-16T07:03:36.033Z"
   },
   {
    "duration": 32,
    "start_time": "2022-02-16T07:03:36.665Z"
   },
   {
    "duration": 11,
    "start_time": "2022-02-16T07:03:37.754Z"
   },
   {
    "duration": 8,
    "start_time": "2022-02-16T07:03:38.540Z"
   },
   {
    "duration": 14,
    "start_time": "2022-02-16T07:03:39.705Z"
   },
   {
    "duration": 360,
    "start_time": "2022-02-16T07:05:11.515Z"
   },
   {
    "duration": 12,
    "start_time": "2022-02-16T07:05:23.690Z"
   },
   {
    "duration": 9,
    "start_time": "2022-02-16T07:05:24.456Z"
   },
   {
    "duration": 9,
    "start_time": "2022-02-16T07:05:24.968Z"
   },
   {
    "duration": 7,
    "start_time": "2022-02-16T07:05:25.906Z"
   },
   {
    "duration": 7,
    "start_time": "2022-02-16T07:05:26.294Z"
   },
   {
    "duration": 14,
    "start_time": "2022-02-16T07:05:27.256Z"
   },
   {
    "duration": 9,
    "start_time": "2022-02-16T07:05:36.218Z"
   },
   {
    "duration": 7,
    "start_time": "2022-02-16T07:05:48.880Z"
   },
   {
    "duration": 14,
    "start_time": "2022-02-16T07:06:00.810Z"
   },
   {
    "duration": 275,
    "start_time": "2022-02-16T07:06:02.897Z"
   },
   {
    "duration": 3,
    "start_time": "2022-02-16T07:06:12.317Z"
   },
   {
    "duration": 2,
    "start_time": "2022-02-16T07:06:12.974Z"
   },
   {
    "duration": 69,
    "start_time": "2022-02-16T07:06:13.364Z"
   },
   {
    "duration": 3,
    "start_time": "2022-02-16T07:06:29.368Z"
   },
   {
    "duration": 1122,
    "start_time": "2022-02-16T07:06:30.028Z"
   },
   {
    "duration": 83,
    "start_time": "2022-02-16T07:06:31.152Z"
   },
   {
    "duration": 13,
    "start_time": "2022-02-16T07:06:31.668Z"
   },
   {
    "duration": 77,
    "start_time": "2022-02-16T07:06:32.352Z"
   },
   {
    "duration": 9,
    "start_time": "2022-02-16T07:06:35.210Z"
   },
   {
    "duration": 10,
    "start_time": "2022-02-16T07:06:36.698Z"
   },
   {
    "duration": 10,
    "start_time": "2022-02-16T07:06:37.063Z"
   },
   {
    "duration": 6,
    "start_time": "2022-02-16T07:06:37.864Z"
   },
   {
    "duration": 9,
    "start_time": "2022-02-16T07:06:38.655Z"
   },
   {
    "duration": 6,
    "start_time": "2022-02-16T07:06:39.510Z"
   },
   {
    "duration": 22,
    "start_time": "2022-02-16T07:06:41.119Z"
   },
   {
    "duration": 15,
    "start_time": "2022-02-16T07:06:41.685Z"
   },
   {
    "duration": 15,
    "start_time": "2022-02-16T07:06:43.029Z"
   },
   {
    "duration": 12,
    "start_time": "2022-02-16T07:06:44.856Z"
   },
   {
    "duration": 8,
    "start_time": "2022-02-16T07:06:45.924Z"
   },
   {
    "duration": 8,
    "start_time": "2022-02-16T07:06:46.507Z"
   },
   {
    "duration": 8,
    "start_time": "2022-02-16T07:08:50.446Z"
   },
   {
    "duration": 7,
    "start_time": "2022-02-16T07:08:51.446Z"
   },
   {
    "duration": 32,
    "start_time": "2022-02-16T07:08:54.131Z"
   },
   {
    "duration": 11,
    "start_time": "2022-02-16T07:09:00.609Z"
   },
   {
    "duration": 8,
    "start_time": "2022-02-16T07:09:05.664Z"
   },
   {
    "duration": 13,
    "start_time": "2022-02-16T07:09:07.634Z"
   },
   {
    "duration": 363,
    "start_time": "2022-02-16T07:09:11.620Z"
   },
   {
    "duration": 21,
    "start_time": "2022-02-16T07:10:04.856Z"
   },
   {
    "duration": 20,
    "start_time": "2022-02-16T07:13:06.719Z"
   },
   {
    "duration": 9,
    "start_time": "2022-02-16T07:13:12.079Z"
   },
   {
    "duration": 9,
    "start_time": "2022-02-16T07:13:13.425Z"
   },
   {
    "duration": 10,
    "start_time": "2022-02-16T07:13:16.593Z"
   },
   {
    "duration": 18,
    "start_time": "2022-02-16T07:13:17.742Z"
   },
   {
    "duration": 5,
    "start_time": "2022-02-16T07:42:09.218Z"
   },
   {
    "duration": 3,
    "start_time": "2022-02-16T07:42:31.713Z"
   },
   {
    "duration": 10,
    "start_time": "2022-02-16T07:42:35.162Z"
   },
   {
    "duration": 16,
    "start_time": "2022-02-16T07:42:37.989Z"
   },
   {
    "duration": 9,
    "start_time": "2022-02-16T07:46:09.902Z"
   },
   {
    "duration": 8,
    "start_time": "2022-02-16T07:46:13.162Z"
   },
   {
    "duration": 17,
    "start_time": "2022-02-16T07:46:16.242Z"
   },
   {
    "duration": 302,
    "start_time": "2022-02-16T10:05:16.059Z"
   },
   {
    "duration": 3,
    "start_time": "2022-02-16T10:05:32.243Z"
   },
   {
    "duration": 1226,
    "start_time": "2022-02-16T10:05:33.912Z"
   },
   {
    "duration": 74,
    "start_time": "2022-02-16T10:05:35.140Z"
   },
   {
    "duration": 35,
    "start_time": "2022-02-16T10:05:35.807Z"
   },
   {
    "duration": 14,
    "start_time": "2022-02-16T10:05:39.964Z"
   },
   {
    "duration": 85,
    "start_time": "2022-02-16T10:05:40.589Z"
   },
   {
    "duration": 10,
    "start_time": "2022-02-16T10:05:43.795Z"
   },
   {
    "duration": 10,
    "start_time": "2022-02-16T10:05:44.675Z"
   },
   {
    "duration": 12,
    "start_time": "2022-02-16T10:05:45.134Z"
   },
   {
    "duration": 7,
    "start_time": "2022-02-16T10:05:46.073Z"
   },
   {
    "duration": 10,
    "start_time": "2022-02-16T10:05:50.358Z"
   },
   {
    "duration": 8,
    "start_time": "2022-02-16T10:05:51.285Z"
   },
   {
    "duration": 24,
    "start_time": "2022-02-16T10:05:52.173Z"
   },
   {
    "duration": 15,
    "start_time": "2022-02-16T10:05:52.736Z"
   },
   {
    "duration": 16,
    "start_time": "2022-02-16T10:05:54.540Z"
   },
   {
    "duration": 13,
    "start_time": "2022-02-16T10:05:57.237Z"
   },
   {
    "duration": 11,
    "start_time": "2022-02-16T10:06:01.377Z"
   },
   {
    "duration": 14,
    "start_time": "2022-02-16T10:06:01.981Z"
   },
   {
    "duration": 11,
    "start_time": "2022-02-16T10:06:04.582Z"
   },
   {
    "duration": 7,
    "start_time": "2022-02-16T10:06:04.978Z"
   },
   {
    "duration": 30,
    "start_time": "2022-02-16T10:06:05.889Z"
   },
   {
    "duration": 9,
    "start_time": "2022-02-16T10:06:08.840Z"
   },
   {
    "duration": 7,
    "start_time": "2022-02-16T10:06:10.436Z"
   },
   {
    "duration": 14,
    "start_time": "2022-02-16T10:06:11.362Z"
   },
   {
    "duration": 21,
    "start_time": "2022-02-16T10:06:15.216Z"
   },
   {
    "duration": 11,
    "start_time": "2022-02-16T10:08:21.722Z"
   },
   {
    "duration": 3,
    "start_time": "2022-02-16T10:08:22.452Z"
   },
   {
    "duration": 13,
    "start_time": "2022-02-16T10:08:28.502Z"
   },
   {
    "duration": 18,
    "start_time": "2022-02-16T10:08:29.286Z"
   },
   {
    "duration": 1193,
    "start_time": "2022-02-16T10:08:31.047Z"
   },
   {
    "duration": 9,
    "start_time": "2022-02-16T10:08:33.506Z"
   },
   {
    "duration": 12,
    "start_time": "2022-02-16T10:09:01.287Z"
   },
   {
    "duration": 4,
    "start_time": "2022-02-16T10:09:02.127Z"
   },
   {
    "duration": 21,
    "start_time": "2022-02-16T10:09:03.303Z"
   },
   {
    "duration": 28,
    "start_time": "2022-02-16T10:09:03.903Z"
   },
   {
    "duration": 1068,
    "start_time": "2022-02-16T10:09:05.892Z"
   },
   {
    "duration": 3,
    "start_time": "2022-02-16T10:09:29.955Z"
   },
   {
    "duration": 4,
    "start_time": "2022-02-16T10:09:30.968Z"
   },
   {
    "duration": 80,
    "start_time": "2022-02-16T10:09:31.495Z"
   },
   {
    "duration": 33,
    "start_time": "2022-02-16T10:09:32.335Z"
   },
   {
    "duration": 11,
    "start_time": "2022-02-16T10:09:33.877Z"
   },
   {
    "duration": 83,
    "start_time": "2022-02-16T10:09:34.388Z"
   },
   {
    "duration": 17,
    "start_time": "2022-02-16T10:09:37.809Z"
   },
   {
    "duration": 11,
    "start_time": "2022-02-16T10:09:40.258Z"
   },
   {
    "duration": 10,
    "start_time": "2022-02-16T10:09:40.663Z"
   },
   {
    "duration": 11,
    "start_time": "2022-02-16T10:09:41.337Z"
   },
   {
    "duration": 11,
    "start_time": "2022-02-16T10:09:41.904Z"
   },
   {
    "duration": 8,
    "start_time": "2022-02-16T10:09:43.480Z"
   },
   {
    "duration": 26,
    "start_time": "2022-02-16T10:09:43.490Z"
   },
   {
    "duration": 14,
    "start_time": "2022-02-16T10:09:43.709Z"
   },
   {
    "duration": 17,
    "start_time": "2022-02-16T10:09:45.656Z"
   },
   {
    "duration": 15,
    "start_time": "2022-02-16T10:09:47.165Z"
   },
   {
    "duration": 11,
    "start_time": "2022-02-16T10:09:47.580Z"
   },
   {
    "duration": 11,
    "start_time": "2022-02-16T10:09:47.752Z"
   },
   {
    "duration": 9,
    "start_time": "2022-02-16T10:09:48.115Z"
   },
   {
    "duration": 10,
    "start_time": "2022-02-16T10:09:48.298Z"
   },
   {
    "duration": 44,
    "start_time": "2022-02-16T10:09:48.680Z"
   },
   {
    "duration": 9,
    "start_time": "2022-02-16T10:09:49.306Z"
   },
   {
    "duration": 8,
    "start_time": "2022-02-16T10:09:49.719Z"
   },
   {
    "duration": 16,
    "start_time": "2022-02-16T10:09:50.101Z"
   },
   {
    "duration": 23,
    "start_time": "2022-02-16T10:09:50.746Z"
   },
   {
    "duration": 12,
    "start_time": "2022-02-16T10:09:52.830Z"
   },
   {
    "duration": 4,
    "start_time": "2022-02-16T10:09:53.341Z"
   },
   {
    "duration": 12,
    "start_time": "2022-02-16T10:09:55.926Z"
   },
   {
    "duration": 18,
    "start_time": "2022-02-16T10:09:56.825Z"
   },
   {
    "duration": 1082,
    "start_time": "2022-02-16T10:10:17.685Z"
   },
   {
    "duration": 9,
    "start_time": "2022-02-16T10:10:18.980Z"
   },
   {
    "duration": 18,
    "start_time": "2022-02-16T10:10:22.483Z"
   },
   {
    "duration": 3,
    "start_time": "2022-02-16T10:32:58.268Z"
   },
   {
    "duration": 1197,
    "start_time": "2022-02-16T10:32:59.143Z"
   },
   {
    "duration": 75,
    "start_time": "2022-02-16T10:33:01.164Z"
   },
   {
    "duration": 31,
    "start_time": "2022-02-16T10:33:02.887Z"
   },
   {
    "duration": 12,
    "start_time": "2022-02-16T10:33:04.446Z"
   },
   {
    "duration": 86,
    "start_time": "2022-02-16T10:33:05.212Z"
   },
   {
    "duration": 10,
    "start_time": "2022-02-16T10:33:12.823Z"
   },
   {
    "duration": 11,
    "start_time": "2022-02-16T10:33:14.632Z"
   },
   {
    "duration": 13,
    "start_time": "2022-02-16T10:33:15.154Z"
   },
   {
    "duration": 7,
    "start_time": "2022-02-16T10:33:16.235Z"
   },
   {
    "duration": 10,
    "start_time": "2022-02-16T10:33:20.204Z"
   },
   {
    "duration": 7,
    "start_time": "2022-02-16T10:33:22.549Z"
   },
   {
    "duration": 27,
    "start_time": "2022-02-16T10:33:24.659Z"
   },
   {
    "duration": 14,
    "start_time": "2022-02-16T10:33:26.079Z"
   },
   {
    "duration": 17,
    "start_time": "2022-02-16T10:33:28.390Z"
   },
   {
    "duration": 12,
    "start_time": "2022-02-16T10:33:30.359Z"
   },
   {
    "duration": 8,
    "start_time": "2022-02-16T10:33:31.428Z"
   },
   {
    "duration": 9,
    "start_time": "2022-02-16T10:33:31.887Z"
   },
   {
    "duration": 9,
    "start_time": "2022-02-16T10:33:32.823Z"
   },
   {
    "duration": 8,
    "start_time": "2022-02-16T10:33:33.330Z"
   },
   {
    "duration": 32,
    "start_time": "2022-02-16T10:33:34.406Z"
   },
   {
    "duration": 10,
    "start_time": "2022-02-16T10:33:37.370Z"
   },
   {
    "duration": 8,
    "start_time": "2022-02-16T10:33:39.547Z"
   },
   {
    "duration": 15,
    "start_time": "2022-02-16T10:33:42.775Z"
   },
   {
    "duration": 21,
    "start_time": "2022-02-16T10:33:45.692Z"
   },
   {
    "duration": 9,
    "start_time": "2022-02-16T10:33:48.585Z"
   },
   {
    "duration": 2,
    "start_time": "2022-02-16T10:33:49.983Z"
   },
   {
    "duration": 12,
    "start_time": "2022-02-16T10:33:52.402Z"
   },
   {
    "duration": 18,
    "start_time": "2022-02-16T10:33:53.162Z"
   },
   {
    "duration": 1137,
    "start_time": "2022-02-16T10:33:56.907Z"
   },
   {
    "duration": 25,
    "start_time": "2022-02-16T10:39:34.830Z"
   },
   {
    "duration": 8,
    "start_time": "2022-02-16T10:46:54.952Z"
   },
   {
    "duration": 5,
    "start_time": "2022-02-16T10:48:16.923Z"
   },
   {
    "duration": 2,
    "start_time": "2022-02-16T10:48:32.801Z"
   },
   {
    "duration": 3,
    "start_time": "2022-02-16T10:48:33.167Z"
   },
   {
    "duration": 80,
    "start_time": "2022-02-16T10:48:33.366Z"
   },
   {
    "duration": 27,
    "start_time": "2022-02-16T10:48:33.741Z"
   },
   {
    "duration": 11,
    "start_time": "2022-02-16T10:48:34.134Z"
   },
   {
    "duration": 78,
    "start_time": "2022-02-16T10:48:34.741Z"
   },
   {
    "duration": 10,
    "start_time": "2022-02-16T10:48:35.979Z"
   },
   {
    "duration": 10,
    "start_time": "2022-02-16T10:48:36.459Z"
   },
   {
    "duration": 10,
    "start_time": "2022-02-16T10:48:36.933Z"
   },
   {
    "duration": 7,
    "start_time": "2022-02-16T10:48:37.309Z"
   },
   {
    "duration": 9,
    "start_time": "2022-02-16T10:48:37.815Z"
   },
   {
    "duration": 8,
    "start_time": "2022-02-16T10:48:38.567Z"
   },
   {
    "duration": 23,
    "start_time": "2022-02-16T10:48:38.929Z"
   },
   {
    "duration": 13,
    "start_time": "2022-02-16T10:48:39.120Z"
   },
   {
    "duration": 15,
    "start_time": "2022-02-16T10:48:39.784Z"
   },
   {
    "duration": 12,
    "start_time": "2022-02-16T10:48:40.982Z"
   },
   {
    "duration": 9,
    "start_time": "2022-02-16T10:48:41.447Z"
   },
   {
    "duration": 9,
    "start_time": "2022-02-16T10:48:41.755Z"
   },
   {
    "duration": 7,
    "start_time": "2022-02-16T10:48:42.203Z"
   },
   {
    "duration": 7,
    "start_time": "2022-02-16T10:48:42.433Z"
   },
   {
    "duration": 31,
    "start_time": "2022-02-16T10:48:43.837Z"
   },
   {
    "duration": 9,
    "start_time": "2022-02-16T10:48:45.813Z"
   },
   {
    "duration": 8,
    "start_time": "2022-02-16T10:48:47.006Z"
   },
   {
    "duration": 14,
    "start_time": "2022-02-16T10:48:48.114Z"
   },
   {
    "duration": 20,
    "start_time": "2022-02-16T10:48:49.655Z"
   },
   {
    "duration": 5,
    "start_time": "2022-02-16T10:48:52.161Z"
   },
   {
    "duration": 2,
    "start_time": "2022-02-16T10:48:57.250Z"
   },
   {
    "duration": 11,
    "start_time": "2022-02-16T10:49:01.652Z"
   },
   {
    "duration": 17,
    "start_time": "2022-02-16T10:49:04.839Z"
   },
   {
    "duration": 345,
    "start_time": "2022-02-16T10:49:09.114Z"
   },
   {
    "duration": 7,
    "start_time": "2022-02-16T10:49:45.333Z"
   },
   {
    "duration": 3,
    "start_time": "2022-02-16T10:50:03.945Z"
   },
   {
    "duration": 3,
    "start_time": "2022-02-16T10:50:04.220Z"
   },
   {
    "duration": 74,
    "start_time": "2022-02-16T10:50:04.434Z"
   },
   {
    "duration": 28,
    "start_time": "2022-02-16T10:50:04.734Z"
   },
   {
    "duration": 11,
    "start_time": "2022-02-16T10:50:05.101Z"
   },
   {
    "duration": 75,
    "start_time": "2022-02-16T10:50:05.285Z"
   },
   {
    "duration": 9,
    "start_time": "2022-02-16T10:50:06.400Z"
   },
   {
    "duration": 10,
    "start_time": "2022-02-16T10:50:06.787Z"
   },
   {
    "duration": 10,
    "start_time": "2022-02-16T10:50:06.946Z"
   },
   {
    "duration": 6,
    "start_time": "2022-02-16T10:50:07.317Z"
   },
   {
    "duration": 9,
    "start_time": "2022-02-16T10:50:07.679Z"
   },
   {
    "duration": 7,
    "start_time": "2022-02-16T10:50:08.059Z"
   },
   {
    "duration": 23,
    "start_time": "2022-02-16T10:50:08.424Z"
   },
   {
    "duration": 14,
    "start_time": "2022-02-16T10:50:08.618Z"
   },
   {
    "duration": 16,
    "start_time": "2022-02-16T10:50:09.193Z"
   },
   {
    "duration": 13,
    "start_time": "2022-02-16T10:50:10.190Z"
   },
   {
    "duration": 9,
    "start_time": "2022-02-16T10:50:10.584Z"
   },
   {
    "duration": 9,
    "start_time": "2022-02-16T10:50:10.783Z"
   },
   {
    "duration": 8,
    "start_time": "2022-02-16T10:50:11.247Z"
   },
   {
    "duration": 8,
    "start_time": "2022-02-16T10:50:11.618Z"
   },
   {
    "duration": 34,
    "start_time": "2022-02-16T10:50:12.173Z"
   },
   {
    "duration": 10,
    "start_time": "2022-02-16T10:50:14.015Z"
   },
   {
    "duration": 8,
    "start_time": "2022-02-16T10:50:16.904Z"
   },
   {
    "duration": 19,
    "start_time": "2022-02-16T10:50:16.914Z"
   },
   {
    "duration": 21,
    "start_time": "2022-02-16T10:50:18.147Z"
   },
   {
    "duration": 7,
    "start_time": "2022-02-16T10:50:21.603Z"
   },
   {
    "duration": 2,
    "start_time": "2022-02-16T10:50:22.619Z"
   },
   {
    "duration": 10,
    "start_time": "2022-02-16T10:50:24.829Z"
   },
   {
    "duration": 6417,
    "start_time": "2022-02-16T10:51:19.085Z"
   },
   {
    "duration": -10834,
    "start_time": "2022-02-16T10:51:36.338Z"
   },
   {
    "duration": 9,
    "start_time": "2022-02-16T10:51:45.710Z"
   },
   {
    "duration": 2,
    "start_time": "2022-02-16T10:51:48.491Z"
   },
   {
    "duration": 12,
    "start_time": "2022-02-16T10:51:49.462Z"
   },
   {
    "duration": 17,
    "start_time": "2022-02-16T10:51:51.623Z"
   },
   {
    "duration": 12,
    "start_time": "2022-02-16T10:51:52.815Z"
   },
   {
    "duration": 8,
    "start_time": "2022-02-16T10:51:54.827Z"
   },
   {
    "duration": 17,
    "start_time": "2022-02-16T10:51:56.789Z"
   },
   {
    "duration": 6,
    "start_time": "2022-02-16T10:52:23.779Z"
   },
   {
    "duration": 4,
    "start_time": "2022-02-16T10:52:24.192Z"
   },
   {
    "duration": 13,
    "start_time": "2022-02-16T10:52:24.880Z"
   },
   {
    "duration": 501,
    "start_time": "2022-02-16T10:52:25.796Z"
   },
   {
    "duration": 7,
    "start_time": "2022-02-16T10:52:26.823Z"
   },
   {
    "duration": 28,
    "start_time": "2022-02-16T10:52:27.611Z"
   },
   {
    "duration": 27,
    "start_time": "2022-02-16T10:52:35.366Z"
   },
   {
    "duration": 849,
    "start_time": "2022-02-16T10:52:39.158Z"
   },
   {
    "duration": 268,
    "start_time": "2022-02-16T10:58:17.688Z"
   },
   {
    "duration": 3,
    "start_time": "2022-02-16T10:58:26.248Z"
   },
   {
    "duration": 5,
    "start_time": "2022-02-16T10:58:26.788Z"
   },
   {
    "duration": 254,
    "start_time": "2022-02-16T10:58:39.982Z"
   },
   {
    "duration": 3,
    "start_time": "2022-02-16T10:58:45.679Z"
   },
   {
    "duration": 5,
    "start_time": "2022-02-16T10:58:46.479Z"
   },
   {
    "duration": 3,
    "start_time": "2022-02-16T10:59:07.776Z"
   },
   {
    "duration": 6933,
    "start_time": "2022-02-16T10:59:08.242Z"
   },
   {
    "duration": 2,
    "start_time": "2022-02-16T10:59:31.874Z"
   },
   {
    "duration": 6888,
    "start_time": "2022-02-16T10:59:32.451Z"
   },
   {
    "duration": 4,
    "start_time": "2022-02-16T10:59:47.763Z"
   },
   {
    "duration": 4,
    "start_time": "2022-02-16T10:59:48.268Z"
   },
   {
    "duration": 3,
    "start_time": "2022-02-16T11:00:14.299Z"
   },
   {
    "duration": 5,
    "start_time": "2022-02-16T11:00:14.592Z"
   },
   {
    "duration": 66,
    "start_time": "2022-02-16T11:02:42.269Z"
   },
   {
    "duration": 518,
    "start_time": "2022-02-16T11:02:43.964Z"
   },
   {
    "duration": 5,
    "start_time": "2022-02-16T11:03:08.834Z"
   },
   {
    "duration": 260,
    "start_time": "2022-02-16T11:03:10.480Z"
   },
   {
    "duration": 5,
    "start_time": "2022-02-16T11:03:28.291Z"
   },
   {
    "duration": 6951,
    "start_time": "2022-02-16T11:03:29.006Z"
   },
   {
    "duration": 5,
    "start_time": "2022-02-16T11:04:13.937Z"
   },
   {
    "duration": 596,
    "start_time": "2022-02-16T11:04:14.552Z"
   },
   {
    "duration": 5,
    "start_time": "2022-02-16T11:04:46.236Z"
   },
   {
    "duration": 641,
    "start_time": "2022-02-16T11:04:46.646Z"
   },
   {
    "duration": 638,
    "start_time": "2022-02-16T11:05:18.273Z"
   },
   {
    "duration": 920,
    "start_time": "2022-02-16T11:05:31.440Z"
   },
   {
    "duration": 4,
    "start_time": "2022-02-16T11:06:54.026Z"
   },
   {
    "duration": 273,
    "start_time": "2022-02-16T11:06:54.556Z"
   },
   {
    "duration": 5,
    "start_time": "2022-02-16T11:07:53.006Z"
   },
   {
    "duration": 590,
    "start_time": "2022-02-16T11:07:53.664Z"
   },
   {
    "duration": 5,
    "start_time": "2022-02-16T11:13:31.304Z"
   },
   {
    "duration": 1006,
    "start_time": "2022-02-16T11:13:32.208Z"
   },
   {
    "duration": 4,
    "start_time": "2022-02-16T11:16:10.780Z"
   },
   {
    "duration": 897,
    "start_time": "2022-02-16T11:16:11.345Z"
   },
   {
    "duration": 653,
    "start_time": "2022-02-16T11:18:26.529Z"
   },
   {
    "duration": 224,
    "start_time": "2022-02-16T11:18:35.830Z"
   },
   {
    "duration": 5,
    "start_time": "2022-02-16T11:20:20.592Z"
   },
   {
    "duration": 1002,
    "start_time": "2022-02-16T11:20:21.762Z"
   },
   {
    "duration": 4,
    "start_time": "2022-02-16T11:20:38.400Z"
   },
   {
    "duration": 428,
    "start_time": "2022-02-16T11:20:39.730Z"
   },
   {
    "duration": 934,
    "start_time": "2022-02-16T11:21:04.260Z"
   },
   {
    "duration": 270,
    "start_time": "2022-02-16T11:21:05.569Z"
   },
   {
    "duration": 88,
    "start_time": "2022-02-16T11:21:18.728Z"
   },
   {
    "duration": 5,
    "start_time": "2022-02-16T11:21:38.857Z"
   },
   {
    "duration": 983,
    "start_time": "2022-02-16T11:21:40.511Z"
   },
   {
    "duration": 5,
    "start_time": "2022-02-16T11:23:59.877Z"
   },
   {
    "duration": 91,
    "start_time": "2022-02-16T11:24:02.207Z"
   },
   {
    "duration": 4,
    "start_time": "2022-02-16T11:24:30.359Z"
   },
   {
    "duration": 2283,
    "start_time": "2022-02-16T11:24:31.687Z"
   },
   {
    "duration": 6,
    "start_time": "2022-02-16T11:26:53.956Z"
   },
   {
    "duration": 904,
    "start_time": "2022-02-16T11:26:55.116Z"
   },
   {
    "duration": 682,
    "start_time": "2022-02-16T11:28:29.125Z"
   },
   {
    "duration": 1622,
    "start_time": "2022-02-16T11:28:37.604Z"
   },
   {
    "duration": 367,
    "start_time": "2022-02-16T11:31:00.557Z"
   },
   {
    "duration": 697,
    "start_time": "2022-02-16T11:32:48.010Z"
   },
   {
    "duration": 182,
    "start_time": "2022-02-16T11:39:32.005Z"
   },
   {
    "duration": 195,
    "start_time": "2022-02-16T11:39:40.267Z"
   },
   {
    "duration": 307,
    "start_time": "2022-02-16T11:39:54.571Z"
   },
   {
    "duration": 168,
    "start_time": "2022-02-16T11:41:12.427Z"
   },
   {
    "duration": 180,
    "start_time": "2022-02-16T11:41:35.626Z"
   },
   {
    "duration": 173,
    "start_time": "2022-02-16T11:41:44.919Z"
   },
   {
    "duration": 185,
    "start_time": "2022-02-16T11:42:11.821Z"
   },
   {
    "duration": 189,
    "start_time": "2022-02-16T11:43:03.670Z"
   },
   {
    "duration": 182,
    "start_time": "2022-02-16T11:43:39.039Z"
   },
   {
    "duration": 130,
    "start_time": "2022-02-16T11:43:44.690Z"
   },
   {
    "duration": 176,
    "start_time": "2022-02-16T11:43:49.704Z"
   },
   {
    "duration": 6,
    "start_time": "2022-02-16T11:47:16.829Z"
   },
   {
    "duration": 208,
    "start_time": "2022-02-16T11:49:17.313Z"
   },
   {
    "duration": 9,
    "start_time": "2022-02-16T11:50:13.614Z"
   },
   {
    "duration": 1600,
    "start_time": "2022-02-16T11:50:16.967Z"
   },
   {
    "duration": 156,
    "start_time": "2022-02-16T11:51:10.482Z"
   },
   {
    "duration": 165,
    "start_time": "2022-02-16T11:52:39.246Z"
   },
   {
    "duration": 173,
    "start_time": "2022-02-16T11:52:48.839Z"
   },
   {
    "duration": 181,
    "start_time": "2022-02-16T11:52:54.791Z"
   },
   {
    "duration": 335,
    "start_time": "2022-02-16T11:54:06.836Z"
   },
   {
    "duration": 9,
    "start_time": "2022-02-16T11:55:57.720Z"
   },
   {
    "duration": 14,
    "start_time": "2022-02-16T11:56:02.022Z"
   },
   {
    "duration": 6,
    "start_time": "2022-02-16T11:56:03.554Z"
   },
   {
    "duration": 396,
    "start_time": "2022-02-16T11:56:05.921Z"
   },
   {
    "duration": 186,
    "start_time": "2022-02-16T11:56:06.320Z"
   },
   {
    "duration": 366,
    "start_time": "2022-02-16T11:56:06.535Z"
   },
   {
    "duration": 359,
    "start_time": "2022-02-16T11:56:06.904Z"
   },
   {
    "duration": 11,
    "start_time": "2022-02-16T11:56:57.498Z"
   },
   {
    "duration": 4,
    "start_time": "2022-02-16T11:58:25.015Z"
   },
   {
    "duration": 27,
    "start_time": "2022-02-16T11:58:26.286Z"
   },
   {
    "duration": 22,
    "start_time": "2022-02-16T11:59:59.583Z"
   },
   {
    "duration": 21,
    "start_time": "2022-02-16T12:00:17.617Z"
   },
   {
    "duration": 13,
    "start_time": "2022-02-16T12:01:32.024Z"
   },
   {
    "duration": 17,
    "start_time": "2022-02-16T12:02:55.050Z"
   },
   {
    "duration": 571,
    "start_time": "2022-02-16T12:03:30.413Z"
   },
   {
    "duration": 505,
    "start_time": "2022-02-16T12:06:44.792Z"
   },
   {
    "duration": 551,
    "start_time": "2022-02-16T12:07:21.905Z"
   },
   {
    "duration": 612,
    "start_time": "2022-02-16T12:07:23.681Z"
   },
   {
    "duration": 570,
    "start_time": "2022-02-16T12:07:24.295Z"
   },
   {
    "duration": 9,
    "start_time": "2022-02-16T12:07:24.910Z"
   },
   {
    "duration": 510,
    "start_time": "2022-02-16T12:07:25.369Z"
   },
   {
    "duration": 199,
    "start_time": "2022-02-16T12:07:26.488Z"
   },
   {
    "duration": 18,
    "start_time": "2022-02-16T12:07:28.545Z"
   },
   {
    "duration": 8064,
    "start_time": "2022-02-16T12:07:29.160Z"
   },
   {
    "duration": 355,
    "start_time": "2022-02-16T12:07:37.227Z"
   },
   {
    "duration": 393,
    "start_time": "2022-02-16T12:08:03.061Z"
   },
   {
    "duration": 421,
    "start_time": "2022-02-16T12:09:18.241Z"
   },
   {
    "duration": 410,
    "start_time": "2022-02-16T12:09:29.583Z"
   }
  ],
  "kernelspec": {
   "display_name": "Python 3 (ipykernel)",
   "language": "python",
   "name": "python3"
  },
  "language_info": {
   "codemirror_mode": {
    "name": "ipython",
    "version": 3
   },
   "file_extension": ".py",
   "mimetype": "text/x-python",
   "name": "python",
   "nbconvert_exporter": "python",
   "pygments_lexer": "ipython3",
   "version": "3.9.7"
  },
  "toc": {
   "base_numbering": 1,
   "nav_menu": {},
   "number_sections": true,
   "sideBar": true,
   "skip_h1_title": true,
   "title_cell": "Содержание",
   "title_sidebar": "Contents",
   "toc_cell": true,
   "toc_position": {
    "height": "calc(100% - 180px)",
    "left": "10px",
    "top": "150px",
    "width": "165px"
   },
   "toc_section_display": true,
   "toc_window_display": true
  }
 },
 "nbformat": 4,
 "nbformat_minor": 2
}
