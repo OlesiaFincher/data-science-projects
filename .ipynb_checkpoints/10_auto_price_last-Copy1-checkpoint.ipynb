{
 "cells": [
  {
   "cell_type": "markdown",
   "metadata": {},
   "source": [
    "<font size=4> Привет, Олеся! Меня зовут Алан Созанов, будем обмениваться с тобой опытом для успешного прохождения задания! Если не против, предлагаю общаться на ты (иначе дай знать, и перейдем на «вы»). Свои рекомендации буду оформлять в виде комментариев в Markdown ячейках:<br><strong>\n",
    "    <li> <font color='red'> «❌ красный цвет» </font> – важно исправить или внести пояснения\n",
    "    <li> <font color='orange'> «⚠️желтый цвет» </font>  – учесть, но можно не исправлять \n",
    "    <li> <font color='green'> «✔️ зеленый цвет» </font> – все отлично, плюс альтернативные пути решения задачи\n",
    "    <li>   <font color='steelblue'>«синий цвет» </font> - просто текст комментария\n",
    "     </strong>\n",
    "<br> Количество символов (✔️, ⚠️, ❌) будет соответствовать версии комментария. Прошу при внесении правок мои комментарии не удалять, а свои писать в соседних ячейках и выделять удобным цветом. Так коммуникация будет проходить эффективнее 👍.<br>\n",
    "</font>"
   ]
  },
  {
   "cell_type": "markdown",
   "metadata": {},
   "source": [
    "# Определение стоимости автомобилей"
   ]
  },
  {
   "cell_type": "markdown",
   "metadata": {},
   "source": [
    "Сервис по продаже автомобилей с пробегом «Не бит, не крашен» разрабатывает приложение для привлечения новых клиентов. В нём можно быстро узнать рыночную стоимость своего автомобиля. В вашем распоряжении исторические данные: технические характеристики, комплектации и цены автомобилей. Вам нужно построить модель для определения стоимости. \n",
    "\n",
    "Заказчику важны:\n",
    "\n",
    "- качество предсказания;\n",
    "- скорость предсказания;\n",
    "- время обучения."
   ]
  },
  {
   "cell_type": "markdown",
   "metadata": {},
   "source": [
    "## Подготовка данных"
   ]
  },
  {
   "cell_type": "code",
   "execution_count": 1,
   "metadata": {},
   "outputs": [
    {
     "name": "stdout",
     "output_type": "stream",
     "text": [
      "Requirement already satisfied: catboost in /opt/conda/lib/python3.9/site-packages (1.0.3)\n",
      "Requirement already satisfied: graphviz in /opt/conda/lib/python3.9/site-packages (from catboost) (0.20)\n",
      "Requirement already satisfied: matplotlib in /opt/conda/lib/python3.9/site-packages (from catboost) (3.3.4)\n",
      "Requirement already satisfied: numpy>=1.16.0 in /opt/conda/lib/python3.9/site-packages (from catboost) (1.21.1)\n",
      "Requirement already satisfied: scipy in /opt/conda/lib/python3.9/site-packages (from catboost) (1.8.0)\n",
      "Requirement already satisfied: plotly in /opt/conda/lib/python3.9/site-packages (from catboost) (5.4.0)\n",
      "Requirement already satisfied: pandas>=0.24.0 in /opt/conda/lib/python3.9/site-packages (from catboost) (1.2.4)\n",
      "Requirement already satisfied: six in /opt/conda/lib/python3.9/site-packages (from catboost) (1.16.0)\n",
      "Requirement already satisfied: python-dateutil>=2.7.3 in /opt/conda/lib/python3.9/site-packages (from pandas>=0.24.0->catboost) (2.8.1)\n",
      "Requirement already satisfied: pytz>=2017.3 in /opt/conda/lib/python3.9/site-packages (from pandas>=0.24.0->catboost) (2021.1)\n",
      "Requirement already satisfied: pyparsing!=2.0.4,!=2.1.2,!=2.1.6,>=2.0.3 in /opt/conda/lib/python3.9/site-packages (from matplotlib->catboost) (2.4.7)\n",
      "Requirement already satisfied: pillow>=6.2.0 in /opt/conda/lib/python3.9/site-packages (from matplotlib->catboost) (8.4.0)\n",
      "Requirement already satisfied: kiwisolver>=1.0.1 in /opt/conda/lib/python3.9/site-packages (from matplotlib->catboost) (1.4.2)\n",
      "Requirement already satisfied: cycler>=0.10 in /opt/conda/lib/python3.9/site-packages (from matplotlib->catboost) (0.11.0)\n",
      "Requirement already satisfied: tenacity>=6.2.0 in /opt/conda/lib/python3.9/site-packages (from plotly->catboost) (8.0.1)\n"
     ]
    }
   ],
   "source": [
    "!pip install catboost"
   ]
  },
  {
   "cell_type": "code",
   "execution_count": 2,
   "metadata": {},
   "outputs": [],
   "source": [
    "# импорт библиотек\n",
    "import pandas as pd\n",
    "import numpy as np\n",
    "import time\n",
    "#import optuna\n",
    "\n",
    "from sklearn.linear_model import LinearRegression\n",
    "from sklearn.tree import DecisionTreeRegressor\n",
    "from sklearn.ensemble import RandomForestRegressor\n",
    "from catboost import CatBoostRegressor\n",
    "from lightgbm import LGBMRegressor\n",
    "\n",
    "from sklearn.metrics import r2_score, mean_squared_error\n",
    "from sklearn.model_selection import train_test_split, RandomizedSearchCV\n",
    "\n",
    "from sklearn.preprocessing import StandardScaler, OrdinalEncoder\n",
    "\n",
    "pd.options.mode.chained_assignment = None\n",
    "\n",
    "import seaborn as sns\n",
    "import os"
   ]
  },
  {
   "cell_type": "code",
   "execution_count": 3,
   "metadata": {},
   "outputs": [],
   "source": [
    "# загрузка данных\n",
    "if os.path.exists('/datasets/autos.csv'):\n",
    "    df = pd.read_csv('/datasets/autos.csv')\n",
    "\n",
    "else:\n",
    "    df = pd.read_csv('/Users/olesya/datasets/autos.csv')\n"
   ]
  },
  {
   "cell_type": "code",
   "execution_count": 4,
   "metadata": {},
   "outputs": [
    {
     "data": {
      "text/html": [
       "<div>\n",
       "<style scoped>\n",
       "    .dataframe tbody tr th:only-of-type {\n",
       "        vertical-align: middle;\n",
       "    }\n",
       "\n",
       "    .dataframe tbody tr th {\n",
       "        vertical-align: top;\n",
       "    }\n",
       "\n",
       "    .dataframe thead th {\n",
       "        text-align: right;\n",
       "    }\n",
       "</style>\n",
       "<table border=\"1\" class=\"dataframe\">\n",
       "  <thead>\n",
       "    <tr style=\"text-align: right;\">\n",
       "      <th></th>\n",
       "      <th>DateCrawled</th>\n",
       "      <th>Price</th>\n",
       "      <th>VehicleType</th>\n",
       "      <th>RegistrationYear</th>\n",
       "      <th>Gearbox</th>\n",
       "      <th>Power</th>\n",
       "      <th>Model</th>\n",
       "      <th>Kilometer</th>\n",
       "      <th>RegistrationMonth</th>\n",
       "      <th>FuelType</th>\n",
       "      <th>Brand</th>\n",
       "      <th>NotRepaired</th>\n",
       "      <th>DateCreated</th>\n",
       "      <th>NumberOfPictures</th>\n",
       "      <th>PostalCode</th>\n",
       "      <th>LastSeen</th>\n",
       "    </tr>\n",
       "  </thead>\n",
       "  <tbody>\n",
       "    <tr>\n",
       "      <th>0</th>\n",
       "      <td>2016-03-24 11:52:17</td>\n",
       "      <td>480</td>\n",
       "      <td>NaN</td>\n",
       "      <td>1993</td>\n",
       "      <td>manual</td>\n",
       "      <td>0</td>\n",
       "      <td>golf</td>\n",
       "      <td>150000</td>\n",
       "      <td>0</td>\n",
       "      <td>petrol</td>\n",
       "      <td>volkswagen</td>\n",
       "      <td>NaN</td>\n",
       "      <td>2016-03-24 00:00:00</td>\n",
       "      <td>0</td>\n",
       "      <td>70435</td>\n",
       "      <td>2016-04-07 03:16:57</td>\n",
       "    </tr>\n",
       "    <tr>\n",
       "      <th>1</th>\n",
       "      <td>2016-03-24 10:58:45</td>\n",
       "      <td>18300</td>\n",
       "      <td>coupe</td>\n",
       "      <td>2011</td>\n",
       "      <td>manual</td>\n",
       "      <td>190</td>\n",
       "      <td>NaN</td>\n",
       "      <td>125000</td>\n",
       "      <td>5</td>\n",
       "      <td>gasoline</td>\n",
       "      <td>audi</td>\n",
       "      <td>yes</td>\n",
       "      <td>2016-03-24 00:00:00</td>\n",
       "      <td>0</td>\n",
       "      <td>66954</td>\n",
       "      <td>2016-04-07 01:46:50</td>\n",
       "    </tr>\n",
       "    <tr>\n",
       "      <th>2</th>\n",
       "      <td>2016-03-14 12:52:21</td>\n",
       "      <td>9800</td>\n",
       "      <td>suv</td>\n",
       "      <td>2004</td>\n",
       "      <td>auto</td>\n",
       "      <td>163</td>\n",
       "      <td>grand</td>\n",
       "      <td>125000</td>\n",
       "      <td>8</td>\n",
       "      <td>gasoline</td>\n",
       "      <td>jeep</td>\n",
       "      <td>NaN</td>\n",
       "      <td>2016-03-14 00:00:00</td>\n",
       "      <td>0</td>\n",
       "      <td>90480</td>\n",
       "      <td>2016-04-05 12:47:46</td>\n",
       "    </tr>\n",
       "    <tr>\n",
       "      <th>3</th>\n",
       "      <td>2016-03-17 16:54:04</td>\n",
       "      <td>1500</td>\n",
       "      <td>small</td>\n",
       "      <td>2001</td>\n",
       "      <td>manual</td>\n",
       "      <td>75</td>\n",
       "      <td>golf</td>\n",
       "      <td>150000</td>\n",
       "      <td>6</td>\n",
       "      <td>petrol</td>\n",
       "      <td>volkswagen</td>\n",
       "      <td>no</td>\n",
       "      <td>2016-03-17 00:00:00</td>\n",
       "      <td>0</td>\n",
       "      <td>91074</td>\n",
       "      <td>2016-03-17 17:40:17</td>\n",
       "    </tr>\n",
       "    <tr>\n",
       "      <th>4</th>\n",
       "      <td>2016-03-31 17:25:20</td>\n",
       "      <td>3600</td>\n",
       "      <td>small</td>\n",
       "      <td>2008</td>\n",
       "      <td>manual</td>\n",
       "      <td>69</td>\n",
       "      <td>fabia</td>\n",
       "      <td>90000</td>\n",
       "      <td>7</td>\n",
       "      <td>gasoline</td>\n",
       "      <td>skoda</td>\n",
       "      <td>no</td>\n",
       "      <td>2016-03-31 00:00:00</td>\n",
       "      <td>0</td>\n",
       "      <td>60437</td>\n",
       "      <td>2016-04-06 10:17:21</td>\n",
       "    </tr>\n",
       "    <tr>\n",
       "      <th>5</th>\n",
       "      <td>2016-04-04 17:36:23</td>\n",
       "      <td>650</td>\n",
       "      <td>sedan</td>\n",
       "      <td>1995</td>\n",
       "      <td>manual</td>\n",
       "      <td>102</td>\n",
       "      <td>3er</td>\n",
       "      <td>150000</td>\n",
       "      <td>10</td>\n",
       "      <td>petrol</td>\n",
       "      <td>bmw</td>\n",
       "      <td>yes</td>\n",
       "      <td>2016-04-04 00:00:00</td>\n",
       "      <td>0</td>\n",
       "      <td>33775</td>\n",
       "      <td>2016-04-06 19:17:07</td>\n",
       "    </tr>\n",
       "    <tr>\n",
       "      <th>6</th>\n",
       "      <td>2016-04-01 20:48:51</td>\n",
       "      <td>2200</td>\n",
       "      <td>convertible</td>\n",
       "      <td>2004</td>\n",
       "      <td>manual</td>\n",
       "      <td>109</td>\n",
       "      <td>2_reihe</td>\n",
       "      <td>150000</td>\n",
       "      <td>8</td>\n",
       "      <td>petrol</td>\n",
       "      <td>peugeot</td>\n",
       "      <td>no</td>\n",
       "      <td>2016-04-01 00:00:00</td>\n",
       "      <td>0</td>\n",
       "      <td>67112</td>\n",
       "      <td>2016-04-05 18:18:39</td>\n",
       "    </tr>\n",
       "    <tr>\n",
       "      <th>7</th>\n",
       "      <td>2016-03-21 18:54:38</td>\n",
       "      <td>0</td>\n",
       "      <td>sedan</td>\n",
       "      <td>1980</td>\n",
       "      <td>manual</td>\n",
       "      <td>50</td>\n",
       "      <td>other</td>\n",
       "      <td>40000</td>\n",
       "      <td>7</td>\n",
       "      <td>petrol</td>\n",
       "      <td>volkswagen</td>\n",
       "      <td>no</td>\n",
       "      <td>2016-03-21 00:00:00</td>\n",
       "      <td>0</td>\n",
       "      <td>19348</td>\n",
       "      <td>2016-03-25 16:47:58</td>\n",
       "    </tr>\n",
       "    <tr>\n",
       "      <th>8</th>\n",
       "      <td>2016-04-04 23:42:13</td>\n",
       "      <td>14500</td>\n",
       "      <td>bus</td>\n",
       "      <td>2014</td>\n",
       "      <td>manual</td>\n",
       "      <td>125</td>\n",
       "      <td>c_max</td>\n",
       "      <td>30000</td>\n",
       "      <td>8</td>\n",
       "      <td>petrol</td>\n",
       "      <td>ford</td>\n",
       "      <td>NaN</td>\n",
       "      <td>2016-04-04 00:00:00</td>\n",
       "      <td>0</td>\n",
       "      <td>94505</td>\n",
       "      <td>2016-04-04 23:42:13</td>\n",
       "    </tr>\n",
       "    <tr>\n",
       "      <th>9</th>\n",
       "      <td>2016-03-17 10:53:50</td>\n",
       "      <td>999</td>\n",
       "      <td>small</td>\n",
       "      <td>1998</td>\n",
       "      <td>manual</td>\n",
       "      <td>101</td>\n",
       "      <td>golf</td>\n",
       "      <td>150000</td>\n",
       "      <td>0</td>\n",
       "      <td>NaN</td>\n",
       "      <td>volkswagen</td>\n",
       "      <td>NaN</td>\n",
       "      <td>2016-03-17 00:00:00</td>\n",
       "      <td>0</td>\n",
       "      <td>27472</td>\n",
       "      <td>2016-03-31 17:17:06</td>\n",
       "    </tr>\n",
       "  </tbody>\n",
       "</table>\n",
       "</div>"
      ],
      "text/plain": [
       "           DateCrawled  Price  VehicleType  RegistrationYear Gearbox  Power  \\\n",
       "0  2016-03-24 11:52:17    480          NaN              1993  manual      0   \n",
       "1  2016-03-24 10:58:45  18300        coupe              2011  manual    190   \n",
       "2  2016-03-14 12:52:21   9800          suv              2004    auto    163   \n",
       "3  2016-03-17 16:54:04   1500        small              2001  manual     75   \n",
       "4  2016-03-31 17:25:20   3600        small              2008  manual     69   \n",
       "5  2016-04-04 17:36:23    650        sedan              1995  manual    102   \n",
       "6  2016-04-01 20:48:51   2200  convertible              2004  manual    109   \n",
       "7  2016-03-21 18:54:38      0        sedan              1980  manual     50   \n",
       "8  2016-04-04 23:42:13  14500          bus              2014  manual    125   \n",
       "9  2016-03-17 10:53:50    999        small              1998  manual    101   \n",
       "\n",
       "     Model  Kilometer  RegistrationMonth  FuelType       Brand NotRepaired  \\\n",
       "0     golf     150000                  0    petrol  volkswagen         NaN   \n",
       "1      NaN     125000                  5  gasoline        audi         yes   \n",
       "2    grand     125000                  8  gasoline        jeep         NaN   \n",
       "3     golf     150000                  6    petrol  volkswagen          no   \n",
       "4    fabia      90000                  7  gasoline       skoda          no   \n",
       "5      3er     150000                 10    petrol         bmw         yes   \n",
       "6  2_reihe     150000                  8    petrol     peugeot          no   \n",
       "7    other      40000                  7    petrol  volkswagen          no   \n",
       "8    c_max      30000                  8    petrol        ford         NaN   \n",
       "9     golf     150000                  0       NaN  volkswagen         NaN   \n",
       "\n",
       "           DateCreated  NumberOfPictures  PostalCode             LastSeen  \n",
       "0  2016-03-24 00:00:00                 0       70435  2016-04-07 03:16:57  \n",
       "1  2016-03-24 00:00:00                 0       66954  2016-04-07 01:46:50  \n",
       "2  2016-03-14 00:00:00                 0       90480  2016-04-05 12:47:46  \n",
       "3  2016-03-17 00:00:00                 0       91074  2016-03-17 17:40:17  \n",
       "4  2016-03-31 00:00:00                 0       60437  2016-04-06 10:17:21  \n",
       "5  2016-04-04 00:00:00                 0       33775  2016-04-06 19:17:07  \n",
       "6  2016-04-01 00:00:00                 0       67112  2016-04-05 18:18:39  \n",
       "7  2016-03-21 00:00:00                 0       19348  2016-03-25 16:47:58  \n",
       "8  2016-04-04 00:00:00                 0       94505  2016-04-04 23:42:13  \n",
       "9  2016-03-17 00:00:00                 0       27472  2016-03-31 17:17:06  "
      ]
     },
     "execution_count": 4,
     "metadata": {},
     "output_type": "execute_result"
    }
   ],
   "source": [
    "df.head(10)"
   ]
  },
  {
   "cell_type": "code",
   "execution_count": 5,
   "metadata": {},
   "outputs": [
    {
     "name": "stdout",
     "output_type": "stream",
     "text": [
      "<class 'pandas.core.frame.DataFrame'>\n",
      "RangeIndex: 354369 entries, 0 to 354368\n",
      "Data columns (total 16 columns):\n",
      " #   Column             Non-Null Count   Dtype \n",
      "---  ------             --------------   ----- \n",
      " 0   DateCrawled        354369 non-null  object\n",
      " 1   Price              354369 non-null  int64 \n",
      " 2   VehicleType        316879 non-null  object\n",
      " 3   RegistrationYear   354369 non-null  int64 \n",
      " 4   Gearbox            334536 non-null  object\n",
      " 5   Power              354369 non-null  int64 \n",
      " 6   Model              334664 non-null  object\n",
      " 7   Kilometer          354369 non-null  int64 \n",
      " 8   RegistrationMonth  354369 non-null  int64 \n",
      " 9   FuelType           321474 non-null  object\n",
      " 10  Brand              354369 non-null  object\n",
      " 11  NotRepaired        283215 non-null  object\n",
      " 12  DateCreated        354369 non-null  object\n",
      " 13  NumberOfPictures   354369 non-null  int64 \n",
      " 14  PostalCode         354369 non-null  int64 \n",
      " 15  LastSeen           354369 non-null  object\n",
      "dtypes: int64(7), object(9)\n",
      "memory usage: 43.3+ MB\n"
     ]
    }
   ],
   "source": [
    "df.info()"
   ]
  },
  {
   "cell_type": "markdown",
   "metadata": {},
   "source": [
    "Проверим данные на дубликаты"
   ]
  },
  {
   "cell_type": "code",
   "execution_count": 6,
   "metadata": {},
   "outputs": [
    {
     "data": {
      "text/plain": [
       "4"
      ]
     },
     "execution_count": 6,
     "metadata": {},
     "output_type": "execute_result"
    }
   ],
   "source": [
    "df.duplicated().sum()"
   ]
  },
  {
   "cell_type": "markdown",
   "metadata": {},
   "source": [
    "Итак, данные состоят из 16 колонок и 354369 строк, есть пропуски и 4 дубликата. Избавимся от дубликатов, а также удалим неинформативные столбцы, которые не пригодятся нам для дальнейшего исследования.\n",
    "\n",
    "- DateCrawled — дата скачивания анкеты из базы\n",
    "- RegistrationMonth — месяц регистрации автомобиля\n",
    "- DateCreated — дата создания анкеты\n",
    "- NumberOfPictures — количество фотографий автомобиля\n",
    "- PostalCode — почтовый индекс владельца анкеты (пользователя)\n",
    "- LastSeen — дата последней активности пользователя"
   ]
  },
  {
   "cell_type": "markdown",
   "metadata": {},
   "source": [
    "<div class='alert alert-success'> ✔️Первичный анализ проведен с применением диагностических инструментов Pandas, найдены особенности в данных и намечена тактика дальнейших действий.\n",
    "</div>"
   ]
  },
  {
   "cell_type": "code",
   "execution_count": 7,
   "metadata": {},
   "outputs": [
    {
     "data": {
      "text/plain": [
       "0"
      ]
     },
     "execution_count": 7,
     "metadata": {},
     "output_type": "execute_result"
    }
   ],
   "source": [
    "# Удаление дубликатов\n",
    "df.drop_duplicates(inplace=True)\n",
    "df.duplicated().sum()"
   ]
  },
  {
   "cell_type": "code",
   "execution_count": 8,
   "metadata": {},
   "outputs": [
    {
     "data": {
      "text/html": [
       "<div>\n",
       "<style scoped>\n",
       "    .dataframe tbody tr th:only-of-type {\n",
       "        vertical-align: middle;\n",
       "    }\n",
       "\n",
       "    .dataframe tbody tr th {\n",
       "        vertical-align: top;\n",
       "    }\n",
       "\n",
       "    .dataframe thead th {\n",
       "        text-align: right;\n",
       "    }\n",
       "</style>\n",
       "<table border=\"1\" class=\"dataframe\">\n",
       "  <thead>\n",
       "    <tr style=\"text-align: right;\">\n",
       "      <th></th>\n",
       "      <th>Price</th>\n",
       "      <th>VehicleType</th>\n",
       "      <th>RegistrationYear</th>\n",
       "      <th>Gearbox</th>\n",
       "      <th>Power</th>\n",
       "      <th>Model</th>\n",
       "      <th>Kilometer</th>\n",
       "      <th>FuelType</th>\n",
       "      <th>Brand</th>\n",
       "      <th>NotRepaired</th>\n",
       "    </tr>\n",
       "  </thead>\n",
       "  <tbody>\n",
       "    <tr>\n",
       "      <th>0</th>\n",
       "      <td>480</td>\n",
       "      <td>NaN</td>\n",
       "      <td>1993</td>\n",
       "      <td>manual</td>\n",
       "      <td>0</td>\n",
       "      <td>golf</td>\n",
       "      <td>150000</td>\n",
       "      <td>petrol</td>\n",
       "      <td>volkswagen</td>\n",
       "      <td>NaN</td>\n",
       "    </tr>\n",
       "    <tr>\n",
       "      <th>1</th>\n",
       "      <td>18300</td>\n",
       "      <td>coupe</td>\n",
       "      <td>2011</td>\n",
       "      <td>manual</td>\n",
       "      <td>190</td>\n",
       "      <td>NaN</td>\n",
       "      <td>125000</td>\n",
       "      <td>gasoline</td>\n",
       "      <td>audi</td>\n",
       "      <td>yes</td>\n",
       "    </tr>\n",
       "    <tr>\n",
       "      <th>2</th>\n",
       "      <td>9800</td>\n",
       "      <td>suv</td>\n",
       "      <td>2004</td>\n",
       "      <td>auto</td>\n",
       "      <td>163</td>\n",
       "      <td>grand</td>\n",
       "      <td>125000</td>\n",
       "      <td>gasoline</td>\n",
       "      <td>jeep</td>\n",
       "      <td>NaN</td>\n",
       "    </tr>\n",
       "    <tr>\n",
       "      <th>3</th>\n",
       "      <td>1500</td>\n",
       "      <td>small</td>\n",
       "      <td>2001</td>\n",
       "      <td>manual</td>\n",
       "      <td>75</td>\n",
       "      <td>golf</td>\n",
       "      <td>150000</td>\n",
       "      <td>petrol</td>\n",
       "      <td>volkswagen</td>\n",
       "      <td>no</td>\n",
       "    </tr>\n",
       "    <tr>\n",
       "      <th>4</th>\n",
       "      <td>3600</td>\n",
       "      <td>small</td>\n",
       "      <td>2008</td>\n",
       "      <td>manual</td>\n",
       "      <td>69</td>\n",
       "      <td>fabia</td>\n",
       "      <td>90000</td>\n",
       "      <td>gasoline</td>\n",
       "      <td>skoda</td>\n",
       "      <td>no</td>\n",
       "    </tr>\n",
       "  </tbody>\n",
       "</table>\n",
       "</div>"
      ],
      "text/plain": [
       "   Price VehicleType  RegistrationYear Gearbox  Power  Model  Kilometer  \\\n",
       "0    480         NaN              1993  manual      0   golf     150000   \n",
       "1  18300       coupe              2011  manual    190    NaN     125000   \n",
       "2   9800         suv              2004    auto    163  grand     125000   \n",
       "3   1500       small              2001  manual     75   golf     150000   \n",
       "4   3600       small              2008  manual     69  fabia      90000   \n",
       "\n",
       "   FuelType       Brand NotRepaired  \n",
       "0    petrol  volkswagen         NaN  \n",
       "1  gasoline        audi         yes  \n",
       "2  gasoline        jeep         NaN  \n",
       "3    petrol  volkswagen          no  \n",
       "4  gasoline       skoda          no  "
      ]
     },
     "execution_count": 8,
     "metadata": {},
     "output_type": "execute_result"
    }
   ],
   "source": [
    "# Удаление столбцов\n",
    "df = df.drop(['DateCrawled', 'RegistrationMonth', 'DateCreated', 'NumberOfPictures', 'PostalCode', 'LastSeen'], axis=1)\n",
    "df.head()\n"
   ]
  },
  {
   "cell_type": "markdown",
   "metadata": {},
   "source": [
    "После удаления ненужных столбцов, у нас снова появились дубликаты, у которых отличались только данные DateCrawled или LastSeen. Удалим эти данные, чтобы не путать нашу модель"
   ]
  },
  {
   "cell_type": "code",
   "execution_count": 9,
   "metadata": {},
   "outputs": [
    {
     "data": {
      "text/plain": [
       "0"
      ]
     },
     "execution_count": 9,
     "metadata": {},
     "output_type": "execute_result"
    }
   ],
   "source": [
    "# Удаление дубликатов\n",
    "df.drop_duplicates(inplace=True)\n",
    "df.duplicated().sum()"
   ]
  },
  {
   "cell_type": "markdown",
   "metadata": {},
   "source": [
    "<div class='alert alert-info'> Удалила новые дубликаты\n",
    "</div>"
   ]
  },
  {
   "cell_type": "markdown",
   "metadata": {},
   "source": [
    "<div class='alert alert-success'> ✔️✔️OK\n",
    "</div>"
   ]
  },
  {
   "cell_type": "markdown",
   "metadata": {},
   "source": [
    "Посмотрим на выбросы и проверим нет ли аномалий в данных."
   ]
  },
  {
   "cell_type": "code",
   "execution_count": 10,
   "metadata": {},
   "outputs": [
    {
     "data": {
      "text/plain": [
       "<AxesSubplot:>"
      ]
     },
     "execution_count": 10,
     "metadata": {},
     "output_type": "execute_result"
    },
    {
     "data": {
      "image/png": "[encoded data removed]",
      "text/plain": [
       "<Figure size 432x288 with 1 Axes>"
      ]
     },
     "metadata": {
      "needs_background": "light"
     },
     "output_type": "display_data"
    }
   ],
   "source": [
    "df.boxplot()"
   ]
  },
  {
   "cell_type": "markdown",
   "metadata": {},
   "source": [
    "Аномалии всё же есть, будем обрбабатывать. \n",
    "\n",
    "- Price - цена должна быть и она не может равняться 0\n",
    "- Power - мощность (л.с.) тоже не может равняться 0\n",
    "\n",
    "Оставим данные с ценой больше 100 и мощностью больше 5."
   ]
  },
  {
   "cell_type": "code",
   "execution_count": 11,
   "metadata": {},
   "outputs": [],
   "source": [
    "cars = df[(df['Price']>100) & (df['Power']>5)]"
   ]
  },
  {
   "cell_type": "markdown",
   "metadata": {},
   "source": [
    "<div class='alert alert-success'> ✔️Отлично, что нашла аномалии в цене и мощности. Так как в последней колонке их много, можно было попытаться заполнить, как пропуски, например, мединами по бренду.\n",
    "</div>"
   ]
  },
  {
   "cell_type": "markdown",
   "metadata": {},
   "source": [
    "В столбце RegistrationYear также аномальные данные, год регистрации не может быть 1234 или 9999. Поэтому оставим период с 1900 по 2016 гг, так как анкеты были скачены март-апрель 2016 и год регистрации не может быть позже заполнения анкеты."
   ]
  },
  {
   "cell_type": "code",
   "execution_count": 12,
   "metadata": {},
   "outputs": [
    {
     "data": {
      "text/html": [
       "<div>\n",
       "<style scoped>\n",
       "    .dataframe tbody tr th:only-of-type {\n",
       "        vertical-align: middle;\n",
       "    }\n",
       "\n",
       "    .dataframe tbody tr th {\n",
       "        vertical-align: top;\n",
       "    }\n",
       "\n",
       "    .dataframe thead th {\n",
       "        text-align: right;\n",
       "    }\n",
       "</style>\n",
       "<table border=\"1\" class=\"dataframe\">\n",
       "  <thead>\n",
       "    <tr style=\"text-align: right;\">\n",
       "      <th></th>\n",
       "      <th>Price</th>\n",
       "      <th>VehicleType</th>\n",
       "      <th>RegistrationYear</th>\n",
       "      <th>Gearbox</th>\n",
       "      <th>Power</th>\n",
       "      <th>Model</th>\n",
       "      <th>Kilometer</th>\n",
       "      <th>FuelType</th>\n",
       "      <th>Brand</th>\n",
       "      <th>NotRepaired</th>\n",
       "    </tr>\n",
       "  </thead>\n",
       "  <tbody>\n",
       "    <tr>\n",
       "      <th>1</th>\n",
       "      <td>18300</td>\n",
       "      <td>coupe</td>\n",
       "      <td>2011</td>\n",
       "      <td>manual</td>\n",
       "      <td>190</td>\n",
       "      <td>NaN</td>\n",
       "      <td>125000</td>\n",
       "      <td>gasoline</td>\n",
       "      <td>audi</td>\n",
       "      <td>yes</td>\n",
       "    </tr>\n",
       "    <tr>\n",
       "      <th>2</th>\n",
       "      <td>9800</td>\n",
       "      <td>suv</td>\n",
       "      <td>2004</td>\n",
       "      <td>auto</td>\n",
       "      <td>163</td>\n",
       "      <td>grand</td>\n",
       "      <td>125000</td>\n",
       "      <td>gasoline</td>\n",
       "      <td>jeep</td>\n",
       "      <td>NaN</td>\n",
       "    </tr>\n",
       "    <tr>\n",
       "      <th>3</th>\n",
       "      <td>1500</td>\n",
       "      <td>small</td>\n",
       "      <td>2001</td>\n",
       "      <td>manual</td>\n",
       "      <td>75</td>\n",
       "      <td>golf</td>\n",
       "      <td>150000</td>\n",
       "      <td>petrol</td>\n",
       "      <td>volkswagen</td>\n",
       "      <td>no</td>\n",
       "    </tr>\n",
       "    <tr>\n",
       "      <th>4</th>\n",
       "      <td>3600</td>\n",
       "      <td>small</td>\n",
       "      <td>2008</td>\n",
       "      <td>manual</td>\n",
       "      <td>69</td>\n",
       "      <td>fabia</td>\n",
       "      <td>90000</td>\n",
       "      <td>gasoline</td>\n",
       "      <td>skoda</td>\n",
       "      <td>no</td>\n",
       "    </tr>\n",
       "    <tr>\n",
       "      <th>5</th>\n",
       "      <td>650</td>\n",
       "      <td>sedan</td>\n",
       "      <td>1995</td>\n",
       "      <td>manual</td>\n",
       "      <td>102</td>\n",
       "      <td>3er</td>\n",
       "      <td>150000</td>\n",
       "      <td>petrol</td>\n",
       "      <td>bmw</td>\n",
       "      <td>yes</td>\n",
       "    </tr>\n",
       "  </tbody>\n",
       "</table>\n",
       "</div>"
      ],
      "text/plain": [
       "   Price VehicleType  RegistrationYear Gearbox  Power  Model  Kilometer  \\\n",
       "1  18300       coupe              2011  manual    190    NaN     125000   \n",
       "2   9800         suv              2004    auto    163  grand     125000   \n",
       "3   1500       small              2001  manual     75   golf     150000   \n",
       "4   3600       small              2008  manual     69  fabia      90000   \n",
       "5    650       sedan              1995  manual    102    3er     150000   \n",
       "\n",
       "   FuelType       Brand NotRepaired  \n",
       "1  gasoline        audi         yes  \n",
       "2  gasoline        jeep         NaN  \n",
       "3    petrol  volkswagen          no  \n",
       "4  gasoline       skoda          no  \n",
       "5    petrol         bmw         yes  "
      ]
     },
     "execution_count": 12,
     "metadata": {},
     "output_type": "execute_result"
    }
   ],
   "source": [
    "cars = cars[(cars['RegistrationYear']<2016) & (cars['RegistrationYear']>1900)]\n",
    "cars.head()"
   ]
  },
  {
   "cell_type": "markdown",
   "metadata": {},
   "source": [
    "<div class='alert alert-warning'>⚠️Отлично, явно неправильные значения из RegistrationYear удалила, можно было еще отфильтровать строки с годом регистрации больше  DateCrawled</div>"
   ]
  },
  {
   "cell_type": "markdown",
   "metadata": {},
   "source": [
    "<div class='alert alert-info'> Исправила фильтр год регистрации по 2016 год, т.к. анкеты не могут быть созданы раньше регистрации.\n",
    "</div>"
   ]
  },
  {
   "cell_type": "markdown",
   "metadata": {},
   "source": [
    "<div class='alert alert-success'> ✔️✔️Супер\n",
    "</div>"
   ]
  },
  {
   "cell_type": "code",
   "execution_count": 13,
   "metadata": {},
   "outputs": [
    {
     "data": {
      "text/plain": [
       "Price                   0\n",
       "VehicleType          4422\n",
       "RegistrationYear        0\n",
       "Gearbox              4571\n",
       "Power                   0\n",
       "Model                9692\n",
       "Kilometer               0\n",
       "FuelType            12324\n",
       "Brand                   0\n",
       "NotRepaired         36680\n",
       "dtype: int64"
      ]
     },
     "execution_count": 13,
     "metadata": {},
     "output_type": "execute_result"
    }
   ],
   "source": [
    "# Проверка пропусков\n",
    "cars.isna().sum()"
   ]
  },
  {
   "cell_type": "markdown",
   "metadata": {},
   "source": [
    "Заменим пропуски на нетепичное значение \"other\", так модель воспримет их как отдельную категорию"
   ]
  },
  {
   "cell_type": "code",
   "execution_count": 14,
   "metadata": {},
   "outputs": [],
   "source": [
    "cars.fillna('other', inplace=True)"
   ]
  },
  {
   "cell_type": "markdown",
   "metadata": {},
   "source": [
    "<div class='alert alert-success'> ✔️Можно и так заполнить\n",
    "</div>"
   ]
  },
  {
   "cell_type": "code",
   "execution_count": 15,
   "metadata": {},
   "outputs": [
    {
     "data": {
      "text/plain": [
       "Price               0\n",
       "VehicleType         0\n",
       "RegistrationYear    0\n",
       "Gearbox             0\n",
       "Power               0\n",
       "Model               0\n",
       "Kilometer           0\n",
       "FuelType            0\n",
       "Brand               0\n",
       "NotRepaired         0\n",
       "dtype: int64"
      ]
     },
     "execution_count": 15,
     "metadata": {},
     "output_type": "execute_result"
    }
   ],
   "source": [
    "cars.isna().sum()"
   ]
  },
  {
   "cell_type": "markdown",
   "metadata": {},
   "source": [
    "В столбце FuelType объединим категории petrol и gasoline, а также lpg и cng, потому что по сути это одно и тоже."
   ]
  },
  {
   "cell_type": "code",
   "execution_count": 16,
   "metadata": {},
   "outputs": [
    {
     "data": {
      "text/plain": [
       "petrol      157883\n",
       "gasoline     74807\n",
       "other        12406\n",
       "lpg           4231\n",
       "cng            436\n",
       "hybrid         187\n",
       "electric        61\n",
       "Name: FuelType, dtype: int64"
      ]
     },
     "execution_count": 16,
     "metadata": {},
     "output_type": "execute_result"
    }
   ],
   "source": [
    "cars['FuelType'].value_counts()"
   ]
  },
  {
   "cell_type": "code",
   "execution_count": 17,
   "metadata": {},
   "outputs": [],
   "source": [
    "cars['FuelType'] = cars['FuelType'].replace('gasoline', 'petrol')\n",
    "cars['FuelType'] = cars['FuelType'].replace('cng', 'lpg')"
   ]
  },
  {
   "cell_type": "markdown",
   "metadata": {},
   "source": [
    "В столбце Model объединим категории range_rover_evoque и rangerover."
   ]
  },
  {
   "cell_type": "code",
   "execution_count": 18,
   "metadata": {},
   "outputs": [],
   "source": [
    "cars['Model'] = cars['Model'].replace('range_rover_evoque', 'rangerover')"
   ]
  },
  {
   "cell_type": "markdown",
   "metadata": {},
   "source": [
    "<div class='alert alert-success'> ✔️Ок, старайся больше пояснять причины принятых действий, в данном случае замен.\n",
    "</div>"
   ]
  },
  {
   "cell_type": "code",
   "execution_count": 19,
   "metadata": {
    "scrolled": true
   },
   "outputs": [
    {
     "data": {
      "text/html": [
       "<div>\n",
       "<style scoped>\n",
       "    .dataframe tbody tr th:only-of-type {\n",
       "        vertical-align: middle;\n",
       "    }\n",
       "\n",
       "    .dataframe tbody tr th {\n",
       "        vertical-align: top;\n",
       "    }\n",
       "\n",
       "    .dataframe thead th {\n",
       "        text-align: right;\n",
       "    }\n",
       "</style>\n",
       "<table border=\"1\" class=\"dataframe\">\n",
       "  <thead>\n",
       "    <tr style=\"text-align: right;\">\n",
       "      <th></th>\n",
       "      <th>Price</th>\n",
       "      <th>VehicleType</th>\n",
       "      <th>RegistrationYear</th>\n",
       "      <th>Gearbox</th>\n",
       "      <th>Power</th>\n",
       "      <th>Model</th>\n",
       "      <th>Kilometer</th>\n",
       "      <th>FuelType</th>\n",
       "      <th>Brand</th>\n",
       "      <th>NotRepaired</th>\n",
       "    </tr>\n",
       "  </thead>\n",
       "  <tbody>\n",
       "    <tr>\n",
       "      <th>1</th>\n",
       "      <td>18300</td>\n",
       "      <td>coupe</td>\n",
       "      <td>2011</td>\n",
       "      <td>manual</td>\n",
       "      <td>190</td>\n",
       "      <td>other</td>\n",
       "      <td>125000</td>\n",
       "      <td>petrol</td>\n",
       "      <td>audi</td>\n",
       "      <td>yes</td>\n",
       "    </tr>\n",
       "    <tr>\n",
       "      <th>2</th>\n",
       "      <td>9800</td>\n",
       "      <td>suv</td>\n",
       "      <td>2004</td>\n",
       "      <td>auto</td>\n",
       "      <td>163</td>\n",
       "      <td>grand</td>\n",
       "      <td>125000</td>\n",
       "      <td>petrol</td>\n",
       "      <td>jeep</td>\n",
       "      <td>other</td>\n",
       "    </tr>\n",
       "    <tr>\n",
       "      <th>3</th>\n",
       "      <td>1500</td>\n",
       "      <td>small</td>\n",
       "      <td>2001</td>\n",
       "      <td>manual</td>\n",
       "      <td>75</td>\n",
       "      <td>golf</td>\n",
       "      <td>150000</td>\n",
       "      <td>petrol</td>\n",
       "      <td>volkswagen</td>\n",
       "      <td>no</td>\n",
       "    </tr>\n",
       "    <tr>\n",
       "      <th>4</th>\n",
       "      <td>3600</td>\n",
       "      <td>small</td>\n",
       "      <td>2008</td>\n",
       "      <td>manual</td>\n",
       "      <td>69</td>\n",
       "      <td>fabia</td>\n",
       "      <td>90000</td>\n",
       "      <td>petrol</td>\n",
       "      <td>skoda</td>\n",
       "      <td>no</td>\n",
       "    </tr>\n",
       "    <tr>\n",
       "      <th>5</th>\n",
       "      <td>650</td>\n",
       "      <td>sedan</td>\n",
       "      <td>1995</td>\n",
       "      <td>manual</td>\n",
       "      <td>102</td>\n",
       "      <td>3er</td>\n",
       "      <td>150000</td>\n",
       "      <td>petrol</td>\n",
       "      <td>bmw</td>\n",
       "      <td>yes</td>\n",
       "    </tr>\n",
       "  </tbody>\n",
       "</table>\n",
       "</div>"
      ],
      "text/plain": [
       "   Price VehicleType  RegistrationYear Gearbox  Power  Model  Kilometer  \\\n",
       "1  18300       coupe              2011  manual    190  other     125000   \n",
       "2   9800         suv              2004    auto    163  grand     125000   \n",
       "3   1500       small              2001  manual     75   golf     150000   \n",
       "4   3600       small              2008  manual     69  fabia      90000   \n",
       "5    650       sedan              1995  manual    102    3er     150000   \n",
       "\n",
       "  FuelType       Brand NotRepaired  \n",
       "1   petrol        audi         yes  \n",
       "2   petrol        jeep       other  \n",
       "3   petrol  volkswagen          no  \n",
       "4   petrol       skoda          no  \n",
       "5   petrol         bmw         yes  "
      ]
     },
     "metadata": {},
     "output_type": "display_data"
    },
    {
     "name": "stdout",
     "output_type": "stream",
     "text": [
      "<class 'pandas.core.frame.DataFrame'>\n",
      "Int64Index: 250011 entries, 1 to 354368\n",
      "Data columns (total 10 columns):\n",
      " #   Column            Non-Null Count   Dtype \n",
      "---  ------            --------------   ----- \n",
      " 0   Price             250011 non-null  int64 \n",
      " 1   VehicleType       250011 non-null  object\n",
      " 2   RegistrationYear  250011 non-null  int64 \n",
      " 3   Gearbox           250011 non-null  object\n",
      " 4   Power             250011 non-null  int64 \n",
      " 5   Model             250011 non-null  object\n",
      " 6   Kilometer         250011 non-null  int64 \n",
      " 7   FuelType          250011 non-null  object\n",
      " 8   Brand             250011 non-null  object\n",
      " 9   NotRepaired       250011 non-null  object\n",
      "dtypes: int64(4), object(6)\n",
      "memory usage: 21.0+ MB\n"
     ]
    }
   ],
   "source": [
    "display(cars.head())\n",
    "cars.info()"
   ]
  },
  {
   "cell_type": "markdown",
   "metadata": {},
   "source": [
    "<b>Вывод</b>\n",
    "\n",
    "Изучили данные. Заполнили пропущенные значения и обработали аномалии в столбцах. Удалили явные дубликаты. Удалили неинформативные данные.\n",
    "Датасет готов, переходим к обучению."
   ]
  },
  {
   "cell_type": "markdown",
   "metadata": {},
   "source": [
    "## Обучение моделей"
   ]
  },
  {
   "cell_type": "markdown",
   "metadata": {},
   "source": [
    "Задействуем технику порядкого кодирования, чтобы преобразовать категориальные признаки в числа."
   ]
  },
  {
   "cell_type": "code",
   "execution_count": 20,
   "metadata": {},
   "outputs": [],
   "source": [
    "encoder = OrdinalEncoder()\n",
    "#encoder.fit_transform(cars)"
   ]
  },
  {
   "cell_type": "code",
   "execution_count": 21,
   "metadata": {},
   "outputs": [
    {
     "data": {
      "text/html": [
       "<div>\n",
       "<style scoped>\n",
       "    .dataframe tbody tr th:only-of-type {\n",
       "        vertical-align: middle;\n",
       "    }\n",
       "\n",
       "    .dataframe tbody tr th {\n",
       "        vertical-align: top;\n",
       "    }\n",
       "\n",
       "    .dataframe thead th {\n",
       "        text-align: right;\n",
       "    }\n",
       "</style>\n",
       "<table border=\"1\" class=\"dataframe\">\n",
       "  <thead>\n",
       "    <tr style=\"text-align: right;\">\n",
       "      <th></th>\n",
       "      <th>Price</th>\n",
       "      <th>VehicleType</th>\n",
       "      <th>RegistrationYear</th>\n",
       "      <th>Gearbox</th>\n",
       "      <th>Power</th>\n",
       "      <th>Model</th>\n",
       "      <th>Kilometer</th>\n",
       "      <th>FuelType</th>\n",
       "      <th>Brand</th>\n",
       "      <th>NotRepaired</th>\n",
       "    </tr>\n",
       "  </thead>\n",
       "  <tbody>\n",
       "    <tr>\n",
       "      <th>1</th>\n",
       "      <td>18300</td>\n",
       "      <td>2.0</td>\n",
       "      <td>2011</td>\n",
       "      <td>1.0</td>\n",
       "      <td>190</td>\n",
       "      <td>166.0</td>\n",
       "      <td>125000</td>\n",
       "      <td>4.0</td>\n",
       "      <td>1.0</td>\n",
       "      <td>2.0</td>\n",
       "    </tr>\n",
       "    <tr>\n",
       "      <th>2</th>\n",
       "      <td>9800</td>\n",
       "      <td>6.0</td>\n",
       "      <td>2004</td>\n",
       "      <td>0.0</td>\n",
       "      <td>163</td>\n",
       "      <td>117.0</td>\n",
       "      <td>125000</td>\n",
       "      <td>4.0</td>\n",
       "      <td>14.0</td>\n",
       "      <td>1.0</td>\n",
       "    </tr>\n",
       "    <tr>\n",
       "      <th>3</th>\n",
       "      <td>1500</td>\n",
       "      <td>5.0</td>\n",
       "      <td>2001</td>\n",
       "      <td>1.0</td>\n",
       "      <td>75</td>\n",
       "      <td>116.0</td>\n",
       "      <td>150000</td>\n",
       "      <td>4.0</td>\n",
       "      <td>38.0</td>\n",
       "      <td>0.0</td>\n",
       "    </tr>\n",
       "    <tr>\n",
       "      <th>4</th>\n",
       "      <td>3600</td>\n",
       "      <td>5.0</td>\n",
       "      <td>2008</td>\n",
       "      <td>1.0</td>\n",
       "      <td>69</td>\n",
       "      <td>101.0</td>\n",
       "      <td>90000</td>\n",
       "      <td>4.0</td>\n",
       "      <td>31.0</td>\n",
       "      <td>0.0</td>\n",
       "    </tr>\n",
       "    <tr>\n",
       "      <th>5</th>\n",
       "      <td>650</td>\n",
       "      <td>4.0</td>\n",
       "      <td>1995</td>\n",
       "      <td>1.0</td>\n",
       "      <td>102</td>\n",
       "      <td>11.0</td>\n",
       "      <td>150000</td>\n",
       "      <td>4.0</td>\n",
       "      <td>2.0</td>\n",
       "      <td>2.0</td>\n",
       "    </tr>\n",
       "  </tbody>\n",
       "</table>\n",
       "</div>"
      ],
      "text/plain": [
       "   Price  VehicleType  RegistrationYear  Gearbox  Power  Model  Kilometer  \\\n",
       "1  18300          2.0              2011      1.0    190  166.0     125000   \n",
       "2   9800          6.0              2004      0.0    163  117.0     125000   \n",
       "3   1500          5.0              2001      1.0     75  116.0     150000   \n",
       "4   3600          5.0              2008      1.0     69  101.0      90000   \n",
       "5    650          4.0              1995      1.0    102   11.0     150000   \n",
       "\n",
       "   FuelType  Brand  NotRepaired  \n",
       "1       4.0    1.0          2.0  \n",
       "2       4.0   14.0          1.0  \n",
       "3       4.0   38.0          0.0  \n",
       "4       4.0   31.0          0.0  \n",
       "5       4.0    2.0          2.0  "
      ]
     },
     "execution_count": 21,
     "metadata": {},
     "output_type": "execute_result"
    }
   ],
   "source": [
    "cars_oe = cars.copy()\n",
    "cat_cols = ['VehicleType', 'Gearbox', 'Model', 'FuelType', 'Brand', 'NotRepaired']\n",
    "cars_oe[cat_cols] = encoder.fit_transform(cars[cat_cols])\n",
    "cars_oe.head()"
   ]
  },
  {
   "cell_type": "markdown",
   "metadata": {},
   "source": [
    "<div class='alert alert-danger'>❌  Кодирование по OrdinalEncoder \n",
    "интерпретируется как числовой признак, между значениями которого устанавливается порядок (как если мерседес > bmw), поэтому предпочтительнее использовать one-hot. Однако с учетом большого количества категорий в столбцах в данном задании оправдано использовать OrdinalEncoding.<br>\n",
    "    Ты случайно <a href='https://teletype.in/@dt_analytic/2we096QmCK0'> закодировала все колонки </a>, а хотела, думаю, применять к категориям (посмотри на цену).\n",
    "    \n",
    "</div>"
   ]
  },
  {
   "cell_type": "markdown",
   "metadata": {},
   "source": [
    "<div class='alert alert-info'>\n",
    "Спасибо за статью, очень понятно написано. Применила кодирование к категориям.\n",
    "</div>"
   ]
  },
  {
   "cell_type": "markdown",
   "metadata": {},
   "source": [
    "<div class='alert alert-success'> ✔️✔️Пожалуйста)\n",
    "</div>"
   ]
  },
  {
   "cell_type": "markdown",
   "metadata": {},
   "source": [
    "Подготовим признаки и целевой признак, а затем разделим данные на обучающую, валидационную и тестовую выборки."
   ]
  },
  {
   "cell_type": "code",
   "execution_count": 22,
   "metadata": {},
   "outputs": [],
   "source": [
    "features_oe = cars_oe.drop('Price', axis=1)\n",
    "target_oe = cars_oe['Price']"
   ]
  },
  {
   "cell_type": "code",
   "execution_count": 23,
   "metadata": {},
   "outputs": [],
   "source": [
    "# деление данных на обучающую, валидационную и тестовую выборки\n",
    "features_train, features_rest, target_train, target_rest = train_test_split(\n",
    "    features_oe, target_oe, test_size=0.4, random_state=12345)\n",
    "features_valid, features_test, target_valid, target_test = train_test_split(\n",
    "    features_rest, target_rest, test_size=0.5, random_state=12345)\n"
   ]
  },
  {
   "cell_type": "markdown",
   "metadata": {},
   "source": [
    "<div class='alert alert-danger'>❌ Хорошо, создала две выборки: обучающую и валидационную. Валидационная нужна для отбора модели, на train выборке это делать неправильно, так как некоторые модели могут просто запомнить все решения и показать идеальный результат. А тест выборка используется для финального тестирования лучшей модели, ее больше ни для чего использовать нельзя (получается у нас ее пока нет). Поэтому: \n",
    "<li> Либо сделай три выборки - одну для обучения, другую для сравнения моделей между собой и третью для теста лучшей модели (просто добавь еще train_test_split). Чтобы создать одно разбиение вне зависимости от способа обработки выборок, можешь делать <a href='https://teletype.in/@dt_analytic/ILlCaWreRgO'> как здесь </a>\n",
    "<li> Либо во всех алгоритмах проводи внутреннюю кросс-валидацию на train выборке с gridsearch (ошибка хранится в атрибуте best_score_) или cross_val_score. Тестовую не используй вплоть до финального тестирования лучшей модели \n",
    "\n",
    "</div> "
   ]
  },
  {
   "cell_type": "markdown",
   "metadata": {},
   "source": [
    "<div class='alert alert-info'>\n",
    "Разбила датасет на три выборки\n",
    "</div>"
   ]
  },
  {
   "cell_type": "markdown",
   "metadata": {},
   "source": [
    "<div class='alert alert-success'> ✔️✔️Отлично\n",
    "</div>"
   ]
  },
  {
   "cell_type": "markdown",
   "metadata": {},
   "source": [
    "Стандартизируем данные методом масштабирования"
   ]
  },
  {
   "cell_type": "code",
   "execution_count": 24,
   "metadata": {},
   "outputs": [],
   "source": [
    "# Масштабирование данных\n",
    "numeric = ['RegistrationYear', 'Power', 'Kilometer']\n",
    "\n",
    "scaler = StandardScaler()\n",
    "scaler.fit(features_train[numeric])\n",
    "\n",
    "features_train[numeric] = scaler.transform(features_train[numeric])\n",
    "features_valid[numeric] = scaler.transform(features_valid[numeric])\n",
    "features_test[numeric] = scaler.transform(features_test[numeric])\n"
   ]
  },
  {
   "cell_type": "markdown",
   "metadata": {},
   "source": [
    "<div class='alert alert-success'> ✔️Отлично, признаки шкалировала, не забыла, что fit нужно делать только на train выборке.\n",
    "</div>"
   ]
  },
  {
   "cell_type": "code",
   "execution_count": 25,
   "metadata": {
    "scrolled": true
   },
   "outputs": [
    {
     "data": {
      "text/html": [
       "<div>\n",
       "<style scoped>\n",
       "    .dataframe tbody tr th:only-of-type {\n",
       "        vertical-align: middle;\n",
       "    }\n",
       "\n",
       "    .dataframe tbody tr th {\n",
       "        vertical-align: top;\n",
       "    }\n",
       "\n",
       "    .dataframe thead th {\n",
       "        text-align: right;\n",
       "    }\n",
       "</style>\n",
       "<table border=\"1\" class=\"dataframe\">\n",
       "  <thead>\n",
       "    <tr style=\"text-align: right;\">\n",
       "      <th></th>\n",
       "      <th>VehicleType</th>\n",
       "      <th>RegistrationYear</th>\n",
       "      <th>Gearbox</th>\n",
       "      <th>Power</th>\n",
       "      <th>Model</th>\n",
       "      <th>Kilometer</th>\n",
       "      <th>FuelType</th>\n",
       "      <th>Brand</th>\n",
       "      <th>NotRepaired</th>\n",
       "    </tr>\n",
       "  </thead>\n",
       "  <tbody>\n",
       "    <tr>\n",
       "      <th>284599</th>\n",
       "      <td>4.0</td>\n",
       "      <td>-1.629285</td>\n",
       "      <td>1.0</td>\n",
       "      <td>-0.386216</td>\n",
       "      <td>151.0</td>\n",
       "      <td>-0.724818</td>\n",
       "      <td>4.0</td>\n",
       "      <td>23.0</td>\n",
       "      <td>2.0</td>\n",
       "    </tr>\n",
       "    <tr>\n",
       "      <th>232453</th>\n",
       "      <td>4.0</td>\n",
       "      <td>0.683826</td>\n",
       "      <td>1.0</td>\n",
       "      <td>0.235943</td>\n",
       "      <td>116.0</td>\n",
       "      <td>0.612580</td>\n",
       "      <td>4.0</td>\n",
       "      <td>38.0</td>\n",
       "      <td>0.0</td>\n",
       "    </tr>\n",
       "    <tr>\n",
       "      <th>259612</th>\n",
       "      <td>4.0</td>\n",
       "      <td>-0.704040</td>\n",
       "      <td>1.0</td>\n",
       "      <td>-0.219950</td>\n",
       "      <td>17.0</td>\n",
       "      <td>0.612580</td>\n",
       "      <td>4.0</td>\n",
       "      <td>19.0</td>\n",
       "      <td>1.0</td>\n",
       "    </tr>\n",
       "    <tr>\n",
       "      <th>224882</th>\n",
       "      <td>7.0</td>\n",
       "      <td>0.529618</td>\n",
       "      <td>0.0</td>\n",
       "      <td>0.198399</td>\n",
       "      <td>11.0</td>\n",
       "      <td>0.612580</td>\n",
       "      <td>4.0</td>\n",
       "      <td>2.0</td>\n",
       "      <td>0.0</td>\n",
       "    </tr>\n",
       "    <tr>\n",
       "      <th>233096</th>\n",
       "      <td>5.0</td>\n",
       "      <td>1.300655</td>\n",
       "      <td>0.0</td>\n",
       "      <td>-0.203859</td>\n",
       "      <td>123.0</td>\n",
       "      <td>-2.597176</td>\n",
       "      <td>1.0</td>\n",
       "      <td>11.0</td>\n",
       "      <td>0.0</td>\n",
       "    </tr>\n",
       "  </tbody>\n",
       "</table>\n",
       "</div>"
      ],
      "text/plain": [
       "        VehicleType  RegistrationYear  Gearbox     Power  Model  Kilometer  \\\n",
       "284599          4.0         -1.629285      1.0 -0.386216  151.0  -0.724818   \n",
       "232453          4.0          0.683826      1.0  0.235943  116.0   0.612580   \n",
       "259612          4.0         -0.704040      1.0 -0.219950   17.0   0.612580   \n",
       "224882          7.0          0.529618      0.0  0.198399   11.0   0.612580   \n",
       "233096          5.0          1.300655      0.0 -0.203859  123.0  -2.597176   \n",
       "\n",
       "        FuelType  Brand  NotRepaired  \n",
       "284599       4.0   23.0          2.0  \n",
       "232453       4.0   38.0          0.0  \n",
       "259612       4.0   19.0          1.0  \n",
       "224882       4.0    2.0          0.0  \n",
       "233096       1.0   11.0          0.0  "
      ]
     },
     "execution_count": 25,
     "metadata": {},
     "output_type": "execute_result"
    }
   ],
   "source": [
    "features_train.head()"
   ]
  },
  {
   "cell_type": "markdown",
   "metadata": {},
   "source": [
    "Обучим и проанализируем время работы и качество моделей. \n",
    "\n",
    "Для этого рассмотрим 4 модели: \n",
    "- LinearRegression\n",
    "- DecisionTreeRegressor\n",
    "- LightGBM\n",
    "- CatBoost"
   ]
  },
  {
   "cell_type": "code",
   "execution_count": 26,
   "metadata": {},
   "outputs": [],
   "source": [
    "#  функция вычисления rmse\n",
    "def rmse(target, predicted):\n",
    "    mse = mean_squared_error(target, predicted) \n",
    "    return mse ** 0.5\n"
   ]
  },
  {
   "cell_type": "code",
   "execution_count": 27,
   "metadata": {},
   "outputs": [],
   "source": [
    "# создание итоговой таблицы\n",
    "models= pd.DataFrame(columns = ['model', 'rmse'])"
   ]
  },
  {
   "cell_type": "markdown",
   "metadata": {},
   "source": [
    "<b>LinearRegression</b>"
   ]
  },
  {
   "cell_type": "code",
   "execution_count": 28,
   "metadata": {},
   "outputs": [],
   "source": [
    "model_lr = LinearRegression()"
   ]
  },
  {
   "cell_type": "code",
   "execution_count": 29,
   "metadata": {},
   "outputs": [
    {
     "name": "stdout",
     "output_type": "stream",
     "text": [
      "CPU times: user 41.8 ms, sys: 3.66 ms, total: 45.5 ms\n",
      "Wall time: 50.5 ms\n"
     ]
    },
    {
     "data": {
      "text/plain": [
       "LinearRegression()"
      ]
     },
     "execution_count": 29,
     "metadata": {},
     "output_type": "execute_result"
    }
   ],
   "source": [
    "%%time\n",
    "model_lr.fit(features_train, target_train)"
   ]
  },
  {
   "cell_type": "code",
   "execution_count": 30,
   "metadata": {},
   "outputs": [
    {
     "name": "stdout",
     "output_type": "stream",
     "text": [
      "CPU times: user 5.04 ms, sys: 4.18 ms, total: 9.22 ms\n",
      "Wall time: 3.46 ms\n"
     ]
    }
   ],
   "source": [
    "%%time\n",
    "predicted_valid_lr = model_lr.predict(features_valid)"
   ]
  },
  {
   "cell_type": "markdown",
   "metadata": {},
   "source": [
    "<div class='alert alert-success'> ✔️Засекаешь время корректно и на fit, и на predict.\n",
    "</div>\n"
   ]
  },
  {
   "cell_type": "code",
   "execution_count": 31,
   "metadata": {},
   "outputs": [
    {
     "name": "stdout",
     "output_type": "stream",
     "text": [
      "RMSE модели LinearRegression = 3522.083907386441\n"
     ]
    }
   ],
   "source": [
    "rmse_lr = rmse(target_valid, predicted_valid_lr)\n",
    "print(\"RMSE модели LinearRegression =\", rmse_lr)"
   ]
  },
  {
   "cell_type": "code",
   "execution_count": 32,
   "metadata": {},
   "outputs": [],
   "source": [
    "# добавление результата в итоговую таблицу\n",
    "models = models.append({'model': 'LinearRegression', 'rmse': rmse_lr}, ignore_index=True)"
   ]
  },
  {
   "cell_type": "markdown",
   "metadata": {},
   "source": [
    "<b>DecisionTreeRegressor</b>"
   ]
  },
  {
   "cell_type": "code",
   "execution_count": 33,
   "metadata": {},
   "outputs": [],
   "source": [
    "model_tree = DecisionTreeRegressor(random_state=12345)"
   ]
  },
  {
   "cell_type": "code",
   "execution_count": 34,
   "metadata": {},
   "outputs": [],
   "source": [
    "params = {'max_depth':np.arange(1,15),\n",
    "         'min_samples_split':np.arange(2,11),\n",
    "         'min_samples_leaf':np.arange(1,11)}"
   ]
  },
  {
   "cell_type": "code",
   "execution_count": 35,
   "metadata": {},
   "outputs": [
    {
     "data": {
      "text/plain": [
       "DecisionTreeRegressor(max_depth=14, min_samples_leaf=2, min_samples_split=9,\n",
       "                      random_state=12345)"
      ]
     },
     "execution_count": 35,
     "metadata": {},
     "output_type": "execute_result"
    }
   ],
   "source": [
    "search = RandomizedSearchCV(estimator=model_tree, param_distributions=params, cv=3)\n",
    "search.fit(features_train, target_train)\n",
    "best_tree = search.best_estimator_\n",
    "best_tree"
   ]
  },
  {
   "cell_type": "markdown",
   "metadata": {},
   "source": [
    "<div class='alert alert-warning'>⚠️⚠️ОК, есть перебор гиперпараметров с RandomizedSearchCV, только не использовала)\n",
    "\n",
    "</div>"
   ]
  },
  {
   "cell_type": "code",
   "execution_count": 36,
   "metadata": {},
   "outputs": [],
   "source": [
    "model_tree_best = DecisionTreeRegressor(max_depth=12, min_samples_leaf=5, min_samples_split=7, \n",
    "                                   random_state=12345)"
   ]
  },
  {
   "cell_type": "code",
   "execution_count": 37,
   "metadata": {},
   "outputs": [
    {
     "name": "stdout",
     "output_type": "stream",
     "text": [
      "CPU times: user 302 ms, sys: 0 ns, total: 302 ms\n",
      "Wall time: 307 ms\n"
     ]
    },
    {
     "data": {
      "text/plain": [
       "DecisionTreeRegressor(max_depth=12, min_samples_leaf=5, min_samples_split=7,\n",
       "                      random_state=12345)"
      ]
     },
     "execution_count": 37,
     "metadata": {},
     "output_type": "execute_result"
    }
   ],
   "source": [
    "%%time\n",
    "model_tree_best.fit(features_train, target_train)"
   ]
  },
  {
   "cell_type": "code",
   "execution_count": 38,
   "metadata": {},
   "outputs": [
    {
     "name": "stdout",
     "output_type": "stream",
     "text": [
      "CPU times: user 8.77 ms, sys: 0 ns, total: 8.77 ms\n",
      "Wall time: 12.6 ms\n"
     ]
    }
   ],
   "source": [
    "%%time\n",
    "predicted_valid_tree = model_tree_best.predict(features_valid)"
   ]
  },
  {
   "cell_type": "code",
   "execution_count": 39,
   "metadata": {},
   "outputs": [
    {
     "name": "stdout",
     "output_type": "stream",
     "text": [
      "RMSE модели DecisionTreeRegressor = 1884.6492160063965\n"
     ]
    }
   ],
   "source": [
    "rmse_tree_best = rmse(target_valid, predicted_valid_tree)\n",
    "print(\"RMSE модели DecisionTreeRegressor =\", rmse_tree_best)"
   ]
  },
  {
   "cell_type": "code",
   "execution_count": 40,
   "metadata": {},
   "outputs": [],
   "source": [
    "# добавление результата в итоговую таблицу\n",
    "models = models.append({'model': 'DecisionTreeRegressor', 'rmse': rmse_tree_best}, \n",
    "                       ignore_index=True)"
   ]
  },
  {
   "cell_type": "markdown",
   "metadata": {},
   "source": [
    "<b>LGBMRegressor</b>"
   ]
  },
  {
   "cell_type": "code",
   "execution_count": 41,
   "metadata": {},
   "outputs": [],
   "source": [
    "params = {\n",
    "    'objective': 'regression',\n",
    "    'metric': 'rmse',\n",
    "    'max_depth': 10, \n",
    "    'learning_rate': 0.1,\n",
    "    'verbose': 0\n",
    "}"
   ]
  },
  {
   "cell_type": "code",
   "execution_count": 42,
   "metadata": {},
   "outputs": [],
   "source": [
    "model_lgbm = LGBMRegressor(**params)"
   ]
  },
  {
   "cell_type": "code",
   "execution_count": 43,
   "metadata": {},
   "outputs": [
    {
     "name": "stdout",
     "output_type": "stream",
     "text": [
      "[LightGBM] [Warning] Accuracy may be bad since you didn't explicitly set num_leaves OR 2^max_depth > num_leaves. (num_leaves=31).\n",
      "[LightGBM] [Warning] Accuracy may be bad since you didn't explicitly set num_leaves OR 2^max_depth > num_leaves. (num_leaves=31).\n",
      "[LightGBM] [Warning] Auto-choosing row-wise multi-threading, the overhead of testing was 0.004027 seconds.\n",
      "You can set `force_row_wise=true` to remove the overhead.\n",
      "And if memory is not enough, you can set `force_col_wise=true`.\n",
      "CPU times: user 3.1 s, sys: 5.38 ms, total: 3.1 s\n",
      "Wall time: 3.08 s\n"
     ]
    },
    {
     "data": {
      "text/plain": [
       "LGBMRegressor(max_depth=10, metric='rmse', objective='regression', verbose=0)"
      ]
     },
     "execution_count": 43,
     "metadata": {},
     "output_type": "execute_result"
    }
   ],
   "source": [
    "%%time\n",
    "model_lgbm.fit(features_train, target_train)"
   ]
  },
  {
   "cell_type": "code",
   "execution_count": 44,
   "metadata": {},
   "outputs": [
    {
     "name": "stdout",
     "output_type": "stream",
     "text": [
      "CPU times: user 448 ms, sys: 0 ns, total: 448 ms\n",
      "Wall time: 404 ms\n"
     ]
    }
   ],
   "source": [
    "%%time\n",
    "predicted_valid_lgbm = model_lgbm.predict(features_valid)"
   ]
  },
  {
   "cell_type": "code",
   "execution_count": 45,
   "metadata": {},
   "outputs": [
    {
     "name": "stdout",
     "output_type": "stream",
     "text": [
      "RMSE модели LGBMRegressor = 1689.0653339117493\n"
     ]
    }
   ],
   "source": [
    "rmse_lgbm = rmse(target_valid, predicted_valid_lgbm)\n",
    "print(\"RMSE модели LGBMRegressor =\", rmse_lgbm)"
   ]
  },
  {
   "cell_type": "code",
   "execution_count": 46,
   "metadata": {},
   "outputs": [],
   "source": [
    "# добавление результата в итоговую таблицу\n",
    "models = models.append({'model': 'LGBMRegressor', 'rmse': rmse_lgbm}, ignore_index=True)"
   ]
  },
  {
   "cell_type": "markdown",
   "metadata": {},
   "source": [
    "<b>CatBoostRegressor</b>"
   ]
  },
  {
   "cell_type": "code",
   "execution_count": 47,
   "metadata": {},
   "outputs": [],
   "source": [
    "model_cat = CatBoostRegressor(iterations=100, loss_function=\"RMSE\")"
   ]
  },
  {
   "cell_type": "code",
   "execution_count": 48,
   "metadata": {},
   "outputs": [
    {
     "name": "stdout",
     "output_type": "stream",
     "text": [
      "CPU times: user 2.04 s, sys: 19.5 ms, total: 2.06 s\n",
      "Wall time: 2.57 s\n"
     ]
    },
    {
     "data": {
      "text/plain": [
       "<catboost.core.CatBoostRegressor at 0x7f0a4caab8b0>"
      ]
     },
     "execution_count": 48,
     "metadata": {},
     "output_type": "execute_result"
    }
   ],
   "source": [
    "%%time\n",
    "model_cat.fit(features_train, target_train, verbose=False) "
   ]
  },
  {
   "cell_type": "code",
   "execution_count": 49,
   "metadata": {},
   "outputs": [
    {
     "name": "stdout",
     "output_type": "stream",
     "text": [
      "CPU times: user 10.8 ms, sys: 0 ns, total: 10.8 ms\n",
      "Wall time: 9.51 ms\n"
     ]
    }
   ],
   "source": [
    "%%time\n",
    "predicted_valid_cat = model_cat.predict(features_valid)"
   ]
  },
  {
   "cell_type": "code",
   "execution_count": 50,
   "metadata": {},
   "outputs": [
    {
     "name": "stdout",
     "output_type": "stream",
     "text": [
      "RMSE модели CatBoost = 1678.756000802963\n"
     ]
    }
   ],
   "source": [
    "rmse_cat = rmse(target_valid, predicted_valid_cat)\n",
    "print(\"RMSE модели CatBoost =\", rmse_cat)"
   ]
  },
  {
   "cell_type": "code",
   "execution_count": 51,
   "metadata": {},
   "outputs": [],
   "source": [
    "# добавление результата в итоговую таблицу\n",
    "models = models.append({'model': 'CatBoostRegressor', 'rmse': rmse_cat}, ignore_index=True)"
   ]
  },
  {
   "cell_type": "markdown",
   "metadata": {},
   "source": [
    "<div class='alert alert-success'> ✔️Хорошо, что рассмотрела 4 модели.\n",
    "</div>\n"
   ]
  },
  {
   "cell_type": "markdown",
   "metadata": {},
   "source": [
    "<div class='alert alert-danger'>❌Давай сделаем подбор гиперпараметров для одной модели  \n",
    " с <a href='https://zen.yandex.ru/media/id/5ee6f73b7cadb75a66e4c7e3/chto-razrabotchiku-vajno-znat-o-setochnom-poiske-chtoby-sekonomit-vremia-5ffe9fa8f2385a3dfb80cd4e'> GridSearchCV </a> или <a href='https://zen.yandex.ru/media/id/5ee6f73b7cadb75a66e4c7e3/samyi-prodvinutyi-instrument-dlia-podbora-giperparametrov-modeli-60d2cd6168a7aa40c2b14ac8'> OptunaSearchCV </a> \n",
    "</div>"
   ]
  },
  {
   "cell_type": "markdown",
   "metadata": {},
   "source": [
    "<div class='alert alert-info'> Сделала подбор гиперпараметров для модели дерево с RandomizedSearchCV. Optuna не смогла подключить библиотеку.\n",
    "</div>"
   ]
  },
  {
   "cell_type": "markdown",
   "metadata": {},
   "source": [
    "<div class='alert alert-success'> ✔️✔️OK, ее еще надо установить с pip.\n",
    "</div>"
   ]
  },
  {
   "cell_type": "markdown",
   "metadata": {},
   "source": [
    "## Анализ моделей"
   ]
  },
  {
   "cell_type": "markdown",
   "metadata": {},
   "source": [
    "Выведем общую таблицу по времени работы обучения и предсказаний разных моделей и сравним результаты"
   ]
  },
  {
   "cell_type": "code",
   "execution_count": 60,
   "metadata": {},
   "outputs": [],
   "source": [
    "models['train_time, sec'] = ['0.052', '0.309', '3.08', '2.45']"
   ]
  },
  {
   "cell_type": "code",
   "execution_count": 61,
   "metadata": {},
   "outputs": [],
   "source": [
    "models['predict_time, msec'] = ['3.48', '12.6', '404', '9.34']"
   ]
  },
  {
   "cell_type": "code",
   "execution_count": 62,
   "metadata": {},
   "outputs": [
    {
     "data": {
      "text/html": [
       "<div>\n",
       "<style scoped>\n",
       "    .dataframe tbody tr th:only-of-type {\n",
       "        vertical-align: middle;\n",
       "    }\n",
       "\n",
       "    .dataframe tbody tr th {\n",
       "        vertical-align: top;\n",
       "    }\n",
       "\n",
       "    .dataframe thead th {\n",
       "        text-align: right;\n",
       "    }\n",
       "</style>\n",
       "<table border=\"1\" class=\"dataframe\">\n",
       "  <thead>\n",
       "    <tr style=\"text-align: right;\">\n",
       "      <th></th>\n",
       "      <th>model</th>\n",
       "      <th>rmse</th>\n",
       "      <th>train_time, sec</th>\n",
       "      <th>predict_time, msec</th>\n",
       "    </tr>\n",
       "  </thead>\n",
       "  <tbody>\n",
       "    <tr>\n",
       "      <th>0</th>\n",
       "      <td>LinearRegression</td>\n",
       "      <td>3522.083907</td>\n",
       "      <td>0.052</td>\n",
       "      <td>3.48</td>\n",
       "    </tr>\n",
       "    <tr>\n",
       "      <th>1</th>\n",
       "      <td>DecisionTreeRegressor</td>\n",
       "      <td>1884.649216</td>\n",
       "      <td>0.309</td>\n",
       "      <td>12.6</td>\n",
       "    </tr>\n",
       "    <tr>\n",
       "      <th>2</th>\n",
       "      <td>LGBMRegressor</td>\n",
       "      <td>1689.065334</td>\n",
       "      <td>3.08</td>\n",
       "      <td>404</td>\n",
       "    </tr>\n",
       "    <tr>\n",
       "      <th>3</th>\n",
       "      <td>CatBoostRegressor</td>\n",
       "      <td>1678.756001</td>\n",
       "      <td>2.45</td>\n",
       "      <td>9.34</td>\n",
       "    </tr>\n",
       "  </tbody>\n",
       "</table>\n",
       "</div>"
      ],
      "text/plain": [
       "                   model         rmse train_time, sec predict_time, msec\n",
       "0       LinearRegression  3522.083907           0.052               3.48\n",
       "1  DecisionTreeRegressor  1884.649216           0.309               12.6\n",
       "2          LGBMRegressor  1689.065334            3.08                404\n",
       "3      CatBoostRegressor  1678.756001            2.45               9.34"
      ]
     },
     "execution_count": 62,
     "metadata": {},
     "output_type": "execute_result"
    }
   ],
   "source": [
    "models"
   ]
  },
  {
   "cell_type": "markdown",
   "metadata": {},
   "source": [
    "Наилучший результат метрики RMSE на валидационной выборке показала модель CatBoostRegressor. Проверим эту модель на тестовой выборке. Перед этим создадим новую обучающую выборку, объединив выборки train+valid."
   ]
  },
  {
   "cell_type": "code",
   "execution_count": 55,
   "metadata": {},
   "outputs": [],
   "source": [
    "# объединение двух выборок для заключительного теста\n",
    "features_new = features_train.append(features_valid, ignore_index=True)\n",
    "target_new = target_train.append(target_valid, ignore_index=True)"
   ]
  },
  {
   "cell_type": "code",
   "execution_count": 56,
   "metadata": {},
   "outputs": [],
   "source": [
    "# catboost\n",
    "model = CatBoostRegressor(iterations=100, loss_function=\"RMSE\")"
   ]
  },
  {
   "cell_type": "code",
   "execution_count": 57,
   "metadata": {},
   "outputs": [
    {
     "name": "stdout",
     "output_type": "stream",
     "text": [
      "CPU times: user 2.73 s, sys: 12 ms, total: 2.74 s\n",
      "Wall time: 3.24 s\n"
     ]
    },
    {
     "data": {
      "text/plain": [
       "<catboost.core.CatBoostRegressor at 0x7f0a4ca95550>"
      ]
     },
     "execution_count": 57,
     "metadata": {},
     "output_type": "execute_result"
    }
   ],
   "source": [
    "%%time\n",
    "model.fit(features_new, target_new, verbose=False) "
   ]
  },
  {
   "cell_type": "code",
   "execution_count": 58,
   "metadata": {},
   "outputs": [
    {
     "name": "stdout",
     "output_type": "stream",
     "text": [
      "CPU times: user 10.4 ms, sys: 118 µs, total: 10.5 ms\n",
      "Wall time: 9.43 ms\n"
     ]
    }
   ],
   "source": [
    "%%time\n",
    "predicted = model.predict(features_test)"
   ]
  },
  {
   "cell_type": "code",
   "execution_count": 59,
   "metadata": {},
   "outputs": [
    {
     "name": "stdout",
     "output_type": "stream",
     "text": [
      "RMSE модели CatBoost = 1663.0177682891756\n"
     ]
    }
   ],
   "source": [
    "rmse = rmse(target_test, predicted)\n",
    "print(\"RMSE модели CatBoost =\", rmse)"
   ]
  },
  {
   "cell_type": "markdown",
   "metadata": {},
   "source": [
    "На тестовой выборке получили такие же результаты, как и на валидационной."
   ]
  },
  {
   "cell_type": "markdown",
   "metadata": {},
   "source": [
    "<div class='alert alert-danger'>❌Хорошо, аккуратная выводная статистика. Давай здесь проведем финальное тестирование лучшей модели на еще не использованной выборке (писал выше). При этом не забудь, что перед тестированием лучше обучить модель на train+valid.\n",
    "</div>"
   ]
  },
  {
   "cell_type": "markdown",
   "metadata": {},
   "source": [
    "<div class='alert alert-success'> ✔️✔️Браво, лихо все исправляешь.\n",
    "</div>"
   ]
  },
  {
   "cell_type": "markdown",
   "metadata": {},
   "source": [
    "### Вывод \n"
   ]
  },
  {
   "cell_type": "markdown",
   "metadata": {},
   "source": [
    "\n",
    "Модели градиентного бустинга показали результаты лучше, чем модели линейной регрессии и дерева решений. Быстрее всего обучается модель линейной регрессии, но ее точность оставляет желать лучшего. LGBMRegressor показала второй результат по точности, но время обучения и предсказания слишком долгое.\n",
    "\n",
    "Самую лучшую метрику RMSE показала модель CatBoostRegressor, также время предсказания у неё в разы меньше, чем у LGBMRegressor.\n"
   ]
  },
  {
   "cell_type": "markdown",
   "metadata": {},
   "source": [
    "<div class='alert alert-info'>🏁 Проделана большая и качественная работа! Исследовала и предобработала признаки, рассмотрел 3 модели, корректно засекла время тренировки и предсказания. Осталось изменить кодирование, разобраться с выборками, сделать подбор гиперпараметров для одной модели, финальное тестирование и дать обратную связь по выделенным ячейкам.\n",
    "\n",
    "\n",
    "\n",
    "\n",
    "</div>"
   ]
  },
  {
   "cell_type": "markdown",
   "metadata": {},
   "source": [
    "<div class='alert alert-info'> <strong>Ревьюер</strong> <br>\n",
    "Задача успешно решена! Удачи и интересных проектов впереди!👌\n",
    "\n",
    "</div>\n"
   ]
  },
  {
   "cell_type": "markdown",
   "metadata": {},
   "source": [
    "## Чек-лист проверки"
   ]
  },
  {
   "cell_type": "markdown",
   "metadata": {},
   "source": [
    "Поставьте 'x' в выполненных пунктах. Далее нажмите Shift+Enter."
   ]
  },
  {
   "cell_type": "markdown",
   "metadata": {},
   "source": [
    "- [x]  Jupyter Notebook открыт\n",
    "- [ ]  Весь код выполняется без ошибок\n",
    "- [ ]  Ячейки с кодом расположены в порядке исполнения\n",
    "- [ ]  Выполнена загрузка и подготовка данных\n",
    "- [ ]  Выполнено обучение моделей\n",
    "- [ ]  Есть анализ скорости работы и качества моделей"
   ]
  },
  {
   "cell_type": "code",
   "execution_count": null,
   "metadata": {},
   "outputs": [],
   "source": []
  }
 ],
 "metadata": {
  "ExecuteTimeLog": [
   {
    "duration": 1558,
    "start_time": "2022-07-24T14:39:13.216Z"
   },
   {
    "duration": 1078,
    "start_time": "2022-07-24T14:39:14.777Z"
   },
   {
    "duration": 17,
    "start_time": "2022-07-24T14:39:16.693Z"
   },
   {
    "duration": 127,
    "start_time": "2022-07-24T14:40:48.458Z"
   },
   {
    "duration": 1564,
    "start_time": "2022-08-01T00:19:37.899Z"
   },
   {
    "duration": 1010,
    "start_time": "2022-08-01T00:19:40.381Z"
   },
   {
    "duration": 18,
    "start_time": "2022-08-01T00:19:41.732Z"
   },
   {
    "duration": 98,
    "start_time": "2022-08-01T00:19:44.221Z"
   },
   {
    "duration": 407,
    "start_time": "2022-08-01T00:19:46.579Z"
   },
   {
    "duration": 859,
    "start_time": "2022-08-01T00:20:46.009Z"
   },
   {
    "duration": 46,
    "start_time": "2022-08-01T00:20:57.594Z"
   },
   {
    "duration": 159,
    "start_time": "2022-08-01T00:22:07.456Z"
   },
   {
    "duration": 23,
    "start_time": "2022-08-01T00:22:23.396Z"
   },
   {
    "duration": 31,
    "start_time": "2022-08-01T00:23:36.227Z"
   },
   {
    "duration": 64,
    "start_time": "2022-08-01T00:23:57.085Z"
   },
   {
    "duration": 61,
    "start_time": "2022-08-01T00:24:00.905Z"
   },
   {
    "duration": 52,
    "start_time": "2022-08-01T00:24:25.932Z"
   },
   {
    "duration": 27,
    "start_time": "2022-08-01T00:24:28.061Z"
   },
   {
    "duration": 18,
    "start_time": "2022-08-01T00:24:34.291Z"
   },
   {
    "duration": 9,
    "start_time": "2022-08-01T00:24:48.616Z"
   },
   {
    "duration": 63,
    "start_time": "2022-08-01T00:25:51.727Z"
   },
   {
    "duration": 530,
    "start_time": "2022-08-01T00:26:08.606Z"
   },
   {
    "duration": 18,
    "start_time": "2022-08-01T00:26:17.954Z"
   },
   {
    "duration": 38,
    "start_time": "2022-08-01T00:26:30.707Z"
   },
   {
    "duration": 9,
    "start_time": "2022-08-01T00:31:20.538Z"
   },
   {
    "duration": 47,
    "start_time": "2022-08-01T00:31:25.646Z"
   },
   {
    "duration": 63,
    "start_time": "2022-08-01T00:32:39.824Z"
   },
   {
    "duration": 13,
    "start_time": "2022-08-01T00:33:02.012Z"
   },
   {
    "duration": 3,
    "start_time": "2022-08-01T00:33:09.688Z"
   },
   {
    "duration": 5,
    "start_time": "2022-08-01T00:33:13.559Z"
   },
   {
    "duration": 3171,
    "start_time": "2022-08-01T14:29:16.277Z"
   },
   {
    "duration": 2169,
    "start_time": "2022-08-01T14:29:19.450Z"
   },
   {
    "duration": 2325,
    "start_time": "2022-08-01T14:29:21.621Z"
   },
   {
    "duration": 38,
    "start_time": "2022-08-01T14:29:23.948Z"
   },
   {
    "duration": 282,
    "start_time": "2022-08-01T14:29:23.997Z"
   },
   {
    "duration": 664,
    "start_time": "2022-08-01T14:29:24.284Z"
   },
   {
    "duration": 1320,
    "start_time": "2022-08-01T14:29:24.950Z"
   },
   {
    "duration": 56,
    "start_time": "2022-08-01T14:29:28.530Z"
   },
   {
    "duration": 270,
    "start_time": "2022-08-01T14:29:38.142Z"
   },
   {
    "duration": 260,
    "start_time": "2022-08-01T15:04:03.480Z"
   },
   {
    "duration": 231,
    "start_time": "2022-08-01T15:04:17.320Z"
   },
   {
    "duration": 47,
    "start_time": "2022-08-01T15:05:42.847Z"
   },
   {
    "duration": 72,
    "start_time": "2022-08-01T15:05:56.312Z"
   },
   {
    "duration": 273,
    "start_time": "2022-08-01T15:06:27.535Z"
   },
   {
    "duration": 311,
    "start_time": "2022-08-01T15:10:24.989Z"
   },
   {
    "duration": 2500,
    "start_time": "2022-08-01T15:10:58.384Z"
   },
   {
    "duration": 6,
    "start_time": "2022-08-01T15:11:00.886Z"
   },
   {
    "duration": 1088,
    "start_time": "2022-08-01T15:11:00.894Z"
   },
   {
    "duration": 26,
    "start_time": "2022-08-01T15:11:01.990Z"
   },
   {
    "duration": 253,
    "start_time": "2022-08-01T15:11:02.018Z"
   },
   {
    "duration": 570,
    "start_time": "2022-08-01T15:11:02.273Z"
   },
   {
    "duration": 521,
    "start_time": "2022-08-01T15:11:07.289Z"
   },
   {
    "duration": 538,
    "start_time": "2022-08-01T15:11:18.303Z"
   },
   {
    "duration": 19,
    "start_time": "2022-08-01T15:22:01.995Z"
   },
   {
    "duration": 638,
    "start_time": "2022-08-01T15:27:21.141Z"
   },
   {
    "duration": 500,
    "start_time": "2022-08-01T15:29:40.529Z"
   },
   {
    "duration": 2558,
    "start_time": "2022-08-01T15:29:52.203Z"
   },
   {
    "duration": 13,
    "start_time": "2022-08-01T15:29:54.765Z"
   },
   {
    "duration": 1042,
    "start_time": "2022-08-01T15:29:54.781Z"
   },
   {
    "duration": 22,
    "start_time": "2022-08-01T15:29:55.832Z"
   },
   {
    "duration": 219,
    "start_time": "2022-08-01T15:29:55.856Z"
   },
   {
    "duration": 590,
    "start_time": "2022-08-01T15:29:56.079Z"
   },
   {
    "duration": 1152,
    "start_time": "2022-08-01T15:30:00.888Z"
   },
   {
    "duration": 52,
    "start_time": "2022-08-01T15:30:02.784Z"
   },
   {
    "duration": 271,
    "start_time": "2022-08-01T15:30:09.613Z"
   },
   {
    "duration": 440,
    "start_time": "2022-08-01T15:31:01.509Z"
   },
   {
    "duration": 1599,
    "start_time": "2022-08-01T15:31:40.923Z"
   },
   {
    "duration": 23,
    "start_time": "2022-08-01T15:31:57.078Z"
   },
   {
    "duration": 22,
    "start_time": "2022-08-01T15:34:40.895Z"
   },
   {
    "duration": 19,
    "start_time": "2022-08-01T15:41:07.520Z"
   },
   {
    "duration": 20,
    "start_time": "2022-08-01T15:41:44.339Z"
   },
   {
    "duration": 2504,
    "start_time": "2022-08-01T15:42:17.896Z"
   },
   {
    "duration": 5,
    "start_time": "2022-08-01T15:42:20.403Z"
   },
   {
    "duration": 985,
    "start_time": "2022-08-01T15:42:20.410Z"
   },
   {
    "duration": 15,
    "start_time": "2022-08-01T15:42:21.401Z"
   },
   {
    "duration": 176,
    "start_time": "2022-08-01T15:42:21.418Z"
   },
   {
    "duration": 489,
    "start_time": "2022-08-01T15:42:21.596Z"
   },
   {
    "duration": 1055,
    "start_time": "2022-08-01T15:42:22.086Z"
   },
   {
    "duration": 41,
    "start_time": "2022-08-01T15:42:23.143Z"
   },
   {
    "duration": 433,
    "start_time": "2022-08-01T15:42:23.186Z"
   },
   {
    "duration": 1757,
    "start_time": "2022-08-01T15:42:24.442Z"
   },
   {
    "duration": 19,
    "start_time": "2022-08-01T15:42:28.134Z"
   },
   {
    "duration": 2491,
    "start_time": "2022-08-01T15:42:37.059Z"
   },
   {
    "duration": 5,
    "start_time": "2022-08-01T15:42:39.553Z"
   },
   {
    "duration": 939,
    "start_time": "2022-08-01T15:42:39.559Z"
   },
   {
    "duration": 15,
    "start_time": "2022-08-01T15:42:40.501Z"
   },
   {
    "duration": 190,
    "start_time": "2022-08-01T15:42:40.518Z"
   },
   {
    "duration": 509,
    "start_time": "2022-08-01T15:42:40.710Z"
   },
   {
    "duration": 1030,
    "start_time": "2022-08-01T15:42:41.221Z"
   },
   {
    "duration": 55,
    "start_time": "2022-08-01T15:42:42.253Z"
   },
   {
    "duration": 32,
    "start_time": "2022-08-01T15:43:06.380Z"
   },
   {
    "duration": 5,
    "start_time": "2022-08-01T15:43:13.436Z"
   },
   {
    "duration": 888,
    "start_time": "2022-08-01T15:43:13.886Z"
   },
   {
    "duration": 18,
    "start_time": "2022-08-01T15:43:14.782Z"
   },
   {
    "duration": 190,
    "start_time": "2022-08-01T15:43:14.802Z"
   },
   {
    "duration": 488,
    "start_time": "2022-08-01T15:43:15.830Z"
   },
   {
    "duration": 966,
    "start_time": "2022-08-01T15:43:17.925Z"
   },
   {
    "duration": 111,
    "start_time": "2022-08-01T15:43:18.992Z"
   },
   {
    "duration": 633,
    "start_time": "2022-08-01T15:45:26.900Z"
   },
   {
    "duration": 125,
    "start_time": "2022-08-01T15:45:47.894Z"
   },
   {
    "duration": 783,
    "start_time": "2022-08-01T15:46:06.295Z"
   },
   {
    "duration": 30,
    "start_time": "2022-08-01T15:48:00.025Z"
   },
   {
    "duration": 10,
    "start_time": "2022-08-01T15:53:55.192Z"
   },
   {
    "duration": 125,
    "start_time": "2022-08-01T15:53:56.387Z"
   },
   {
    "duration": 26,
    "start_time": "2022-08-01T15:54:02.677Z"
   },
   {
    "duration": 2391,
    "start_time": "2022-08-01T15:54:23.559Z"
   },
   {
    "duration": 5,
    "start_time": "2022-08-01T15:54:25.953Z"
   },
   {
    "duration": 993,
    "start_time": "2022-08-01T15:54:25.962Z"
   },
   {
    "duration": 24,
    "start_time": "2022-08-01T15:54:26.957Z"
   },
   {
    "duration": 150,
    "start_time": "2022-08-01T15:54:26.983Z"
   },
   {
    "duration": 440,
    "start_time": "2022-08-01T15:54:27.135Z"
   },
   {
    "duration": 866,
    "start_time": "2022-08-01T15:54:28.806Z"
   },
   {
    "duration": 32,
    "start_time": "2022-08-01T15:54:29.678Z"
   },
   {
    "duration": 351,
    "start_time": "2022-08-01T15:54:31.175Z"
   },
   {
    "duration": 1269,
    "start_time": "2022-08-01T15:54:33.577Z"
   },
   {
    "duration": 19,
    "start_time": "2022-08-01T15:54:34.876Z"
   },
   {
    "duration": 31,
    "start_time": "2022-08-01T15:54:42.437Z"
   },
   {
    "duration": 85,
    "start_time": "2022-08-01T15:54:49.520Z"
   },
   {
    "duration": 70,
    "start_time": "2022-08-01T15:55:00.752Z"
   },
   {
    "duration": 64,
    "start_time": "2022-08-01T15:55:02.374Z"
   },
   {
    "duration": 49,
    "start_time": "2022-08-01T15:55:04.978Z"
   },
   {
    "duration": 29,
    "start_time": "2022-08-01T15:55:08.427Z"
   },
   {
    "duration": 14,
    "start_time": "2022-08-01T15:55:10.121Z"
   },
   {
    "duration": 75,
    "start_time": "2022-08-01T15:55:17.370Z"
   },
   {
    "duration": 548,
    "start_time": "2022-08-01T15:55:30.548Z"
   },
   {
    "duration": 15,
    "start_time": "2022-08-01T16:01:45.833Z"
   },
   {
    "duration": 8,
    "start_time": "2022-08-01T18:56:11.860Z"
   },
   {
    "duration": 60,
    "start_time": "2022-08-01T18:56:13.624Z"
   },
   {
    "duration": 2311,
    "start_time": "2022-08-01T18:56:19.817Z"
   },
   {
    "duration": 1628,
    "start_time": "2022-08-01T18:56:22.130Z"
   },
   {
    "duration": 1096,
    "start_time": "2022-08-01T18:56:23.759Z"
   },
   {
    "duration": 19,
    "start_time": "2022-08-01T18:56:24.858Z"
   },
   {
    "duration": 128,
    "start_time": "2022-08-01T18:56:24.878Z"
   },
   {
    "duration": 439,
    "start_time": "2022-08-01T18:56:25.008Z"
   },
   {
    "duration": 884,
    "start_time": "2022-08-01T18:56:25.448Z"
   },
   {
    "duration": 44,
    "start_time": "2022-08-01T18:56:26.334Z"
   },
   {
    "duration": 344,
    "start_time": "2022-08-01T18:56:30.007Z"
   },
   {
    "duration": 1139,
    "start_time": "2022-08-01T18:56:34.258Z"
   },
   {
    "duration": 19,
    "start_time": "2022-08-01T18:56:35.404Z"
   },
   {
    "duration": 30,
    "start_time": "2022-08-01T18:56:37.946Z"
   },
   {
    "duration": 48,
    "start_time": "2022-08-01T18:56:41.746Z"
   },
   {
    "duration": 57,
    "start_time": "2022-08-01T18:56:45.011Z"
   },
   {
    "duration": 49,
    "start_time": "2022-08-01T18:56:46.150Z"
   },
   {
    "duration": 22,
    "start_time": "2022-08-01T18:56:48.147Z"
   },
   {
    "duration": 19,
    "start_time": "2022-08-01T18:56:50.747Z"
   },
   {
    "duration": 9,
    "start_time": "2022-08-01T18:56:52.265Z"
   },
   {
    "duration": 69,
    "start_time": "2022-08-01T18:56:54.615Z"
   },
   {
    "duration": 2,
    "start_time": "2022-08-01T18:57:00.500Z"
   },
   {
    "duration": 399,
    "start_time": "2022-08-01T18:57:01.350Z"
   },
   {
    "duration": 9,
    "start_time": "2022-08-01T18:57:19.463Z"
   },
   {
    "duration": 369,
    "start_time": "2022-08-01T19:00:11.013Z"
   },
   {
    "duration": 19,
    "start_time": "2022-08-01T19:00:12.764Z"
   },
   {
    "duration": 584,
    "start_time": "2022-08-01T19:07:03.308Z"
   },
   {
    "duration": 503,
    "start_time": "2022-08-01T19:07:33.886Z"
   },
   {
    "duration": 475,
    "start_time": "2022-08-01T19:08:00.251Z"
   },
   {
    "duration": 17,
    "start_time": "2022-08-01T19:09:59.665Z"
   },
   {
    "duration": 3,
    "start_time": "2022-08-01T19:10:43.094Z"
   },
   {
    "duration": 14,
    "start_time": "2022-08-01T19:10:44.064Z"
   },
   {
    "duration": 471,
    "start_time": "2022-08-01T19:11:24.255Z"
   },
   {
    "duration": 654,
    "start_time": "2022-08-01T19:11:26.167Z"
   },
   {
    "duration": 675,
    "start_time": "2022-08-01T19:11:51.169Z"
   },
   {
    "duration": 636,
    "start_time": "2022-08-01T19:11:59.391Z"
   },
   {
    "duration": 610,
    "start_time": "2022-08-01T19:12:05.639Z"
   },
   {
    "duration": 3,
    "start_time": "2022-08-01T19:12:23.903Z"
   },
   {
    "duration": 676,
    "start_time": "2022-08-01T19:12:24.606Z"
   },
   {
    "duration": 631,
    "start_time": "2022-08-01T19:13:16.091Z"
   },
   {
    "duration": 13,
    "start_time": "2022-08-01T19:15:55.515Z"
   },
   {
    "duration": 367,
    "start_time": "2022-08-01T19:17:32.627Z"
   },
   {
    "duration": 3,
    "start_time": "2022-08-01T19:17:50.096Z"
   },
   {
    "duration": 372,
    "start_time": "2022-08-01T19:17:50.609Z"
   },
   {
    "duration": 688,
    "start_time": "2022-08-01T19:18:37.168Z"
   },
   {
    "duration": 17,
    "start_time": "2022-08-01T19:19:04.228Z"
   },
   {
    "duration": 27,
    "start_time": "2022-08-01T19:19:48.791Z"
   },
   {
    "duration": 43,
    "start_time": "2022-08-01T19:33:00.874Z"
   },
   {
    "duration": 37,
    "start_time": "2022-08-01T19:33:06.987Z"
   },
   {
    "duration": 44,
    "start_time": "2022-08-01T19:33:11.094Z"
   },
   {
    "duration": 33,
    "start_time": "2022-08-01T19:33:18.266Z"
   },
   {
    "duration": 84,
    "start_time": "2022-08-01T19:36:02.935Z"
   },
   {
    "duration": 15,
    "start_time": "2022-08-01T19:36:08.791Z"
   },
   {
    "duration": 11,
    "start_time": "2022-08-01T19:37:02.875Z"
   },
   {
    "duration": 3,
    "start_time": "2022-08-01T19:37:14.160Z"
   },
   {
    "duration": 4,
    "start_time": "2022-08-01T19:37:14.954Z"
   },
   {
    "duration": 51,
    "start_time": "2022-08-01T19:37:27.265Z"
   },
   {
    "duration": 2,
    "start_time": "2022-08-01T19:37:31.235Z"
   },
   {
    "duration": 68,
    "start_time": "2022-08-01T19:37:31.967Z"
   },
   {
    "duration": 9,
    "start_time": "2022-08-01T19:37:40.888Z"
   },
   {
    "duration": 9,
    "start_time": "2022-08-01T19:37:52.218Z"
   },
   {
    "duration": 4,
    "start_time": "2022-08-01T19:38:00.134Z"
   },
   {
    "duration": 4,
    "start_time": "2022-08-01T19:38:34.450Z"
   },
   {
    "duration": 6,
    "start_time": "2022-08-01T19:38:41.409Z"
   },
   {
    "duration": 3,
    "start_time": "2022-08-01T19:38:45.656Z"
   },
   {
    "duration": 512,
    "start_time": "2022-08-01T19:38:53.154Z"
   },
   {
    "duration": 27,
    "start_time": "2022-08-01T19:39:00.807Z"
   },
   {
    "duration": 5,
    "start_time": "2022-08-01T19:39:10.054Z"
   },
   {
    "duration": 5,
    "start_time": "2022-08-01T19:39:18.925Z"
   },
   {
    "duration": 3,
    "start_time": "2022-08-01T19:39:23.875Z"
   },
   {
    "duration": 2,
    "start_time": "2022-08-01T19:39:25.018Z"
   },
   {
    "duration": 189821,
    "start_time": "2022-08-01T19:39:33.731Z"
   },
   {
    "duration": 597,
    "start_time": "2022-08-01T19:42:43.554Z"
   },
   {
    "duration": 5,
    "start_time": "2022-08-01T19:42:44.153Z"
   },
   {
    "duration": 7,
    "start_time": "2022-08-01T19:42:44.159Z"
   },
   {
    "duration": 72,
    "start_time": "2022-08-01T19:42:44.168Z"
   },
   {
    "duration": 49,
    "start_time": "2022-08-01T19:42:44.241Z"
   },
   {
    "duration": 7,
    "start_time": "2022-08-01T19:42:44.292Z"
   },
   {
    "duration": 0,
    "start_time": "2022-08-01T19:42:44.301Z"
   },
   {
    "duration": 3,
    "start_time": "2022-08-01T19:50:12.655Z"
   },
   {
    "duration": 3050,
    "start_time": "2022-08-01T19:50:14.056Z"
   },
   {
    "duration": 17,
    "start_time": "2022-08-01T19:50:18.536Z"
   },
   {
    "duration": 3,
    "start_time": "2022-08-01T19:50:41.573Z"
   },
   {
    "duration": 9,
    "start_time": "2022-08-01T19:54:25.008Z"
   },
   {
    "duration": 4,
    "start_time": "2022-08-01T19:59:50.514Z"
   },
   {
    "duration": 2,
    "start_time": "2022-08-01T20:08:13.491Z"
   },
   {
    "duration": 57,
    "start_time": "2022-08-01T20:08:14.572Z"
   },
   {
    "duration": 17,
    "start_time": "2022-08-01T20:08:40.331Z"
   },
   {
    "duration": 9,
    "start_time": "2022-08-01T20:09:23.667Z"
   },
   {
    "duration": 3,
    "start_time": "2022-08-01T20:09:47.146Z"
   },
   {
    "duration": 9,
    "start_time": "2022-08-01T20:09:49.608Z"
   },
   {
    "duration": 3478,
    "start_time": "2022-08-01T20:10:12.093Z"
   },
   {
    "duration": 3247,
    "start_time": "2022-08-01T20:10:37.146Z"
   },
   {
    "duration": 3,
    "start_time": "2022-08-01T21:32:00.653Z"
   },
   {
    "duration": 5685,
    "start_time": "2022-08-01T21:32:01.380Z"
   },
   {
    "duration": 3,
    "start_time": "2022-08-01T21:33:16.796Z"
   },
   {
    "duration": 337,
    "start_time": "2022-08-01T21:33:24.154Z"
   },
   {
    "duration": 13,
    "start_time": "2022-08-01T21:34:21.061Z"
   },
   {
    "duration": 4,
    "start_time": "2022-08-01T21:34:53.359Z"
   },
   {
    "duration": 3,
    "start_time": "2022-08-01T21:35:24.646Z"
   },
   {
    "duration": 3,
    "start_time": "2022-08-01T21:35:25.548Z"
   },
   {
    "duration": 4480,
    "start_time": "2022-08-01T21:35:26.439Z"
   },
   {
    "duration": 3,
    "start_time": "2022-08-01T21:36:28.411Z"
   },
   {
    "duration": 314,
    "start_time": "2022-08-01T21:36:47.727Z"
   },
   {
    "duration": 11,
    "start_time": "2022-08-01T21:37:21.648Z"
   },
   {
    "duration": 4,
    "start_time": "2022-08-01T21:37:52.887Z"
   },
   {
    "duration": 5,
    "start_time": "2022-08-01T21:39:14.367Z"
   },
   {
    "duration": 2,
    "start_time": "2022-08-01T21:39:15.431Z"
   },
   {
    "duration": 2,
    "start_time": "2022-08-01T21:39:18.338Z"
   },
   {
    "duration": 3588,
    "start_time": "2022-08-01T21:39:19.947Z"
   },
   {
    "duration": 384,
    "start_time": "2022-08-01T21:39:36.661Z"
   },
   {
    "duration": 4,
    "start_time": "2022-08-01T21:39:52.461Z"
   },
   {
    "duration": 5,
    "start_time": "2022-08-01T21:39:56.102Z"
   },
   {
    "duration": 2,
    "start_time": "2022-08-01T21:39:58.850Z"
   },
   {
    "duration": 2781,
    "start_time": "2022-08-01T21:39:59.980Z"
   },
   {
    "duration": 12,
    "start_time": "2022-08-01T21:40:02.763Z"
   },
   {
    "duration": 4,
    "start_time": "2022-08-01T21:40:02.776Z"
   },
   {
    "duration": 5,
    "start_time": "2022-08-01T21:40:17.928Z"
   },
   {
    "duration": 12,
    "start_time": "2022-08-01T21:45:04.896Z"
   },
   {
    "duration": 1991,
    "start_time": "2022-08-01T21:45:21.727Z"
   },
   {
    "duration": 4,
    "start_time": "2022-08-01T21:45:23.720Z"
   },
   {
    "duration": 731,
    "start_time": "2022-08-01T21:45:23.726Z"
   },
   {
    "duration": 15,
    "start_time": "2022-08-01T21:45:24.458Z"
   },
   {
    "duration": 116,
    "start_time": "2022-08-01T21:45:24.475Z"
   },
   {
    "duration": 361,
    "start_time": "2022-08-01T21:45:24.593Z"
   },
   {
    "duration": 734,
    "start_time": "2022-08-01T21:45:24.956Z"
   },
   {
    "duration": 32,
    "start_time": "2022-08-01T21:45:25.692Z"
   },
   {
    "duration": 288,
    "start_time": "2022-08-01T21:45:25.734Z"
   },
   {
    "duration": 1066,
    "start_time": "2022-08-01T21:45:27.361Z"
   },
   {
    "duration": 20,
    "start_time": "2022-08-01T21:45:28.435Z"
   },
   {
    "duration": 28,
    "start_time": "2022-08-01T21:45:29.921Z"
   },
   {
    "duration": 50,
    "start_time": "2022-08-01T21:45:30.943Z"
   },
   {
    "duration": 49,
    "start_time": "2022-08-01T21:45:31.896Z"
   },
   {
    "duration": 51,
    "start_time": "2022-08-01T21:45:32.634Z"
   },
   {
    "duration": 22,
    "start_time": "2022-08-01T21:45:33.384Z"
   },
   {
    "duration": 20,
    "start_time": "2022-08-01T21:45:34.038Z"
   },
   {
    "duration": 9,
    "start_time": "2022-08-01T21:45:34.940Z"
   },
   {
    "duration": 60,
    "start_time": "2022-08-01T21:45:35.618Z"
   },
   {
    "duration": 2,
    "start_time": "2022-08-01T21:45:36.888Z"
   },
   {
    "duration": 645,
    "start_time": "2022-08-01T21:45:37.235Z"
   },
   {
    "duration": 11,
    "start_time": "2022-08-01T21:45:39.852Z"
   },
   {
    "duration": 34,
    "start_time": "2022-08-01T21:45:40.373Z"
   },
   {
    "duration": 81,
    "start_time": "2022-08-01T21:45:41.981Z"
   },
   {
    "duration": 11,
    "start_time": "2022-08-01T21:45:42.400Z"
   },
   {
    "duration": 3,
    "start_time": "2022-08-01T21:45:42.828Z"
   },
   {
    "duration": 4,
    "start_time": "2022-08-01T21:45:43.210Z"
   },
   {
    "duration": 3,
    "start_time": "2022-08-01T21:45:43.832Z"
   },
   {
    "duration": 86,
    "start_time": "2022-08-01T21:45:44.152Z"
   },
   {
    "duration": 10,
    "start_time": "2022-08-01T21:45:45.002Z"
   },
   {
    "duration": 3,
    "start_time": "2022-08-01T21:46:29.029Z"
   },
   {
    "duration": 5,
    "start_time": "2022-08-01T21:46:31.944Z"
   },
   {
    "duration": 3,
    "start_time": "2022-08-01T21:46:33.816Z"
   },
   {
    "duration": 3,
    "start_time": "2022-08-01T21:46:34.443Z"
   },
   {
    "duration": 4356,
    "start_time": "2022-08-01T21:46:34.890Z"
   },
   {
    "duration": 2,
    "start_time": "2022-08-01T21:46:39.248Z"
   },
   {
    "duration": 319,
    "start_time": "2022-08-01T21:46:39.251Z"
   },
   {
    "duration": 11,
    "start_time": "2022-08-01T21:46:39.572Z"
   },
   {
    "duration": 3,
    "start_time": "2022-08-01T21:46:48.911Z"
   },
   {
    "duration": 5,
    "start_time": "2022-08-01T21:46:51.806Z"
   },
   {
    "duration": 3,
    "start_time": "2022-08-01T21:47:41.538Z"
   },
   {
    "duration": 2,
    "start_time": "2022-08-01T21:47:41.958Z"
   },
   {
    "duration": 3379,
    "start_time": "2022-08-01T21:47:42.456Z"
   },
   {
    "duration": 498,
    "start_time": "2022-08-01T21:47:45.836Z"
   },
   {
    "duration": 4,
    "start_time": "2022-08-01T21:47:46.336Z"
   },
   {
    "duration": 5,
    "start_time": "2022-08-01T21:47:54.565Z"
   },
   {
    "duration": 2,
    "start_time": "2022-08-01T21:48:16.615Z"
   },
   {
    "duration": 2456,
    "start_time": "2022-08-01T21:48:16.889Z"
   },
   {
    "duration": 12,
    "start_time": "2022-08-01T21:48:19.347Z"
   },
   {
    "duration": 4,
    "start_time": "2022-08-01T21:48:19.360Z"
   },
   {
    "duration": 9,
    "start_time": "2022-08-01T21:48:19.366Z"
   },
   {
    "duration": 3,
    "start_time": "2022-08-01T21:48:42.399Z"
   },
   {
    "duration": 3,
    "start_time": "2022-08-01T21:48:43.331Z"
   },
   {
    "duration": 7,
    "start_time": "2022-08-01T21:48:43.854Z"
   },
   {
    "duration": 17,
    "start_time": "2022-08-01T22:00:46.570Z"
   },
   {
    "duration": 10,
    "start_time": "2022-08-01T22:02:42.902Z"
   },
   {
    "duration": 2,
    "start_time": "2022-08-01T22:04:21.315Z"
   },
   {
    "duration": 43,
    "start_time": "2022-08-01T22:05:03.978Z"
   },
   {
    "duration": 7,
    "start_time": "2022-08-01T22:07:20.703Z"
   },
   {
    "duration": 4,
    "start_time": "2022-08-01T22:08:07.146Z"
   },
   {
    "duration": 2,
    "start_time": "2022-08-01T22:10:08.427Z"
   },
   {
    "duration": 3,
    "start_time": "2022-08-01T22:10:20.234Z"
   },
   {
    "duration": 3330,
    "start_time": "2022-08-01T22:11:02.229Z"
   },
   {
    "duration": 36,
    "start_time": "2022-08-01T22:12:44.754Z"
   },
   {
    "duration": 3,
    "start_time": "2022-08-01T22:13:13.147Z"
   },
   {
    "duration": 33,
    "start_time": "2022-08-01T22:13:13.575Z"
   },
   {
    "duration": 7,
    "start_time": "2022-08-01T22:13:14.486Z"
   },
   {
    "duration": 4,
    "start_time": "2022-08-01T22:13:15.658Z"
   },
   {
    "duration": 3,
    "start_time": "2022-08-01T22:13:21.945Z"
   },
   {
    "duration": 3333,
    "start_time": "2022-08-01T22:13:23.743Z"
   },
   {
    "duration": 13,
    "start_time": "2022-08-01T22:13:34.561Z"
   },
   {
    "duration": 4,
    "start_time": "2022-08-01T22:14:24.959Z"
   },
   {
    "duration": 7,
    "start_time": "2022-08-01T22:19:37.337Z"
   },
   {
    "duration": 38,
    "start_time": "2022-08-01T22:19:48.343Z"
   },
   {
    "duration": 8,
    "start_time": "2022-08-01T22:19:59.076Z"
   },
   {
    "duration": 9,
    "start_time": "2022-08-01T22:21:09.608Z"
   },
   {
    "duration": 3334,
    "start_time": "2022-08-01T22:22:04.390Z"
   },
   {
    "duration": 12,
    "start_time": "2022-08-01T22:22:15.803Z"
   },
   {
    "duration": 8,
    "start_time": "2022-08-01T22:22:29.926Z"
   },
   {
    "duration": 2071,
    "start_time": "2022-08-01T22:24:48.107Z"
   },
   {
    "duration": 4,
    "start_time": "2022-08-01T22:24:50.181Z"
   },
   {
    "duration": 686,
    "start_time": "2022-08-01T22:24:50.186Z"
   },
   {
    "duration": 13,
    "start_time": "2022-08-01T22:24:50.874Z"
   },
   {
    "duration": 113,
    "start_time": "2022-08-01T22:24:50.889Z"
   },
   {
    "duration": 348,
    "start_time": "2022-08-01T22:24:51.003Z"
   },
   {
    "duration": 725,
    "start_time": "2022-08-01T22:24:51.352Z"
   },
   {
    "duration": 32,
    "start_time": "2022-08-01T22:24:52.078Z"
   },
   {
    "duration": 295,
    "start_time": "2022-08-01T22:24:52.111Z"
   },
   {
    "duration": 1049,
    "start_time": "2022-08-01T22:24:52.408Z"
   },
   {
    "duration": 19,
    "start_time": "2022-08-01T22:24:53.458Z"
   },
   {
    "duration": 27,
    "start_time": "2022-08-01T22:24:53.480Z"
   },
   {
    "duration": 61,
    "start_time": "2022-08-01T22:24:53.509Z"
   },
   {
    "duration": 48,
    "start_time": "2022-08-01T22:24:53.571Z"
   },
   {
    "duration": 51,
    "start_time": "2022-08-01T22:24:53.635Z"
   },
   {
    "duration": 22,
    "start_time": "2022-08-01T22:24:53.687Z"
   },
   {
    "duration": 32,
    "start_time": "2022-08-01T22:24:53.710Z"
   },
   {
    "duration": 7,
    "start_time": "2022-08-01T22:24:53.744Z"
   },
   {
    "duration": 65,
    "start_time": "2022-08-01T22:24:53.999Z"
   },
   {
    "duration": 2,
    "start_time": "2022-08-01T22:24:54.736Z"
   },
   {
    "duration": 638,
    "start_time": "2022-08-01T22:24:54.923Z"
   },
   {
    "duration": 10,
    "start_time": "2022-08-01T22:24:55.819Z"
   },
   {
    "duration": 35,
    "start_time": "2022-08-01T22:24:56.051Z"
   },
   {
    "duration": 92,
    "start_time": "2022-08-01T22:24:57.092Z"
   },
   {
    "duration": 11,
    "start_time": "2022-08-01T22:24:58.196Z"
   },
   {
    "duration": 3,
    "start_time": "2022-08-01T22:24:58.955Z"
   },
   {
    "duration": 4,
    "start_time": "2022-08-01T22:24:59.416Z"
   },
   {
    "duration": 2,
    "start_time": "2022-08-01T22:25:00.089Z"
   },
   {
    "duration": 39,
    "start_time": "2022-08-01T22:25:00.307Z"
   },
   {
    "duration": 13,
    "start_time": "2022-08-01T22:25:00.585Z"
   },
   {
    "duration": 4,
    "start_time": "2022-08-01T22:25:01.336Z"
   },
   {
    "duration": 5,
    "start_time": "2022-08-01T22:25:01.803Z"
   },
   {
    "duration": 2,
    "start_time": "2022-08-01T22:25:02.616Z"
   },
   {
    "duration": 3,
    "start_time": "2022-08-01T22:25:02.843Z"
   },
   {
    "duration": 4794,
    "start_time": "2022-08-01T22:25:03.164Z"
   },
   {
    "duration": 2,
    "start_time": "2022-08-01T22:25:07.960Z"
   },
   {
    "duration": 319,
    "start_time": "2022-08-01T22:25:07.964Z"
   },
   {
    "duration": 10,
    "start_time": "2022-08-01T22:25:08.285Z"
   },
   {
    "duration": 4,
    "start_time": "2022-08-01T22:25:08.297Z"
   },
   {
    "duration": 7,
    "start_time": "2022-08-01T22:25:08.302Z"
   },
   {
    "duration": 3,
    "start_time": "2022-08-01T22:25:09.039Z"
   },
   {
    "duration": 3,
    "start_time": "2022-08-01T22:25:09.290Z"
   },
   {
    "duration": 3026,
    "start_time": "2022-08-01T22:25:09.517Z"
   },
   {
    "duration": 410,
    "start_time": "2022-08-01T22:25:12.633Z"
   },
   {
    "duration": 4,
    "start_time": "2022-08-01T22:25:13.135Z"
   },
   {
    "duration": 5,
    "start_time": "2022-08-01T22:25:13.141Z"
   },
   {
    "duration": 5,
    "start_time": "2022-08-01T22:25:13.148Z"
   },
   {
    "duration": 2468,
    "start_time": "2022-08-01T22:25:14.639Z"
   },
   {
    "duration": 12,
    "start_time": "2022-08-01T22:25:17.108Z"
   },
   {
    "duration": 4,
    "start_time": "2022-08-01T22:25:17.122Z"
   },
   {
    "duration": 10,
    "start_time": "2022-08-01T22:25:17.127Z"
   },
   {
    "duration": 6,
    "start_time": "2022-08-01T22:25:17.620Z"
   },
   {
    "duration": 2,
    "start_time": "2022-08-01T22:25:18.374Z"
   },
   {
    "duration": 38,
    "start_time": "2022-08-01T22:25:19.741Z"
   },
   {
    "duration": 7,
    "start_time": "2022-08-01T22:25:20.370Z"
   },
   {
    "duration": 4,
    "start_time": "2022-08-01T22:25:22.265Z"
   },
   {
    "duration": 3,
    "start_time": "2022-08-01T22:25:25.051Z"
   },
   {
    "duration": 3092,
    "start_time": "2022-08-01T22:25:25.468Z"
   },
   {
    "duration": 12,
    "start_time": "2022-08-01T22:25:28.562Z"
   },
   {
    "duration": 4,
    "start_time": "2022-08-01T22:25:28.575Z"
   },
   {
    "duration": 6,
    "start_time": "2022-08-01T22:34:22.124Z"
   },
   {
    "duration": 2,
    "start_time": "2022-08-01T22:34:22.730Z"
   },
   {
    "duration": 3149,
    "start_time": "2022-08-01T22:34:23.619Z"
   },
   {
    "duration": 13,
    "start_time": "2022-08-01T22:34:27.512Z"
   },
   {
    "duration": 11,
    "start_time": "2022-08-01T22:34:28.616Z"
   },
   {
    "duration": 1957,
    "start_time": "2022-08-01T22:39:06.911Z"
   },
   {
    "duration": 1268,
    "start_time": "2022-08-01T22:39:08.871Z"
   },
   {
    "duration": 745,
    "start_time": "2022-08-01T22:39:10.140Z"
   },
   {
    "duration": 20,
    "start_time": "2022-08-01T22:39:10.887Z"
   },
   {
    "duration": 126,
    "start_time": "2022-08-01T22:39:10.908Z"
   },
   {
    "duration": 422,
    "start_time": "2022-08-01T22:39:11.036Z"
   },
   {
    "duration": 818,
    "start_time": "2022-08-01T22:39:11.459Z"
   },
   {
    "duration": 43,
    "start_time": "2022-08-01T22:39:12.278Z"
   },
   {
    "duration": 343,
    "start_time": "2022-08-01T22:39:12.334Z"
   },
   {
    "duration": 1002,
    "start_time": "2022-08-01T22:39:12.679Z"
   },
   {
    "duration": 18,
    "start_time": "2022-08-01T22:39:13.683Z"
   },
   {
    "duration": 42,
    "start_time": "2022-08-01T22:39:13.702Z"
   },
   {
    "duration": 47,
    "start_time": "2022-08-01T22:39:13.746Z"
   },
   {
    "duration": 61,
    "start_time": "2022-08-01T22:39:13.795Z"
   },
   {
    "duration": 48,
    "start_time": "2022-08-01T22:39:13.858Z"
   },
   {
    "duration": 32,
    "start_time": "2022-08-01T22:39:13.907Z"
   },
   {
    "duration": 20,
    "start_time": "2022-08-01T22:39:13.941Z"
   },
   {
    "duration": 7,
    "start_time": "2022-08-01T22:39:13.962Z"
   },
   {
    "duration": 76,
    "start_time": "2022-08-01T22:39:13.970Z"
   },
   {
    "duration": 2,
    "start_time": "2022-08-01T22:39:14.048Z"
   },
   {
    "duration": 660,
    "start_time": "2022-08-01T22:39:14.051Z"
   },
   {
    "duration": 10,
    "start_time": "2022-08-01T22:39:14.713Z"
   },
   {
    "duration": 47,
    "start_time": "2022-08-01T22:39:14.725Z"
   },
   {
    "duration": 102,
    "start_time": "2022-08-01T22:39:14.773Z"
   },
   {
    "duration": 11,
    "start_time": "2022-08-01T22:39:14.877Z"
   },
   {
    "duration": 8,
    "start_time": "2022-08-01T22:39:14.889Z"
   },
   {
    "duration": 6,
    "start_time": "2022-08-01T22:39:14.898Z"
   },
   {
    "duration": 3,
    "start_time": "2022-08-01T22:39:14.907Z"
   },
   {
    "duration": 58,
    "start_time": "2022-08-01T22:39:14.911Z"
   },
   {
    "duration": 69,
    "start_time": "2022-08-01T22:39:14.971Z"
   },
   {
    "duration": 97,
    "start_time": "2022-08-01T22:39:15.041Z"
   },
   {
    "duration": 9,
    "start_time": "2022-08-01T22:39:15.140Z"
   },
   {
    "duration": 7,
    "start_time": "2022-08-01T22:39:15.150Z"
   },
   {
    "duration": 6,
    "start_time": "2022-08-01T22:39:15.158Z"
   },
   {
    "duration": 4431,
    "start_time": "2022-08-01T22:39:15.165Z"
   },
   {
    "duration": 2,
    "start_time": "2022-08-01T22:39:19.598Z"
   },
   {
    "duration": 315,
    "start_time": "2022-08-01T22:39:19.602Z"
   },
   {
    "duration": 15,
    "start_time": "2022-08-01T22:39:19.919Z"
   },
   {
    "duration": 3,
    "start_time": "2022-08-01T22:39:19.936Z"
   },
   {
    "duration": 7,
    "start_time": "2022-08-01T22:39:19.940Z"
   },
   {
    "duration": 4,
    "start_time": "2022-08-01T22:39:19.948Z"
   },
   {
    "duration": 4,
    "start_time": "2022-08-01T22:39:19.953Z"
   },
   {
    "duration": 3087,
    "start_time": "2022-08-01T22:39:19.958Z"
   },
   {
    "duration": 408,
    "start_time": "2022-08-01T22:39:23.134Z"
   },
   {
    "duration": 91,
    "start_time": "2022-08-01T22:39:23.544Z"
   },
   {
    "duration": 6,
    "start_time": "2022-08-01T22:39:23.637Z"
   },
   {
    "duration": 5,
    "start_time": "2022-08-01T22:39:23.644Z"
   },
   {
    "duration": 2583,
    "start_time": "2022-08-01T22:39:23.650Z"
   },
   {
    "duration": 12,
    "start_time": "2022-08-01T22:39:26.235Z"
   },
   {
    "duration": 4,
    "start_time": "2022-08-01T22:39:26.248Z"
   },
   {
    "duration": 6,
    "start_time": "2022-08-01T22:39:26.254Z"
   },
   {
    "duration": 5,
    "start_time": "2022-08-01T22:39:26.261Z"
   },
   {
    "duration": 6,
    "start_time": "2022-08-01T22:39:26.267Z"
   },
   {
    "duration": 9,
    "start_time": "2022-08-01T22:39:26.275Z"
   },
   {
    "duration": 8,
    "start_time": "2022-08-01T22:39:26.286Z"
   },
   {
    "duration": 5,
    "start_time": "2022-08-01T22:39:26.296Z"
   },
   {
    "duration": 3278,
    "start_time": "2022-08-01T22:39:26.302Z"
   },
   {
    "duration": 12,
    "start_time": "2022-08-01T22:39:29.581Z"
   },
   {
    "duration": 6,
    "start_time": "2022-08-01T22:39:29.594Z"
   },
   {
    "duration": 3,
    "start_time": "2022-08-01T22:42:03.039Z"
   },
   {
    "duration": 4,
    "start_time": "2022-08-01T22:42:03.541Z"
   },
   {
    "duration": 8,
    "start_time": "2022-08-01T22:42:04.013Z"
   }
  ],
  "kernelspec": {
   "display_name": "Python 3 (ipykernel)",
   "language": "python",
   "name": "python3"
  },
  "language_info": {
   "codemirror_mode": {
    "name": "ipython",
    "version": 3
   },
   "file_extension": ".py",
   "mimetype": "text/x-python",
   "name": "python",
   "nbconvert_exporter": "python",
   "pygments_lexer": "ipython3",
   "version": "3.9.7"
  },
  "toc": {
   "base_numbering": 1,
   "nav_menu": {},
   "number_sections": true,
   "sideBar": true,
   "skip_h1_title": true,
   "title_cell": "Table of Contents",
   "title_sidebar": "Contents",
   "toc_cell": false,
   "toc_position": {
    "height": "calc(100% - 180px)",
    "left": "10px",
    "top": "150px",
    "width": "201.594px"
   },
   "toc_section_display": true,
   "toc_window_display": true
  }
 },
 "nbformat": 4,
 "nbformat_minor": 2
}
